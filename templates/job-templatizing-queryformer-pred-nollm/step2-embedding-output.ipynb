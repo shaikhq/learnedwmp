{
 "cells": [
  {
   "cell_type": "code",
   "execution_count": 1,
   "id": "5a1eb293",
   "metadata": {
    "execution": {
     "iopub.execute_input": "2025-01-14T03:23:49.255121Z",
     "iopub.status.busy": "2025-01-14T03:23:49.254499Z",
     "iopub.status.idle": "2025-01-14T03:23:52.374093Z",
     "shell.execute_reply": "2025-01-14T03:23:52.372976Z"
    },
    "papermill": {
     "duration": 3.131399,
     "end_time": "2025-01-14T03:23:52.376512",
     "exception": false,
     "start_time": "2025-01-14T03:23:49.245113",
     "status": "completed"
    },
    "tags": []
   },
   "outputs": [],
   "source": [
    "import pandas as pd\n",
    "import os\n",
    "import torch\n",
    "from model.database_util import *"
   ]
  },
  {
   "cell_type": "code",
   "execution_count": 2,
   "id": "7aa17691",
   "metadata": {
    "execution": {
     "iopub.execute_input": "2025-01-14T03:23:52.390693Z",
     "iopub.status.busy": "2025-01-14T03:23:52.389427Z",
     "iopub.status.idle": "2025-01-14T03:23:52.401033Z",
     "shell.execute_reply": "2025-01-14T03:23:52.399428Z"
    },
    "papermill": {
     "duration": 0.021779,
     "end_time": "2025-01-14T03:23:52.403746",
     "exception": false,
     "start_time": "2025-01-14T03:23:52.381967",
     "status": "completed"
    },
    "tags": []
   },
   "outputs": [],
   "source": [
    "import torch\n",
    "from model.util import Normalizer\n",
    "\n",
    "# cost_norm = Normalizer(1, 100)\n",
    "# cost_norm = Normalizer(-3.61192, 12.290855)\n",
    "#cost_norm = Normalizer(5, 2611)\n",
    "cost_norm = Normalizer(8.26, 11.12)"
   ]
  },
  {
   "cell_type": "markdown",
   "id": "e36d6809",
   "metadata": {
    "papermill": {
     "duration": 0.005146,
     "end_time": "2025-01-14T03:23:52.413967",
     "exception": false,
     "start_time": "2025-01-14T03:23:52.408821",
     "status": "completed"
    },
    "tags": []
   },
   "source": [
    "## Define Model"
   ]
  },
  {
   "cell_type": "code",
   "execution_count": 3,
   "id": "bb6320aa",
   "metadata": {
    "execution": {
     "iopub.execute_input": "2025-01-14T03:23:52.426990Z",
     "iopub.status.busy": "2025-01-14T03:23:52.425940Z",
     "iopub.status.idle": "2025-01-14T03:23:52.438002Z",
     "shell.execute_reply": "2025-01-14T03:23:52.436114Z"
    },
    "papermill": {
     "duration": 0.021603,
     "end_time": "2025-01-14T03:23:52.440461",
     "exception": false,
     "start_time": "2025-01-14T03:23:52.418858",
     "status": "completed"
    },
    "tags": []
   },
   "outputs": [],
   "source": [
    "class Args:\n",
    "    # bs = 1024\n",
    "    # SQ: smaller batch size\n",
    "    bs = 64\n",
    "    # bs = 10\n",
    "    #lr = 0.001\n",
    "    lr = 0.001\n",
    "    # epochs = 200\n",
    "    epochs = 50\n",
    "    clip_size = 50\n",
    "    embed_size = 64\n",
    "    pred_hid = 128\n",
    "    ffn_dim = 128\n",
    "    head_size = 12\n",
    "    n_layers = 8\n",
    "    dropout = 0.1\n",
    "    sch_decay = 0.6\n",
    "    # device = 'cuda:0'\n",
    "    device = 'cpu'\n",
    "    newpath = 'job_queries_training'\n",
    "    to_predict = 'cost'\n",
    "args = Args()\n",
    "\n",
    "import os\n",
    "if not os.path.exists(args.newpath):\n",
    "    os.makedirs(args.newpath)"
   ]
  },
  {
   "cell_type": "code",
   "execution_count": 4,
   "id": "cc3de9ff",
   "metadata": {
    "execution": {
     "iopub.execute_input": "2025-01-14T03:23:52.452254Z",
     "iopub.status.busy": "2025-01-14T03:23:52.451845Z",
     "iopub.status.idle": "2025-01-14T03:23:52.627981Z",
     "shell.execute_reply": "2025-01-14T03:23:52.626788Z"
    },
    "papermill": {
     "duration": 0.185109,
     "end_time": "2025-01-14T03:23:52.630780",
     "exception": false,
     "start_time": "2025-01-14T03:23:52.445671",
     "status": "completed"
    },
    "tags": []
   },
   "outputs": [],
   "source": [
    "from model.model import QueryFormer\n",
    "\n",
    "model = QueryFormer(emb_size = args.embed_size ,ffn_dim = args.ffn_dim, head_size = args.head_size, \\\n",
    "                 dropout = args.dropout, n_layers = args.n_layers, \\\n",
    "                 use_sample = False, use_hist = False, \\\n",
    "                 pred_hid = args.pred_hid\n",
    "                )"
   ]
  },
  {
   "cell_type": "code",
   "execution_count": 5,
   "id": "9586539f",
   "metadata": {
    "execution": {
     "iopub.execute_input": "2025-01-14T03:23:52.642964Z",
     "iopub.status.busy": "2025-01-14T03:23:52.642612Z",
     "iopub.status.idle": "2025-01-14T03:23:52.653382Z",
     "shell.execute_reply": "2025-01-14T03:23:52.652143Z"
    },
    "papermill": {
     "duration": 0.020481,
     "end_time": "2025-01-14T03:23:52.656367",
     "exception": false,
     "start_time": "2025-01-14T03:23:52.635886",
     "status": "completed"
    },
    "tags": []
   },
   "outputs": [],
   "source": [
    "from model.dataset import PlanTreeDataset"
   ]
  },
  {
   "cell_type": "markdown",
   "id": "6e85c880",
   "metadata": {
    "papermill": {
     "duration": 0.00568,
     "end_time": "2025-01-14T03:23:52.667077",
     "exception": false,
     "start_time": "2025-01-14T03:23:52.661397",
     "status": "completed"
    },
    "tags": []
   },
   "source": [
    "## TEST - Loading 10 tensors"
   ]
  },
  {
   "cell_type": "code",
   "execution_count": 6,
   "id": "f18bc523",
   "metadata": {
    "execution": {
     "iopub.execute_input": "2025-01-14T03:23:52.679511Z",
     "iopub.status.busy": "2025-01-14T03:23:52.679117Z",
     "iopub.status.idle": "2025-01-14T03:24:03.972904Z",
     "shell.execute_reply": "2025-01-14T03:24:03.971344Z"
    },
    "papermill": {
     "duration": 11.30382,
     "end_time": "2025-01-14T03:24:03.975941",
     "exception": false,
     "start_time": "2025-01-14T03:23:52.672121",
     "status": "completed"
    },
    "tags": []
   },
   "outputs": [
    {
     "name": "stdout",
     "output_type": "stream",
     "text": [
      "Training Dataset length: 1865\n",
      "Validation Dataset length: 467\n",
      "Validation data saved to ./val_data.json\n",
      "Training data saved to ./train_data.json\n"
     ]
    }
   ],
   "source": [
    "import os\n",
    "import torch\n",
    "import numpy as np\n",
    "from sklearn.model_selection import train_test_split\n",
    "from model.dataset import PlanTreeDataset  # Assuming PlanTreeDataset is defined elsewhere\n",
    "import json\n",
    "\n",
    "# Path to the tensors folder\n",
    "tensors_dir = \"./job_queries/tensors\"\n",
    "\n",
    "# Validate if the tensors directory exists\n",
    "if not os.path.exists(tensors_dir):\n",
    "    raise FileNotFoundError(f\"Tensors directory '{tensors_dir}' not found.\")\n",
    "\n",
    "# Get all tensor file paths from the directory\n",
    "tensor_files = sorted(os.listdir(tensors_dir))\n",
    "\n",
    "# Validate if tensor files exist in the directory\n",
    "if not tensor_files:\n",
    "    raise FileNotFoundError(f\"No tensor files found in '{tensors_dir}'.\")\n",
    "\n",
    "# Initialize lists to store tensor components\n",
    "x_list = []\n",
    "rel_pos_list = []\n",
    "attn_bias_list = []\n",
    "heights_list = []\n",
    "cost_labels_list = []\n",
    "raw_costs_list = []\n",
    "\n",
    "# Load tensors dynamically\n",
    "for tensor_file in tensor_files:\n",
    "    tensor_path = os.path.join(tensors_dir, tensor_file)\n",
    "    try:\n",
    "        loaded_tensors = torch.load(tensor_path)\n",
    "        # Append components to respective lists\n",
    "        x_list.append(loaded_tensors[\"x\"])\n",
    "        rel_pos_list.append(loaded_tensors[\"rel_pos\"])\n",
    "        attn_bias_list.append(loaded_tensors[\"attn_bias\"])\n",
    "        heights_list.append(loaded_tensors[\"heights\"])\n",
    "        cost_labels_list.append(loaded_tensors[\"cost_labels\"])\n",
    "        raw_costs_list.append(loaded_tensors[\"raw_costs\"])\n",
    "    except Exception as e:\n",
    "        print(f\"Error loading tensor file '{tensor_file}': {e}\")\n",
    "\n",
    "# Generate indices for splitting\n",
    "num_examples = len(x_list)\n",
    "if num_examples == 0:\n",
    "    raise ValueError(\"No valid tensors loaded for dataset creation.\")\n",
    "    \n",
    "all_indices = np.arange(num_examples)\n",
    "\n",
    "# Perform train-validation split with fixed seed for reproducibility\n",
    "train_indices, val_indices = train_test_split(all_indices, test_size=0.2, random_state=0)\n",
    "\n",
    "# Create training and validation datasets\n",
    "train_dataset = PlanTreeDataset(\n",
    "    len(train_indices),\n",
    "    [x_list[i] for i in train_indices],\n",
    "    [attn_bias_list[i] for i in train_indices],\n",
    "    [rel_pos_list[i] for i in train_indices],\n",
    "    [heights_list[i] for i in train_indices],\n",
    "    [cost_labels_list[i] for i in train_indices],\n",
    "    [raw_costs_list[i] for i in train_indices]\n",
    ")\n",
    "\n",
    "val_dataset = PlanTreeDataset(\n",
    "    len(val_indices),\n",
    "    [x_list[i] for i in val_indices],\n",
    "    [attn_bias_list[i] for i in val_indices],\n",
    "    [rel_pos_list[i] for i in val_indices],\n",
    "    [heights_list[i] for i in val_indices],\n",
    "    [cost_labels_list[i] for i in val_indices],\n",
    "    [raw_costs_list[i] for i in val_indices]\n",
    ")\n",
    "\n",
    "# Save validation indices and file names\n",
    "val_file_names = [tensor_files[i] for i in val_indices]\n",
    "val_data = {\n",
    "    \"val_indices\": val_indices.tolist(),\n",
    "    \"file_names\": val_file_names,\n",
    "}\n",
    "\n",
    "val_data_file = \"./val_data.json\"\n",
    "with open(val_data_file, \"w\") as f:\n",
    "    json.dump(val_data, f)\n",
    "\n",
    "# Save training indices and file names\n",
    "train_file_names = [tensor_files[i] for i in train_indices]\n",
    "train_data = {\n",
    "    \"train_indices\": train_indices.tolist(),\n",
    "    \"file_names\": train_file_names,\n",
    "}\n",
    "\n",
    "train_data_file = \"./train_data.json\"\n",
    "with open(train_data_file, \"w\") as f:\n",
    "    json.dump(train_data, f)\n",
    "\n",
    "# Print information\n",
    "print(\"Training Dataset length:\", len(train_dataset))\n",
    "print(\"Validation Dataset length:\", len(val_dataset))\n",
    "print(f\"Validation data saved to {val_data_file}\")\n",
    "print(f\"Training data saved to {train_data_file}\")"
   ]
  },
  {
   "cell_type": "code",
   "execution_count": 7,
   "id": "15d6355a",
   "metadata": {
    "execution": {
     "iopub.execute_input": "2025-01-14T03:24:03.991643Z",
     "iopub.status.busy": "2025-01-14T03:24:03.991079Z",
     "iopub.status.idle": "2025-01-14T03:24:04.020785Z",
     "shell.execute_reply": "2025-01-14T03:24:04.019728Z"
    },
    "papermill": {
     "duration": 0.040131,
     "end_time": "2025-01-14T03:24:04.023116",
     "exception": false,
     "start_time": "2025-01-14T03:24:03.982985",
     "status": "completed"
    },
    "tags": []
   },
   "outputs": [
    {
     "name": "stdout",
     "output_type": "stream",
     "text": [
      "Validation DataFrame:\n",
      "   val_index                                  filename\n",
      "0       1056  query_1952_2024-12-03-21.34.02.429279.pt\n",
      "1       2323   query_993_2024-12-03-21.10.08.618148.pt\n",
      "2        655  query_1591_2024-12-03-21.23.17.861948.pt\n",
      "3       2101   query_793_2024-12-03-21.05.49.462784.pt\n",
      "4       1401  query_2262_2024-12-03-21.44.00.539251.pt\n",
      "Validation data saved to ./val_data.csv\n",
      "Training DataFrame:\n",
      "   train_index                                  filename\n",
      "0          812  query_1732_2024-12-03-21.27.45.652122.pt\n",
      "1          233  query_1210_2024-12-03-21.14.50.599373.pt\n",
      "2         1380  query_2243_2024-12-03-21.43.30.935782.pt\n",
      "3         1752   query_479_2024-12-03-20.59.07.992844.pt\n",
      "4         1334  query_2201_2024-12-03-21.42.07.400700.pt\n",
      "Training data saved to ./train_data.csv\n"
     ]
    }
   ],
   "source": [
    "import pandas as pd\n",
    "import json\n",
    "\n",
    "# File paths\n",
    "val_data_file = \"./val_data.json\"\n",
    "train_data_file = \"./train_data.json\"\n",
    "\n",
    "# Load validation data from JSON file\n",
    "with open(val_data_file, \"r\") as f:\n",
    "    loaded_val_data = json.load(f)\n",
    "\n",
    "loaded_val_indices = loaded_val_data[\"val_indices\"]\n",
    "loaded_val_file_names = loaded_val_data[\"file_names\"]\n",
    "\n",
    "# Create a DataFrame for validation data\n",
    "val_data_df = pd.DataFrame({\n",
    "    \"val_index\": loaded_val_indices,\n",
    "    \"filename\": loaded_val_file_names\n",
    "})\n",
    "\n",
    "# Display the Validation DataFrame\n",
    "print(\"Validation DataFrame:\")\n",
    "print(val_data_df.head())\n",
    "\n",
    "# Save validation data to CSV\n",
    "val_data_df.to_csv(\"./val_data.csv\", index=False)\n",
    "print(\"Validation data saved to ./val_data.csv\")\n",
    "\n",
    "# Load training data from JSON file\n",
    "with open(train_data_file, \"r\") as f:\n",
    "    loaded_train_data = json.load(f)\n",
    "\n",
    "loaded_train_indices = loaded_train_data[\"train_indices\"]\n",
    "loaded_train_file_names = loaded_train_data[\"file_names\"]\n",
    "\n",
    "# Create a DataFrame for training data\n",
    "train_data_df = pd.DataFrame({\n",
    "    \"train_index\": loaded_train_indices,\n",
    "    \"filename\": loaded_train_file_names\n",
    "})\n",
    "\n",
    "# Display the Training DataFrame\n",
    "print(\"Training DataFrame:\")\n",
    "print(train_data_df.head())\n",
    "\n",
    "# Save training data to CSV\n",
    "train_data_df.to_csv(\"./train_data.csv\", index=False)\n",
    "print(\"Training data saved to ./train_data.csv\")\n"
   ]
  },
  {
   "cell_type": "code",
   "execution_count": 8,
   "id": "e22ba5fd",
   "metadata": {
    "execution": {
     "iopub.execute_input": "2025-01-14T03:24:04.036761Z",
     "iopub.status.busy": "2025-01-14T03:24:04.035849Z",
     "iopub.status.idle": "2025-01-14T03:24:04.049260Z",
     "shell.execute_reply": "2025-01-14T03:24:04.047918Z"
    },
    "papermill": {
     "duration": 0.023518,
     "end_time": "2025-01-14T03:24:04.051500",
     "exception": false,
     "start_time": "2025-01-14T03:24:04.027982",
     "status": "completed"
    },
    "tags": []
   },
   "outputs": [
    {
     "data": {
      "text/plain": [
       "1865"
      ]
     },
     "execution_count": 8,
     "metadata": {},
     "output_type": "execute_result"
    }
   ],
   "source": [
    "len(train_dataset)"
   ]
  },
  {
   "cell_type": "code",
   "execution_count": 9,
   "id": "83c90e91",
   "metadata": {
    "execution": {
     "iopub.execute_input": "2025-01-14T03:24:04.067316Z",
     "iopub.status.busy": "2025-01-14T03:24:04.066603Z",
     "iopub.status.idle": "2025-01-14T03:24:04.075580Z",
     "shell.execute_reply": "2025-01-14T03:24:04.074326Z"
    },
    "papermill": {
     "duration": 0.023047,
     "end_time": "2025-01-14T03:24:04.079922",
     "exception": false,
     "start_time": "2025-01-14T03:24:04.056875",
     "status": "completed"
    },
    "tags": []
   },
   "outputs": [
    {
     "data": {
      "text/plain": [
       "10"
      ]
     },
     "execution_count": 9,
     "metadata": {},
     "output_type": "execute_result"
    }
   ],
   "source": [
    "len(train_dataset[:10])"
   ]
  },
  {
   "cell_type": "code",
   "execution_count": 10,
   "id": "1a7a3497",
   "metadata": {
    "execution": {
     "iopub.execute_input": "2025-01-14T03:24:04.107054Z",
     "iopub.status.busy": "2025-01-14T03:24:04.106668Z",
     "iopub.status.idle": "2025-01-14T03:44:27.799042Z",
     "shell.execute_reply": "2025-01-14T03:44:27.796680Z"
    },
    "papermill": {
     "duration": 1223.712894,
     "end_time": "2025-01-14T03:44:27.805451",
     "exception": false,
     "start_time": "2025-01-14T03:24:04.092557",
     "status": "completed"
    },
    "tags": []
   },
   "outputs": [
    {
     "name": "stdout",
     "output_type": "stream",
     "text": [
      "running epoch: 0\n",
      "final.shape: torch.Size([1920, 256])\n"
     ]
    },
    {
     "name": "stdout",
     "output_type": "stream",
     "text": [
      "final.shape: torch.Size([1920, 256])\n"
     ]
    },
    {
     "name": "stdout",
     "output_type": "stream",
     "text": [
      "final.shape: torch.Size([1920, 256])\n"
     ]
    },
    {
     "name": "stdout",
     "output_type": "stream",
     "text": [
      "final.shape: torch.Size([1920, 256])\n"
     ]
    },
    {
     "name": "stdout",
     "output_type": "stream",
     "text": [
      "final.shape: torch.Size([1920, 256])\n"
     ]
    },
    {
     "name": "stdout",
     "output_type": "stream",
     "text": [
      "final.shape: torch.Size([1920, 256])\n"
     ]
    },
    {
     "name": "stdout",
     "output_type": "stream",
     "text": [
      "final.shape: torch.Size([1920, 256])\n"
     ]
    },
    {
     "name": "stdout",
     "output_type": "stream",
     "text": [
      "final.shape: torch.Size([1920, 256])\n"
     ]
    },
    {
     "name": "stdout",
     "output_type": "stream",
     "text": [
      "final.shape: torch.Size([1920, 256])\n"
     ]
    },
    {
     "name": "stdout",
     "output_type": "stream",
     "text": [
      "final.shape: torch.Size([1920, 256])\n"
     ]
    },
    {
     "name": "stdout",
     "output_type": "stream",
     "text": [
      "final.shape: torch.Size([1920, 256])\n"
     ]
    },
    {
     "name": "stdout",
     "output_type": "stream",
     "text": [
      "final.shape: torch.Size([1920, 256])\n"
     ]
    },
    {
     "name": "stdout",
     "output_type": "stream",
     "text": [
      "final.shape: torch.Size([1920, 256])\n"
     ]
    },
    {
     "name": "stdout",
     "output_type": "stream",
     "text": [
      "final.shape: torch.Size([1920, 256])\n"
     ]
    },
    {
     "name": "stdout",
     "output_type": "stream",
     "text": [
      "final.shape: torch.Size([1920, 256])\n"
     ]
    },
    {
     "name": "stdout",
     "output_type": "stream",
     "text": [
      "final.shape: torch.Size([1920, 256])\n"
     ]
    },
    {
     "name": "stdout",
     "output_type": "stream",
     "text": [
      "final.shape: torch.Size([1920, 256])\n"
     ]
    },
    {
     "name": "stdout",
     "output_type": "stream",
     "text": [
      "final.shape: torch.Size([1920, 256])\n"
     ]
    },
    {
     "name": "stdout",
     "output_type": "stream",
     "text": [
      "final.shape: torch.Size([1920, 256])\n"
     ]
    },
    {
     "name": "stdout",
     "output_type": "stream",
     "text": [
      "final.shape: torch.Size([1920, 256])\n"
     ]
    },
    {
     "name": "stdout",
     "output_type": "stream",
     "text": [
      "final.shape: torch.Size([1920, 256])\n"
     ]
    },
    {
     "name": "stdout",
     "output_type": "stream",
     "text": [
      "final.shape: torch.Size([1920, 256])\n"
     ]
    },
    {
     "name": "stdout",
     "output_type": "stream",
     "text": [
      "final.shape: torch.Size([1920, 256])\n"
     ]
    },
    {
     "name": "stdout",
     "output_type": "stream",
     "text": [
      "final.shape: torch.Size([1920, 256])\n"
     ]
    },
    {
     "name": "stdout",
     "output_type": "stream",
     "text": [
      "final.shape: torch.Size([1920, 256])\n"
     ]
    },
    {
     "name": "stdout",
     "output_type": "stream",
     "text": [
      "final.shape: torch.Size([1920, 256])\n"
     ]
    },
    {
     "name": "stdout",
     "output_type": "stream",
     "text": [
      "final.shape: torch.Size([1920, 256])\n"
     ]
    },
    {
     "name": "stdout",
     "output_type": "stream",
     "text": [
      "final.shape: torch.Size([1920, 256])\n"
     ]
    },
    {
     "name": "stdout",
     "output_type": "stream",
     "text": [
      "final.shape: torch.Size([1920, 256])\n"
     ]
    },
    {
     "name": "stdout",
     "output_type": "stream",
     "text": [
      "final.shape: torch.Size([270, 256])\n",
      "Epoch: 0  Avg Loss: 0.0006068162872248776, Time: 28.04075026512146\n"
     ]
    },
    {
     "name": "stdout",
     "output_type": "stream",
     "text": [
      "Median: 1.2897883221535524\n",
      "Mean: 1.6524052051654285\n",
      "running epoch: 1\n",
      "final.shape: torch.Size([1920, 256])\n"
     ]
    },
    {
     "name": "stdout",
     "output_type": "stream",
     "text": [
      "final.shape: torch.Size([1920, 256])\n"
     ]
    },
    {
     "name": "stdout",
     "output_type": "stream",
     "text": [
      "final.shape: torch.Size([1920, 256])\n"
     ]
    },
    {
     "name": "stdout",
     "output_type": "stream",
     "text": [
      "final.shape: torch.Size([1920, 256])\n"
     ]
    },
    {
     "name": "stdout",
     "output_type": "stream",
     "text": [
      "final.shape: torch.Size([1920, 256])\n"
     ]
    },
    {
     "name": "stdout",
     "output_type": "stream",
     "text": [
      "final.shape: torch.Size([1920, 256])\n"
     ]
    },
    {
     "name": "stdout",
     "output_type": "stream",
     "text": [
      "final.shape: torch.Size([1920, 256])\n"
     ]
    },
    {
     "name": "stdout",
     "output_type": "stream",
     "text": [
      "final.shape: torch.Size([1920, 256])\n"
     ]
    },
    {
     "name": "stdout",
     "output_type": "stream",
     "text": [
      "final.shape: torch.Size([1920, 256])\n"
     ]
    },
    {
     "name": "stdout",
     "output_type": "stream",
     "text": [
      "final.shape: torch.Size([1920, 256])\n"
     ]
    },
    {
     "name": "stdout",
     "output_type": "stream",
     "text": [
      "final.shape: torch.Size([1920, 256])\n"
     ]
    },
    {
     "name": "stdout",
     "output_type": "stream",
     "text": [
      "final.shape: torch.Size([1920, 256])\n"
     ]
    },
    {
     "name": "stdout",
     "output_type": "stream",
     "text": [
      "final.shape: torch.Size([1920, 256])\n"
     ]
    },
    {
     "name": "stdout",
     "output_type": "stream",
     "text": [
      "final.shape: torch.Size([1920, 256])\n"
     ]
    },
    {
     "name": "stdout",
     "output_type": "stream",
     "text": [
      "final.shape: torch.Size([1920, 256])\n"
     ]
    },
    {
     "name": "stdout",
     "output_type": "stream",
     "text": [
      "final.shape: torch.Size([1920, 256])\n"
     ]
    },
    {
     "name": "stdout",
     "output_type": "stream",
     "text": [
      "final.shape: torch.Size([1920, 256])\n"
     ]
    },
    {
     "name": "stdout",
     "output_type": "stream",
     "text": [
      "final.shape: torch.Size([1920, 256])\n"
     ]
    },
    {
     "name": "stdout",
     "output_type": "stream",
     "text": [
      "final.shape: torch.Size([1920, 256])\n"
     ]
    },
    {
     "name": "stdout",
     "output_type": "stream",
     "text": [
      "final.shape: torch.Size([1920, 256])\n"
     ]
    },
    {
     "name": "stdout",
     "output_type": "stream",
     "text": [
      "final.shape: torch.Size([1920, 256])\n"
     ]
    },
    {
     "name": "stdout",
     "output_type": "stream",
     "text": [
      "final.shape: torch.Size([1920, 256])\n"
     ]
    },
    {
     "name": "stdout",
     "output_type": "stream",
     "text": [
      "final.shape: torch.Size([1920, 256])\n"
     ]
    },
    {
     "name": "stdout",
     "output_type": "stream",
     "text": [
      "final.shape: torch.Size([1920, 256])\n"
     ]
    },
    {
     "name": "stdout",
     "output_type": "stream",
     "text": [
      "final.shape: torch.Size([1920, 256])\n"
     ]
    },
    {
     "name": "stdout",
     "output_type": "stream",
     "text": [
      "final.shape: torch.Size([1920, 256])\n"
     ]
    },
    {
     "name": "stdout",
     "output_type": "stream",
     "text": [
      "final.shape: torch.Size([1920, 256])\n"
     ]
    },
    {
     "name": "stdout",
     "output_type": "stream",
     "text": [
      "final.shape: torch.Size([1920, 256])\n"
     ]
    },
    {
     "name": "stdout",
     "output_type": "stream",
     "text": [
      "final.shape: torch.Size([1920, 256])\n"
     ]
    },
    {
     "name": "stdout",
     "output_type": "stream",
     "text": [
      "final.shape: torch.Size([270, 256])\n"
     ]
    },
    {
     "name": "stdout",
     "output_type": "stream",
     "text": [
      "running epoch: 2\n",
      "final.shape: torch.Size([1920, 256])\n"
     ]
    },
    {
     "name": "stdout",
     "output_type": "stream",
     "text": [
      "final.shape: torch.Size([1920, 256])\n"
     ]
    },
    {
     "name": "stdout",
     "output_type": "stream",
     "text": [
      "final.shape: torch.Size([1920, 256])\n"
     ]
    },
    {
     "name": "stdout",
     "output_type": "stream",
     "text": [
      "final.shape: torch.Size([1920, 256])\n"
     ]
    },
    {
     "name": "stdout",
     "output_type": "stream",
     "text": [
      "final.shape: torch.Size([1920, 256])\n"
     ]
    },
    {
     "name": "stdout",
     "output_type": "stream",
     "text": [
      "final.shape: torch.Size([1920, 256])\n"
     ]
    },
    {
     "name": "stdout",
     "output_type": "stream",
     "text": [
      "final.shape: torch.Size([1920, 256])\n"
     ]
    },
    {
     "name": "stdout",
     "output_type": "stream",
     "text": [
      "final.shape: torch.Size([1920, 256])\n"
     ]
    },
    {
     "name": "stdout",
     "output_type": "stream",
     "text": [
      "final.shape: torch.Size([1920, 256])\n"
     ]
    },
    {
     "name": "stdout",
     "output_type": "stream",
     "text": [
      "final.shape: torch.Size([1920, 256])\n"
     ]
    },
    {
     "name": "stdout",
     "output_type": "stream",
     "text": [
      "final.shape: torch.Size([1920, 256])\n"
     ]
    },
    {
     "name": "stdout",
     "output_type": "stream",
     "text": [
      "final.shape: torch.Size([1920, 256])\n"
     ]
    },
    {
     "name": "stdout",
     "output_type": "stream",
     "text": [
      "final.shape: torch.Size([1920, 256])\n"
     ]
    },
    {
     "name": "stdout",
     "output_type": "stream",
     "text": [
      "final.shape: torch.Size([1920, 256])\n"
     ]
    },
    {
     "name": "stdout",
     "output_type": "stream",
     "text": [
      "final.shape: torch.Size([1920, 256])\n"
     ]
    },
    {
     "name": "stdout",
     "output_type": "stream",
     "text": [
      "final.shape: torch.Size([1920, 256])\n"
     ]
    },
    {
     "name": "stdout",
     "output_type": "stream",
     "text": [
      "final.shape: torch.Size([1920, 256])\n"
     ]
    },
    {
     "name": "stdout",
     "output_type": "stream",
     "text": [
      "final.shape: torch.Size([1920, 256])\n"
     ]
    },
    {
     "name": "stdout",
     "output_type": "stream",
     "text": [
      "final.shape: torch.Size([1920, 256])\n"
     ]
    },
    {
     "name": "stdout",
     "output_type": "stream",
     "text": [
      "final.shape: torch.Size([1920, 256])\n"
     ]
    },
    {
     "name": "stdout",
     "output_type": "stream",
     "text": [
      "final.shape: torch.Size([1920, 256])\n"
     ]
    },
    {
     "name": "stdout",
     "output_type": "stream",
     "text": [
      "final.shape: torch.Size([1920, 256])\n"
     ]
    },
    {
     "name": "stdout",
     "output_type": "stream",
     "text": [
      "final.shape: torch.Size([1920, 256])\n"
     ]
    },
    {
     "name": "stdout",
     "output_type": "stream",
     "text": [
      "final.shape: torch.Size([1920, 256])\n"
     ]
    },
    {
     "name": "stdout",
     "output_type": "stream",
     "text": [
      "final.shape: torch.Size([1920, 256])\n"
     ]
    },
    {
     "name": "stdout",
     "output_type": "stream",
     "text": [
      "final.shape: torch.Size([1920, 256])\n"
     ]
    },
    {
     "name": "stdout",
     "output_type": "stream",
     "text": [
      "final.shape: torch.Size([1920, 256])\n"
     ]
    },
    {
     "name": "stdout",
     "output_type": "stream",
     "text": [
      "final.shape: torch.Size([1920, 256])\n"
     ]
    },
    {
     "name": "stdout",
     "output_type": "stream",
     "text": [
      "final.shape: torch.Size([1920, 256])\n"
     ]
    },
    {
     "name": "stdout",
     "output_type": "stream",
     "text": [
      "final.shape: torch.Size([270, 256])\n"
     ]
    },
    {
     "name": "stdout",
     "output_type": "stream",
     "text": [
      "running epoch: 3\n",
      "final.shape: torch.Size([1920, 256])\n"
     ]
    },
    {
     "name": "stdout",
     "output_type": "stream",
     "text": [
      "final.shape: torch.Size([1920, 256])\n"
     ]
    },
    {
     "name": "stdout",
     "output_type": "stream",
     "text": [
      "final.shape: torch.Size([1920, 256])\n"
     ]
    },
    {
     "name": "stdout",
     "output_type": "stream",
     "text": [
      "final.shape: torch.Size([1920, 256])\n"
     ]
    },
    {
     "name": "stdout",
     "output_type": "stream",
     "text": [
      "final.shape: torch.Size([1920, 256])\n"
     ]
    },
    {
     "name": "stdout",
     "output_type": "stream",
     "text": [
      "final.shape: torch.Size([1920, 256])\n"
     ]
    },
    {
     "name": "stdout",
     "output_type": "stream",
     "text": [
      "final.shape: torch.Size([1920, 256])\n"
     ]
    },
    {
     "name": "stdout",
     "output_type": "stream",
     "text": [
      "final.shape: torch.Size([1920, 256])\n"
     ]
    },
    {
     "name": "stdout",
     "output_type": "stream",
     "text": [
      "final.shape: torch.Size([1920, 256])\n"
     ]
    },
    {
     "name": "stdout",
     "output_type": "stream",
     "text": [
      "final.shape: torch.Size([1920, 256])\n"
     ]
    },
    {
     "name": "stdout",
     "output_type": "stream",
     "text": [
      "final.shape: torch.Size([1920, 256])\n"
     ]
    },
    {
     "name": "stdout",
     "output_type": "stream",
     "text": [
      "final.shape: torch.Size([1920, 256])\n"
     ]
    },
    {
     "name": "stdout",
     "output_type": "stream",
     "text": [
      "final.shape: torch.Size([1920, 256])\n"
     ]
    },
    {
     "name": "stdout",
     "output_type": "stream",
     "text": [
      "final.shape: torch.Size([1920, 256])\n"
     ]
    },
    {
     "name": "stdout",
     "output_type": "stream",
     "text": [
      "final.shape: torch.Size([1920, 256])\n"
     ]
    },
    {
     "name": "stdout",
     "output_type": "stream",
     "text": [
      "final.shape: torch.Size([1920, 256])\n"
     ]
    },
    {
     "name": "stdout",
     "output_type": "stream",
     "text": [
      "final.shape: torch.Size([1920, 256])\n"
     ]
    },
    {
     "name": "stdout",
     "output_type": "stream",
     "text": [
      "final.shape: torch.Size([1920, 256])\n"
     ]
    },
    {
     "name": "stdout",
     "output_type": "stream",
     "text": [
      "final.shape: torch.Size([1920, 256])\n"
     ]
    },
    {
     "name": "stdout",
     "output_type": "stream",
     "text": [
      "final.shape: torch.Size([1920, 256])\n"
     ]
    },
    {
     "name": "stdout",
     "output_type": "stream",
     "text": [
      "final.shape: torch.Size([1920, 256])\n"
     ]
    },
    {
     "name": "stdout",
     "output_type": "stream",
     "text": [
      "final.shape: torch.Size([1920, 256])\n"
     ]
    },
    {
     "name": "stdout",
     "output_type": "stream",
     "text": [
      "final.shape: torch.Size([1920, 256])\n"
     ]
    },
    {
     "name": "stdout",
     "output_type": "stream",
     "text": [
      "final.shape: torch.Size([1920, 256])\n"
     ]
    },
    {
     "name": "stdout",
     "output_type": "stream",
     "text": [
      "final.shape: torch.Size([1920, 256])\n"
     ]
    },
    {
     "name": "stdout",
     "output_type": "stream",
     "text": [
      "final.shape: torch.Size([1920, 256])\n"
     ]
    },
    {
     "name": "stdout",
     "output_type": "stream",
     "text": [
      "final.shape: torch.Size([1920, 256])\n"
     ]
    },
    {
     "name": "stdout",
     "output_type": "stream",
     "text": [
      "final.shape: torch.Size([1920, 256])\n"
     ]
    },
    {
     "name": "stdout",
     "output_type": "stream",
     "text": [
      "final.shape: torch.Size([1920, 256])\n"
     ]
    },
    {
     "name": "stdout",
     "output_type": "stream",
     "text": [
      "final.shape: torch.Size([270, 256])\n"
     ]
    },
    {
     "name": "stdout",
     "output_type": "stream",
     "text": [
      "running epoch: 4\n",
      "final.shape: torch.Size([1920, 256])\n"
     ]
    },
    {
     "name": "stdout",
     "output_type": "stream",
     "text": [
      "final.shape: torch.Size([1920, 256])\n"
     ]
    },
    {
     "name": "stdout",
     "output_type": "stream",
     "text": [
      "final.shape: torch.Size([1920, 256])\n"
     ]
    },
    {
     "name": "stdout",
     "output_type": "stream",
     "text": [
      "final.shape: torch.Size([1920, 256])\n"
     ]
    },
    {
     "name": "stdout",
     "output_type": "stream",
     "text": [
      "final.shape: torch.Size([1920, 256])\n"
     ]
    },
    {
     "name": "stdout",
     "output_type": "stream",
     "text": [
      "final.shape: torch.Size([1920, 256])\n"
     ]
    },
    {
     "name": "stdout",
     "output_type": "stream",
     "text": [
      "final.shape: torch.Size([1920, 256])\n"
     ]
    },
    {
     "name": "stdout",
     "output_type": "stream",
     "text": [
      "final.shape: torch.Size([1920, 256])\n"
     ]
    },
    {
     "name": "stdout",
     "output_type": "stream",
     "text": [
      "final.shape: torch.Size([1920, 256])\n"
     ]
    },
    {
     "name": "stdout",
     "output_type": "stream",
     "text": [
      "final.shape: torch.Size([1920, 256])\n"
     ]
    },
    {
     "name": "stdout",
     "output_type": "stream",
     "text": [
      "final.shape: torch.Size([1920, 256])\n"
     ]
    },
    {
     "name": "stdout",
     "output_type": "stream",
     "text": [
      "final.shape: torch.Size([1920, 256])\n"
     ]
    },
    {
     "name": "stdout",
     "output_type": "stream",
     "text": [
      "final.shape: torch.Size([1920, 256])\n"
     ]
    },
    {
     "name": "stdout",
     "output_type": "stream",
     "text": [
      "final.shape: torch.Size([1920, 256])\n"
     ]
    },
    {
     "name": "stdout",
     "output_type": "stream",
     "text": [
      "final.shape: torch.Size([1920, 256])\n"
     ]
    },
    {
     "name": "stdout",
     "output_type": "stream",
     "text": [
      "final.shape: torch.Size([1920, 256])\n"
     ]
    },
    {
     "name": "stdout",
     "output_type": "stream",
     "text": [
      "final.shape: torch.Size([1920, 256])\n"
     ]
    },
    {
     "name": "stdout",
     "output_type": "stream",
     "text": [
      "final.shape: torch.Size([1920, 256])\n"
     ]
    },
    {
     "name": "stdout",
     "output_type": "stream",
     "text": [
      "final.shape: torch.Size([1920, 256])\n"
     ]
    },
    {
     "name": "stdout",
     "output_type": "stream",
     "text": [
      "final.shape: torch.Size([1920, 256])\n"
     ]
    },
    {
     "name": "stdout",
     "output_type": "stream",
     "text": [
      "final.shape: torch.Size([1920, 256])\n"
     ]
    },
    {
     "name": "stdout",
     "output_type": "stream",
     "text": [
      "final.shape: torch.Size([1920, 256])\n"
     ]
    },
    {
     "name": "stdout",
     "output_type": "stream",
     "text": [
      "final.shape: torch.Size([1920, 256])\n"
     ]
    },
    {
     "name": "stdout",
     "output_type": "stream",
     "text": [
      "final.shape: torch.Size([1920, 256])\n"
     ]
    },
    {
     "name": "stdout",
     "output_type": "stream",
     "text": [
      "final.shape: torch.Size([1920, 256])\n"
     ]
    },
    {
     "name": "stdout",
     "output_type": "stream",
     "text": [
      "final.shape: torch.Size([1920, 256])\n"
     ]
    },
    {
     "name": "stdout",
     "output_type": "stream",
     "text": [
      "final.shape: torch.Size([1920, 256])\n"
     ]
    },
    {
     "name": "stdout",
     "output_type": "stream",
     "text": [
      "final.shape: torch.Size([1920, 256])\n"
     ]
    },
    {
     "name": "stdout",
     "output_type": "stream",
     "text": [
      "final.shape: torch.Size([1920, 256])\n"
     ]
    },
    {
     "name": "stdout",
     "output_type": "stream",
     "text": [
      "final.shape: torch.Size([270, 256])\n"
     ]
    },
    {
     "name": "stdout",
     "output_type": "stream",
     "text": [
      "running epoch: 5\n",
      "final.shape: torch.Size([1920, 256])\n"
     ]
    },
    {
     "name": "stdout",
     "output_type": "stream",
     "text": [
      "final.shape: torch.Size([1920, 256])\n"
     ]
    },
    {
     "name": "stdout",
     "output_type": "stream",
     "text": [
      "final.shape: torch.Size([1920, 256])\n"
     ]
    },
    {
     "name": "stdout",
     "output_type": "stream",
     "text": [
      "final.shape: torch.Size([1920, 256])\n"
     ]
    },
    {
     "name": "stdout",
     "output_type": "stream",
     "text": [
      "final.shape: torch.Size([1920, 256])\n"
     ]
    },
    {
     "name": "stdout",
     "output_type": "stream",
     "text": [
      "final.shape: torch.Size([1920, 256])\n"
     ]
    },
    {
     "name": "stdout",
     "output_type": "stream",
     "text": [
      "final.shape: torch.Size([1920, 256])\n"
     ]
    },
    {
     "name": "stdout",
     "output_type": "stream",
     "text": [
      "final.shape: torch.Size([1920, 256])\n"
     ]
    },
    {
     "name": "stdout",
     "output_type": "stream",
     "text": [
      "final.shape: torch.Size([1920, 256])\n"
     ]
    },
    {
     "name": "stdout",
     "output_type": "stream",
     "text": [
      "final.shape: torch.Size([1920, 256])\n"
     ]
    },
    {
     "name": "stdout",
     "output_type": "stream",
     "text": [
      "final.shape: torch.Size([1920, 256])\n"
     ]
    },
    {
     "name": "stdout",
     "output_type": "stream",
     "text": [
      "final.shape: torch.Size([1920, 256])\n"
     ]
    },
    {
     "name": "stdout",
     "output_type": "stream",
     "text": [
      "final.shape: torch.Size([1920, 256])\n"
     ]
    },
    {
     "name": "stdout",
     "output_type": "stream",
     "text": [
      "final.shape: torch.Size([1920, 256])\n"
     ]
    },
    {
     "name": "stdout",
     "output_type": "stream",
     "text": [
      "final.shape: torch.Size([1920, 256])\n"
     ]
    },
    {
     "name": "stdout",
     "output_type": "stream",
     "text": [
      "final.shape: torch.Size([1920, 256])\n"
     ]
    },
    {
     "name": "stdout",
     "output_type": "stream",
     "text": [
      "final.shape: torch.Size([1920, 256])\n"
     ]
    },
    {
     "name": "stdout",
     "output_type": "stream",
     "text": [
      "final.shape: torch.Size([1920, 256])\n"
     ]
    },
    {
     "name": "stdout",
     "output_type": "stream",
     "text": [
      "final.shape: torch.Size([1920, 256])\n"
     ]
    },
    {
     "name": "stdout",
     "output_type": "stream",
     "text": [
      "final.shape: torch.Size([1920, 256])\n"
     ]
    },
    {
     "name": "stdout",
     "output_type": "stream",
     "text": [
      "final.shape: torch.Size([1920, 256])\n"
     ]
    },
    {
     "name": "stdout",
     "output_type": "stream",
     "text": [
      "final.shape: torch.Size([1920, 256])\n"
     ]
    },
    {
     "name": "stdout",
     "output_type": "stream",
     "text": [
      "final.shape: torch.Size([1920, 256])\n"
     ]
    },
    {
     "name": "stdout",
     "output_type": "stream",
     "text": [
      "final.shape: torch.Size([1920, 256])\n"
     ]
    },
    {
     "name": "stdout",
     "output_type": "stream",
     "text": [
      "final.shape: torch.Size([1920, 256])\n"
     ]
    },
    {
     "name": "stdout",
     "output_type": "stream",
     "text": [
      "final.shape: torch.Size([1920, 256])\n"
     ]
    },
    {
     "name": "stdout",
     "output_type": "stream",
     "text": [
      "final.shape: torch.Size([1920, 256])\n"
     ]
    },
    {
     "name": "stdout",
     "output_type": "stream",
     "text": [
      "final.shape: torch.Size([1920, 256])\n"
     ]
    },
    {
     "name": "stdout",
     "output_type": "stream",
     "text": [
      "final.shape: torch.Size([1920, 256])\n"
     ]
    },
    {
     "name": "stdout",
     "output_type": "stream",
     "text": [
      "final.shape: torch.Size([270, 256])\n"
     ]
    },
    {
     "name": "stdout",
     "output_type": "stream",
     "text": [
      "running epoch: 6\n",
      "final.shape: torch.Size([1920, 256])\n"
     ]
    },
    {
     "name": "stdout",
     "output_type": "stream",
     "text": [
      "final.shape: torch.Size([1920, 256])\n"
     ]
    },
    {
     "name": "stdout",
     "output_type": "stream",
     "text": [
      "final.shape: torch.Size([1920, 256])\n"
     ]
    },
    {
     "name": "stdout",
     "output_type": "stream",
     "text": [
      "final.shape: torch.Size([1920, 256])\n"
     ]
    },
    {
     "name": "stdout",
     "output_type": "stream",
     "text": [
      "final.shape: torch.Size([1920, 256])\n"
     ]
    },
    {
     "name": "stdout",
     "output_type": "stream",
     "text": [
      "final.shape: torch.Size([1920, 256])\n"
     ]
    },
    {
     "name": "stdout",
     "output_type": "stream",
     "text": [
      "final.shape: torch.Size([1920, 256])\n"
     ]
    },
    {
     "name": "stdout",
     "output_type": "stream",
     "text": [
      "final.shape: torch.Size([1920, 256])\n"
     ]
    },
    {
     "name": "stdout",
     "output_type": "stream",
     "text": [
      "final.shape: torch.Size([1920, 256])\n"
     ]
    },
    {
     "name": "stdout",
     "output_type": "stream",
     "text": [
      "final.shape: torch.Size([1920, 256])\n"
     ]
    },
    {
     "name": "stdout",
     "output_type": "stream",
     "text": [
      "final.shape: torch.Size([1920, 256])\n"
     ]
    },
    {
     "name": "stdout",
     "output_type": "stream",
     "text": [
      "final.shape: torch.Size([1920, 256])\n"
     ]
    },
    {
     "name": "stdout",
     "output_type": "stream",
     "text": [
      "final.shape: torch.Size([1920, 256])\n"
     ]
    },
    {
     "name": "stdout",
     "output_type": "stream",
     "text": [
      "final.shape: torch.Size([1920, 256])\n"
     ]
    },
    {
     "name": "stdout",
     "output_type": "stream",
     "text": [
      "final.shape: torch.Size([1920, 256])\n"
     ]
    },
    {
     "name": "stdout",
     "output_type": "stream",
     "text": [
      "final.shape: torch.Size([1920, 256])\n"
     ]
    },
    {
     "name": "stdout",
     "output_type": "stream",
     "text": [
      "final.shape: torch.Size([1920, 256])\n"
     ]
    },
    {
     "name": "stdout",
     "output_type": "stream",
     "text": [
      "final.shape: torch.Size([1920, 256])\n"
     ]
    },
    {
     "name": "stdout",
     "output_type": "stream",
     "text": [
      "final.shape: torch.Size([1920, 256])\n"
     ]
    },
    {
     "name": "stdout",
     "output_type": "stream",
     "text": [
      "final.shape: torch.Size([1920, 256])\n"
     ]
    },
    {
     "name": "stdout",
     "output_type": "stream",
     "text": [
      "final.shape: torch.Size([1920, 256])\n"
     ]
    },
    {
     "name": "stdout",
     "output_type": "stream",
     "text": [
      "final.shape: torch.Size([1920, 256])\n"
     ]
    },
    {
     "name": "stdout",
     "output_type": "stream",
     "text": [
      "final.shape: torch.Size([1920, 256])\n"
     ]
    },
    {
     "name": "stdout",
     "output_type": "stream",
     "text": [
      "final.shape: torch.Size([1920, 256])\n"
     ]
    },
    {
     "name": "stdout",
     "output_type": "stream",
     "text": [
      "final.shape: torch.Size([1920, 256])\n"
     ]
    },
    {
     "name": "stdout",
     "output_type": "stream",
     "text": [
      "final.shape: torch.Size([1920, 256])\n"
     ]
    },
    {
     "name": "stdout",
     "output_type": "stream",
     "text": [
      "final.shape: torch.Size([1920, 256])\n"
     ]
    },
    {
     "name": "stdout",
     "output_type": "stream",
     "text": [
      "final.shape: torch.Size([1920, 256])\n"
     ]
    },
    {
     "name": "stdout",
     "output_type": "stream",
     "text": [
      "final.shape: torch.Size([1920, 256])\n"
     ]
    },
    {
     "name": "stdout",
     "output_type": "stream",
     "text": [
      "final.shape: torch.Size([270, 256])\n"
     ]
    },
    {
     "name": "stdout",
     "output_type": "stream",
     "text": [
      "running epoch: 7\n",
      "final.shape: torch.Size([1920, 256])\n"
     ]
    },
    {
     "name": "stdout",
     "output_type": "stream",
     "text": [
      "final.shape: torch.Size([1920, 256])\n"
     ]
    },
    {
     "name": "stdout",
     "output_type": "stream",
     "text": [
      "final.shape: torch.Size([1920, 256])\n"
     ]
    },
    {
     "name": "stdout",
     "output_type": "stream",
     "text": [
      "final.shape: torch.Size([1920, 256])\n"
     ]
    },
    {
     "name": "stdout",
     "output_type": "stream",
     "text": [
      "final.shape: torch.Size([1920, 256])\n"
     ]
    },
    {
     "name": "stdout",
     "output_type": "stream",
     "text": [
      "final.shape: torch.Size([1920, 256])\n"
     ]
    },
    {
     "name": "stdout",
     "output_type": "stream",
     "text": [
      "final.shape: torch.Size([1920, 256])\n"
     ]
    },
    {
     "name": "stdout",
     "output_type": "stream",
     "text": [
      "final.shape: torch.Size([1920, 256])\n"
     ]
    },
    {
     "name": "stdout",
     "output_type": "stream",
     "text": [
      "final.shape: torch.Size([1920, 256])\n"
     ]
    },
    {
     "name": "stdout",
     "output_type": "stream",
     "text": [
      "final.shape: torch.Size([1920, 256])\n"
     ]
    },
    {
     "name": "stdout",
     "output_type": "stream",
     "text": [
      "final.shape: torch.Size([1920, 256])\n"
     ]
    },
    {
     "name": "stdout",
     "output_type": "stream",
     "text": [
      "final.shape: torch.Size([1920, 256])\n"
     ]
    },
    {
     "name": "stdout",
     "output_type": "stream",
     "text": [
      "final.shape: torch.Size([1920, 256])\n"
     ]
    },
    {
     "name": "stdout",
     "output_type": "stream",
     "text": [
      "final.shape: torch.Size([1920, 256])\n"
     ]
    },
    {
     "name": "stdout",
     "output_type": "stream",
     "text": [
      "final.shape: torch.Size([1920, 256])\n"
     ]
    },
    {
     "name": "stdout",
     "output_type": "stream",
     "text": [
      "final.shape: torch.Size([1920, 256])\n"
     ]
    },
    {
     "name": "stdout",
     "output_type": "stream",
     "text": [
      "final.shape: torch.Size([1920, 256])\n"
     ]
    },
    {
     "name": "stdout",
     "output_type": "stream",
     "text": [
      "final.shape: torch.Size([1920, 256])\n"
     ]
    },
    {
     "name": "stdout",
     "output_type": "stream",
     "text": [
      "final.shape: torch.Size([1920, 256])\n"
     ]
    },
    {
     "name": "stdout",
     "output_type": "stream",
     "text": [
      "final.shape: torch.Size([1920, 256])\n"
     ]
    },
    {
     "name": "stdout",
     "output_type": "stream",
     "text": [
      "final.shape: torch.Size([1920, 256])\n"
     ]
    },
    {
     "name": "stdout",
     "output_type": "stream",
     "text": [
      "final.shape: torch.Size([1920, 256])\n"
     ]
    },
    {
     "name": "stdout",
     "output_type": "stream",
     "text": [
      "final.shape: torch.Size([1920, 256])\n"
     ]
    },
    {
     "name": "stdout",
     "output_type": "stream",
     "text": [
      "final.shape: torch.Size([1920, 256])\n"
     ]
    },
    {
     "name": "stdout",
     "output_type": "stream",
     "text": [
      "final.shape: torch.Size([1920, 256])\n"
     ]
    },
    {
     "name": "stdout",
     "output_type": "stream",
     "text": [
      "final.shape: torch.Size([1920, 256])\n"
     ]
    },
    {
     "name": "stdout",
     "output_type": "stream",
     "text": [
      "final.shape: torch.Size([1920, 256])\n"
     ]
    },
    {
     "name": "stdout",
     "output_type": "stream",
     "text": [
      "final.shape: torch.Size([1920, 256])\n"
     ]
    },
    {
     "name": "stdout",
     "output_type": "stream",
     "text": [
      "final.shape: torch.Size([1920, 256])\n"
     ]
    },
    {
     "name": "stdout",
     "output_type": "stream",
     "text": [
      "final.shape: torch.Size([270, 256])\n"
     ]
    },
    {
     "name": "stdout",
     "output_type": "stream",
     "text": [
      "running epoch: 8\n",
      "final.shape: torch.Size([1920, 256])\n"
     ]
    },
    {
     "name": "stdout",
     "output_type": "stream",
     "text": [
      "final.shape: torch.Size([1920, 256])\n"
     ]
    },
    {
     "name": "stdout",
     "output_type": "stream",
     "text": [
      "final.shape: torch.Size([1920, 256])\n"
     ]
    },
    {
     "name": "stdout",
     "output_type": "stream",
     "text": [
      "final.shape: torch.Size([1920, 256])\n"
     ]
    },
    {
     "name": "stdout",
     "output_type": "stream",
     "text": [
      "final.shape: torch.Size([1920, 256])\n"
     ]
    },
    {
     "name": "stdout",
     "output_type": "stream",
     "text": [
      "final.shape: torch.Size([1920, 256])\n"
     ]
    },
    {
     "name": "stdout",
     "output_type": "stream",
     "text": [
      "final.shape: torch.Size([1920, 256])\n"
     ]
    },
    {
     "name": "stdout",
     "output_type": "stream",
     "text": [
      "final.shape: torch.Size([1920, 256])\n"
     ]
    },
    {
     "name": "stdout",
     "output_type": "stream",
     "text": [
      "final.shape: torch.Size([1920, 256])\n"
     ]
    },
    {
     "name": "stdout",
     "output_type": "stream",
     "text": [
      "final.shape: torch.Size([1920, 256])\n"
     ]
    },
    {
     "name": "stdout",
     "output_type": "stream",
     "text": [
      "final.shape: torch.Size([1920, 256])\n"
     ]
    },
    {
     "name": "stdout",
     "output_type": "stream",
     "text": [
      "final.shape: torch.Size([1920, 256])\n"
     ]
    },
    {
     "name": "stdout",
     "output_type": "stream",
     "text": [
      "final.shape: torch.Size([1920, 256])\n"
     ]
    },
    {
     "name": "stdout",
     "output_type": "stream",
     "text": [
      "final.shape: torch.Size([1920, 256])\n"
     ]
    },
    {
     "name": "stdout",
     "output_type": "stream",
     "text": [
      "final.shape: torch.Size([1920, 256])\n"
     ]
    },
    {
     "name": "stdout",
     "output_type": "stream",
     "text": [
      "final.shape: torch.Size([1920, 256])\n"
     ]
    },
    {
     "name": "stdout",
     "output_type": "stream",
     "text": [
      "final.shape: torch.Size([1920, 256])\n"
     ]
    },
    {
     "name": "stdout",
     "output_type": "stream",
     "text": [
      "final.shape: torch.Size([1920, 256])\n"
     ]
    },
    {
     "name": "stdout",
     "output_type": "stream",
     "text": [
      "final.shape: torch.Size([1920, 256])\n"
     ]
    },
    {
     "name": "stdout",
     "output_type": "stream",
     "text": [
      "final.shape: torch.Size([1920, 256])\n"
     ]
    },
    {
     "name": "stdout",
     "output_type": "stream",
     "text": [
      "final.shape: torch.Size([1920, 256])\n"
     ]
    },
    {
     "name": "stdout",
     "output_type": "stream",
     "text": [
      "final.shape: torch.Size([1920, 256])\n"
     ]
    },
    {
     "name": "stdout",
     "output_type": "stream",
     "text": [
      "final.shape: torch.Size([1920, 256])\n"
     ]
    },
    {
     "name": "stdout",
     "output_type": "stream",
     "text": [
      "final.shape: torch.Size([1920, 256])\n"
     ]
    },
    {
     "name": "stdout",
     "output_type": "stream",
     "text": [
      "final.shape: torch.Size([1920, 256])\n"
     ]
    },
    {
     "name": "stdout",
     "output_type": "stream",
     "text": [
      "final.shape: torch.Size([1920, 256])\n"
     ]
    },
    {
     "name": "stdout",
     "output_type": "stream",
     "text": [
      "final.shape: torch.Size([1920, 256])\n"
     ]
    },
    {
     "name": "stdout",
     "output_type": "stream",
     "text": [
      "final.shape: torch.Size([1920, 256])\n"
     ]
    },
    {
     "name": "stdout",
     "output_type": "stream",
     "text": [
      "final.shape: torch.Size([1920, 256])\n"
     ]
    },
    {
     "name": "stdout",
     "output_type": "stream",
     "text": [
      "final.shape: torch.Size([270, 256])\n"
     ]
    },
    {
     "name": "stdout",
     "output_type": "stream",
     "text": [
      "running epoch: 9\n",
      "final.shape: torch.Size([1920, 256])\n"
     ]
    },
    {
     "name": "stdout",
     "output_type": "stream",
     "text": [
      "final.shape: torch.Size([1920, 256])\n"
     ]
    },
    {
     "name": "stdout",
     "output_type": "stream",
     "text": [
      "final.shape: torch.Size([1920, 256])\n"
     ]
    },
    {
     "name": "stdout",
     "output_type": "stream",
     "text": [
      "final.shape: torch.Size([1920, 256])\n"
     ]
    },
    {
     "name": "stdout",
     "output_type": "stream",
     "text": [
      "final.shape: torch.Size([1920, 256])\n"
     ]
    },
    {
     "name": "stdout",
     "output_type": "stream",
     "text": [
      "final.shape: torch.Size([1920, 256])\n"
     ]
    },
    {
     "name": "stdout",
     "output_type": "stream",
     "text": [
      "final.shape: torch.Size([1920, 256])\n"
     ]
    },
    {
     "name": "stdout",
     "output_type": "stream",
     "text": [
      "final.shape: torch.Size([1920, 256])\n"
     ]
    },
    {
     "name": "stdout",
     "output_type": "stream",
     "text": [
      "final.shape: torch.Size([1920, 256])\n"
     ]
    },
    {
     "name": "stdout",
     "output_type": "stream",
     "text": [
      "final.shape: torch.Size([1920, 256])\n"
     ]
    },
    {
     "name": "stdout",
     "output_type": "stream",
     "text": [
      "final.shape: torch.Size([1920, 256])\n"
     ]
    },
    {
     "name": "stdout",
     "output_type": "stream",
     "text": [
      "final.shape: torch.Size([1920, 256])\n"
     ]
    },
    {
     "name": "stdout",
     "output_type": "stream",
     "text": [
      "final.shape: torch.Size([1920, 256])\n"
     ]
    },
    {
     "name": "stdout",
     "output_type": "stream",
     "text": [
      "final.shape: torch.Size([1920, 256])\n"
     ]
    },
    {
     "name": "stdout",
     "output_type": "stream",
     "text": [
      "final.shape: torch.Size([1920, 256])\n"
     ]
    },
    {
     "name": "stdout",
     "output_type": "stream",
     "text": [
      "final.shape: torch.Size([1920, 256])\n"
     ]
    },
    {
     "name": "stdout",
     "output_type": "stream",
     "text": [
      "final.shape: torch.Size([1920, 256])\n"
     ]
    },
    {
     "name": "stdout",
     "output_type": "stream",
     "text": [
      "final.shape: torch.Size([1920, 256])\n"
     ]
    },
    {
     "name": "stdout",
     "output_type": "stream",
     "text": [
      "final.shape: torch.Size([1920, 256])\n"
     ]
    },
    {
     "name": "stdout",
     "output_type": "stream",
     "text": [
      "final.shape: torch.Size([1920, 256])\n"
     ]
    },
    {
     "name": "stdout",
     "output_type": "stream",
     "text": [
      "final.shape: torch.Size([1920, 256])\n"
     ]
    },
    {
     "name": "stdout",
     "output_type": "stream",
     "text": [
      "final.shape: torch.Size([1920, 256])\n"
     ]
    },
    {
     "name": "stdout",
     "output_type": "stream",
     "text": [
      "final.shape: torch.Size([1920, 256])\n"
     ]
    },
    {
     "name": "stdout",
     "output_type": "stream",
     "text": [
      "final.shape: torch.Size([1920, 256])\n"
     ]
    },
    {
     "name": "stdout",
     "output_type": "stream",
     "text": [
      "final.shape: torch.Size([1920, 256])\n"
     ]
    },
    {
     "name": "stdout",
     "output_type": "stream",
     "text": [
      "final.shape: torch.Size([1920, 256])\n"
     ]
    },
    {
     "name": "stdout",
     "output_type": "stream",
     "text": [
      "final.shape: torch.Size([1920, 256])\n"
     ]
    },
    {
     "name": "stdout",
     "output_type": "stream",
     "text": [
      "final.shape: torch.Size([1920, 256])\n"
     ]
    },
    {
     "name": "stdout",
     "output_type": "stream",
     "text": [
      "final.shape: torch.Size([1920, 256])\n"
     ]
    },
    {
     "name": "stdout",
     "output_type": "stream",
     "text": [
      "final.shape: torch.Size([270, 256])\n"
     ]
    },
    {
     "name": "stdout",
     "output_type": "stream",
     "text": [
      "running epoch: 10\n",
      "final.shape: torch.Size([1920, 256])\n"
     ]
    },
    {
     "name": "stdout",
     "output_type": "stream",
     "text": [
      "final.shape: torch.Size([1920, 256])\n"
     ]
    },
    {
     "name": "stdout",
     "output_type": "stream",
     "text": [
      "final.shape: torch.Size([1920, 256])\n"
     ]
    },
    {
     "name": "stdout",
     "output_type": "stream",
     "text": [
      "final.shape: torch.Size([1920, 256])\n"
     ]
    },
    {
     "name": "stdout",
     "output_type": "stream",
     "text": [
      "final.shape: torch.Size([1920, 256])\n"
     ]
    },
    {
     "name": "stdout",
     "output_type": "stream",
     "text": [
      "final.shape: torch.Size([1920, 256])\n"
     ]
    },
    {
     "name": "stdout",
     "output_type": "stream",
     "text": [
      "final.shape: torch.Size([1920, 256])\n"
     ]
    },
    {
     "name": "stdout",
     "output_type": "stream",
     "text": [
      "final.shape: torch.Size([1920, 256])\n"
     ]
    },
    {
     "name": "stdout",
     "output_type": "stream",
     "text": [
      "final.shape: torch.Size([1920, 256])\n"
     ]
    },
    {
     "name": "stdout",
     "output_type": "stream",
     "text": [
      "final.shape: torch.Size([1920, 256])\n"
     ]
    },
    {
     "name": "stdout",
     "output_type": "stream",
     "text": [
      "final.shape: torch.Size([1920, 256])\n"
     ]
    },
    {
     "name": "stdout",
     "output_type": "stream",
     "text": [
      "final.shape: torch.Size([1920, 256])\n"
     ]
    },
    {
     "name": "stdout",
     "output_type": "stream",
     "text": [
      "final.shape: torch.Size([1920, 256])\n"
     ]
    },
    {
     "name": "stdout",
     "output_type": "stream",
     "text": [
      "final.shape: torch.Size([1920, 256])\n"
     ]
    },
    {
     "name": "stdout",
     "output_type": "stream",
     "text": [
      "final.shape: torch.Size([1920, 256])\n"
     ]
    },
    {
     "name": "stdout",
     "output_type": "stream",
     "text": [
      "final.shape: torch.Size([1920, 256])\n"
     ]
    },
    {
     "name": "stdout",
     "output_type": "stream",
     "text": [
      "final.shape: torch.Size([1920, 256])\n"
     ]
    },
    {
     "name": "stdout",
     "output_type": "stream",
     "text": [
      "final.shape: torch.Size([1920, 256])\n"
     ]
    },
    {
     "name": "stdout",
     "output_type": "stream",
     "text": [
      "final.shape: torch.Size([1920, 256])\n"
     ]
    },
    {
     "name": "stdout",
     "output_type": "stream",
     "text": [
      "final.shape: torch.Size([1920, 256])\n"
     ]
    },
    {
     "name": "stdout",
     "output_type": "stream",
     "text": [
      "final.shape: torch.Size([1920, 256])\n"
     ]
    },
    {
     "name": "stdout",
     "output_type": "stream",
     "text": [
      "final.shape: torch.Size([1920, 256])\n"
     ]
    },
    {
     "name": "stdout",
     "output_type": "stream",
     "text": [
      "final.shape: torch.Size([1920, 256])\n"
     ]
    },
    {
     "name": "stdout",
     "output_type": "stream",
     "text": [
      "final.shape: torch.Size([1920, 256])\n"
     ]
    },
    {
     "name": "stdout",
     "output_type": "stream",
     "text": [
      "final.shape: torch.Size([1920, 256])\n"
     ]
    },
    {
     "name": "stdout",
     "output_type": "stream",
     "text": [
      "final.shape: torch.Size([1920, 256])\n"
     ]
    },
    {
     "name": "stdout",
     "output_type": "stream",
     "text": [
      "final.shape: torch.Size([1920, 256])\n"
     ]
    },
    {
     "name": "stdout",
     "output_type": "stream",
     "text": [
      "final.shape: torch.Size([1920, 256])\n"
     ]
    },
    {
     "name": "stdout",
     "output_type": "stream",
     "text": [
      "final.shape: torch.Size([1920, 256])\n"
     ]
    },
    {
     "name": "stdout",
     "output_type": "stream",
     "text": [
      "final.shape: torch.Size([270, 256])\n"
     ]
    },
    {
     "name": "stdout",
     "output_type": "stream",
     "text": [
      "running epoch: 11\n",
      "final.shape: torch.Size([1920, 256])\n"
     ]
    },
    {
     "name": "stdout",
     "output_type": "stream",
     "text": [
      "final.shape: torch.Size([1920, 256])\n"
     ]
    },
    {
     "name": "stdout",
     "output_type": "stream",
     "text": [
      "final.shape: torch.Size([1920, 256])\n"
     ]
    },
    {
     "name": "stdout",
     "output_type": "stream",
     "text": [
      "final.shape: torch.Size([1920, 256])\n"
     ]
    },
    {
     "name": "stdout",
     "output_type": "stream",
     "text": [
      "final.shape: torch.Size([1920, 256])\n"
     ]
    },
    {
     "name": "stdout",
     "output_type": "stream",
     "text": [
      "final.shape: torch.Size([1920, 256])\n"
     ]
    },
    {
     "name": "stdout",
     "output_type": "stream",
     "text": [
      "final.shape: torch.Size([1920, 256])\n"
     ]
    },
    {
     "name": "stdout",
     "output_type": "stream",
     "text": [
      "final.shape: torch.Size([1920, 256])\n"
     ]
    },
    {
     "name": "stdout",
     "output_type": "stream",
     "text": [
      "final.shape: torch.Size([1920, 256])\n"
     ]
    },
    {
     "name": "stdout",
     "output_type": "stream",
     "text": [
      "final.shape: torch.Size([1920, 256])\n"
     ]
    },
    {
     "name": "stdout",
     "output_type": "stream",
     "text": [
      "final.shape: torch.Size([1920, 256])\n"
     ]
    },
    {
     "name": "stdout",
     "output_type": "stream",
     "text": [
      "final.shape: torch.Size([1920, 256])\n"
     ]
    },
    {
     "name": "stdout",
     "output_type": "stream",
     "text": [
      "final.shape: torch.Size([1920, 256])\n"
     ]
    },
    {
     "name": "stdout",
     "output_type": "stream",
     "text": [
      "final.shape: torch.Size([1920, 256])\n"
     ]
    },
    {
     "name": "stdout",
     "output_type": "stream",
     "text": [
      "final.shape: torch.Size([1920, 256])\n"
     ]
    },
    {
     "name": "stdout",
     "output_type": "stream",
     "text": [
      "final.shape: torch.Size([1920, 256])\n"
     ]
    },
    {
     "name": "stdout",
     "output_type": "stream",
     "text": [
      "final.shape: torch.Size([1920, 256])\n"
     ]
    },
    {
     "name": "stdout",
     "output_type": "stream",
     "text": [
      "final.shape: torch.Size([1920, 256])\n"
     ]
    },
    {
     "name": "stdout",
     "output_type": "stream",
     "text": [
      "final.shape: torch.Size([1920, 256])\n"
     ]
    },
    {
     "name": "stdout",
     "output_type": "stream",
     "text": [
      "final.shape: torch.Size([1920, 256])\n"
     ]
    },
    {
     "name": "stdout",
     "output_type": "stream",
     "text": [
      "final.shape: torch.Size([1920, 256])\n"
     ]
    },
    {
     "name": "stdout",
     "output_type": "stream",
     "text": [
      "final.shape: torch.Size([1920, 256])\n"
     ]
    },
    {
     "name": "stdout",
     "output_type": "stream",
     "text": [
      "final.shape: torch.Size([1920, 256])\n"
     ]
    },
    {
     "name": "stdout",
     "output_type": "stream",
     "text": [
      "final.shape: torch.Size([1920, 256])\n"
     ]
    },
    {
     "name": "stdout",
     "output_type": "stream",
     "text": [
      "final.shape: torch.Size([1920, 256])\n"
     ]
    },
    {
     "name": "stdout",
     "output_type": "stream",
     "text": [
      "final.shape: torch.Size([1920, 256])\n"
     ]
    },
    {
     "name": "stdout",
     "output_type": "stream",
     "text": [
      "final.shape: torch.Size([1920, 256])\n"
     ]
    },
    {
     "name": "stdout",
     "output_type": "stream",
     "text": [
      "final.shape: torch.Size([1920, 256])\n"
     ]
    },
    {
     "name": "stdout",
     "output_type": "stream",
     "text": [
      "final.shape: torch.Size([1920, 256])\n"
     ]
    },
    {
     "name": "stdout",
     "output_type": "stream",
     "text": [
      "final.shape: torch.Size([270, 256])\n",
      "running epoch: 12\n",
      "final.shape: torch.Size([1920, 256])\n"
     ]
    },
    {
     "name": "stdout",
     "output_type": "stream",
     "text": [
      "final.shape: torch.Size([1920, 256])\n"
     ]
    },
    {
     "name": "stdout",
     "output_type": "stream",
     "text": [
      "final.shape: torch.Size([1920, 256])\n"
     ]
    },
    {
     "name": "stdout",
     "output_type": "stream",
     "text": [
      "final.shape: torch.Size([1920, 256])\n"
     ]
    },
    {
     "name": "stdout",
     "output_type": "stream",
     "text": [
      "final.shape: torch.Size([1920, 256])\n"
     ]
    },
    {
     "name": "stdout",
     "output_type": "stream",
     "text": [
      "final.shape: torch.Size([1920, 256])\n"
     ]
    },
    {
     "name": "stdout",
     "output_type": "stream",
     "text": [
      "final.shape: torch.Size([1920, 256])\n"
     ]
    },
    {
     "name": "stdout",
     "output_type": "stream",
     "text": [
      "final.shape: torch.Size([1920, 256])\n"
     ]
    },
    {
     "name": "stdout",
     "output_type": "stream",
     "text": [
      "final.shape: torch.Size([1920, 256])\n"
     ]
    },
    {
     "name": "stdout",
     "output_type": "stream",
     "text": [
      "final.shape: torch.Size([1920, 256])\n"
     ]
    },
    {
     "name": "stdout",
     "output_type": "stream",
     "text": [
      "final.shape: torch.Size([1920, 256])\n"
     ]
    },
    {
     "name": "stdout",
     "output_type": "stream",
     "text": [
      "final.shape: torch.Size([1920, 256])\n"
     ]
    },
    {
     "name": "stdout",
     "output_type": "stream",
     "text": [
      "final.shape: torch.Size([1920, 256])\n"
     ]
    },
    {
     "name": "stdout",
     "output_type": "stream",
     "text": [
      "final.shape: torch.Size([1920, 256])\n"
     ]
    },
    {
     "name": "stdout",
     "output_type": "stream",
     "text": [
      "final.shape: torch.Size([1920, 256])\n"
     ]
    },
    {
     "name": "stdout",
     "output_type": "stream",
     "text": [
      "final.shape: torch.Size([1920, 256])\n"
     ]
    },
    {
     "name": "stdout",
     "output_type": "stream",
     "text": [
      "final.shape: torch.Size([1920, 256])\n"
     ]
    },
    {
     "name": "stdout",
     "output_type": "stream",
     "text": [
      "final.shape: torch.Size([1920, 256])\n"
     ]
    },
    {
     "name": "stdout",
     "output_type": "stream",
     "text": [
      "final.shape: torch.Size([1920, 256])\n"
     ]
    },
    {
     "name": "stdout",
     "output_type": "stream",
     "text": [
      "final.shape: torch.Size([1920, 256])\n"
     ]
    },
    {
     "name": "stdout",
     "output_type": "stream",
     "text": [
      "final.shape: torch.Size([1920, 256])\n"
     ]
    },
    {
     "name": "stdout",
     "output_type": "stream",
     "text": [
      "final.shape: torch.Size([1920, 256])\n"
     ]
    },
    {
     "name": "stdout",
     "output_type": "stream",
     "text": [
      "final.shape: torch.Size([1920, 256])\n"
     ]
    },
    {
     "name": "stdout",
     "output_type": "stream",
     "text": [
      "final.shape: torch.Size([1920, 256])\n"
     ]
    },
    {
     "name": "stdout",
     "output_type": "stream",
     "text": [
      "final.shape: torch.Size([1920, 256])\n"
     ]
    },
    {
     "name": "stdout",
     "output_type": "stream",
     "text": [
      "final.shape: torch.Size([1920, 256])\n"
     ]
    },
    {
     "name": "stdout",
     "output_type": "stream",
     "text": [
      "final.shape: torch.Size([1920, 256])\n"
     ]
    },
    {
     "name": "stdout",
     "output_type": "stream",
     "text": [
      "final.shape: torch.Size([1920, 256])\n"
     ]
    },
    {
     "name": "stdout",
     "output_type": "stream",
     "text": [
      "final.shape: torch.Size([1920, 256])\n"
     ]
    },
    {
     "name": "stdout",
     "output_type": "stream",
     "text": [
      "final.shape: torch.Size([270, 256])\n"
     ]
    },
    {
     "name": "stdout",
     "output_type": "stream",
     "text": [
      "running epoch: 13\n",
      "final.shape: torch.Size([1920, 256])\n"
     ]
    },
    {
     "name": "stdout",
     "output_type": "stream",
     "text": [
      "final.shape: torch.Size([1920, 256])\n"
     ]
    },
    {
     "name": "stdout",
     "output_type": "stream",
     "text": [
      "final.shape: torch.Size([1920, 256])\n"
     ]
    },
    {
     "name": "stdout",
     "output_type": "stream",
     "text": [
      "final.shape: torch.Size([1920, 256])\n"
     ]
    },
    {
     "name": "stdout",
     "output_type": "stream",
     "text": [
      "final.shape: torch.Size([1920, 256])\n"
     ]
    },
    {
     "name": "stdout",
     "output_type": "stream",
     "text": [
      "final.shape: torch.Size([1920, 256])\n"
     ]
    },
    {
     "name": "stdout",
     "output_type": "stream",
     "text": [
      "final.shape: torch.Size([1920, 256])\n"
     ]
    },
    {
     "name": "stdout",
     "output_type": "stream",
     "text": [
      "final.shape: torch.Size([1920, 256])\n"
     ]
    },
    {
     "name": "stdout",
     "output_type": "stream",
     "text": [
      "final.shape: torch.Size([1920, 256])\n"
     ]
    },
    {
     "name": "stdout",
     "output_type": "stream",
     "text": [
      "final.shape: torch.Size([1920, 256])\n"
     ]
    },
    {
     "name": "stdout",
     "output_type": "stream",
     "text": [
      "final.shape: torch.Size([1920, 256])\n"
     ]
    },
    {
     "name": "stdout",
     "output_type": "stream",
     "text": [
      "final.shape: torch.Size([1920, 256])\n"
     ]
    },
    {
     "name": "stdout",
     "output_type": "stream",
     "text": [
      "final.shape: torch.Size([1920, 256])\n"
     ]
    },
    {
     "name": "stdout",
     "output_type": "stream",
     "text": [
      "final.shape: torch.Size([1920, 256])\n"
     ]
    },
    {
     "name": "stdout",
     "output_type": "stream",
     "text": [
      "final.shape: torch.Size([1920, 256])\n"
     ]
    },
    {
     "name": "stdout",
     "output_type": "stream",
     "text": [
      "final.shape: torch.Size([1920, 256])\n"
     ]
    },
    {
     "name": "stdout",
     "output_type": "stream",
     "text": [
      "final.shape: torch.Size([1920, 256])\n"
     ]
    },
    {
     "name": "stdout",
     "output_type": "stream",
     "text": [
      "final.shape: torch.Size([1920, 256])\n"
     ]
    },
    {
     "name": "stdout",
     "output_type": "stream",
     "text": [
      "final.shape: torch.Size([1920, 256])\n"
     ]
    },
    {
     "name": "stdout",
     "output_type": "stream",
     "text": [
      "final.shape: torch.Size([1920, 256])\n"
     ]
    },
    {
     "name": "stdout",
     "output_type": "stream",
     "text": [
      "final.shape: torch.Size([1920, 256])\n"
     ]
    },
    {
     "name": "stdout",
     "output_type": "stream",
     "text": [
      "final.shape: torch.Size([1920, 256])\n"
     ]
    },
    {
     "name": "stdout",
     "output_type": "stream",
     "text": [
      "final.shape: torch.Size([1920, 256])\n"
     ]
    },
    {
     "name": "stdout",
     "output_type": "stream",
     "text": [
      "final.shape: torch.Size([1920, 256])\n"
     ]
    },
    {
     "name": "stdout",
     "output_type": "stream",
     "text": [
      "final.shape: torch.Size([1920, 256])\n"
     ]
    },
    {
     "name": "stdout",
     "output_type": "stream",
     "text": [
      "final.shape: torch.Size([1920, 256])\n"
     ]
    },
    {
     "name": "stdout",
     "output_type": "stream",
     "text": [
      "final.shape: torch.Size([1920, 256])\n"
     ]
    },
    {
     "name": "stdout",
     "output_type": "stream",
     "text": [
      "final.shape: torch.Size([1920, 256])\n"
     ]
    },
    {
     "name": "stdout",
     "output_type": "stream",
     "text": [
      "final.shape: torch.Size([1920, 256])\n"
     ]
    },
    {
     "name": "stdout",
     "output_type": "stream",
     "text": [
      "final.shape: torch.Size([270, 256])\n"
     ]
    },
    {
     "name": "stdout",
     "output_type": "stream",
     "text": [
      "running epoch: 14\n",
      "final.shape: torch.Size([1920, 256])\n"
     ]
    },
    {
     "name": "stdout",
     "output_type": "stream",
     "text": [
      "final.shape: torch.Size([1920, 256])\n"
     ]
    },
    {
     "name": "stdout",
     "output_type": "stream",
     "text": [
      "final.shape: torch.Size([1920, 256])\n"
     ]
    },
    {
     "name": "stdout",
     "output_type": "stream",
     "text": [
      "final.shape: torch.Size([1920, 256])\n"
     ]
    },
    {
     "name": "stdout",
     "output_type": "stream",
     "text": [
      "final.shape: torch.Size([1920, 256])\n"
     ]
    },
    {
     "name": "stdout",
     "output_type": "stream",
     "text": [
      "final.shape: torch.Size([1920, 256])\n"
     ]
    },
    {
     "name": "stdout",
     "output_type": "stream",
     "text": [
      "final.shape: torch.Size([1920, 256])\n"
     ]
    },
    {
     "name": "stdout",
     "output_type": "stream",
     "text": [
      "final.shape: torch.Size([1920, 256])\n"
     ]
    },
    {
     "name": "stdout",
     "output_type": "stream",
     "text": [
      "final.shape: torch.Size([1920, 256])\n"
     ]
    },
    {
     "name": "stdout",
     "output_type": "stream",
     "text": [
      "final.shape: torch.Size([1920, 256])\n"
     ]
    },
    {
     "name": "stdout",
     "output_type": "stream",
     "text": [
      "final.shape: torch.Size([1920, 256])\n"
     ]
    },
    {
     "name": "stdout",
     "output_type": "stream",
     "text": [
      "final.shape: torch.Size([1920, 256])\n"
     ]
    },
    {
     "name": "stdout",
     "output_type": "stream",
     "text": [
      "final.shape: torch.Size([1920, 256])\n"
     ]
    },
    {
     "name": "stdout",
     "output_type": "stream",
     "text": [
      "final.shape: torch.Size([1920, 256])\n"
     ]
    },
    {
     "name": "stdout",
     "output_type": "stream",
     "text": [
      "final.shape: torch.Size([1920, 256])\n"
     ]
    },
    {
     "name": "stdout",
     "output_type": "stream",
     "text": [
      "final.shape: torch.Size([1920, 256])\n"
     ]
    },
    {
     "name": "stdout",
     "output_type": "stream",
     "text": [
      "final.shape: torch.Size([1920, 256])\n"
     ]
    },
    {
     "name": "stdout",
     "output_type": "stream",
     "text": [
      "final.shape: torch.Size([1920, 256])\n"
     ]
    },
    {
     "name": "stdout",
     "output_type": "stream",
     "text": [
      "final.shape: torch.Size([1920, 256])\n"
     ]
    },
    {
     "name": "stdout",
     "output_type": "stream",
     "text": [
      "final.shape: torch.Size([1920, 256])\n"
     ]
    },
    {
     "name": "stdout",
     "output_type": "stream",
     "text": [
      "final.shape: torch.Size([1920, 256])\n"
     ]
    },
    {
     "name": "stdout",
     "output_type": "stream",
     "text": [
      "final.shape: torch.Size([1920, 256])\n"
     ]
    },
    {
     "name": "stdout",
     "output_type": "stream",
     "text": [
      "final.shape: torch.Size([1920, 256])\n"
     ]
    },
    {
     "name": "stdout",
     "output_type": "stream",
     "text": [
      "final.shape: torch.Size([1920, 256])\n"
     ]
    },
    {
     "name": "stdout",
     "output_type": "stream",
     "text": [
      "final.shape: torch.Size([1920, 256])\n"
     ]
    },
    {
     "name": "stdout",
     "output_type": "stream",
     "text": [
      "final.shape: torch.Size([1920, 256])\n"
     ]
    },
    {
     "name": "stdout",
     "output_type": "stream",
     "text": [
      "final.shape: torch.Size([1920, 256])\n"
     ]
    },
    {
     "name": "stdout",
     "output_type": "stream",
     "text": [
      "final.shape: torch.Size([1920, 256])\n"
     ]
    },
    {
     "name": "stdout",
     "output_type": "stream",
     "text": [
      "final.shape: torch.Size([1920, 256])\n"
     ]
    },
    {
     "name": "stdout",
     "output_type": "stream",
     "text": [
      "final.shape: torch.Size([270, 256])\n"
     ]
    },
    {
     "name": "stdout",
     "output_type": "stream",
     "text": [
      "running epoch: 15\n",
      "final.shape: torch.Size([1920, 256])\n"
     ]
    },
    {
     "name": "stdout",
     "output_type": "stream",
     "text": [
      "final.shape: torch.Size([1920, 256])\n"
     ]
    },
    {
     "name": "stdout",
     "output_type": "stream",
     "text": [
      "final.shape: torch.Size([1920, 256])\n"
     ]
    },
    {
     "name": "stdout",
     "output_type": "stream",
     "text": [
      "final.shape: torch.Size([1920, 256])\n"
     ]
    },
    {
     "name": "stdout",
     "output_type": "stream",
     "text": [
      "final.shape: torch.Size([1920, 256])\n"
     ]
    },
    {
     "name": "stdout",
     "output_type": "stream",
     "text": [
      "final.shape: torch.Size([1920, 256])\n"
     ]
    },
    {
     "name": "stdout",
     "output_type": "stream",
     "text": [
      "final.shape: torch.Size([1920, 256])\n"
     ]
    },
    {
     "name": "stdout",
     "output_type": "stream",
     "text": [
      "final.shape: torch.Size([1920, 256])\n"
     ]
    },
    {
     "name": "stdout",
     "output_type": "stream",
     "text": [
      "final.shape: torch.Size([1920, 256])\n"
     ]
    },
    {
     "name": "stdout",
     "output_type": "stream",
     "text": [
      "final.shape: torch.Size([1920, 256])\n"
     ]
    },
    {
     "name": "stdout",
     "output_type": "stream",
     "text": [
      "final.shape: torch.Size([1920, 256])\n"
     ]
    },
    {
     "name": "stdout",
     "output_type": "stream",
     "text": [
      "final.shape: torch.Size([1920, 256])\n"
     ]
    },
    {
     "name": "stdout",
     "output_type": "stream",
     "text": [
      "final.shape: torch.Size([1920, 256])\n"
     ]
    },
    {
     "name": "stdout",
     "output_type": "stream",
     "text": [
      "final.shape: torch.Size([1920, 256])\n"
     ]
    },
    {
     "name": "stdout",
     "output_type": "stream",
     "text": [
      "final.shape: torch.Size([1920, 256])\n"
     ]
    },
    {
     "name": "stdout",
     "output_type": "stream",
     "text": [
      "final.shape: torch.Size([1920, 256])\n"
     ]
    },
    {
     "name": "stdout",
     "output_type": "stream",
     "text": [
      "final.shape: torch.Size([1920, 256])\n"
     ]
    },
    {
     "name": "stdout",
     "output_type": "stream",
     "text": [
      "final.shape: torch.Size([1920, 256])\n"
     ]
    },
    {
     "name": "stdout",
     "output_type": "stream",
     "text": [
      "final.shape: torch.Size([1920, 256])\n"
     ]
    },
    {
     "name": "stdout",
     "output_type": "stream",
     "text": [
      "final.shape: torch.Size([1920, 256])\n"
     ]
    },
    {
     "name": "stdout",
     "output_type": "stream",
     "text": [
      "final.shape: torch.Size([1920, 256])\n"
     ]
    },
    {
     "name": "stdout",
     "output_type": "stream",
     "text": [
      "final.shape: torch.Size([1920, 256])\n"
     ]
    },
    {
     "name": "stdout",
     "output_type": "stream",
     "text": [
      "final.shape: torch.Size([1920, 256])\n"
     ]
    },
    {
     "name": "stdout",
     "output_type": "stream",
     "text": [
      "final.shape: torch.Size([1920, 256])\n"
     ]
    },
    {
     "name": "stdout",
     "output_type": "stream",
     "text": [
      "final.shape: torch.Size([1920, 256])\n"
     ]
    },
    {
     "name": "stdout",
     "output_type": "stream",
     "text": [
      "final.shape: torch.Size([1920, 256])\n"
     ]
    },
    {
     "name": "stdout",
     "output_type": "stream",
     "text": [
      "final.shape: torch.Size([1920, 256])\n"
     ]
    },
    {
     "name": "stdout",
     "output_type": "stream",
     "text": [
      "final.shape: torch.Size([1920, 256])\n"
     ]
    },
    {
     "name": "stdout",
     "output_type": "stream",
     "text": [
      "final.shape: torch.Size([1920, 256])\n"
     ]
    },
    {
     "name": "stdout",
     "output_type": "stream",
     "text": [
      "final.shape: torch.Size([270, 256])\n"
     ]
    },
    {
     "name": "stdout",
     "output_type": "stream",
     "text": [
      "running epoch: 16\n",
      "final.shape: torch.Size([1920, 256])\n"
     ]
    },
    {
     "name": "stdout",
     "output_type": "stream",
     "text": [
      "final.shape: torch.Size([1920, 256])\n"
     ]
    },
    {
     "name": "stdout",
     "output_type": "stream",
     "text": [
      "final.shape: torch.Size([1920, 256])\n"
     ]
    },
    {
     "name": "stdout",
     "output_type": "stream",
     "text": [
      "final.shape: torch.Size([1920, 256])\n"
     ]
    },
    {
     "name": "stdout",
     "output_type": "stream",
     "text": [
      "final.shape: torch.Size([1920, 256])\n"
     ]
    },
    {
     "name": "stdout",
     "output_type": "stream",
     "text": [
      "final.shape: torch.Size([1920, 256])\n"
     ]
    },
    {
     "name": "stdout",
     "output_type": "stream",
     "text": [
      "final.shape: torch.Size([1920, 256])\n"
     ]
    },
    {
     "name": "stdout",
     "output_type": "stream",
     "text": [
      "final.shape: torch.Size([1920, 256])\n"
     ]
    },
    {
     "name": "stdout",
     "output_type": "stream",
     "text": [
      "final.shape: torch.Size([1920, 256])\n"
     ]
    },
    {
     "name": "stdout",
     "output_type": "stream",
     "text": [
      "final.shape: torch.Size([1920, 256])\n"
     ]
    },
    {
     "name": "stdout",
     "output_type": "stream",
     "text": [
      "final.shape: torch.Size([1920, 256])\n"
     ]
    },
    {
     "name": "stdout",
     "output_type": "stream",
     "text": [
      "final.shape: torch.Size([1920, 256])\n"
     ]
    },
    {
     "name": "stdout",
     "output_type": "stream",
     "text": [
      "final.shape: torch.Size([1920, 256])\n"
     ]
    },
    {
     "name": "stdout",
     "output_type": "stream",
     "text": [
      "final.shape: torch.Size([1920, 256])\n"
     ]
    },
    {
     "name": "stdout",
     "output_type": "stream",
     "text": [
      "final.shape: torch.Size([1920, 256])\n"
     ]
    },
    {
     "name": "stdout",
     "output_type": "stream",
     "text": [
      "final.shape: torch.Size([1920, 256])\n"
     ]
    },
    {
     "name": "stdout",
     "output_type": "stream",
     "text": [
      "final.shape: torch.Size([1920, 256])\n"
     ]
    },
    {
     "name": "stdout",
     "output_type": "stream",
     "text": [
      "final.shape: torch.Size([1920, 256])\n"
     ]
    },
    {
     "name": "stdout",
     "output_type": "stream",
     "text": [
      "final.shape: torch.Size([1920, 256])\n"
     ]
    },
    {
     "name": "stdout",
     "output_type": "stream",
     "text": [
      "final.shape: torch.Size([1920, 256])\n"
     ]
    },
    {
     "name": "stdout",
     "output_type": "stream",
     "text": [
      "final.shape: torch.Size([1920, 256])\n"
     ]
    },
    {
     "name": "stdout",
     "output_type": "stream",
     "text": [
      "final.shape: torch.Size([1920, 256])\n"
     ]
    },
    {
     "name": "stdout",
     "output_type": "stream",
     "text": [
      "final.shape: torch.Size([1920, 256])\n"
     ]
    },
    {
     "name": "stdout",
     "output_type": "stream",
     "text": [
      "final.shape: torch.Size([1920, 256])\n"
     ]
    },
    {
     "name": "stdout",
     "output_type": "stream",
     "text": [
      "final.shape: torch.Size([1920, 256])\n"
     ]
    },
    {
     "name": "stdout",
     "output_type": "stream",
     "text": [
      "final.shape: torch.Size([1920, 256])\n"
     ]
    },
    {
     "name": "stdout",
     "output_type": "stream",
     "text": [
      "final.shape: torch.Size([1920, 256])\n"
     ]
    },
    {
     "name": "stdout",
     "output_type": "stream",
     "text": [
      "final.shape: torch.Size([1920, 256])\n"
     ]
    },
    {
     "name": "stdout",
     "output_type": "stream",
     "text": [
      "final.shape: torch.Size([1920, 256])\n"
     ]
    },
    {
     "name": "stdout",
     "output_type": "stream",
     "text": [
      "final.shape: torch.Size([270, 256])\n"
     ]
    },
    {
     "name": "stdout",
     "output_type": "stream",
     "text": [
      "running epoch: 17\n",
      "final.shape: torch.Size([1920, 256])\n"
     ]
    },
    {
     "name": "stdout",
     "output_type": "stream",
     "text": [
      "final.shape: torch.Size([1920, 256])\n"
     ]
    },
    {
     "name": "stdout",
     "output_type": "stream",
     "text": [
      "final.shape: torch.Size([1920, 256])\n"
     ]
    },
    {
     "name": "stdout",
     "output_type": "stream",
     "text": [
      "final.shape: torch.Size([1920, 256])\n"
     ]
    },
    {
     "name": "stdout",
     "output_type": "stream",
     "text": [
      "final.shape: torch.Size([1920, 256])\n"
     ]
    },
    {
     "name": "stdout",
     "output_type": "stream",
     "text": [
      "final.shape: torch.Size([1920, 256])\n"
     ]
    },
    {
     "name": "stdout",
     "output_type": "stream",
     "text": [
      "final.shape: torch.Size([1920, 256])\n"
     ]
    },
    {
     "name": "stdout",
     "output_type": "stream",
     "text": [
      "final.shape: torch.Size([1920, 256])\n"
     ]
    },
    {
     "name": "stdout",
     "output_type": "stream",
     "text": [
      "final.shape: torch.Size([1920, 256])\n"
     ]
    },
    {
     "name": "stdout",
     "output_type": "stream",
     "text": [
      "final.shape: torch.Size([1920, 256])\n"
     ]
    },
    {
     "name": "stdout",
     "output_type": "stream",
     "text": [
      "final.shape: torch.Size([1920, 256])\n"
     ]
    },
    {
     "name": "stdout",
     "output_type": "stream",
     "text": [
      "final.shape: torch.Size([1920, 256])\n"
     ]
    },
    {
     "name": "stdout",
     "output_type": "stream",
     "text": [
      "final.shape: torch.Size([1920, 256])\n"
     ]
    },
    {
     "name": "stdout",
     "output_type": "stream",
     "text": [
      "final.shape: torch.Size([1920, 256])\n"
     ]
    },
    {
     "name": "stdout",
     "output_type": "stream",
     "text": [
      "final.shape: torch.Size([1920, 256])\n"
     ]
    },
    {
     "name": "stdout",
     "output_type": "stream",
     "text": [
      "final.shape: torch.Size([1920, 256])\n"
     ]
    },
    {
     "name": "stdout",
     "output_type": "stream",
     "text": [
      "final.shape: torch.Size([1920, 256])\n"
     ]
    },
    {
     "name": "stdout",
     "output_type": "stream",
     "text": [
      "final.shape: torch.Size([1920, 256])\n"
     ]
    },
    {
     "name": "stdout",
     "output_type": "stream",
     "text": [
      "final.shape: torch.Size([1920, 256])\n"
     ]
    },
    {
     "name": "stdout",
     "output_type": "stream",
     "text": [
      "final.shape: torch.Size([1920, 256])\n"
     ]
    },
    {
     "name": "stdout",
     "output_type": "stream",
     "text": [
      "final.shape: torch.Size([1920, 256])\n"
     ]
    },
    {
     "name": "stdout",
     "output_type": "stream",
     "text": [
      "final.shape: torch.Size([1920, 256])\n"
     ]
    },
    {
     "name": "stdout",
     "output_type": "stream",
     "text": [
      "final.shape: torch.Size([1920, 256])\n"
     ]
    },
    {
     "name": "stdout",
     "output_type": "stream",
     "text": [
      "final.shape: torch.Size([1920, 256])\n"
     ]
    },
    {
     "name": "stdout",
     "output_type": "stream",
     "text": [
      "final.shape: torch.Size([1920, 256])\n"
     ]
    },
    {
     "name": "stdout",
     "output_type": "stream",
     "text": [
      "final.shape: torch.Size([1920, 256])\n"
     ]
    },
    {
     "name": "stdout",
     "output_type": "stream",
     "text": [
      "final.shape: torch.Size([1920, 256])\n"
     ]
    },
    {
     "name": "stdout",
     "output_type": "stream",
     "text": [
      "final.shape: torch.Size([1920, 256])\n"
     ]
    },
    {
     "name": "stdout",
     "output_type": "stream",
     "text": [
      "final.shape: torch.Size([1920, 256])\n"
     ]
    },
    {
     "name": "stdout",
     "output_type": "stream",
     "text": [
      "final.shape: torch.Size([270, 256])\n",
      "running epoch: 18\n",
      "final.shape: torch.Size([1920, 256])\n"
     ]
    },
    {
     "name": "stdout",
     "output_type": "stream",
     "text": [
      "final.shape: torch.Size([1920, 256])\n"
     ]
    },
    {
     "name": "stdout",
     "output_type": "stream",
     "text": [
      "final.shape: torch.Size([1920, 256])\n"
     ]
    },
    {
     "name": "stdout",
     "output_type": "stream",
     "text": [
      "final.shape: torch.Size([1920, 256])\n"
     ]
    },
    {
     "name": "stdout",
     "output_type": "stream",
     "text": [
      "final.shape: torch.Size([1920, 256])\n"
     ]
    },
    {
     "name": "stdout",
     "output_type": "stream",
     "text": [
      "final.shape: torch.Size([1920, 256])\n"
     ]
    },
    {
     "name": "stdout",
     "output_type": "stream",
     "text": [
      "final.shape: torch.Size([1920, 256])\n"
     ]
    },
    {
     "name": "stdout",
     "output_type": "stream",
     "text": [
      "final.shape: torch.Size([1920, 256])\n"
     ]
    },
    {
     "name": "stdout",
     "output_type": "stream",
     "text": [
      "final.shape: torch.Size([1920, 256])\n"
     ]
    },
    {
     "name": "stdout",
     "output_type": "stream",
     "text": [
      "final.shape: torch.Size([1920, 256])\n"
     ]
    },
    {
     "name": "stdout",
     "output_type": "stream",
     "text": [
      "final.shape: torch.Size([1920, 256])\n"
     ]
    },
    {
     "name": "stdout",
     "output_type": "stream",
     "text": [
      "final.shape: torch.Size([1920, 256])\n"
     ]
    },
    {
     "name": "stdout",
     "output_type": "stream",
     "text": [
      "final.shape: torch.Size([1920, 256])\n"
     ]
    },
    {
     "name": "stdout",
     "output_type": "stream",
     "text": [
      "final.shape: torch.Size([1920, 256])\n"
     ]
    },
    {
     "name": "stdout",
     "output_type": "stream",
     "text": [
      "final.shape: torch.Size([1920, 256])\n"
     ]
    },
    {
     "name": "stdout",
     "output_type": "stream",
     "text": [
      "final.shape: torch.Size([1920, 256])\n"
     ]
    },
    {
     "name": "stdout",
     "output_type": "stream",
     "text": [
      "final.shape: torch.Size([1920, 256])\n"
     ]
    },
    {
     "name": "stdout",
     "output_type": "stream",
     "text": [
      "final.shape: torch.Size([1920, 256])\n"
     ]
    },
    {
     "name": "stdout",
     "output_type": "stream",
     "text": [
      "final.shape: torch.Size([1920, 256])\n"
     ]
    },
    {
     "name": "stdout",
     "output_type": "stream",
     "text": [
      "final.shape: torch.Size([1920, 256])\n"
     ]
    },
    {
     "name": "stdout",
     "output_type": "stream",
     "text": [
      "final.shape: torch.Size([1920, 256])\n"
     ]
    },
    {
     "name": "stdout",
     "output_type": "stream",
     "text": [
      "final.shape: torch.Size([1920, 256])\n"
     ]
    },
    {
     "name": "stdout",
     "output_type": "stream",
     "text": [
      "final.shape: torch.Size([1920, 256])\n"
     ]
    },
    {
     "name": "stdout",
     "output_type": "stream",
     "text": [
      "final.shape: torch.Size([1920, 256])\n"
     ]
    },
    {
     "name": "stdout",
     "output_type": "stream",
     "text": [
      "final.shape: torch.Size([1920, 256])\n"
     ]
    },
    {
     "name": "stdout",
     "output_type": "stream",
     "text": [
      "final.shape: torch.Size([1920, 256])\n"
     ]
    },
    {
     "name": "stdout",
     "output_type": "stream",
     "text": [
      "final.shape: torch.Size([1920, 256])\n"
     ]
    },
    {
     "name": "stdout",
     "output_type": "stream",
     "text": [
      "final.shape: torch.Size([1920, 256])\n"
     ]
    },
    {
     "name": "stdout",
     "output_type": "stream",
     "text": [
      "final.shape: torch.Size([1920, 256])\n"
     ]
    },
    {
     "name": "stdout",
     "output_type": "stream",
     "text": [
      "final.shape: torch.Size([270, 256])\n",
      "running epoch: 19\n"
     ]
    },
    {
     "name": "stdout",
     "output_type": "stream",
     "text": [
      "final.shape: torch.Size([1920, 256])\n"
     ]
    },
    {
     "name": "stdout",
     "output_type": "stream",
     "text": [
      "final.shape: torch.Size([1920, 256])\n"
     ]
    },
    {
     "name": "stdout",
     "output_type": "stream",
     "text": [
      "final.shape: torch.Size([1920, 256])\n"
     ]
    },
    {
     "name": "stdout",
     "output_type": "stream",
     "text": [
      "final.shape: torch.Size([1920, 256])\n"
     ]
    },
    {
     "name": "stdout",
     "output_type": "stream",
     "text": [
      "final.shape: torch.Size([1920, 256])\n"
     ]
    },
    {
     "name": "stdout",
     "output_type": "stream",
     "text": [
      "final.shape: torch.Size([1920, 256])\n"
     ]
    },
    {
     "name": "stdout",
     "output_type": "stream",
     "text": [
      "final.shape: torch.Size([1920, 256])\n"
     ]
    },
    {
     "name": "stdout",
     "output_type": "stream",
     "text": [
      "final.shape: torch.Size([1920, 256])\n"
     ]
    },
    {
     "name": "stdout",
     "output_type": "stream",
     "text": [
      "final.shape: torch.Size([1920, 256])\n"
     ]
    },
    {
     "name": "stdout",
     "output_type": "stream",
     "text": [
      "final.shape: torch.Size([1920, 256])\n"
     ]
    },
    {
     "name": "stdout",
     "output_type": "stream",
     "text": [
      "final.shape: torch.Size([1920, 256])\n"
     ]
    },
    {
     "name": "stdout",
     "output_type": "stream",
     "text": [
      "final.shape: torch.Size([1920, 256])\n"
     ]
    },
    {
     "name": "stdout",
     "output_type": "stream",
     "text": [
      "final.shape: torch.Size([1920, 256])\n"
     ]
    },
    {
     "name": "stdout",
     "output_type": "stream",
     "text": [
      "final.shape: torch.Size([1920, 256])\n"
     ]
    },
    {
     "name": "stdout",
     "output_type": "stream",
     "text": [
      "final.shape: torch.Size([1920, 256])\n"
     ]
    },
    {
     "name": "stdout",
     "output_type": "stream",
     "text": [
      "final.shape: torch.Size([1920, 256])\n"
     ]
    },
    {
     "name": "stdout",
     "output_type": "stream",
     "text": [
      "final.shape: torch.Size([1920, 256])\n"
     ]
    },
    {
     "name": "stdout",
     "output_type": "stream",
     "text": [
      "final.shape: torch.Size([1920, 256])\n"
     ]
    },
    {
     "name": "stdout",
     "output_type": "stream",
     "text": [
      "final.shape: torch.Size([1920, 256])\n"
     ]
    },
    {
     "name": "stdout",
     "output_type": "stream",
     "text": [
      "final.shape: torch.Size([1920, 256])\n"
     ]
    },
    {
     "name": "stdout",
     "output_type": "stream",
     "text": [
      "final.shape: torch.Size([1920, 256])\n"
     ]
    },
    {
     "name": "stdout",
     "output_type": "stream",
     "text": [
      "final.shape: torch.Size([1920, 256])\n"
     ]
    },
    {
     "name": "stdout",
     "output_type": "stream",
     "text": [
      "final.shape: torch.Size([1920, 256])\n"
     ]
    },
    {
     "name": "stdout",
     "output_type": "stream",
     "text": [
      "final.shape: torch.Size([1920, 256])\n"
     ]
    },
    {
     "name": "stdout",
     "output_type": "stream",
     "text": [
      "final.shape: torch.Size([1920, 256])\n"
     ]
    },
    {
     "name": "stdout",
     "output_type": "stream",
     "text": [
      "final.shape: torch.Size([1920, 256])\n"
     ]
    },
    {
     "name": "stdout",
     "output_type": "stream",
     "text": [
      "final.shape: torch.Size([1920, 256])\n"
     ]
    },
    {
     "name": "stdout",
     "output_type": "stream",
     "text": [
      "final.shape: torch.Size([1920, 256])\n"
     ]
    },
    {
     "name": "stdout",
     "output_type": "stream",
     "text": [
      "final.shape: torch.Size([1920, 256])\n"
     ]
    },
    {
     "name": "stdout",
     "output_type": "stream",
     "text": [
      "final.shape: torch.Size([270, 256])\n",
      "running epoch: 20\n"
     ]
    },
    {
     "name": "stdout",
     "output_type": "stream",
     "text": [
      "final.shape: torch.Size([1920, 256])\n"
     ]
    },
    {
     "name": "stdout",
     "output_type": "stream",
     "text": [
      "final.shape: torch.Size([1920, 256])\n"
     ]
    },
    {
     "name": "stdout",
     "output_type": "stream",
     "text": [
      "final.shape: torch.Size([1920, 256])\n"
     ]
    },
    {
     "name": "stdout",
     "output_type": "stream",
     "text": [
      "final.shape: torch.Size([1920, 256])\n"
     ]
    },
    {
     "name": "stdout",
     "output_type": "stream",
     "text": [
      "final.shape: torch.Size([1920, 256])\n"
     ]
    },
    {
     "name": "stdout",
     "output_type": "stream",
     "text": [
      "final.shape: torch.Size([1920, 256])\n"
     ]
    },
    {
     "name": "stdout",
     "output_type": "stream",
     "text": [
      "final.shape: torch.Size([1920, 256])\n"
     ]
    },
    {
     "name": "stdout",
     "output_type": "stream",
     "text": [
      "final.shape: torch.Size([1920, 256])\n"
     ]
    },
    {
     "name": "stdout",
     "output_type": "stream",
     "text": [
      "final.shape: torch.Size([1920, 256])\n"
     ]
    },
    {
     "name": "stdout",
     "output_type": "stream",
     "text": [
      "final.shape: torch.Size([1920, 256])\n"
     ]
    },
    {
     "name": "stdout",
     "output_type": "stream",
     "text": [
      "final.shape: torch.Size([1920, 256])\n"
     ]
    },
    {
     "name": "stdout",
     "output_type": "stream",
     "text": [
      "final.shape: torch.Size([1920, 256])\n"
     ]
    },
    {
     "name": "stdout",
     "output_type": "stream",
     "text": [
      "final.shape: torch.Size([1920, 256])\n"
     ]
    },
    {
     "name": "stdout",
     "output_type": "stream",
     "text": [
      "final.shape: torch.Size([1920, 256])\n"
     ]
    },
    {
     "name": "stdout",
     "output_type": "stream",
     "text": [
      "final.shape: torch.Size([1920, 256])\n"
     ]
    },
    {
     "name": "stdout",
     "output_type": "stream",
     "text": [
      "final.shape: torch.Size([1920, 256])\n"
     ]
    },
    {
     "name": "stdout",
     "output_type": "stream",
     "text": [
      "final.shape: torch.Size([1920, 256])\n"
     ]
    },
    {
     "name": "stdout",
     "output_type": "stream",
     "text": [
      "final.shape: torch.Size([1920, 256])\n"
     ]
    },
    {
     "name": "stdout",
     "output_type": "stream",
     "text": [
      "final.shape: torch.Size([1920, 256])\n"
     ]
    },
    {
     "name": "stdout",
     "output_type": "stream",
     "text": [
      "final.shape: torch.Size([1920, 256])\n"
     ]
    },
    {
     "name": "stdout",
     "output_type": "stream",
     "text": [
      "final.shape: torch.Size([1920, 256])\n"
     ]
    },
    {
     "name": "stdout",
     "output_type": "stream",
     "text": [
      "final.shape: torch.Size([1920, 256])\n"
     ]
    },
    {
     "name": "stdout",
     "output_type": "stream",
     "text": [
      "final.shape: torch.Size([1920, 256])\n"
     ]
    },
    {
     "name": "stdout",
     "output_type": "stream",
     "text": [
      "final.shape: torch.Size([1920, 256])\n"
     ]
    },
    {
     "name": "stdout",
     "output_type": "stream",
     "text": [
      "final.shape: torch.Size([1920, 256])\n"
     ]
    },
    {
     "name": "stdout",
     "output_type": "stream",
     "text": [
      "final.shape: torch.Size([1920, 256])\n"
     ]
    },
    {
     "name": "stdout",
     "output_type": "stream",
     "text": [
      "final.shape: torch.Size([1920, 256])\n"
     ]
    },
    {
     "name": "stdout",
     "output_type": "stream",
     "text": [
      "final.shape: torch.Size([1920, 256])\n"
     ]
    },
    {
     "name": "stdout",
     "output_type": "stream",
     "text": [
      "final.shape: torch.Size([1920, 256])\n"
     ]
    },
    {
     "name": "stdout",
     "output_type": "stream",
     "text": [
      "final.shape: torch.Size([270, 256])\n"
     ]
    },
    {
     "name": "stdout",
     "output_type": "stream",
     "text": [
      "Epoch: 20  Avg Loss: 9.687636097538568e-05, Time: 505.77281427383423\n",
      "Median: 1.0198974525127937\n",
      "Mean: 1.144558280559304\n",
      "running epoch: 21\n",
      "final.shape: torch.Size([1920, 256])\n"
     ]
    },
    {
     "name": "stdout",
     "output_type": "stream",
     "text": [
      "final.shape: torch.Size([1920, 256])\n"
     ]
    },
    {
     "name": "stdout",
     "output_type": "stream",
     "text": [
      "final.shape: torch.Size([1920, 256])\n"
     ]
    },
    {
     "name": "stdout",
     "output_type": "stream",
     "text": [
      "final.shape: torch.Size([1920, 256])\n"
     ]
    },
    {
     "name": "stdout",
     "output_type": "stream",
     "text": [
      "final.shape: torch.Size([1920, 256])\n"
     ]
    },
    {
     "name": "stdout",
     "output_type": "stream",
     "text": [
      "final.shape: torch.Size([1920, 256])\n"
     ]
    },
    {
     "name": "stdout",
     "output_type": "stream",
     "text": [
      "final.shape: torch.Size([1920, 256])\n"
     ]
    },
    {
     "name": "stdout",
     "output_type": "stream",
     "text": [
      "final.shape: torch.Size([1920, 256])\n"
     ]
    },
    {
     "name": "stdout",
     "output_type": "stream",
     "text": [
      "final.shape: torch.Size([1920, 256])\n"
     ]
    },
    {
     "name": "stdout",
     "output_type": "stream",
     "text": [
      "final.shape: torch.Size([1920, 256])\n"
     ]
    },
    {
     "name": "stdout",
     "output_type": "stream",
     "text": [
      "final.shape: torch.Size([1920, 256])\n"
     ]
    },
    {
     "name": "stdout",
     "output_type": "stream",
     "text": [
      "final.shape: torch.Size([1920, 256])\n"
     ]
    },
    {
     "name": "stdout",
     "output_type": "stream",
     "text": [
      "final.shape: torch.Size([1920, 256])\n"
     ]
    },
    {
     "name": "stdout",
     "output_type": "stream",
     "text": [
      "final.shape: torch.Size([1920, 256])\n"
     ]
    },
    {
     "name": "stdout",
     "output_type": "stream",
     "text": [
      "final.shape: torch.Size([1920, 256])\n"
     ]
    },
    {
     "name": "stdout",
     "output_type": "stream",
     "text": [
      "final.shape: torch.Size([1920, 256])\n"
     ]
    },
    {
     "name": "stdout",
     "output_type": "stream",
     "text": [
      "final.shape: torch.Size([1920, 256])\n"
     ]
    },
    {
     "name": "stdout",
     "output_type": "stream",
     "text": [
      "final.shape: torch.Size([1920, 256])\n"
     ]
    },
    {
     "name": "stdout",
     "output_type": "stream",
     "text": [
      "final.shape: torch.Size([1920, 256])\n"
     ]
    },
    {
     "name": "stdout",
     "output_type": "stream",
     "text": [
      "final.shape: torch.Size([1920, 256])\n"
     ]
    },
    {
     "name": "stdout",
     "output_type": "stream",
     "text": [
      "final.shape: torch.Size([1920, 256])\n"
     ]
    },
    {
     "name": "stdout",
     "output_type": "stream",
     "text": [
      "final.shape: torch.Size([1920, 256])\n"
     ]
    },
    {
     "name": "stdout",
     "output_type": "stream",
     "text": [
      "final.shape: torch.Size([1920, 256])\n"
     ]
    },
    {
     "name": "stdout",
     "output_type": "stream",
     "text": [
      "final.shape: torch.Size([1920, 256])\n"
     ]
    },
    {
     "name": "stdout",
     "output_type": "stream",
     "text": [
      "final.shape: torch.Size([1920, 256])\n"
     ]
    },
    {
     "name": "stdout",
     "output_type": "stream",
     "text": [
      "final.shape: torch.Size([1920, 256])\n"
     ]
    },
    {
     "name": "stdout",
     "output_type": "stream",
     "text": [
      "final.shape: torch.Size([1920, 256])\n"
     ]
    },
    {
     "name": "stdout",
     "output_type": "stream",
     "text": [
      "final.shape: torch.Size([1920, 256])\n"
     ]
    },
    {
     "name": "stdout",
     "output_type": "stream",
     "text": [
      "final.shape: torch.Size([1920, 256])\n"
     ]
    },
    {
     "name": "stdout",
     "output_type": "stream",
     "text": [
      "final.shape: torch.Size([270, 256])\n"
     ]
    },
    {
     "name": "stdout",
     "output_type": "stream",
     "text": [
      "running epoch: 22\n",
      "final.shape: torch.Size([1920, 256])\n"
     ]
    },
    {
     "name": "stdout",
     "output_type": "stream",
     "text": [
      "final.shape: torch.Size([1920, 256])\n"
     ]
    },
    {
     "name": "stdout",
     "output_type": "stream",
     "text": [
      "final.shape: torch.Size([1920, 256])\n"
     ]
    },
    {
     "name": "stdout",
     "output_type": "stream",
     "text": [
      "final.shape: torch.Size([1920, 256])\n"
     ]
    },
    {
     "name": "stdout",
     "output_type": "stream",
     "text": [
      "final.shape: torch.Size([1920, 256])\n"
     ]
    },
    {
     "name": "stdout",
     "output_type": "stream",
     "text": [
      "final.shape: torch.Size([1920, 256])\n"
     ]
    },
    {
     "name": "stdout",
     "output_type": "stream",
     "text": [
      "final.shape: torch.Size([1920, 256])\n"
     ]
    },
    {
     "name": "stdout",
     "output_type": "stream",
     "text": [
      "final.shape: torch.Size([1920, 256])\n"
     ]
    },
    {
     "name": "stdout",
     "output_type": "stream",
     "text": [
      "final.shape: torch.Size([1920, 256])\n"
     ]
    },
    {
     "name": "stdout",
     "output_type": "stream",
     "text": [
      "final.shape: torch.Size([1920, 256])\n"
     ]
    },
    {
     "name": "stdout",
     "output_type": "stream",
     "text": [
      "final.shape: torch.Size([1920, 256])\n"
     ]
    },
    {
     "name": "stdout",
     "output_type": "stream",
     "text": [
      "final.shape: torch.Size([1920, 256])\n"
     ]
    },
    {
     "name": "stdout",
     "output_type": "stream",
     "text": [
      "final.shape: torch.Size([1920, 256])\n"
     ]
    },
    {
     "name": "stdout",
     "output_type": "stream",
     "text": [
      "final.shape: torch.Size([1920, 256])\n"
     ]
    },
    {
     "name": "stdout",
     "output_type": "stream",
     "text": [
      "final.shape: torch.Size([1920, 256])\n"
     ]
    },
    {
     "name": "stdout",
     "output_type": "stream",
     "text": [
      "final.shape: torch.Size([1920, 256])\n"
     ]
    },
    {
     "name": "stdout",
     "output_type": "stream",
     "text": [
      "final.shape: torch.Size([1920, 256])\n"
     ]
    },
    {
     "name": "stdout",
     "output_type": "stream",
     "text": [
      "final.shape: torch.Size([1920, 256])\n"
     ]
    },
    {
     "name": "stdout",
     "output_type": "stream",
     "text": [
      "final.shape: torch.Size([1920, 256])\n"
     ]
    },
    {
     "name": "stdout",
     "output_type": "stream",
     "text": [
      "final.shape: torch.Size([1920, 256])\n"
     ]
    },
    {
     "name": "stdout",
     "output_type": "stream",
     "text": [
      "final.shape: torch.Size([1920, 256])\n"
     ]
    },
    {
     "name": "stdout",
     "output_type": "stream",
     "text": [
      "final.shape: torch.Size([1920, 256])\n"
     ]
    },
    {
     "name": "stdout",
     "output_type": "stream",
     "text": [
      "final.shape: torch.Size([1920, 256])\n"
     ]
    },
    {
     "name": "stdout",
     "output_type": "stream",
     "text": [
      "final.shape: torch.Size([1920, 256])\n"
     ]
    },
    {
     "name": "stdout",
     "output_type": "stream",
     "text": [
      "final.shape: torch.Size([1920, 256])\n"
     ]
    },
    {
     "name": "stdout",
     "output_type": "stream",
     "text": [
      "final.shape: torch.Size([1920, 256])\n"
     ]
    },
    {
     "name": "stdout",
     "output_type": "stream",
     "text": [
      "final.shape: torch.Size([1920, 256])\n"
     ]
    },
    {
     "name": "stdout",
     "output_type": "stream",
     "text": [
      "final.shape: torch.Size([1920, 256])\n"
     ]
    },
    {
     "name": "stdout",
     "output_type": "stream",
     "text": [
      "final.shape: torch.Size([1920, 256])\n"
     ]
    },
    {
     "name": "stdout",
     "output_type": "stream",
     "text": [
      "final.shape: torch.Size([270, 256])\n"
     ]
    },
    {
     "name": "stdout",
     "output_type": "stream",
     "text": [
      "running epoch: 23\n",
      "final.shape: torch.Size([1920, 256])\n"
     ]
    },
    {
     "name": "stdout",
     "output_type": "stream",
     "text": [
      "final.shape: torch.Size([1920, 256])\n"
     ]
    },
    {
     "name": "stdout",
     "output_type": "stream",
     "text": [
      "final.shape: torch.Size([1920, 256])\n"
     ]
    },
    {
     "name": "stdout",
     "output_type": "stream",
     "text": [
      "final.shape: torch.Size([1920, 256])\n"
     ]
    },
    {
     "name": "stdout",
     "output_type": "stream",
     "text": [
      "final.shape: torch.Size([1920, 256])\n"
     ]
    },
    {
     "name": "stdout",
     "output_type": "stream",
     "text": [
      "final.shape: torch.Size([1920, 256])\n"
     ]
    },
    {
     "name": "stdout",
     "output_type": "stream",
     "text": [
      "final.shape: torch.Size([1920, 256])\n"
     ]
    },
    {
     "name": "stdout",
     "output_type": "stream",
     "text": [
      "final.shape: torch.Size([1920, 256])\n"
     ]
    },
    {
     "name": "stdout",
     "output_type": "stream",
     "text": [
      "final.shape: torch.Size([1920, 256])\n"
     ]
    },
    {
     "name": "stdout",
     "output_type": "stream",
     "text": [
      "final.shape: torch.Size([1920, 256])\n"
     ]
    },
    {
     "name": "stdout",
     "output_type": "stream",
     "text": [
      "final.shape: torch.Size([1920, 256])\n"
     ]
    },
    {
     "name": "stdout",
     "output_type": "stream",
     "text": [
      "final.shape: torch.Size([1920, 256])\n"
     ]
    },
    {
     "name": "stdout",
     "output_type": "stream",
     "text": [
      "final.shape: torch.Size([1920, 256])\n"
     ]
    },
    {
     "name": "stdout",
     "output_type": "stream",
     "text": [
      "final.shape: torch.Size([1920, 256])\n"
     ]
    },
    {
     "name": "stdout",
     "output_type": "stream",
     "text": [
      "final.shape: torch.Size([1920, 256])\n"
     ]
    },
    {
     "name": "stdout",
     "output_type": "stream",
     "text": [
      "final.shape: torch.Size([1920, 256])\n"
     ]
    },
    {
     "name": "stdout",
     "output_type": "stream",
     "text": [
      "final.shape: torch.Size([1920, 256])\n"
     ]
    },
    {
     "name": "stdout",
     "output_type": "stream",
     "text": [
      "final.shape: torch.Size([1920, 256])\n"
     ]
    },
    {
     "name": "stdout",
     "output_type": "stream",
     "text": [
      "final.shape: torch.Size([1920, 256])\n"
     ]
    },
    {
     "name": "stdout",
     "output_type": "stream",
     "text": [
      "final.shape: torch.Size([1920, 256])\n"
     ]
    },
    {
     "name": "stdout",
     "output_type": "stream",
     "text": [
      "final.shape: torch.Size([1920, 256])\n"
     ]
    },
    {
     "name": "stdout",
     "output_type": "stream",
     "text": [
      "final.shape: torch.Size([1920, 256])\n"
     ]
    },
    {
     "name": "stdout",
     "output_type": "stream",
     "text": [
      "final.shape: torch.Size([1920, 256])\n"
     ]
    },
    {
     "name": "stdout",
     "output_type": "stream",
     "text": [
      "final.shape: torch.Size([1920, 256])\n"
     ]
    },
    {
     "name": "stdout",
     "output_type": "stream",
     "text": [
      "final.shape: torch.Size([1920, 256])\n"
     ]
    },
    {
     "name": "stdout",
     "output_type": "stream",
     "text": [
      "final.shape: torch.Size([1920, 256])\n"
     ]
    },
    {
     "name": "stdout",
     "output_type": "stream",
     "text": [
      "final.shape: torch.Size([1920, 256])\n"
     ]
    },
    {
     "name": "stdout",
     "output_type": "stream",
     "text": [
      "final.shape: torch.Size([1920, 256])\n"
     ]
    },
    {
     "name": "stdout",
     "output_type": "stream",
     "text": [
      "final.shape: torch.Size([1920, 256])\n"
     ]
    },
    {
     "name": "stdout",
     "output_type": "stream",
     "text": [
      "final.shape: torch.Size([270, 256])\n"
     ]
    },
    {
     "name": "stdout",
     "output_type": "stream",
     "text": [
      "running epoch: 24\n",
      "final.shape: torch.Size([1920, 256])\n"
     ]
    },
    {
     "name": "stdout",
     "output_type": "stream",
     "text": [
      "final.shape: torch.Size([1920, 256])\n"
     ]
    },
    {
     "name": "stdout",
     "output_type": "stream",
     "text": [
      "final.shape: torch.Size([1920, 256])\n"
     ]
    },
    {
     "name": "stdout",
     "output_type": "stream",
     "text": [
      "final.shape: torch.Size([1920, 256])\n"
     ]
    },
    {
     "name": "stdout",
     "output_type": "stream",
     "text": [
      "final.shape: torch.Size([1920, 256])\n"
     ]
    },
    {
     "name": "stdout",
     "output_type": "stream",
     "text": [
      "final.shape: torch.Size([1920, 256])\n"
     ]
    },
    {
     "name": "stdout",
     "output_type": "stream",
     "text": [
      "final.shape: torch.Size([1920, 256])\n"
     ]
    },
    {
     "name": "stdout",
     "output_type": "stream",
     "text": [
      "final.shape: torch.Size([1920, 256])\n"
     ]
    },
    {
     "name": "stdout",
     "output_type": "stream",
     "text": [
      "final.shape: torch.Size([1920, 256])\n"
     ]
    },
    {
     "name": "stdout",
     "output_type": "stream",
     "text": [
      "final.shape: torch.Size([1920, 256])\n"
     ]
    },
    {
     "name": "stdout",
     "output_type": "stream",
     "text": [
      "final.shape: torch.Size([1920, 256])\n"
     ]
    },
    {
     "name": "stdout",
     "output_type": "stream",
     "text": [
      "final.shape: torch.Size([1920, 256])\n"
     ]
    },
    {
     "name": "stdout",
     "output_type": "stream",
     "text": [
      "final.shape: torch.Size([1920, 256])\n"
     ]
    },
    {
     "name": "stdout",
     "output_type": "stream",
     "text": [
      "final.shape: torch.Size([1920, 256])\n"
     ]
    },
    {
     "name": "stdout",
     "output_type": "stream",
     "text": [
      "final.shape: torch.Size([1920, 256])\n"
     ]
    },
    {
     "name": "stdout",
     "output_type": "stream",
     "text": [
      "final.shape: torch.Size([1920, 256])\n"
     ]
    },
    {
     "name": "stdout",
     "output_type": "stream",
     "text": [
      "final.shape: torch.Size([1920, 256])\n"
     ]
    },
    {
     "name": "stdout",
     "output_type": "stream",
     "text": [
      "final.shape: torch.Size([1920, 256])\n"
     ]
    },
    {
     "name": "stdout",
     "output_type": "stream",
     "text": [
      "final.shape: torch.Size([1920, 256])\n"
     ]
    },
    {
     "name": "stdout",
     "output_type": "stream",
     "text": [
      "final.shape: torch.Size([1920, 256])\n"
     ]
    },
    {
     "name": "stdout",
     "output_type": "stream",
     "text": [
      "final.shape: torch.Size([1920, 256])\n"
     ]
    },
    {
     "name": "stdout",
     "output_type": "stream",
     "text": [
      "final.shape: torch.Size([1920, 256])\n"
     ]
    },
    {
     "name": "stdout",
     "output_type": "stream",
     "text": [
      "final.shape: torch.Size([1920, 256])\n"
     ]
    },
    {
     "name": "stdout",
     "output_type": "stream",
     "text": [
      "final.shape: torch.Size([1920, 256])\n"
     ]
    },
    {
     "name": "stdout",
     "output_type": "stream",
     "text": [
      "final.shape: torch.Size([1920, 256])\n"
     ]
    },
    {
     "name": "stdout",
     "output_type": "stream",
     "text": [
      "final.shape: torch.Size([1920, 256])\n"
     ]
    },
    {
     "name": "stdout",
     "output_type": "stream",
     "text": [
      "final.shape: torch.Size([1920, 256])\n"
     ]
    },
    {
     "name": "stdout",
     "output_type": "stream",
     "text": [
      "final.shape: torch.Size([1920, 256])\n"
     ]
    },
    {
     "name": "stdout",
     "output_type": "stream",
     "text": [
      "final.shape: torch.Size([1920, 256])\n"
     ]
    },
    {
     "name": "stdout",
     "output_type": "stream",
     "text": [
      "final.shape: torch.Size([270, 256])\n"
     ]
    },
    {
     "name": "stdout",
     "output_type": "stream",
     "text": [
      "running epoch: 25\n",
      "final.shape: torch.Size([1920, 256])\n"
     ]
    },
    {
     "name": "stdout",
     "output_type": "stream",
     "text": [
      "final.shape: torch.Size([1920, 256])\n"
     ]
    },
    {
     "name": "stdout",
     "output_type": "stream",
     "text": [
      "final.shape: torch.Size([1920, 256])\n"
     ]
    },
    {
     "name": "stdout",
     "output_type": "stream",
     "text": [
      "final.shape: torch.Size([1920, 256])\n"
     ]
    },
    {
     "name": "stdout",
     "output_type": "stream",
     "text": [
      "final.shape: torch.Size([1920, 256])\n"
     ]
    },
    {
     "name": "stdout",
     "output_type": "stream",
     "text": [
      "final.shape: torch.Size([1920, 256])\n"
     ]
    },
    {
     "name": "stdout",
     "output_type": "stream",
     "text": [
      "final.shape: torch.Size([1920, 256])\n"
     ]
    },
    {
     "name": "stdout",
     "output_type": "stream",
     "text": [
      "final.shape: torch.Size([1920, 256])\n"
     ]
    },
    {
     "name": "stdout",
     "output_type": "stream",
     "text": [
      "final.shape: torch.Size([1920, 256])\n"
     ]
    },
    {
     "name": "stdout",
     "output_type": "stream",
     "text": [
      "final.shape: torch.Size([1920, 256])\n"
     ]
    },
    {
     "name": "stdout",
     "output_type": "stream",
     "text": [
      "final.shape: torch.Size([1920, 256])\n"
     ]
    },
    {
     "name": "stdout",
     "output_type": "stream",
     "text": [
      "final.shape: torch.Size([1920, 256])\n"
     ]
    },
    {
     "name": "stdout",
     "output_type": "stream",
     "text": [
      "final.shape: torch.Size([1920, 256])\n"
     ]
    },
    {
     "name": "stdout",
     "output_type": "stream",
     "text": [
      "final.shape: torch.Size([1920, 256])\n"
     ]
    },
    {
     "name": "stdout",
     "output_type": "stream",
     "text": [
      "final.shape: torch.Size([1920, 256])\n"
     ]
    },
    {
     "name": "stdout",
     "output_type": "stream",
     "text": [
      "final.shape: torch.Size([1920, 256])\n"
     ]
    },
    {
     "name": "stdout",
     "output_type": "stream",
     "text": [
      "final.shape: torch.Size([1920, 256])\n"
     ]
    },
    {
     "name": "stdout",
     "output_type": "stream",
     "text": [
      "final.shape: torch.Size([1920, 256])\n"
     ]
    },
    {
     "name": "stdout",
     "output_type": "stream",
     "text": [
      "final.shape: torch.Size([1920, 256])\n"
     ]
    },
    {
     "name": "stdout",
     "output_type": "stream",
     "text": [
      "final.shape: torch.Size([1920, 256])\n"
     ]
    },
    {
     "name": "stdout",
     "output_type": "stream",
     "text": [
      "final.shape: torch.Size([1920, 256])\n"
     ]
    },
    {
     "name": "stdout",
     "output_type": "stream",
     "text": [
      "final.shape: torch.Size([1920, 256])\n"
     ]
    },
    {
     "name": "stdout",
     "output_type": "stream",
     "text": [
      "final.shape: torch.Size([1920, 256])\n"
     ]
    },
    {
     "name": "stdout",
     "output_type": "stream",
     "text": [
      "final.shape: torch.Size([1920, 256])\n"
     ]
    },
    {
     "name": "stdout",
     "output_type": "stream",
     "text": [
      "final.shape: torch.Size([1920, 256])\n"
     ]
    },
    {
     "name": "stdout",
     "output_type": "stream",
     "text": [
      "final.shape: torch.Size([1920, 256])\n"
     ]
    },
    {
     "name": "stdout",
     "output_type": "stream",
     "text": [
      "final.shape: torch.Size([1920, 256])\n"
     ]
    },
    {
     "name": "stdout",
     "output_type": "stream",
     "text": [
      "final.shape: torch.Size([1920, 256])\n"
     ]
    },
    {
     "name": "stdout",
     "output_type": "stream",
     "text": [
      "final.shape: torch.Size([1920, 256])\n"
     ]
    },
    {
     "name": "stdout",
     "output_type": "stream",
     "text": [
      "final.shape: torch.Size([270, 256])\n",
      "running epoch: 26\n"
     ]
    },
    {
     "name": "stdout",
     "output_type": "stream",
     "text": [
      "final.shape: torch.Size([1920, 256])\n"
     ]
    },
    {
     "name": "stdout",
     "output_type": "stream",
     "text": [
      "final.shape: torch.Size([1920, 256])\n"
     ]
    },
    {
     "name": "stdout",
     "output_type": "stream",
     "text": [
      "final.shape: torch.Size([1920, 256])\n"
     ]
    },
    {
     "name": "stdout",
     "output_type": "stream",
     "text": [
      "final.shape: torch.Size([1920, 256])\n"
     ]
    },
    {
     "name": "stdout",
     "output_type": "stream",
     "text": [
      "final.shape: torch.Size([1920, 256])\n"
     ]
    },
    {
     "name": "stdout",
     "output_type": "stream",
     "text": [
      "final.shape: torch.Size([1920, 256])\n"
     ]
    },
    {
     "name": "stdout",
     "output_type": "stream",
     "text": [
      "final.shape: torch.Size([1920, 256])\n"
     ]
    },
    {
     "name": "stdout",
     "output_type": "stream",
     "text": [
      "final.shape: torch.Size([1920, 256])\n"
     ]
    },
    {
     "name": "stdout",
     "output_type": "stream",
     "text": [
      "final.shape: torch.Size([1920, 256])\n"
     ]
    },
    {
     "name": "stdout",
     "output_type": "stream",
     "text": [
      "final.shape: torch.Size([1920, 256])\n"
     ]
    },
    {
     "name": "stdout",
     "output_type": "stream",
     "text": [
      "final.shape: torch.Size([1920, 256])\n"
     ]
    },
    {
     "name": "stdout",
     "output_type": "stream",
     "text": [
      "final.shape: torch.Size([1920, 256])\n"
     ]
    },
    {
     "name": "stdout",
     "output_type": "stream",
     "text": [
      "final.shape: torch.Size([1920, 256])\n"
     ]
    },
    {
     "name": "stdout",
     "output_type": "stream",
     "text": [
      "final.shape: torch.Size([1920, 256])\n"
     ]
    },
    {
     "name": "stdout",
     "output_type": "stream",
     "text": [
      "final.shape: torch.Size([1920, 256])\n"
     ]
    },
    {
     "name": "stdout",
     "output_type": "stream",
     "text": [
      "final.shape: torch.Size([1920, 256])\n"
     ]
    },
    {
     "name": "stdout",
     "output_type": "stream",
     "text": [
      "final.shape: torch.Size([1920, 256])\n"
     ]
    },
    {
     "name": "stdout",
     "output_type": "stream",
     "text": [
      "final.shape: torch.Size([1920, 256])\n"
     ]
    },
    {
     "name": "stdout",
     "output_type": "stream",
     "text": [
      "final.shape: torch.Size([1920, 256])\n"
     ]
    },
    {
     "name": "stdout",
     "output_type": "stream",
     "text": [
      "final.shape: torch.Size([1920, 256])\n"
     ]
    },
    {
     "name": "stdout",
     "output_type": "stream",
     "text": [
      "final.shape: torch.Size([1920, 256])\n"
     ]
    },
    {
     "name": "stdout",
     "output_type": "stream",
     "text": [
      "final.shape: torch.Size([1920, 256])\n"
     ]
    },
    {
     "name": "stdout",
     "output_type": "stream",
     "text": [
      "final.shape: torch.Size([1920, 256])\n"
     ]
    },
    {
     "name": "stdout",
     "output_type": "stream",
     "text": [
      "final.shape: torch.Size([1920, 256])\n"
     ]
    },
    {
     "name": "stdout",
     "output_type": "stream",
     "text": [
      "final.shape: torch.Size([1920, 256])\n"
     ]
    },
    {
     "name": "stdout",
     "output_type": "stream",
     "text": [
      "final.shape: torch.Size([1920, 256])\n"
     ]
    },
    {
     "name": "stdout",
     "output_type": "stream",
     "text": [
      "final.shape: torch.Size([1920, 256])\n"
     ]
    },
    {
     "name": "stdout",
     "output_type": "stream",
     "text": [
      "final.shape: torch.Size([1920, 256])\n"
     ]
    },
    {
     "name": "stdout",
     "output_type": "stream",
     "text": [
      "final.shape: torch.Size([1920, 256])\n"
     ]
    },
    {
     "name": "stdout",
     "output_type": "stream",
     "text": [
      "final.shape: torch.Size([270, 256])\n"
     ]
    },
    {
     "name": "stdout",
     "output_type": "stream",
     "text": [
      "running epoch: 27\n",
      "final.shape: torch.Size([1920, 256])\n"
     ]
    },
    {
     "name": "stdout",
     "output_type": "stream",
     "text": [
      "final.shape: torch.Size([1920, 256])\n"
     ]
    },
    {
     "name": "stdout",
     "output_type": "stream",
     "text": [
      "final.shape: torch.Size([1920, 256])\n"
     ]
    },
    {
     "name": "stdout",
     "output_type": "stream",
     "text": [
      "final.shape: torch.Size([1920, 256])\n"
     ]
    },
    {
     "name": "stdout",
     "output_type": "stream",
     "text": [
      "final.shape: torch.Size([1920, 256])\n"
     ]
    },
    {
     "name": "stdout",
     "output_type": "stream",
     "text": [
      "final.shape: torch.Size([1920, 256])\n"
     ]
    },
    {
     "name": "stdout",
     "output_type": "stream",
     "text": [
      "final.shape: torch.Size([1920, 256])\n"
     ]
    },
    {
     "name": "stdout",
     "output_type": "stream",
     "text": [
      "final.shape: torch.Size([1920, 256])\n"
     ]
    },
    {
     "name": "stdout",
     "output_type": "stream",
     "text": [
      "final.shape: torch.Size([1920, 256])\n"
     ]
    },
    {
     "name": "stdout",
     "output_type": "stream",
     "text": [
      "final.shape: torch.Size([1920, 256])\n"
     ]
    },
    {
     "name": "stdout",
     "output_type": "stream",
     "text": [
      "final.shape: torch.Size([1920, 256])\n"
     ]
    },
    {
     "name": "stdout",
     "output_type": "stream",
     "text": [
      "final.shape: torch.Size([1920, 256])\n"
     ]
    },
    {
     "name": "stdout",
     "output_type": "stream",
     "text": [
      "final.shape: torch.Size([1920, 256])\n"
     ]
    },
    {
     "name": "stdout",
     "output_type": "stream",
     "text": [
      "final.shape: torch.Size([1920, 256])\n"
     ]
    },
    {
     "name": "stdout",
     "output_type": "stream",
     "text": [
      "final.shape: torch.Size([1920, 256])\n"
     ]
    },
    {
     "name": "stdout",
     "output_type": "stream",
     "text": [
      "final.shape: torch.Size([1920, 256])\n"
     ]
    },
    {
     "name": "stdout",
     "output_type": "stream",
     "text": [
      "final.shape: torch.Size([1920, 256])\n"
     ]
    },
    {
     "name": "stdout",
     "output_type": "stream",
     "text": [
      "final.shape: torch.Size([1920, 256])\n"
     ]
    },
    {
     "name": "stdout",
     "output_type": "stream",
     "text": [
      "final.shape: torch.Size([1920, 256])\n"
     ]
    },
    {
     "name": "stdout",
     "output_type": "stream",
     "text": [
      "final.shape: torch.Size([1920, 256])\n"
     ]
    },
    {
     "name": "stdout",
     "output_type": "stream",
     "text": [
      "final.shape: torch.Size([1920, 256])\n"
     ]
    },
    {
     "name": "stdout",
     "output_type": "stream",
     "text": [
      "final.shape: torch.Size([1920, 256])\n"
     ]
    },
    {
     "name": "stdout",
     "output_type": "stream",
     "text": [
      "final.shape: torch.Size([1920, 256])\n"
     ]
    },
    {
     "name": "stdout",
     "output_type": "stream",
     "text": [
      "final.shape: torch.Size([1920, 256])\n"
     ]
    },
    {
     "name": "stdout",
     "output_type": "stream",
     "text": [
      "final.shape: torch.Size([1920, 256])\n"
     ]
    },
    {
     "name": "stdout",
     "output_type": "stream",
     "text": [
      "final.shape: torch.Size([1920, 256])\n"
     ]
    },
    {
     "name": "stdout",
     "output_type": "stream",
     "text": [
      "final.shape: torch.Size([1920, 256])\n"
     ]
    },
    {
     "name": "stdout",
     "output_type": "stream",
     "text": [
      "final.shape: torch.Size([1920, 256])\n"
     ]
    },
    {
     "name": "stdout",
     "output_type": "stream",
     "text": [
      "final.shape: torch.Size([1920, 256])\n"
     ]
    },
    {
     "name": "stdout",
     "output_type": "stream",
     "text": [
      "final.shape: torch.Size([270, 256])\n"
     ]
    },
    {
     "name": "stdout",
     "output_type": "stream",
     "text": [
      "running epoch: 28\n",
      "final.shape: torch.Size([1920, 256])\n"
     ]
    },
    {
     "name": "stdout",
     "output_type": "stream",
     "text": [
      "final.shape: torch.Size([1920, 256])\n"
     ]
    },
    {
     "name": "stdout",
     "output_type": "stream",
     "text": [
      "final.shape: torch.Size([1920, 256])\n"
     ]
    },
    {
     "name": "stdout",
     "output_type": "stream",
     "text": [
      "final.shape: torch.Size([1920, 256])\n"
     ]
    },
    {
     "name": "stdout",
     "output_type": "stream",
     "text": [
      "final.shape: torch.Size([1920, 256])\n"
     ]
    },
    {
     "name": "stdout",
     "output_type": "stream",
     "text": [
      "final.shape: torch.Size([1920, 256])\n"
     ]
    },
    {
     "name": "stdout",
     "output_type": "stream",
     "text": [
      "final.shape: torch.Size([1920, 256])\n"
     ]
    },
    {
     "name": "stdout",
     "output_type": "stream",
     "text": [
      "final.shape: torch.Size([1920, 256])\n"
     ]
    },
    {
     "name": "stdout",
     "output_type": "stream",
     "text": [
      "final.shape: torch.Size([1920, 256])\n"
     ]
    },
    {
     "name": "stdout",
     "output_type": "stream",
     "text": [
      "final.shape: torch.Size([1920, 256])\n"
     ]
    },
    {
     "name": "stdout",
     "output_type": "stream",
     "text": [
      "final.shape: torch.Size([1920, 256])\n"
     ]
    },
    {
     "name": "stdout",
     "output_type": "stream",
     "text": [
      "final.shape: torch.Size([1920, 256])\n"
     ]
    },
    {
     "name": "stdout",
     "output_type": "stream",
     "text": [
      "final.shape: torch.Size([1920, 256])\n"
     ]
    },
    {
     "name": "stdout",
     "output_type": "stream",
     "text": [
      "final.shape: torch.Size([1920, 256])\n"
     ]
    },
    {
     "name": "stdout",
     "output_type": "stream",
     "text": [
      "final.shape: torch.Size([1920, 256])\n"
     ]
    },
    {
     "name": "stdout",
     "output_type": "stream",
     "text": [
      "final.shape: torch.Size([1920, 256])\n"
     ]
    },
    {
     "name": "stdout",
     "output_type": "stream",
     "text": [
      "final.shape: torch.Size([1920, 256])\n"
     ]
    },
    {
     "name": "stdout",
     "output_type": "stream",
     "text": [
      "final.shape: torch.Size([1920, 256])\n"
     ]
    },
    {
     "name": "stdout",
     "output_type": "stream",
     "text": [
      "final.shape: torch.Size([1920, 256])\n"
     ]
    },
    {
     "name": "stdout",
     "output_type": "stream",
     "text": [
      "final.shape: torch.Size([1920, 256])\n"
     ]
    },
    {
     "name": "stdout",
     "output_type": "stream",
     "text": [
      "final.shape: torch.Size([1920, 256])\n"
     ]
    },
    {
     "name": "stdout",
     "output_type": "stream",
     "text": [
      "final.shape: torch.Size([1920, 256])\n"
     ]
    },
    {
     "name": "stdout",
     "output_type": "stream",
     "text": [
      "final.shape: torch.Size([1920, 256])\n"
     ]
    },
    {
     "name": "stdout",
     "output_type": "stream",
     "text": [
      "final.shape: torch.Size([1920, 256])\n"
     ]
    },
    {
     "name": "stdout",
     "output_type": "stream",
     "text": [
      "final.shape: torch.Size([1920, 256])\n"
     ]
    },
    {
     "name": "stdout",
     "output_type": "stream",
     "text": [
      "final.shape: torch.Size([1920, 256])\n"
     ]
    },
    {
     "name": "stdout",
     "output_type": "stream",
     "text": [
      "final.shape: torch.Size([1920, 256])\n"
     ]
    },
    {
     "name": "stdout",
     "output_type": "stream",
     "text": [
      "final.shape: torch.Size([1920, 256])\n"
     ]
    },
    {
     "name": "stdout",
     "output_type": "stream",
     "text": [
      "final.shape: torch.Size([1920, 256])\n"
     ]
    },
    {
     "name": "stdout",
     "output_type": "stream",
     "text": [
      "final.shape: torch.Size([270, 256])\n",
      "running epoch: 29\n"
     ]
    },
    {
     "name": "stdout",
     "output_type": "stream",
     "text": [
      "final.shape: torch.Size([1920, 256])\n"
     ]
    },
    {
     "name": "stdout",
     "output_type": "stream",
     "text": [
      "final.shape: torch.Size([1920, 256])\n"
     ]
    },
    {
     "name": "stdout",
     "output_type": "stream",
     "text": [
      "final.shape: torch.Size([1920, 256])\n"
     ]
    },
    {
     "name": "stdout",
     "output_type": "stream",
     "text": [
      "final.shape: torch.Size([1920, 256])\n"
     ]
    },
    {
     "name": "stdout",
     "output_type": "stream",
     "text": [
      "final.shape: torch.Size([1920, 256])\n"
     ]
    },
    {
     "name": "stdout",
     "output_type": "stream",
     "text": [
      "final.shape: torch.Size([1920, 256])\n"
     ]
    },
    {
     "name": "stdout",
     "output_type": "stream",
     "text": [
      "final.shape: torch.Size([1920, 256])\n"
     ]
    },
    {
     "name": "stdout",
     "output_type": "stream",
     "text": [
      "final.shape: torch.Size([1920, 256])\n"
     ]
    },
    {
     "name": "stdout",
     "output_type": "stream",
     "text": [
      "final.shape: torch.Size([1920, 256])\n"
     ]
    },
    {
     "name": "stdout",
     "output_type": "stream",
     "text": [
      "final.shape: torch.Size([1920, 256])\n"
     ]
    },
    {
     "name": "stdout",
     "output_type": "stream",
     "text": [
      "final.shape: torch.Size([1920, 256])\n"
     ]
    },
    {
     "name": "stdout",
     "output_type": "stream",
     "text": [
      "final.shape: torch.Size([1920, 256])\n"
     ]
    },
    {
     "name": "stdout",
     "output_type": "stream",
     "text": [
      "final.shape: torch.Size([1920, 256])\n"
     ]
    },
    {
     "name": "stdout",
     "output_type": "stream",
     "text": [
      "final.shape: torch.Size([1920, 256])\n"
     ]
    },
    {
     "name": "stdout",
     "output_type": "stream",
     "text": [
      "final.shape: torch.Size([1920, 256])\n"
     ]
    },
    {
     "name": "stdout",
     "output_type": "stream",
     "text": [
      "final.shape: torch.Size([1920, 256])\n"
     ]
    },
    {
     "name": "stdout",
     "output_type": "stream",
     "text": [
      "final.shape: torch.Size([1920, 256])\n"
     ]
    },
    {
     "name": "stdout",
     "output_type": "stream",
     "text": [
      "final.shape: torch.Size([1920, 256])\n"
     ]
    },
    {
     "name": "stdout",
     "output_type": "stream",
     "text": [
      "final.shape: torch.Size([1920, 256])\n"
     ]
    },
    {
     "name": "stdout",
     "output_type": "stream",
     "text": [
      "final.shape: torch.Size([1920, 256])\n"
     ]
    },
    {
     "name": "stdout",
     "output_type": "stream",
     "text": [
      "final.shape: torch.Size([1920, 256])\n"
     ]
    },
    {
     "name": "stdout",
     "output_type": "stream",
     "text": [
      "final.shape: torch.Size([1920, 256])\n"
     ]
    },
    {
     "name": "stdout",
     "output_type": "stream",
     "text": [
      "final.shape: torch.Size([1920, 256])\n"
     ]
    },
    {
     "name": "stdout",
     "output_type": "stream",
     "text": [
      "final.shape: torch.Size([1920, 256])\n"
     ]
    },
    {
     "name": "stdout",
     "output_type": "stream",
     "text": [
      "final.shape: torch.Size([1920, 256])\n"
     ]
    },
    {
     "name": "stdout",
     "output_type": "stream",
     "text": [
      "final.shape: torch.Size([1920, 256])\n"
     ]
    },
    {
     "name": "stdout",
     "output_type": "stream",
     "text": [
      "final.shape: torch.Size([1920, 256])\n"
     ]
    },
    {
     "name": "stdout",
     "output_type": "stream",
     "text": [
      "final.shape: torch.Size([1920, 256])\n"
     ]
    },
    {
     "name": "stdout",
     "output_type": "stream",
     "text": [
      "final.shape: torch.Size([1920, 256])\n"
     ]
    },
    {
     "name": "stdout",
     "output_type": "stream",
     "text": [
      "final.shape: torch.Size([270, 256])\n"
     ]
    },
    {
     "name": "stdout",
     "output_type": "stream",
     "text": [
      "running epoch: 30\n",
      "final.shape: torch.Size([1920, 256])\n"
     ]
    },
    {
     "name": "stdout",
     "output_type": "stream",
     "text": [
      "final.shape: torch.Size([1920, 256])\n"
     ]
    },
    {
     "name": "stdout",
     "output_type": "stream",
     "text": [
      "final.shape: torch.Size([1920, 256])\n"
     ]
    },
    {
     "name": "stdout",
     "output_type": "stream",
     "text": [
      "final.shape: torch.Size([1920, 256])\n"
     ]
    },
    {
     "name": "stdout",
     "output_type": "stream",
     "text": [
      "final.shape: torch.Size([1920, 256])\n"
     ]
    },
    {
     "name": "stdout",
     "output_type": "stream",
     "text": [
      "final.shape: torch.Size([1920, 256])\n"
     ]
    },
    {
     "name": "stdout",
     "output_type": "stream",
     "text": [
      "final.shape: torch.Size([1920, 256])\n"
     ]
    },
    {
     "name": "stdout",
     "output_type": "stream",
     "text": [
      "final.shape: torch.Size([1920, 256])\n"
     ]
    },
    {
     "name": "stdout",
     "output_type": "stream",
     "text": [
      "final.shape: torch.Size([1920, 256])\n"
     ]
    },
    {
     "name": "stdout",
     "output_type": "stream",
     "text": [
      "final.shape: torch.Size([1920, 256])\n"
     ]
    },
    {
     "name": "stdout",
     "output_type": "stream",
     "text": [
      "final.shape: torch.Size([1920, 256])\n"
     ]
    },
    {
     "name": "stdout",
     "output_type": "stream",
     "text": [
      "final.shape: torch.Size([1920, 256])\n"
     ]
    },
    {
     "name": "stdout",
     "output_type": "stream",
     "text": [
      "final.shape: torch.Size([1920, 256])\n"
     ]
    },
    {
     "name": "stdout",
     "output_type": "stream",
     "text": [
      "final.shape: torch.Size([1920, 256])\n"
     ]
    },
    {
     "name": "stdout",
     "output_type": "stream",
     "text": [
      "final.shape: torch.Size([1920, 256])\n"
     ]
    },
    {
     "name": "stdout",
     "output_type": "stream",
     "text": [
      "final.shape: torch.Size([1920, 256])\n"
     ]
    },
    {
     "name": "stdout",
     "output_type": "stream",
     "text": [
      "final.shape: torch.Size([1920, 256])\n"
     ]
    },
    {
     "name": "stdout",
     "output_type": "stream",
     "text": [
      "final.shape: torch.Size([1920, 256])\n"
     ]
    },
    {
     "name": "stdout",
     "output_type": "stream",
     "text": [
      "final.shape: torch.Size([1920, 256])\n"
     ]
    },
    {
     "name": "stdout",
     "output_type": "stream",
     "text": [
      "final.shape: torch.Size([1920, 256])\n"
     ]
    },
    {
     "name": "stdout",
     "output_type": "stream",
     "text": [
      "final.shape: torch.Size([1920, 256])\n"
     ]
    },
    {
     "name": "stdout",
     "output_type": "stream",
     "text": [
      "final.shape: torch.Size([1920, 256])\n"
     ]
    },
    {
     "name": "stdout",
     "output_type": "stream",
     "text": [
      "final.shape: torch.Size([1920, 256])\n"
     ]
    },
    {
     "name": "stdout",
     "output_type": "stream",
     "text": [
      "final.shape: torch.Size([1920, 256])\n"
     ]
    },
    {
     "name": "stdout",
     "output_type": "stream",
     "text": [
      "final.shape: torch.Size([1920, 256])\n"
     ]
    },
    {
     "name": "stdout",
     "output_type": "stream",
     "text": [
      "final.shape: torch.Size([1920, 256])\n"
     ]
    },
    {
     "name": "stdout",
     "output_type": "stream",
     "text": [
      "final.shape: torch.Size([1920, 256])\n"
     ]
    },
    {
     "name": "stdout",
     "output_type": "stream",
     "text": [
      "final.shape: torch.Size([1920, 256])\n"
     ]
    },
    {
     "name": "stdout",
     "output_type": "stream",
     "text": [
      "final.shape: torch.Size([1920, 256])\n"
     ]
    },
    {
     "name": "stdout",
     "output_type": "stream",
     "text": [
      "final.shape: torch.Size([270, 256])\n",
      "running epoch: 31\n"
     ]
    },
    {
     "name": "stdout",
     "output_type": "stream",
     "text": [
      "final.shape: torch.Size([1920, 256])\n"
     ]
    },
    {
     "name": "stdout",
     "output_type": "stream",
     "text": [
      "final.shape: torch.Size([1920, 256])\n"
     ]
    },
    {
     "name": "stdout",
     "output_type": "stream",
     "text": [
      "final.shape: torch.Size([1920, 256])\n"
     ]
    },
    {
     "name": "stdout",
     "output_type": "stream",
     "text": [
      "final.shape: torch.Size([1920, 256])\n"
     ]
    },
    {
     "name": "stdout",
     "output_type": "stream",
     "text": [
      "final.shape: torch.Size([1920, 256])\n"
     ]
    },
    {
     "name": "stdout",
     "output_type": "stream",
     "text": [
      "final.shape: torch.Size([1920, 256])\n"
     ]
    },
    {
     "name": "stdout",
     "output_type": "stream",
     "text": [
      "final.shape: torch.Size([1920, 256])\n"
     ]
    },
    {
     "name": "stdout",
     "output_type": "stream",
     "text": [
      "final.shape: torch.Size([1920, 256])\n"
     ]
    },
    {
     "name": "stdout",
     "output_type": "stream",
     "text": [
      "final.shape: torch.Size([1920, 256])\n"
     ]
    },
    {
     "name": "stdout",
     "output_type": "stream",
     "text": [
      "final.shape: torch.Size([1920, 256])\n"
     ]
    },
    {
     "name": "stdout",
     "output_type": "stream",
     "text": [
      "final.shape: torch.Size([1920, 256])\n"
     ]
    },
    {
     "name": "stdout",
     "output_type": "stream",
     "text": [
      "final.shape: torch.Size([1920, 256])\n"
     ]
    },
    {
     "name": "stdout",
     "output_type": "stream",
     "text": [
      "final.shape: torch.Size([1920, 256])\n"
     ]
    },
    {
     "name": "stdout",
     "output_type": "stream",
     "text": [
      "final.shape: torch.Size([1920, 256])\n"
     ]
    },
    {
     "name": "stdout",
     "output_type": "stream",
     "text": [
      "final.shape: torch.Size([1920, 256])\n"
     ]
    },
    {
     "name": "stdout",
     "output_type": "stream",
     "text": [
      "final.shape: torch.Size([1920, 256])\n"
     ]
    },
    {
     "name": "stdout",
     "output_type": "stream",
     "text": [
      "final.shape: torch.Size([1920, 256])\n"
     ]
    },
    {
     "name": "stdout",
     "output_type": "stream",
     "text": [
      "final.shape: torch.Size([1920, 256])\n"
     ]
    },
    {
     "name": "stdout",
     "output_type": "stream",
     "text": [
      "final.shape: torch.Size([1920, 256])\n"
     ]
    },
    {
     "name": "stdout",
     "output_type": "stream",
     "text": [
      "final.shape: torch.Size([1920, 256])\n"
     ]
    },
    {
     "name": "stdout",
     "output_type": "stream",
     "text": [
      "final.shape: torch.Size([1920, 256])\n"
     ]
    },
    {
     "name": "stdout",
     "output_type": "stream",
     "text": [
      "final.shape: torch.Size([1920, 256])\n"
     ]
    },
    {
     "name": "stdout",
     "output_type": "stream",
     "text": [
      "final.shape: torch.Size([1920, 256])\n"
     ]
    },
    {
     "name": "stdout",
     "output_type": "stream",
     "text": [
      "final.shape: torch.Size([1920, 256])\n"
     ]
    },
    {
     "name": "stdout",
     "output_type": "stream",
     "text": [
      "final.shape: torch.Size([1920, 256])\n"
     ]
    },
    {
     "name": "stdout",
     "output_type": "stream",
     "text": [
      "final.shape: torch.Size([1920, 256])\n"
     ]
    },
    {
     "name": "stdout",
     "output_type": "stream",
     "text": [
      "final.shape: torch.Size([1920, 256])\n"
     ]
    },
    {
     "name": "stdout",
     "output_type": "stream",
     "text": [
      "final.shape: torch.Size([1920, 256])\n"
     ]
    },
    {
     "name": "stdout",
     "output_type": "stream",
     "text": [
      "final.shape: torch.Size([1920, 256])\n"
     ]
    },
    {
     "name": "stdout",
     "output_type": "stream",
     "text": [
      "final.shape: torch.Size([270, 256])\n"
     ]
    },
    {
     "name": "stdout",
     "output_type": "stream",
     "text": [
      "running epoch: 32\n",
      "final.shape: torch.Size([1920, 256])\n"
     ]
    },
    {
     "name": "stdout",
     "output_type": "stream",
     "text": [
      "final.shape: torch.Size([1920, 256])\n"
     ]
    },
    {
     "name": "stdout",
     "output_type": "stream",
     "text": [
      "final.shape: torch.Size([1920, 256])\n"
     ]
    },
    {
     "name": "stdout",
     "output_type": "stream",
     "text": [
      "final.shape: torch.Size([1920, 256])\n"
     ]
    },
    {
     "name": "stdout",
     "output_type": "stream",
     "text": [
      "final.shape: torch.Size([1920, 256])\n"
     ]
    },
    {
     "name": "stdout",
     "output_type": "stream",
     "text": [
      "final.shape: torch.Size([1920, 256])\n"
     ]
    },
    {
     "name": "stdout",
     "output_type": "stream",
     "text": [
      "final.shape: torch.Size([1920, 256])\n"
     ]
    },
    {
     "name": "stdout",
     "output_type": "stream",
     "text": [
      "final.shape: torch.Size([1920, 256])\n"
     ]
    },
    {
     "name": "stdout",
     "output_type": "stream",
     "text": [
      "final.shape: torch.Size([1920, 256])\n"
     ]
    },
    {
     "name": "stdout",
     "output_type": "stream",
     "text": [
      "final.shape: torch.Size([1920, 256])\n"
     ]
    },
    {
     "name": "stdout",
     "output_type": "stream",
     "text": [
      "final.shape: torch.Size([1920, 256])\n"
     ]
    },
    {
     "name": "stdout",
     "output_type": "stream",
     "text": [
      "final.shape: torch.Size([1920, 256])\n"
     ]
    },
    {
     "name": "stdout",
     "output_type": "stream",
     "text": [
      "final.shape: torch.Size([1920, 256])\n"
     ]
    },
    {
     "name": "stdout",
     "output_type": "stream",
     "text": [
      "final.shape: torch.Size([1920, 256])\n"
     ]
    },
    {
     "name": "stdout",
     "output_type": "stream",
     "text": [
      "final.shape: torch.Size([1920, 256])\n"
     ]
    },
    {
     "name": "stdout",
     "output_type": "stream",
     "text": [
      "final.shape: torch.Size([1920, 256])\n"
     ]
    },
    {
     "name": "stdout",
     "output_type": "stream",
     "text": [
      "final.shape: torch.Size([1920, 256])\n"
     ]
    },
    {
     "name": "stdout",
     "output_type": "stream",
     "text": [
      "final.shape: torch.Size([1920, 256])\n"
     ]
    },
    {
     "name": "stdout",
     "output_type": "stream",
     "text": [
      "final.shape: torch.Size([1920, 256])\n"
     ]
    },
    {
     "name": "stdout",
     "output_type": "stream",
     "text": [
      "final.shape: torch.Size([1920, 256])\n"
     ]
    },
    {
     "name": "stdout",
     "output_type": "stream",
     "text": [
      "final.shape: torch.Size([1920, 256])\n"
     ]
    },
    {
     "name": "stdout",
     "output_type": "stream",
     "text": [
      "final.shape: torch.Size([1920, 256])\n"
     ]
    },
    {
     "name": "stdout",
     "output_type": "stream",
     "text": [
      "final.shape: torch.Size([1920, 256])\n"
     ]
    },
    {
     "name": "stdout",
     "output_type": "stream",
     "text": [
      "final.shape: torch.Size([1920, 256])\n"
     ]
    },
    {
     "name": "stdout",
     "output_type": "stream",
     "text": [
      "final.shape: torch.Size([1920, 256])\n"
     ]
    },
    {
     "name": "stdout",
     "output_type": "stream",
     "text": [
      "final.shape: torch.Size([1920, 256])\n"
     ]
    },
    {
     "name": "stdout",
     "output_type": "stream",
     "text": [
      "final.shape: torch.Size([1920, 256])\n"
     ]
    },
    {
     "name": "stdout",
     "output_type": "stream",
     "text": [
      "final.shape: torch.Size([1920, 256])\n"
     ]
    },
    {
     "name": "stdout",
     "output_type": "stream",
     "text": [
      "final.shape: torch.Size([1920, 256])\n"
     ]
    },
    {
     "name": "stdout",
     "output_type": "stream",
     "text": [
      "final.shape: torch.Size([270, 256])\n"
     ]
    },
    {
     "name": "stdout",
     "output_type": "stream",
     "text": [
      "running epoch: 33\n",
      "final.shape: torch.Size([1920, 256])\n"
     ]
    },
    {
     "name": "stdout",
     "output_type": "stream",
     "text": [
      "final.shape: torch.Size([1920, 256])\n"
     ]
    },
    {
     "name": "stdout",
     "output_type": "stream",
     "text": [
      "final.shape: torch.Size([1920, 256])\n"
     ]
    },
    {
     "name": "stdout",
     "output_type": "stream",
     "text": [
      "final.shape: torch.Size([1920, 256])\n"
     ]
    },
    {
     "name": "stdout",
     "output_type": "stream",
     "text": [
      "final.shape: torch.Size([1920, 256])\n"
     ]
    },
    {
     "name": "stdout",
     "output_type": "stream",
     "text": [
      "final.shape: torch.Size([1920, 256])\n"
     ]
    },
    {
     "name": "stdout",
     "output_type": "stream",
     "text": [
      "final.shape: torch.Size([1920, 256])\n"
     ]
    },
    {
     "name": "stdout",
     "output_type": "stream",
     "text": [
      "final.shape: torch.Size([1920, 256])\n"
     ]
    },
    {
     "name": "stdout",
     "output_type": "stream",
     "text": [
      "final.shape: torch.Size([1920, 256])\n"
     ]
    },
    {
     "name": "stdout",
     "output_type": "stream",
     "text": [
      "final.shape: torch.Size([1920, 256])\n"
     ]
    },
    {
     "name": "stdout",
     "output_type": "stream",
     "text": [
      "final.shape: torch.Size([1920, 256])\n"
     ]
    },
    {
     "name": "stdout",
     "output_type": "stream",
     "text": [
      "final.shape: torch.Size([1920, 256])\n"
     ]
    },
    {
     "name": "stdout",
     "output_type": "stream",
     "text": [
      "final.shape: torch.Size([1920, 256])\n"
     ]
    },
    {
     "name": "stdout",
     "output_type": "stream",
     "text": [
      "final.shape: torch.Size([1920, 256])\n"
     ]
    },
    {
     "name": "stdout",
     "output_type": "stream",
     "text": [
      "final.shape: torch.Size([1920, 256])\n"
     ]
    },
    {
     "name": "stdout",
     "output_type": "stream",
     "text": [
      "final.shape: torch.Size([1920, 256])\n"
     ]
    },
    {
     "name": "stdout",
     "output_type": "stream",
     "text": [
      "final.shape: torch.Size([1920, 256])\n"
     ]
    },
    {
     "name": "stdout",
     "output_type": "stream",
     "text": [
      "final.shape: torch.Size([1920, 256])\n"
     ]
    },
    {
     "name": "stdout",
     "output_type": "stream",
     "text": [
      "final.shape: torch.Size([1920, 256])\n"
     ]
    },
    {
     "name": "stdout",
     "output_type": "stream",
     "text": [
      "final.shape: torch.Size([1920, 256])\n"
     ]
    },
    {
     "name": "stdout",
     "output_type": "stream",
     "text": [
      "final.shape: torch.Size([1920, 256])\n"
     ]
    },
    {
     "name": "stdout",
     "output_type": "stream",
     "text": [
      "final.shape: torch.Size([1920, 256])\n"
     ]
    },
    {
     "name": "stdout",
     "output_type": "stream",
     "text": [
      "final.shape: torch.Size([1920, 256])\n"
     ]
    },
    {
     "name": "stdout",
     "output_type": "stream",
     "text": [
      "final.shape: torch.Size([1920, 256])\n"
     ]
    },
    {
     "name": "stdout",
     "output_type": "stream",
     "text": [
      "final.shape: torch.Size([1920, 256])\n"
     ]
    },
    {
     "name": "stdout",
     "output_type": "stream",
     "text": [
      "final.shape: torch.Size([1920, 256])\n"
     ]
    },
    {
     "name": "stdout",
     "output_type": "stream",
     "text": [
      "final.shape: torch.Size([1920, 256])\n"
     ]
    },
    {
     "name": "stdout",
     "output_type": "stream",
     "text": [
      "final.shape: torch.Size([1920, 256])\n"
     ]
    },
    {
     "name": "stdout",
     "output_type": "stream",
     "text": [
      "final.shape: torch.Size([1920, 256])\n"
     ]
    },
    {
     "name": "stdout",
     "output_type": "stream",
     "text": [
      "final.shape: torch.Size([270, 256])\n",
      "running epoch: 34\n"
     ]
    },
    {
     "name": "stdout",
     "output_type": "stream",
     "text": [
      "final.shape: torch.Size([1920, 256])\n"
     ]
    },
    {
     "name": "stdout",
     "output_type": "stream",
     "text": [
      "final.shape: torch.Size([1920, 256])\n"
     ]
    },
    {
     "name": "stdout",
     "output_type": "stream",
     "text": [
      "final.shape: torch.Size([1920, 256])\n"
     ]
    },
    {
     "name": "stdout",
     "output_type": "stream",
     "text": [
      "final.shape: torch.Size([1920, 256])\n"
     ]
    },
    {
     "name": "stdout",
     "output_type": "stream",
     "text": [
      "final.shape: torch.Size([1920, 256])\n"
     ]
    },
    {
     "name": "stdout",
     "output_type": "stream",
     "text": [
      "final.shape: torch.Size([1920, 256])\n"
     ]
    },
    {
     "name": "stdout",
     "output_type": "stream",
     "text": [
      "final.shape: torch.Size([1920, 256])\n"
     ]
    },
    {
     "name": "stdout",
     "output_type": "stream",
     "text": [
      "final.shape: torch.Size([1920, 256])\n"
     ]
    },
    {
     "name": "stdout",
     "output_type": "stream",
     "text": [
      "final.shape: torch.Size([1920, 256])\n"
     ]
    },
    {
     "name": "stdout",
     "output_type": "stream",
     "text": [
      "final.shape: torch.Size([1920, 256])\n"
     ]
    },
    {
     "name": "stdout",
     "output_type": "stream",
     "text": [
      "final.shape: torch.Size([1920, 256])\n"
     ]
    },
    {
     "name": "stdout",
     "output_type": "stream",
     "text": [
      "final.shape: torch.Size([1920, 256])\n"
     ]
    },
    {
     "name": "stdout",
     "output_type": "stream",
     "text": [
      "final.shape: torch.Size([1920, 256])\n"
     ]
    },
    {
     "name": "stdout",
     "output_type": "stream",
     "text": [
      "final.shape: torch.Size([1920, 256])\n"
     ]
    },
    {
     "name": "stdout",
     "output_type": "stream",
     "text": [
      "final.shape: torch.Size([1920, 256])\n"
     ]
    },
    {
     "name": "stdout",
     "output_type": "stream",
     "text": [
      "final.shape: torch.Size([1920, 256])\n"
     ]
    },
    {
     "name": "stdout",
     "output_type": "stream",
     "text": [
      "final.shape: torch.Size([1920, 256])\n"
     ]
    },
    {
     "name": "stdout",
     "output_type": "stream",
     "text": [
      "final.shape: torch.Size([1920, 256])\n"
     ]
    },
    {
     "name": "stdout",
     "output_type": "stream",
     "text": [
      "final.shape: torch.Size([1920, 256])\n"
     ]
    },
    {
     "name": "stdout",
     "output_type": "stream",
     "text": [
      "final.shape: torch.Size([1920, 256])\n"
     ]
    },
    {
     "name": "stdout",
     "output_type": "stream",
     "text": [
      "final.shape: torch.Size([1920, 256])\n"
     ]
    },
    {
     "name": "stdout",
     "output_type": "stream",
     "text": [
      "final.shape: torch.Size([1920, 256])\n"
     ]
    },
    {
     "name": "stdout",
     "output_type": "stream",
     "text": [
      "final.shape: torch.Size([1920, 256])\n"
     ]
    },
    {
     "name": "stdout",
     "output_type": "stream",
     "text": [
      "final.shape: torch.Size([1920, 256])\n"
     ]
    },
    {
     "name": "stdout",
     "output_type": "stream",
     "text": [
      "final.shape: torch.Size([1920, 256])\n"
     ]
    },
    {
     "name": "stdout",
     "output_type": "stream",
     "text": [
      "final.shape: torch.Size([1920, 256])\n"
     ]
    },
    {
     "name": "stdout",
     "output_type": "stream",
     "text": [
      "final.shape: torch.Size([1920, 256])\n"
     ]
    },
    {
     "name": "stdout",
     "output_type": "stream",
     "text": [
      "final.shape: torch.Size([1920, 256])\n"
     ]
    },
    {
     "name": "stdout",
     "output_type": "stream",
     "text": [
      "final.shape: torch.Size([1920, 256])\n"
     ]
    },
    {
     "name": "stdout",
     "output_type": "stream",
     "text": [
      "final.shape: torch.Size([270, 256])\n"
     ]
    },
    {
     "name": "stdout",
     "output_type": "stream",
     "text": [
      "running epoch: 35\n",
      "final.shape: torch.Size([1920, 256])\n"
     ]
    },
    {
     "name": "stdout",
     "output_type": "stream",
     "text": [
      "final.shape: torch.Size([1920, 256])\n"
     ]
    },
    {
     "name": "stdout",
     "output_type": "stream",
     "text": [
      "final.shape: torch.Size([1920, 256])\n"
     ]
    },
    {
     "name": "stdout",
     "output_type": "stream",
     "text": [
      "final.shape: torch.Size([1920, 256])\n"
     ]
    },
    {
     "name": "stdout",
     "output_type": "stream",
     "text": [
      "final.shape: torch.Size([1920, 256])\n"
     ]
    },
    {
     "name": "stdout",
     "output_type": "stream",
     "text": [
      "final.shape: torch.Size([1920, 256])\n"
     ]
    },
    {
     "name": "stdout",
     "output_type": "stream",
     "text": [
      "final.shape: torch.Size([1920, 256])\n"
     ]
    },
    {
     "name": "stdout",
     "output_type": "stream",
     "text": [
      "final.shape: torch.Size([1920, 256])\n"
     ]
    },
    {
     "name": "stdout",
     "output_type": "stream",
     "text": [
      "final.shape: torch.Size([1920, 256])\n"
     ]
    },
    {
     "name": "stdout",
     "output_type": "stream",
     "text": [
      "final.shape: torch.Size([1920, 256])\n"
     ]
    },
    {
     "name": "stdout",
     "output_type": "stream",
     "text": [
      "final.shape: torch.Size([1920, 256])\n"
     ]
    },
    {
     "name": "stdout",
     "output_type": "stream",
     "text": [
      "final.shape: torch.Size([1920, 256])\n"
     ]
    },
    {
     "name": "stdout",
     "output_type": "stream",
     "text": [
      "final.shape: torch.Size([1920, 256])\n"
     ]
    },
    {
     "name": "stdout",
     "output_type": "stream",
     "text": [
      "final.shape: torch.Size([1920, 256])\n"
     ]
    },
    {
     "name": "stdout",
     "output_type": "stream",
     "text": [
      "final.shape: torch.Size([1920, 256])\n"
     ]
    },
    {
     "name": "stdout",
     "output_type": "stream",
     "text": [
      "final.shape: torch.Size([1920, 256])\n"
     ]
    },
    {
     "name": "stdout",
     "output_type": "stream",
     "text": [
      "final.shape: torch.Size([1920, 256])\n"
     ]
    },
    {
     "name": "stdout",
     "output_type": "stream",
     "text": [
      "final.shape: torch.Size([1920, 256])\n"
     ]
    },
    {
     "name": "stdout",
     "output_type": "stream",
     "text": [
      "final.shape: torch.Size([1920, 256])\n"
     ]
    },
    {
     "name": "stdout",
     "output_type": "stream",
     "text": [
      "final.shape: torch.Size([1920, 256])\n"
     ]
    },
    {
     "name": "stdout",
     "output_type": "stream",
     "text": [
      "final.shape: torch.Size([1920, 256])\n"
     ]
    },
    {
     "name": "stdout",
     "output_type": "stream",
     "text": [
      "final.shape: torch.Size([1920, 256])\n"
     ]
    },
    {
     "name": "stdout",
     "output_type": "stream",
     "text": [
      "final.shape: torch.Size([1920, 256])\n"
     ]
    },
    {
     "name": "stdout",
     "output_type": "stream",
     "text": [
      "final.shape: torch.Size([1920, 256])\n"
     ]
    },
    {
     "name": "stdout",
     "output_type": "stream",
     "text": [
      "final.shape: torch.Size([1920, 256])\n"
     ]
    },
    {
     "name": "stdout",
     "output_type": "stream",
     "text": [
      "final.shape: torch.Size([1920, 256])\n"
     ]
    },
    {
     "name": "stdout",
     "output_type": "stream",
     "text": [
      "final.shape: torch.Size([1920, 256])\n"
     ]
    },
    {
     "name": "stdout",
     "output_type": "stream",
     "text": [
      "final.shape: torch.Size([1920, 256])\n"
     ]
    },
    {
     "name": "stdout",
     "output_type": "stream",
     "text": [
      "final.shape: torch.Size([1920, 256])\n"
     ]
    },
    {
     "name": "stdout",
     "output_type": "stream",
     "text": [
      "final.shape: torch.Size([270, 256])\n"
     ]
    },
    {
     "name": "stdout",
     "output_type": "stream",
     "text": [
      "running epoch: 36\n",
      "final.shape: torch.Size([1920, 256])\n"
     ]
    },
    {
     "name": "stdout",
     "output_type": "stream",
     "text": [
      "final.shape: torch.Size([1920, 256])\n"
     ]
    },
    {
     "name": "stdout",
     "output_type": "stream",
     "text": [
      "final.shape: torch.Size([1920, 256])\n"
     ]
    },
    {
     "name": "stdout",
     "output_type": "stream",
     "text": [
      "final.shape: torch.Size([1920, 256])\n"
     ]
    },
    {
     "name": "stdout",
     "output_type": "stream",
     "text": [
      "final.shape: torch.Size([1920, 256])\n"
     ]
    },
    {
     "name": "stdout",
     "output_type": "stream",
     "text": [
      "final.shape: torch.Size([1920, 256])\n"
     ]
    },
    {
     "name": "stdout",
     "output_type": "stream",
     "text": [
      "final.shape: torch.Size([1920, 256])\n"
     ]
    },
    {
     "name": "stdout",
     "output_type": "stream",
     "text": [
      "final.shape: torch.Size([1920, 256])\n"
     ]
    },
    {
     "name": "stdout",
     "output_type": "stream",
     "text": [
      "final.shape: torch.Size([1920, 256])\n"
     ]
    },
    {
     "name": "stdout",
     "output_type": "stream",
     "text": [
      "final.shape: torch.Size([1920, 256])\n"
     ]
    },
    {
     "name": "stdout",
     "output_type": "stream",
     "text": [
      "final.shape: torch.Size([1920, 256])\n"
     ]
    },
    {
     "name": "stdout",
     "output_type": "stream",
     "text": [
      "final.shape: torch.Size([1920, 256])\n"
     ]
    },
    {
     "name": "stdout",
     "output_type": "stream",
     "text": [
      "final.shape: torch.Size([1920, 256])\n"
     ]
    },
    {
     "name": "stdout",
     "output_type": "stream",
     "text": [
      "final.shape: torch.Size([1920, 256])\n"
     ]
    },
    {
     "name": "stdout",
     "output_type": "stream",
     "text": [
      "final.shape: torch.Size([1920, 256])\n"
     ]
    },
    {
     "name": "stdout",
     "output_type": "stream",
     "text": [
      "final.shape: torch.Size([1920, 256])\n"
     ]
    },
    {
     "name": "stdout",
     "output_type": "stream",
     "text": [
      "final.shape: torch.Size([1920, 256])\n"
     ]
    },
    {
     "name": "stdout",
     "output_type": "stream",
     "text": [
      "final.shape: torch.Size([1920, 256])\n"
     ]
    },
    {
     "name": "stdout",
     "output_type": "stream",
     "text": [
      "final.shape: torch.Size([1920, 256])\n"
     ]
    },
    {
     "name": "stdout",
     "output_type": "stream",
     "text": [
      "final.shape: torch.Size([1920, 256])\n"
     ]
    },
    {
     "name": "stdout",
     "output_type": "stream",
     "text": [
      "final.shape: torch.Size([1920, 256])\n"
     ]
    },
    {
     "name": "stdout",
     "output_type": "stream",
     "text": [
      "final.shape: torch.Size([1920, 256])\n"
     ]
    },
    {
     "name": "stdout",
     "output_type": "stream",
     "text": [
      "final.shape: torch.Size([1920, 256])\n"
     ]
    },
    {
     "name": "stdout",
     "output_type": "stream",
     "text": [
      "final.shape: torch.Size([1920, 256])\n"
     ]
    },
    {
     "name": "stdout",
     "output_type": "stream",
     "text": [
      "final.shape: torch.Size([1920, 256])\n"
     ]
    },
    {
     "name": "stdout",
     "output_type": "stream",
     "text": [
      "final.shape: torch.Size([1920, 256])\n"
     ]
    },
    {
     "name": "stdout",
     "output_type": "stream",
     "text": [
      "final.shape: torch.Size([1920, 256])\n"
     ]
    },
    {
     "name": "stdout",
     "output_type": "stream",
     "text": [
      "final.shape: torch.Size([1920, 256])\n"
     ]
    },
    {
     "name": "stdout",
     "output_type": "stream",
     "text": [
      "final.shape: torch.Size([1920, 256])\n"
     ]
    },
    {
     "name": "stdout",
     "output_type": "stream",
     "text": [
      "final.shape: torch.Size([270, 256])\n"
     ]
    },
    {
     "name": "stdout",
     "output_type": "stream",
     "text": [
      "running epoch: 37\n",
      "final.shape: torch.Size([1920, 256])\n"
     ]
    },
    {
     "name": "stdout",
     "output_type": "stream",
     "text": [
      "final.shape: torch.Size([1920, 256])\n"
     ]
    },
    {
     "name": "stdout",
     "output_type": "stream",
     "text": [
      "final.shape: torch.Size([1920, 256])\n"
     ]
    },
    {
     "name": "stdout",
     "output_type": "stream",
     "text": [
      "final.shape: torch.Size([1920, 256])\n"
     ]
    },
    {
     "name": "stdout",
     "output_type": "stream",
     "text": [
      "final.shape: torch.Size([1920, 256])\n"
     ]
    },
    {
     "name": "stdout",
     "output_type": "stream",
     "text": [
      "final.shape: torch.Size([1920, 256])\n"
     ]
    },
    {
     "name": "stdout",
     "output_type": "stream",
     "text": [
      "final.shape: torch.Size([1920, 256])\n"
     ]
    },
    {
     "name": "stdout",
     "output_type": "stream",
     "text": [
      "final.shape: torch.Size([1920, 256])\n"
     ]
    },
    {
     "name": "stdout",
     "output_type": "stream",
     "text": [
      "final.shape: torch.Size([1920, 256])\n"
     ]
    },
    {
     "name": "stdout",
     "output_type": "stream",
     "text": [
      "final.shape: torch.Size([1920, 256])\n"
     ]
    },
    {
     "name": "stdout",
     "output_type": "stream",
     "text": [
      "final.shape: torch.Size([1920, 256])\n"
     ]
    },
    {
     "name": "stdout",
     "output_type": "stream",
     "text": [
      "final.shape: torch.Size([1920, 256])\n"
     ]
    },
    {
     "name": "stdout",
     "output_type": "stream",
     "text": [
      "final.shape: torch.Size([1920, 256])\n"
     ]
    },
    {
     "name": "stdout",
     "output_type": "stream",
     "text": [
      "final.shape: torch.Size([1920, 256])\n"
     ]
    },
    {
     "name": "stdout",
     "output_type": "stream",
     "text": [
      "final.shape: torch.Size([1920, 256])\n"
     ]
    },
    {
     "name": "stdout",
     "output_type": "stream",
     "text": [
      "final.shape: torch.Size([1920, 256])\n"
     ]
    },
    {
     "name": "stdout",
     "output_type": "stream",
     "text": [
      "final.shape: torch.Size([1920, 256])\n"
     ]
    },
    {
     "name": "stdout",
     "output_type": "stream",
     "text": [
      "final.shape: torch.Size([1920, 256])\n"
     ]
    },
    {
     "name": "stdout",
     "output_type": "stream",
     "text": [
      "final.shape: torch.Size([1920, 256])\n"
     ]
    },
    {
     "name": "stdout",
     "output_type": "stream",
     "text": [
      "final.shape: torch.Size([1920, 256])\n"
     ]
    },
    {
     "name": "stdout",
     "output_type": "stream",
     "text": [
      "final.shape: torch.Size([1920, 256])\n"
     ]
    },
    {
     "name": "stdout",
     "output_type": "stream",
     "text": [
      "final.shape: torch.Size([1920, 256])\n"
     ]
    },
    {
     "name": "stdout",
     "output_type": "stream",
     "text": [
      "final.shape: torch.Size([1920, 256])\n"
     ]
    },
    {
     "name": "stdout",
     "output_type": "stream",
     "text": [
      "final.shape: torch.Size([1920, 256])\n"
     ]
    },
    {
     "name": "stdout",
     "output_type": "stream",
     "text": [
      "final.shape: torch.Size([1920, 256])\n"
     ]
    },
    {
     "name": "stdout",
     "output_type": "stream",
     "text": [
      "final.shape: torch.Size([1920, 256])\n"
     ]
    },
    {
     "name": "stdout",
     "output_type": "stream",
     "text": [
      "final.shape: torch.Size([1920, 256])\n"
     ]
    },
    {
     "name": "stdout",
     "output_type": "stream",
     "text": [
      "final.shape: torch.Size([1920, 256])\n"
     ]
    },
    {
     "name": "stdout",
     "output_type": "stream",
     "text": [
      "final.shape: torch.Size([1920, 256])\n"
     ]
    },
    {
     "name": "stdout",
     "output_type": "stream",
     "text": [
      "final.shape: torch.Size([270, 256])\n"
     ]
    },
    {
     "name": "stdout",
     "output_type": "stream",
     "text": [
      "running epoch: 38\n",
      "final.shape: torch.Size([1920, 256])\n"
     ]
    },
    {
     "name": "stdout",
     "output_type": "stream",
     "text": [
      "final.shape: torch.Size([1920, 256])\n"
     ]
    },
    {
     "name": "stdout",
     "output_type": "stream",
     "text": [
      "final.shape: torch.Size([1920, 256])\n"
     ]
    },
    {
     "name": "stdout",
     "output_type": "stream",
     "text": [
      "final.shape: torch.Size([1920, 256])\n"
     ]
    },
    {
     "name": "stdout",
     "output_type": "stream",
     "text": [
      "final.shape: torch.Size([1920, 256])\n"
     ]
    },
    {
     "name": "stdout",
     "output_type": "stream",
     "text": [
      "final.shape: torch.Size([1920, 256])\n"
     ]
    },
    {
     "name": "stdout",
     "output_type": "stream",
     "text": [
      "final.shape: torch.Size([1920, 256])\n"
     ]
    },
    {
     "name": "stdout",
     "output_type": "stream",
     "text": [
      "final.shape: torch.Size([1920, 256])\n"
     ]
    },
    {
     "name": "stdout",
     "output_type": "stream",
     "text": [
      "final.shape: torch.Size([1920, 256])\n"
     ]
    },
    {
     "name": "stdout",
     "output_type": "stream",
     "text": [
      "final.shape: torch.Size([1920, 256])\n"
     ]
    },
    {
     "name": "stdout",
     "output_type": "stream",
     "text": [
      "final.shape: torch.Size([1920, 256])\n"
     ]
    },
    {
     "name": "stdout",
     "output_type": "stream",
     "text": [
      "final.shape: torch.Size([1920, 256])\n"
     ]
    },
    {
     "name": "stdout",
     "output_type": "stream",
     "text": [
      "final.shape: torch.Size([1920, 256])\n"
     ]
    },
    {
     "name": "stdout",
     "output_type": "stream",
     "text": [
      "final.shape: torch.Size([1920, 256])\n"
     ]
    },
    {
     "name": "stdout",
     "output_type": "stream",
     "text": [
      "final.shape: torch.Size([1920, 256])\n"
     ]
    },
    {
     "name": "stdout",
     "output_type": "stream",
     "text": [
      "final.shape: torch.Size([1920, 256])\n"
     ]
    },
    {
     "name": "stdout",
     "output_type": "stream",
     "text": [
      "final.shape: torch.Size([1920, 256])\n"
     ]
    },
    {
     "name": "stdout",
     "output_type": "stream",
     "text": [
      "final.shape: torch.Size([1920, 256])\n"
     ]
    },
    {
     "name": "stdout",
     "output_type": "stream",
     "text": [
      "final.shape: torch.Size([1920, 256])\n"
     ]
    },
    {
     "name": "stdout",
     "output_type": "stream",
     "text": [
      "final.shape: torch.Size([1920, 256])\n"
     ]
    },
    {
     "name": "stdout",
     "output_type": "stream",
     "text": [
      "final.shape: torch.Size([1920, 256])\n"
     ]
    },
    {
     "name": "stdout",
     "output_type": "stream",
     "text": [
      "final.shape: torch.Size([1920, 256])\n"
     ]
    },
    {
     "name": "stdout",
     "output_type": "stream",
     "text": [
      "final.shape: torch.Size([1920, 256])\n"
     ]
    },
    {
     "name": "stdout",
     "output_type": "stream",
     "text": [
      "final.shape: torch.Size([1920, 256])\n"
     ]
    },
    {
     "name": "stdout",
     "output_type": "stream",
     "text": [
      "final.shape: torch.Size([1920, 256])\n"
     ]
    },
    {
     "name": "stdout",
     "output_type": "stream",
     "text": [
      "final.shape: torch.Size([1920, 256])\n"
     ]
    },
    {
     "name": "stdout",
     "output_type": "stream",
     "text": [
      "final.shape: torch.Size([1920, 256])\n"
     ]
    },
    {
     "name": "stdout",
     "output_type": "stream",
     "text": [
      "final.shape: torch.Size([1920, 256])\n"
     ]
    },
    {
     "name": "stdout",
     "output_type": "stream",
     "text": [
      "final.shape: torch.Size([1920, 256])\n"
     ]
    },
    {
     "name": "stdout",
     "output_type": "stream",
     "text": [
      "final.shape: torch.Size([270, 256])\n"
     ]
    },
    {
     "name": "stdout",
     "output_type": "stream",
     "text": [
      "running epoch: 39\n",
      "final.shape: torch.Size([1920, 256])\n"
     ]
    },
    {
     "name": "stdout",
     "output_type": "stream",
     "text": [
      "final.shape: torch.Size([1920, 256])\n"
     ]
    },
    {
     "name": "stdout",
     "output_type": "stream",
     "text": [
      "final.shape: torch.Size([1920, 256])\n"
     ]
    },
    {
     "name": "stdout",
     "output_type": "stream",
     "text": [
      "final.shape: torch.Size([1920, 256])\n"
     ]
    },
    {
     "name": "stdout",
     "output_type": "stream",
     "text": [
      "final.shape: torch.Size([1920, 256])\n"
     ]
    },
    {
     "name": "stdout",
     "output_type": "stream",
     "text": [
      "final.shape: torch.Size([1920, 256])\n"
     ]
    },
    {
     "name": "stdout",
     "output_type": "stream",
     "text": [
      "final.shape: torch.Size([1920, 256])\n"
     ]
    },
    {
     "name": "stdout",
     "output_type": "stream",
     "text": [
      "final.shape: torch.Size([1920, 256])\n"
     ]
    },
    {
     "name": "stdout",
     "output_type": "stream",
     "text": [
      "final.shape: torch.Size([1920, 256])\n"
     ]
    },
    {
     "name": "stdout",
     "output_type": "stream",
     "text": [
      "final.shape: torch.Size([1920, 256])\n"
     ]
    },
    {
     "name": "stdout",
     "output_type": "stream",
     "text": [
      "final.shape: torch.Size([1920, 256])\n"
     ]
    },
    {
     "name": "stdout",
     "output_type": "stream",
     "text": [
      "final.shape: torch.Size([1920, 256])\n"
     ]
    },
    {
     "name": "stdout",
     "output_type": "stream",
     "text": [
      "final.shape: torch.Size([1920, 256])\n"
     ]
    },
    {
     "name": "stdout",
     "output_type": "stream",
     "text": [
      "final.shape: torch.Size([1920, 256])\n"
     ]
    },
    {
     "name": "stdout",
     "output_type": "stream",
     "text": [
      "final.shape: torch.Size([1920, 256])\n"
     ]
    },
    {
     "name": "stdout",
     "output_type": "stream",
     "text": [
      "final.shape: torch.Size([1920, 256])\n"
     ]
    },
    {
     "name": "stdout",
     "output_type": "stream",
     "text": [
      "final.shape: torch.Size([1920, 256])\n"
     ]
    },
    {
     "name": "stdout",
     "output_type": "stream",
     "text": [
      "final.shape: torch.Size([1920, 256])\n"
     ]
    },
    {
     "name": "stdout",
     "output_type": "stream",
     "text": [
      "final.shape: torch.Size([1920, 256])\n"
     ]
    },
    {
     "name": "stdout",
     "output_type": "stream",
     "text": [
      "final.shape: torch.Size([1920, 256])\n"
     ]
    },
    {
     "name": "stdout",
     "output_type": "stream",
     "text": [
      "final.shape: torch.Size([1920, 256])\n"
     ]
    },
    {
     "name": "stdout",
     "output_type": "stream",
     "text": [
      "final.shape: torch.Size([1920, 256])\n"
     ]
    },
    {
     "name": "stdout",
     "output_type": "stream",
     "text": [
      "final.shape: torch.Size([1920, 256])\n"
     ]
    },
    {
     "name": "stdout",
     "output_type": "stream",
     "text": [
      "final.shape: torch.Size([1920, 256])\n"
     ]
    },
    {
     "name": "stdout",
     "output_type": "stream",
     "text": [
      "final.shape: torch.Size([1920, 256])\n"
     ]
    },
    {
     "name": "stdout",
     "output_type": "stream",
     "text": [
      "final.shape: torch.Size([1920, 256])\n"
     ]
    },
    {
     "name": "stdout",
     "output_type": "stream",
     "text": [
      "final.shape: torch.Size([1920, 256])\n"
     ]
    },
    {
     "name": "stdout",
     "output_type": "stream",
     "text": [
      "final.shape: torch.Size([1920, 256])\n"
     ]
    },
    {
     "name": "stdout",
     "output_type": "stream",
     "text": [
      "final.shape: torch.Size([1920, 256])\n"
     ]
    },
    {
     "name": "stdout",
     "output_type": "stream",
     "text": [
      "final.shape: torch.Size([270, 256])\n"
     ]
    },
    {
     "name": "stdout",
     "output_type": "stream",
     "text": [
      "running epoch: 40\n",
      "final.shape: torch.Size([1920, 256])\n"
     ]
    },
    {
     "name": "stdout",
     "output_type": "stream",
     "text": [
      "final.shape: torch.Size([1920, 256])\n"
     ]
    },
    {
     "name": "stdout",
     "output_type": "stream",
     "text": [
      "final.shape: torch.Size([1920, 256])\n"
     ]
    },
    {
     "name": "stdout",
     "output_type": "stream",
     "text": [
      "final.shape: torch.Size([1920, 256])\n"
     ]
    },
    {
     "name": "stdout",
     "output_type": "stream",
     "text": [
      "final.shape: torch.Size([1920, 256])\n"
     ]
    },
    {
     "name": "stdout",
     "output_type": "stream",
     "text": [
      "final.shape: torch.Size([1920, 256])\n"
     ]
    },
    {
     "name": "stdout",
     "output_type": "stream",
     "text": [
      "final.shape: torch.Size([1920, 256])\n"
     ]
    },
    {
     "name": "stdout",
     "output_type": "stream",
     "text": [
      "final.shape: torch.Size([1920, 256])\n"
     ]
    },
    {
     "name": "stdout",
     "output_type": "stream",
     "text": [
      "final.shape: torch.Size([1920, 256])\n"
     ]
    },
    {
     "name": "stdout",
     "output_type": "stream",
     "text": [
      "final.shape: torch.Size([1920, 256])\n"
     ]
    },
    {
     "name": "stdout",
     "output_type": "stream",
     "text": [
      "final.shape: torch.Size([1920, 256])\n"
     ]
    },
    {
     "name": "stdout",
     "output_type": "stream",
     "text": [
      "final.shape: torch.Size([1920, 256])\n"
     ]
    },
    {
     "name": "stdout",
     "output_type": "stream",
     "text": [
      "final.shape: torch.Size([1920, 256])\n"
     ]
    },
    {
     "name": "stdout",
     "output_type": "stream",
     "text": [
      "final.shape: torch.Size([1920, 256])\n"
     ]
    },
    {
     "name": "stdout",
     "output_type": "stream",
     "text": [
      "final.shape: torch.Size([1920, 256])\n"
     ]
    },
    {
     "name": "stdout",
     "output_type": "stream",
     "text": [
      "final.shape: torch.Size([1920, 256])\n"
     ]
    },
    {
     "name": "stdout",
     "output_type": "stream",
     "text": [
      "final.shape: torch.Size([1920, 256])\n"
     ]
    },
    {
     "name": "stdout",
     "output_type": "stream",
     "text": [
      "final.shape: torch.Size([1920, 256])\n"
     ]
    },
    {
     "name": "stdout",
     "output_type": "stream",
     "text": [
      "final.shape: torch.Size([1920, 256])\n"
     ]
    },
    {
     "name": "stdout",
     "output_type": "stream",
     "text": [
      "final.shape: torch.Size([1920, 256])\n"
     ]
    },
    {
     "name": "stdout",
     "output_type": "stream",
     "text": [
      "final.shape: torch.Size([1920, 256])\n"
     ]
    },
    {
     "name": "stdout",
     "output_type": "stream",
     "text": [
      "final.shape: torch.Size([1920, 256])\n"
     ]
    },
    {
     "name": "stdout",
     "output_type": "stream",
     "text": [
      "final.shape: torch.Size([1920, 256])\n"
     ]
    },
    {
     "name": "stdout",
     "output_type": "stream",
     "text": [
      "final.shape: torch.Size([1920, 256])\n"
     ]
    },
    {
     "name": "stdout",
     "output_type": "stream",
     "text": [
      "final.shape: torch.Size([1920, 256])\n"
     ]
    },
    {
     "name": "stdout",
     "output_type": "stream",
     "text": [
      "final.shape: torch.Size([1920, 256])\n"
     ]
    },
    {
     "name": "stdout",
     "output_type": "stream",
     "text": [
      "final.shape: torch.Size([1920, 256])\n"
     ]
    },
    {
     "name": "stdout",
     "output_type": "stream",
     "text": [
      "final.shape: torch.Size([1920, 256])\n"
     ]
    },
    {
     "name": "stdout",
     "output_type": "stream",
     "text": [
      "final.shape: torch.Size([1920, 256])\n"
     ]
    },
    {
     "name": "stdout",
     "output_type": "stream",
     "text": [
      "final.shape: torch.Size([270, 256])\n"
     ]
    },
    {
     "name": "stdout",
     "output_type": "stream",
     "text": [
      "Epoch: 40  Avg Loss: 9.873857854019061e-05, Time: 991.0270278453827\n",
      "Median: 1.021761552256725\n",
      "Mean: 1.1455708498756147\n",
      "running epoch: 41\n",
      "final.shape: torch.Size([1920, 256])\n"
     ]
    },
    {
     "name": "stdout",
     "output_type": "stream",
     "text": [
      "final.shape: torch.Size([1920, 256])\n"
     ]
    },
    {
     "name": "stdout",
     "output_type": "stream",
     "text": [
      "final.shape: torch.Size([1920, 256])\n"
     ]
    },
    {
     "name": "stdout",
     "output_type": "stream",
     "text": [
      "final.shape: torch.Size([1920, 256])\n"
     ]
    },
    {
     "name": "stdout",
     "output_type": "stream",
     "text": [
      "final.shape: torch.Size([1920, 256])\n"
     ]
    },
    {
     "name": "stdout",
     "output_type": "stream",
     "text": [
      "final.shape: torch.Size([1920, 256])\n"
     ]
    },
    {
     "name": "stdout",
     "output_type": "stream",
     "text": [
      "final.shape: torch.Size([1920, 256])\n"
     ]
    },
    {
     "name": "stdout",
     "output_type": "stream",
     "text": [
      "final.shape: torch.Size([1920, 256])\n"
     ]
    },
    {
     "name": "stdout",
     "output_type": "stream",
     "text": [
      "final.shape: torch.Size([1920, 256])\n"
     ]
    },
    {
     "name": "stdout",
     "output_type": "stream",
     "text": [
      "final.shape: torch.Size([1920, 256])\n"
     ]
    },
    {
     "name": "stdout",
     "output_type": "stream",
     "text": [
      "final.shape: torch.Size([1920, 256])\n"
     ]
    },
    {
     "name": "stdout",
     "output_type": "stream",
     "text": [
      "final.shape: torch.Size([1920, 256])\n"
     ]
    },
    {
     "name": "stdout",
     "output_type": "stream",
     "text": [
      "final.shape: torch.Size([1920, 256])\n"
     ]
    },
    {
     "name": "stdout",
     "output_type": "stream",
     "text": [
      "final.shape: torch.Size([1920, 256])\n"
     ]
    },
    {
     "name": "stdout",
     "output_type": "stream",
     "text": [
      "final.shape: torch.Size([1920, 256])\n"
     ]
    },
    {
     "name": "stdout",
     "output_type": "stream",
     "text": [
      "final.shape: torch.Size([1920, 256])\n"
     ]
    },
    {
     "name": "stdout",
     "output_type": "stream",
     "text": [
      "final.shape: torch.Size([1920, 256])\n"
     ]
    },
    {
     "name": "stdout",
     "output_type": "stream",
     "text": [
      "final.shape: torch.Size([1920, 256])\n"
     ]
    },
    {
     "name": "stdout",
     "output_type": "stream",
     "text": [
      "final.shape: torch.Size([1920, 256])\n"
     ]
    },
    {
     "name": "stdout",
     "output_type": "stream",
     "text": [
      "final.shape: torch.Size([1920, 256])\n"
     ]
    },
    {
     "name": "stdout",
     "output_type": "stream",
     "text": [
      "final.shape: torch.Size([1920, 256])\n"
     ]
    },
    {
     "name": "stdout",
     "output_type": "stream",
     "text": [
      "final.shape: torch.Size([1920, 256])\n"
     ]
    },
    {
     "name": "stdout",
     "output_type": "stream",
     "text": [
      "final.shape: torch.Size([1920, 256])\n"
     ]
    },
    {
     "name": "stdout",
     "output_type": "stream",
     "text": [
      "final.shape: torch.Size([1920, 256])\n"
     ]
    },
    {
     "name": "stdout",
     "output_type": "stream",
     "text": [
      "final.shape: torch.Size([1920, 256])\n"
     ]
    },
    {
     "name": "stdout",
     "output_type": "stream",
     "text": [
      "final.shape: torch.Size([1920, 256])\n"
     ]
    },
    {
     "name": "stdout",
     "output_type": "stream",
     "text": [
      "final.shape: torch.Size([1920, 256])\n"
     ]
    },
    {
     "name": "stdout",
     "output_type": "stream",
     "text": [
      "final.shape: torch.Size([1920, 256])\n"
     ]
    },
    {
     "name": "stdout",
     "output_type": "stream",
     "text": [
      "final.shape: torch.Size([1920, 256])\n"
     ]
    },
    {
     "name": "stdout",
     "output_type": "stream",
     "text": [
      "final.shape: torch.Size([270, 256])\n",
      "final.shape: torch.Size([1920, 256])\n"
     ]
    },
    {
     "name": "stdout",
     "output_type": "stream",
     "text": [
      "final.shape: torch.Size([1920, 256])\n",
      "final.shape: torch.Size([1920, 256])\n"
     ]
    },
    {
     "name": "stdout",
     "output_type": "stream",
     "text": [
      "final.shape: torch.Size([1920, 256])\n",
      "final.shape: torch.Size([1920, 256])\n"
     ]
    },
    {
     "name": "stdout",
     "output_type": "stream",
     "text": [
      "final.shape: torch.Size([1920, 256])\n",
      "final.shape: torch.Size([1920, 256])\n"
     ]
    },
    {
     "name": "stdout",
     "output_type": "stream",
     "text": [
      "final.shape: torch.Size([570, 256])\n",
      "ps: [37855.465 13671.405 37855.465 11197.974 67034.51  12698.228 67034.51\n",
      " 58550.44  37855.465 11197.964 67034.51  11197.964 58550.44  58550.44\n",
      " 67034.51  58550.44  37855.465 67034.51  58550.44  24697.752 58550.44\n",
      " 37855.465 14572.342 58550.44  67034.51  67034.51  11197.964 67034.51\n",
      " 13671.417 67034.51  58550.44  58550.44  37855.465 58550.44  67034.51\n",
      " 14636.131 67034.51  37855.465 11197.964 58550.44  58550.44  67034.51\n",
      " 67034.51  58550.44  58550.44  37855.465 67034.51  37855.465 58550.44\n",
      " 13124.01  11197.974 11197.964 12698.228 58550.44  37855.465 37855.465\n",
      " 58550.44  67034.51  67034.51  67034.51  67034.51  11197.974 37855.465\n",
      " 11197.974 58550.44  67034.51  58550.44  67034.51  11197.964 11197.974\n",
      " 67034.51  67034.51  37855.465 11197.964 37855.465 58550.44  11197.964\n",
      " 67034.51  12698.241 67034.51  67034.51  12698.241 11197.974 12698.228\n",
      " 11197.964 13124.01  58550.44  67034.51  58550.44  11197.974 67034.51\n",
      " 11197.964 11197.964 67034.51  24697.68  11197.964 67034.51  58550.44\n",
      " 67034.51  67034.51  67034.51  12698.241 58550.44  67034.51  58550.44\n",
      " 11197.964 37855.465 58550.44  11197.974 11197.974 58550.44  11197.964\n",
      " 67034.51  67034.51  37855.465 11197.974 37855.465 12698.228 67034.51\n",
      " 58550.44  11197.974 11197.964 11197.964 24697.68  67034.51  67034.51\n",
      " 58550.44  58550.44  67034.51  67034.51  67034.51  67034.51  67034.51\n",
      " 58550.44  13124.01  37855.465 11197.974 67034.51  11197.974 11197.964\n",
      " 67034.51  58550.44  11197.974 11197.964 13124.01  37855.465 58550.44\n",
      " 58550.44  11197.974 37855.465 11197.974 67034.51  67034.51  67034.51\n",
      " 67034.51  67034.51  11197.974 37855.465 12698.228 58550.44  58550.44\n",
      " 11197.964 11197.964 11197.974 24697.68  11197.964 67034.51  11197.964\n",
      " 11197.964 11197.964 11197.964 67034.51  13124.034 67034.51  37855.465\n",
      " 58550.44  58550.44  67034.51  67034.51  67034.51  24697.752 67034.51\n",
      " 11197.964 11197.964 58550.44  67034.51  11197.964 67034.51  37855.465\n",
      " 67034.51  58550.44  13180.063 11197.974 67034.51  12698.241 11197.974\n",
      " 11197.964 67034.51  11197.974 11197.964 37855.465 37855.465 13671.405\n",
      " 67034.51  67034.51  58550.44  37855.465 58550.44  11197.974 58550.44\n",
      " 37855.465 58550.44  58550.44  58550.44  37855.465 67034.51  11197.974\n",
      " 11197.964 11197.974 13124.01  67034.51  58550.44  11197.974 11197.964\n",
      " 67034.51  11197.964 11197.974 58550.44  11197.964 37855.465 13180.063\n",
      " 37855.465 58550.44  24697.752 67034.51  58550.44  37855.465 67034.51\n",
      " 37855.465 58550.44  11197.964 11197.974 12698.228 67034.51  11197.974\n",
      " 37855.465 37855.465 37855.465 13124.01  67034.51  13304.62  37855.465\n",
      " 67034.51  11197.964 67034.51  67034.51  67034.51  37855.465 37855.465\n",
      " 67034.51  37855.465 67034.51  11197.964 11197.974 37855.465 58550.44\n",
      " 11197.964 12698.241 58550.44  67034.51  11197.964 58550.44  37855.465\n",
      " 12698.241 11197.974 11197.964 67034.51  12698.241 11197.964 67034.51\n",
      " 58550.44  37855.465 58550.44  58550.44  58550.44  58550.44  11197.964\n",
      " 67034.51  11197.964 11197.964 14395.564 58550.44  11197.964 67034.51\n",
      " 11197.974 37855.465 11197.964 11197.964 67034.51  37855.465 67034.51\n",
      " 67034.51  11197.964 67034.51  67034.51  11197.974 11197.974 58550.44\n",
      " 58550.44  67034.51  67034.51  11197.964 13671.417 58550.44  37855.465\n",
      " 58550.44  24697.752 37855.465 11197.964 14572.342 11197.974 67034.51\n",
      " 67034.51  11197.964 11197.974 67034.51  11197.974 11197.964 24697.68\n",
      " 58550.44  67034.51  12698.241 12698.241 37855.465 11197.974 11197.974\n",
      " 37855.465 11197.964 37855.465 58550.44  37855.465 58550.44  12698.241\n",
      " 37855.465 37855.465 37855.465 67034.51  58550.44  67034.51  37855.465\n",
      " 67034.51  11197.964 37855.465 37855.465 11197.964 11197.964 11197.964\n",
      " 67034.51  67034.51  67034.51  58550.44  58550.44  37855.465 67034.51\n",
      " 11197.964 58550.44  11197.964 67034.51  58550.44  12698.228 58550.44\n",
      " 67034.51  11197.964 11197.964 67034.51  67034.51  58550.44  67034.51\n",
      " 11197.974 67034.51  67034.51  12698.241 58550.44  58550.44  11197.964\n",
      " 58550.44  58550.44  58550.44  67034.51  24697.68  58550.44  11197.974\n",
      " 24697.752 58550.44  11197.974 11197.964 11197.964 11197.964 12808.053\n",
      " 58550.44  11197.964 67034.51  58550.44  11197.964 67034.51  37855.465\n",
      " 58550.44  67034.51  12808.053 12698.241 11197.964 58550.44  67034.51\n",
      " 58550.44  67034.51  12698.241 11197.964 67034.51  58550.44  13124.034\n",
      " 37855.465 11197.964 67034.51  13180.063 13763.737 67034.51  11197.964\n",
      " 67034.51  67034.51  37855.465 67034.51  37855.465 58550.44  67034.51\n",
      " 67034.51  11197.964 58550.44  11197.974 67034.51  67034.51  67034.51\n",
      " 58550.44  11197.964 11197.964 11197.964 37855.465 37855.465 67034.51\n",
      " 11197.974 37855.465 11197.964 13671.417 58550.44  67034.51  67034.51\n",
      " 37855.465 37855.465 11197.964 12698.241 67034.51  58550.44  12698.228\n",
      " 67034.51  14572.231 58550.44  37855.465 11197.964]\n"
     ]
    },
    {
     "name": "stdout",
     "output_type": "stream",
     "text": [
      "ls: [tensor([35153.], dtype=torch.float64), tensor([9951.], dtype=torch.float64), tensor([38815.], dtype=torch.float64), tensor([14175.], dtype=torch.float64), tensor([66821.], dtype=torch.float64), tensor([9951.], dtype=torch.float64), tensor([66821.], dtype=torch.float64), tensor([58513.], dtype=torch.float64), tensor([39421.], dtype=torch.float64), tensor([9951.], dtype=torch.float64), tensor([66821.], dtype=torch.float64), tensor([14187.], dtype=torch.float64), tensor([58512.], dtype=torch.float64), tensor([58512.], dtype=torch.float64), tensor([66822.], dtype=torch.float64), tensor([58512.], dtype=torch.float64), tensor([35343.], dtype=torch.float64), tensor([66823.], dtype=torch.float64), tensor([58512.], dtype=torch.float64), tensor([19798.], dtype=torch.float64), tensor([58512.], dtype=torch.float64), tensor([38590.], dtype=torch.float64), tensor([9951.], dtype=torch.float64), tensor([58513.], dtype=torch.float64), tensor([66821.], dtype=torch.float64), tensor([66821.], dtype=torch.float64), tensor([9951.], dtype=torch.float64), tensor([66821.], dtype=torch.float64), tensor([7639.], dtype=torch.float64), tensor([66821.], dtype=torch.float64), tensor([58512.], dtype=torch.float64), tensor([58512.], dtype=torch.float64), tensor([38825.], dtype=torch.float64), tensor([58512.], dtype=torch.float64), tensor([66821.], dtype=torch.float64), tensor([15913.], dtype=torch.float64), tensor([66821.], dtype=torch.float64), tensor([39267.], dtype=torch.float64), tensor([14175.], dtype=torch.float64), tensor([58512.], dtype=torch.float64), tensor([58513.], dtype=torch.float64), tensor([66824.], dtype=torch.float64), tensor([66821.], dtype=torch.float64), tensor([58512.], dtype=torch.float64), tensor([58512.], dtype=torch.float64), tensor([39130.], dtype=torch.float64), tensor([66821.], dtype=torch.float64), tensor([38957.], dtype=torch.float64), tensor([58512.], dtype=torch.float64), tensor([14175.], dtype=torch.float64), tensor([17508.], dtype=torch.float64), tensor([14175.], dtype=torch.float64), tensor([15711.], dtype=torch.float64), tensor([58512.], dtype=torch.float64), tensor([34609.], dtype=torch.float64), tensor([39097.], dtype=torch.float64), tensor([58512.], dtype=torch.float64), tensor([66824.], dtype=torch.float64), tensor([66821.], dtype=torch.float64), tensor([66822.], dtype=torch.float64), tensor([66821.], dtype=torch.float64), tensor([9951.], dtype=torch.float64), tensor([38861.], dtype=torch.float64), tensor([9951.], dtype=torch.float64), tensor([58512.], dtype=torch.float64), tensor([66823.], dtype=torch.float64), tensor([58518.], dtype=torch.float64), tensor([66821.], dtype=torch.float64), tensor([3876.], dtype=torch.float64), tensor([9951.], dtype=torch.float64), tensor([66821.], dtype=torch.float64), tensor([66821.], dtype=torch.float64), tensor([38465.], dtype=torch.float64), tensor([9951.], dtype=torch.float64), tensor([39229.], dtype=torch.float64), tensor([58512.], dtype=torch.float64), tensor([9951.], dtype=torch.float64), tensor([66821.], dtype=torch.float64), tensor([15711.], dtype=torch.float64), tensor([66837.], dtype=torch.float64), tensor([66821.], dtype=torch.float64), tensor([15711.], dtype=torch.float64), tensor([17455.], dtype=torch.float64), tensor([15711.], dtype=torch.float64), tensor([3876.], dtype=torch.float64), tensor([14176.], dtype=torch.float64), tensor([58514.], dtype=torch.float64), tensor([66821.], dtype=torch.float64), tensor([58513.], dtype=torch.float64), tensor([9951.], dtype=torch.float64), tensor([66821.], dtype=torch.float64), tensor([14175.], dtype=torch.float64), tensor([9951.], dtype=torch.float64), tensor([66824.], dtype=torch.float64), tensor([31180.], dtype=torch.float64), tensor([14175.], dtype=torch.float64), tensor([66821.], dtype=torch.float64), tensor([58512.], dtype=torch.float64), tensor([66844.], dtype=torch.float64), tensor([66821.], dtype=torch.float64), tensor([66827.], dtype=torch.float64), tensor([15711.], dtype=torch.float64), tensor([58512.], dtype=torch.float64), tensor([66821.], dtype=torch.float64), tensor([58512.], dtype=torch.float64), tensor([3876.], dtype=torch.float64), tensor([39220.], dtype=torch.float64), tensor([58512.], dtype=torch.float64), tensor([14197.], dtype=torch.float64), tensor([9951.], dtype=torch.float64), tensor([58512.], dtype=torch.float64), tensor([14175.], dtype=torch.float64), tensor([66822.], dtype=torch.float64), tensor([66821.], dtype=torch.float64), tensor([39087.], dtype=torch.float64), tensor([9951.], dtype=torch.float64), tensor([39511.], dtype=torch.float64), tensor([15711.], dtype=torch.float64), tensor([66821.], dtype=torch.float64), tensor([58512.], dtype=torch.float64), tensor([14175.], dtype=torch.float64), tensor([14176.], dtype=torch.float64), tensor([14175.], dtype=torch.float64), tensor([23183.], dtype=torch.float64), tensor([66821.], dtype=torch.float64), tensor([66821.], dtype=torch.float64), tensor([58512.], dtype=torch.float64), tensor([58512.], dtype=torch.float64), tensor([66834.], dtype=torch.float64), tensor([66821.], dtype=torch.float64), tensor([66821.], dtype=torch.float64), tensor([66821.], dtype=torch.float64), tensor([66821.], dtype=torch.float64), tensor([58512.], dtype=torch.float64), tensor([15945.], dtype=torch.float64), tensor([39097.], dtype=torch.float64), tensor([14178.], dtype=torch.float64), tensor([66823.], dtype=torch.float64), tensor([17416.], dtype=torch.float64), tensor([14211.], dtype=torch.float64), tensor([66821.], dtype=torch.float64), tensor([58512.], dtype=torch.float64), tensor([9951.], dtype=torch.float64), tensor([14181.], dtype=torch.float64), tensor([14180.], dtype=torch.float64), tensor([39157.], dtype=torch.float64), tensor([58512.], dtype=torch.float64), tensor([58512.], dtype=torch.float64), tensor([9951.], dtype=torch.float64), tensor([34333.], dtype=torch.float64), tensor([9951.], dtype=torch.float64), tensor([66821.], dtype=torch.float64), tensor([66821.], dtype=torch.float64), tensor([66823.], dtype=torch.float64), tensor([66822.], dtype=torch.float64), tensor([66821.], dtype=torch.float64), tensor([9951.], dtype=torch.float64), tensor([39439.], dtype=torch.float64), tensor([9951.], dtype=torch.float64), tensor([58512.], dtype=torch.float64), tensor([58512.], dtype=torch.float64), tensor([14185.], dtype=torch.float64), tensor([9951.], dtype=torch.float64), tensor([14190.], dtype=torch.float64), tensor([27726.], dtype=torch.float64), tensor([14175.], dtype=torch.float64), tensor([66825.], dtype=torch.float64), tensor([14175.], dtype=torch.float64), tensor([14175.], dtype=torch.float64), tensor([9951.], dtype=torch.float64), tensor([9951.], dtype=torch.float64), tensor([66821.], dtype=torch.float64), tensor([14175.], dtype=torch.float64), tensor([66821.], dtype=torch.float64), tensor([38230.], dtype=torch.float64), tensor([58512.], dtype=torch.float64), tensor([58554.], dtype=torch.float64), tensor([66821.], dtype=torch.float64), tensor([66821.], dtype=torch.float64), tensor([66821.], dtype=torch.float64), tensor([27816.], dtype=torch.float64), tensor([66821.], dtype=torch.float64), tensor([14175.], dtype=torch.float64), tensor([14177.], dtype=torch.float64), tensor([58513.], dtype=torch.float64), tensor([66825.], dtype=torch.float64), tensor([9951.], dtype=torch.float64), tensor([66821.], dtype=torch.float64), tensor([38979.], dtype=torch.float64), tensor([66821.], dtype=torch.float64), tensor([58512.], dtype=torch.float64), tensor([16033.], dtype=torch.float64), tensor([9951.], dtype=torch.float64), tensor([66822.], dtype=torch.float64), tensor([15711.], dtype=torch.float64), tensor([14176.], dtype=torch.float64), tensor([14175.], dtype=torch.float64), tensor([66821.], dtype=torch.float64), tensor([14184.], dtype=torch.float64), tensor([17417.], dtype=torch.float64), tensor([38953.], dtype=torch.float64), tensor([38850.], dtype=torch.float64), tensor([18834.], dtype=torch.float64), tensor([66824.], dtype=torch.float64), tensor([66821.], dtype=torch.float64), tensor([58512.], dtype=torch.float64), tensor([38995.], dtype=torch.float64), tensor([58512.], dtype=torch.float64), tensor([9951.], dtype=torch.float64), tensor([58512.], dtype=torch.float64), tensor([39133.], dtype=torch.float64), tensor([58512.], dtype=torch.float64), tensor([58512.], dtype=torch.float64), tensor([58512.], dtype=torch.float64), tensor([34955.], dtype=torch.float64), tensor([66821.], dtype=torch.float64), tensor([14175.], dtype=torch.float64), tensor([14175.], dtype=torch.float64), tensor([9951.], dtype=torch.float64), tensor([14175.], dtype=torch.float64), tensor([66821.], dtype=torch.float64), tensor([58513.], dtype=torch.float64), tensor([14176.], dtype=torch.float64), tensor([14175.], dtype=torch.float64), tensor([66822.], dtype=torch.float64), tensor([14176.], dtype=torch.float64), tensor([14175.], dtype=torch.float64), tensor([58512.], dtype=torch.float64), tensor([14175.], dtype=torch.float64), tensor([38633.], dtype=torch.float64), tensor([16020.], dtype=torch.float64), tensor([39159.], dtype=torch.float64), tensor([58512.], dtype=torch.float64), tensor([21227.], dtype=torch.float64), tensor([66821.], dtype=torch.float64), tensor([58512.], dtype=torch.float64), tensor([38936.], dtype=torch.float64), tensor([66917.], dtype=torch.float64), tensor([39033.], dtype=torch.float64), tensor([58520.], dtype=torch.float64), tensor([14176.], dtype=torch.float64), tensor([9951.], dtype=torch.float64), tensor([15711.], dtype=torch.float64), tensor([66821.], dtype=torch.float64), tensor([13320.], dtype=torch.float64), tensor([35160.], dtype=torch.float64), tensor([34116.], dtype=torch.float64), tensor([34116.], dtype=torch.float64), tensor([14187.], dtype=torch.float64), tensor([66821.], dtype=torch.float64), tensor([17844.], dtype=torch.float64), tensor([39105.], dtype=torch.float64), tensor([66821.], dtype=torch.float64), tensor([14175.], dtype=torch.float64), tensor([66821.], dtype=torch.float64), tensor([66821.], dtype=torch.float64), tensor([66821.], dtype=torch.float64), tensor([38953.], dtype=torch.float64), tensor([35253.], dtype=torch.float64), tensor([66824.], dtype=torch.float64), tensor([39049.], dtype=torch.float64), tensor([66821.], dtype=torch.float64), tensor([14175.], dtype=torch.float64), tensor([9951.], dtype=torch.float64), tensor([38922.], dtype=torch.float64), tensor([58512.], dtype=torch.float64), tensor([14175.], dtype=torch.float64), tensor([9951.], dtype=torch.float64), tensor([58512.], dtype=torch.float64), tensor([66821.], dtype=torch.float64), tensor([17416.], dtype=torch.float64), tensor([58512.], dtype=torch.float64), tensor([39141.], dtype=torch.float64), tensor([15711.], dtype=torch.float64), tensor([14181.], dtype=torch.float64), tensor([9951.], dtype=torch.float64), tensor([66821.], dtype=torch.float64), tensor([9951.], dtype=torch.float64), tensor([14211.], dtype=torch.float64), tensor([66821.], dtype=torch.float64), tensor([58512.], dtype=torch.float64), tensor([38483.], dtype=torch.float64), tensor([58512.], dtype=torch.float64), tensor([58512.], dtype=torch.float64), tensor([58512.], dtype=torch.float64), tensor([58512.], dtype=torch.float64), tensor([14200.], dtype=torch.float64), tensor([66821.], dtype=torch.float64), tensor([14177.], dtype=torch.float64), tensor([14197.], dtype=torch.float64), tensor([17246.], dtype=torch.float64), tensor([58512.], dtype=torch.float64), tensor([14175.], dtype=torch.float64), tensor([66821.], dtype=torch.float64), tensor([9951.], dtype=torch.float64), tensor([38898.], dtype=torch.float64), tensor([3876.], dtype=torch.float64), tensor([21733.], dtype=torch.float64), tensor([66821.], dtype=torch.float64), tensor([35178.], dtype=torch.float64), tensor([66861.], dtype=torch.float64), tensor([66825.], dtype=torch.float64), tensor([9951.], dtype=torch.float64), tensor([66821.], dtype=torch.float64), tensor([66821.], dtype=torch.float64), tensor([9951.], dtype=torch.float64), tensor([9951.], dtype=torch.float64), tensor([58512.], dtype=torch.float64), tensor([58512.], dtype=torch.float64), tensor([66822.], dtype=torch.float64), tensor([66821.], dtype=torch.float64), tensor([9951.], dtype=torch.float64), tensor([18834.], dtype=torch.float64), tensor([58512.], dtype=torch.float64), tensor([38543.], dtype=torch.float64), tensor([58515.], dtype=torch.float64), tensor([27726.], dtype=torch.float64), tensor([35045.], dtype=torch.float64), tensor([9951.], dtype=torch.float64), tensor([19520.], dtype=torch.float64), tensor([14175.], dtype=torch.float64), tensor([66821.], dtype=torch.float64), tensor([66821.], dtype=torch.float64), tensor([14178.], dtype=torch.float64), tensor([9951.], dtype=torch.float64), tensor([66821.], dtype=torch.float64), tensor([14175.], dtype=torch.float64), tensor([9951.], dtype=torch.float64), tensor([19798.], dtype=torch.float64), tensor([58512.], dtype=torch.float64), tensor([66823.], dtype=torch.float64), tensor([3876.], dtype=torch.float64), tensor([15712.], dtype=torch.float64), tensor([38393.], dtype=torch.float64), tensor([9951.], dtype=torch.float64), tensor([9951.], dtype=torch.float64), tensor([39310.], dtype=torch.float64), tensor([14175.], dtype=torch.float64), tensor([35343.], dtype=torch.float64), tensor([58512.], dtype=torch.float64), tensor([39058.], dtype=torch.float64), tensor([58512.], dtype=torch.float64), tensor([15716.], dtype=torch.float64), tensor([39403.], dtype=torch.float64), tensor([35025.], dtype=torch.float64), tensor([39013.], dtype=torch.float64), tensor([66822.], dtype=torch.float64), tensor([58516.], dtype=torch.float64), tensor([66821.], dtype=torch.float64), tensor([38535.], dtype=torch.float64), tensor([66821.], dtype=torch.float64), tensor([14047.], dtype=torch.float64), tensor([38212.], dtype=torch.float64), tensor([38321.], dtype=torch.float64), tensor([14176.], dtype=torch.float64), tensor([14178.], dtype=torch.float64), tensor([17416.], dtype=torch.float64), tensor([66821.], dtype=torch.float64), tensor([66821.], dtype=torch.float64), tensor([66821.], dtype=torch.float64), tensor([58512.], dtype=torch.float64), tensor([58512.], dtype=torch.float64), tensor([39066.], dtype=torch.float64), tensor([66821.], dtype=torch.float64), tensor([9951.], dtype=torch.float64), tensor([58512.], dtype=torch.float64), tensor([9951.], dtype=torch.float64), tensor([66821.], dtype=torch.float64), tensor([58512.], dtype=torch.float64), tensor([15711.], dtype=torch.float64), tensor([58512.], dtype=torch.float64), tensor([66821.], dtype=torch.float64), tensor([9951.], dtype=torch.float64), tensor([3876.], dtype=torch.float64), tensor([66822.], dtype=torch.float64), tensor([66827.], dtype=torch.float64), tensor([58512.], dtype=torch.float64), tensor([66826.], dtype=torch.float64), tensor([9951.], dtype=torch.float64), tensor([66821.], dtype=torch.float64), tensor([66821.], dtype=torch.float64), tensor([15712.], dtype=torch.float64), tensor([58512.], dtype=torch.float64), tensor([58512.], dtype=torch.float64), tensor([14199.], dtype=torch.float64), tensor([58513.], dtype=torch.float64), tensor([58512.], dtype=torch.float64), tensor([58512.], dtype=torch.float64), tensor([66821.], dtype=torch.float64), tensor([20556.], dtype=torch.float64), tensor([58519.], dtype=torch.float64), tensor([17416.], dtype=torch.float64), tensor([24812.], dtype=torch.float64), tensor([58512.], dtype=torch.float64), tensor([14179.], dtype=torch.float64), tensor([14175.], dtype=torch.float64), tensor([14175.], dtype=torch.float64), tensor([9951.], dtype=torch.float64), tensor([14175.], dtype=torch.float64), tensor([58512.], dtype=torch.float64), tensor([14175.], dtype=torch.float64), tensor([66821.], dtype=torch.float64), tensor([58512.], dtype=torch.float64), tensor([3876.], dtype=torch.float64), tensor([66821.], dtype=torch.float64), tensor([34584.], dtype=torch.float64), tensor([58512.], dtype=torch.float64), tensor([66821.], dtype=torch.float64), tensor([11274.], dtype=torch.float64), tensor([15711.], dtype=torch.float64), tensor([14175.], dtype=torch.float64), tensor([58512.], dtype=torch.float64), tensor([66825.], dtype=torch.float64), tensor([58512.], dtype=torch.float64), tensor([66821.], dtype=torch.float64), tensor([9951.], dtype=torch.float64), tensor([9951.], dtype=torch.float64), tensor([66823.], dtype=torch.float64), tensor([58512.], dtype=torch.float64), tensor([14178.], dtype=torch.float64), tensor([38879.], dtype=torch.float64), tensor([14175.], dtype=torch.float64), tensor([66821.], dtype=torch.float64), tensor([12552.], dtype=torch.float64), tensor([14162.], dtype=torch.float64), tensor([66822.], dtype=torch.float64), tensor([14200.], dtype=torch.float64), tensor([66823.], dtype=torch.float64), tensor([66821.], dtype=torch.float64), tensor([38879.], dtype=torch.float64), tensor([66824.], dtype=torch.float64), tensor([39049.], dtype=torch.float64), tensor([58512.], dtype=torch.float64), tensor([66821.], dtype=torch.float64), tensor([66821.], dtype=torch.float64), tensor([14176.], dtype=torch.float64), tensor([58512.], dtype=torch.float64), tensor([14179.], dtype=torch.float64), tensor([66821.], dtype=torch.float64), tensor([66821.], dtype=torch.float64), tensor([66821.], dtype=torch.float64), tensor([58512.], dtype=torch.float64), tensor([14176.], dtype=torch.float64), tensor([14175.], dtype=torch.float64), tensor([14182.], dtype=torch.float64), tensor([38446.], dtype=torch.float64), tensor([39030.], dtype=torch.float64), tensor([66821.], dtype=torch.float64), tensor([14175.], dtype=torch.float64), tensor([38590.], dtype=torch.float64), tensor([9951.], dtype=torch.float64), tensor([18834.], dtype=torch.float64), tensor([58512.], dtype=torch.float64), tensor([66821.], dtype=torch.float64), tensor([66849.], dtype=torch.float64), tensor([39173.], dtype=torch.float64), tensor([35097.], dtype=torch.float64), tensor([14047.], dtype=torch.float64), tensor([15711.], dtype=torch.float64), tensor([66821.], dtype=torch.float64), tensor([58512.], dtype=torch.float64), tensor([9951.], dtype=torch.float64), tensor([66821.], dtype=torch.float64), tensor([9951.], dtype=torch.float64), tensor([58512.], dtype=torch.float64), tensor([35271.], dtype=torch.float64), tensor([14178.], dtype=torch.float64)]\n",
      "len(ls): 467\n",
      "final.shape: torch.Size([1920, 256])\n"
     ]
    },
    {
     "name": "stdout",
     "output_type": "stream",
     "text": [
      "final.shape: torch.Size([1920, 256])\n",
      "final.shape: torch.Size([1920, 256])\n"
     ]
    },
    {
     "name": "stdout",
     "output_type": "stream",
     "text": [
      "final.shape: torch.Size([1920, 256])\n",
      "final.shape: torch.Size([1920, 256])\n"
     ]
    },
    {
     "name": "stdout",
     "output_type": "stream",
     "text": [
      "final.shape: torch.Size([1920, 256])\n",
      "final.shape: torch.Size([1920, 256])\n"
     ]
    },
    {
     "name": "stdout",
     "output_type": "stream",
     "text": [
      "final.shape: torch.Size([570, 256])\n",
      "running epoch: 42\n",
      "final.shape: torch.Size([1920, 256])\n"
     ]
    },
    {
     "name": "stdout",
     "output_type": "stream",
     "text": [
      "final.shape: torch.Size([1920, 256])\n"
     ]
    },
    {
     "name": "stdout",
     "output_type": "stream",
     "text": [
      "final.shape: torch.Size([1920, 256])\n"
     ]
    },
    {
     "name": "stdout",
     "output_type": "stream",
     "text": [
      "final.shape: torch.Size([1920, 256])\n"
     ]
    },
    {
     "name": "stdout",
     "output_type": "stream",
     "text": [
      "final.shape: torch.Size([1920, 256])\n"
     ]
    },
    {
     "name": "stdout",
     "output_type": "stream",
     "text": [
      "final.shape: torch.Size([1920, 256])\n"
     ]
    },
    {
     "name": "stdout",
     "output_type": "stream",
     "text": [
      "final.shape: torch.Size([1920, 256])\n"
     ]
    },
    {
     "name": "stdout",
     "output_type": "stream",
     "text": [
      "final.shape: torch.Size([1920, 256])\n"
     ]
    },
    {
     "name": "stdout",
     "output_type": "stream",
     "text": [
      "final.shape: torch.Size([1920, 256])\n"
     ]
    },
    {
     "name": "stdout",
     "output_type": "stream",
     "text": [
      "final.shape: torch.Size([1920, 256])\n"
     ]
    },
    {
     "name": "stdout",
     "output_type": "stream",
     "text": [
      "final.shape: torch.Size([1920, 256])\n"
     ]
    },
    {
     "name": "stdout",
     "output_type": "stream",
     "text": [
      "final.shape: torch.Size([1920, 256])\n"
     ]
    },
    {
     "name": "stdout",
     "output_type": "stream",
     "text": [
      "final.shape: torch.Size([1920, 256])\n"
     ]
    },
    {
     "name": "stdout",
     "output_type": "stream",
     "text": [
      "final.shape: torch.Size([1920, 256])\n"
     ]
    },
    {
     "name": "stdout",
     "output_type": "stream",
     "text": [
      "final.shape: torch.Size([1920, 256])\n"
     ]
    },
    {
     "name": "stdout",
     "output_type": "stream",
     "text": [
      "final.shape: torch.Size([1920, 256])\n"
     ]
    },
    {
     "name": "stdout",
     "output_type": "stream",
     "text": [
      "final.shape: torch.Size([1920, 256])\n"
     ]
    },
    {
     "name": "stdout",
     "output_type": "stream",
     "text": [
      "final.shape: torch.Size([1920, 256])\n"
     ]
    },
    {
     "name": "stdout",
     "output_type": "stream",
     "text": [
      "final.shape: torch.Size([1920, 256])\n"
     ]
    },
    {
     "name": "stdout",
     "output_type": "stream",
     "text": [
      "final.shape: torch.Size([1920, 256])\n"
     ]
    },
    {
     "name": "stdout",
     "output_type": "stream",
     "text": [
      "final.shape: torch.Size([1920, 256])\n"
     ]
    },
    {
     "name": "stdout",
     "output_type": "stream",
     "text": [
      "final.shape: torch.Size([1920, 256])\n"
     ]
    },
    {
     "name": "stdout",
     "output_type": "stream",
     "text": [
      "final.shape: torch.Size([1920, 256])\n"
     ]
    },
    {
     "name": "stdout",
     "output_type": "stream",
     "text": [
      "final.shape: torch.Size([1920, 256])\n"
     ]
    },
    {
     "name": "stdout",
     "output_type": "stream",
     "text": [
      "final.shape: torch.Size([1920, 256])\n"
     ]
    },
    {
     "name": "stdout",
     "output_type": "stream",
     "text": [
      "final.shape: torch.Size([1920, 256])\n"
     ]
    },
    {
     "name": "stdout",
     "output_type": "stream",
     "text": [
      "final.shape: torch.Size([1920, 256])\n"
     ]
    },
    {
     "name": "stdout",
     "output_type": "stream",
     "text": [
      "final.shape: torch.Size([1920, 256])\n"
     ]
    },
    {
     "name": "stdout",
     "output_type": "stream",
     "text": [
      "final.shape: torch.Size([1920, 256])\n"
     ]
    },
    {
     "name": "stdout",
     "output_type": "stream",
     "text": [
      "final.shape: torch.Size([270, 256])\n"
     ]
    },
    {
     "name": "stdout",
     "output_type": "stream",
     "text": [
      "final.shape: torch.Size([1920, 256])\n",
      "final.shape: torch.Size([1920, 256])\n"
     ]
    },
    {
     "name": "stdout",
     "output_type": "stream",
     "text": [
      "final.shape: torch.Size([1920, 256])\n",
      "final.shape: torch.Size([1920, 256])\n"
     ]
    },
    {
     "name": "stdout",
     "output_type": "stream",
     "text": [
      "final.shape: torch.Size([1920, 256])\n",
      "final.shape: torch.Size([1920, 256])\n"
     ]
    },
    {
     "name": "stdout",
     "output_type": "stream",
     "text": [
      "final.shape: torch.Size([1920, 256])\n",
      "final.shape: torch.Size([570, 256])\n"
     ]
    },
    {
     "name": "stdout",
     "output_type": "stream",
     "text": [
      "ps: [38387.08   14807.456  38387.08   11587.753  67046.2    13497.073\n",
      " 67046.2    58632.918  38387.08   11587.753  67046.2    11587.753\n",
      " 58632.918  58632.918  67046.2    58632.918  38387.08   67046.2\n",
      " 58632.918  25133.598  58632.918  38387.08   15848.251  58632.918\n",
      " 67046.2    67046.2    11587.753  67046.2    14807.456  67046.2\n",
      " 58632.918  58632.918  38387.08   58632.918  67046.2    16329.231\n",
      " 67046.2    38387.08   11587.753  58632.918  58632.918  67046.2\n",
      " 67046.2    58632.918  58632.918  38387.08   67046.2    38387.113\n",
      " 58632.918  14288.784  11587.753  11587.753  13497.073  58632.918\n",
      " 38387.08   38387.08   58632.918  67046.2    67046.2    67046.2\n",
      " 67046.2    11587.753  38387.08   11587.753  58632.918  67046.2\n",
      " 58632.918  67046.2    11587.753  11587.753  67046.2    67046.2\n",
      " 38387.08   11587.753  38387.08   58632.918  11587.753  67046.2\n",
      " 13497.073  67046.2    67046.2    13497.06   11587.753  13497.073\n",
      " 11587.753  14288.784  58632.918  67046.2    58632.918  11587.753\n",
      " 67046.2    11587.753  11587.753  67046.2    25133.523  11587.753\n",
      " 67046.2    58632.918  67046.2    67046.2    67046.2    13497.06\n",
      " 58632.918  67046.2    58632.918  11587.753  38387.08   58632.918\n",
      " 11587.753  11587.753  58632.918  11587.753  67046.2    67046.2\n",
      " 38387.113  11587.753  38387.08   13497.073  67046.2    58632.918\n",
      " 11587.753  11587.753  11587.753  25133.523  67046.2    67046.2\n",
      " 58632.918  58632.918  67046.2    67046.2    67046.2    67046.2\n",
      " 67046.2    58632.918  14288.824  38387.08   11587.753  67046.2\n",
      " 11587.753  11587.753  67046.2    58632.918  11587.753  11587.753\n",
      " 14288.784  38387.113  58632.918  58632.918  11587.753  38387.08\n",
      " 11587.753  67046.2    67046.2    67046.2    67046.2    67046.2\n",
      " 11587.753  38387.08   13497.073  58632.918  58632.918  11587.753\n",
      " 11587.753  11587.753  25133.547  11587.753  67046.2    11587.753\n",
      " 11587.753  11587.753  11587.753  67046.2    14288.811  67046.2\n",
      " 38387.08   58632.918  58632.918  67046.2    67046.2    67046.2\n",
      " 25133.598  67046.2    11587.753  11587.753  58632.918  67046.2\n",
      " 11587.753  67046.2    38387.08   67046.2    58632.918  14243.98\n",
      " 11587.753  67046.2    13497.06   11587.753  11587.753  67046.2\n",
      " 11587.753  11587.753  38387.113  38387.08   14807.456  67046.2\n",
      " 67046.2    58632.918  38387.08   58632.918  11587.753  58632.918\n",
      " 38387.113  58632.918  58632.918  58632.918  38387.08   67046.2\n",
      " 11587.753  11587.753  11587.753  14288.784  67046.2    58632.918\n",
      " 11587.753  11587.753  67046.2    11587.753  11587.753  58632.918\n",
      " 11587.753  38387.08   14243.98   38387.08   58632.918  25133.598\n",
      " 67046.2    58632.918  38387.08   67046.2    38387.08   58632.918\n",
      " 11587.753  11587.753  13497.073  67046.2    11587.753  38387.08\n",
      " 38387.113  38387.113  14288.784  67046.2    14409.699  38387.08\n",
      " 67046.2    11587.753  67046.2    67046.2    67046.2    38387.08\n",
      " 38387.113  67046.2    38387.08   67046.2    11587.753  11587.753\n",
      " 38387.113  58632.918  11587.753  13497.06   58632.918  67046.2\n",
      " 11587.753  58632.918  38387.08   13497.073  11587.753  11587.753\n",
      " 67046.2    13497.06   11587.753  67046.2    58632.918  38387.08\n",
      " 58632.918  58632.918  58632.918  58632.918  11587.753  67046.2\n",
      " 11587.753  11587.753  15625.239  58632.918  11587.753  67046.2\n",
      " 11587.753  38387.08   11587.753  11587.753  67046.2    38387.113\n",
      " 67046.2    67046.2    11587.753  67046.2    67046.2    11587.753\n",
      " 11587.753  58632.918  58632.918  67046.2    67046.2    11587.753\n",
      " 14807.456  58632.918  38387.08   58632.918  25133.598  38387.08\n",
      " 11587.753  15848.251  11587.753  67046.2    67046.2    11587.753\n",
      " 11587.753  67046.2    11587.753  11587.753  25133.547  58632.918\n",
      " 67046.2    13497.06   13497.073  38387.08   11587.753  11587.753\n",
      " 38387.08   11587.753  38387.08   58632.918  38387.08   58632.918\n",
      " 13497.073  38387.08   38387.113  38387.08   67046.2    58632.918\n",
      " 67046.2    38387.08   67046.2    11587.753  38387.08   38387.08\n",
      " 11587.753  11587.753  11587.753  67046.2    67046.2    67046.2\n",
      " 58632.918  58632.918  38387.08   67046.2    11587.753  58632.918\n",
      " 11587.753  67046.2    58632.918  13497.073  58632.918  67046.2\n",
      " 11587.753  11587.753  67046.2    67046.2    58632.918  67046.2\n",
      " 11587.753  67046.2    67046.2    13497.073  58632.918  58632.918\n",
      " 11587.753  58632.918  58632.918  58632.918  67046.2    25133.547\n",
      " 58632.918  11587.753  25133.598  58632.918  11587.753  11587.753\n",
      " 11587.753  11587.753  13677.548  58632.918  11587.753  67046.2\n",
      " 58632.918  11587.753  67046.2    38387.08   58632.918  67046.2\n",
      " 13677.548  13497.06   11587.753  58632.918  67046.2    58632.918\n",
      " 67046.2    13497.073  11587.753  67046.2    58632.918  14288.811\n",
      " 38387.08   11587.753  67046.2    14243.98   14709.398  67046.2\n",
      " 11587.753  67046.2    67046.2    38387.08   67046.2    38387.08\n",
      " 58632.918  67046.2    67046.2    11587.753  58632.918  11587.753\n",
      " 67046.2    67046.2    67046.2    58632.918  11587.753  11587.753\n",
      " 11587.753  38387.113  38387.08   67046.2    11587.753  38387.113\n",
      " 11587.753  14807.456  58632.918  67046.2    67046.2    38387.113\n",
      " 38387.113  11587.753  13497.073  67046.2    58632.918  13497.073\n",
      " 67046.2    15848.1455 58632.918  38387.08   11587.753 ]\n",
      "ls: [tensor([35153.], dtype=torch.float64), tensor([9951.], dtype=torch.float64), tensor([38815.], dtype=torch.float64), tensor([14175.], dtype=torch.float64), tensor([66821.], dtype=torch.float64), tensor([9951.], dtype=torch.float64), tensor([66821.], dtype=torch.float64), tensor([58513.], dtype=torch.float64), tensor([39421.], dtype=torch.float64), tensor([9951.], dtype=torch.float64), tensor([66821.], dtype=torch.float64), tensor([14187.], dtype=torch.float64), tensor([58512.], dtype=torch.float64), tensor([58512.], dtype=torch.float64), tensor([66822.], dtype=torch.float64), tensor([58512.], dtype=torch.float64), tensor([35343.], dtype=torch.float64), tensor([66823.], dtype=torch.float64), tensor([58512.], dtype=torch.float64), tensor([19798.], dtype=torch.float64), tensor([58512.], dtype=torch.float64), tensor([38590.], dtype=torch.float64), tensor([9951.], dtype=torch.float64), tensor([58513.], dtype=torch.float64), tensor([66821.], dtype=torch.float64), tensor([66821.], dtype=torch.float64), tensor([9951.], dtype=torch.float64), tensor([66821.], dtype=torch.float64), tensor([7639.], dtype=torch.float64), tensor([66821.], dtype=torch.float64), tensor([58512.], dtype=torch.float64), tensor([58512.], dtype=torch.float64), tensor([38825.], dtype=torch.float64), tensor([58512.], dtype=torch.float64), tensor([66821.], dtype=torch.float64), tensor([15913.], dtype=torch.float64), tensor([66821.], dtype=torch.float64), tensor([39267.], dtype=torch.float64), tensor([14175.], dtype=torch.float64), tensor([58512.], dtype=torch.float64), tensor([58513.], dtype=torch.float64), tensor([66824.], dtype=torch.float64), tensor([66821.], dtype=torch.float64), tensor([58512.], dtype=torch.float64), tensor([58512.], dtype=torch.float64), tensor([39130.], dtype=torch.float64), tensor([66821.], dtype=torch.float64), tensor([38957.], dtype=torch.float64), tensor([58512.], dtype=torch.float64), tensor([14175.], dtype=torch.float64), tensor([17508.], dtype=torch.float64), tensor([14175.], dtype=torch.float64), tensor([15711.], dtype=torch.float64), tensor([58512.], dtype=torch.float64), tensor([34609.], dtype=torch.float64), tensor([39097.], dtype=torch.float64), tensor([58512.], dtype=torch.float64), tensor([66824.], dtype=torch.float64), tensor([66821.], dtype=torch.float64), tensor([66822.], dtype=torch.float64), tensor([66821.], dtype=torch.float64), tensor([9951.], dtype=torch.float64), tensor([38861.], dtype=torch.float64), tensor([9951.], dtype=torch.float64), tensor([58512.], dtype=torch.float64), tensor([66823.], dtype=torch.float64), tensor([58518.], dtype=torch.float64), tensor([66821.], dtype=torch.float64), tensor([3876.], dtype=torch.float64), tensor([9951.], dtype=torch.float64), tensor([66821.], dtype=torch.float64), tensor([66821.], dtype=torch.float64), tensor([38465.], dtype=torch.float64), tensor([9951.], dtype=torch.float64), tensor([39229.], dtype=torch.float64), tensor([58512.], dtype=torch.float64), tensor([9951.], dtype=torch.float64), tensor([66821.], dtype=torch.float64), tensor([15711.], dtype=torch.float64), tensor([66837.], dtype=torch.float64), tensor([66821.], dtype=torch.float64), tensor([15711.], dtype=torch.float64), tensor([17455.], dtype=torch.float64), tensor([15711.], dtype=torch.float64), tensor([3876.], dtype=torch.float64), tensor([14176.], dtype=torch.float64), tensor([58514.], dtype=torch.float64), tensor([66821.], dtype=torch.float64), tensor([58513.], dtype=torch.float64), tensor([9951.], dtype=torch.float64), tensor([66821.], dtype=torch.float64), tensor([14175.], dtype=torch.float64), tensor([9951.], dtype=torch.float64), tensor([66824.], dtype=torch.float64), tensor([31180.], dtype=torch.float64), tensor([14175.], dtype=torch.float64), tensor([66821.], dtype=torch.float64), tensor([58512.], dtype=torch.float64), tensor([66844.], dtype=torch.float64), tensor([66821.], dtype=torch.float64), tensor([66827.], dtype=torch.float64), tensor([15711.], dtype=torch.float64), tensor([58512.], dtype=torch.float64), tensor([66821.], dtype=torch.float64), tensor([58512.], dtype=torch.float64), tensor([3876.], dtype=torch.float64), tensor([39220.], dtype=torch.float64), tensor([58512.], dtype=torch.float64), tensor([14197.], dtype=torch.float64), tensor([9951.], dtype=torch.float64), tensor([58512.], dtype=torch.float64), tensor([14175.], dtype=torch.float64), tensor([66822.], dtype=torch.float64), tensor([66821.], dtype=torch.float64), tensor([39087.], dtype=torch.float64), tensor([9951.], dtype=torch.float64), tensor([39511.], dtype=torch.float64), tensor([15711.], dtype=torch.float64), tensor([66821.], dtype=torch.float64), tensor([58512.], dtype=torch.float64), tensor([14175.], dtype=torch.float64), tensor([14176.], dtype=torch.float64), tensor([14175.], dtype=torch.float64), tensor([23183.], dtype=torch.float64), tensor([66821.], dtype=torch.float64), tensor([66821.], dtype=torch.float64), tensor([58512.], dtype=torch.float64), tensor([58512.], dtype=torch.float64), tensor([66834.], dtype=torch.float64), tensor([66821.], dtype=torch.float64), tensor([66821.], dtype=torch.float64), tensor([66821.], dtype=torch.float64), tensor([66821.], dtype=torch.float64), tensor([58512.], dtype=torch.float64), tensor([15945.], dtype=torch.float64), tensor([39097.], dtype=torch.float64), tensor([14178.], dtype=torch.float64), tensor([66823.], dtype=torch.float64), tensor([17416.], dtype=torch.float64), tensor([14211.], dtype=torch.float64), tensor([66821.], dtype=torch.float64), tensor([58512.], dtype=torch.float64), tensor([9951.], dtype=torch.float64), tensor([14181.], dtype=torch.float64), tensor([14180.], dtype=torch.float64), tensor([39157.], dtype=torch.float64), tensor([58512.], dtype=torch.float64), tensor([58512.], dtype=torch.float64), tensor([9951.], dtype=torch.float64), tensor([34333.], dtype=torch.float64), tensor([9951.], dtype=torch.float64), tensor([66821.], dtype=torch.float64), tensor([66821.], dtype=torch.float64), tensor([66823.], dtype=torch.float64), tensor([66822.], dtype=torch.float64), tensor([66821.], dtype=torch.float64), tensor([9951.], dtype=torch.float64), tensor([39439.], dtype=torch.float64), tensor([9951.], dtype=torch.float64), tensor([58512.], dtype=torch.float64), tensor([58512.], dtype=torch.float64), tensor([14185.], dtype=torch.float64), tensor([9951.], dtype=torch.float64), tensor([14190.], dtype=torch.float64), tensor([27726.], dtype=torch.float64), tensor([14175.], dtype=torch.float64), tensor([66825.], dtype=torch.float64), tensor([14175.], dtype=torch.float64), tensor([14175.], dtype=torch.float64), tensor([9951.], dtype=torch.float64), tensor([9951.], dtype=torch.float64), tensor([66821.], dtype=torch.float64), tensor([14175.], dtype=torch.float64), tensor([66821.], dtype=torch.float64), tensor([38230.], dtype=torch.float64), tensor([58512.], dtype=torch.float64), tensor([58554.], dtype=torch.float64), tensor([66821.], dtype=torch.float64), tensor([66821.], dtype=torch.float64), tensor([66821.], dtype=torch.float64), tensor([27816.], dtype=torch.float64), tensor([66821.], dtype=torch.float64), tensor([14175.], dtype=torch.float64), tensor([14177.], dtype=torch.float64), tensor([58513.], dtype=torch.float64), tensor([66825.], dtype=torch.float64), tensor([9951.], dtype=torch.float64), tensor([66821.], dtype=torch.float64), tensor([38979.], dtype=torch.float64), tensor([66821.], dtype=torch.float64), tensor([58512.], dtype=torch.float64), tensor([16033.], dtype=torch.float64), tensor([9951.], dtype=torch.float64), tensor([66822.], dtype=torch.float64), tensor([15711.], dtype=torch.float64), tensor([14176.], dtype=torch.float64), tensor([14175.], dtype=torch.float64), tensor([66821.], dtype=torch.float64), tensor([14184.], dtype=torch.float64), tensor([17417.], dtype=torch.float64), tensor([38953.], dtype=torch.float64), tensor([38850.], dtype=torch.float64), tensor([18834.], dtype=torch.float64), tensor([66824.], dtype=torch.float64), tensor([66821.], dtype=torch.float64), tensor([58512.], dtype=torch.float64), tensor([38995.], dtype=torch.float64), tensor([58512.], dtype=torch.float64), tensor([9951.], dtype=torch.float64), tensor([58512.], dtype=torch.float64), tensor([39133.], dtype=torch.float64), tensor([58512.], dtype=torch.float64), tensor([58512.], dtype=torch.float64), tensor([58512.], dtype=torch.float64), tensor([34955.], dtype=torch.float64), tensor([66821.], dtype=torch.float64), tensor([14175.], dtype=torch.float64), tensor([14175.], dtype=torch.float64), tensor([9951.], dtype=torch.float64), tensor([14175.], dtype=torch.float64), tensor([66821.], dtype=torch.float64), tensor([58513.], dtype=torch.float64), tensor([14176.], dtype=torch.float64), tensor([14175.], dtype=torch.float64), tensor([66822.], dtype=torch.float64), tensor([14176.], dtype=torch.float64), tensor([14175.], dtype=torch.float64), tensor([58512.], dtype=torch.float64), tensor([14175.], dtype=torch.float64), tensor([38633.], dtype=torch.float64), tensor([16020.], dtype=torch.float64), tensor([39159.], dtype=torch.float64), tensor([58512.], dtype=torch.float64), tensor([21227.], dtype=torch.float64), tensor([66821.], dtype=torch.float64), tensor([58512.], dtype=torch.float64), tensor([38936.], dtype=torch.float64), tensor([66917.], dtype=torch.float64), tensor([39033.], dtype=torch.float64), tensor([58520.], dtype=torch.float64), tensor([14176.], dtype=torch.float64), tensor([9951.], dtype=torch.float64), tensor([15711.], dtype=torch.float64), tensor([66821.], dtype=torch.float64), tensor([13320.], dtype=torch.float64), tensor([35160.], dtype=torch.float64), tensor([34116.], dtype=torch.float64), tensor([34116.], dtype=torch.float64), tensor([14187.], dtype=torch.float64), tensor([66821.], dtype=torch.float64), tensor([17844.], dtype=torch.float64), tensor([39105.], dtype=torch.float64), tensor([66821.], dtype=torch.float64), tensor([14175.], dtype=torch.float64), tensor([66821.], dtype=torch.float64), tensor([66821.], dtype=torch.float64), tensor([66821.], dtype=torch.float64), tensor([38953.], dtype=torch.float64), tensor([35253.], dtype=torch.float64), tensor([66824.], dtype=torch.float64), tensor([39049.], dtype=torch.float64), tensor([66821.], dtype=torch.float64), tensor([14175.], dtype=torch.float64), tensor([9951.], dtype=torch.float64), tensor([38922.], dtype=torch.float64), tensor([58512.], dtype=torch.float64), tensor([14175.], dtype=torch.float64), tensor([9951.], dtype=torch.float64), tensor([58512.], dtype=torch.float64), tensor([66821.], dtype=torch.float64), tensor([17416.], dtype=torch.float64), tensor([58512.], dtype=torch.float64), tensor([39141.], dtype=torch.float64), tensor([15711.], dtype=torch.float64), tensor([14181.], dtype=torch.float64), tensor([9951.], dtype=torch.float64), tensor([66821.], dtype=torch.float64), tensor([9951.], dtype=torch.float64), tensor([14211.], dtype=torch.float64), tensor([66821.], dtype=torch.float64), tensor([58512.], dtype=torch.float64), tensor([38483.], dtype=torch.float64), tensor([58512.], dtype=torch.float64), tensor([58512.], dtype=torch.float64), tensor([58512.], dtype=torch.float64), tensor([58512.], dtype=torch.float64), tensor([14200.], dtype=torch.float64), tensor([66821.], dtype=torch.float64), tensor([14177.], dtype=torch.float64), tensor([14197.], dtype=torch.float64), tensor([17246.], dtype=torch.float64), tensor([58512.], dtype=torch.float64), tensor([14175.], dtype=torch.float64), tensor([66821.], dtype=torch.float64), tensor([9951.], dtype=torch.float64), tensor([38898.], dtype=torch.float64), tensor([3876.], dtype=torch.float64), tensor([21733.], dtype=torch.float64), tensor([66821.], dtype=torch.float64), tensor([35178.], dtype=torch.float64), tensor([66861.], dtype=torch.float64), tensor([66825.], dtype=torch.float64), tensor([9951.], dtype=torch.float64), tensor([66821.], dtype=torch.float64), tensor([66821.], dtype=torch.float64), tensor([9951.], dtype=torch.float64), tensor([9951.], dtype=torch.float64), tensor([58512.], dtype=torch.float64), tensor([58512.], dtype=torch.float64), tensor([66822.], dtype=torch.float64), tensor([66821.], dtype=torch.float64), tensor([9951.], dtype=torch.float64), tensor([18834.], dtype=torch.float64), tensor([58512.], dtype=torch.float64), tensor([38543.], dtype=torch.float64), tensor([58515.], dtype=torch.float64), tensor([27726.], dtype=torch.float64), tensor([35045.], dtype=torch.float64), tensor([9951.], dtype=torch.float64), tensor([19520.], dtype=torch.float64), tensor([14175.], dtype=torch.float64), tensor([66821.], dtype=torch.float64), tensor([66821.], dtype=torch.float64), tensor([14178.], dtype=torch.float64), tensor([9951.], dtype=torch.float64), tensor([66821.], dtype=torch.float64), tensor([14175.], dtype=torch.float64), tensor([9951.], dtype=torch.float64), tensor([19798.], dtype=torch.float64), tensor([58512.], dtype=torch.float64), tensor([66823.], dtype=torch.float64), tensor([3876.], dtype=torch.float64), tensor([15712.], dtype=torch.float64), tensor([38393.], dtype=torch.float64), tensor([9951.], dtype=torch.float64), tensor([9951.], dtype=torch.float64), tensor([39310.], dtype=torch.float64), tensor([14175.], dtype=torch.float64), tensor([35343.], dtype=torch.float64), tensor([58512.], dtype=torch.float64), tensor([39058.], dtype=torch.float64), tensor([58512.], dtype=torch.float64), tensor([15716.], dtype=torch.float64), tensor([39403.], dtype=torch.float64), tensor([35025.], dtype=torch.float64), tensor([39013.], dtype=torch.float64), tensor([66822.], dtype=torch.float64), tensor([58516.], dtype=torch.float64), tensor([66821.], dtype=torch.float64), tensor([38535.], dtype=torch.float64), tensor([66821.], dtype=torch.float64), tensor([14047.], dtype=torch.float64), tensor([38212.], dtype=torch.float64), tensor([38321.], dtype=torch.float64), tensor([14176.], dtype=torch.float64), tensor([14178.], dtype=torch.float64), tensor([17416.], dtype=torch.float64), tensor([66821.], dtype=torch.float64), tensor([66821.], dtype=torch.float64), tensor([66821.], dtype=torch.float64), tensor([58512.], dtype=torch.float64), tensor([58512.], dtype=torch.float64), tensor([39066.], dtype=torch.float64), tensor([66821.], dtype=torch.float64), tensor([9951.], dtype=torch.float64), tensor([58512.], dtype=torch.float64), tensor([9951.], dtype=torch.float64), tensor([66821.], dtype=torch.float64), tensor([58512.], dtype=torch.float64), tensor([15711.], dtype=torch.float64), tensor([58512.], dtype=torch.float64), tensor([66821.], dtype=torch.float64), tensor([9951.], dtype=torch.float64), tensor([3876.], dtype=torch.float64), tensor([66822.], dtype=torch.float64), tensor([66827.], dtype=torch.float64), tensor([58512.], dtype=torch.float64), tensor([66826.], dtype=torch.float64), tensor([9951.], dtype=torch.float64), tensor([66821.], dtype=torch.float64), tensor([66821.], dtype=torch.float64), tensor([15712.], dtype=torch.float64), tensor([58512.], dtype=torch.float64), tensor([58512.], dtype=torch.float64), tensor([14199.], dtype=torch.float64), tensor([58513.], dtype=torch.float64), tensor([58512.], dtype=torch.float64), tensor([58512.], dtype=torch.float64), tensor([66821.], dtype=torch.float64), tensor([20556.], dtype=torch.float64), tensor([58519.], dtype=torch.float64), tensor([17416.], dtype=torch.float64), tensor([24812.], dtype=torch.float64), tensor([58512.], dtype=torch.float64), tensor([14179.], dtype=torch.float64), tensor([14175.], dtype=torch.float64), tensor([14175.], dtype=torch.float64), tensor([9951.], dtype=torch.float64), tensor([14175.], dtype=torch.float64), tensor([58512.], dtype=torch.float64), tensor([14175.], dtype=torch.float64), tensor([66821.], dtype=torch.float64), tensor([58512.], dtype=torch.float64), tensor([3876.], dtype=torch.float64), tensor([66821.], dtype=torch.float64), tensor([34584.], dtype=torch.float64), tensor([58512.], dtype=torch.float64), tensor([66821.], dtype=torch.float64), tensor([11274.], dtype=torch.float64), tensor([15711.], dtype=torch.float64), tensor([14175.], dtype=torch.float64), tensor([58512.], dtype=torch.float64), tensor([66825.], dtype=torch.float64), tensor([58512.], dtype=torch.float64), tensor([66821.], dtype=torch.float64), tensor([9951.], dtype=torch.float64), tensor([9951.], dtype=torch.float64), tensor([66823.], dtype=torch.float64), tensor([58512.], dtype=torch.float64), tensor([14178.], dtype=torch.float64), tensor([38879.], dtype=torch.float64), tensor([14175.], dtype=torch.float64), tensor([66821.], dtype=torch.float64), tensor([12552.], dtype=torch.float64), tensor([14162.], dtype=torch.float64), tensor([66822.], dtype=torch.float64), tensor([14200.], dtype=torch.float64), tensor([66823.], dtype=torch.float64), tensor([66821.], dtype=torch.float64), tensor([38879.], dtype=torch.float64), tensor([66824.], dtype=torch.float64), tensor([39049.], dtype=torch.float64), tensor([58512.], dtype=torch.float64), tensor([66821.], dtype=torch.float64), tensor([66821.], dtype=torch.float64), tensor([14176.], dtype=torch.float64), tensor([58512.], dtype=torch.float64), tensor([14179.], dtype=torch.float64), tensor([66821.], dtype=torch.float64), tensor([66821.], dtype=torch.float64), tensor([66821.], dtype=torch.float64), tensor([58512.], dtype=torch.float64), tensor([14176.], dtype=torch.float64), tensor([14175.], dtype=torch.float64), tensor([14182.], dtype=torch.float64), tensor([38446.], dtype=torch.float64), tensor([39030.], dtype=torch.float64), tensor([66821.], dtype=torch.float64), tensor([14175.], dtype=torch.float64), tensor([38590.], dtype=torch.float64), tensor([9951.], dtype=torch.float64), tensor([18834.], dtype=torch.float64), tensor([58512.], dtype=torch.float64), tensor([66821.], dtype=torch.float64), tensor([66849.], dtype=torch.float64), tensor([39173.], dtype=torch.float64), tensor([35097.], dtype=torch.float64), tensor([14047.], dtype=torch.float64), tensor([15711.], dtype=torch.float64), tensor([66821.], dtype=torch.float64), tensor([58512.], dtype=torch.float64), tensor([9951.], dtype=torch.float64), tensor([66821.], dtype=torch.float64), tensor([9951.], dtype=torch.float64), tensor([58512.], dtype=torch.float64), tensor([35271.], dtype=torch.float64), tensor([14178.], dtype=torch.float64)]\n",
      "len(ls): 467\n"
     ]
    },
    {
     "name": "stdout",
     "output_type": "stream",
     "text": [
      "final.shape: torch.Size([1920, 256])\n",
      "final.shape: torch.Size([1920, 256])\n"
     ]
    },
    {
     "name": "stdout",
     "output_type": "stream",
     "text": [
      "final.shape: torch.Size([1920, 256])\n",
      "final.shape: torch.Size([1920, 256])\n"
     ]
    },
    {
     "name": "stdout",
     "output_type": "stream",
     "text": [
      "final.shape: torch.Size([1920, 256])\n",
      "final.shape: torch.Size([1920, 256])\n"
     ]
    },
    {
     "name": "stdout",
     "output_type": "stream",
     "text": [
      "final.shape: torch.Size([1920, 256])\n",
      "final.shape: torch.Size([570, 256])\n",
      "running epoch: 43\n"
     ]
    },
    {
     "name": "stdout",
     "output_type": "stream",
     "text": [
      "final.shape: torch.Size([1920, 256])\n"
     ]
    },
    {
     "name": "stdout",
     "output_type": "stream",
     "text": [
      "final.shape: torch.Size([1920, 256])\n"
     ]
    },
    {
     "name": "stdout",
     "output_type": "stream",
     "text": [
      "final.shape: torch.Size([1920, 256])\n"
     ]
    },
    {
     "name": "stdout",
     "output_type": "stream",
     "text": [
      "final.shape: torch.Size([1920, 256])\n"
     ]
    },
    {
     "name": "stdout",
     "output_type": "stream",
     "text": [
      "final.shape: torch.Size([1920, 256])\n"
     ]
    },
    {
     "name": "stdout",
     "output_type": "stream",
     "text": [
      "final.shape: torch.Size([1920, 256])\n"
     ]
    },
    {
     "name": "stdout",
     "output_type": "stream",
     "text": [
      "final.shape: torch.Size([1920, 256])\n"
     ]
    },
    {
     "name": "stdout",
     "output_type": "stream",
     "text": [
      "final.shape: torch.Size([1920, 256])\n"
     ]
    },
    {
     "name": "stdout",
     "output_type": "stream",
     "text": [
      "final.shape: torch.Size([1920, 256])\n"
     ]
    },
    {
     "name": "stdout",
     "output_type": "stream",
     "text": [
      "final.shape: torch.Size([1920, 256])\n"
     ]
    },
    {
     "name": "stdout",
     "output_type": "stream",
     "text": [
      "final.shape: torch.Size([1920, 256])\n"
     ]
    },
    {
     "name": "stdout",
     "output_type": "stream",
     "text": [
      "final.shape: torch.Size([1920, 256])\n"
     ]
    },
    {
     "name": "stdout",
     "output_type": "stream",
     "text": [
      "final.shape: torch.Size([1920, 256])\n"
     ]
    },
    {
     "name": "stdout",
     "output_type": "stream",
     "text": [
      "final.shape: torch.Size([1920, 256])\n"
     ]
    },
    {
     "name": "stdout",
     "output_type": "stream",
     "text": [
      "final.shape: torch.Size([1920, 256])\n"
     ]
    },
    {
     "name": "stdout",
     "output_type": "stream",
     "text": [
      "final.shape: torch.Size([1920, 256])\n"
     ]
    },
    {
     "name": "stdout",
     "output_type": "stream",
     "text": [
      "final.shape: torch.Size([1920, 256])\n"
     ]
    },
    {
     "name": "stdout",
     "output_type": "stream",
     "text": [
      "final.shape: torch.Size([1920, 256])\n"
     ]
    },
    {
     "name": "stdout",
     "output_type": "stream",
     "text": [
      "final.shape: torch.Size([1920, 256])\n"
     ]
    },
    {
     "name": "stdout",
     "output_type": "stream",
     "text": [
      "final.shape: torch.Size([1920, 256])\n"
     ]
    },
    {
     "name": "stdout",
     "output_type": "stream",
     "text": [
      "final.shape: torch.Size([1920, 256])\n"
     ]
    },
    {
     "name": "stdout",
     "output_type": "stream",
     "text": [
      "final.shape: torch.Size([1920, 256])\n"
     ]
    },
    {
     "name": "stdout",
     "output_type": "stream",
     "text": [
      "final.shape: torch.Size([1920, 256])\n"
     ]
    },
    {
     "name": "stdout",
     "output_type": "stream",
     "text": [
      "final.shape: torch.Size([1920, 256])\n"
     ]
    },
    {
     "name": "stdout",
     "output_type": "stream",
     "text": [
      "final.shape: torch.Size([1920, 256])\n"
     ]
    },
    {
     "name": "stdout",
     "output_type": "stream",
     "text": [
      "final.shape: torch.Size([1920, 256])\n"
     ]
    },
    {
     "name": "stdout",
     "output_type": "stream",
     "text": [
      "final.shape: torch.Size([1920, 256])\n"
     ]
    },
    {
     "name": "stdout",
     "output_type": "stream",
     "text": [
      "final.shape: torch.Size([1920, 256])\n"
     ]
    },
    {
     "name": "stdout",
     "output_type": "stream",
     "text": [
      "final.shape: torch.Size([1920, 256])\n"
     ]
    },
    {
     "name": "stdout",
     "output_type": "stream",
     "text": [
      "final.shape: torch.Size([270, 256])\n"
     ]
    },
    {
     "name": "stdout",
     "output_type": "stream",
     "text": [
      "final.shape: torch.Size([1920, 256])\n"
     ]
    },
    {
     "name": "stdout",
     "output_type": "stream",
     "text": [
      "final.shape: torch.Size([1920, 256])\n",
      "final.shape: torch.Size([1920, 256])\n"
     ]
    },
    {
     "name": "stdout",
     "output_type": "stream",
     "text": [
      "final.shape: torch.Size([1920, 256])\n",
      "final.shape: torch.Size([1920, 256])\n"
     ]
    },
    {
     "name": "stdout",
     "output_type": "stream",
     "text": [
      "final.shape: torch.Size([1920, 256])\n",
      "final.shape: torch.Size([1920, 256])\n"
     ]
    },
    {
     "name": "stdout",
     "output_type": "stream",
     "text": [
      "final.shape: torch.Size([570, 256])\n",
      "ps: [38467.773 15080.152 38467.773 11377.777 67010.02  13435.069 67010.02\n",
      " 58958.023 38467.773 11377.767 67010.02  11377.767 58958.023 58958.023\n",
      " 67010.02  58958.023 38467.773 67010.02  58958.023 25725.969 58958.023\n",
      " 38467.773 16158.257 58958.023 67010.02  67010.02  11377.767 67010.02\n",
      " 15080.166 67010.02  58958.023 58958.023 38467.773 58958.023 67010.02\n",
      " 17076.271 67010.02  38467.773 11377.767 58958.023 58958.023 67010.02\n",
      " 67010.02  58958.023 58958.023 38467.773 67010.02  38467.773 58958.023\n",
      " 14192.752 11377.777 11377.767 13435.069 58958.023 38467.773 38467.773\n",
      " 58958.023 67010.02  67010.02  67010.02  67010.02  11377.777 38467.773\n",
      " 11377.777 58958.023 67010.02  58958.023 67010.02  11377.767 11377.777\n",
      " 67010.02  67010.02  38467.773 11377.777 38467.773 58958.023 11377.777\n",
      " 67010.02  13435.069 67010.02  67010.02  13435.058 11377.777 13435.069\n",
      " 11377.767 14192.752 58958.023 67010.02  58958.023 11377.777 67010.02\n",
      " 11377.767 11377.777 67010.02  25725.918 11377.777 67010.02  58958.023\n",
      " 67010.02  67010.02  67010.02  13435.069 58958.023 67010.02  58958.023\n",
      " 11377.767 38467.773 58958.023 11377.777 11377.777 58958.023 11377.767\n",
      " 67010.02  67010.02  38467.773 11377.777 38467.773 13435.069 67010.02\n",
      " 58958.023 11377.777 11377.777 11377.777 25725.918 67010.02  67010.02\n",
      " 58958.023 58958.023 67010.02  67010.02  67010.02  67010.02  67010.02\n",
      " 58958.023 14192.752 38467.773 11377.777 67010.02  11377.777 11377.777\n",
      " 67010.02  58958.023 11377.777 11377.767 14192.752 38467.773 58958.023\n",
      " 58958.023 11377.777 38467.773 11377.777 67010.02  67010.02  67010.02\n",
      " 67010.02  67010.02  11377.777 38467.773 13435.069 58958.023 58958.023\n",
      " 11377.767 11377.767 11377.777 25725.918 11377.767 67010.02  11377.777\n",
      " 11377.767 11377.767 11377.767 67010.02  14192.792 67010.02  38467.773\n",
      " 58958.023 58958.023 67010.02  67010.02  67010.02  25725.969 67010.02\n",
      " 11377.777 11377.767 58958.023 67010.02  11377.777 67010.02  38467.773\n",
      " 67010.02  58958.023 14272.318 11377.777 67010.02  13435.058 11377.777\n",
      " 11377.777 67010.02  11377.777 11377.767 38467.773 38467.773 15080.152\n",
      " 67010.02  67010.02  58958.023 38467.773 58958.023 11377.777 58958.023\n",
      " 38467.773 58958.023 58958.023 58958.023 38467.773 67010.02  11377.777\n",
      " 11377.767 11377.777 14192.752 67010.02  58958.023 11377.777 11377.767\n",
      " 67010.02  11377.767 11377.777 58958.023 11377.777 38467.773 14272.318\n",
      " 38467.773 58958.023 25725.969 67010.02  58958.023 38467.773 67010.02\n",
      " 38467.773 58958.023 11377.767 11377.777 13435.069 67010.02  11377.777\n",
      " 38467.773 38467.773 38467.773 14192.752 67010.02  14457.244 38467.773\n",
      " 67010.02  11377.777 67010.02  67010.02  67010.02  38467.773 38467.773\n",
      " 67010.02  38467.773 67010.02  11377.767 11377.777 38467.773 58958.023\n",
      " 11377.777 13435.069 58958.023 67010.02  11377.767 58958.023 38467.773\n",
      " 13435.069 11377.777 11377.777 67010.02  13435.069 11377.777 67010.02\n",
      " 58958.023 38467.773 58958.023 58958.023 58958.023 58958.023 11377.767\n",
      " 67010.02  11377.777 11377.767 16081.484 58958.023 11377.777 67010.02\n",
      " 11377.777 38467.773 11377.767 11377.767 67010.02  38467.773 67010.02\n",
      " 67010.02  11377.777 67010.02  67010.02  11377.777 11377.777 58958.023\n",
      " 58958.023 67010.02  67010.02  11377.767 15080.166 58958.023 38467.773\n",
      " 58958.023 25725.969 38467.773 11377.777 16158.257 11377.777 67010.02\n",
      " 67010.02  11377.767 11377.777 67010.02  11377.777 11377.777 25725.918\n",
      " 58958.023 67010.02  13435.069 13435.069 38467.773 11377.777 11377.777\n",
      " 38467.773 11377.767 38467.773 58958.023 38467.773 58958.023 13435.069\n",
      " 38467.773 38467.773 38467.773 67010.02  58958.023 67010.02  38467.773\n",
      " 67010.02  11377.767 38467.773 38467.773 11377.777 11377.767 11377.767\n",
      " 67010.02  67010.02  67010.02  58958.023 58958.023 38467.773 67010.02\n",
      " 11377.777 58958.023 11377.777 67010.02  58958.023 13435.069 58958.023\n",
      " 67010.02  11377.777 11377.767 67010.02  67010.02  58958.023 67010.02\n",
      " 11377.777 67010.02  67010.02  13435.069 58958.023 58958.023 11377.767\n",
      " 58958.023 58958.023 58958.023 67010.02  25725.918 58958.023 11377.777\n",
      " 25725.969 58958.023 11377.777 11377.777 11377.767 11377.767 13608.044\n",
      " 58958.023 11377.767 67010.02  58958.023 11377.767 67010.02  38467.773\n",
      " 58958.023 67010.02  13608.044 13435.069 11377.767 58958.023 67010.02\n",
      " 58958.023 67010.02  13435.069 11377.777 67010.02  58958.023 14192.792\n",
      " 38467.773 11377.767 67010.02  14272.318 14914.856 67010.02  11377.767\n",
      " 67010.02  67010.02  38467.773 67010.02  38467.773 58958.023 67010.02\n",
      " 67010.02  11377.777 58958.023 11377.777 67010.02  67010.02  67010.02\n",
      " 58958.023 11377.777 11377.767 11377.767 38467.773 38467.773 67010.02\n",
      " 11377.777 38467.773 11377.777 15080.166 58958.023 67010.02  67010.02\n",
      " 38467.773 38467.773 11377.767 13435.069 67010.02  58958.023 13435.069\n",
      " 67010.02  16158.21  58958.023 38467.773 11377.767]\n"
     ]
    },
    {
     "name": "stdout",
     "output_type": "stream",
     "text": [
      "ls: [tensor([35153.], dtype=torch.float64), tensor([9951.], dtype=torch.float64), tensor([38815.], dtype=torch.float64), tensor([14175.], dtype=torch.float64), tensor([66821.], dtype=torch.float64), tensor([9951.], dtype=torch.float64), tensor([66821.], dtype=torch.float64), tensor([58513.], dtype=torch.float64), tensor([39421.], dtype=torch.float64), tensor([9951.], dtype=torch.float64), tensor([66821.], dtype=torch.float64), tensor([14187.], dtype=torch.float64), tensor([58512.], dtype=torch.float64), tensor([58512.], dtype=torch.float64), tensor([66822.], dtype=torch.float64), tensor([58512.], dtype=torch.float64), tensor([35343.], dtype=torch.float64), tensor([66823.], dtype=torch.float64), tensor([58512.], dtype=torch.float64), tensor([19798.], dtype=torch.float64), tensor([58512.], dtype=torch.float64), tensor([38590.], dtype=torch.float64), tensor([9951.], dtype=torch.float64), tensor([58513.], dtype=torch.float64), tensor([66821.], dtype=torch.float64), tensor([66821.], dtype=torch.float64), tensor([9951.], dtype=torch.float64), tensor([66821.], dtype=torch.float64), tensor([7639.], dtype=torch.float64), tensor([66821.], dtype=torch.float64), tensor([58512.], dtype=torch.float64), tensor([58512.], dtype=torch.float64), tensor([38825.], dtype=torch.float64), tensor([58512.], dtype=torch.float64), tensor([66821.], dtype=torch.float64), tensor([15913.], dtype=torch.float64), tensor([66821.], dtype=torch.float64), tensor([39267.], dtype=torch.float64), tensor([14175.], dtype=torch.float64), tensor([58512.], dtype=torch.float64), tensor([58513.], dtype=torch.float64), tensor([66824.], dtype=torch.float64), tensor([66821.], dtype=torch.float64), tensor([58512.], dtype=torch.float64), tensor([58512.], dtype=torch.float64), tensor([39130.], dtype=torch.float64), tensor([66821.], dtype=torch.float64), tensor([38957.], dtype=torch.float64), tensor([58512.], dtype=torch.float64), tensor([14175.], dtype=torch.float64), tensor([17508.], dtype=torch.float64), tensor([14175.], dtype=torch.float64), tensor([15711.], dtype=torch.float64), tensor([58512.], dtype=torch.float64), tensor([34609.], dtype=torch.float64), tensor([39097.], dtype=torch.float64), tensor([58512.], dtype=torch.float64), tensor([66824.], dtype=torch.float64), tensor([66821.], dtype=torch.float64), tensor([66822.], dtype=torch.float64), tensor([66821.], dtype=torch.float64), tensor([9951.], dtype=torch.float64), tensor([38861.], dtype=torch.float64), tensor([9951.], dtype=torch.float64), tensor([58512.], dtype=torch.float64), tensor([66823.], dtype=torch.float64), tensor([58518.], dtype=torch.float64), tensor([66821.], dtype=torch.float64), tensor([3876.], dtype=torch.float64), tensor([9951.], dtype=torch.float64), tensor([66821.], dtype=torch.float64), tensor([66821.], dtype=torch.float64), tensor([38465.], dtype=torch.float64), tensor([9951.], dtype=torch.float64), tensor([39229.], dtype=torch.float64), tensor([58512.], dtype=torch.float64), tensor([9951.], dtype=torch.float64), tensor([66821.], dtype=torch.float64), tensor([15711.], dtype=torch.float64), tensor([66837.], dtype=torch.float64), tensor([66821.], dtype=torch.float64), tensor([15711.], dtype=torch.float64), tensor([17455.], dtype=torch.float64), tensor([15711.], dtype=torch.float64), tensor([3876.], dtype=torch.float64), tensor([14176.], dtype=torch.float64), tensor([58514.], dtype=torch.float64), tensor([66821.], dtype=torch.float64), tensor([58513.], dtype=torch.float64), tensor([9951.], dtype=torch.float64), tensor([66821.], dtype=torch.float64), tensor([14175.], dtype=torch.float64), tensor([9951.], dtype=torch.float64), tensor([66824.], dtype=torch.float64), tensor([31180.], dtype=torch.float64), tensor([14175.], dtype=torch.float64), tensor([66821.], dtype=torch.float64), tensor([58512.], dtype=torch.float64), tensor([66844.], dtype=torch.float64), tensor([66821.], dtype=torch.float64), tensor([66827.], dtype=torch.float64), tensor([15711.], dtype=torch.float64), tensor([58512.], dtype=torch.float64), tensor([66821.], dtype=torch.float64), tensor([58512.], dtype=torch.float64), tensor([3876.], dtype=torch.float64), tensor([39220.], dtype=torch.float64), tensor([58512.], dtype=torch.float64), tensor([14197.], dtype=torch.float64), tensor([9951.], dtype=torch.float64), tensor([58512.], dtype=torch.float64), tensor([14175.], dtype=torch.float64), tensor([66822.], dtype=torch.float64), tensor([66821.], dtype=torch.float64), tensor([39087.], dtype=torch.float64), tensor([9951.], dtype=torch.float64), tensor([39511.], dtype=torch.float64), tensor([15711.], dtype=torch.float64), tensor([66821.], dtype=torch.float64), tensor([58512.], dtype=torch.float64), tensor([14175.], dtype=torch.float64), tensor([14176.], dtype=torch.float64), tensor([14175.], dtype=torch.float64), tensor([23183.], dtype=torch.float64), tensor([66821.], dtype=torch.float64), tensor([66821.], dtype=torch.float64), tensor([58512.], dtype=torch.float64), tensor([58512.], dtype=torch.float64), tensor([66834.], dtype=torch.float64), tensor([66821.], dtype=torch.float64), tensor([66821.], dtype=torch.float64), tensor([66821.], dtype=torch.float64), tensor([66821.], dtype=torch.float64), tensor([58512.], dtype=torch.float64), tensor([15945.], dtype=torch.float64), tensor([39097.], dtype=torch.float64), tensor([14178.], dtype=torch.float64), tensor([66823.], dtype=torch.float64), tensor([17416.], dtype=torch.float64), tensor([14211.], dtype=torch.float64), tensor([66821.], dtype=torch.float64), tensor([58512.], dtype=torch.float64), tensor([9951.], dtype=torch.float64), tensor([14181.], dtype=torch.float64), tensor([14180.], dtype=torch.float64), tensor([39157.], dtype=torch.float64), tensor([58512.], dtype=torch.float64), tensor([58512.], dtype=torch.float64), tensor([9951.], dtype=torch.float64), tensor([34333.], dtype=torch.float64), tensor([9951.], dtype=torch.float64), tensor([66821.], dtype=torch.float64), tensor([66821.], dtype=torch.float64), tensor([66823.], dtype=torch.float64), tensor([66822.], dtype=torch.float64), tensor([66821.], dtype=torch.float64), tensor([9951.], dtype=torch.float64), tensor([39439.], dtype=torch.float64), tensor([9951.], dtype=torch.float64), tensor([58512.], dtype=torch.float64), tensor([58512.], dtype=torch.float64), tensor([14185.], dtype=torch.float64), tensor([9951.], dtype=torch.float64), tensor([14190.], dtype=torch.float64), tensor([27726.], dtype=torch.float64), tensor([14175.], dtype=torch.float64), tensor([66825.], dtype=torch.float64), tensor([14175.], dtype=torch.float64), tensor([14175.], dtype=torch.float64), tensor([9951.], dtype=torch.float64), tensor([9951.], dtype=torch.float64), tensor([66821.], dtype=torch.float64), tensor([14175.], dtype=torch.float64), tensor([66821.], dtype=torch.float64), tensor([38230.], dtype=torch.float64), tensor([58512.], dtype=torch.float64), tensor([58554.], dtype=torch.float64), tensor([66821.], dtype=torch.float64), tensor([66821.], dtype=torch.float64), tensor([66821.], dtype=torch.float64), tensor([27816.], dtype=torch.float64), tensor([66821.], dtype=torch.float64), tensor([14175.], dtype=torch.float64), tensor([14177.], dtype=torch.float64), tensor([58513.], dtype=torch.float64), tensor([66825.], dtype=torch.float64), tensor([9951.], dtype=torch.float64), tensor([66821.], dtype=torch.float64), tensor([38979.], dtype=torch.float64), tensor([66821.], dtype=torch.float64), tensor([58512.], dtype=torch.float64), tensor([16033.], dtype=torch.float64), tensor([9951.], dtype=torch.float64), tensor([66822.], dtype=torch.float64), tensor([15711.], dtype=torch.float64), tensor([14176.], dtype=torch.float64), tensor([14175.], dtype=torch.float64), tensor([66821.], dtype=torch.float64), tensor([14184.], dtype=torch.float64), tensor([17417.], dtype=torch.float64), tensor([38953.], dtype=torch.float64), tensor([38850.], dtype=torch.float64), tensor([18834.], dtype=torch.float64), tensor([66824.], dtype=torch.float64), tensor([66821.], dtype=torch.float64), tensor([58512.], dtype=torch.float64), tensor([38995.], dtype=torch.float64), tensor([58512.], dtype=torch.float64), tensor([9951.], dtype=torch.float64), tensor([58512.], dtype=torch.float64), tensor([39133.], dtype=torch.float64), tensor([58512.], dtype=torch.float64), tensor([58512.], dtype=torch.float64), tensor([58512.], dtype=torch.float64), tensor([34955.], dtype=torch.float64), tensor([66821.], dtype=torch.float64), tensor([14175.], dtype=torch.float64), tensor([14175.], dtype=torch.float64), tensor([9951.], dtype=torch.float64), tensor([14175.], dtype=torch.float64), tensor([66821.], dtype=torch.float64), tensor([58513.], dtype=torch.float64), tensor([14176.], dtype=torch.float64), tensor([14175.], dtype=torch.float64), tensor([66822.], dtype=torch.float64), tensor([14176.], dtype=torch.float64), tensor([14175.], dtype=torch.float64), tensor([58512.], dtype=torch.float64), tensor([14175.], dtype=torch.float64), tensor([38633.], dtype=torch.float64), tensor([16020.], dtype=torch.float64), tensor([39159.], dtype=torch.float64), tensor([58512.], dtype=torch.float64), tensor([21227.], dtype=torch.float64), tensor([66821.], dtype=torch.float64), tensor([58512.], dtype=torch.float64), tensor([38936.], dtype=torch.float64), tensor([66917.], dtype=torch.float64), tensor([39033.], dtype=torch.float64), tensor([58520.], dtype=torch.float64), tensor([14176.], dtype=torch.float64), tensor([9951.], dtype=torch.float64), tensor([15711.], dtype=torch.float64), tensor([66821.], dtype=torch.float64), tensor([13320.], dtype=torch.float64), tensor([35160.], dtype=torch.float64), tensor([34116.], dtype=torch.float64), tensor([34116.], dtype=torch.float64), tensor([14187.], dtype=torch.float64), tensor([66821.], dtype=torch.float64), tensor([17844.], dtype=torch.float64), tensor([39105.], dtype=torch.float64), tensor([66821.], dtype=torch.float64), tensor([14175.], dtype=torch.float64), tensor([66821.], dtype=torch.float64), tensor([66821.], dtype=torch.float64), tensor([66821.], dtype=torch.float64), tensor([38953.], dtype=torch.float64), tensor([35253.], dtype=torch.float64), tensor([66824.], dtype=torch.float64), tensor([39049.], dtype=torch.float64), tensor([66821.], dtype=torch.float64), tensor([14175.], dtype=torch.float64), tensor([9951.], dtype=torch.float64), tensor([38922.], dtype=torch.float64), tensor([58512.], dtype=torch.float64), tensor([14175.], dtype=torch.float64), tensor([9951.], dtype=torch.float64), tensor([58512.], dtype=torch.float64), tensor([66821.], dtype=torch.float64), tensor([17416.], dtype=torch.float64), tensor([58512.], dtype=torch.float64), tensor([39141.], dtype=torch.float64), tensor([15711.], dtype=torch.float64), tensor([14181.], dtype=torch.float64), tensor([9951.], dtype=torch.float64), tensor([66821.], dtype=torch.float64), tensor([9951.], dtype=torch.float64), tensor([14211.], dtype=torch.float64), tensor([66821.], dtype=torch.float64), tensor([58512.], dtype=torch.float64), tensor([38483.], dtype=torch.float64), tensor([58512.], dtype=torch.float64), tensor([58512.], dtype=torch.float64), tensor([58512.], dtype=torch.float64), tensor([58512.], dtype=torch.float64), tensor([14200.], dtype=torch.float64), tensor([66821.], dtype=torch.float64), tensor([14177.], dtype=torch.float64), tensor([14197.], dtype=torch.float64), tensor([17246.], dtype=torch.float64), tensor([58512.], dtype=torch.float64), tensor([14175.], dtype=torch.float64), tensor([66821.], dtype=torch.float64), tensor([9951.], dtype=torch.float64), tensor([38898.], dtype=torch.float64), tensor([3876.], dtype=torch.float64), tensor([21733.], dtype=torch.float64), tensor([66821.], dtype=torch.float64), tensor([35178.], dtype=torch.float64), tensor([66861.], dtype=torch.float64), tensor([66825.], dtype=torch.float64), tensor([9951.], dtype=torch.float64), tensor([66821.], dtype=torch.float64), tensor([66821.], dtype=torch.float64), tensor([9951.], dtype=torch.float64), tensor([9951.], dtype=torch.float64), tensor([58512.], dtype=torch.float64), tensor([58512.], dtype=torch.float64), tensor([66822.], dtype=torch.float64), tensor([66821.], dtype=torch.float64), tensor([9951.], dtype=torch.float64), tensor([18834.], dtype=torch.float64), tensor([58512.], dtype=torch.float64), tensor([38543.], dtype=torch.float64), tensor([58515.], dtype=torch.float64), tensor([27726.], dtype=torch.float64), tensor([35045.], dtype=torch.float64), tensor([9951.], dtype=torch.float64), tensor([19520.], dtype=torch.float64), tensor([14175.], dtype=torch.float64), tensor([66821.], dtype=torch.float64), tensor([66821.], dtype=torch.float64), tensor([14178.], dtype=torch.float64), tensor([9951.], dtype=torch.float64), tensor([66821.], dtype=torch.float64), tensor([14175.], dtype=torch.float64), tensor([9951.], dtype=torch.float64), tensor([19798.], dtype=torch.float64), tensor([58512.], dtype=torch.float64), tensor([66823.], dtype=torch.float64), tensor([3876.], dtype=torch.float64), tensor([15712.], dtype=torch.float64), tensor([38393.], dtype=torch.float64), tensor([9951.], dtype=torch.float64), tensor([9951.], dtype=torch.float64), tensor([39310.], dtype=torch.float64), tensor([14175.], dtype=torch.float64), tensor([35343.], dtype=torch.float64), tensor([58512.], dtype=torch.float64), tensor([39058.], dtype=torch.float64), tensor([58512.], dtype=torch.float64), tensor([15716.], dtype=torch.float64), tensor([39403.], dtype=torch.float64), tensor([35025.], dtype=torch.float64), tensor([39013.], dtype=torch.float64), tensor([66822.], dtype=torch.float64), tensor([58516.], dtype=torch.float64), tensor([66821.], dtype=torch.float64), tensor([38535.], dtype=torch.float64), tensor([66821.], dtype=torch.float64), tensor([14047.], dtype=torch.float64), tensor([38212.], dtype=torch.float64), tensor([38321.], dtype=torch.float64), tensor([14176.], dtype=torch.float64), tensor([14178.], dtype=torch.float64), tensor([17416.], dtype=torch.float64), tensor([66821.], dtype=torch.float64), tensor([66821.], dtype=torch.float64), tensor([66821.], dtype=torch.float64), tensor([58512.], dtype=torch.float64), tensor([58512.], dtype=torch.float64), tensor([39066.], dtype=torch.float64), tensor([66821.], dtype=torch.float64), tensor([9951.], dtype=torch.float64), tensor([58512.], dtype=torch.float64), tensor([9951.], dtype=torch.float64), tensor([66821.], dtype=torch.float64), tensor([58512.], dtype=torch.float64), tensor([15711.], dtype=torch.float64), tensor([58512.], dtype=torch.float64), tensor([66821.], dtype=torch.float64), tensor([9951.], dtype=torch.float64), tensor([3876.], dtype=torch.float64), tensor([66822.], dtype=torch.float64), tensor([66827.], dtype=torch.float64), tensor([58512.], dtype=torch.float64), tensor([66826.], dtype=torch.float64), tensor([9951.], dtype=torch.float64), tensor([66821.], dtype=torch.float64), tensor([66821.], dtype=torch.float64), tensor([15712.], dtype=torch.float64), tensor([58512.], dtype=torch.float64), tensor([58512.], dtype=torch.float64), tensor([14199.], dtype=torch.float64), tensor([58513.], dtype=torch.float64), tensor([58512.], dtype=torch.float64), tensor([58512.], dtype=torch.float64), tensor([66821.], dtype=torch.float64), tensor([20556.], dtype=torch.float64), tensor([58519.], dtype=torch.float64), tensor([17416.], dtype=torch.float64), tensor([24812.], dtype=torch.float64), tensor([58512.], dtype=torch.float64), tensor([14179.], dtype=torch.float64), tensor([14175.], dtype=torch.float64), tensor([14175.], dtype=torch.float64), tensor([9951.], dtype=torch.float64), tensor([14175.], dtype=torch.float64), tensor([58512.], dtype=torch.float64), tensor([14175.], dtype=torch.float64), tensor([66821.], dtype=torch.float64), tensor([58512.], dtype=torch.float64), tensor([3876.], dtype=torch.float64), tensor([66821.], dtype=torch.float64), tensor([34584.], dtype=torch.float64), tensor([58512.], dtype=torch.float64), tensor([66821.], dtype=torch.float64), tensor([11274.], dtype=torch.float64), tensor([15711.], dtype=torch.float64), tensor([14175.], dtype=torch.float64), tensor([58512.], dtype=torch.float64), tensor([66825.], dtype=torch.float64), tensor([58512.], dtype=torch.float64), tensor([66821.], dtype=torch.float64), tensor([9951.], dtype=torch.float64), tensor([9951.], dtype=torch.float64), tensor([66823.], dtype=torch.float64), tensor([58512.], dtype=torch.float64), tensor([14178.], dtype=torch.float64), tensor([38879.], dtype=torch.float64), tensor([14175.], dtype=torch.float64), tensor([66821.], dtype=torch.float64), tensor([12552.], dtype=torch.float64), tensor([14162.], dtype=torch.float64), tensor([66822.], dtype=torch.float64), tensor([14200.], dtype=torch.float64), tensor([66823.], dtype=torch.float64), tensor([66821.], dtype=torch.float64), tensor([38879.], dtype=torch.float64), tensor([66824.], dtype=torch.float64), tensor([39049.], dtype=torch.float64), tensor([58512.], dtype=torch.float64), tensor([66821.], dtype=torch.float64), tensor([66821.], dtype=torch.float64), tensor([14176.], dtype=torch.float64), tensor([58512.], dtype=torch.float64), tensor([14179.], dtype=torch.float64), tensor([66821.], dtype=torch.float64), tensor([66821.], dtype=torch.float64), tensor([66821.], dtype=torch.float64), tensor([58512.], dtype=torch.float64), tensor([14176.], dtype=torch.float64), tensor([14175.], dtype=torch.float64), tensor([14182.], dtype=torch.float64), tensor([38446.], dtype=torch.float64), tensor([39030.], dtype=torch.float64), tensor([66821.], dtype=torch.float64), tensor([14175.], dtype=torch.float64), tensor([38590.], dtype=torch.float64), tensor([9951.], dtype=torch.float64), tensor([18834.], dtype=torch.float64), tensor([58512.], dtype=torch.float64), tensor([66821.], dtype=torch.float64), tensor([66849.], dtype=torch.float64), tensor([39173.], dtype=torch.float64), tensor([35097.], dtype=torch.float64), tensor([14047.], dtype=torch.float64), tensor([15711.], dtype=torch.float64), tensor([66821.], dtype=torch.float64), tensor([58512.], dtype=torch.float64), tensor([9951.], dtype=torch.float64), tensor([66821.], dtype=torch.float64), tensor([9951.], dtype=torch.float64), tensor([58512.], dtype=torch.float64), tensor([35271.], dtype=torch.float64), tensor([14178.], dtype=torch.float64)]\n",
      "len(ls): 467\n",
      "running epoch: 44\n",
      "final.shape: torch.Size([1920, 256])\n"
     ]
    },
    {
     "name": "stdout",
     "output_type": "stream",
     "text": [
      "final.shape: torch.Size([1920, 256])\n"
     ]
    },
    {
     "name": "stdout",
     "output_type": "stream",
     "text": [
      "final.shape: torch.Size([1920, 256])\n"
     ]
    },
    {
     "name": "stdout",
     "output_type": "stream",
     "text": [
      "final.shape: torch.Size([1920, 256])\n"
     ]
    },
    {
     "name": "stdout",
     "output_type": "stream",
     "text": [
      "final.shape: torch.Size([1920, 256])\n"
     ]
    },
    {
     "name": "stdout",
     "output_type": "stream",
     "text": [
      "final.shape: torch.Size([1920, 256])\n"
     ]
    },
    {
     "name": "stdout",
     "output_type": "stream",
     "text": [
      "final.shape: torch.Size([1920, 256])\n"
     ]
    },
    {
     "name": "stdout",
     "output_type": "stream",
     "text": [
      "final.shape: torch.Size([1920, 256])\n"
     ]
    },
    {
     "name": "stdout",
     "output_type": "stream",
     "text": [
      "final.shape: torch.Size([1920, 256])\n"
     ]
    },
    {
     "name": "stdout",
     "output_type": "stream",
     "text": [
      "final.shape: torch.Size([1920, 256])\n"
     ]
    },
    {
     "name": "stdout",
     "output_type": "stream",
     "text": [
      "final.shape: torch.Size([1920, 256])\n"
     ]
    },
    {
     "name": "stdout",
     "output_type": "stream",
     "text": [
      "final.shape: torch.Size([1920, 256])\n"
     ]
    },
    {
     "name": "stdout",
     "output_type": "stream",
     "text": [
      "final.shape: torch.Size([1920, 256])\n"
     ]
    },
    {
     "name": "stdout",
     "output_type": "stream",
     "text": [
      "final.shape: torch.Size([1920, 256])\n"
     ]
    },
    {
     "name": "stdout",
     "output_type": "stream",
     "text": [
      "final.shape: torch.Size([1920, 256])\n"
     ]
    },
    {
     "name": "stdout",
     "output_type": "stream",
     "text": [
      "final.shape: torch.Size([1920, 256])\n"
     ]
    },
    {
     "name": "stdout",
     "output_type": "stream",
     "text": [
      "final.shape: torch.Size([1920, 256])\n"
     ]
    },
    {
     "name": "stdout",
     "output_type": "stream",
     "text": [
      "final.shape: torch.Size([1920, 256])\n"
     ]
    },
    {
     "name": "stdout",
     "output_type": "stream",
     "text": [
      "final.shape: torch.Size([1920, 256])\n"
     ]
    },
    {
     "name": "stdout",
     "output_type": "stream",
     "text": [
      "final.shape: torch.Size([1920, 256])\n"
     ]
    },
    {
     "name": "stdout",
     "output_type": "stream",
     "text": [
      "final.shape: torch.Size([1920, 256])\n"
     ]
    },
    {
     "name": "stdout",
     "output_type": "stream",
     "text": [
      "final.shape: torch.Size([1920, 256])\n"
     ]
    },
    {
     "name": "stdout",
     "output_type": "stream",
     "text": [
      "final.shape: torch.Size([1920, 256])\n"
     ]
    },
    {
     "name": "stdout",
     "output_type": "stream",
     "text": [
      "final.shape: torch.Size([1920, 256])\n"
     ]
    },
    {
     "name": "stdout",
     "output_type": "stream",
     "text": [
      "final.shape: torch.Size([1920, 256])\n"
     ]
    },
    {
     "name": "stdout",
     "output_type": "stream",
     "text": [
      "final.shape: torch.Size([1920, 256])\n"
     ]
    },
    {
     "name": "stdout",
     "output_type": "stream",
     "text": [
      "final.shape: torch.Size([1920, 256])\n"
     ]
    },
    {
     "name": "stdout",
     "output_type": "stream",
     "text": [
      "final.shape: torch.Size([1920, 256])\n"
     ]
    },
    {
     "name": "stdout",
     "output_type": "stream",
     "text": [
      "final.shape: torch.Size([1920, 256])\n"
     ]
    },
    {
     "name": "stdout",
     "output_type": "stream",
     "text": [
      "final.shape: torch.Size([270, 256])\n"
     ]
    },
    {
     "name": "stdout",
     "output_type": "stream",
     "text": [
      "final.shape: torch.Size([1920, 256])\n",
      "final.shape: torch.Size([1920, 256])\n"
     ]
    },
    {
     "name": "stdout",
     "output_type": "stream",
     "text": [
      "final.shape: torch.Size([1920, 256])\n",
      "final.shape: torch.Size([1920, 256])\n"
     ]
    },
    {
     "name": "stdout",
     "output_type": "stream",
     "text": [
      "final.shape: torch.Size([1920, 256])\n",
      "final.shape: torch.Size([1920, 256])\n"
     ]
    },
    {
     "name": "stdout",
     "output_type": "stream",
     "text": [
      "final.shape: torch.Size([1920, 256])\n",
      "final.shape: torch.Size([570, 256])\n",
      "ps: [39143.45  14518.271 39143.45  11333.949 66933.    13072.134 66933.\n",
      " 59004.484 39143.41  11333.938 66933.    11333.938 59004.484 59004.484\n",
      " 66933.    59004.484 39143.45  66933.    59004.484 23899.926 59004.484\n",
      " 39143.45  15525.586 59004.484 66933.    66933.    11333.938 66933.\n",
      " 14518.271 66933.    59004.484 59004.484 39143.45  59004.484 66933.\n",
      " 15466.12  66933.    39143.45  11333.938 59004.484 59004.484 66933.\n",
      " 66933.    59004.484 59004.484 39143.41  66933.    39143.45  59004.484\n",
      " 13918.081 11333.949 11333.938 13072.134 59004.484 39143.45  39143.45\n",
      " 59004.484 66933.    66933.    66933.    66933.    11333.949 39143.41\n",
      " 11333.949 59004.484 66933.    59004.484 66933.    11333.938 11333.949\n",
      " 66933.    66933.    39143.45  11333.938 39143.45  59004.484 11333.938\n",
      " 66933.    13072.134 66933.    66933.    13072.12  11333.949 13072.134\n",
      " 11333.938 13918.081 59004.484 66933.    59004.484 11333.949 66933.\n",
      " 11333.938 11333.938 66933.    23899.879 11333.938 66933.    59004.484\n",
      " 66933.    66933.    66933.    13072.12  59004.484 66933.    59004.484\n",
      " 11333.938 39143.45  59004.484 11333.949 11333.949 59004.484 11333.938\n",
      " 66933.    66933.    39143.45  11333.949 39143.41  13072.134 66933.\n",
      " 59004.484 11333.949 11333.938 11333.938 23899.879 66933.    66933.\n",
      " 59004.484 59004.484 66933.    66933.    66933.    66933.    66933.\n",
      " 59004.484 13918.093 39143.45  11333.949 66933.    11333.949 11333.938\n",
      " 66933.    59004.484 11333.949 11333.938 13918.081 39143.45  59004.484\n",
      " 59004.484 11333.949 39143.45  11333.949 66933.    66933.    66933.\n",
      " 66933.    66933.    11333.949 39143.45  13072.134 59004.484 59004.484\n",
      " 11333.938 11333.938 11333.949 23899.879 11333.938 66933.    11333.938\n",
      " 11333.938 11333.938 11333.938 66933.    13918.121 66933.    39143.41\n",
      " 59004.484 59004.484 66933.    66933.    66933.    23899.926 66933.\n",
      " 11333.938 11333.938 59004.484 66933.    11333.938 66933.    39143.45\n",
      " 66933.    59004.484 13895.388 11333.949 66933.    13072.12  11333.949\n",
      " 11333.938 66933.    11333.949 11333.938 39143.45  39143.45  14518.271\n",
      " 66933.    66933.    59004.484 39143.45  59004.484 11333.949 59004.484\n",
      " 39143.45  59004.484 59004.484 59004.484 39143.45  66933.    11333.949\n",
      " 11333.938 11333.949 13918.081 66933.    59004.484 11333.949 11333.928\n",
      " 66933.    11333.938 11333.949 59004.484 11333.938 39143.45  13895.388\n",
      " 39143.45  59004.484 23899.926 66933.    59004.484 39143.41  66933.\n",
      " 39143.45  59004.484 11333.938 11333.949 13072.134 66933.    11333.949\n",
      " 39143.45  39143.45  39143.45  13918.081 66933.    14068.598 39143.45\n",
      " 66933.    11333.938 66933.    66933.    66933.    39143.45  39143.45\n",
      " 66933.    39143.45  66933.    11333.938 11333.949 39143.45  59004.484\n",
      " 11333.938 13072.12  59004.484 66933.    11333.938 59004.484 39143.41\n",
      " 13072.12  11333.949 11333.938 66933.    13072.12  11333.938 66933.\n",
      " 59004.484 39143.45  59004.484 59004.484 59004.484 59004.484 11333.938\n",
      " 66933.    11333.938 11333.938 15441.816 59004.484 11333.938 66933.\n",
      " 11333.949 39143.45  11333.938 11333.938 66933.    39143.45  66933.\n",
      " 66933.    11333.938 66933.    66933.    11333.949 11333.949 59004.484\n",
      " 59004.484 66933.    66933.    11333.938 14518.271 59004.484 39143.45\n",
      " 59004.484 23899.926 39143.45  11333.938 15525.57  11333.949 66933.\n",
      " 66933.    11333.938 11333.949 66933.    11333.949 11333.938 23899.879\n",
      " 59004.484 66933.    13072.12  13072.134 39143.45  11333.949 11333.949\n",
      " 39143.41  11333.938 39143.45  59004.484 39143.45  59004.484 13072.12\n",
      " 39143.45  39143.45  39143.41  66933.    59004.484 66933.    39143.45\n",
      " 66933.    11333.938 39143.41  39143.45  11333.938 11333.938 11333.938\n",
      " 66933.    66933.    66933.    59004.484 59004.484 39143.45  66933.\n",
      " 11333.938 59004.484 11333.938 66933.    59004.484 13072.134 59004.484\n",
      " 66933.    11333.938 11333.938 66933.    66933.    59004.484 66933.\n",
      " 11333.949 66933.    66933.    13072.134 59004.484 59004.484 11333.938\n",
      " 59004.484 59004.484 59004.484 66933.    23899.879 59004.484 11333.949\n",
      " 23899.926 59004.484 11333.949 11333.938 11333.938 11333.938 13316.794\n",
      " 59004.484 11333.938 66933.    59004.484 11333.938 66933.    39143.45\n",
      " 59004.484 66933.    13316.794 13072.12  11333.938 59004.484 66933.\n",
      " 59004.484 66933.    13072.134 11333.938 66933.    59004.484 13918.121\n",
      " 39143.45  11333.938 66933.    13895.388 14392.504 66933.    11333.938\n",
      " 66933.    66933.    39143.41  66933.    39143.45  59004.484 66933.\n",
      " 66933.    11333.938 59004.484 11333.949 66933.    66933.    66933.\n",
      " 59004.484 11333.938 11333.938 11333.938 39143.45  39143.45  66933.\n",
      " 11333.949 39143.45  11333.938 14518.271 59004.484 66933.    66933.\n",
      " 39143.45  39143.45  11333.938 13072.12  66933.    59004.484 13072.134\n",
      " 66933.    15525.704 59004.484 39143.45  11333.938]\n"
     ]
    },
    {
     "name": "stdout",
     "output_type": "stream",
     "text": [
      "ls: [tensor([35153.], dtype=torch.float64), tensor([9951.], dtype=torch.float64), tensor([38815.], dtype=torch.float64), tensor([14175.], dtype=torch.float64), tensor([66821.], dtype=torch.float64), tensor([9951.], dtype=torch.float64), tensor([66821.], dtype=torch.float64), tensor([58513.], dtype=torch.float64), tensor([39421.], dtype=torch.float64), tensor([9951.], dtype=torch.float64), tensor([66821.], dtype=torch.float64), tensor([14187.], dtype=torch.float64), tensor([58512.], dtype=torch.float64), tensor([58512.], dtype=torch.float64), tensor([66822.], dtype=torch.float64), tensor([58512.], dtype=torch.float64), tensor([35343.], dtype=torch.float64), tensor([66823.], dtype=torch.float64), tensor([58512.], dtype=torch.float64), tensor([19798.], dtype=torch.float64), tensor([58512.], dtype=torch.float64), tensor([38590.], dtype=torch.float64), tensor([9951.], dtype=torch.float64), tensor([58513.], dtype=torch.float64), tensor([66821.], dtype=torch.float64), tensor([66821.], dtype=torch.float64), tensor([9951.], dtype=torch.float64), tensor([66821.], dtype=torch.float64), tensor([7639.], dtype=torch.float64), tensor([66821.], dtype=torch.float64), tensor([58512.], dtype=torch.float64), tensor([58512.], dtype=torch.float64), tensor([38825.], dtype=torch.float64), tensor([58512.], dtype=torch.float64), tensor([66821.], dtype=torch.float64), tensor([15913.], dtype=torch.float64), tensor([66821.], dtype=torch.float64), tensor([39267.], dtype=torch.float64), tensor([14175.], dtype=torch.float64), tensor([58512.], dtype=torch.float64), tensor([58513.], dtype=torch.float64), tensor([66824.], dtype=torch.float64), tensor([66821.], dtype=torch.float64), tensor([58512.], dtype=torch.float64), tensor([58512.], dtype=torch.float64), tensor([39130.], dtype=torch.float64), tensor([66821.], dtype=torch.float64), tensor([38957.], dtype=torch.float64), tensor([58512.], dtype=torch.float64), tensor([14175.], dtype=torch.float64), tensor([17508.], dtype=torch.float64), tensor([14175.], dtype=torch.float64), tensor([15711.], dtype=torch.float64), tensor([58512.], dtype=torch.float64), tensor([34609.], dtype=torch.float64), tensor([39097.], dtype=torch.float64), tensor([58512.], dtype=torch.float64), tensor([66824.], dtype=torch.float64), tensor([66821.], dtype=torch.float64), tensor([66822.], dtype=torch.float64), tensor([66821.], dtype=torch.float64), tensor([9951.], dtype=torch.float64), tensor([38861.], dtype=torch.float64), tensor([9951.], dtype=torch.float64), tensor([58512.], dtype=torch.float64), tensor([66823.], dtype=torch.float64), tensor([58518.], dtype=torch.float64), tensor([66821.], dtype=torch.float64), tensor([3876.], dtype=torch.float64), tensor([9951.], dtype=torch.float64), tensor([66821.], dtype=torch.float64), tensor([66821.], dtype=torch.float64), tensor([38465.], dtype=torch.float64), tensor([9951.], dtype=torch.float64), tensor([39229.], dtype=torch.float64), tensor([58512.], dtype=torch.float64), tensor([9951.], dtype=torch.float64), tensor([66821.], dtype=torch.float64), tensor([15711.], dtype=torch.float64), tensor([66837.], dtype=torch.float64), tensor([66821.], dtype=torch.float64), tensor([15711.], dtype=torch.float64), tensor([17455.], dtype=torch.float64), tensor([15711.], dtype=torch.float64), tensor([3876.], dtype=torch.float64), tensor([14176.], dtype=torch.float64), tensor([58514.], dtype=torch.float64), tensor([66821.], dtype=torch.float64), tensor([58513.], dtype=torch.float64), tensor([9951.], dtype=torch.float64), tensor([66821.], dtype=torch.float64), tensor([14175.], dtype=torch.float64), tensor([9951.], dtype=torch.float64), tensor([66824.], dtype=torch.float64), tensor([31180.], dtype=torch.float64), tensor([14175.], dtype=torch.float64), tensor([66821.], dtype=torch.float64), tensor([58512.], dtype=torch.float64), tensor([66844.], dtype=torch.float64), tensor([66821.], dtype=torch.float64), tensor([66827.], dtype=torch.float64), tensor([15711.], dtype=torch.float64), tensor([58512.], dtype=torch.float64), tensor([66821.], dtype=torch.float64), tensor([58512.], dtype=torch.float64), tensor([3876.], dtype=torch.float64), tensor([39220.], dtype=torch.float64), tensor([58512.], dtype=torch.float64), tensor([14197.], dtype=torch.float64), tensor([9951.], dtype=torch.float64), tensor([58512.], dtype=torch.float64), tensor([14175.], dtype=torch.float64), tensor([66822.], dtype=torch.float64), tensor([66821.], dtype=torch.float64), tensor([39087.], dtype=torch.float64), tensor([9951.], dtype=torch.float64), tensor([39511.], dtype=torch.float64), tensor([15711.], dtype=torch.float64), tensor([66821.], dtype=torch.float64), tensor([58512.], dtype=torch.float64), tensor([14175.], dtype=torch.float64), tensor([14176.], dtype=torch.float64), tensor([14175.], dtype=torch.float64), tensor([23183.], dtype=torch.float64), tensor([66821.], dtype=torch.float64), tensor([66821.], dtype=torch.float64), tensor([58512.], dtype=torch.float64), tensor([58512.], dtype=torch.float64), tensor([66834.], dtype=torch.float64), tensor([66821.], dtype=torch.float64), tensor([66821.], dtype=torch.float64), tensor([66821.], dtype=torch.float64), tensor([66821.], dtype=torch.float64), tensor([58512.], dtype=torch.float64), tensor([15945.], dtype=torch.float64), tensor([39097.], dtype=torch.float64), tensor([14178.], dtype=torch.float64), tensor([66823.], dtype=torch.float64), tensor([17416.], dtype=torch.float64), tensor([14211.], dtype=torch.float64), tensor([66821.], dtype=torch.float64), tensor([58512.], dtype=torch.float64), tensor([9951.], dtype=torch.float64), tensor([14181.], dtype=torch.float64), tensor([14180.], dtype=torch.float64), tensor([39157.], dtype=torch.float64), tensor([58512.], dtype=torch.float64), tensor([58512.], dtype=torch.float64), tensor([9951.], dtype=torch.float64), tensor([34333.], dtype=torch.float64), tensor([9951.], dtype=torch.float64), tensor([66821.], dtype=torch.float64), tensor([66821.], dtype=torch.float64), tensor([66823.], dtype=torch.float64), tensor([66822.], dtype=torch.float64), tensor([66821.], dtype=torch.float64), tensor([9951.], dtype=torch.float64), tensor([39439.], dtype=torch.float64), tensor([9951.], dtype=torch.float64), tensor([58512.], dtype=torch.float64), tensor([58512.], dtype=torch.float64), tensor([14185.], dtype=torch.float64), tensor([9951.], dtype=torch.float64), tensor([14190.], dtype=torch.float64), tensor([27726.], dtype=torch.float64), tensor([14175.], dtype=torch.float64), tensor([66825.], dtype=torch.float64), tensor([14175.], dtype=torch.float64), tensor([14175.], dtype=torch.float64), tensor([9951.], dtype=torch.float64), tensor([9951.], dtype=torch.float64), tensor([66821.], dtype=torch.float64), tensor([14175.], dtype=torch.float64), tensor([66821.], dtype=torch.float64), tensor([38230.], dtype=torch.float64), tensor([58512.], dtype=torch.float64), tensor([58554.], dtype=torch.float64), tensor([66821.], dtype=torch.float64), tensor([66821.], dtype=torch.float64), tensor([66821.], dtype=torch.float64), tensor([27816.], dtype=torch.float64), tensor([66821.], dtype=torch.float64), tensor([14175.], dtype=torch.float64), tensor([14177.], dtype=torch.float64), tensor([58513.], dtype=torch.float64), tensor([66825.], dtype=torch.float64), tensor([9951.], dtype=torch.float64), tensor([66821.], dtype=torch.float64), tensor([38979.], dtype=torch.float64), tensor([66821.], dtype=torch.float64), tensor([58512.], dtype=torch.float64), tensor([16033.], dtype=torch.float64), tensor([9951.], dtype=torch.float64), tensor([66822.], dtype=torch.float64), tensor([15711.], dtype=torch.float64), tensor([14176.], dtype=torch.float64), tensor([14175.], dtype=torch.float64), tensor([66821.], dtype=torch.float64), tensor([14184.], dtype=torch.float64), tensor([17417.], dtype=torch.float64), tensor([38953.], dtype=torch.float64), tensor([38850.], dtype=torch.float64), tensor([18834.], dtype=torch.float64), tensor([66824.], dtype=torch.float64), tensor([66821.], dtype=torch.float64), tensor([58512.], dtype=torch.float64), tensor([38995.], dtype=torch.float64), tensor([58512.], dtype=torch.float64), tensor([9951.], dtype=torch.float64), tensor([58512.], dtype=torch.float64), tensor([39133.], dtype=torch.float64), tensor([58512.], dtype=torch.float64), tensor([58512.], dtype=torch.float64), tensor([58512.], dtype=torch.float64), tensor([34955.], dtype=torch.float64), tensor([66821.], dtype=torch.float64), tensor([14175.], dtype=torch.float64), tensor([14175.], dtype=torch.float64), tensor([9951.], dtype=torch.float64), tensor([14175.], dtype=torch.float64), tensor([66821.], dtype=torch.float64), tensor([58513.], dtype=torch.float64), tensor([14176.], dtype=torch.float64), tensor([14175.], dtype=torch.float64), tensor([66822.], dtype=torch.float64), tensor([14176.], dtype=torch.float64), tensor([14175.], dtype=torch.float64), tensor([58512.], dtype=torch.float64), tensor([14175.], dtype=torch.float64), tensor([38633.], dtype=torch.float64), tensor([16020.], dtype=torch.float64), tensor([39159.], dtype=torch.float64), tensor([58512.], dtype=torch.float64), tensor([21227.], dtype=torch.float64), tensor([66821.], dtype=torch.float64), tensor([58512.], dtype=torch.float64), tensor([38936.], dtype=torch.float64), tensor([66917.], dtype=torch.float64), tensor([39033.], dtype=torch.float64), tensor([58520.], dtype=torch.float64), tensor([14176.], dtype=torch.float64), tensor([9951.], dtype=torch.float64), tensor([15711.], dtype=torch.float64), tensor([66821.], dtype=torch.float64), tensor([13320.], dtype=torch.float64), tensor([35160.], dtype=torch.float64), tensor([34116.], dtype=torch.float64), tensor([34116.], dtype=torch.float64), tensor([14187.], dtype=torch.float64), tensor([66821.], dtype=torch.float64), tensor([17844.], dtype=torch.float64), tensor([39105.], dtype=torch.float64), tensor([66821.], dtype=torch.float64), tensor([14175.], dtype=torch.float64), tensor([66821.], dtype=torch.float64), tensor([66821.], dtype=torch.float64), tensor([66821.], dtype=torch.float64), tensor([38953.], dtype=torch.float64), tensor([35253.], dtype=torch.float64), tensor([66824.], dtype=torch.float64), tensor([39049.], dtype=torch.float64), tensor([66821.], dtype=torch.float64), tensor([14175.], dtype=torch.float64), tensor([9951.], dtype=torch.float64), tensor([38922.], dtype=torch.float64), tensor([58512.], dtype=torch.float64), tensor([14175.], dtype=torch.float64), tensor([9951.], dtype=torch.float64), tensor([58512.], dtype=torch.float64), tensor([66821.], dtype=torch.float64), tensor([17416.], dtype=torch.float64), tensor([58512.], dtype=torch.float64), tensor([39141.], dtype=torch.float64), tensor([15711.], dtype=torch.float64), tensor([14181.], dtype=torch.float64), tensor([9951.], dtype=torch.float64), tensor([66821.], dtype=torch.float64), tensor([9951.], dtype=torch.float64), tensor([14211.], dtype=torch.float64), tensor([66821.], dtype=torch.float64), tensor([58512.], dtype=torch.float64), tensor([38483.], dtype=torch.float64), tensor([58512.], dtype=torch.float64), tensor([58512.], dtype=torch.float64), tensor([58512.], dtype=torch.float64), tensor([58512.], dtype=torch.float64), tensor([14200.], dtype=torch.float64), tensor([66821.], dtype=torch.float64), tensor([14177.], dtype=torch.float64), tensor([14197.], dtype=torch.float64), tensor([17246.], dtype=torch.float64), tensor([58512.], dtype=torch.float64), tensor([14175.], dtype=torch.float64), tensor([66821.], dtype=torch.float64), tensor([9951.], dtype=torch.float64), tensor([38898.], dtype=torch.float64), tensor([3876.], dtype=torch.float64), tensor([21733.], dtype=torch.float64), tensor([66821.], dtype=torch.float64), tensor([35178.], dtype=torch.float64), tensor([66861.], dtype=torch.float64), tensor([66825.], dtype=torch.float64), tensor([9951.], dtype=torch.float64), tensor([66821.], dtype=torch.float64), tensor([66821.], dtype=torch.float64), tensor([9951.], dtype=torch.float64), tensor([9951.], dtype=torch.float64), tensor([58512.], dtype=torch.float64), tensor([58512.], dtype=torch.float64), tensor([66822.], dtype=torch.float64), tensor([66821.], dtype=torch.float64), tensor([9951.], dtype=torch.float64), tensor([18834.], dtype=torch.float64), tensor([58512.], dtype=torch.float64), tensor([38543.], dtype=torch.float64), tensor([58515.], dtype=torch.float64), tensor([27726.], dtype=torch.float64), tensor([35045.], dtype=torch.float64), tensor([9951.], dtype=torch.float64), tensor([19520.], dtype=torch.float64), tensor([14175.], dtype=torch.float64), tensor([66821.], dtype=torch.float64), tensor([66821.], dtype=torch.float64), tensor([14178.], dtype=torch.float64), tensor([9951.], dtype=torch.float64), tensor([66821.], dtype=torch.float64), tensor([14175.], dtype=torch.float64), tensor([9951.], dtype=torch.float64), tensor([19798.], dtype=torch.float64), tensor([58512.], dtype=torch.float64), tensor([66823.], dtype=torch.float64), tensor([3876.], dtype=torch.float64), tensor([15712.], dtype=torch.float64), tensor([38393.], dtype=torch.float64), tensor([9951.], dtype=torch.float64), tensor([9951.], dtype=torch.float64), tensor([39310.], dtype=torch.float64), tensor([14175.], dtype=torch.float64), tensor([35343.], dtype=torch.float64), tensor([58512.], dtype=torch.float64), tensor([39058.], dtype=torch.float64), tensor([58512.], dtype=torch.float64), tensor([15716.], dtype=torch.float64), tensor([39403.], dtype=torch.float64), tensor([35025.], dtype=torch.float64), tensor([39013.], dtype=torch.float64), tensor([66822.], dtype=torch.float64), tensor([58516.], dtype=torch.float64), tensor([66821.], dtype=torch.float64), tensor([38535.], dtype=torch.float64), tensor([66821.], dtype=torch.float64), tensor([14047.], dtype=torch.float64), tensor([38212.], dtype=torch.float64), tensor([38321.], dtype=torch.float64), tensor([14176.], dtype=torch.float64), tensor([14178.], dtype=torch.float64), tensor([17416.], dtype=torch.float64), tensor([66821.], dtype=torch.float64), tensor([66821.], dtype=torch.float64), tensor([66821.], dtype=torch.float64), tensor([58512.], dtype=torch.float64), tensor([58512.], dtype=torch.float64), tensor([39066.], dtype=torch.float64), tensor([66821.], dtype=torch.float64), tensor([9951.], dtype=torch.float64), tensor([58512.], dtype=torch.float64), tensor([9951.], dtype=torch.float64), tensor([66821.], dtype=torch.float64), tensor([58512.], dtype=torch.float64), tensor([15711.], dtype=torch.float64), tensor([58512.], dtype=torch.float64), tensor([66821.], dtype=torch.float64), tensor([9951.], dtype=torch.float64), tensor([3876.], dtype=torch.float64), tensor([66822.], dtype=torch.float64), tensor([66827.], dtype=torch.float64), tensor([58512.], dtype=torch.float64), tensor([66826.], dtype=torch.float64), tensor([9951.], dtype=torch.float64), tensor([66821.], dtype=torch.float64), tensor([66821.], dtype=torch.float64), tensor([15712.], dtype=torch.float64), tensor([58512.], dtype=torch.float64), tensor([58512.], dtype=torch.float64), tensor([14199.], dtype=torch.float64), tensor([58513.], dtype=torch.float64), tensor([58512.], dtype=torch.float64), tensor([58512.], dtype=torch.float64), tensor([66821.], dtype=torch.float64), tensor([20556.], dtype=torch.float64), tensor([58519.], dtype=torch.float64), tensor([17416.], dtype=torch.float64), tensor([24812.], dtype=torch.float64), tensor([58512.], dtype=torch.float64), tensor([14179.], dtype=torch.float64), tensor([14175.], dtype=torch.float64), tensor([14175.], dtype=torch.float64), tensor([9951.], dtype=torch.float64), tensor([14175.], dtype=torch.float64), tensor([58512.], dtype=torch.float64), tensor([14175.], dtype=torch.float64), tensor([66821.], dtype=torch.float64), tensor([58512.], dtype=torch.float64), tensor([3876.], dtype=torch.float64), tensor([66821.], dtype=torch.float64), tensor([34584.], dtype=torch.float64), tensor([58512.], dtype=torch.float64), tensor([66821.], dtype=torch.float64), tensor([11274.], dtype=torch.float64), tensor([15711.], dtype=torch.float64), tensor([14175.], dtype=torch.float64), tensor([58512.], dtype=torch.float64), tensor([66825.], dtype=torch.float64), tensor([58512.], dtype=torch.float64), tensor([66821.], dtype=torch.float64), tensor([9951.], dtype=torch.float64), tensor([9951.], dtype=torch.float64), tensor([66823.], dtype=torch.float64), tensor([58512.], dtype=torch.float64), tensor([14178.], dtype=torch.float64), tensor([38879.], dtype=torch.float64), tensor([14175.], dtype=torch.float64), tensor([66821.], dtype=torch.float64), tensor([12552.], dtype=torch.float64), tensor([14162.], dtype=torch.float64), tensor([66822.], dtype=torch.float64), tensor([14200.], dtype=torch.float64), tensor([66823.], dtype=torch.float64), tensor([66821.], dtype=torch.float64), tensor([38879.], dtype=torch.float64), tensor([66824.], dtype=torch.float64), tensor([39049.], dtype=torch.float64), tensor([58512.], dtype=torch.float64), tensor([66821.], dtype=torch.float64), tensor([66821.], dtype=torch.float64), tensor([14176.], dtype=torch.float64), tensor([58512.], dtype=torch.float64), tensor([14179.], dtype=torch.float64), tensor([66821.], dtype=torch.float64), tensor([66821.], dtype=torch.float64), tensor([66821.], dtype=torch.float64), tensor([58512.], dtype=torch.float64), tensor([14176.], dtype=torch.float64), tensor([14175.], dtype=torch.float64), tensor([14182.], dtype=torch.float64), tensor([38446.], dtype=torch.float64), tensor([39030.], dtype=torch.float64), tensor([66821.], dtype=torch.float64), tensor([14175.], dtype=torch.float64), tensor([38590.], dtype=torch.float64), tensor([9951.], dtype=torch.float64), tensor([18834.], dtype=torch.float64), tensor([58512.], dtype=torch.float64), tensor([66821.], dtype=torch.float64), tensor([66849.], dtype=torch.float64), tensor([39173.], dtype=torch.float64), tensor([35097.], dtype=torch.float64), tensor([14047.], dtype=torch.float64), tensor([15711.], dtype=torch.float64), tensor([66821.], dtype=torch.float64), tensor([58512.], dtype=torch.float64), tensor([9951.], dtype=torch.float64), tensor([66821.], dtype=torch.float64), tensor([9951.], dtype=torch.float64), tensor([58512.], dtype=torch.float64), tensor([35271.], dtype=torch.float64), tensor([14178.], dtype=torch.float64)]\n",
      "len(ls): 467\n",
      "running epoch: 45\n",
      "final.shape: torch.Size([1920, 256])\n"
     ]
    },
    {
     "name": "stdout",
     "output_type": "stream",
     "text": [
      "final.shape: torch.Size([1920, 256])\n"
     ]
    },
    {
     "name": "stdout",
     "output_type": "stream",
     "text": [
      "final.shape: torch.Size([1920, 256])\n"
     ]
    },
    {
     "name": "stdout",
     "output_type": "stream",
     "text": [
      "final.shape: torch.Size([1920, 256])\n"
     ]
    },
    {
     "name": "stdout",
     "output_type": "stream",
     "text": [
      "final.shape: torch.Size([1920, 256])\n"
     ]
    },
    {
     "name": "stdout",
     "output_type": "stream",
     "text": [
      "final.shape: torch.Size([1920, 256])\n"
     ]
    },
    {
     "name": "stdout",
     "output_type": "stream",
     "text": [
      "final.shape: torch.Size([1920, 256])\n"
     ]
    },
    {
     "name": "stdout",
     "output_type": "stream",
     "text": [
      "final.shape: torch.Size([1920, 256])\n"
     ]
    },
    {
     "name": "stdout",
     "output_type": "stream",
     "text": [
      "final.shape: torch.Size([1920, 256])\n"
     ]
    },
    {
     "name": "stdout",
     "output_type": "stream",
     "text": [
      "final.shape: torch.Size([1920, 256])\n"
     ]
    },
    {
     "name": "stdout",
     "output_type": "stream",
     "text": [
      "final.shape: torch.Size([1920, 256])\n"
     ]
    },
    {
     "name": "stdout",
     "output_type": "stream",
     "text": [
      "final.shape: torch.Size([1920, 256])\n"
     ]
    },
    {
     "name": "stdout",
     "output_type": "stream",
     "text": [
      "final.shape: torch.Size([1920, 256])\n"
     ]
    },
    {
     "name": "stdout",
     "output_type": "stream",
     "text": [
      "final.shape: torch.Size([1920, 256])\n"
     ]
    },
    {
     "name": "stdout",
     "output_type": "stream",
     "text": [
      "final.shape: torch.Size([1920, 256])\n"
     ]
    },
    {
     "name": "stdout",
     "output_type": "stream",
     "text": [
      "final.shape: torch.Size([1920, 256])\n"
     ]
    },
    {
     "name": "stdout",
     "output_type": "stream",
     "text": [
      "final.shape: torch.Size([1920, 256])\n"
     ]
    },
    {
     "name": "stdout",
     "output_type": "stream",
     "text": [
      "final.shape: torch.Size([1920, 256])\n"
     ]
    },
    {
     "name": "stdout",
     "output_type": "stream",
     "text": [
      "final.shape: torch.Size([1920, 256])\n"
     ]
    },
    {
     "name": "stdout",
     "output_type": "stream",
     "text": [
      "final.shape: torch.Size([1920, 256])\n"
     ]
    },
    {
     "name": "stdout",
     "output_type": "stream",
     "text": [
      "final.shape: torch.Size([1920, 256])\n"
     ]
    },
    {
     "name": "stdout",
     "output_type": "stream",
     "text": [
      "final.shape: torch.Size([1920, 256])\n"
     ]
    },
    {
     "name": "stdout",
     "output_type": "stream",
     "text": [
      "final.shape: torch.Size([1920, 256])\n"
     ]
    },
    {
     "name": "stdout",
     "output_type": "stream",
     "text": [
      "final.shape: torch.Size([1920, 256])\n"
     ]
    },
    {
     "name": "stdout",
     "output_type": "stream",
     "text": [
      "final.shape: torch.Size([1920, 256])\n"
     ]
    },
    {
     "name": "stdout",
     "output_type": "stream",
     "text": [
      "final.shape: torch.Size([1920, 256])\n"
     ]
    },
    {
     "name": "stdout",
     "output_type": "stream",
     "text": [
      "final.shape: torch.Size([1920, 256])\n"
     ]
    },
    {
     "name": "stdout",
     "output_type": "stream",
     "text": [
      "final.shape: torch.Size([1920, 256])\n"
     ]
    },
    {
     "name": "stdout",
     "output_type": "stream",
     "text": [
      "final.shape: torch.Size([1920, 256])\n"
     ]
    },
    {
     "name": "stdout",
     "output_type": "stream",
     "text": [
      "final.shape: torch.Size([270, 256])\n"
     ]
    },
    {
     "name": "stdout",
     "output_type": "stream",
     "text": [
      "final.shape: torch.Size([1920, 256])\n",
      "final.shape: torch.Size([1920, 256])\n"
     ]
    },
    {
     "name": "stdout",
     "output_type": "stream",
     "text": [
      "final.shape: torch.Size([1920, 256])\n"
     ]
    },
    {
     "name": "stdout",
     "output_type": "stream",
     "text": [
      "final.shape: torch.Size([1920, 256])\n",
      "final.shape: torch.Size([1920, 256])\n"
     ]
    },
    {
     "name": "stdout",
     "output_type": "stream",
     "text": [
      "final.shape: torch.Size([1920, 256])\n",
      "final.shape: torch.Size([1920, 256])\n"
     ]
    },
    {
     "name": "stdout",
     "output_type": "stream",
     "text": [
      "final.shape: torch.Size([570, 256])\n",
      "ps: [38755.4   14116.727 38755.4   11059.432 67023.12  12702.212 67023.12\n",
      " 59206.56  38755.4   11059.432 67023.12  11059.432 59206.56  59206.56\n",
      " 67023.12  59206.56  38755.4   67023.12  59206.56  24646.387 59206.56\n",
      " 38755.4   15233.747 59206.56  67023.12  67023.12  11059.432 67023.12\n",
      " 14116.727 67023.12  59206.56  59206.56  38755.4   59206.56  67023.12\n",
      " 15273.867 67023.12  38755.4   11059.432 59206.56  59206.56  67023.12\n",
      " 67023.12  59206.56  59206.56  38755.4   67023.12  38755.4   59206.56\n",
      " 13457.01  11059.432 11059.432 12702.212 59206.56  38755.4   38755.4\n",
      " 59206.56  67023.12  67023.12  67023.12  67023.12  11059.432 38755.4\n",
      " 11059.432 59206.56  67023.12  59206.56  67023.12  11059.432 11059.432\n",
      " 67023.12  67023.12  38755.4   11059.432 38755.4   59206.56  11059.432\n",
      " 67023.12  12702.212 67023.12  67023.12  12702.2   11059.432 12702.212\n",
      " 11059.432 13457.01  59206.56  67023.12  59206.56  11059.432 67023.12\n",
      " 11059.432 11059.432 67023.12  24646.246 11059.432 67023.12  59206.56\n",
      " 67023.12  67023.12  67023.12  12702.2   59206.56  67023.12  59206.56\n",
      " 11059.432 38755.4   59206.56  11059.432 11059.432 59206.56  11059.432\n",
      " 67023.12  67023.12  38755.4   11059.432 38755.4   12702.212 67023.12\n",
      " 59206.56  11059.432 11059.432 11059.432 24646.246 67023.12  67023.12\n",
      " 59206.56  59206.56  67023.12  67023.12  67023.12  67023.12  67023.12\n",
      " 59206.56  13457.023 38755.4   11059.432 67023.12  11059.432 11059.432\n",
      " 67023.12  59206.56  11059.432 11059.432 13457.01  38755.4   59206.56\n",
      " 59206.56  11059.432 38755.4   11059.432 67023.12  67023.12  67023.12\n",
      " 67023.12  67023.12  11059.432 38755.4   12702.212 59206.56  59206.56\n",
      " 11059.432 11059.432 11059.432 24646.246 11059.432 67023.12  11059.432\n",
      " 11059.432 11059.432 11059.432 67023.12  13457.062 67023.12  38755.4\n",
      " 59206.56  59206.56  67023.12  67023.12  67023.12  24646.387 67023.12\n",
      " 11059.432 11059.432 59206.56  67023.12  11059.432 67023.12  38755.4\n",
      " 67023.12  59206.56  13419.754 11059.432 67023.12  12702.2   11059.432\n",
      " 11059.432 67023.12  11059.432 11059.432 38755.4   38755.4   14116.727\n",
      " 67023.12  67023.12  59206.56  38755.4   59206.56  11059.432 59206.56\n",
      " 38755.4   59206.56  59206.56  59206.56  38755.4   67023.12  11059.432\n",
      " 11059.432 11059.432 13457.01  67023.12  59206.56  11059.432 11059.422\n",
      " 67023.12  11059.432 11059.432 59206.56  11059.432 38755.4   13419.754\n",
      " 38755.4   59206.56  24646.387 67023.12  59206.56  38755.4   67023.12\n",
      " 38755.4   59206.56  11059.432 11059.432 12702.212 67023.12  11059.432\n",
      " 38755.4   38755.4   38755.4   13457.01  67023.12  13579.174 38755.4\n",
      " 67023.12  11059.432 67023.12  67023.12  67023.12  38755.4   38755.4\n",
      " 67023.12  38755.4   67023.12  11059.432 11059.432 38755.4   59206.56\n",
      " 11059.432 12702.2   59206.56  67023.12  11059.432 59206.56  38755.4\n",
      " 12702.212 11059.432 11059.432 67023.12  12702.2   11059.432 67023.12\n",
      " 59206.56  38755.4   59206.56  59206.56  59206.56  59206.56  11059.432\n",
      " 67023.12  11059.432 11059.432 15083.358 59206.56  11059.432 67023.12\n",
      " 11059.432 38755.4   11059.432 11059.432 67023.12  38755.4   67023.12\n",
      " 67023.12  11059.432 67023.12  67023.12  11059.432 11059.432 59206.56\n",
      " 59206.56  67023.12  67023.12  11059.432 14116.727 59206.56  38755.4\n",
      " 59206.56  24646.387 38755.4   11059.432 15233.762 11059.432 67023.12\n",
      " 67023.12  11059.432 11059.432 67023.12  11059.432 11059.432 24646.246\n",
      " 59206.56  67023.12  12702.2   12702.212 38755.4   11059.432 11059.432\n",
      " 38755.4   11059.432 38755.4   59206.56  38755.4   59206.56  12702.212\n",
      " 38755.4   38755.4   38755.4   67023.12  59206.56  67023.12  38755.4\n",
      " 67023.12  11059.432 38755.4   38755.4   11059.432 11059.432 11059.432\n",
      " 67023.12  67023.12  67023.12  59206.56  59206.56  38755.4   67023.12\n",
      " 11059.432 59206.56  11059.432 67023.12  59206.56  12702.212 59206.56\n",
      " 67023.12  11059.432 11059.432 67023.12  67023.12  59206.56  67023.12\n",
      " 11059.432 67023.12  67023.12  12702.212 59206.56  59206.56  11059.432\n",
      " 59206.56  59206.56  59206.56  67023.12  24646.246 59206.56  11059.432\n",
      " 24646.387 59206.56  11059.432 11059.432 11059.432 11059.432 12915.835\n",
      " 59206.56  11059.432 67023.12  59206.56  11059.432 67023.12  38755.4\n",
      " 59206.56  67023.12  12915.835 12702.2   11059.432 59206.56  67023.12\n",
      " 59206.56  67023.12  12702.212 11059.432 67023.12  59206.56  13457.062\n",
      " 38755.4   11059.432 67023.12  13419.754 13868.633 67023.12  11059.432\n",
      " 67023.12  67023.12  38755.4   67023.12  38755.4   59206.56  67023.12\n",
      " 67023.12  11059.432 59206.56  11059.432 67023.12  67023.12  67023.12\n",
      " 59206.56  11059.432 11059.432 11059.432 38755.4   38755.4   67023.12\n",
      " 11059.432 38755.4   11059.432 14116.727 59206.56  67023.12  67023.12\n",
      " 38755.4   38755.4   11059.432 12702.212 67023.12  59206.56  12702.212\n",
      " 67023.12  15233.631 59206.56  38755.4   11059.432]\n"
     ]
    },
    {
     "name": "stdout",
     "output_type": "stream",
     "text": [
      "ls: [tensor([35153.], dtype=torch.float64), tensor([9951.], dtype=torch.float64), tensor([38815.], dtype=torch.float64), tensor([14175.], dtype=torch.float64), tensor([66821.], dtype=torch.float64), tensor([9951.], dtype=torch.float64), tensor([66821.], dtype=torch.float64), tensor([58513.], dtype=torch.float64), tensor([39421.], dtype=torch.float64), tensor([9951.], dtype=torch.float64), tensor([66821.], dtype=torch.float64), tensor([14187.], dtype=torch.float64), tensor([58512.], dtype=torch.float64), tensor([58512.], dtype=torch.float64), tensor([66822.], dtype=torch.float64), tensor([58512.], dtype=torch.float64), tensor([35343.], dtype=torch.float64), tensor([66823.], dtype=torch.float64), tensor([58512.], dtype=torch.float64), tensor([19798.], dtype=torch.float64), tensor([58512.], dtype=torch.float64), tensor([38590.], dtype=torch.float64), tensor([9951.], dtype=torch.float64), tensor([58513.], dtype=torch.float64), tensor([66821.], dtype=torch.float64), tensor([66821.], dtype=torch.float64), tensor([9951.], dtype=torch.float64), tensor([66821.], dtype=torch.float64), tensor([7639.], dtype=torch.float64), tensor([66821.], dtype=torch.float64), tensor([58512.], dtype=torch.float64), tensor([58512.], dtype=torch.float64), tensor([38825.], dtype=torch.float64), tensor([58512.], dtype=torch.float64), tensor([66821.], dtype=torch.float64), tensor([15913.], dtype=torch.float64), tensor([66821.], dtype=torch.float64), tensor([39267.], dtype=torch.float64), tensor([14175.], dtype=torch.float64), tensor([58512.], dtype=torch.float64), tensor([58513.], dtype=torch.float64), tensor([66824.], dtype=torch.float64), tensor([66821.], dtype=torch.float64), tensor([58512.], dtype=torch.float64), tensor([58512.], dtype=torch.float64), tensor([39130.], dtype=torch.float64), tensor([66821.], dtype=torch.float64), tensor([38957.], dtype=torch.float64), tensor([58512.], dtype=torch.float64), tensor([14175.], dtype=torch.float64), tensor([17508.], dtype=torch.float64), tensor([14175.], dtype=torch.float64), tensor([15711.], dtype=torch.float64), tensor([58512.], dtype=torch.float64), tensor([34609.], dtype=torch.float64), tensor([39097.], dtype=torch.float64), tensor([58512.], dtype=torch.float64), tensor([66824.], dtype=torch.float64), tensor([66821.], dtype=torch.float64), tensor([66822.], dtype=torch.float64), tensor([66821.], dtype=torch.float64), tensor([9951.], dtype=torch.float64), tensor([38861.], dtype=torch.float64), tensor([9951.], dtype=torch.float64), tensor([58512.], dtype=torch.float64), tensor([66823.], dtype=torch.float64), tensor([58518.], dtype=torch.float64), tensor([66821.], dtype=torch.float64), tensor([3876.], dtype=torch.float64), tensor([9951.], dtype=torch.float64), tensor([66821.], dtype=torch.float64), tensor([66821.], dtype=torch.float64), tensor([38465.], dtype=torch.float64), tensor([9951.], dtype=torch.float64), tensor([39229.], dtype=torch.float64), tensor([58512.], dtype=torch.float64), tensor([9951.], dtype=torch.float64), tensor([66821.], dtype=torch.float64), tensor([15711.], dtype=torch.float64), tensor([66837.], dtype=torch.float64), tensor([66821.], dtype=torch.float64), tensor([15711.], dtype=torch.float64), tensor([17455.], dtype=torch.float64), tensor([15711.], dtype=torch.float64), tensor([3876.], dtype=torch.float64), tensor([14176.], dtype=torch.float64), tensor([58514.], dtype=torch.float64), tensor([66821.], dtype=torch.float64), tensor([58513.], dtype=torch.float64), tensor([9951.], dtype=torch.float64), tensor([66821.], dtype=torch.float64), tensor([14175.], dtype=torch.float64), tensor([9951.], dtype=torch.float64), tensor([66824.], dtype=torch.float64), tensor([31180.], dtype=torch.float64), tensor([14175.], dtype=torch.float64), tensor([66821.], dtype=torch.float64), tensor([58512.], dtype=torch.float64), tensor([66844.], dtype=torch.float64), tensor([66821.], dtype=torch.float64), tensor([66827.], dtype=torch.float64), tensor([15711.], dtype=torch.float64), tensor([58512.], dtype=torch.float64), tensor([66821.], dtype=torch.float64), tensor([58512.], dtype=torch.float64), tensor([3876.], dtype=torch.float64), tensor([39220.], dtype=torch.float64), tensor([58512.], dtype=torch.float64), tensor([14197.], dtype=torch.float64), tensor([9951.], dtype=torch.float64), tensor([58512.], dtype=torch.float64), tensor([14175.], dtype=torch.float64), tensor([66822.], dtype=torch.float64), tensor([66821.], dtype=torch.float64), tensor([39087.], dtype=torch.float64), tensor([9951.], dtype=torch.float64), tensor([39511.], dtype=torch.float64), tensor([15711.], dtype=torch.float64), tensor([66821.], dtype=torch.float64), tensor([58512.], dtype=torch.float64), tensor([14175.], dtype=torch.float64), tensor([14176.], dtype=torch.float64), tensor([14175.], dtype=torch.float64), tensor([23183.], dtype=torch.float64), tensor([66821.], dtype=torch.float64), tensor([66821.], dtype=torch.float64), tensor([58512.], dtype=torch.float64), tensor([58512.], dtype=torch.float64), tensor([66834.], dtype=torch.float64), tensor([66821.], dtype=torch.float64), tensor([66821.], dtype=torch.float64), tensor([66821.], dtype=torch.float64), tensor([66821.], dtype=torch.float64), tensor([58512.], dtype=torch.float64), tensor([15945.], dtype=torch.float64), tensor([39097.], dtype=torch.float64), tensor([14178.], dtype=torch.float64), tensor([66823.], dtype=torch.float64), tensor([17416.], dtype=torch.float64), tensor([14211.], dtype=torch.float64), tensor([66821.], dtype=torch.float64), tensor([58512.], dtype=torch.float64), tensor([9951.], dtype=torch.float64), tensor([14181.], dtype=torch.float64), tensor([14180.], dtype=torch.float64), tensor([39157.], dtype=torch.float64), tensor([58512.], dtype=torch.float64), tensor([58512.], dtype=torch.float64), tensor([9951.], dtype=torch.float64), tensor([34333.], dtype=torch.float64), tensor([9951.], dtype=torch.float64), tensor([66821.], dtype=torch.float64), tensor([66821.], dtype=torch.float64), tensor([66823.], dtype=torch.float64), tensor([66822.], dtype=torch.float64), tensor([66821.], dtype=torch.float64), tensor([9951.], dtype=torch.float64), tensor([39439.], dtype=torch.float64), tensor([9951.], dtype=torch.float64), tensor([58512.], dtype=torch.float64), tensor([58512.], dtype=torch.float64), tensor([14185.], dtype=torch.float64), tensor([9951.], dtype=torch.float64), tensor([14190.], dtype=torch.float64), tensor([27726.], dtype=torch.float64), tensor([14175.], dtype=torch.float64), tensor([66825.], dtype=torch.float64), tensor([14175.], dtype=torch.float64), tensor([14175.], dtype=torch.float64), tensor([9951.], dtype=torch.float64), tensor([9951.], dtype=torch.float64), tensor([66821.], dtype=torch.float64), tensor([14175.], dtype=torch.float64), tensor([66821.], dtype=torch.float64), tensor([38230.], dtype=torch.float64), tensor([58512.], dtype=torch.float64), tensor([58554.], dtype=torch.float64), tensor([66821.], dtype=torch.float64), tensor([66821.], dtype=torch.float64), tensor([66821.], dtype=torch.float64), tensor([27816.], dtype=torch.float64), tensor([66821.], dtype=torch.float64), tensor([14175.], dtype=torch.float64), tensor([14177.], dtype=torch.float64), tensor([58513.], dtype=torch.float64), tensor([66825.], dtype=torch.float64), tensor([9951.], dtype=torch.float64), tensor([66821.], dtype=torch.float64), tensor([38979.], dtype=torch.float64), tensor([66821.], dtype=torch.float64), tensor([58512.], dtype=torch.float64), tensor([16033.], dtype=torch.float64), tensor([9951.], dtype=torch.float64), tensor([66822.], dtype=torch.float64), tensor([15711.], dtype=torch.float64), tensor([14176.], dtype=torch.float64), tensor([14175.], dtype=torch.float64), tensor([66821.], dtype=torch.float64), tensor([14184.], dtype=torch.float64), tensor([17417.], dtype=torch.float64), tensor([38953.], dtype=torch.float64), tensor([38850.], dtype=torch.float64), tensor([18834.], dtype=torch.float64), tensor([66824.], dtype=torch.float64), tensor([66821.], dtype=torch.float64), tensor([58512.], dtype=torch.float64), tensor([38995.], dtype=torch.float64), tensor([58512.], dtype=torch.float64), tensor([9951.], dtype=torch.float64), tensor([58512.], dtype=torch.float64), tensor([39133.], dtype=torch.float64), tensor([58512.], dtype=torch.float64), tensor([58512.], dtype=torch.float64), tensor([58512.], dtype=torch.float64), tensor([34955.], dtype=torch.float64), tensor([66821.], dtype=torch.float64), tensor([14175.], dtype=torch.float64), tensor([14175.], dtype=torch.float64), tensor([9951.], dtype=torch.float64), tensor([14175.], dtype=torch.float64), tensor([66821.], dtype=torch.float64), tensor([58513.], dtype=torch.float64), tensor([14176.], dtype=torch.float64), tensor([14175.], dtype=torch.float64), tensor([66822.], dtype=torch.float64), tensor([14176.], dtype=torch.float64), tensor([14175.], dtype=torch.float64), tensor([58512.], dtype=torch.float64), tensor([14175.], dtype=torch.float64), tensor([38633.], dtype=torch.float64), tensor([16020.], dtype=torch.float64), tensor([39159.], dtype=torch.float64), tensor([58512.], dtype=torch.float64), tensor([21227.], dtype=torch.float64), tensor([66821.], dtype=torch.float64), tensor([58512.], dtype=torch.float64), tensor([38936.], dtype=torch.float64), tensor([66917.], dtype=torch.float64), tensor([39033.], dtype=torch.float64), tensor([58520.], dtype=torch.float64), tensor([14176.], dtype=torch.float64), tensor([9951.], dtype=torch.float64), tensor([15711.], dtype=torch.float64), tensor([66821.], dtype=torch.float64), tensor([13320.], dtype=torch.float64), tensor([35160.], dtype=torch.float64), tensor([34116.], dtype=torch.float64), tensor([34116.], dtype=torch.float64), tensor([14187.], dtype=torch.float64), tensor([66821.], dtype=torch.float64), tensor([17844.], dtype=torch.float64), tensor([39105.], dtype=torch.float64), tensor([66821.], dtype=torch.float64), tensor([14175.], dtype=torch.float64), tensor([66821.], dtype=torch.float64), tensor([66821.], dtype=torch.float64), tensor([66821.], dtype=torch.float64), tensor([38953.], dtype=torch.float64), tensor([35253.], dtype=torch.float64), tensor([66824.], dtype=torch.float64), tensor([39049.], dtype=torch.float64), tensor([66821.], dtype=torch.float64), tensor([14175.], dtype=torch.float64), tensor([9951.], dtype=torch.float64), tensor([38922.], dtype=torch.float64), tensor([58512.], dtype=torch.float64), tensor([14175.], dtype=torch.float64), tensor([9951.], dtype=torch.float64), tensor([58512.], dtype=torch.float64), tensor([66821.], dtype=torch.float64), tensor([17416.], dtype=torch.float64), tensor([58512.], dtype=torch.float64), tensor([39141.], dtype=torch.float64), tensor([15711.], dtype=torch.float64), tensor([14181.], dtype=torch.float64), tensor([9951.], dtype=torch.float64), tensor([66821.], dtype=torch.float64), tensor([9951.], dtype=torch.float64), tensor([14211.], dtype=torch.float64), tensor([66821.], dtype=torch.float64), tensor([58512.], dtype=torch.float64), tensor([38483.], dtype=torch.float64), tensor([58512.], dtype=torch.float64), tensor([58512.], dtype=torch.float64), tensor([58512.], dtype=torch.float64), tensor([58512.], dtype=torch.float64), tensor([14200.], dtype=torch.float64), tensor([66821.], dtype=torch.float64), tensor([14177.], dtype=torch.float64), tensor([14197.], dtype=torch.float64), tensor([17246.], dtype=torch.float64), tensor([58512.], dtype=torch.float64), tensor([14175.], dtype=torch.float64), tensor([66821.], dtype=torch.float64), tensor([9951.], dtype=torch.float64), tensor([38898.], dtype=torch.float64), tensor([3876.], dtype=torch.float64), tensor([21733.], dtype=torch.float64), tensor([66821.], dtype=torch.float64), tensor([35178.], dtype=torch.float64), tensor([66861.], dtype=torch.float64), tensor([66825.], dtype=torch.float64), tensor([9951.], dtype=torch.float64), tensor([66821.], dtype=torch.float64), tensor([66821.], dtype=torch.float64), tensor([9951.], dtype=torch.float64), tensor([9951.], dtype=torch.float64), tensor([58512.], dtype=torch.float64), tensor([58512.], dtype=torch.float64), tensor([66822.], dtype=torch.float64), tensor([66821.], dtype=torch.float64), tensor([9951.], dtype=torch.float64), tensor([18834.], dtype=torch.float64), tensor([58512.], dtype=torch.float64), tensor([38543.], dtype=torch.float64), tensor([58515.], dtype=torch.float64), tensor([27726.], dtype=torch.float64), tensor([35045.], dtype=torch.float64), tensor([9951.], dtype=torch.float64), tensor([19520.], dtype=torch.float64), tensor([14175.], dtype=torch.float64), tensor([66821.], dtype=torch.float64), tensor([66821.], dtype=torch.float64), tensor([14178.], dtype=torch.float64), tensor([9951.], dtype=torch.float64), tensor([66821.], dtype=torch.float64), tensor([14175.], dtype=torch.float64), tensor([9951.], dtype=torch.float64), tensor([19798.], dtype=torch.float64), tensor([58512.], dtype=torch.float64), tensor([66823.], dtype=torch.float64), tensor([3876.], dtype=torch.float64), tensor([15712.], dtype=torch.float64), tensor([38393.], dtype=torch.float64), tensor([9951.], dtype=torch.float64), tensor([9951.], dtype=torch.float64), tensor([39310.], dtype=torch.float64), tensor([14175.], dtype=torch.float64), tensor([35343.], dtype=torch.float64), tensor([58512.], dtype=torch.float64), tensor([39058.], dtype=torch.float64), tensor([58512.], dtype=torch.float64), tensor([15716.], dtype=torch.float64), tensor([39403.], dtype=torch.float64), tensor([35025.], dtype=torch.float64), tensor([39013.], dtype=torch.float64), tensor([66822.], dtype=torch.float64), tensor([58516.], dtype=torch.float64), tensor([66821.], dtype=torch.float64), tensor([38535.], dtype=torch.float64), tensor([66821.], dtype=torch.float64), tensor([14047.], dtype=torch.float64), tensor([38212.], dtype=torch.float64), tensor([38321.], dtype=torch.float64), tensor([14176.], dtype=torch.float64), tensor([14178.], dtype=torch.float64), tensor([17416.], dtype=torch.float64), tensor([66821.], dtype=torch.float64), tensor([66821.], dtype=torch.float64), tensor([66821.], dtype=torch.float64), tensor([58512.], dtype=torch.float64), tensor([58512.], dtype=torch.float64), tensor([39066.], dtype=torch.float64), tensor([66821.], dtype=torch.float64), tensor([9951.], dtype=torch.float64), tensor([58512.], dtype=torch.float64), tensor([9951.], dtype=torch.float64), tensor([66821.], dtype=torch.float64), tensor([58512.], dtype=torch.float64), tensor([15711.], dtype=torch.float64), tensor([58512.], dtype=torch.float64), tensor([66821.], dtype=torch.float64), tensor([9951.], dtype=torch.float64), tensor([3876.], dtype=torch.float64), tensor([66822.], dtype=torch.float64), tensor([66827.], dtype=torch.float64), tensor([58512.], dtype=torch.float64), tensor([66826.], dtype=torch.float64), tensor([9951.], dtype=torch.float64), tensor([66821.], dtype=torch.float64), tensor([66821.], dtype=torch.float64), tensor([15712.], dtype=torch.float64), tensor([58512.], dtype=torch.float64), tensor([58512.], dtype=torch.float64), tensor([14199.], dtype=torch.float64), tensor([58513.], dtype=torch.float64), tensor([58512.], dtype=torch.float64), tensor([58512.], dtype=torch.float64), tensor([66821.], dtype=torch.float64), tensor([20556.], dtype=torch.float64), tensor([58519.], dtype=torch.float64), tensor([17416.], dtype=torch.float64), tensor([24812.], dtype=torch.float64), tensor([58512.], dtype=torch.float64), tensor([14179.], dtype=torch.float64), tensor([14175.], dtype=torch.float64), tensor([14175.], dtype=torch.float64), tensor([9951.], dtype=torch.float64), tensor([14175.], dtype=torch.float64), tensor([58512.], dtype=torch.float64), tensor([14175.], dtype=torch.float64), tensor([66821.], dtype=torch.float64), tensor([58512.], dtype=torch.float64), tensor([3876.], dtype=torch.float64), tensor([66821.], dtype=torch.float64), tensor([34584.], dtype=torch.float64), tensor([58512.], dtype=torch.float64), tensor([66821.], dtype=torch.float64), tensor([11274.], dtype=torch.float64), tensor([15711.], dtype=torch.float64), tensor([14175.], dtype=torch.float64), tensor([58512.], dtype=torch.float64), tensor([66825.], dtype=torch.float64), tensor([58512.], dtype=torch.float64), tensor([66821.], dtype=torch.float64), tensor([9951.], dtype=torch.float64), tensor([9951.], dtype=torch.float64), tensor([66823.], dtype=torch.float64), tensor([58512.], dtype=torch.float64), tensor([14178.], dtype=torch.float64), tensor([38879.], dtype=torch.float64), tensor([14175.], dtype=torch.float64), tensor([66821.], dtype=torch.float64), tensor([12552.], dtype=torch.float64), tensor([14162.], dtype=torch.float64), tensor([66822.], dtype=torch.float64), tensor([14200.], dtype=torch.float64), tensor([66823.], dtype=torch.float64), tensor([66821.], dtype=torch.float64), tensor([38879.], dtype=torch.float64), tensor([66824.], dtype=torch.float64), tensor([39049.], dtype=torch.float64), tensor([58512.], dtype=torch.float64), tensor([66821.], dtype=torch.float64), tensor([66821.], dtype=torch.float64), tensor([14176.], dtype=torch.float64), tensor([58512.], dtype=torch.float64), tensor([14179.], dtype=torch.float64), tensor([66821.], dtype=torch.float64), tensor([66821.], dtype=torch.float64), tensor([66821.], dtype=torch.float64), tensor([58512.], dtype=torch.float64), tensor([14176.], dtype=torch.float64), tensor([14175.], dtype=torch.float64), tensor([14182.], dtype=torch.float64), tensor([38446.], dtype=torch.float64), tensor([39030.], dtype=torch.float64), tensor([66821.], dtype=torch.float64), tensor([14175.], dtype=torch.float64), tensor([38590.], dtype=torch.float64), tensor([9951.], dtype=torch.float64), tensor([18834.], dtype=torch.float64), tensor([58512.], dtype=torch.float64), tensor([66821.], dtype=torch.float64), tensor([66849.], dtype=torch.float64), tensor([39173.], dtype=torch.float64), tensor([35097.], dtype=torch.float64), tensor([14047.], dtype=torch.float64), tensor([15711.], dtype=torch.float64), tensor([66821.], dtype=torch.float64), tensor([58512.], dtype=torch.float64), tensor([9951.], dtype=torch.float64), tensor([66821.], dtype=torch.float64), tensor([9951.], dtype=torch.float64), tensor([58512.], dtype=torch.float64), tensor([35271.], dtype=torch.float64), tensor([14178.], dtype=torch.float64)]\n",
      "len(ls): 467\n",
      "running epoch: 46\n",
      "final.shape: torch.Size([1920, 256])\n"
     ]
    },
    {
     "name": "stdout",
     "output_type": "stream",
     "text": [
      "final.shape: torch.Size([1920, 256])\n"
     ]
    },
    {
     "name": "stdout",
     "output_type": "stream",
     "text": [
      "final.shape: torch.Size([1920, 256])\n"
     ]
    },
    {
     "name": "stdout",
     "output_type": "stream",
     "text": [
      "final.shape: torch.Size([1920, 256])\n"
     ]
    },
    {
     "name": "stdout",
     "output_type": "stream",
     "text": [
      "final.shape: torch.Size([1920, 256])\n"
     ]
    },
    {
     "name": "stdout",
     "output_type": "stream",
     "text": [
      "final.shape: torch.Size([1920, 256])\n"
     ]
    },
    {
     "name": "stdout",
     "output_type": "stream",
     "text": [
      "final.shape: torch.Size([1920, 256])\n"
     ]
    },
    {
     "name": "stdout",
     "output_type": "stream",
     "text": [
      "final.shape: torch.Size([1920, 256])\n"
     ]
    },
    {
     "name": "stdout",
     "output_type": "stream",
     "text": [
      "final.shape: torch.Size([1920, 256])\n"
     ]
    },
    {
     "name": "stdout",
     "output_type": "stream",
     "text": [
      "final.shape: torch.Size([1920, 256])\n"
     ]
    },
    {
     "name": "stdout",
     "output_type": "stream",
     "text": [
      "final.shape: torch.Size([1920, 256])\n"
     ]
    },
    {
     "name": "stdout",
     "output_type": "stream",
     "text": [
      "final.shape: torch.Size([1920, 256])\n"
     ]
    },
    {
     "name": "stdout",
     "output_type": "stream",
     "text": [
      "final.shape: torch.Size([1920, 256])\n"
     ]
    },
    {
     "name": "stdout",
     "output_type": "stream",
     "text": [
      "final.shape: torch.Size([1920, 256])\n"
     ]
    },
    {
     "name": "stdout",
     "output_type": "stream",
     "text": [
      "final.shape: torch.Size([1920, 256])\n"
     ]
    },
    {
     "name": "stdout",
     "output_type": "stream",
     "text": [
      "final.shape: torch.Size([1920, 256])\n"
     ]
    },
    {
     "name": "stdout",
     "output_type": "stream",
     "text": [
      "final.shape: torch.Size([1920, 256])\n"
     ]
    },
    {
     "name": "stdout",
     "output_type": "stream",
     "text": [
      "final.shape: torch.Size([1920, 256])\n"
     ]
    },
    {
     "name": "stdout",
     "output_type": "stream",
     "text": [
      "final.shape: torch.Size([1920, 256])\n"
     ]
    },
    {
     "name": "stdout",
     "output_type": "stream",
     "text": [
      "final.shape: torch.Size([1920, 256])\n"
     ]
    },
    {
     "name": "stdout",
     "output_type": "stream",
     "text": [
      "final.shape: torch.Size([1920, 256])\n"
     ]
    },
    {
     "name": "stdout",
     "output_type": "stream",
     "text": [
      "final.shape: torch.Size([1920, 256])\n"
     ]
    },
    {
     "name": "stdout",
     "output_type": "stream",
     "text": [
      "final.shape: torch.Size([1920, 256])\n"
     ]
    },
    {
     "name": "stdout",
     "output_type": "stream",
     "text": [
      "final.shape: torch.Size([1920, 256])\n"
     ]
    },
    {
     "name": "stdout",
     "output_type": "stream",
     "text": [
      "final.shape: torch.Size([1920, 256])\n"
     ]
    },
    {
     "name": "stdout",
     "output_type": "stream",
     "text": [
      "final.shape: torch.Size([1920, 256])\n"
     ]
    },
    {
     "name": "stdout",
     "output_type": "stream",
     "text": [
      "final.shape: torch.Size([1920, 256])\n"
     ]
    },
    {
     "name": "stdout",
     "output_type": "stream",
     "text": [
      "final.shape: torch.Size([1920, 256])\n"
     ]
    },
    {
     "name": "stdout",
     "output_type": "stream",
     "text": [
      "final.shape: torch.Size([1920, 256])\n"
     ]
    },
    {
     "name": "stdout",
     "output_type": "stream",
     "text": [
      "final.shape: torch.Size([270, 256])\n"
     ]
    },
    {
     "name": "stdout",
     "output_type": "stream",
     "text": [
      "final.shape: torch.Size([1920, 256])\n",
      "final.shape: torch.Size([1920, 256])\n"
     ]
    },
    {
     "name": "stdout",
     "output_type": "stream",
     "text": [
      "final.shape: torch.Size([1920, 256])\n",
      "final.shape: torch.Size([1920, 256])\n"
     ]
    },
    {
     "name": "stdout",
     "output_type": "stream",
     "text": [
      "final.shape: torch.Size([1920, 256])\n",
      "final.shape: torch.Size([1920, 256])\n"
     ]
    },
    {
     "name": "stdout",
     "output_type": "stream",
     "text": [
      "final.shape: torch.Size([1920, 256])\n",
      "final.shape: torch.Size([570, 256])\n",
      "ps: [38584.098 14706.662 38584.098 11555.894 66979.93  13509.629 66979.93\n",
      " 58989.855 38584.098 11555.883 66979.93  11555.883 58989.855 58989.855\n",
      " 66979.93  58989.855 38584.098 66979.93  58989.855 24361.13  58989.855\n",
      " 38584.098 15711.099 58989.855 66979.93  66979.93  11555.883 66979.93\n",
      " 14706.676 66979.93  58989.855 58989.855 38584.098 58989.855 66979.93\n",
      " 15712.073 66979.93  38584.098 11555.883 58989.855 58989.855 66979.93\n",
      " 66979.93  58989.855 58989.855 38584.098 66979.93  38584.098 58989.855\n",
      " 14166.425 11555.894 11555.883 13509.629 58989.855 38584.098 38584.098\n",
      " 58989.855 66979.93  66979.93  66979.93  66979.93  11555.894 38584.098\n",
      " 11555.894 58989.855 66979.93  58989.855 66979.93  11555.883 11555.894\n",
      " 66979.93  66979.93  38584.098 11555.883 38584.098 58989.855 11555.883\n",
      " 66979.93  13509.641 66979.93  66979.93  13509.641 11555.894 13509.629\n",
      " 11555.883 14166.425 58989.855 66979.93  58989.855 11555.894 66979.93\n",
      " 11555.883 11555.883 66979.93  24361.014 11555.883 66979.93  58989.855\n",
      " 66979.93  66979.93  66979.93  13509.641 58989.855 66979.93  58989.855\n",
      " 11555.883 38584.098 58989.855 11555.894 11555.894 58989.855 11555.883\n",
      " 66979.93  66979.93  38584.098 11555.894 38584.098 13509.629 66979.93\n",
      " 58989.855 11555.894 11555.883 11555.883 24361.014 66979.93  66979.93\n",
      " 58989.855 58989.855 66979.93  66979.93  66979.93  66979.93  66979.93\n",
      " 58989.855 14166.409 38584.098 11555.894 66979.93  11555.894 11555.883\n",
      " 66979.93  58989.855 11555.894 11555.883 14166.425 38584.098 58989.855\n",
      " 58989.855 11555.894 38584.098 11555.894 66979.93  66979.93  66979.93\n",
      " 66979.93  66979.93  11555.894 38584.098 13509.629 58989.855 58989.855\n",
      " 11555.883 11555.883 11555.894 24361.014 11555.883 66979.93  11555.883\n",
      " 11555.883 11555.883 11555.883 66979.93  14166.464 66979.93  38584.098\n",
      " 58989.855 58989.855 66979.93  66979.93  66979.93  24361.13  66979.93\n",
      " 11555.883 11555.883 58989.855 66979.93  11555.883 66979.93  38584.098\n",
      " 66979.93  58989.855 14060.631 11555.894 66979.93  13509.641 11555.894\n",
      " 11555.883 66979.93  11555.894 11555.883 38584.098 38584.098 14706.662\n",
      " 66979.93  66979.93  58989.855 38584.098 58989.855 11555.894 58989.855\n",
      " 38584.098 58989.855 58989.855 58989.855 38584.098 66979.93  11555.894\n",
      " 11555.883 11555.894 14166.425 66979.93  58989.855 11555.894 11555.883\n",
      " 66979.93  11555.883 11555.894 58989.855 11555.883 38584.098 14060.631\n",
      " 38584.098 58989.855 24361.13  66979.93  58989.855 38584.098 66979.93\n",
      " 38584.098 58989.855 11555.883 11555.894 13509.629 66979.93  11555.894\n",
      " 38584.098 38584.098 38584.098 14166.425 66979.93  14221.367 38584.098\n",
      " 66979.93  11555.883 66979.93  66979.93  66979.93  38584.098 38584.098\n",
      " 66979.93  38584.098 66979.93  11555.883 11555.894 38584.098 58989.855\n",
      " 11555.883 13509.641 58989.855 66979.93  11555.883 58989.855 38584.098\n",
      " 13509.641 11555.894 11555.883 66979.93  13509.641 11555.883 66979.93\n",
      " 58989.855 38584.098 58989.855 58989.855 58989.855 58989.855 11555.883\n",
      " 66979.93  11555.883 11555.883 15670.95  58989.855 11555.883 66979.93\n",
      " 11555.894 38584.098 11555.883 11555.883 66979.93  38584.098 66979.93\n",
      " 66979.93  11555.883 66979.93  66979.93  11555.894 11555.894 58989.855\n",
      " 58989.855 66979.93  66979.93  11555.883 14706.676 58989.855 38584.098\n",
      " 58989.855 24361.13  38584.098 11555.883 15711.099 11555.894 66979.93\n",
      " 66979.93  11555.883 11555.894 66979.93  11555.894 11555.883 24361.035\n",
      " 58989.855 66979.93  13509.641 13509.641 38584.098 11555.894 11555.894\n",
      " 38584.098 11555.883 38584.098 58989.855 38584.098 58989.855 13509.641\n",
      " 38584.098 38584.098 38584.098 66979.93  58989.855 66979.93  38584.098\n",
      " 66979.93  11555.883 38584.098 38584.098 11555.883 11555.883 11555.883\n",
      " 66979.93  66979.93  66979.93  58989.855 58989.855 38584.098 66979.93\n",
      " 11555.883 58989.855 11555.883 66979.93  58989.855 13509.629 58989.855\n",
      " 66979.93  11555.883 11555.883 66979.93  66979.93  58989.855 66979.93\n",
      " 11555.894 66979.93  66979.93  13509.641 58989.855 58989.855 11555.883\n",
      " 58989.855 58989.855 58989.855 66979.93  24361.014 58989.855 11555.894\n",
      " 24361.13  58989.855 11555.894 11555.883 11555.883 11555.883 13503.265\n",
      " 58989.855 11555.883 66979.93  58989.855 11555.883 66979.93  38584.098\n",
      " 58989.855 66979.93  13503.265 13509.641 11555.883 58989.855 66979.93\n",
      " 58989.855 66979.93  13509.641 11555.883 66979.93  58989.855 14166.464\n",
      " 38584.098 11555.883 66979.93  14060.631 14280.173 66979.93  11555.883\n",
      " 66979.93  66979.93  38584.098 66979.93  38584.098 58989.855 66979.93\n",
      " 66979.93  11555.883 58989.855 11555.894 66979.93  66979.93  66979.93\n",
      " 58989.855 11555.883 11555.883 11555.883 38584.098 38584.098 66979.93\n",
      " 11555.894 38584.098 11555.883 14706.676 58989.855 66979.93  66979.93\n",
      " 38584.098 38584.098 11555.883 13509.641 66979.93  58989.855 13509.629\n",
      " 66979.93  15711.068 58989.855 38584.098 11555.883]\n"
     ]
    },
    {
     "name": "stdout",
     "output_type": "stream",
     "text": [
      "ls: [tensor([35153.], dtype=torch.float64), tensor([9951.], dtype=torch.float64), tensor([38815.], dtype=torch.float64), tensor([14175.], dtype=torch.float64), tensor([66821.], dtype=torch.float64), tensor([9951.], dtype=torch.float64), tensor([66821.], dtype=torch.float64), tensor([58513.], dtype=torch.float64), tensor([39421.], dtype=torch.float64), tensor([9951.], dtype=torch.float64), tensor([66821.], dtype=torch.float64), tensor([14187.], dtype=torch.float64), tensor([58512.], dtype=torch.float64), tensor([58512.], dtype=torch.float64), tensor([66822.], dtype=torch.float64), tensor([58512.], dtype=torch.float64), tensor([35343.], dtype=torch.float64), tensor([66823.], dtype=torch.float64), tensor([58512.], dtype=torch.float64), tensor([19798.], dtype=torch.float64), tensor([58512.], dtype=torch.float64), tensor([38590.], dtype=torch.float64), tensor([9951.], dtype=torch.float64), tensor([58513.], dtype=torch.float64), tensor([66821.], dtype=torch.float64), tensor([66821.], dtype=torch.float64), tensor([9951.], dtype=torch.float64), tensor([66821.], dtype=torch.float64), tensor([7639.], dtype=torch.float64), tensor([66821.], dtype=torch.float64), tensor([58512.], dtype=torch.float64), tensor([58512.], dtype=torch.float64), tensor([38825.], dtype=torch.float64), tensor([58512.], dtype=torch.float64), tensor([66821.], dtype=torch.float64), tensor([15913.], dtype=torch.float64), tensor([66821.], dtype=torch.float64), tensor([39267.], dtype=torch.float64), tensor([14175.], dtype=torch.float64), tensor([58512.], dtype=torch.float64), tensor([58513.], dtype=torch.float64), tensor([66824.], dtype=torch.float64), tensor([66821.], dtype=torch.float64), tensor([58512.], dtype=torch.float64), tensor([58512.], dtype=torch.float64), tensor([39130.], dtype=torch.float64), tensor([66821.], dtype=torch.float64), tensor([38957.], dtype=torch.float64), tensor([58512.], dtype=torch.float64), tensor([14175.], dtype=torch.float64), tensor([17508.], dtype=torch.float64), tensor([14175.], dtype=torch.float64), tensor([15711.], dtype=torch.float64), tensor([58512.], dtype=torch.float64), tensor([34609.], dtype=torch.float64), tensor([39097.], dtype=torch.float64), tensor([58512.], dtype=torch.float64), tensor([66824.], dtype=torch.float64), tensor([66821.], dtype=torch.float64), tensor([66822.], dtype=torch.float64), tensor([66821.], dtype=torch.float64), tensor([9951.], dtype=torch.float64), tensor([38861.], dtype=torch.float64), tensor([9951.], dtype=torch.float64), tensor([58512.], dtype=torch.float64), tensor([66823.], dtype=torch.float64), tensor([58518.], dtype=torch.float64), tensor([66821.], dtype=torch.float64), tensor([3876.], dtype=torch.float64), tensor([9951.], dtype=torch.float64), tensor([66821.], dtype=torch.float64), tensor([66821.], dtype=torch.float64), tensor([38465.], dtype=torch.float64), tensor([9951.], dtype=torch.float64), tensor([39229.], dtype=torch.float64), tensor([58512.], dtype=torch.float64), tensor([9951.], dtype=torch.float64), tensor([66821.], dtype=torch.float64), tensor([15711.], dtype=torch.float64), tensor([66837.], dtype=torch.float64), tensor([66821.], dtype=torch.float64), tensor([15711.], dtype=torch.float64), tensor([17455.], dtype=torch.float64), tensor([15711.], dtype=torch.float64), tensor([3876.], dtype=torch.float64), tensor([14176.], dtype=torch.float64), tensor([58514.], dtype=torch.float64), tensor([66821.], dtype=torch.float64), tensor([58513.], dtype=torch.float64), tensor([9951.], dtype=torch.float64), tensor([66821.], dtype=torch.float64), tensor([14175.], dtype=torch.float64), tensor([9951.], dtype=torch.float64), tensor([66824.], dtype=torch.float64), tensor([31180.], dtype=torch.float64), tensor([14175.], dtype=torch.float64), tensor([66821.], dtype=torch.float64), tensor([58512.], dtype=torch.float64), tensor([66844.], dtype=torch.float64), tensor([66821.], dtype=torch.float64), tensor([66827.], dtype=torch.float64), tensor([15711.], dtype=torch.float64), tensor([58512.], dtype=torch.float64), tensor([66821.], dtype=torch.float64), tensor([58512.], dtype=torch.float64), tensor([3876.], dtype=torch.float64), tensor([39220.], dtype=torch.float64), tensor([58512.], dtype=torch.float64), tensor([14197.], dtype=torch.float64), tensor([9951.], dtype=torch.float64), tensor([58512.], dtype=torch.float64), tensor([14175.], dtype=torch.float64), tensor([66822.], dtype=torch.float64), tensor([66821.], dtype=torch.float64), tensor([39087.], dtype=torch.float64), tensor([9951.], dtype=torch.float64), tensor([39511.], dtype=torch.float64), tensor([15711.], dtype=torch.float64), tensor([66821.], dtype=torch.float64), tensor([58512.], dtype=torch.float64), tensor([14175.], dtype=torch.float64), tensor([14176.], dtype=torch.float64), tensor([14175.], dtype=torch.float64), tensor([23183.], dtype=torch.float64), tensor([66821.], dtype=torch.float64), tensor([66821.], dtype=torch.float64), tensor([58512.], dtype=torch.float64), tensor([58512.], dtype=torch.float64), tensor([66834.], dtype=torch.float64), tensor([66821.], dtype=torch.float64), tensor([66821.], dtype=torch.float64), tensor([66821.], dtype=torch.float64), tensor([66821.], dtype=torch.float64), tensor([58512.], dtype=torch.float64), tensor([15945.], dtype=torch.float64), tensor([39097.], dtype=torch.float64), tensor([14178.], dtype=torch.float64), tensor([66823.], dtype=torch.float64), tensor([17416.], dtype=torch.float64), tensor([14211.], dtype=torch.float64), tensor([66821.], dtype=torch.float64), tensor([58512.], dtype=torch.float64), tensor([9951.], dtype=torch.float64), tensor([14181.], dtype=torch.float64), tensor([14180.], dtype=torch.float64), tensor([39157.], dtype=torch.float64), tensor([58512.], dtype=torch.float64), tensor([58512.], dtype=torch.float64), tensor([9951.], dtype=torch.float64), tensor([34333.], dtype=torch.float64), tensor([9951.], dtype=torch.float64), tensor([66821.], dtype=torch.float64), tensor([66821.], dtype=torch.float64), tensor([66823.], dtype=torch.float64), tensor([66822.], dtype=torch.float64), tensor([66821.], dtype=torch.float64), tensor([9951.], dtype=torch.float64), tensor([39439.], dtype=torch.float64), tensor([9951.], dtype=torch.float64), tensor([58512.], dtype=torch.float64), tensor([58512.], dtype=torch.float64), tensor([14185.], dtype=torch.float64), tensor([9951.], dtype=torch.float64), tensor([14190.], dtype=torch.float64), tensor([27726.], dtype=torch.float64), tensor([14175.], dtype=torch.float64), tensor([66825.], dtype=torch.float64), tensor([14175.], dtype=torch.float64), tensor([14175.], dtype=torch.float64), tensor([9951.], dtype=torch.float64), tensor([9951.], dtype=torch.float64), tensor([66821.], dtype=torch.float64), tensor([14175.], dtype=torch.float64), tensor([66821.], dtype=torch.float64), tensor([38230.], dtype=torch.float64), tensor([58512.], dtype=torch.float64), tensor([58554.], dtype=torch.float64), tensor([66821.], dtype=torch.float64), tensor([66821.], dtype=torch.float64), tensor([66821.], dtype=torch.float64), tensor([27816.], dtype=torch.float64), tensor([66821.], dtype=torch.float64), tensor([14175.], dtype=torch.float64), tensor([14177.], dtype=torch.float64), tensor([58513.], dtype=torch.float64), tensor([66825.], dtype=torch.float64), tensor([9951.], dtype=torch.float64), tensor([66821.], dtype=torch.float64), tensor([38979.], dtype=torch.float64), tensor([66821.], dtype=torch.float64), tensor([58512.], dtype=torch.float64), tensor([16033.], dtype=torch.float64), tensor([9951.], dtype=torch.float64), tensor([66822.], dtype=torch.float64), tensor([15711.], dtype=torch.float64), tensor([14176.], dtype=torch.float64), tensor([14175.], dtype=torch.float64), tensor([66821.], dtype=torch.float64), tensor([14184.], dtype=torch.float64), tensor([17417.], dtype=torch.float64), tensor([38953.], dtype=torch.float64), tensor([38850.], dtype=torch.float64), tensor([18834.], dtype=torch.float64), tensor([66824.], dtype=torch.float64), tensor([66821.], dtype=torch.float64), tensor([58512.], dtype=torch.float64), tensor([38995.], dtype=torch.float64), tensor([58512.], dtype=torch.float64), tensor([9951.], dtype=torch.float64), tensor([58512.], dtype=torch.float64), tensor([39133.], dtype=torch.float64), tensor([58512.], dtype=torch.float64), tensor([58512.], dtype=torch.float64), tensor([58512.], dtype=torch.float64), tensor([34955.], dtype=torch.float64), tensor([66821.], dtype=torch.float64), tensor([14175.], dtype=torch.float64), tensor([14175.], dtype=torch.float64), tensor([9951.], dtype=torch.float64), tensor([14175.], dtype=torch.float64), tensor([66821.], dtype=torch.float64), tensor([58513.], dtype=torch.float64), tensor([14176.], dtype=torch.float64), tensor([14175.], dtype=torch.float64), tensor([66822.], dtype=torch.float64), tensor([14176.], dtype=torch.float64), tensor([14175.], dtype=torch.float64), tensor([58512.], dtype=torch.float64), tensor([14175.], dtype=torch.float64), tensor([38633.], dtype=torch.float64), tensor([16020.], dtype=torch.float64), tensor([39159.], dtype=torch.float64), tensor([58512.], dtype=torch.float64), tensor([21227.], dtype=torch.float64), tensor([66821.], dtype=torch.float64), tensor([58512.], dtype=torch.float64), tensor([38936.], dtype=torch.float64), tensor([66917.], dtype=torch.float64), tensor([39033.], dtype=torch.float64), tensor([58520.], dtype=torch.float64), tensor([14176.], dtype=torch.float64), tensor([9951.], dtype=torch.float64), tensor([15711.], dtype=torch.float64), tensor([66821.], dtype=torch.float64), tensor([13320.], dtype=torch.float64), tensor([35160.], dtype=torch.float64), tensor([34116.], dtype=torch.float64), tensor([34116.], dtype=torch.float64), tensor([14187.], dtype=torch.float64), tensor([66821.], dtype=torch.float64), tensor([17844.], dtype=torch.float64), tensor([39105.], dtype=torch.float64), tensor([66821.], dtype=torch.float64), tensor([14175.], dtype=torch.float64), tensor([66821.], dtype=torch.float64), tensor([66821.], dtype=torch.float64), tensor([66821.], dtype=torch.float64), tensor([38953.], dtype=torch.float64), tensor([35253.], dtype=torch.float64), tensor([66824.], dtype=torch.float64), tensor([39049.], dtype=torch.float64), tensor([66821.], dtype=torch.float64), tensor([14175.], dtype=torch.float64), tensor([9951.], dtype=torch.float64), tensor([38922.], dtype=torch.float64), tensor([58512.], dtype=torch.float64), tensor([14175.], dtype=torch.float64), tensor([9951.], dtype=torch.float64), tensor([58512.], dtype=torch.float64), tensor([66821.], dtype=torch.float64), tensor([17416.], dtype=torch.float64), tensor([58512.], dtype=torch.float64), tensor([39141.], dtype=torch.float64), tensor([15711.], dtype=torch.float64), tensor([14181.], dtype=torch.float64), tensor([9951.], dtype=torch.float64), tensor([66821.], dtype=torch.float64), tensor([9951.], dtype=torch.float64), tensor([14211.], dtype=torch.float64), tensor([66821.], dtype=torch.float64), tensor([58512.], dtype=torch.float64), tensor([38483.], dtype=torch.float64), tensor([58512.], dtype=torch.float64), tensor([58512.], dtype=torch.float64), tensor([58512.], dtype=torch.float64), tensor([58512.], dtype=torch.float64), tensor([14200.], dtype=torch.float64), tensor([66821.], dtype=torch.float64), tensor([14177.], dtype=torch.float64), tensor([14197.], dtype=torch.float64), tensor([17246.], dtype=torch.float64), tensor([58512.], dtype=torch.float64), tensor([14175.], dtype=torch.float64), tensor([66821.], dtype=torch.float64), tensor([9951.], dtype=torch.float64), tensor([38898.], dtype=torch.float64), tensor([3876.], dtype=torch.float64), tensor([21733.], dtype=torch.float64), tensor([66821.], dtype=torch.float64), tensor([35178.], dtype=torch.float64), tensor([66861.], dtype=torch.float64), tensor([66825.], dtype=torch.float64), tensor([9951.], dtype=torch.float64), tensor([66821.], dtype=torch.float64), tensor([66821.], dtype=torch.float64), tensor([9951.], dtype=torch.float64), tensor([9951.], dtype=torch.float64), tensor([58512.], dtype=torch.float64), tensor([58512.], dtype=torch.float64), tensor([66822.], dtype=torch.float64), tensor([66821.], dtype=torch.float64), tensor([9951.], dtype=torch.float64), tensor([18834.], dtype=torch.float64), tensor([58512.], dtype=torch.float64), tensor([38543.], dtype=torch.float64), tensor([58515.], dtype=torch.float64), tensor([27726.], dtype=torch.float64), tensor([35045.], dtype=torch.float64), tensor([9951.], dtype=torch.float64), tensor([19520.], dtype=torch.float64), tensor([14175.], dtype=torch.float64), tensor([66821.], dtype=torch.float64), tensor([66821.], dtype=torch.float64), tensor([14178.], dtype=torch.float64), tensor([9951.], dtype=torch.float64), tensor([66821.], dtype=torch.float64), tensor([14175.], dtype=torch.float64), tensor([9951.], dtype=torch.float64), tensor([19798.], dtype=torch.float64), tensor([58512.], dtype=torch.float64), tensor([66823.], dtype=torch.float64), tensor([3876.], dtype=torch.float64), tensor([15712.], dtype=torch.float64), tensor([38393.], dtype=torch.float64), tensor([9951.], dtype=torch.float64), tensor([9951.], dtype=torch.float64), tensor([39310.], dtype=torch.float64), tensor([14175.], dtype=torch.float64), tensor([35343.], dtype=torch.float64), tensor([58512.], dtype=torch.float64), tensor([39058.], dtype=torch.float64), tensor([58512.], dtype=torch.float64), tensor([15716.], dtype=torch.float64), tensor([39403.], dtype=torch.float64), tensor([35025.], dtype=torch.float64), tensor([39013.], dtype=torch.float64), tensor([66822.], dtype=torch.float64), tensor([58516.], dtype=torch.float64), tensor([66821.], dtype=torch.float64), tensor([38535.], dtype=torch.float64), tensor([66821.], dtype=torch.float64), tensor([14047.], dtype=torch.float64), tensor([38212.], dtype=torch.float64), tensor([38321.], dtype=torch.float64), tensor([14176.], dtype=torch.float64), tensor([14178.], dtype=torch.float64), tensor([17416.], dtype=torch.float64), tensor([66821.], dtype=torch.float64), tensor([66821.], dtype=torch.float64), tensor([66821.], dtype=torch.float64), tensor([58512.], dtype=torch.float64), tensor([58512.], dtype=torch.float64), tensor([39066.], dtype=torch.float64), tensor([66821.], dtype=torch.float64), tensor([9951.], dtype=torch.float64), tensor([58512.], dtype=torch.float64), tensor([9951.], dtype=torch.float64), tensor([66821.], dtype=torch.float64), tensor([58512.], dtype=torch.float64), tensor([15711.], dtype=torch.float64), tensor([58512.], dtype=torch.float64), tensor([66821.], dtype=torch.float64), tensor([9951.], dtype=torch.float64), tensor([3876.], dtype=torch.float64), tensor([66822.], dtype=torch.float64), tensor([66827.], dtype=torch.float64), tensor([58512.], dtype=torch.float64), tensor([66826.], dtype=torch.float64), tensor([9951.], dtype=torch.float64), tensor([66821.], dtype=torch.float64), tensor([66821.], dtype=torch.float64), tensor([15712.], dtype=torch.float64), tensor([58512.], dtype=torch.float64), tensor([58512.], dtype=torch.float64), tensor([14199.], dtype=torch.float64), tensor([58513.], dtype=torch.float64), tensor([58512.], dtype=torch.float64), tensor([58512.], dtype=torch.float64), tensor([66821.], dtype=torch.float64), tensor([20556.], dtype=torch.float64), tensor([58519.], dtype=torch.float64), tensor([17416.], dtype=torch.float64), tensor([24812.], dtype=torch.float64), tensor([58512.], dtype=torch.float64), tensor([14179.], dtype=torch.float64), tensor([14175.], dtype=torch.float64), tensor([14175.], dtype=torch.float64), tensor([9951.], dtype=torch.float64), tensor([14175.], dtype=torch.float64), tensor([58512.], dtype=torch.float64), tensor([14175.], dtype=torch.float64), tensor([66821.], dtype=torch.float64), tensor([58512.], dtype=torch.float64), tensor([3876.], dtype=torch.float64), tensor([66821.], dtype=torch.float64), tensor([34584.], dtype=torch.float64), tensor([58512.], dtype=torch.float64), tensor([66821.], dtype=torch.float64), tensor([11274.], dtype=torch.float64), tensor([15711.], dtype=torch.float64), tensor([14175.], dtype=torch.float64), tensor([58512.], dtype=torch.float64), tensor([66825.], dtype=torch.float64), tensor([58512.], dtype=torch.float64), tensor([66821.], dtype=torch.float64), tensor([9951.], dtype=torch.float64), tensor([9951.], dtype=torch.float64), tensor([66823.], dtype=torch.float64), tensor([58512.], dtype=torch.float64), tensor([14178.], dtype=torch.float64), tensor([38879.], dtype=torch.float64), tensor([14175.], dtype=torch.float64), tensor([66821.], dtype=torch.float64), tensor([12552.], dtype=torch.float64), tensor([14162.], dtype=torch.float64), tensor([66822.], dtype=torch.float64), tensor([14200.], dtype=torch.float64), tensor([66823.], dtype=torch.float64), tensor([66821.], dtype=torch.float64), tensor([38879.], dtype=torch.float64), tensor([66824.], dtype=torch.float64), tensor([39049.], dtype=torch.float64), tensor([58512.], dtype=torch.float64), tensor([66821.], dtype=torch.float64), tensor([66821.], dtype=torch.float64), tensor([14176.], dtype=torch.float64), tensor([58512.], dtype=torch.float64), tensor([14179.], dtype=torch.float64), tensor([66821.], dtype=torch.float64), tensor([66821.], dtype=torch.float64), tensor([66821.], dtype=torch.float64), tensor([58512.], dtype=torch.float64), tensor([14176.], dtype=torch.float64), tensor([14175.], dtype=torch.float64), tensor([14182.], dtype=torch.float64), tensor([38446.], dtype=torch.float64), tensor([39030.], dtype=torch.float64), tensor([66821.], dtype=torch.float64), tensor([14175.], dtype=torch.float64), tensor([38590.], dtype=torch.float64), tensor([9951.], dtype=torch.float64), tensor([18834.], dtype=torch.float64), tensor([58512.], dtype=torch.float64), tensor([66821.], dtype=torch.float64), tensor([66849.], dtype=torch.float64), tensor([39173.], dtype=torch.float64), tensor([35097.], dtype=torch.float64), tensor([14047.], dtype=torch.float64), tensor([15711.], dtype=torch.float64), tensor([66821.], dtype=torch.float64), tensor([58512.], dtype=torch.float64), tensor([9951.], dtype=torch.float64), tensor([66821.], dtype=torch.float64), tensor([9951.], dtype=torch.float64), tensor([58512.], dtype=torch.float64), tensor([35271.], dtype=torch.float64), tensor([14178.], dtype=torch.float64)]\n",
      "len(ls): 467\n",
      "running epoch: 47\n",
      "final.shape: torch.Size([1920, 256])\n"
     ]
    },
    {
     "name": "stdout",
     "output_type": "stream",
     "text": [
      "final.shape: torch.Size([1920, 256])\n"
     ]
    },
    {
     "name": "stdout",
     "output_type": "stream",
     "text": [
      "final.shape: torch.Size([1920, 256])\n"
     ]
    },
    {
     "name": "stdout",
     "output_type": "stream",
     "text": [
      "final.shape: torch.Size([1920, 256])\n"
     ]
    },
    {
     "name": "stdout",
     "output_type": "stream",
     "text": [
      "final.shape: torch.Size([1920, 256])\n"
     ]
    },
    {
     "name": "stdout",
     "output_type": "stream",
     "text": [
      "final.shape: torch.Size([1920, 256])\n"
     ]
    },
    {
     "name": "stdout",
     "output_type": "stream",
     "text": [
      "final.shape: torch.Size([1920, 256])\n"
     ]
    },
    {
     "name": "stdout",
     "output_type": "stream",
     "text": [
      "final.shape: torch.Size([1920, 256])\n"
     ]
    },
    {
     "name": "stdout",
     "output_type": "stream",
     "text": [
      "final.shape: torch.Size([1920, 256])\n"
     ]
    },
    {
     "name": "stdout",
     "output_type": "stream",
     "text": [
      "final.shape: torch.Size([1920, 256])\n"
     ]
    },
    {
     "name": "stdout",
     "output_type": "stream",
     "text": [
      "final.shape: torch.Size([1920, 256])\n"
     ]
    },
    {
     "name": "stdout",
     "output_type": "stream",
     "text": [
      "final.shape: torch.Size([1920, 256])\n"
     ]
    },
    {
     "name": "stdout",
     "output_type": "stream",
     "text": [
      "final.shape: torch.Size([1920, 256])\n"
     ]
    },
    {
     "name": "stdout",
     "output_type": "stream",
     "text": [
      "final.shape: torch.Size([1920, 256])\n"
     ]
    },
    {
     "name": "stdout",
     "output_type": "stream",
     "text": [
      "final.shape: torch.Size([1920, 256])\n"
     ]
    },
    {
     "name": "stdout",
     "output_type": "stream",
     "text": [
      "final.shape: torch.Size([1920, 256])\n"
     ]
    },
    {
     "name": "stdout",
     "output_type": "stream",
     "text": [
      "final.shape: torch.Size([1920, 256])\n"
     ]
    },
    {
     "name": "stdout",
     "output_type": "stream",
     "text": [
      "final.shape: torch.Size([1920, 256])\n"
     ]
    },
    {
     "name": "stdout",
     "output_type": "stream",
     "text": [
      "final.shape: torch.Size([1920, 256])\n"
     ]
    },
    {
     "name": "stdout",
     "output_type": "stream",
     "text": [
      "final.shape: torch.Size([1920, 256])\n"
     ]
    },
    {
     "name": "stdout",
     "output_type": "stream",
     "text": [
      "final.shape: torch.Size([1920, 256])\n"
     ]
    },
    {
     "name": "stdout",
     "output_type": "stream",
     "text": [
      "final.shape: torch.Size([1920, 256])\n"
     ]
    },
    {
     "name": "stdout",
     "output_type": "stream",
     "text": [
      "final.shape: torch.Size([1920, 256])\n"
     ]
    },
    {
     "name": "stdout",
     "output_type": "stream",
     "text": [
      "final.shape: torch.Size([1920, 256])\n"
     ]
    },
    {
     "name": "stdout",
     "output_type": "stream",
     "text": [
      "final.shape: torch.Size([1920, 256])\n"
     ]
    },
    {
     "name": "stdout",
     "output_type": "stream",
     "text": [
      "final.shape: torch.Size([1920, 256])\n"
     ]
    },
    {
     "name": "stdout",
     "output_type": "stream",
     "text": [
      "final.shape: torch.Size([1920, 256])\n"
     ]
    },
    {
     "name": "stdout",
     "output_type": "stream",
     "text": [
      "final.shape: torch.Size([1920, 256])\n"
     ]
    },
    {
     "name": "stdout",
     "output_type": "stream",
     "text": [
      "final.shape: torch.Size([1920, 256])\n"
     ]
    },
    {
     "name": "stdout",
     "output_type": "stream",
     "text": [
      "final.shape: torch.Size([270, 256])\n"
     ]
    },
    {
     "name": "stdout",
     "output_type": "stream",
     "text": [
      "final.shape: torch.Size([1920, 256])\n",
      "final.shape: torch.Size([1920, 256])\n"
     ]
    },
    {
     "name": "stdout",
     "output_type": "stream",
     "text": [
      "final.shape: torch.Size([1920, 256])\n",
      "final.shape: torch.Size([1920, 256])\n"
     ]
    },
    {
     "name": "stdout",
     "output_type": "stream",
     "text": [
      "final.shape: torch.Size([1920, 256])\n",
      "final.shape: torch.Size([1920, 256])\n"
     ]
    },
    {
     "name": "stdout",
     "output_type": "stream",
     "text": [
      "final.shape: torch.Size([1920, 256])\n",
      "final.shape: torch.Size([570, 256])\n",
      "ps: [38523.32   14966.594  38523.32   11749.698  66948.195  13820.125\n",
      " 66948.195  58437.375  38523.32   11749.6875 66948.195  11749.6875\n",
      " 58437.312  58437.375  66948.195  58437.375  38523.32   66948.195\n",
      " 58437.312  26123.145  58437.312  38523.32   15746.829  58437.312\n",
      " 66948.195  66948.195  11749.6875 66948.195  14966.607  66948.195\n",
      " 58437.375  58437.312  38523.32   58437.312  66948.195  17080.652\n",
      " 66948.195  38523.32   11749.6875 58437.312  58437.375  66948.195\n",
      " 66948.195  58437.312  58437.375  38523.32   66948.195  38523.32\n",
      " 58437.375  14377.853  11749.698  11749.6875 13820.11   58437.312\n",
      " 38523.32   38523.32   58437.375  66948.195  66948.195  66948.195\n",
      " 66948.195  11749.698  38523.32   11749.698  58437.312  66948.195\n",
      " 58437.375  66948.195  11749.6875 11749.698  66948.195  66948.195\n",
      " 38523.32   11749.6875 38523.32   58437.312  11749.6875 66948.195\n",
      " 13820.138  66948.195  66948.195  13820.138  11749.698  13820.125\n",
      " 11749.6875 14377.853  58437.375  66948.195  58437.375  11749.698\n",
      " 66948.195  11749.6875 11749.6875 66948.195  26122.994  11749.6875\n",
      " 66948.195  58437.375  66948.195  66948.195  66948.195  13820.138\n",
      " 58437.312  66948.195  58437.312  11749.6875 38523.32   58437.312\n",
      " 11749.698  11749.698  58437.312  11749.6875 66948.195  66948.195\n",
      " 38523.32   11749.698  38523.32   13820.125  66948.195  58437.312\n",
      " 11749.698  11749.6875 11749.6875 26122.994  66948.195  66948.195\n",
      " 58437.312  58437.375  66948.195  66948.195  66948.195  66948.195\n",
      " 66948.195  58437.312  14377.839  38523.32   11749.698  66948.195\n",
      " 11749.698  11749.6875 66948.195  58437.375  11749.698  11749.6875\n",
      " 14377.853  38523.32   58437.312  58437.312  11749.698  38523.32\n",
      " 11749.698  66948.195  66948.195  66948.195  66948.195  66948.195\n",
      " 11749.698  38523.32   13820.11   58437.312  58437.312  11749.6875\n",
      " 11749.6875 11749.698  26123.021  11749.6875 66948.195  11749.6875\n",
      " 11749.6875 11749.6875 11749.6875 66948.195  14377.895  66948.195\n",
      " 38523.32   58437.312  58437.312  66948.195  66948.195  66948.195\n",
      " 26123.145  66948.195  11749.6875 11749.6875 58437.312  66948.195\n",
      " 11749.6875 66948.195  38523.32   66948.195  58437.312  14317.511\n",
      " 11749.698  66948.195  13820.138  11749.698  11749.6875 66948.195\n",
      " 11749.698  11749.6875 38523.32   38523.32   14966.594  66948.195\n",
      " 66948.195  58437.312  38523.32   58437.312  11749.698  58437.375\n",
      " 38523.32   58437.375  58437.312  58437.375  38523.32   66948.195\n",
      " 11749.698  11749.6875 11749.698  14377.853  66948.195  58437.312\n",
      " 11749.698  11749.677  66948.195  11749.6875 11749.698  58437.312\n",
      " 11749.6875 38523.32   14317.511  38523.32   58437.312  26123.145\n",
      " 66948.195  58437.312  38523.32   66948.195  38523.32   58437.312\n",
      " 11749.6875 11749.698  13820.125  66948.195  11749.698  38523.32\n",
      " 38523.32   38523.32   14377.853  66948.195  14454.43   38523.32\n",
      " 66948.195  11749.6875 66948.195  66948.195  66948.195  38523.32\n",
      " 38523.32   66948.195  38523.32   66948.195  11749.6875 11749.698\n",
      " 38523.32   58437.312  11749.6875 13820.138  58437.312  66948.195\n",
      " 11749.6875 58437.312  38523.32   13820.138  11749.698  11749.6875\n",
      " 66948.195  13820.138  11749.6875 66948.195  58437.375  38523.32\n",
      " 58437.312  58437.312  58437.375  58437.312  11749.6875 66948.195\n",
      " 11749.6875 11749.6875 15821.506  58437.312  11749.6875 66948.195\n",
      " 11749.698  38523.32   11749.6875 11749.6875 66948.195  38523.32\n",
      " 66948.195  66948.195  11749.6875 66948.195  66948.195  11749.698\n",
      " 11749.698  58437.312  58437.312  66948.195  66948.195  11749.6875\n",
      " 14966.607  58437.312  38523.32   58437.312  26123.145  38523.32\n",
      " 11749.6875 15746.829  11749.698  66948.195  66948.195  11749.6875\n",
      " 11749.698  66948.195  11749.698  11749.6875 26123.021  58437.375\n",
      " 66948.195  13820.138  13820.138  38523.32   11749.698  11749.698\n",
      " 38523.32   11749.6875 38523.32   58437.312  38523.32   58437.312\n",
      " 13820.138  38523.32   38523.32   38523.32   66948.195  58437.375\n",
      " 66948.195  38523.32   66948.195  11749.6875 38523.32   38523.32\n",
      " 11749.6875 11749.6875 11749.6875 66948.195  66948.195  66948.195\n",
      " 58437.312  58437.312  38523.32   66948.195  11749.6875 58437.312\n",
      " 11749.6875 66948.195  58437.312  13820.11   58437.312  66948.195\n",
      " 11749.6875 11749.6875 66948.195  66948.195  58437.312  66948.195\n",
      " 11749.698  66948.195  66948.195  13820.138  58437.312  58437.375\n",
      " 11749.6875 58437.312  58437.312  58437.312  66948.195  26123.021\n",
      " 58437.375  11749.698  26123.145  58437.375  11749.698  11749.6875\n",
      " 11749.6875 11749.6875 13915.679  58437.375  11749.6875 66948.195\n",
      " 58437.312  11749.6875 66948.195  38523.32   58437.312  66948.195\n",
      " 13915.679  13820.138  11749.6875 58437.312  66948.195  58437.312\n",
      " 66948.195  13820.138  11749.6875 66948.195  58437.312  14377.895\n",
      " 38523.32   11749.6875 66948.195  14317.511  14578.862  66948.195\n",
      " 11749.6875 66948.195  66948.195  38523.32   66948.195  38523.32\n",
      " 58437.312  66948.195  66948.195  11749.6875 58437.312  11749.698\n",
      " 66948.195  66948.195  66948.195  58437.375  11749.6875 11749.6875\n",
      " 11749.6875 38523.32   38523.32   66948.195  11749.698  38523.32\n",
      " 11749.6875 14966.607  58437.312  66948.195  66948.195  38523.32\n",
      " 38523.32   11749.6875 13820.138  66948.195  58437.312  13820.125\n",
      " 66948.195  15746.7705 58437.375  38523.32   11749.6875]\n"
     ]
    },
    {
     "name": "stdout",
     "output_type": "stream",
     "text": [
      "ls: [tensor([35153.], dtype=torch.float64), tensor([9951.], dtype=torch.float64), tensor([38815.], dtype=torch.float64), tensor([14175.], dtype=torch.float64), tensor([66821.], dtype=torch.float64), tensor([9951.], dtype=torch.float64), tensor([66821.], dtype=torch.float64), tensor([58513.], dtype=torch.float64), tensor([39421.], dtype=torch.float64), tensor([9951.], dtype=torch.float64), tensor([66821.], dtype=torch.float64), tensor([14187.], dtype=torch.float64), tensor([58512.], dtype=torch.float64), tensor([58512.], dtype=torch.float64), tensor([66822.], dtype=torch.float64), tensor([58512.], dtype=torch.float64), tensor([35343.], dtype=torch.float64), tensor([66823.], dtype=torch.float64), tensor([58512.], dtype=torch.float64), tensor([19798.], dtype=torch.float64), tensor([58512.], dtype=torch.float64), tensor([38590.], dtype=torch.float64), tensor([9951.], dtype=torch.float64), tensor([58513.], dtype=torch.float64), tensor([66821.], dtype=torch.float64), tensor([66821.], dtype=torch.float64), tensor([9951.], dtype=torch.float64), tensor([66821.], dtype=torch.float64), tensor([7639.], dtype=torch.float64), tensor([66821.], dtype=torch.float64), tensor([58512.], dtype=torch.float64), tensor([58512.], dtype=torch.float64), tensor([38825.], dtype=torch.float64), tensor([58512.], dtype=torch.float64), tensor([66821.], dtype=torch.float64), tensor([15913.], dtype=torch.float64), tensor([66821.], dtype=torch.float64), tensor([39267.], dtype=torch.float64), tensor([14175.], dtype=torch.float64), tensor([58512.], dtype=torch.float64), tensor([58513.], dtype=torch.float64), tensor([66824.], dtype=torch.float64), tensor([66821.], dtype=torch.float64), tensor([58512.], dtype=torch.float64), tensor([58512.], dtype=torch.float64), tensor([39130.], dtype=torch.float64), tensor([66821.], dtype=torch.float64), tensor([38957.], dtype=torch.float64), tensor([58512.], dtype=torch.float64), tensor([14175.], dtype=torch.float64), tensor([17508.], dtype=torch.float64), tensor([14175.], dtype=torch.float64), tensor([15711.], dtype=torch.float64), tensor([58512.], dtype=torch.float64), tensor([34609.], dtype=torch.float64), tensor([39097.], dtype=torch.float64), tensor([58512.], dtype=torch.float64), tensor([66824.], dtype=torch.float64), tensor([66821.], dtype=torch.float64), tensor([66822.], dtype=torch.float64), tensor([66821.], dtype=torch.float64), tensor([9951.], dtype=torch.float64), tensor([38861.], dtype=torch.float64), tensor([9951.], dtype=torch.float64), tensor([58512.], dtype=torch.float64), tensor([66823.], dtype=torch.float64), tensor([58518.], dtype=torch.float64), tensor([66821.], dtype=torch.float64), tensor([3876.], dtype=torch.float64), tensor([9951.], dtype=torch.float64), tensor([66821.], dtype=torch.float64), tensor([66821.], dtype=torch.float64), tensor([38465.], dtype=torch.float64), tensor([9951.], dtype=torch.float64), tensor([39229.], dtype=torch.float64), tensor([58512.], dtype=torch.float64), tensor([9951.], dtype=torch.float64), tensor([66821.], dtype=torch.float64), tensor([15711.], dtype=torch.float64), tensor([66837.], dtype=torch.float64), tensor([66821.], dtype=torch.float64), tensor([15711.], dtype=torch.float64), tensor([17455.], dtype=torch.float64), tensor([15711.], dtype=torch.float64), tensor([3876.], dtype=torch.float64), tensor([14176.], dtype=torch.float64), tensor([58514.], dtype=torch.float64), tensor([66821.], dtype=torch.float64), tensor([58513.], dtype=torch.float64), tensor([9951.], dtype=torch.float64), tensor([66821.], dtype=torch.float64), tensor([14175.], dtype=torch.float64), tensor([9951.], dtype=torch.float64), tensor([66824.], dtype=torch.float64), tensor([31180.], dtype=torch.float64), tensor([14175.], dtype=torch.float64), tensor([66821.], dtype=torch.float64), tensor([58512.], dtype=torch.float64), tensor([66844.], dtype=torch.float64), tensor([66821.], dtype=torch.float64), tensor([66827.], dtype=torch.float64), tensor([15711.], dtype=torch.float64), tensor([58512.], dtype=torch.float64), tensor([66821.], dtype=torch.float64), tensor([58512.], dtype=torch.float64), tensor([3876.], dtype=torch.float64), tensor([39220.], dtype=torch.float64), tensor([58512.], dtype=torch.float64), tensor([14197.], dtype=torch.float64), tensor([9951.], dtype=torch.float64), tensor([58512.], dtype=torch.float64), tensor([14175.], dtype=torch.float64), tensor([66822.], dtype=torch.float64), tensor([66821.], dtype=torch.float64), tensor([39087.], dtype=torch.float64), tensor([9951.], dtype=torch.float64), tensor([39511.], dtype=torch.float64), tensor([15711.], dtype=torch.float64), tensor([66821.], dtype=torch.float64), tensor([58512.], dtype=torch.float64), tensor([14175.], dtype=torch.float64), tensor([14176.], dtype=torch.float64), tensor([14175.], dtype=torch.float64), tensor([23183.], dtype=torch.float64), tensor([66821.], dtype=torch.float64), tensor([66821.], dtype=torch.float64), tensor([58512.], dtype=torch.float64), tensor([58512.], dtype=torch.float64), tensor([66834.], dtype=torch.float64), tensor([66821.], dtype=torch.float64), tensor([66821.], dtype=torch.float64), tensor([66821.], dtype=torch.float64), tensor([66821.], dtype=torch.float64), tensor([58512.], dtype=torch.float64), tensor([15945.], dtype=torch.float64), tensor([39097.], dtype=torch.float64), tensor([14178.], dtype=torch.float64), tensor([66823.], dtype=torch.float64), tensor([17416.], dtype=torch.float64), tensor([14211.], dtype=torch.float64), tensor([66821.], dtype=torch.float64), tensor([58512.], dtype=torch.float64), tensor([9951.], dtype=torch.float64), tensor([14181.], dtype=torch.float64), tensor([14180.], dtype=torch.float64), tensor([39157.], dtype=torch.float64), tensor([58512.], dtype=torch.float64), tensor([58512.], dtype=torch.float64), tensor([9951.], dtype=torch.float64), tensor([34333.], dtype=torch.float64), tensor([9951.], dtype=torch.float64), tensor([66821.], dtype=torch.float64), tensor([66821.], dtype=torch.float64), tensor([66823.], dtype=torch.float64), tensor([66822.], dtype=torch.float64), tensor([66821.], dtype=torch.float64), tensor([9951.], dtype=torch.float64), tensor([39439.], dtype=torch.float64), tensor([9951.], dtype=torch.float64), tensor([58512.], dtype=torch.float64), tensor([58512.], dtype=torch.float64), tensor([14185.], dtype=torch.float64), tensor([9951.], dtype=torch.float64), tensor([14190.], dtype=torch.float64), tensor([27726.], dtype=torch.float64), tensor([14175.], dtype=torch.float64), tensor([66825.], dtype=torch.float64), tensor([14175.], dtype=torch.float64), tensor([14175.], dtype=torch.float64), tensor([9951.], dtype=torch.float64), tensor([9951.], dtype=torch.float64), tensor([66821.], dtype=torch.float64), tensor([14175.], dtype=torch.float64), tensor([66821.], dtype=torch.float64), tensor([38230.], dtype=torch.float64), tensor([58512.], dtype=torch.float64), tensor([58554.], dtype=torch.float64), tensor([66821.], dtype=torch.float64), tensor([66821.], dtype=torch.float64), tensor([66821.], dtype=torch.float64), tensor([27816.], dtype=torch.float64), tensor([66821.], dtype=torch.float64), tensor([14175.], dtype=torch.float64), tensor([14177.], dtype=torch.float64), tensor([58513.], dtype=torch.float64), tensor([66825.], dtype=torch.float64), tensor([9951.], dtype=torch.float64), tensor([66821.], dtype=torch.float64), tensor([38979.], dtype=torch.float64), tensor([66821.], dtype=torch.float64), tensor([58512.], dtype=torch.float64), tensor([16033.], dtype=torch.float64), tensor([9951.], dtype=torch.float64), tensor([66822.], dtype=torch.float64), tensor([15711.], dtype=torch.float64), tensor([14176.], dtype=torch.float64), tensor([14175.], dtype=torch.float64), tensor([66821.], dtype=torch.float64), tensor([14184.], dtype=torch.float64), tensor([17417.], dtype=torch.float64), tensor([38953.], dtype=torch.float64), tensor([38850.], dtype=torch.float64), tensor([18834.], dtype=torch.float64), tensor([66824.], dtype=torch.float64), tensor([66821.], dtype=torch.float64), tensor([58512.], dtype=torch.float64), tensor([38995.], dtype=torch.float64), tensor([58512.], dtype=torch.float64), tensor([9951.], dtype=torch.float64), tensor([58512.], dtype=torch.float64), tensor([39133.], dtype=torch.float64), tensor([58512.], dtype=torch.float64), tensor([58512.], dtype=torch.float64), tensor([58512.], dtype=torch.float64), tensor([34955.], dtype=torch.float64), tensor([66821.], dtype=torch.float64), tensor([14175.], dtype=torch.float64), tensor([14175.], dtype=torch.float64), tensor([9951.], dtype=torch.float64), tensor([14175.], dtype=torch.float64), tensor([66821.], dtype=torch.float64), tensor([58513.], dtype=torch.float64), tensor([14176.], dtype=torch.float64), tensor([14175.], dtype=torch.float64), tensor([66822.], dtype=torch.float64), tensor([14176.], dtype=torch.float64), tensor([14175.], dtype=torch.float64), tensor([58512.], dtype=torch.float64), tensor([14175.], dtype=torch.float64), tensor([38633.], dtype=torch.float64), tensor([16020.], dtype=torch.float64), tensor([39159.], dtype=torch.float64), tensor([58512.], dtype=torch.float64), tensor([21227.], dtype=torch.float64), tensor([66821.], dtype=torch.float64), tensor([58512.], dtype=torch.float64), tensor([38936.], dtype=torch.float64), tensor([66917.], dtype=torch.float64), tensor([39033.], dtype=torch.float64), tensor([58520.], dtype=torch.float64), tensor([14176.], dtype=torch.float64), tensor([9951.], dtype=torch.float64), tensor([15711.], dtype=torch.float64), tensor([66821.], dtype=torch.float64), tensor([13320.], dtype=torch.float64), tensor([35160.], dtype=torch.float64), tensor([34116.], dtype=torch.float64), tensor([34116.], dtype=torch.float64), tensor([14187.], dtype=torch.float64), tensor([66821.], dtype=torch.float64), tensor([17844.], dtype=torch.float64), tensor([39105.], dtype=torch.float64), tensor([66821.], dtype=torch.float64), tensor([14175.], dtype=torch.float64), tensor([66821.], dtype=torch.float64), tensor([66821.], dtype=torch.float64), tensor([66821.], dtype=torch.float64), tensor([38953.], dtype=torch.float64), tensor([35253.], dtype=torch.float64), tensor([66824.], dtype=torch.float64), tensor([39049.], dtype=torch.float64), tensor([66821.], dtype=torch.float64), tensor([14175.], dtype=torch.float64), tensor([9951.], dtype=torch.float64), tensor([38922.], dtype=torch.float64), tensor([58512.], dtype=torch.float64), tensor([14175.], dtype=torch.float64), tensor([9951.], dtype=torch.float64), tensor([58512.], dtype=torch.float64), tensor([66821.], dtype=torch.float64), tensor([17416.], dtype=torch.float64), tensor([58512.], dtype=torch.float64), tensor([39141.], dtype=torch.float64), tensor([15711.], dtype=torch.float64), tensor([14181.], dtype=torch.float64), tensor([9951.], dtype=torch.float64), tensor([66821.], dtype=torch.float64), tensor([9951.], dtype=torch.float64), tensor([14211.], dtype=torch.float64), tensor([66821.], dtype=torch.float64), tensor([58512.], dtype=torch.float64), tensor([38483.], dtype=torch.float64), tensor([58512.], dtype=torch.float64), tensor([58512.], dtype=torch.float64), tensor([58512.], dtype=torch.float64), tensor([58512.], dtype=torch.float64), tensor([14200.], dtype=torch.float64), tensor([66821.], dtype=torch.float64), tensor([14177.], dtype=torch.float64), tensor([14197.], dtype=torch.float64), tensor([17246.], dtype=torch.float64), tensor([58512.], dtype=torch.float64), tensor([14175.], dtype=torch.float64), tensor([66821.], dtype=torch.float64), tensor([9951.], dtype=torch.float64), tensor([38898.], dtype=torch.float64), tensor([3876.], dtype=torch.float64), tensor([21733.], dtype=torch.float64), tensor([66821.], dtype=torch.float64), tensor([35178.], dtype=torch.float64), tensor([66861.], dtype=torch.float64), tensor([66825.], dtype=torch.float64), tensor([9951.], dtype=torch.float64), tensor([66821.], dtype=torch.float64), tensor([66821.], dtype=torch.float64), tensor([9951.], dtype=torch.float64), tensor([9951.], dtype=torch.float64), tensor([58512.], dtype=torch.float64), tensor([58512.], dtype=torch.float64), tensor([66822.], dtype=torch.float64), tensor([66821.], dtype=torch.float64), tensor([9951.], dtype=torch.float64), tensor([18834.], dtype=torch.float64), tensor([58512.], dtype=torch.float64), tensor([38543.], dtype=torch.float64), tensor([58515.], dtype=torch.float64), tensor([27726.], dtype=torch.float64), tensor([35045.], dtype=torch.float64), tensor([9951.], dtype=torch.float64), tensor([19520.], dtype=torch.float64), tensor([14175.], dtype=torch.float64), tensor([66821.], dtype=torch.float64), tensor([66821.], dtype=torch.float64), tensor([14178.], dtype=torch.float64), tensor([9951.], dtype=torch.float64), tensor([66821.], dtype=torch.float64), tensor([14175.], dtype=torch.float64), tensor([9951.], dtype=torch.float64), tensor([19798.], dtype=torch.float64), tensor([58512.], dtype=torch.float64), tensor([66823.], dtype=torch.float64), tensor([3876.], dtype=torch.float64), tensor([15712.], dtype=torch.float64), tensor([38393.], dtype=torch.float64), tensor([9951.], dtype=torch.float64), tensor([9951.], dtype=torch.float64), tensor([39310.], dtype=torch.float64), tensor([14175.], dtype=torch.float64), tensor([35343.], dtype=torch.float64), tensor([58512.], dtype=torch.float64), tensor([39058.], dtype=torch.float64), tensor([58512.], dtype=torch.float64), tensor([15716.], dtype=torch.float64), tensor([39403.], dtype=torch.float64), tensor([35025.], dtype=torch.float64), tensor([39013.], dtype=torch.float64), tensor([66822.], dtype=torch.float64), tensor([58516.], dtype=torch.float64), tensor([66821.], dtype=torch.float64), tensor([38535.], dtype=torch.float64), tensor([66821.], dtype=torch.float64), tensor([14047.], dtype=torch.float64), tensor([38212.], dtype=torch.float64), tensor([38321.], dtype=torch.float64), tensor([14176.], dtype=torch.float64), tensor([14178.], dtype=torch.float64), tensor([17416.], dtype=torch.float64), tensor([66821.], dtype=torch.float64), tensor([66821.], dtype=torch.float64), tensor([66821.], dtype=torch.float64), tensor([58512.], dtype=torch.float64), tensor([58512.], dtype=torch.float64), tensor([39066.], dtype=torch.float64), tensor([66821.], dtype=torch.float64), tensor([9951.], dtype=torch.float64), tensor([58512.], dtype=torch.float64), tensor([9951.], dtype=torch.float64), tensor([66821.], dtype=torch.float64), tensor([58512.], dtype=torch.float64), tensor([15711.], dtype=torch.float64), tensor([58512.], dtype=torch.float64), tensor([66821.], dtype=torch.float64), tensor([9951.], dtype=torch.float64), tensor([3876.], dtype=torch.float64), tensor([66822.], dtype=torch.float64), tensor([66827.], dtype=torch.float64), tensor([58512.], dtype=torch.float64), tensor([66826.], dtype=torch.float64), tensor([9951.], dtype=torch.float64), tensor([66821.], dtype=torch.float64), tensor([66821.], dtype=torch.float64), tensor([15712.], dtype=torch.float64), tensor([58512.], dtype=torch.float64), tensor([58512.], dtype=torch.float64), tensor([14199.], dtype=torch.float64), tensor([58513.], dtype=torch.float64), tensor([58512.], dtype=torch.float64), tensor([58512.], dtype=torch.float64), tensor([66821.], dtype=torch.float64), tensor([20556.], dtype=torch.float64), tensor([58519.], dtype=torch.float64), tensor([17416.], dtype=torch.float64), tensor([24812.], dtype=torch.float64), tensor([58512.], dtype=torch.float64), tensor([14179.], dtype=torch.float64), tensor([14175.], dtype=torch.float64), tensor([14175.], dtype=torch.float64), tensor([9951.], dtype=torch.float64), tensor([14175.], dtype=torch.float64), tensor([58512.], dtype=torch.float64), tensor([14175.], dtype=torch.float64), tensor([66821.], dtype=torch.float64), tensor([58512.], dtype=torch.float64), tensor([3876.], dtype=torch.float64), tensor([66821.], dtype=torch.float64), tensor([34584.], dtype=torch.float64), tensor([58512.], dtype=torch.float64), tensor([66821.], dtype=torch.float64), tensor([11274.], dtype=torch.float64), tensor([15711.], dtype=torch.float64), tensor([14175.], dtype=torch.float64), tensor([58512.], dtype=torch.float64), tensor([66825.], dtype=torch.float64), tensor([58512.], dtype=torch.float64), tensor([66821.], dtype=torch.float64), tensor([9951.], dtype=torch.float64), tensor([9951.], dtype=torch.float64), tensor([66823.], dtype=torch.float64), tensor([58512.], dtype=torch.float64), tensor([14178.], dtype=torch.float64), tensor([38879.], dtype=torch.float64), tensor([14175.], dtype=torch.float64), tensor([66821.], dtype=torch.float64), tensor([12552.], dtype=torch.float64), tensor([14162.], dtype=torch.float64), tensor([66822.], dtype=torch.float64), tensor([14200.], dtype=torch.float64), tensor([66823.], dtype=torch.float64), tensor([66821.], dtype=torch.float64), tensor([38879.], dtype=torch.float64), tensor([66824.], dtype=torch.float64), tensor([39049.], dtype=torch.float64), tensor([58512.], dtype=torch.float64), tensor([66821.], dtype=torch.float64), tensor([66821.], dtype=torch.float64), tensor([14176.], dtype=torch.float64), tensor([58512.], dtype=torch.float64), tensor([14179.], dtype=torch.float64), tensor([66821.], dtype=torch.float64), tensor([66821.], dtype=torch.float64), tensor([66821.], dtype=torch.float64), tensor([58512.], dtype=torch.float64), tensor([14176.], dtype=torch.float64), tensor([14175.], dtype=torch.float64), tensor([14182.], dtype=torch.float64), tensor([38446.], dtype=torch.float64), tensor([39030.], dtype=torch.float64), tensor([66821.], dtype=torch.float64), tensor([14175.], dtype=torch.float64), tensor([38590.], dtype=torch.float64), tensor([9951.], dtype=torch.float64), tensor([18834.], dtype=torch.float64), tensor([58512.], dtype=torch.float64), tensor([66821.], dtype=torch.float64), tensor([66849.], dtype=torch.float64), tensor([39173.], dtype=torch.float64), tensor([35097.], dtype=torch.float64), tensor([14047.], dtype=torch.float64), tensor([15711.], dtype=torch.float64), tensor([66821.], dtype=torch.float64), tensor([58512.], dtype=torch.float64), tensor([9951.], dtype=torch.float64), tensor([66821.], dtype=torch.float64), tensor([9951.], dtype=torch.float64), tensor([58512.], dtype=torch.float64), tensor([35271.], dtype=torch.float64), tensor([14178.], dtype=torch.float64)]\n",
      "len(ls): 467\n",
      "final.shape: torch.Size([1920, 256])\n"
     ]
    },
    {
     "name": "stdout",
     "output_type": "stream",
     "text": [
      "final.shape: torch.Size([1920, 256])\n",
      "final.shape: torch.Size([1920, 256])\n"
     ]
    },
    {
     "name": "stdout",
     "output_type": "stream",
     "text": [
      "final.shape: torch.Size([1920, 256])\n",
      "final.shape: torch.Size([1920, 256])\n"
     ]
    },
    {
     "name": "stdout",
     "output_type": "stream",
     "text": [
      "final.shape: torch.Size([1920, 256])\n",
      "final.shape: torch.Size([1920, 256])\n"
     ]
    },
    {
     "name": "stdout",
     "output_type": "stream",
     "text": [
      "final.shape: torch.Size([570, 256])\n",
      "running epoch: 48\n",
      "final.shape: torch.Size([1920, 256])\n"
     ]
    },
    {
     "name": "stdout",
     "output_type": "stream",
     "text": [
      "final.shape: torch.Size([1920, 256])\n"
     ]
    },
    {
     "name": "stdout",
     "output_type": "stream",
     "text": [
      "final.shape: torch.Size([1920, 256])\n"
     ]
    },
    {
     "name": "stdout",
     "output_type": "stream",
     "text": [
      "final.shape: torch.Size([1920, 256])\n"
     ]
    },
    {
     "name": "stdout",
     "output_type": "stream",
     "text": [
      "final.shape: torch.Size([1920, 256])\n"
     ]
    },
    {
     "name": "stdout",
     "output_type": "stream",
     "text": [
      "final.shape: torch.Size([1920, 256])\n"
     ]
    },
    {
     "name": "stdout",
     "output_type": "stream",
     "text": [
      "final.shape: torch.Size([1920, 256])\n"
     ]
    },
    {
     "name": "stdout",
     "output_type": "stream",
     "text": [
      "final.shape: torch.Size([1920, 256])\n"
     ]
    },
    {
     "name": "stdout",
     "output_type": "stream",
     "text": [
      "final.shape: torch.Size([1920, 256])\n"
     ]
    },
    {
     "name": "stdout",
     "output_type": "stream",
     "text": [
      "final.shape: torch.Size([1920, 256])\n"
     ]
    },
    {
     "name": "stdout",
     "output_type": "stream",
     "text": [
      "final.shape: torch.Size([1920, 256])\n"
     ]
    },
    {
     "name": "stdout",
     "output_type": "stream",
     "text": [
      "final.shape: torch.Size([1920, 256])\n"
     ]
    },
    {
     "name": "stdout",
     "output_type": "stream",
     "text": [
      "final.shape: torch.Size([1920, 256])\n"
     ]
    },
    {
     "name": "stdout",
     "output_type": "stream",
     "text": [
      "final.shape: torch.Size([1920, 256])\n"
     ]
    },
    {
     "name": "stdout",
     "output_type": "stream",
     "text": [
      "final.shape: torch.Size([1920, 256])\n"
     ]
    },
    {
     "name": "stdout",
     "output_type": "stream",
     "text": [
      "final.shape: torch.Size([1920, 256])\n"
     ]
    },
    {
     "name": "stdout",
     "output_type": "stream",
     "text": [
      "final.shape: torch.Size([1920, 256])\n"
     ]
    },
    {
     "name": "stdout",
     "output_type": "stream",
     "text": [
      "final.shape: torch.Size([1920, 256])\n"
     ]
    },
    {
     "name": "stdout",
     "output_type": "stream",
     "text": [
      "final.shape: torch.Size([1920, 256])\n"
     ]
    },
    {
     "name": "stdout",
     "output_type": "stream",
     "text": [
      "final.shape: torch.Size([1920, 256])\n"
     ]
    },
    {
     "name": "stdout",
     "output_type": "stream",
     "text": [
      "final.shape: torch.Size([1920, 256])\n"
     ]
    },
    {
     "name": "stdout",
     "output_type": "stream",
     "text": [
      "final.shape: torch.Size([1920, 256])\n"
     ]
    },
    {
     "name": "stdout",
     "output_type": "stream",
     "text": [
      "final.shape: torch.Size([1920, 256])\n"
     ]
    },
    {
     "name": "stdout",
     "output_type": "stream",
     "text": [
      "final.shape: torch.Size([1920, 256])\n"
     ]
    },
    {
     "name": "stdout",
     "output_type": "stream",
     "text": [
      "final.shape: torch.Size([1920, 256])\n"
     ]
    },
    {
     "name": "stdout",
     "output_type": "stream",
     "text": [
      "final.shape: torch.Size([1920, 256])\n"
     ]
    },
    {
     "name": "stdout",
     "output_type": "stream",
     "text": [
      "final.shape: torch.Size([1920, 256])\n"
     ]
    },
    {
     "name": "stdout",
     "output_type": "stream",
     "text": [
      "final.shape: torch.Size([1920, 256])\n"
     ]
    },
    {
     "name": "stdout",
     "output_type": "stream",
     "text": [
      "final.shape: torch.Size([1920, 256])\n"
     ]
    },
    {
     "name": "stdout",
     "output_type": "stream",
     "text": [
      "final.shape: torch.Size([270, 256])\n",
      "final.shape: torch.Size([1920, 256])\n"
     ]
    },
    {
     "name": "stdout",
     "output_type": "stream",
     "text": [
      "final.shape: torch.Size([1920, 256])\n",
      "final.shape: torch.Size([1920, 256])\n"
     ]
    },
    {
     "name": "stdout",
     "output_type": "stream",
     "text": [
      "final.shape: torch.Size([1920, 256])\n",
      "final.shape: torch.Size([1920, 256])\n"
     ]
    },
    {
     "name": "stdout",
     "output_type": "stream",
     "text": [
      "final.shape: torch.Size([1920, 256])\n",
      "final.shape: torch.Size([1920, 256])\n"
     ]
    },
    {
     "name": "stdout",
     "output_type": "stream",
     "text": [
      "final.shape: torch.Size([570, 256])\n",
      "ps: [38363.73   14826.066  38363.73   11397.532  67009.     13304.658\n",
      " 67009.     59476.45   38363.73   11397.521  67009.     11397.521\n",
      " 59476.45   59476.45   67009.     59476.45   38363.73   67009.\n",
      " 59476.45   25251.033  59476.45   38363.73   15801.119  59476.45\n",
      " 67009.     67009.     11397.521  67009.     14826.066  67009.\n",
      " 59476.45   59476.45   38363.73   59476.45   67009.     16718.572\n",
      " 67009.     38363.73   11397.521  59476.45   59476.45   67009.\n",
      " 67009.     59476.45   59476.45   38363.73   67009.     38363.73\n",
      " 59476.45   14141.047  11397.532  11397.521  13304.658  59476.45\n",
      " 38363.73   38363.73   59476.45   67009.     67009.     67009.\n",
      " 67009.     11397.532  38363.73   11397.532  59476.45   67009.\n",
      " 59476.45   67009.     11397.521  11397.532  67009.     67009.\n",
      " 38363.73   11397.532  38363.73   59476.45   11397.532  67009.\n",
      " 13304.671  67009.     67009.     13304.658  11397.532  13304.658\n",
      " 11397.521  14141.047  59476.45   67009.     59476.45   11397.532\n",
      " 67009.     11397.521  11397.532  67009.     25250.96   11397.532\n",
      " 67009.     59476.45   67009.     67009.     67009.     13304.658\n",
      " 59476.45   67009.     59476.45   11397.521  38363.73   59476.45\n",
      " 11397.532  11397.532  59476.45   11397.521  67009.     67009.\n",
      " 38363.73   11397.532  38363.73   13304.658  67009.     59476.45\n",
      " 11397.532  11397.532  11397.532  25250.96   67009.     67009.\n",
      " 59476.45   59476.45   67009.     67009.     67009.     67009.\n",
      " 67009.     59476.45   14140.9795 38363.73   11397.532  67009.\n",
      " 11397.532  11397.532  67009.     59476.45   11397.532  11397.521\n",
      " 14141.047  38363.73   59476.45   59476.45   11397.532  38363.73\n",
      " 11397.532  67009.     67009.     67009.     67009.     67009.\n",
      " 11397.532  38363.73   13304.658  59476.45   59476.45   11397.521\n",
      " 11397.521  11397.532  25250.96   11397.521  67009.     11397.532\n",
      " 11397.521  11397.521  11397.521  67009.     14141.06   67009.\n",
      " 38363.73   59476.45   59476.45   67009.     67009.     67009.\n",
      " 25251.059  67009.     11397.532  11397.521  59476.45   67009.\n",
      " 11397.532  67009.     38363.73   67009.     59476.45   14039.622\n",
      " 11397.532  67009.     13304.658  11397.532  11397.532  67009.\n",
      " 11397.532  11397.521  38363.73   38363.73   14826.066  67009.\n",
      " 67009.     59476.45   38363.73   59476.45   11397.532  59476.45\n",
      " 38363.73   59476.45   59476.45   59476.45   38363.73   67009.\n",
      " 11397.532  11397.521  11397.532  14141.047  67009.     59476.45\n",
      " 11397.532  11397.521  67009.     11397.521  11397.532  59476.45\n",
      " 11397.532  38363.73   14039.622  38363.73   59476.45   25251.033\n",
      " 67009.     59476.45   38363.73   67009.     38363.73   59476.45\n",
      " 11397.521  11397.532  13304.658  67009.     11397.532  38363.73\n",
      " 38363.73   38363.73   14141.047  67009.     14253.411  38363.73\n",
      " 67009.     11397.532  67009.     67009.     67009.     38363.73\n",
      " 38363.73   67009.     38363.73   67009.     11397.521  11397.532\n",
      " 38363.73   59476.45   11397.532  13304.658  59476.45   67009.\n",
      " 11397.521  59476.45   38363.73   13304.671  11397.532  11397.532\n",
      " 67009.     13304.658  11397.532  67009.     59476.45   38363.73\n",
      " 59476.45   59476.45   59476.45   59476.45   11397.521  67009.\n",
      " 11397.532  11397.532  15827.423  59476.45   11397.532  67009.\n",
      " 11397.532  38363.73   11397.521  11397.521  67009.     38363.73\n",
      " 67009.     67009.     11397.532  67009.     67009.     11397.532\n",
      " 11397.532  59476.45   59476.45   67009.     67009.     11397.521\n",
      " 14826.066  59476.45   38363.73   59476.45   25251.059  38363.73\n",
      " 11397.532  15801.119  11397.532  67009.     67009.     11397.521\n",
      " 11397.532  67009.     11397.532  11397.532  25250.984  59476.45\n",
      " 67009.     13304.658  13304.671  38363.73   11397.532  11397.532\n",
      " 38363.73   11397.521  38363.73   59476.45   38363.73   59476.45\n",
      " 13304.671  38363.73   38363.73   38363.73   67009.     59476.45\n",
      " 67009.     38363.73   67009.     11397.521  38363.73   38363.73\n",
      " 11397.532  11397.521  11397.521  67009.     67009.     67009.\n",
      " 59476.45   59476.45   38363.73   67009.     11397.532  59476.45\n",
      " 11397.532  67009.     59476.45   13304.658  59476.45   67009.\n",
      " 11397.532  11397.521  67009.     67009.     59476.45   67009.\n",
      " 11397.532  67009.     67009.     13304.671  59476.45   59476.45\n",
      " 11397.521  59476.45   59476.45   59476.45   67009.     25250.96\n",
      " 59476.45   11397.532  25251.033  59476.45   11397.532  11397.532\n",
      " 11397.521  11397.521  13507.503  59476.45   11397.521  67009.\n",
      " 59476.45   11397.521  67009.     38363.73   59476.45   67009.\n",
      " 13507.503  13304.658  11397.521  59476.45   67009.     59476.45\n",
      " 67009.     13304.671  11397.532  67009.     59476.45   14141.06\n",
      " 38363.73   11397.521  67009.     14039.622  14243.303  67009.\n",
      " 11397.521  67009.     67009.     38363.73   67009.     38363.73\n",
      " 59476.45   67009.     67009.     11397.532  59476.45   11397.532\n",
      " 67009.     67009.     67009.     59476.45   11397.532  11397.521\n",
      " 11397.521  38363.73   38363.73   67009.     11397.532  38363.73\n",
      " 11397.532  14826.066  59476.45   67009.     67009.     38363.73\n",
      " 38363.73   11397.521  13304.671  67009.     59476.45   13304.658\n",
      " 67009.     15800.955  59476.45   38363.73   11397.521 ]\n",
      "ls: [tensor([35153.], dtype=torch.float64), tensor([9951.], dtype=torch.float64), tensor([38815.], dtype=torch.float64), tensor([14175.], dtype=torch.float64), tensor([66821.], dtype=torch.float64), tensor([9951.], dtype=torch.float64), tensor([66821.], dtype=torch.float64), tensor([58513.], dtype=torch.float64), tensor([39421.], dtype=torch.float64), tensor([9951.], dtype=torch.float64), tensor([66821.], dtype=torch.float64), tensor([14187.], dtype=torch.float64), tensor([58512.], dtype=torch.float64), tensor([58512.], dtype=torch.float64), tensor([66822.], dtype=torch.float64), tensor([58512.], dtype=torch.float64), tensor([35343.], dtype=torch.float64), tensor([66823.], dtype=torch.float64), tensor([58512.], dtype=torch.float64), tensor([19798.], dtype=torch.float64), tensor([58512.], dtype=torch.float64), tensor([38590.], dtype=torch.float64), tensor([9951.], dtype=torch.float64), tensor([58513.], dtype=torch.float64), tensor([66821.], dtype=torch.float64), tensor([66821.], dtype=torch.float64), tensor([9951.], dtype=torch.float64), tensor([66821.], dtype=torch.float64), tensor([7639.], dtype=torch.float64), tensor([66821.], dtype=torch.float64), tensor([58512.], dtype=torch.float64), tensor([58512.], dtype=torch.float64), tensor([38825.], dtype=torch.float64), tensor([58512.], dtype=torch.float64), tensor([66821.], dtype=torch.float64), tensor([15913.], dtype=torch.float64), tensor([66821.], dtype=torch.float64), tensor([39267.], dtype=torch.float64), tensor([14175.], dtype=torch.float64), tensor([58512.], dtype=torch.float64), tensor([58513.], dtype=torch.float64), tensor([66824.], dtype=torch.float64), tensor([66821.], dtype=torch.float64), tensor([58512.], dtype=torch.float64), tensor([58512.], dtype=torch.float64), tensor([39130.], dtype=torch.float64), tensor([66821.], dtype=torch.float64), tensor([38957.], dtype=torch.float64), tensor([58512.], dtype=torch.float64), tensor([14175.], dtype=torch.float64), tensor([17508.], dtype=torch.float64), tensor([14175.], dtype=torch.float64), tensor([15711.], dtype=torch.float64), tensor([58512.], dtype=torch.float64), tensor([34609.], dtype=torch.float64), tensor([39097.], dtype=torch.float64), tensor([58512.], dtype=torch.float64), tensor([66824.], dtype=torch.float64), tensor([66821.], dtype=torch.float64), tensor([66822.], dtype=torch.float64), tensor([66821.], dtype=torch.float64), tensor([9951.], dtype=torch.float64), tensor([38861.], dtype=torch.float64), tensor([9951.], dtype=torch.float64), tensor([58512.], dtype=torch.float64), tensor([66823.], dtype=torch.float64), tensor([58518.], dtype=torch.float64), tensor([66821.], dtype=torch.float64), tensor([3876.], dtype=torch.float64), tensor([9951.], dtype=torch.float64), tensor([66821.], dtype=torch.float64), tensor([66821.], dtype=torch.float64), tensor([38465.], dtype=torch.float64), tensor([9951.], dtype=torch.float64), tensor([39229.], dtype=torch.float64), tensor([58512.], dtype=torch.float64), tensor([9951.], dtype=torch.float64), tensor([66821.], dtype=torch.float64), tensor([15711.], dtype=torch.float64), tensor([66837.], dtype=torch.float64), tensor([66821.], dtype=torch.float64), tensor([15711.], dtype=torch.float64), tensor([17455.], dtype=torch.float64), tensor([15711.], dtype=torch.float64), tensor([3876.], dtype=torch.float64), tensor([14176.], dtype=torch.float64), tensor([58514.], dtype=torch.float64), tensor([66821.], dtype=torch.float64), tensor([58513.], dtype=torch.float64), tensor([9951.], dtype=torch.float64), tensor([66821.], dtype=torch.float64), tensor([14175.], dtype=torch.float64), tensor([9951.], dtype=torch.float64), tensor([66824.], dtype=torch.float64), tensor([31180.], dtype=torch.float64), tensor([14175.], dtype=torch.float64), tensor([66821.], dtype=torch.float64), tensor([58512.], dtype=torch.float64), tensor([66844.], dtype=torch.float64), tensor([66821.], dtype=torch.float64), tensor([66827.], dtype=torch.float64), tensor([15711.], dtype=torch.float64), tensor([58512.], dtype=torch.float64), tensor([66821.], dtype=torch.float64), tensor([58512.], dtype=torch.float64), tensor([3876.], dtype=torch.float64), tensor([39220.], dtype=torch.float64), tensor([58512.], dtype=torch.float64), tensor([14197.], dtype=torch.float64), tensor([9951.], dtype=torch.float64), tensor([58512.], dtype=torch.float64), tensor([14175.], dtype=torch.float64), tensor([66822.], dtype=torch.float64), tensor([66821.], dtype=torch.float64), tensor([39087.], dtype=torch.float64), tensor([9951.], dtype=torch.float64), tensor([39511.], dtype=torch.float64), tensor([15711.], dtype=torch.float64), tensor([66821.], dtype=torch.float64), tensor([58512.], dtype=torch.float64), tensor([14175.], dtype=torch.float64), tensor([14176.], dtype=torch.float64), tensor([14175.], dtype=torch.float64), tensor([23183.], dtype=torch.float64), tensor([66821.], dtype=torch.float64), tensor([66821.], dtype=torch.float64), tensor([58512.], dtype=torch.float64), tensor([58512.], dtype=torch.float64), tensor([66834.], dtype=torch.float64), tensor([66821.], dtype=torch.float64), tensor([66821.], dtype=torch.float64), tensor([66821.], dtype=torch.float64), tensor([66821.], dtype=torch.float64), tensor([58512.], dtype=torch.float64), tensor([15945.], dtype=torch.float64), tensor([39097.], dtype=torch.float64), tensor([14178.], dtype=torch.float64), tensor([66823.], dtype=torch.float64), tensor([17416.], dtype=torch.float64), tensor([14211.], dtype=torch.float64), tensor([66821.], dtype=torch.float64), tensor([58512.], dtype=torch.float64), tensor([9951.], dtype=torch.float64), tensor([14181.], dtype=torch.float64), tensor([14180.], dtype=torch.float64), tensor([39157.], dtype=torch.float64), tensor([58512.], dtype=torch.float64), tensor([58512.], dtype=torch.float64), tensor([9951.], dtype=torch.float64), tensor([34333.], dtype=torch.float64), tensor([9951.], dtype=torch.float64), tensor([66821.], dtype=torch.float64), tensor([66821.], dtype=torch.float64), tensor([66823.], dtype=torch.float64), tensor([66822.], dtype=torch.float64), tensor([66821.], dtype=torch.float64), tensor([9951.], dtype=torch.float64), tensor([39439.], dtype=torch.float64), tensor([9951.], dtype=torch.float64), tensor([58512.], dtype=torch.float64), tensor([58512.], dtype=torch.float64), tensor([14185.], dtype=torch.float64), tensor([9951.], dtype=torch.float64), tensor([14190.], dtype=torch.float64), tensor([27726.], dtype=torch.float64), tensor([14175.], dtype=torch.float64), tensor([66825.], dtype=torch.float64), tensor([14175.], dtype=torch.float64), tensor([14175.], dtype=torch.float64), tensor([9951.], dtype=torch.float64), tensor([9951.], dtype=torch.float64), tensor([66821.], dtype=torch.float64), tensor([14175.], dtype=torch.float64), tensor([66821.], dtype=torch.float64), tensor([38230.], dtype=torch.float64), tensor([58512.], dtype=torch.float64), tensor([58554.], dtype=torch.float64), tensor([66821.], dtype=torch.float64), tensor([66821.], dtype=torch.float64), tensor([66821.], dtype=torch.float64), tensor([27816.], dtype=torch.float64), tensor([66821.], dtype=torch.float64), tensor([14175.], dtype=torch.float64), tensor([14177.], dtype=torch.float64), tensor([58513.], dtype=torch.float64), tensor([66825.], dtype=torch.float64), tensor([9951.], dtype=torch.float64), tensor([66821.], dtype=torch.float64), tensor([38979.], dtype=torch.float64), tensor([66821.], dtype=torch.float64), tensor([58512.], dtype=torch.float64), tensor([16033.], dtype=torch.float64), tensor([9951.], dtype=torch.float64), tensor([66822.], dtype=torch.float64), tensor([15711.], dtype=torch.float64), tensor([14176.], dtype=torch.float64), tensor([14175.], dtype=torch.float64), tensor([66821.], dtype=torch.float64), tensor([14184.], dtype=torch.float64), tensor([17417.], dtype=torch.float64), tensor([38953.], dtype=torch.float64), tensor([38850.], dtype=torch.float64), tensor([18834.], dtype=torch.float64), tensor([66824.], dtype=torch.float64), tensor([66821.], dtype=torch.float64), tensor([58512.], dtype=torch.float64), tensor([38995.], dtype=torch.float64), tensor([58512.], dtype=torch.float64), tensor([9951.], dtype=torch.float64), tensor([58512.], dtype=torch.float64), tensor([39133.], dtype=torch.float64), tensor([58512.], dtype=torch.float64), tensor([58512.], dtype=torch.float64), tensor([58512.], dtype=torch.float64), tensor([34955.], dtype=torch.float64), tensor([66821.], dtype=torch.float64), tensor([14175.], dtype=torch.float64), tensor([14175.], dtype=torch.float64), tensor([9951.], dtype=torch.float64), tensor([14175.], dtype=torch.float64), tensor([66821.], dtype=torch.float64), tensor([58513.], dtype=torch.float64), tensor([14176.], dtype=torch.float64), tensor([14175.], dtype=torch.float64), tensor([66822.], dtype=torch.float64), tensor([14176.], dtype=torch.float64), tensor([14175.], dtype=torch.float64), tensor([58512.], dtype=torch.float64), tensor([14175.], dtype=torch.float64), tensor([38633.], dtype=torch.float64), tensor([16020.], dtype=torch.float64), tensor([39159.], dtype=torch.float64), tensor([58512.], dtype=torch.float64), tensor([21227.], dtype=torch.float64), tensor([66821.], dtype=torch.float64), tensor([58512.], dtype=torch.float64), tensor([38936.], dtype=torch.float64), tensor([66917.], dtype=torch.float64), tensor([39033.], dtype=torch.float64), tensor([58520.], dtype=torch.float64), tensor([14176.], dtype=torch.float64), tensor([9951.], dtype=torch.float64), tensor([15711.], dtype=torch.float64), tensor([66821.], dtype=torch.float64), tensor([13320.], dtype=torch.float64), tensor([35160.], dtype=torch.float64), tensor([34116.], dtype=torch.float64), tensor([34116.], dtype=torch.float64), tensor([14187.], dtype=torch.float64), tensor([66821.], dtype=torch.float64), tensor([17844.], dtype=torch.float64), tensor([39105.], dtype=torch.float64), tensor([66821.], dtype=torch.float64), tensor([14175.], dtype=torch.float64), tensor([66821.], dtype=torch.float64), tensor([66821.], dtype=torch.float64), tensor([66821.], dtype=torch.float64), tensor([38953.], dtype=torch.float64), tensor([35253.], dtype=torch.float64), tensor([66824.], dtype=torch.float64), tensor([39049.], dtype=torch.float64), tensor([66821.], dtype=torch.float64), tensor([14175.], dtype=torch.float64), tensor([9951.], dtype=torch.float64), tensor([38922.], dtype=torch.float64), tensor([58512.], dtype=torch.float64), tensor([14175.], dtype=torch.float64), tensor([9951.], dtype=torch.float64), tensor([58512.], dtype=torch.float64), tensor([66821.], dtype=torch.float64), tensor([17416.], dtype=torch.float64), tensor([58512.], dtype=torch.float64), tensor([39141.], dtype=torch.float64), tensor([15711.], dtype=torch.float64), tensor([14181.], dtype=torch.float64), tensor([9951.], dtype=torch.float64), tensor([66821.], dtype=torch.float64), tensor([9951.], dtype=torch.float64), tensor([14211.], dtype=torch.float64), tensor([66821.], dtype=torch.float64), tensor([58512.], dtype=torch.float64), tensor([38483.], dtype=torch.float64), tensor([58512.], dtype=torch.float64), tensor([58512.], dtype=torch.float64), tensor([58512.], dtype=torch.float64), tensor([58512.], dtype=torch.float64), tensor([14200.], dtype=torch.float64), tensor([66821.], dtype=torch.float64), tensor([14177.], dtype=torch.float64), tensor([14197.], dtype=torch.float64), tensor([17246.], dtype=torch.float64), tensor([58512.], dtype=torch.float64), tensor([14175.], dtype=torch.float64), tensor([66821.], dtype=torch.float64), tensor([9951.], dtype=torch.float64), tensor([38898.], dtype=torch.float64), tensor([3876.], dtype=torch.float64), tensor([21733.], dtype=torch.float64), tensor([66821.], dtype=torch.float64), tensor([35178.], dtype=torch.float64), tensor([66861.], dtype=torch.float64), tensor([66825.], dtype=torch.float64), tensor([9951.], dtype=torch.float64), tensor([66821.], dtype=torch.float64), tensor([66821.], dtype=torch.float64), tensor([9951.], dtype=torch.float64), tensor([9951.], dtype=torch.float64), tensor([58512.], dtype=torch.float64), tensor([58512.], dtype=torch.float64), tensor([66822.], dtype=torch.float64), tensor([66821.], dtype=torch.float64), tensor([9951.], dtype=torch.float64), tensor([18834.], dtype=torch.float64), tensor([58512.], dtype=torch.float64), tensor([38543.], dtype=torch.float64), tensor([58515.], dtype=torch.float64), tensor([27726.], dtype=torch.float64), tensor([35045.], dtype=torch.float64), tensor([9951.], dtype=torch.float64), tensor([19520.], dtype=torch.float64), tensor([14175.], dtype=torch.float64), tensor([66821.], dtype=torch.float64), tensor([66821.], dtype=torch.float64), tensor([14178.], dtype=torch.float64), tensor([9951.], dtype=torch.float64), tensor([66821.], dtype=torch.float64), tensor([14175.], dtype=torch.float64), tensor([9951.], dtype=torch.float64), tensor([19798.], dtype=torch.float64), tensor([58512.], dtype=torch.float64), tensor([66823.], dtype=torch.float64), tensor([3876.], dtype=torch.float64), tensor([15712.], dtype=torch.float64), tensor([38393.], dtype=torch.float64), tensor([9951.], dtype=torch.float64), tensor([9951.], dtype=torch.float64), tensor([39310.], dtype=torch.float64), tensor([14175.], dtype=torch.float64), tensor([35343.], dtype=torch.float64), tensor([58512.], dtype=torch.float64), tensor([39058.], dtype=torch.float64), tensor([58512.], dtype=torch.float64), tensor([15716.], dtype=torch.float64), tensor([39403.], dtype=torch.float64), tensor([35025.], dtype=torch.float64), tensor([39013.], dtype=torch.float64), tensor([66822.], dtype=torch.float64), tensor([58516.], dtype=torch.float64), tensor([66821.], dtype=torch.float64), tensor([38535.], dtype=torch.float64), tensor([66821.], dtype=torch.float64), tensor([14047.], dtype=torch.float64), tensor([38212.], dtype=torch.float64), tensor([38321.], dtype=torch.float64), tensor([14176.], dtype=torch.float64), tensor([14178.], dtype=torch.float64), tensor([17416.], dtype=torch.float64), tensor([66821.], dtype=torch.float64), tensor([66821.], dtype=torch.float64), tensor([66821.], dtype=torch.float64), tensor([58512.], dtype=torch.float64), tensor([58512.], dtype=torch.float64), tensor([39066.], dtype=torch.float64), tensor([66821.], dtype=torch.float64), tensor([9951.], dtype=torch.float64), tensor([58512.], dtype=torch.float64), tensor([9951.], dtype=torch.float64), tensor([66821.], dtype=torch.float64), tensor([58512.], dtype=torch.float64), tensor([15711.], dtype=torch.float64), tensor([58512.], dtype=torch.float64), tensor([66821.], dtype=torch.float64), tensor([9951.], dtype=torch.float64), tensor([3876.], dtype=torch.float64), tensor([66822.], dtype=torch.float64), tensor([66827.], dtype=torch.float64), tensor([58512.], dtype=torch.float64), tensor([66826.], dtype=torch.float64), tensor([9951.], dtype=torch.float64), tensor([66821.], dtype=torch.float64), tensor([66821.], dtype=torch.float64), tensor([15712.], dtype=torch.float64), tensor([58512.], dtype=torch.float64), tensor([58512.], dtype=torch.float64), tensor([14199.], dtype=torch.float64), tensor([58513.], dtype=torch.float64), tensor([58512.], dtype=torch.float64), tensor([58512.], dtype=torch.float64), tensor([66821.], dtype=torch.float64), tensor([20556.], dtype=torch.float64), tensor([58519.], dtype=torch.float64), tensor([17416.], dtype=torch.float64), tensor([24812.], dtype=torch.float64), tensor([58512.], dtype=torch.float64), tensor([14179.], dtype=torch.float64), tensor([14175.], dtype=torch.float64), tensor([14175.], dtype=torch.float64), tensor([9951.], dtype=torch.float64), tensor([14175.], dtype=torch.float64), tensor([58512.], dtype=torch.float64), tensor([14175.], dtype=torch.float64), tensor([66821.], dtype=torch.float64), tensor([58512.], dtype=torch.float64), tensor([3876.], dtype=torch.float64), tensor([66821.], dtype=torch.float64), tensor([34584.], dtype=torch.float64), tensor([58512.], dtype=torch.float64), tensor([66821.], dtype=torch.float64), tensor([11274.], dtype=torch.float64), tensor([15711.], dtype=torch.float64), tensor([14175.], dtype=torch.float64), tensor([58512.], dtype=torch.float64), tensor([66825.], dtype=torch.float64), tensor([58512.], dtype=torch.float64), tensor([66821.], dtype=torch.float64), tensor([9951.], dtype=torch.float64), tensor([9951.], dtype=torch.float64), tensor([66823.], dtype=torch.float64), tensor([58512.], dtype=torch.float64), tensor([14178.], dtype=torch.float64), tensor([38879.], dtype=torch.float64), tensor([14175.], dtype=torch.float64), tensor([66821.], dtype=torch.float64), tensor([12552.], dtype=torch.float64), tensor([14162.], dtype=torch.float64), tensor([66822.], dtype=torch.float64), tensor([14200.], dtype=torch.float64), tensor([66823.], dtype=torch.float64), tensor([66821.], dtype=torch.float64), tensor([38879.], dtype=torch.float64), tensor([66824.], dtype=torch.float64), tensor([39049.], dtype=torch.float64), tensor([58512.], dtype=torch.float64), tensor([66821.], dtype=torch.float64), tensor([66821.], dtype=torch.float64), tensor([14176.], dtype=torch.float64), tensor([58512.], dtype=torch.float64), tensor([14179.], dtype=torch.float64), tensor([66821.], dtype=torch.float64), tensor([66821.], dtype=torch.float64), tensor([66821.], dtype=torch.float64), tensor([58512.], dtype=torch.float64), tensor([14176.], dtype=torch.float64), tensor([14175.], dtype=torch.float64), tensor([14182.], dtype=torch.float64), tensor([38446.], dtype=torch.float64), tensor([39030.], dtype=torch.float64), tensor([66821.], dtype=torch.float64), tensor([14175.], dtype=torch.float64), tensor([38590.], dtype=torch.float64), tensor([9951.], dtype=torch.float64), tensor([18834.], dtype=torch.float64), tensor([58512.], dtype=torch.float64), tensor([66821.], dtype=torch.float64), tensor([66849.], dtype=torch.float64), tensor([39173.], dtype=torch.float64), tensor([35097.], dtype=torch.float64), tensor([14047.], dtype=torch.float64), tensor([15711.], dtype=torch.float64), tensor([66821.], dtype=torch.float64), tensor([58512.], dtype=torch.float64), tensor([9951.], dtype=torch.float64), tensor([66821.], dtype=torch.float64), tensor([9951.], dtype=torch.float64), tensor([58512.], dtype=torch.float64), tensor([35271.], dtype=torch.float64), tensor([14178.], dtype=torch.float64)]\n",
      "len(ls): 467\n",
      "running epoch: 49\n"
     ]
    },
    {
     "name": "stdout",
     "output_type": "stream",
     "text": [
      "final.shape: torch.Size([1920, 256])\n"
     ]
    },
    {
     "name": "stdout",
     "output_type": "stream",
     "text": [
      "final.shape: torch.Size([1920, 256])\n"
     ]
    },
    {
     "name": "stdout",
     "output_type": "stream",
     "text": [
      "final.shape: torch.Size([1920, 256])\n"
     ]
    },
    {
     "name": "stdout",
     "output_type": "stream",
     "text": [
      "final.shape: torch.Size([1920, 256])\n"
     ]
    },
    {
     "name": "stdout",
     "output_type": "stream",
     "text": [
      "final.shape: torch.Size([1920, 256])\n"
     ]
    },
    {
     "name": "stdout",
     "output_type": "stream",
     "text": [
      "final.shape: torch.Size([1920, 256])\n"
     ]
    },
    {
     "name": "stdout",
     "output_type": "stream",
     "text": [
      "final.shape: torch.Size([1920, 256])\n"
     ]
    },
    {
     "name": "stdout",
     "output_type": "stream",
     "text": [
      "final.shape: torch.Size([1920, 256])\n"
     ]
    },
    {
     "name": "stdout",
     "output_type": "stream",
     "text": [
      "final.shape: torch.Size([1920, 256])\n"
     ]
    },
    {
     "name": "stdout",
     "output_type": "stream",
     "text": [
      "final.shape: torch.Size([1920, 256])\n"
     ]
    },
    {
     "name": "stdout",
     "output_type": "stream",
     "text": [
      "final.shape: torch.Size([1920, 256])\n"
     ]
    },
    {
     "name": "stdout",
     "output_type": "stream",
     "text": [
      "final.shape: torch.Size([1920, 256])\n"
     ]
    },
    {
     "name": "stdout",
     "output_type": "stream",
     "text": [
      "final.shape: torch.Size([1920, 256])\n"
     ]
    },
    {
     "name": "stdout",
     "output_type": "stream",
     "text": [
      "final.shape: torch.Size([1920, 256])\n"
     ]
    },
    {
     "name": "stdout",
     "output_type": "stream",
     "text": [
      "final.shape: torch.Size([1920, 256])\n"
     ]
    },
    {
     "name": "stdout",
     "output_type": "stream",
     "text": [
      "final.shape: torch.Size([1920, 256])\n"
     ]
    },
    {
     "name": "stdout",
     "output_type": "stream",
     "text": [
      "final.shape: torch.Size([1920, 256])\n"
     ]
    },
    {
     "name": "stdout",
     "output_type": "stream",
     "text": [
      "final.shape: torch.Size([1920, 256])\n"
     ]
    },
    {
     "name": "stdout",
     "output_type": "stream",
     "text": [
      "final.shape: torch.Size([1920, 256])\n"
     ]
    },
    {
     "name": "stdout",
     "output_type": "stream",
     "text": [
      "final.shape: torch.Size([1920, 256])\n"
     ]
    },
    {
     "name": "stdout",
     "output_type": "stream",
     "text": [
      "final.shape: torch.Size([1920, 256])\n"
     ]
    },
    {
     "name": "stdout",
     "output_type": "stream",
     "text": [
      "final.shape: torch.Size([1920, 256])\n"
     ]
    },
    {
     "name": "stdout",
     "output_type": "stream",
     "text": [
      "final.shape: torch.Size([1920, 256])\n"
     ]
    },
    {
     "name": "stdout",
     "output_type": "stream",
     "text": [
      "final.shape: torch.Size([1920, 256])\n"
     ]
    },
    {
     "name": "stdout",
     "output_type": "stream",
     "text": [
      "final.shape: torch.Size([1920, 256])\n"
     ]
    },
    {
     "name": "stdout",
     "output_type": "stream",
     "text": [
      "final.shape: torch.Size([1920, 256])\n"
     ]
    },
    {
     "name": "stdout",
     "output_type": "stream",
     "text": [
      "final.shape: torch.Size([1920, 256])\n"
     ]
    },
    {
     "name": "stdout",
     "output_type": "stream",
     "text": [
      "final.shape: torch.Size([1920, 256])\n"
     ]
    },
    {
     "name": "stdout",
     "output_type": "stream",
     "text": [
      "final.shape: torch.Size([1920, 256])\n"
     ]
    },
    {
     "name": "stdout",
     "output_type": "stream",
     "text": [
      "final.shape: torch.Size([270, 256])\n",
      "final.shape: torch.Size([1920, 256])\n"
     ]
    },
    {
     "name": "stdout",
     "output_type": "stream",
     "text": [
      "final.shape: torch.Size([1920, 256])\n",
      "final.shape: torch.Size([1920, 256])\n"
     ]
    },
    {
     "name": "stdout",
     "output_type": "stream",
     "text": [
      "final.shape: torch.Size([1920, 256])\n",
      "final.shape: torch.Size([1920, 256])\n"
     ]
    },
    {
     "name": "stdout",
     "output_type": "stream",
     "text": [
      "final.shape: torch.Size([1920, 256])\n",
      "final.shape: torch.Size([1920, 256])\n"
     ]
    },
    {
     "name": "stdout",
     "output_type": "stream",
     "text": [
      "final.shape: torch.Size([570, 256])\n",
      "ps: [39100.617  15718.277  39100.617  11286.7705 67027.53   13871.979\n",
      " 67027.53   59201.027  39100.582  11286.759  67027.53   11286.759\n",
      " 59200.97   59200.97   67027.53   59200.97   39100.617  67027.53\n",
      " 59200.97   24885.621  59200.97   39100.617  16713.79   59201.027\n",
      " 67027.53   67027.53   11286.759  67027.53   15718.293  67027.53\n",
      " 59201.027  59200.97   39100.617  59200.97   67027.53   17467.324\n",
      " 67027.53   39100.617  11286.759  59200.97   59201.027  67027.53\n",
      " 67027.53   59200.97   59201.027  39100.582  67027.53   39100.617\n",
      " 59201.027  14870.7    11286.7705 11286.759  13871.979  59200.97\n",
      " 39100.617  39100.617  59201.027  67027.53   67027.53   67027.53\n",
      " 67027.53   11286.7705 39100.582  11286.7705 59200.97   67027.53\n",
      " 59200.97   67027.53   11286.759  11286.7705 67027.53   67027.53\n",
      " 39100.617  11286.759  39100.617  59201.027  11286.759  67027.53\n",
      " 13872.006  67027.53   67027.53   13872.006  11286.7705 13871.979\n",
      " 11286.759  14870.7    59200.97   67027.53   59201.027  11286.7705\n",
      " 67027.53   11286.759  11286.759  67027.53   24885.527  11286.759\n",
      " 67027.53   59201.027  67027.53   67027.53   67027.53   13872.006\n",
      " 59201.027  67027.53   59200.97   11286.759  39100.617  59201.027\n",
      " 11286.7705 11286.7705 59200.97   11286.759  67027.53   67027.53\n",
      " 39100.617  11286.7705 39100.582  13871.979  67027.53   59200.97\n",
      " 11286.7705 11286.759  11286.759  24885.527  67027.53   67027.53\n",
      " 59200.97   59200.97   67027.53   67027.53   67027.53   67027.53\n",
      " 67027.53   59201.027  14870.657  39100.617  11286.7705 67027.53\n",
      " 11286.7705 11286.759  67027.53   59201.027  11286.7705 11286.759\n",
      " 14870.7    39100.617  59200.97   59200.97   11286.7705 39100.617\n",
      " 11286.7705 67027.53   67027.53   67027.53   67027.53   67027.53\n",
      " 11286.7705 39100.617  13871.979  59201.027  59200.97   11286.759\n",
      " 11286.759  11286.7705 24885.527  11286.759  67027.53   11286.759\n",
      " 11286.759  11286.759  11286.759  67027.53   14870.742  67027.53\n",
      " 39100.582  59201.027  59200.97   67027.53   67027.53   67027.53\n",
      " 24885.621  67027.53   11286.759  11286.759  59200.97   67027.53\n",
      " 11286.759  67027.53   39100.617  67027.53   59200.97   14681.523\n",
      " 11286.7705 67027.53   13872.006  11286.7705 11286.759  67027.53\n",
      " 11286.7705 11286.759  39100.617  39100.617  15718.277  67027.53\n",
      " 67027.53   59201.027  39100.617  59201.027  11286.7705 59201.027\n",
      " 39100.617  59201.027  59200.97   59201.027  39100.617  67027.53\n",
      " 11286.7705 11286.759  11286.7705 14870.7    67027.53   59200.97\n",
      " 11286.7705 11286.748  67027.53   11286.759  11286.7705 59201.027\n",
      " 11286.759  39100.617  14681.523  39100.617  59200.97   24885.621\n",
      " 67027.53   59201.027  39100.582  67027.53   39100.617  59200.97\n",
      " 11286.759  11286.7705 13871.979  67027.53   11286.7705 39100.617\n",
      " 39100.617  39100.617  14870.7    67027.53   14942.646  39100.617\n",
      " 67027.53   11286.759  67027.53   67027.53   67027.53   39100.617\n",
      " 39100.617  67027.53   39100.617  67027.53   11286.759  11286.7705\n",
      " 39100.617  59200.97   11286.759  13872.019  59200.97   67027.53\n",
      " 11286.759  59201.027  39100.582  13872.006  11286.7705 11286.759\n",
      " 67027.53   13872.019  11286.759  67027.53   59201.027  39100.617\n",
      " 59200.97   59201.027  59200.97   59200.97   11286.759  67027.53\n",
      " 11286.759  11286.759  16633.012  59201.027  11286.759  67027.53\n",
      " 11286.7705 39100.617  11286.759  11286.759  67027.53   39100.617\n",
      " 67027.53   67027.53   11286.759  67027.53   67027.53   11286.7705\n",
      " 11286.7705 59201.027  59200.97   67027.53   67027.53   11286.759\n",
      " 15718.293  59201.027  39100.617  59201.027  24885.621  39100.617\n",
      " 11286.759  16713.79   11286.7705 67027.53   67027.53   11286.759\n",
      " 11286.7705 67027.53   11286.7705 11286.759  24885.549  59201.027\n",
      " 67027.53   13872.006  13872.006  39100.617  11286.7705 11286.7705\n",
      " 39100.582  11286.759  39100.617  59200.97   39100.617  59201.027\n",
      " 13872.006  39100.617  39100.617  39100.582  67027.53   59201.027\n",
      " 67027.53   39100.617  67027.53   11286.759  39100.582  39100.617\n",
      " 11286.759  11286.759  11286.759  67027.53   67027.53   67027.53\n",
      " 59200.97   59201.027  39100.617  67027.53   11286.759  59200.97\n",
      " 11286.759  67027.53   59201.027  13871.979  59200.97   67027.53\n",
      " 11286.759  11286.759  67027.53   67027.53   59200.97   67027.53\n",
      " 11286.7705 67027.53   67027.53   13872.006  59201.027  59201.027\n",
      " 11286.759  59201.027  59200.97   59200.97   67027.53   24885.527\n",
      " 59200.97   11286.7705 24885.621  59201.027  11286.7705 11286.759\n",
      " 11286.759  11286.759  14048.661  59200.97   11286.759  67027.53\n",
      " 59201.027  11286.759  67027.53   39100.617  59201.027  67027.53\n",
      " 14048.661  13872.006  11286.759  59201.027  67027.53   59200.97\n",
      " 67027.53   13872.006  11286.759  67027.53   59201.027  14870.742\n",
      " 39100.617  11286.759  67027.53   14681.523  14800.708  67027.53\n",
      " 11286.759  67027.53   67027.53   39100.582  67027.53   39100.617\n",
      " 59200.97   67027.53   67027.53   11286.759  59200.97   11286.7705\n",
      " 67027.53   67027.53   67027.53   59201.027  11286.759  11286.759\n",
      " 11286.759  39100.617  39100.617  67027.53   11286.7705 39100.617\n",
      " 11286.759  15718.293  59201.027  67027.53   67027.53   39100.617\n",
      " 39100.617  11286.759  13872.006  67027.53   59200.97   13871.979\n",
      " 67027.53   16713.566  59201.027  39100.617  11286.759 ]\n"
     ]
    },
    {
     "name": "stdout",
     "output_type": "stream",
     "text": [
      "ls: [tensor([35153.], dtype=torch.float64), tensor([9951.], dtype=torch.float64), tensor([38815.], dtype=torch.float64), tensor([14175.], dtype=torch.float64), tensor([66821.], dtype=torch.float64), tensor([9951.], dtype=torch.float64), tensor([66821.], dtype=torch.float64), tensor([58513.], dtype=torch.float64), tensor([39421.], dtype=torch.float64), tensor([9951.], dtype=torch.float64), tensor([66821.], dtype=torch.float64), tensor([14187.], dtype=torch.float64), tensor([58512.], dtype=torch.float64), tensor([58512.], dtype=torch.float64), tensor([66822.], dtype=torch.float64), tensor([58512.], dtype=torch.float64), tensor([35343.], dtype=torch.float64), tensor([66823.], dtype=torch.float64), tensor([58512.], dtype=torch.float64), tensor([19798.], dtype=torch.float64), tensor([58512.], dtype=torch.float64), tensor([38590.], dtype=torch.float64), tensor([9951.], dtype=torch.float64), tensor([58513.], dtype=torch.float64), tensor([66821.], dtype=torch.float64), tensor([66821.], dtype=torch.float64), tensor([9951.], dtype=torch.float64), tensor([66821.], dtype=torch.float64), tensor([7639.], dtype=torch.float64), tensor([66821.], dtype=torch.float64), tensor([58512.], dtype=torch.float64), tensor([58512.], dtype=torch.float64), tensor([38825.], dtype=torch.float64), tensor([58512.], dtype=torch.float64), tensor([66821.], dtype=torch.float64), tensor([15913.], dtype=torch.float64), tensor([66821.], dtype=torch.float64), tensor([39267.], dtype=torch.float64), tensor([14175.], dtype=torch.float64), tensor([58512.], dtype=torch.float64), tensor([58513.], dtype=torch.float64), tensor([66824.], dtype=torch.float64), tensor([66821.], dtype=torch.float64), tensor([58512.], dtype=torch.float64), tensor([58512.], dtype=torch.float64), tensor([39130.], dtype=torch.float64), tensor([66821.], dtype=torch.float64), tensor([38957.], dtype=torch.float64), tensor([58512.], dtype=torch.float64), tensor([14175.], dtype=torch.float64), tensor([17508.], dtype=torch.float64), tensor([14175.], dtype=torch.float64), tensor([15711.], dtype=torch.float64), tensor([58512.], dtype=torch.float64), tensor([34609.], dtype=torch.float64), tensor([39097.], dtype=torch.float64), tensor([58512.], dtype=torch.float64), tensor([66824.], dtype=torch.float64), tensor([66821.], dtype=torch.float64), tensor([66822.], dtype=torch.float64), tensor([66821.], dtype=torch.float64), tensor([9951.], dtype=torch.float64), tensor([38861.], dtype=torch.float64), tensor([9951.], dtype=torch.float64), tensor([58512.], dtype=torch.float64), tensor([66823.], dtype=torch.float64), tensor([58518.], dtype=torch.float64), tensor([66821.], dtype=torch.float64), tensor([3876.], dtype=torch.float64), tensor([9951.], dtype=torch.float64), tensor([66821.], dtype=torch.float64), tensor([66821.], dtype=torch.float64), tensor([38465.], dtype=torch.float64), tensor([9951.], dtype=torch.float64), tensor([39229.], dtype=torch.float64), tensor([58512.], dtype=torch.float64), tensor([9951.], dtype=torch.float64), tensor([66821.], dtype=torch.float64), tensor([15711.], dtype=torch.float64), tensor([66837.], dtype=torch.float64), tensor([66821.], dtype=torch.float64), tensor([15711.], dtype=torch.float64), tensor([17455.], dtype=torch.float64), tensor([15711.], dtype=torch.float64), tensor([3876.], dtype=torch.float64), tensor([14176.], dtype=torch.float64), tensor([58514.], dtype=torch.float64), tensor([66821.], dtype=torch.float64), tensor([58513.], dtype=torch.float64), tensor([9951.], dtype=torch.float64), tensor([66821.], dtype=torch.float64), tensor([14175.], dtype=torch.float64), tensor([9951.], dtype=torch.float64), tensor([66824.], dtype=torch.float64), tensor([31180.], dtype=torch.float64), tensor([14175.], dtype=torch.float64), tensor([66821.], dtype=torch.float64), tensor([58512.], dtype=torch.float64), tensor([66844.], dtype=torch.float64), tensor([66821.], dtype=torch.float64), tensor([66827.], dtype=torch.float64), tensor([15711.], dtype=torch.float64), tensor([58512.], dtype=torch.float64), tensor([66821.], dtype=torch.float64), tensor([58512.], dtype=torch.float64), tensor([3876.], dtype=torch.float64), tensor([39220.], dtype=torch.float64), tensor([58512.], dtype=torch.float64), tensor([14197.], dtype=torch.float64), tensor([9951.], dtype=torch.float64), tensor([58512.], dtype=torch.float64), tensor([14175.], dtype=torch.float64), tensor([66822.], dtype=torch.float64), tensor([66821.], dtype=torch.float64), tensor([39087.], dtype=torch.float64), tensor([9951.], dtype=torch.float64), tensor([39511.], dtype=torch.float64), tensor([15711.], dtype=torch.float64), tensor([66821.], dtype=torch.float64), tensor([58512.], dtype=torch.float64), tensor([14175.], dtype=torch.float64), tensor([14176.], dtype=torch.float64), tensor([14175.], dtype=torch.float64), tensor([23183.], dtype=torch.float64), tensor([66821.], dtype=torch.float64), tensor([66821.], dtype=torch.float64), tensor([58512.], dtype=torch.float64), tensor([58512.], dtype=torch.float64), tensor([66834.], dtype=torch.float64), tensor([66821.], dtype=torch.float64), tensor([66821.], dtype=torch.float64), tensor([66821.], dtype=torch.float64), tensor([66821.], dtype=torch.float64), tensor([58512.], dtype=torch.float64), tensor([15945.], dtype=torch.float64), tensor([39097.], dtype=torch.float64), tensor([14178.], dtype=torch.float64), tensor([66823.], dtype=torch.float64), tensor([17416.], dtype=torch.float64), tensor([14211.], dtype=torch.float64), tensor([66821.], dtype=torch.float64), tensor([58512.], dtype=torch.float64), tensor([9951.], dtype=torch.float64), tensor([14181.], dtype=torch.float64), tensor([14180.], dtype=torch.float64), tensor([39157.], dtype=torch.float64), tensor([58512.], dtype=torch.float64), tensor([58512.], dtype=torch.float64), tensor([9951.], dtype=torch.float64), tensor([34333.], dtype=torch.float64), tensor([9951.], dtype=torch.float64), tensor([66821.], dtype=torch.float64), tensor([66821.], dtype=torch.float64), tensor([66823.], dtype=torch.float64), tensor([66822.], dtype=torch.float64), tensor([66821.], dtype=torch.float64), tensor([9951.], dtype=torch.float64), tensor([39439.], dtype=torch.float64), tensor([9951.], dtype=torch.float64), tensor([58512.], dtype=torch.float64), tensor([58512.], dtype=torch.float64), tensor([14185.], dtype=torch.float64), tensor([9951.], dtype=torch.float64), tensor([14190.], dtype=torch.float64), tensor([27726.], dtype=torch.float64), tensor([14175.], dtype=torch.float64), tensor([66825.], dtype=torch.float64), tensor([14175.], dtype=torch.float64), tensor([14175.], dtype=torch.float64), tensor([9951.], dtype=torch.float64), tensor([9951.], dtype=torch.float64), tensor([66821.], dtype=torch.float64), tensor([14175.], dtype=torch.float64), tensor([66821.], dtype=torch.float64), tensor([38230.], dtype=torch.float64), tensor([58512.], dtype=torch.float64), tensor([58554.], dtype=torch.float64), tensor([66821.], dtype=torch.float64), tensor([66821.], dtype=torch.float64), tensor([66821.], dtype=torch.float64), tensor([27816.], dtype=torch.float64), tensor([66821.], dtype=torch.float64), tensor([14175.], dtype=torch.float64), tensor([14177.], dtype=torch.float64), tensor([58513.], dtype=torch.float64), tensor([66825.], dtype=torch.float64), tensor([9951.], dtype=torch.float64), tensor([66821.], dtype=torch.float64), tensor([38979.], dtype=torch.float64), tensor([66821.], dtype=torch.float64), tensor([58512.], dtype=torch.float64), tensor([16033.], dtype=torch.float64), tensor([9951.], dtype=torch.float64), tensor([66822.], dtype=torch.float64), tensor([15711.], dtype=torch.float64), tensor([14176.], dtype=torch.float64), tensor([14175.], dtype=torch.float64), tensor([66821.], dtype=torch.float64), tensor([14184.], dtype=torch.float64), tensor([17417.], dtype=torch.float64), tensor([38953.], dtype=torch.float64), tensor([38850.], dtype=torch.float64), tensor([18834.], dtype=torch.float64), tensor([66824.], dtype=torch.float64), tensor([66821.], dtype=torch.float64), tensor([58512.], dtype=torch.float64), tensor([38995.], dtype=torch.float64), tensor([58512.], dtype=torch.float64), tensor([9951.], dtype=torch.float64), tensor([58512.], dtype=torch.float64), tensor([39133.], dtype=torch.float64), tensor([58512.], dtype=torch.float64), tensor([58512.], dtype=torch.float64), tensor([58512.], dtype=torch.float64), tensor([34955.], dtype=torch.float64), tensor([66821.], dtype=torch.float64), tensor([14175.], dtype=torch.float64), tensor([14175.], dtype=torch.float64), tensor([9951.], dtype=torch.float64), tensor([14175.], dtype=torch.float64), tensor([66821.], dtype=torch.float64), tensor([58513.], dtype=torch.float64), tensor([14176.], dtype=torch.float64), tensor([14175.], dtype=torch.float64), tensor([66822.], dtype=torch.float64), tensor([14176.], dtype=torch.float64), tensor([14175.], dtype=torch.float64), tensor([58512.], dtype=torch.float64), tensor([14175.], dtype=torch.float64), tensor([38633.], dtype=torch.float64), tensor([16020.], dtype=torch.float64), tensor([39159.], dtype=torch.float64), tensor([58512.], dtype=torch.float64), tensor([21227.], dtype=torch.float64), tensor([66821.], dtype=torch.float64), tensor([58512.], dtype=torch.float64), tensor([38936.], dtype=torch.float64), tensor([66917.], dtype=torch.float64), tensor([39033.], dtype=torch.float64), tensor([58520.], dtype=torch.float64), tensor([14176.], dtype=torch.float64), tensor([9951.], dtype=torch.float64), tensor([15711.], dtype=torch.float64), tensor([66821.], dtype=torch.float64), tensor([13320.], dtype=torch.float64), tensor([35160.], dtype=torch.float64), tensor([34116.], dtype=torch.float64), tensor([34116.], dtype=torch.float64), tensor([14187.], dtype=torch.float64), tensor([66821.], dtype=torch.float64), tensor([17844.], dtype=torch.float64), tensor([39105.], dtype=torch.float64), tensor([66821.], dtype=torch.float64), tensor([14175.], dtype=torch.float64), tensor([66821.], dtype=torch.float64), tensor([66821.], dtype=torch.float64), tensor([66821.], dtype=torch.float64), tensor([38953.], dtype=torch.float64), tensor([35253.], dtype=torch.float64), tensor([66824.], dtype=torch.float64), tensor([39049.], dtype=torch.float64), tensor([66821.], dtype=torch.float64), tensor([14175.], dtype=torch.float64), tensor([9951.], dtype=torch.float64), tensor([38922.], dtype=torch.float64), tensor([58512.], dtype=torch.float64), tensor([14175.], dtype=torch.float64), tensor([9951.], dtype=torch.float64), tensor([58512.], dtype=torch.float64), tensor([66821.], dtype=torch.float64), tensor([17416.], dtype=torch.float64), tensor([58512.], dtype=torch.float64), tensor([39141.], dtype=torch.float64), tensor([15711.], dtype=torch.float64), tensor([14181.], dtype=torch.float64), tensor([9951.], dtype=torch.float64), tensor([66821.], dtype=torch.float64), tensor([9951.], dtype=torch.float64), tensor([14211.], dtype=torch.float64), tensor([66821.], dtype=torch.float64), tensor([58512.], dtype=torch.float64), tensor([38483.], dtype=torch.float64), tensor([58512.], dtype=torch.float64), tensor([58512.], dtype=torch.float64), tensor([58512.], dtype=torch.float64), tensor([58512.], dtype=torch.float64), tensor([14200.], dtype=torch.float64), tensor([66821.], dtype=torch.float64), tensor([14177.], dtype=torch.float64), tensor([14197.], dtype=torch.float64), tensor([17246.], dtype=torch.float64), tensor([58512.], dtype=torch.float64), tensor([14175.], dtype=torch.float64), tensor([66821.], dtype=torch.float64), tensor([9951.], dtype=torch.float64), tensor([38898.], dtype=torch.float64), tensor([3876.], dtype=torch.float64), tensor([21733.], dtype=torch.float64), tensor([66821.], dtype=torch.float64), tensor([35178.], dtype=torch.float64), tensor([66861.], dtype=torch.float64), tensor([66825.], dtype=torch.float64), tensor([9951.], dtype=torch.float64), tensor([66821.], dtype=torch.float64), tensor([66821.], dtype=torch.float64), tensor([9951.], dtype=torch.float64), tensor([9951.], dtype=torch.float64), tensor([58512.], dtype=torch.float64), tensor([58512.], dtype=torch.float64), tensor([66822.], dtype=torch.float64), tensor([66821.], dtype=torch.float64), tensor([9951.], dtype=torch.float64), tensor([18834.], dtype=torch.float64), tensor([58512.], dtype=torch.float64), tensor([38543.], dtype=torch.float64), tensor([58515.], dtype=torch.float64), tensor([27726.], dtype=torch.float64), tensor([35045.], dtype=torch.float64), tensor([9951.], dtype=torch.float64), tensor([19520.], dtype=torch.float64), tensor([14175.], dtype=torch.float64), tensor([66821.], dtype=torch.float64), tensor([66821.], dtype=torch.float64), tensor([14178.], dtype=torch.float64), tensor([9951.], dtype=torch.float64), tensor([66821.], dtype=torch.float64), tensor([14175.], dtype=torch.float64), tensor([9951.], dtype=torch.float64), tensor([19798.], dtype=torch.float64), tensor([58512.], dtype=torch.float64), tensor([66823.], dtype=torch.float64), tensor([3876.], dtype=torch.float64), tensor([15712.], dtype=torch.float64), tensor([38393.], dtype=torch.float64), tensor([9951.], dtype=torch.float64), tensor([9951.], dtype=torch.float64), tensor([39310.], dtype=torch.float64), tensor([14175.], dtype=torch.float64), tensor([35343.], dtype=torch.float64), tensor([58512.], dtype=torch.float64), tensor([39058.], dtype=torch.float64), tensor([58512.], dtype=torch.float64), tensor([15716.], dtype=torch.float64), tensor([39403.], dtype=torch.float64), tensor([35025.], dtype=torch.float64), tensor([39013.], dtype=torch.float64), tensor([66822.], dtype=torch.float64), tensor([58516.], dtype=torch.float64), tensor([66821.], dtype=torch.float64), tensor([38535.], dtype=torch.float64), tensor([66821.], dtype=torch.float64), tensor([14047.], dtype=torch.float64), tensor([38212.], dtype=torch.float64), tensor([38321.], dtype=torch.float64), tensor([14176.], dtype=torch.float64), tensor([14178.], dtype=torch.float64), tensor([17416.], dtype=torch.float64), tensor([66821.], dtype=torch.float64), tensor([66821.], dtype=torch.float64), tensor([66821.], dtype=torch.float64), tensor([58512.], dtype=torch.float64), tensor([58512.], dtype=torch.float64), tensor([39066.], dtype=torch.float64), tensor([66821.], dtype=torch.float64), tensor([9951.], dtype=torch.float64), tensor([58512.], dtype=torch.float64), tensor([9951.], dtype=torch.float64), tensor([66821.], dtype=torch.float64), tensor([58512.], dtype=torch.float64), tensor([15711.], dtype=torch.float64), tensor([58512.], dtype=torch.float64), tensor([66821.], dtype=torch.float64), tensor([9951.], dtype=torch.float64), tensor([3876.], dtype=torch.float64), tensor([66822.], dtype=torch.float64), tensor([66827.], dtype=torch.float64), tensor([58512.], dtype=torch.float64), tensor([66826.], dtype=torch.float64), tensor([9951.], dtype=torch.float64), tensor([66821.], dtype=torch.float64), tensor([66821.], dtype=torch.float64), tensor([15712.], dtype=torch.float64), tensor([58512.], dtype=torch.float64), tensor([58512.], dtype=torch.float64), tensor([14199.], dtype=torch.float64), tensor([58513.], dtype=torch.float64), tensor([58512.], dtype=torch.float64), tensor([58512.], dtype=torch.float64), tensor([66821.], dtype=torch.float64), tensor([20556.], dtype=torch.float64), tensor([58519.], dtype=torch.float64), tensor([17416.], dtype=torch.float64), tensor([24812.], dtype=torch.float64), tensor([58512.], dtype=torch.float64), tensor([14179.], dtype=torch.float64), tensor([14175.], dtype=torch.float64), tensor([14175.], dtype=torch.float64), tensor([9951.], dtype=torch.float64), tensor([14175.], dtype=torch.float64), tensor([58512.], dtype=torch.float64), tensor([14175.], dtype=torch.float64), tensor([66821.], dtype=torch.float64), tensor([58512.], dtype=torch.float64), tensor([3876.], dtype=torch.float64), tensor([66821.], dtype=torch.float64), tensor([34584.], dtype=torch.float64), tensor([58512.], dtype=torch.float64), tensor([66821.], dtype=torch.float64), tensor([11274.], dtype=torch.float64), tensor([15711.], dtype=torch.float64), tensor([14175.], dtype=torch.float64), tensor([58512.], dtype=torch.float64), tensor([66825.], dtype=torch.float64), tensor([58512.], dtype=torch.float64), tensor([66821.], dtype=torch.float64), tensor([9951.], dtype=torch.float64), tensor([9951.], dtype=torch.float64), tensor([66823.], dtype=torch.float64), tensor([58512.], dtype=torch.float64), tensor([14178.], dtype=torch.float64), tensor([38879.], dtype=torch.float64), tensor([14175.], dtype=torch.float64), tensor([66821.], dtype=torch.float64), tensor([12552.], dtype=torch.float64), tensor([14162.], dtype=torch.float64), tensor([66822.], dtype=torch.float64), tensor([14200.], dtype=torch.float64), tensor([66823.], dtype=torch.float64), tensor([66821.], dtype=torch.float64), tensor([38879.], dtype=torch.float64), tensor([66824.], dtype=torch.float64), tensor([39049.], dtype=torch.float64), tensor([58512.], dtype=torch.float64), tensor([66821.], dtype=torch.float64), tensor([66821.], dtype=torch.float64), tensor([14176.], dtype=torch.float64), tensor([58512.], dtype=torch.float64), tensor([14179.], dtype=torch.float64), tensor([66821.], dtype=torch.float64), tensor([66821.], dtype=torch.float64), tensor([66821.], dtype=torch.float64), tensor([58512.], dtype=torch.float64), tensor([14176.], dtype=torch.float64), tensor([14175.], dtype=torch.float64), tensor([14182.], dtype=torch.float64), tensor([38446.], dtype=torch.float64), tensor([39030.], dtype=torch.float64), tensor([66821.], dtype=torch.float64), tensor([14175.], dtype=torch.float64), tensor([38590.], dtype=torch.float64), tensor([9951.], dtype=torch.float64), tensor([18834.], dtype=torch.float64), tensor([58512.], dtype=torch.float64), tensor([66821.], dtype=torch.float64), tensor([66849.], dtype=torch.float64), tensor([39173.], dtype=torch.float64), tensor([35097.], dtype=torch.float64), tensor([14047.], dtype=torch.float64), tensor([15711.], dtype=torch.float64), tensor([66821.], dtype=torch.float64), tensor([58512.], dtype=torch.float64), tensor([9951.], dtype=torch.float64), tensor([66821.], dtype=torch.float64), tensor([9951.], dtype=torch.float64), tensor([58512.], dtype=torch.float64), tensor([35271.], dtype=torch.float64), tensor([14178.], dtype=torch.float64)]\n",
      "len(ls): 467\n"
     ]
    }
   ],
   "source": [
    "# Example numpy label\n",
    "import numpy as np\n",
    "import torch.nn as nn\n",
    "import importlib\n",
    "\n",
    "from model import trainer\n",
    "importlib.reload(trainer)\n",
    "from  model.trainer import train_single, train\n",
    "\n",
    "\n",
    "crit = nn.MSELoss()\n",
    "\n",
    "# Train the model with the numpy label\n",
    "# trained_model = train_single(model, dataset, dataset, crit, cost_norm, args)\n",
    "model, best_model_path, train_embeddings, val_embeddings = train(model, train_dataset, val_dataset, crit, cost_norm, args)\n"
   ]
  },
  {
   "cell_type": "code",
   "execution_count": 11,
   "id": "6e2ca907",
   "metadata": {
    "execution": {
     "iopub.execute_input": "2025-01-14T03:44:28.051719Z",
     "iopub.status.busy": "2025-01-14T03:44:28.051004Z",
     "iopub.status.idle": "2025-01-14T03:44:28.065305Z",
     "shell.execute_reply": "2025-01-14T03:44:28.063413Z"
    },
    "papermill": {
     "duration": 0.129744,
     "end_time": "2025-01-14T03:44:28.067709",
     "exception": false,
     "start_time": "2025-01-14T03:44:27.937965",
     "status": "completed"
    },
    "tags": []
   },
   "outputs": [
    {
     "data": {
      "text/plain": [
       "'-4892345993358029136.pt'"
      ]
     },
     "execution_count": 11,
     "metadata": {},
     "output_type": "execute_result"
    }
   ],
   "source": [
    "best_model_path"
   ]
  },
  {
   "cell_type": "code",
   "execution_count": 12,
   "id": "f45ad043",
   "metadata": {
    "execution": {
     "iopub.execute_input": "2025-01-14T03:44:28.287449Z",
     "iopub.status.busy": "2025-01-14T03:44:28.286449Z",
     "iopub.status.idle": "2025-01-14T03:44:28.299899Z",
     "shell.execute_reply": "2025-01-14T03:44:28.297886Z"
    },
    "papermill": {
     "duration": 0.124197,
     "end_time": "2025-01-14T03:44:28.302356",
     "exception": false,
     "start_time": "2025-01-14T03:44:28.178159",
     "status": "completed"
    },
    "tags": []
   },
   "outputs": [
    {
     "data": {
      "text/plain": [
       "10"
      ]
     },
     "execution_count": 12,
     "metadata": {},
     "output_type": "execute_result"
    }
   ],
   "source": [
    "len(loaded_val_indices[:10])"
   ]
  },
  {
   "cell_type": "code",
   "execution_count": 13,
   "id": "087e4198",
   "metadata": {
    "execution": {
     "iopub.execute_input": "2025-01-14T03:44:28.520217Z",
     "iopub.status.busy": "2025-01-14T03:44:28.519371Z",
     "iopub.status.idle": "2025-01-14T03:44:28.531476Z",
     "shell.execute_reply": "2025-01-14T03:44:28.529663Z"
    },
    "papermill": {
     "duration": 0.120401,
     "end_time": "2025-01-14T03:44:28.533979",
     "exception": false,
     "start_time": "2025-01-14T03:44:28.413578",
     "status": "completed"
    },
    "tags": []
   },
   "outputs": [
    {
     "data": {
      "text/plain": [
       "467"
      ]
     },
     "execution_count": 13,
     "metadata": {},
     "output_type": "execute_result"
    }
   ],
   "source": [
    "len(val_embeddings)"
   ]
  },
  {
   "cell_type": "code",
   "execution_count": 14,
   "id": "8a4e01a6",
   "metadata": {
    "execution": {
     "iopub.execute_input": "2025-01-14T03:44:28.880445Z",
     "iopub.status.busy": "2025-01-14T03:44:28.878957Z",
     "iopub.status.idle": "2025-01-14T03:44:30.819303Z",
     "shell.execute_reply": "2025-01-14T03:44:30.818201Z"
    },
    "papermill": {
     "duration": 2.157052,
     "end_time": "2025-01-14T03:44:30.823378",
     "exception": false,
     "start_time": "2025-01-14T03:44:28.666326",
     "status": "completed"
    },
    "tags": []
   },
   "outputs": [
    {
     "name": "stdout",
     "output_type": "stream",
     "text": [
      "Validation DataFrame created and saved to validation_embeddings.csv\n",
      "Embeddings saved to validation_embeddings.npy\n",
      "   val_index                                  filename  \\\n",
      "0       1056  query_1952_2024-12-03-21.34.02.429279.pt   \n",
      "1       2323   query_993_2024-12-03-21.10.08.618148.pt   \n",
      "2        655  query_1591_2024-12-03-21.23.17.861948.pt   \n",
      "3       2101   query_793_2024-12-03-21.05.49.462784.pt   \n",
      "4       1401  query_2262_2024-12-03-21.44.00.539251.pt   \n",
      "\n",
      "                                           embedding  \n",
      "0  [-6.3221054, -1.2161089, 0.43031985, 13.114403...  \n",
      "1  [-7.1674953, 1.2622585, -1.4078889, 11.233791,...  \n",
      "2  [-6.3221154, -1.216113, 0.43032083, 13.114399,...  \n",
      "3  [-7.363716, -0.7742083, 1.3781253, 10.9354, 2....  \n",
      "4  [1.0355659, 6.7917485, -3.5958993, -5.911288, ...  \n"
     ]
    }
   ],
   "source": [
    "import pandas as pd\n",
    "import numpy as np\n",
    "\n",
    "# Assume these are loaded or computed\n",
    "# val_embeddings: List or numpy array of embeddings (e.g., shape [num_examples, embedding_dim])\n",
    "# loaded_val_indices: List of validation indices\n",
    "# loaded_file_names: List of validation file names\n",
    "\n",
    "# Convert val_embeddings to a numpy array if it's not already\n",
    "val_embeddings = np.array(val_embeddings)\n",
    "\n",
    "# Ensure the size of all inputs matches\n",
    "if len(loaded_val_indices) != len(loaded_val_file_names) or len(loaded_val_indices) != len(val_embeddings):\n",
    "    raise ValueError(\"The sizes of validation indices, filenames, and embeddings must match.\")\n",
    "\n",
    "# Create a DataFrame\n",
    "val_data_df = pd.DataFrame({\n",
    "    \"val_index\": loaded_val_indices,\n",
    "    \"filename\": loaded_val_file_names,\n",
    "    \"embedding\": list(val_embeddings)  # Store embeddings as a list of numpy arrays\n",
    "})\n",
    "\n",
    "# Save the DataFrame to a CSV file\n",
    "csv_file_path = \"validation_embeddings.csv\"\n",
    "val_data_df.to_csv(csv_file_path, index=False)\n",
    "\n",
    "# Optionally save embeddings in a separate binary file for efficient storage\n",
    "embeddings_file_path = \"validation_embeddings.npy\"\n",
    "np.save(embeddings_file_path, val_embeddings)\n",
    "\n",
    "print(f\"Validation DataFrame created and saved to {csv_file_path}\")\n",
    "print(f\"Embeddings saved to {embeddings_file_path}\")\n",
    "\n",
    "# Print the first few rows for verification\n",
    "print(val_data_df.head())\n"
   ]
  },
  {
   "cell_type": "code",
   "execution_count": 15,
   "id": "580cc9fa",
   "metadata": {
    "execution": {
     "iopub.execute_input": "2025-01-14T03:44:31.085084Z",
     "iopub.status.busy": "2025-01-14T03:44:31.084717Z",
     "iopub.status.idle": "2025-01-14T03:44:31.112592Z",
     "shell.execute_reply": "2025-01-14T03:44:31.111186Z"
    },
    "papermill": {
     "duration": 0.145827,
     "end_time": "2025-01-14T03:44:31.115432",
     "exception": false,
     "start_time": "2025-01-14T03:44:30.969605",
     "status": "completed"
    },
    "tags": []
   },
   "outputs": [
    {
     "data": {
      "text/html": [
       "<div>\n",
       "<style scoped>\n",
       "    .dataframe tbody tr th:only-of-type {\n",
       "        vertical-align: middle;\n",
       "    }\n",
       "\n",
       "    .dataframe tbody tr th {\n",
       "        vertical-align: top;\n",
       "    }\n",
       "\n",
       "    .dataframe thead th {\n",
       "        text-align: right;\n",
       "    }\n",
       "</style>\n",
       "<table border=\"1\" class=\"dataframe\">\n",
       "  <thead>\n",
       "    <tr style=\"text-align: right;\">\n",
       "      <th></th>\n",
       "      <th>val_index</th>\n",
       "      <th>filename</th>\n",
       "      <th>embedding</th>\n",
       "    </tr>\n",
       "  </thead>\n",
       "  <tbody>\n",
       "    <tr>\n",
       "      <th>0</th>\n",
       "      <td>1056</td>\n",
       "      <td>query_1952_2024-12-03-21.34.02.429279.pt</td>\n",
       "      <td>[-6.3221054, -1.2161089, 0.43031985, 13.114403...</td>\n",
       "    </tr>\n",
       "    <tr>\n",
       "      <th>1</th>\n",
       "      <td>2323</td>\n",
       "      <td>query_993_2024-12-03-21.10.08.618148.pt</td>\n",
       "      <td>[-7.1674953, 1.2622585, -1.4078889, 11.233791,...</td>\n",
       "    </tr>\n",
       "    <tr>\n",
       "      <th>2</th>\n",
       "      <td>655</td>\n",
       "      <td>query_1591_2024-12-03-21.23.17.861948.pt</td>\n",
       "      <td>[-6.3221154, -1.216113, 0.43032083, 13.114399,...</td>\n",
       "    </tr>\n",
       "    <tr>\n",
       "      <th>3</th>\n",
       "      <td>2101</td>\n",
       "      <td>query_793_2024-12-03-21.05.49.462784.pt</td>\n",
       "      <td>[-7.363716, -0.7742083, 1.3781253, 10.9354, 2....</td>\n",
       "    </tr>\n",
       "    <tr>\n",
       "      <th>4</th>\n",
       "      <td>1401</td>\n",
       "      <td>query_2262_2024-12-03-21.44.00.539251.pt</td>\n",
       "      <td>[1.0355659, 6.7917485, -3.5958993, -5.911288, ...</td>\n",
       "    </tr>\n",
       "  </tbody>\n",
       "</table>\n",
       "</div>"
      ],
      "text/plain": [
       "   val_index                                  filename  \\\n",
       "0       1056  query_1952_2024-12-03-21.34.02.429279.pt   \n",
       "1       2323   query_993_2024-12-03-21.10.08.618148.pt   \n",
       "2        655  query_1591_2024-12-03-21.23.17.861948.pt   \n",
       "3       2101   query_793_2024-12-03-21.05.49.462784.pt   \n",
       "4       1401  query_2262_2024-12-03-21.44.00.539251.pt   \n",
       "\n",
       "                                           embedding  \n",
       "0  [-6.3221054, -1.2161089, 0.43031985, 13.114403...  \n",
       "1  [-7.1674953, 1.2622585, -1.4078889, 11.233791,...  \n",
       "2  [-6.3221154, -1.216113, 0.43032083, 13.114399,...  \n",
       "3  [-7.363716, -0.7742083, 1.3781253, 10.9354, 2....  \n",
       "4  [1.0355659, 6.7917485, -3.5958993, -5.911288, ...  "
      ]
     },
     "execution_count": 15,
     "metadata": {},
     "output_type": "execute_result"
    }
   ],
   "source": [
    "val_data_df.head()"
   ]
  },
  {
   "cell_type": "code",
   "execution_count": 16,
   "id": "3539dfcc",
   "metadata": {
    "execution": {
     "iopub.execute_input": "2025-01-14T03:44:31.349221Z",
     "iopub.status.busy": "2025-01-14T03:44:31.348338Z",
     "iopub.status.idle": "2025-01-14T03:44:31.360164Z",
     "shell.execute_reply": "2025-01-14T03:44:31.358091Z"
    },
    "papermill": {
     "duration": 0.132013,
     "end_time": "2025-01-14T03:44:31.362860",
     "exception": false,
     "start_time": "2025-01-14T03:44:31.230847",
     "status": "completed"
    },
    "tags": []
   },
   "outputs": [
    {
     "name": "stdout",
     "output_type": "stream",
     "text": [
      "Number of training embeddings (best epoch): 1865\n",
      "First training embedding shape: (521,)\n",
      "Number of validation embeddings (best epoch): 467\n",
      "First validation embedding shape: (521,)\n"
     ]
    }
   ],
   "source": [
    "print(f\"Number of training embeddings (best epoch): {len(train_embeddings)}\")\n",
    "print(f\"First training embedding shape: {train_embeddings[0].shape}\")\n",
    "print(f\"Number of validation embeddings (best epoch): {len(val_embeddings)}\")\n",
    "print(f\"First validation embedding shape: {val_embeddings[0].shape}\")\n"
   ]
  },
  {
   "cell_type": "code",
   "execution_count": 17,
   "id": "2c5d7876",
   "metadata": {
    "execution": {
     "iopub.execute_input": "2025-01-14T03:44:31.585169Z",
     "iopub.status.busy": "2025-01-14T03:44:31.583295Z",
     "iopub.status.idle": "2025-01-14T03:44:31.598019Z",
     "shell.execute_reply": "2025-01-14T03:44:31.595911Z"
    },
    "papermill": {
     "duration": 0.126698,
     "end_time": "2025-01-14T03:44:31.600861",
     "exception": false,
     "start_time": "2025-01-14T03:44:31.474163",
     "status": "completed"
    },
    "tags": []
   },
   "outputs": [
    {
     "name": "stdout",
     "output_type": "stream",
     "text": [
      "First validation embedding shape: [ -6.3221054   -1.2161089    0.43031985  13.114403     0.597692\n",
      "   5.5710177   -1.4463073   -7.6218276    6.958821   -14.633663\n",
      "  -3.2873127   -0.4089021    6.029482   -27.001808     1.9260159\n",
      "  -1.0277863   13.548631   -15.065728    -8.411574   -30.127523\n",
      "  -7.6771083    1.8954351   14.028365     5.2963824   -6.392975\n",
      " -12.7531805   -6.0769215   13.20106      3.7452826  -13.305846\n",
      "   6.6460714   -0.9090615    1.6611434    3.2162087   -0.80632\n",
      "  -5.912134     0.34829015 -15.1260395   -0.19040892  13.345829\n",
      "  -9.295478   -16.171478     0.4497921   -2.315885   -12.691885\n",
      "   1.805241    31.083757   -10.805419   -13.88535      3.5872593\n",
      "  -3.3870864    1.8303446  -12.171584     2.2706897    3.740867\n",
      "  28.458776    18.14137     13.3015     -11.954642     5.277808\n",
      " -11.089407     5.0655594  -11.487695     0.37082273  -9.386708\n",
      "   9.785867     2.0261111    3.7672932   -6.670656   -12.673987\n",
      "  32.099094   -21.028584    13.668743    10.898011     9.106477\n",
      "  -7.251104    20.64393    -10.833904    13.468012    50.16694\n",
      " -38.31084     10.197304    31.047482     2.052999     0.7076588\n",
      " -15.421616     1.7165312   20.620796    25.852139    15.151355\n",
      "  21.800175     1.7892758   -3.1335921    4.4020343   18.071442\n",
      "   2.025097    -2.3670893   -5.7670164  -13.095451     1.3847846\n",
      " -13.254131   -10.976738    11.855196     8.676814     3.0718794\n",
      " -26.36666    -11.951299     3.3041131   -7.841672   -14.424221\n",
      "  -6.211866     3.973112    -2.629879    -7.604214     9.126583\n",
      "  -1.174593    17.768116   -13.584293     3.4184532   11.838933\n",
      " -17.05941      6.0705466  -16.54476      9.864892   -38.30551\n",
      " -35.86996     -5.0623507  -19.281631    25.540033     5.7786717\n",
      "  -0.5838866   27.888664    11.491373   -40.584515    19.089664\n",
      "  -2.649726    14.345977    -9.480386     8.28439      0.8886663\n",
      "  15.8988905   18.560345     1.1066124  -19.65096     10.829641\n",
      "  -8.917617     1.13172      2.7169492   -6.627642    14.06857\n",
      "  20.990002    -0.8528449    3.7250323   -4.0791817    2.0068457\n",
      " -13.926514    10.568467    -6.9287696    3.8340323   -3.3784761\n",
      "   4.9195113   -2.5714896   13.64863     16.486553    -8.60545\n",
      " -14.480838    -5.964505   -19.142004    21.232908   -17.920244\n",
      "   5.833042    -6.187411     3.755456    48.889984    -1.3844888\n",
      "   6.1395063   -8.933809     7.490064   -33.113026    12.240288\n",
      "  -3.5561166    0.3691455   -7.59555     -1.9514976   -2.13213\n",
      "  -1.1693438   11.972563     9.822018     5.26522     -9.930676\n",
      " -15.5258875   -8.943514    -7.145992    27.87167     -2.178397\n",
      "   7.4121757   -8.706179    14.815575     6.905866    -4.329475\n",
      "  -3.9377847  -13.076362    17.305151    -4.401272    17.328646\n",
      "  17.081203     4.3657117    8.529074     0.10717289  -8.764573\n",
      "   3.2079654  -14.142955     1.696194     0.52980417  19.753582\n",
      " -16.778399   -15.669317    15.488829    11.526079    -5.750979\n",
      "   6.747693     1.640691   -11.177483    -8.220812    20.263027\n",
      " -13.391072     4.8616223   29.722872    35.759365    16.769293\n",
      "  11.165945    -1.2305462   -8.859817    24.826395   -21.153803\n",
      " -14.79594     27.620234     3.1179156    6.3440733    7.186867\n",
      "  16.847248    12.17937    -34.41841      1.0488341   -9.5544405\n",
      " -11.662452     6.548771    19.231308    51.593933    11.539824\n",
      "  -6.3052397  -13.47116     -2.093906   -19.259804     6.0923567\n",
      "  19.826664     0.6292739  -27.956963   -14.536745     1.0571454\n",
      "   1.9074873    6.6025896   14.385573    20.041779     2.7103453\n",
      " -14.043955    18.697718    35.590794     5.714893    -7.4344783\n",
      "  32.232243    -5.285702    -3.9722207  -11.152548     0.8164647\n",
      " -10.213161    21.098106     6.6127133  -55.717854   -32.404366\n",
      "  -9.588606     0.15885185   4.2303433  -27.292831    13.18358\n",
      " -17.41564    -11.201216    10.399619    10.457463   -11.403835\n",
      " -19.66758     -0.5973095    7.770069    32.710663    27.143124\n",
      " -10.709784     7.4150004    1.0160947  -12.734236    -6.593958\n",
      "   2.365374    -4.632378    11.830635    34.569508   -19.776934\n",
      "  19.051506     8.092751    -5.948577    13.159557    11.002436\n",
      "  -5.194969    -3.6479375   16.00072     13.424222    13.206574\n",
      "   4.190847   -18.55001    -12.007961    10.882867    27.256208\n",
      " -19.881155     4.7254844  -22.432028    -4.6889925   -9.180255\n",
      "   1.9168419    2.2382076    1.8573183  -13.758851     3.313641\n",
      "  -7.869035    -2.9791367   -6.3291645   -0.4138316  -11.593844\n",
      "  -2.0580497   -9.997348   -27.118076    -6.4471583    8.342412\n",
      "  11.93313     27.381159    18.352903   -32.459175    -3.345481\n",
      "   3.6470122   10.788527   -16.455645    27.511806   -10.705559\n",
      "  10.401498    -7.1660013  -14.266013   -11.250617     4.9633436\n",
      "  23.645538    16.574883    10.716487    -2.274259     0.66316617\n",
      "  12.069249    38.29419    -28.587797    15.151036    16.605358\n",
      "   2.0756392   20.239138   -14.206271   -20.231865   -13.489333\n",
      "  -9.4188385   -1.0742501   -6.046483   -24.653547     2.449404\n",
      " -10.680863     5.181133   -11.322731    12.965918   -36.20857\n",
      "  13.959524   -21.409943    -5.4004326   14.611527    -1.1237837\n",
      "   8.062732   -12.85296     17.58431    -13.828387   -24.09174\n",
      "  23.735315     4.195931    -2.5304737    8.442243   -18.431297\n",
      " -13.509617     3.818138     5.8620577   -5.437567    17.315376\n",
      " -22.349894     0.6470349  -13.715765   -14.960406   -15.065182\n",
      "  -2.9415238    6.3768134   -2.371769     3.3619304   12.352952\n",
      "  -1.0180671  -15.076531     0.0936054  -13.572767    -5.160253\n",
      " -13.390753    -3.6887789  -11.466191    14.408265   -26.509817\n",
      "   7.8329077   19.64795     -0.38420266 -15.020495     3.1121738\n",
      "  -7.4310365    5.978083    14.915098   -15.606982     5.6116385\n",
      " -16.389349    19.356722    14.350671     2.885453   -23.198195\n",
      "  -4.641548     6.365715    -4.5535026   21.89522    -18.78031\n",
      "  27.143341     6.7560997  -17.593376     5.368262    -0.23120642\n",
      "   9.614635     7.731444    19.896755    -9.69077      1.7608892\n",
      "   0.8978145  -11.115718     2.323368     2.9680107    1.7229807\n",
      "  14.710563    -6.265211     2.7509377   -0.14525133  26.646994\n",
      "   2.314604   -21.280699     1.1220759   19.444933     5.165028\n",
      "  -3.198219     7.794223   -10.922873   -14.854828    10.098997\n",
      "  22.522392    -6.336067    20.779581   -20.063307     0.22852978\n",
      "   1.8338231    8.300829     3.8274238  -18.173414    32.091156\n",
      "  -3.025193    11.356265     2.6026065    9.369225    12.184324\n",
      "  -4.577604    -4.227816   -16.916416   -15.0551605  -32.611298\n",
      "   6.8692355  -25.685514   -23.839317     0.26849127  36.448936\n",
      "  11.892753     0.8847119  -26.134436    -2.80441      7.605849\n",
      " -24.074394     8.7036       9.468796     1.1462153    1.3546225\n",
      "  -9.459674    -2.8372455   13.075448     8.521137     0.535425\n",
      " -13.729353    13.939245     8.642556    -3.9144533  -18.156178\n",
      "   5.8974395    7.488486    17.458473     9.45037     -4.644798\n",
      "  -3.473589  ]\n"
     ]
    }
   ],
   "source": [
    "print(f\"First validation embedding shape: {val_embeddings[0]}\")"
   ]
  },
  {
   "cell_type": "code",
   "execution_count": 18,
   "id": "ad4f4505",
   "metadata": {
    "execution": {
     "iopub.execute_input": "2025-01-14T03:44:31.853819Z",
     "iopub.status.busy": "2025-01-14T03:44:31.853105Z",
     "iopub.status.idle": "2025-01-14T03:44:31.863713Z",
     "shell.execute_reply": "2025-01-14T03:44:31.862088Z"
    },
    "papermill": {
     "duration": 0.12286,
     "end_time": "2025-01-14T03:44:31.866347",
     "exception": false,
     "start_time": "2025-01-14T03:44:31.743487",
     "status": "completed"
    },
    "tags": []
   },
   "outputs": [
    {
     "data": {
      "text/plain": [
       "numpy.ndarray"
      ]
     },
     "execution_count": 18,
     "metadata": {},
     "output_type": "execute_result"
    }
   ],
   "source": [
    "type(val_embeddings[0])"
   ]
  },
  {
   "cell_type": "code",
   "execution_count": 19,
   "id": "536ac2d9",
   "metadata": {
    "execution": {
     "iopub.execute_input": "2025-01-14T03:44:32.089207Z",
     "iopub.status.busy": "2025-01-14T03:44:32.088554Z",
     "iopub.status.idle": "2025-01-14T03:44:32.109167Z",
     "shell.execute_reply": "2025-01-14T03:44:32.107092Z"
    },
    "papermill": {
     "duration": 0.13346,
     "end_time": "2025-01-14T03:44:32.111920",
     "exception": false,
     "start_time": "2025-01-14T03:44:31.978460",
     "status": "completed"
    },
    "tags": []
   },
   "outputs": [
    {
     "name": "stdout",
     "output_type": "stream",
     "text": [
      "First validation embedding shape: [-7.1674953e+00  1.2622585e+00 -1.4078889e+00  1.1233791e+01\n",
      "  3.4764476e+00  5.3047266e+00 -3.2085449e-01 -1.9125725e+00\n",
      "  1.5687717e+00 -1.2804629e+01 -2.7944949e+00 -1.4415908e+00\n",
      "  6.7057371e+00 -2.9670046e+01  2.3629963e+00 -4.7606177e+00\n",
      "  1.1895366e+01 -1.0634305e+01 -6.1758637e+00 -3.1145290e+01\n",
      " -9.8893299e+00  3.4185634e+00  1.3296408e+01  5.6195412e+00\n",
      " -6.3199635e+00 -1.2277816e+01 -7.4814234e+00  1.5109468e+01\n",
      "  4.4720697e+00 -1.3546993e+01  5.2070990e+00 -1.9114726e+00\n",
      "  1.7673786e+00  4.2464638e+00 -1.1493626e+00 -2.4278011e+00\n",
      " -8.9926535e-01 -8.9888725e+00 -1.4308406e+00  1.1384814e+01\n",
      " -7.4287424e+00 -1.7852072e+01 -2.8457353e+00 -2.9268486e+00\n",
      " -1.6674889e+01  5.0513759e+00  3.1327429e+01 -9.7184973e+00\n",
      " -1.2802489e+01  4.3773937e+00 -4.6619678e+00  1.6481143e+00\n",
      " -8.0541363e+00  4.8522978e+00 -3.3938062e-01  3.0559837e+01\n",
      "  1.8901333e+01  1.4126292e+01 -9.7827978e+00  4.6072540e+00\n",
      " -1.2705544e+01  3.5059650e+00 -9.2408590e+00  2.5843427e+00\n",
      " -9.6352482e+00  1.2938133e+01  5.5163283e+00  1.2144953e+00\n",
      " -2.9617934e+00 -1.6341347e+01  3.0482733e+01 -2.0508705e+01\n",
      "  1.1518969e+01  8.8597660e+00  1.0117755e+01 -7.2223635e+00\n",
      "  1.8086046e+01 -9.6091604e+00  1.0740469e+01  5.4230278e+01\n",
      " -4.0729904e+01  9.5620089e+00  3.1249050e+01 -2.4403395e-01\n",
      "  5.7652122e-01 -1.5061495e+01  3.8316741e+00  1.8279413e+01\n",
      "  2.7145342e+01  1.2320676e+01  1.8179682e+01  2.0221167e+00\n",
      " -1.2864325e+00  4.2644196e+00  2.1150660e+01  7.0359659e-01\n",
      " -1.5781806e+00 -1.6935076e+00 -1.2118143e+01  1.8684289e+00\n",
      " -1.2499578e+01 -8.2599258e+00  1.3911949e+01  8.4649553e+00\n",
      "  3.6773736e+00 -2.5685652e+01 -1.1604847e+01  4.9760098e+00\n",
      " -6.3351822e+00 -1.1683106e+01 -6.6570148e+00  4.0818253e+00\n",
      "  1.1985278e-01 -9.5181208e+00  4.3039794e+00  2.4164915e-01\n",
      "  1.6819025e+01 -9.8789959e+00  2.3397529e+00  9.0757742e+00\n",
      " -1.4632365e+01  4.8106284e+00 -1.3738418e+01  7.1547556e+00\n",
      " -4.0966095e+01 -3.5044407e+01 -1.1789624e+01 -1.6876570e+01\n",
      "  2.9213291e+01  5.7149777e+00  3.2275510e-01  2.5179405e+01\n",
      "  1.1770569e+01 -3.9243698e+01  1.8649792e+01 -7.2390451e+00\n",
      "  1.9055927e+01 -6.9510584e+00  7.8944197e+00 -2.3149517e-01\n",
      "  1.6038506e+01  2.0595766e+01  3.6895950e+00 -1.6254744e+01\n",
      "  5.7734818e+00 -7.7445064e+00  1.2989433e+00  1.7302127e+00\n",
      " -3.8753307e+00  1.6167580e+01  2.0073853e+01  1.3620421e-02\n",
      " -1.3135583e+00 -6.3192005e+00  2.6174471e+00 -1.3415261e+01\n",
      "  9.1029148e+00 -7.2971597e+00  2.0953798e+00 -3.3676958e+00\n",
      "  1.1960089e+01 -1.0310643e+00  1.5022464e+01  1.5789728e+01\n",
      " -7.4970016e+00 -1.8487194e+01 -4.6816664e+00 -1.6314787e+01\n",
      "  2.1475365e+01 -1.7321096e+01  5.6668816e+00 -9.6095400e+00\n",
      "  6.9921503e+00  4.8322067e+01  1.6678339e+00  8.4431353e+00\n",
      " -5.4769816e+00  5.3083458e+00 -3.0388346e+01  1.0839544e+01\n",
      " -4.2312727e+00 -9.0652394e-01 -1.2430786e+01 -1.3393086e+00\n",
      " -1.3576393e+00  1.9176602e+00  9.2402058e+00  8.8690825e+00\n",
      "  7.2549915e+00 -8.4851065e+00 -1.7005129e+01 -1.2313285e+01\n",
      " -1.0266951e+01  2.9009581e+01  7.2232199e-01  8.8525496e+00\n",
      " -6.5427380e+00  1.5991087e+01  5.7973447e+00 -5.7398262e+00\n",
      " -7.9773483e+00 -1.3046154e+01  1.5803808e+01 -1.4417223e+00\n",
      "  1.6075565e+01  1.2978447e+01  3.3697824e+00  6.9538941e+00\n",
      " -8.0806077e-01 -6.0773540e+00  1.1499772e+00 -1.7608801e+01\n",
      "  6.7541542e+00 -3.0494719e+00  1.8702955e+01 -1.9049835e+01\n",
      " -1.3235629e+01  1.3887532e+01  1.5738546e+01 -3.1357932e+00\n",
      "  3.6679411e+00  3.8071346e+00 -1.0549992e+01 -5.1302123e+00\n",
      "  1.9935825e+01 -1.0946370e+01  5.4045625e+00  3.1562323e+01\n",
      "  3.5028507e+01  1.8296408e+01  8.5225019e+00  7.1980572e-01\n",
      " -9.9217968e+00  2.6917768e+01 -2.1594679e+01 -1.7608936e+01\n",
      "  2.6652428e+01  5.7485276e-01  2.5415835e+00  7.0045834e+00\n",
      "  1.5521575e+01  1.1126317e+01 -3.7042755e+01 -2.7771261e-01\n",
      " -2.6016798e+00 -1.2350355e+01  5.4474955e+00  2.1733212e+01\n",
      "  5.2810246e+01  1.0126377e+01 -4.6351953e+00 -1.6240570e+01\n",
      " -1.3962959e+00 -1.5631848e+01  4.2494602e+00  2.1355799e+01\n",
      "  7.5255901e-01 -3.1276783e+01 -1.1888094e+01 -1.9745483e+00\n",
      "  3.8819406e+00  5.4424257e+00  1.2021749e+01  1.8653986e+01\n",
      "  4.9888778e+00 -1.5963809e+01  1.4442970e+01  3.7835743e+01\n",
      "  3.5537260e+00 -8.3173065e+00  3.2548195e+01 -1.0796233e+00\n",
      "  1.5195210e+00 -1.2234842e+01 -1.3317556e+00 -1.2452009e+01\n",
      "  1.7327417e+01  1.8147416e+00 -5.6118557e+01 -3.2439896e+01\n",
      " -8.4109802e+00 -2.5561786e+00  3.5482838e+00 -2.4318956e+01\n",
      "  9.1433029e+00 -1.6428423e+01 -1.0262489e+01  8.6828699e+00\n",
      "  8.2646208e+00 -8.9237995e+00 -1.2996662e+01  9.0950608e-02\n",
      "  6.3494229e+00  3.5275841e+01  2.7871901e+01 -5.9966655e+00\n",
      "  9.0934439e+00 -1.6198586e+00 -1.0147984e+01 -6.9593058e+00\n",
      "  5.8541818e+00 -6.7134752e+00  8.9876213e+00  3.4940403e+01\n",
      " -1.9035696e+01  1.7800447e+01  5.9283133e+00 -6.8751349e+00\n",
      "  1.6094513e+01  6.6997848e+00 -6.0561237e+00 -2.6602359e+00\n",
      "  1.3822027e+01  1.0369216e+01  1.0201383e+01  1.8490955e+00\n",
      " -2.0029249e+01 -1.0346444e+01  6.4405489e+00  2.6505884e+01\n",
      " -1.8623144e+01  3.0260110e+00 -2.2879545e+01 -4.5087485e+00\n",
      " -9.6478710e+00 -4.6823959e+00 -2.8127792e+00  1.8338053e+00\n",
      " -1.0838606e+01  4.5012107e-01 -3.3509884e+00 -6.2608328e+00\n",
      " -1.1893240e+01 -2.1393559e+00 -9.4894552e+00  2.0755486e+00\n",
      " -1.0042599e+01 -2.8125231e+01 -2.0134954e+00  9.8193340e+00\n",
      "  1.2703898e+01  2.4807961e+01  2.0070566e+01 -3.4021042e+01\n",
      " -1.1940116e+00  2.8868358e+00  1.4605454e+01 -2.0630987e+01\n",
      "  2.6199560e+01 -8.2598629e+00  1.3482507e+01 -4.6950703e+00\n",
      " -1.8356691e+01 -1.1165209e+01  9.1632605e-01  2.2987110e+01\n",
      "  1.3929014e+01  1.0665464e+01 -3.8956115e+00  4.3613383e-01\n",
      "  9.5324411e+00  3.9947971e+01 -2.6844862e+01  1.1691344e+01\n",
      "  1.9404196e+01  2.4920833e+00  2.0607391e+01 -1.2221563e+01\n",
      " -2.0098337e+01 -1.2577614e+01 -7.4485846e+00  8.8768607e-01\n",
      " -2.3627450e+00 -2.8738346e+01  1.9338436e+00 -1.1262287e+01\n",
      "  8.0327177e+00 -1.0186836e+01  9.5761747e+00 -3.9716072e+01\n",
      "  1.0129468e+01 -2.5219057e+01 -1.1007864e-01  1.3046765e+01\n",
      " -1.8396653e+00  6.5735593e+00 -9.1200275e+00  1.7442728e+01\n",
      " -1.1110860e+01 -2.0633745e+01  2.3554146e+01  4.0938654e+00\n",
      " -3.2150722e-01  7.9177175e+00 -1.8816763e+01 -8.8205442e+00\n",
      "  3.4922135e+00  3.4681418e+00 -6.6958985e+00  1.6635948e+01\n",
      " -2.1635920e+01 -2.2665129e+00 -9.4575300e+00 -1.5217300e+01\n",
      " -1.3158707e+01 -6.4017811e+00  7.0623727e+00 -4.5733309e+00\n",
      "  1.8180256e+00  1.0960348e+01  7.6760995e-01 -9.7601690e+00\n",
      "  2.9836831e+00 -1.1833036e+01 -2.1659338e+00 -1.0352484e+01\n",
      " -3.8880355e+00 -6.5630407e+00  1.4093237e+01 -2.6645323e+01\n",
      "  1.3767019e+01  1.7828335e+01 -1.7201592e+00 -1.4162722e+01\n",
      "  5.1926918e+00 -7.1811919e+00  7.6635652e+00  1.4886869e+01\n",
      " -1.4537289e+01  4.1172304e+00 -1.8848574e+01  1.7870872e+01\n",
      "  1.3488328e+01  7.2497261e-01 -2.0481846e+01 -3.5575531e+00\n",
      "  3.2170675e+00 -5.8216062e+00  1.9334150e+01 -1.7659065e+01\n",
      "  2.8098867e+01  8.2853365e+00 -1.4887262e+01  5.6087847e+00\n",
      " -1.0404639e+00  7.1678777e+00  6.3350635e+00  1.7523827e+01\n",
      " -1.0002766e+01  4.5481572e+00  1.8266810e+00 -9.2446337e+00\n",
      "  4.1327677e+00  4.6477275e+00  8.4848881e-01  1.4244991e+01\n",
      " -3.0296943e+00 -6.8624228e-01  2.1863616e+00  2.5551899e+01\n",
      "  5.2559662e+00 -2.0400763e+01  7.1954620e-01  1.6604227e+01\n",
      "  4.5456371e+00  2.4198351e+00  7.5367856e+00 -1.0374127e+01\n",
      " -1.2845200e+01  1.0043928e+01  1.9810892e+01 -7.2763915e+00\n",
      "  1.8372316e+01 -1.9171183e+01 -6.9485369e+00 -1.9032223e+00\n",
      "  9.7197342e+00  8.9446840e+00 -1.5492025e+01  3.0295786e+01\n",
      " -1.0317019e+00  1.0763773e+01  8.5674316e-01  6.2780280e+00\n",
      "  1.4639151e+01 -2.3965936e+00 -3.6330514e+00 -1.6206497e+01\n",
      " -1.2197407e+01 -3.5689659e+01  9.1363220e+00 -2.6303242e+01\n",
      " -2.2029583e+01  3.3295679e-01  3.3126381e+01  1.2860477e+01\n",
      "  1.6860106e+00 -2.5808012e+01 -3.0465064e+00  8.8095551e+00\n",
      " -2.2984344e+01  7.4917083e+00  8.8967152e+00 -1.5622833e+00\n",
      "  1.5054404e+00 -7.3045883e+00 -1.7998104e+00  1.7606081e+01\n",
      "  8.3896761e+00 -1.0469958e+00 -9.5450401e+00  9.1448479e+00\n",
      "  7.9449935e+00 -3.6580744e+00 -1.7449989e+01  3.2114692e+00\n",
      "  6.8270464e+00  1.6195065e+01  3.6999784e+00 -3.7798908e+00\n",
      " -8.3716459e+00]\n"
     ]
    }
   ],
   "source": [
    "print(f\"First validation embedding shape: {val_embeddings[1]}\")"
   ]
  },
  {
   "cell_type": "code",
   "execution_count": 20,
   "id": "1fe6fb38",
   "metadata": {
    "execution": {
     "iopub.execute_input": "2025-01-14T03:44:32.328862Z",
     "iopub.status.busy": "2025-01-14T03:44:32.328222Z",
     "iopub.status.idle": "2025-01-14T03:44:32.339859Z",
     "shell.execute_reply": "2025-01-14T03:44:32.338186Z"
    },
    "papermill": {
     "duration": 0.12389,
     "end_time": "2025-01-14T03:44:32.342299",
     "exception": false,
     "start_time": "2025-01-14T03:44:32.218409",
     "status": "completed"
    },
    "tags": []
   },
   "outputs": [
    {
     "data": {
      "text/plain": [
       "521"
      ]
     },
     "execution_count": 20,
     "metadata": {},
     "output_type": "execute_result"
    }
   ],
   "source": [
    "len(val_embeddings[0])"
   ]
  },
  {
   "cell_type": "code",
   "execution_count": 21,
   "id": "da10d692",
   "metadata": {
    "execution": {
     "iopub.execute_input": "2025-01-14T03:44:32.574944Z",
     "iopub.status.busy": "2025-01-14T03:44:32.573162Z",
     "iopub.status.idle": "2025-01-14T03:44:32.580547Z",
     "shell.execute_reply": "2025-01-14T03:44:32.579372Z"
    },
    "papermill": {
     "duration": 0.132854,
     "end_time": "2025-01-14T03:44:32.583091",
     "exception": false,
     "start_time": "2025-01-14T03:44:32.450237",
     "status": "completed"
    },
    "tags": []
   },
   "outputs": [],
   "source": [
    "# import numpy as np\n",
    "\n",
    "# # Disable truncation\n",
    "# np.set_printoptions(threshold=np.inf, linewidth=1000)\n",
    "\n",
    "# for i, emb in enumerate(val_embeddings):\n",
    "#     print(f\"Full Embedding {i}:\\n{emb}\")\n"
   ]
  },
  {
   "cell_type": "code",
   "execution_count": 22,
   "id": "f39c21ea",
   "metadata": {
    "execution": {
     "iopub.execute_input": "2025-01-14T03:44:32.811439Z",
     "iopub.status.busy": "2025-01-14T03:44:32.810972Z",
     "iopub.status.idle": "2025-01-14T03:44:35.654386Z",
     "shell.execute_reply": "2025-01-14T03:44:35.652848Z"
    },
    "papermill": {
     "duration": 2.961917,
     "end_time": "2025-01-14T03:44:35.657403",
     "exception": false,
     "start_time": "2025-01-14T03:44:32.695486",
     "status": "completed"
    },
    "tags": []
   },
   "outputs": [
    {
     "name": "stdout",
     "output_type": "stream",
     "text": [
      "Train embeddings saved to ./train_embeddings.json\n",
      "Validation embeddings saved to ./val_embeddings.json\n"
     ]
    }
   ],
   "source": [
    "import json\n",
    "import numpy as np\n",
    "\n",
    "# Ensure embeddings are numpy arrays\n",
    "train_embeddings = np.array(train_embeddings)\n",
    "val_embeddings = np.array(val_embeddings)\n",
    "\n",
    "# Paths for saving the JSON files\n",
    "train_embeddings_file = \"./train_embeddings.json\"\n",
    "val_embeddings_file = \"./val_embeddings.json\"\n",
    "\n",
    "# Create dictionaries with file names as keys and embeddings as values\n",
    "train_embedding_dict = {train_file_name: embedding.tolist() for train_file_name, embedding in zip(loaded_train_file_names, train_embeddings)}\n",
    "val_embedding_dict = {val_file_name: embedding.tolist() for val_file_name, embedding in zip(loaded_val_file_names, val_embeddings)}\n",
    "\n",
    "# Save training embeddings to JSON\n",
    "with open(train_embeddings_file, \"w\") as f:\n",
    "    json.dump(train_embedding_dict, f)\n",
    "\n",
    "# Save validation embeddings to JSON\n",
    "with open(val_embeddings_file, \"w\") as f:\n",
    "    json.dump(val_embedding_dict, f)\n",
    "\n",
    "print(f\"Train embeddings saved to {train_embeddings_file}\")\n",
    "print(f\"Validation embeddings saved to {val_embeddings_file}\")"
   ]
  },
  {
   "cell_type": "code",
   "execution_count": 23,
   "id": "9371e4d4",
   "metadata": {
    "execution": {
     "iopub.execute_input": "2025-01-14T03:44:35.940103Z",
     "iopub.status.busy": "2025-01-14T03:44:35.939413Z",
     "iopub.status.idle": "2025-01-14T03:44:36.584788Z",
     "shell.execute_reply": "2025-01-14T03:44:36.583153Z"
    },
    "papermill": {
     "duration": 0.763191,
     "end_time": "2025-01-14T03:44:36.592622",
     "exception": false,
     "start_time": "2025-01-14T03:44:35.829431",
     "status": "completed"
    },
    "tags": []
   },
   "outputs": [
    {
     "name": "stdout",
     "output_type": "stream",
     "text": [
      "                                  file_name  \\\n",
      "0  query_1952_2024-12-03-21.34.02.429279.pt   \n",
      "1   query_993_2024-12-03-21.10.08.618148.pt   \n",
      "2  query_1591_2024-12-03-21.23.17.861948.pt   \n",
      "3   query_793_2024-12-03-21.05.49.462784.pt   \n",
      "4  query_2262_2024-12-03-21.44.00.539251.pt   \n",
      "\n",
      "                                           embedding  \n",
      "0  [-6.322105407714844, -1.2161089181900024, 0.43...  \n",
      "1  [-7.167495250701904, 1.262258529663086, -1.407...  \n",
      "2  [-6.322115421295166, -1.2161129713058472, 0.43...  \n",
      "3  [-7.363716125488281, -0.7742083072662354, 1.37...  \n",
      "4  [1.0355658531188965, 6.791748523712158, -3.595...  \n"
     ]
    },
    {
     "name": "stdout",
     "output_type": "stream",
     "text": [
      "Validation embeddings saved to val_embeddings.csv\n"
     ]
    }
   ],
   "source": [
    "import pandas as pd\n",
    "import json\n",
    "\n",
    "# Path to the JSON file\n",
    "val_embeddings_file = \"./val_embeddings.json\"  # Replace with train_embeddings.json for training data\n",
    "\n",
    "# Load the JSON file\n",
    "with open(val_embeddings_file, \"r\") as f:\n",
    "    embeddings_data = json.load(f)\n",
    "\n",
    "# Convert JSON data to a DataFrame\n",
    "val_embeddings_df = pd.DataFrame({\n",
    "    \"file_name\": list(embeddings_data.keys()),\n",
    "    \"embedding\": list(embeddings_data.values())\n",
    "})\n",
    "\n",
    "# Display the DataFrame\n",
    "print(val_embeddings_df.head())\n",
    "\n",
    "# Optionally save it to a CSV\n",
    "val_embeddings_df.to_csv(\"val_embeddings.csv\", index=False)\n",
    "print(\"Validation embeddings saved to val_embeddings.csv\")\n"
   ]
  },
  {
   "cell_type": "code",
   "execution_count": null,
   "id": "2705a237",
   "metadata": {
    "papermill": {
     "duration": 0.104753,
     "end_time": "2025-01-14T03:44:36.832138",
     "exception": false,
     "start_time": "2025-01-14T03:44:36.727385",
     "status": "completed"
    },
    "tags": []
   },
   "outputs": [],
   "source": []
  }
 ],
 "metadata": {
  "kernelspec": {
   "display_name": ".venv",
   "language": "python",
   "name": "python3"
  },
  "language_info": {
   "codemirror_mode": {
    "name": "ipython",
    "version": 3
   },
   "file_extension": ".py",
   "mimetype": "text/x-python",
   "name": "python",
   "nbconvert_exporter": "python",
   "pygments_lexer": "ipython3",
   "version": "3.12.3"
  },
  "papermill": {
   "default_parameters": {},
   "duration": 1251.310466,
   "end_time": "2025-01-14T03:44:38.917412",
   "environment_variables": {},
   "exception": null,
   "input_path": "step2-embedding.ipynb",
   "output_path": "step2-embedding-output.ipynb",
   "parameters": {},
   "start_time": "2025-01-14T03:23:47.606946",
   "version": "2.6.0"
  }
 },
 "nbformat": 4,
 "nbformat_minor": 5
}