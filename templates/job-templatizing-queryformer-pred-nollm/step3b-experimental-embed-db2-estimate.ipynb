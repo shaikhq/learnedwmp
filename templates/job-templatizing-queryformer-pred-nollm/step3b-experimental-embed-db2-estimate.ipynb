{
 "cells": [
  {
   "cell_type": "markdown",
   "metadata": {},
   "source": [
    "# Create a single query model using embeddings"
   ]
  },
  {
   "cell_type": "code",
   "execution_count": 1,
   "metadata": {},
   "outputs": [
    {
     "name": "stderr",
     "output_type": "stream",
     "text": [
      "2025-02-06 20:12:21.194255: I tensorflow/core/platform/cpu_feature_guard.cc:210] This TensorFlow binary is optimized to use available CPU instructions in performance-critical operations.\n",
      "To enable the following instructions: AVX2 FMA, in other operations, rebuild TensorFlow with the appropriate compiler flags.\n"
     ]
    }
   ],
   "source": [
    "import pandas as pd\n",
    "import numpy as np\n",
    "from sklearn.cluster import KMeans\n",
    "from sklearn.preprocessing import MinMaxScaler\n",
    "from sklearn.linear_model import LinearRegression\n",
    "from sklearn.metrics import mean_squared_error\n",
    "from scipy.stats import loguniform\n",
    "import matplotlib.pyplot as plt\n",
    "from sklearn.linear_model import Ridge\n",
    "from sklearn.model_selection import RepeatedKFold\n",
    "from sklearn.tree import DecisionTreeRegressor\n",
    "from sklearn.ensemble import RandomForestRegressor\n",
    "import xgboost as xgb\n",
    "from sklearn import neural_network\n",
    "import seaborn as sns\n",
    "import matplotlib.cm as cm\n",
    "from tensorflow.keras.models import Sequential\n",
    "from tensorflow.keras.layers import Dense, Dropout \n",
    "from tensorflow.keras.layers import BatchNormalization \n",
    "from tensorflow.keras.callbacks import ModelCheckpoint # new!\n",
    "import os # new!\n",
    "# import seaborn as sns\n",
    "# from tensorflow.keras.models import Sequential\n",
    "# from tensorflow.keras.layers import Dense, Dropout \n",
    "# from tensorflow.keras.layers import BatchNormalization \n",
    "# from tensorflow.keras.callbacks import ModelCheckpoint # new!\n"
   ]
  },
  {
   "cell_type": "code",
   "execution_count": 2,
   "metadata": {},
   "outputs": [],
   "source": [
    "batch_size = 10\n",
    "box_plot_title = 'Memory Estimation Error (MB)'\n",
    "pd.set_option('display.max_columns', None)\n",
    "cluster_set = [5,10,15,20,25,30,35,40,45,50,55,60,65,70,75,80,85,90,95,100]"
   ]
  },
  {
   "cell_type": "code",
   "execution_count": null,
   "metadata": {},
   "outputs": [
    {
     "data": {
      "text/html": [
       "<div>\n",
       "<style scoped>\n",
       "    .dataframe tbody tr th:only-of-type {\n",
       "        vertical-align: middle;\n",
       "    }\n",
       "\n",
       "    .dataframe tbody tr th {\n",
       "        vertical-align: top;\n",
       "    }\n",
       "\n",
       "    .dataframe thead th {\n",
       "        text-align: right;\n",
       "    }\n",
       "</style>\n",
       "<table border=\"1\" class=\"dataframe\">\n",
       "  <thead>\n",
       "    <tr style=\"text-align: right;\">\n",
       "      <th></th>\n",
       "      <th>QUERYID</th>\n",
       "      <th>APPL_ID</th>\n",
       "      <th>UOW_ID</th>\n",
       "      <th>ACTIVITY_ID</th>\n",
       "      <th>EXPLAIN_TIME</th>\n",
       "      <th>SORT_SHRHEAP_TOP</th>\n",
       "      <th>Db2_ESTIMATE</th>\n",
       "      <th>QUERY</th>\n",
       "    </tr>\n",
       "  </thead>\n",
       "  <tbody>\n",
       "    <tr>\n",
       "      <th>0</th>\n",
       "      <td>1</td>\n",
       "      <td>*LOCAL.db2inst1.241204044349</td>\n",
       "      <td>4</td>\n",
       "      <td>1</td>\n",
       "      <td>2024-12-03-20.43.44.200877</td>\n",
       "      <td>66844.0</td>\n",
       "      <td>66835</td>\n",
       "      <td>SELECT cn.name AS company_name, lt.link AS li...</td>\n",
       "    </tr>\n",
       "    <tr>\n",
       "      <th>1</th>\n",
       "      <td>2</td>\n",
       "      <td>*LOCAL.db2inst1.241204044349</td>\n",
       "      <td>12</td>\n",
       "      <td>1</td>\n",
       "      <td>2024-12-03-20.43.45.954590</td>\n",
       "      <td>66860.0</td>\n",
       "      <td>66835</td>\n",
       "      <td>SELECT cn.name AS company_name, lt.link AS li...</td>\n",
       "    </tr>\n",
       "    <tr>\n",
       "      <th>2</th>\n",
       "      <td>3</td>\n",
       "      <td>*LOCAL.db2inst1.241204044349</td>\n",
       "      <td>20</td>\n",
       "      <td>1</td>\n",
       "      <td>2024-12-03-20.43.47.182565</td>\n",
       "      <td>66821.0</td>\n",
       "      <td>66837</td>\n",
       "      <td>SELECT cn.name AS company_name, lt.link AS li...</td>\n",
       "    </tr>\n",
       "    <tr>\n",
       "      <th>3</th>\n",
       "      <td>4</td>\n",
       "      <td>*LOCAL.db2inst1.241204044349</td>\n",
       "      <td>28</td>\n",
       "      <td>1</td>\n",
       "      <td>2024-12-03-20.43.48.420714</td>\n",
       "      <td>66825.0</td>\n",
       "      <td>66835</td>\n",
       "      <td>SELECT cn.name AS company_name, lt.link AS li...</td>\n",
       "    </tr>\n",
       "    <tr>\n",
       "      <th>4</th>\n",
       "      <td>5</td>\n",
       "      <td>*LOCAL.db2inst1.241204044349</td>\n",
       "      <td>36</td>\n",
       "      <td>1</td>\n",
       "      <td>2024-12-03-20.43.51.205244</td>\n",
       "      <td>38663.0</td>\n",
       "      <td>38565</td>\n",
       "      <td>SELECT cn.name AS company_name, lt.link AS li...</td>\n",
       "    </tr>\n",
       "  </tbody>\n",
       "</table>\n",
       "</div>"
      ],
      "text/plain": [
       "   QUERYID                       APPL_ID  UOW_ID  ACTIVITY_ID  \\\n",
       "0        1  *LOCAL.db2inst1.241204044349       4            1   \n",
       "1        2  *LOCAL.db2inst1.241204044349      12            1   \n",
       "2        3  *LOCAL.db2inst1.241204044349      20            1   \n",
       "3        4  *LOCAL.db2inst1.241204044349      28            1   \n",
       "4        5  *LOCAL.db2inst1.241204044349      36            1   \n",
       "\n",
       "                 EXPLAIN_TIME  SORT_SHRHEAP_TOP  Db2_ESTIMATE  \\\n",
       "0  2024-12-03-20.43.44.200877           66844.0         66835   \n",
       "1  2024-12-03-20.43.45.954590           66860.0         66835   \n",
       "2  2024-12-03-20.43.47.182565           66821.0         66837   \n",
       "3  2024-12-03-20.43.48.420714           66825.0         66835   \n",
       "4  2024-12-03-20.43.51.205244           38663.0         38565   \n",
       "\n",
       "                                               QUERY  \n",
       "0   SELECT cn.name AS company_name, lt.link AS li...  \n",
       "1   SELECT cn.name AS company_name, lt.link AS li...  \n",
       "2   SELECT cn.name AS company_name, lt.link AS li...  \n",
       "3   SELECT cn.name AS company_name, lt.link AS li...  \n",
       "4   SELECT cn.name AS company_name, lt.link AS li...  "
      ]
     },
     "execution_count": 3,
     "metadata": {},
     "output_type": "execute_result"
    }
   ],
   "source": [
    "import pandas as pd\n",
    "\n",
    "# Read the CSV file into a DataFrame\n",
    "df_success = pd.read_csv('utils/success_db2_est.csv')\n",
    "\n",
    "# Display the first few rows to verify\n",
    "df_success.head()\n"
   ]
  },
  {
   "cell_type": "code",
   "execution_count": 4,
   "metadata": {},
   "outputs": [
    {
     "data": {
      "text/plain": [
       "(2332, 8)"
      ]
     },
     "execution_count": 4,
     "metadata": {},
     "output_type": "execute_result"
    }
   ],
   "source": [
    "df_success.shape"
   ]
  },
  {
   "cell_type": "markdown",
   "metadata": {},
   "source": [
    "# Reading validation set"
   ]
  },
  {
   "cell_type": "code",
   "execution_count": 5,
   "metadata": {},
   "outputs": [
    {
     "name": "stdout",
     "output_type": "stream",
     "text": [
      "                                  file_name  \\\n",
      "0  query_1952_2024-12-03-21.34.02.429279.pt   \n",
      "1   query_993_2024-12-03-21.10.08.618148.pt   \n",
      "2  query_1591_2024-12-03-21.23.17.861948.pt   \n",
      "3   query_793_2024-12-03-21.05.49.462784.pt   \n",
      "4  query_2262_2024-12-03-21.44.00.539251.pt   \n",
      "\n",
      "                                           embedding  \n",
      "0  [-6.322105407714844, -1.2161089181900024, 0.43...  \n",
      "1  [-7.167495250701904, 1.262258529663086, -1.407...  \n",
      "2  [-6.322115421295166, -1.2161129713058472, 0.43...  \n",
      "3  [-7.363716125488281, -0.7742083072662354, 1.37...  \n",
      "4  [1.0355658531188965, 6.791748523712158, -3.595...  \n"
     ]
    }
   ],
   "source": [
    "import json\n",
    "import pandas as pd\n",
    "\n",
    "# Path to the JSON file\n",
    "val_embeddings_path = \"val_embeddings.json\"\n",
    "\n",
    "# Load the JSON file\n",
    "with open(val_embeddings_path, \"r\") as f:\n",
    "    val_embeddings_data = json.load(f)\n",
    "\n",
    "# Convert to DataFrame\n",
    "val_embeddings_df = pd.DataFrame({\n",
    "    \"file_name\": list(val_embeddings_data.keys()),\n",
    "    \"embedding\": list(val_embeddings_data.values())\n",
    "})\n",
    "\n",
    "# Display the DataFrame\n",
    "print(val_embeddings_df.head())\n"
   ]
  },
  {
   "cell_type": "code",
   "execution_count": 6,
   "metadata": {},
   "outputs": [
    {
     "data": {
      "text/html": [
       "<div>\n",
       "<style scoped>\n",
       "    .dataframe tbody tr th:only-of-type {\n",
       "        vertical-align: middle;\n",
       "    }\n",
       "\n",
       "    .dataframe tbody tr th {\n",
       "        vertical-align: top;\n",
       "    }\n",
       "\n",
       "    .dataframe thead th {\n",
       "        text-align: right;\n",
       "    }\n",
       "</style>\n",
       "<table border=\"1\" class=\"dataframe\">\n",
       "  <thead>\n",
       "    <tr style=\"text-align: right;\">\n",
       "      <th></th>\n",
       "      <th>file_name</th>\n",
       "      <th>embedding</th>\n",
       "    </tr>\n",
       "  </thead>\n",
       "  <tbody>\n",
       "    <tr>\n",
       "      <th>0</th>\n",
       "      <td>query_1952_2024-12-03-21.34.02.429279.pt</td>\n",
       "      <td>[-6.322105407714844, -1.2161089181900024, 0.43...</td>\n",
       "    </tr>\n",
       "    <tr>\n",
       "      <th>1</th>\n",
       "      <td>query_993_2024-12-03-21.10.08.618148.pt</td>\n",
       "      <td>[-7.167495250701904, 1.262258529663086, -1.407...</td>\n",
       "    </tr>\n",
       "    <tr>\n",
       "      <th>2</th>\n",
       "      <td>query_1591_2024-12-03-21.23.17.861948.pt</td>\n",
       "      <td>[-6.322115421295166, -1.2161129713058472, 0.43...</td>\n",
       "    </tr>\n",
       "    <tr>\n",
       "      <th>3</th>\n",
       "      <td>query_793_2024-12-03-21.05.49.462784.pt</td>\n",
       "      <td>[-7.363716125488281, -0.7742083072662354, 1.37...</td>\n",
       "    </tr>\n",
       "    <tr>\n",
       "      <th>4</th>\n",
       "      <td>query_2262_2024-12-03-21.44.00.539251.pt</td>\n",
       "      <td>[1.0355658531188965, 6.791748523712158, -3.595...</td>\n",
       "    </tr>\n",
       "  </tbody>\n",
       "</table>\n",
       "</div>"
      ],
      "text/plain": [
       "                                  file_name  \\\n",
       "0  query_1952_2024-12-03-21.34.02.429279.pt   \n",
       "1   query_993_2024-12-03-21.10.08.618148.pt   \n",
       "2  query_1591_2024-12-03-21.23.17.861948.pt   \n",
       "3   query_793_2024-12-03-21.05.49.462784.pt   \n",
       "4  query_2262_2024-12-03-21.44.00.539251.pt   \n",
       "\n",
       "                                           embedding  \n",
       "0  [-6.322105407714844, -1.2161089181900024, 0.43...  \n",
       "1  [-7.167495250701904, 1.262258529663086, -1.407...  \n",
       "2  [-6.322115421295166, -1.2161129713058472, 0.43...  \n",
       "3  [-7.363716125488281, -0.7742083072662354, 1.37...  \n",
       "4  [1.0355658531188965, 6.791748523712158, -3.595...  "
      ]
     },
     "execution_count": 6,
     "metadata": {},
     "output_type": "execute_result"
    }
   ],
   "source": [
    "val_embeddings_df.head()"
   ]
  },
  {
   "cell_type": "code",
   "execution_count": 7,
   "metadata": {},
   "outputs": [],
   "source": [
    "# Extract QUERYID and EXPLAIN_TIME\n",
    "val_embeddings_df[\"QUERYID\"] = val_embeddings_df[\"file_name\"].apply(lambda x: x.split(\"_\")[1])\n",
    "val_embeddings_df[\"EXPLAIN_TIME\"] = val_embeddings_df[\"file_name\"].apply(lambda x: x.split(\"_\")[2].replace(\".pt\", \"\"))\n",
    "\n",
    "# Convert QUERYID to integer (if needed)\n",
    "val_embeddings_df[\"QUERYID\"] = val_embeddings_df[\"QUERYID\"].astype(int)"
   ]
  },
  {
   "cell_type": "code",
   "execution_count": 8,
   "metadata": {},
   "outputs": [
    {
     "data": {
      "text/html": [
       "<div>\n",
       "<style scoped>\n",
       "    .dataframe tbody tr th:only-of-type {\n",
       "        vertical-align: middle;\n",
       "    }\n",
       "\n",
       "    .dataframe tbody tr th {\n",
       "        vertical-align: top;\n",
       "    }\n",
       "\n",
       "    .dataframe thead th {\n",
       "        text-align: right;\n",
       "    }\n",
       "</style>\n",
       "<table border=\"1\" class=\"dataframe\">\n",
       "  <thead>\n",
       "    <tr style=\"text-align: right;\">\n",
       "      <th></th>\n",
       "      <th>file_name</th>\n",
       "      <th>embedding</th>\n",
       "      <th>QUERYID</th>\n",
       "      <th>EXPLAIN_TIME</th>\n",
       "    </tr>\n",
       "  </thead>\n",
       "  <tbody>\n",
       "    <tr>\n",
       "      <th>0</th>\n",
       "      <td>query_1952_2024-12-03-21.34.02.429279.pt</td>\n",
       "      <td>[-6.322105407714844, -1.2161089181900024, 0.43...</td>\n",
       "      <td>1952</td>\n",
       "      <td>2024-12-03-21.34.02.429279</td>\n",
       "    </tr>\n",
       "    <tr>\n",
       "      <th>1</th>\n",
       "      <td>query_993_2024-12-03-21.10.08.618148.pt</td>\n",
       "      <td>[-7.167495250701904, 1.262258529663086, -1.407...</td>\n",
       "      <td>993</td>\n",
       "      <td>2024-12-03-21.10.08.618148</td>\n",
       "    </tr>\n",
       "    <tr>\n",
       "      <th>2</th>\n",
       "      <td>query_1591_2024-12-03-21.23.17.861948.pt</td>\n",
       "      <td>[-6.322115421295166, -1.2161129713058472, 0.43...</td>\n",
       "      <td>1591</td>\n",
       "      <td>2024-12-03-21.23.17.861948</td>\n",
       "    </tr>\n",
       "    <tr>\n",
       "      <th>3</th>\n",
       "      <td>query_793_2024-12-03-21.05.49.462784.pt</td>\n",
       "      <td>[-7.363716125488281, -0.7742083072662354, 1.37...</td>\n",
       "      <td>793</td>\n",
       "      <td>2024-12-03-21.05.49.462784</td>\n",
       "    </tr>\n",
       "    <tr>\n",
       "      <th>4</th>\n",
       "      <td>query_2262_2024-12-03-21.44.00.539251.pt</td>\n",
       "      <td>[1.0355658531188965, 6.791748523712158, -3.595...</td>\n",
       "      <td>2262</td>\n",
       "      <td>2024-12-03-21.44.00.539251</td>\n",
       "    </tr>\n",
       "  </tbody>\n",
       "</table>\n",
       "</div>"
      ],
      "text/plain": [
       "                                  file_name  \\\n",
       "0  query_1952_2024-12-03-21.34.02.429279.pt   \n",
       "1   query_993_2024-12-03-21.10.08.618148.pt   \n",
       "2  query_1591_2024-12-03-21.23.17.861948.pt   \n",
       "3   query_793_2024-12-03-21.05.49.462784.pt   \n",
       "4  query_2262_2024-12-03-21.44.00.539251.pt   \n",
       "\n",
       "                                           embedding  QUERYID  \\\n",
       "0  [-6.322105407714844, -1.2161089181900024, 0.43...     1952   \n",
       "1  [-7.167495250701904, 1.262258529663086, -1.407...      993   \n",
       "2  [-6.322115421295166, -1.2161129713058472, 0.43...     1591   \n",
       "3  [-7.363716125488281, -0.7742083072662354, 1.37...      793   \n",
       "4  [1.0355658531188965, 6.791748523712158, -3.595...     2262   \n",
       "\n",
       "                 EXPLAIN_TIME  \n",
       "0  2024-12-03-21.34.02.429279  \n",
       "1  2024-12-03-21.10.08.618148  \n",
       "2  2024-12-03-21.23.17.861948  \n",
       "3  2024-12-03-21.05.49.462784  \n",
       "4  2024-12-03-21.44.00.539251  "
      ]
     },
     "execution_count": 8,
     "metadata": {},
     "output_type": "execute_result"
    }
   ],
   "source": [
    "val_embeddings_df.head()"
   ]
  },
  {
   "cell_type": "code",
   "execution_count": null,
   "metadata": {},
   "outputs": [
    {
     "name": "stdout",
     "output_type": "stream",
     "text": [
      "                                  file_name  \\\n",
      "0  query_1952_2024-12-03-21.34.02.429279.pt   \n",
      "1   query_993_2024-12-03-21.10.08.618148.pt   \n",
      "2  query_1591_2024-12-03-21.23.17.861948.pt   \n",
      "3   query_793_2024-12-03-21.05.49.462784.pt   \n",
      "4  query_2262_2024-12-03-21.44.00.539251.pt   \n",
      "\n",
      "                                           embedding  QUERYID  \\\n",
      "0  [-6.322105407714844, -1.2161089181900024, 0.43...     1952   \n",
      "1  [-7.167495250701904, 1.262258529663086, -1.407...      993   \n",
      "2  [-6.322115421295166, -1.2161129713058472, 0.43...     1591   \n",
      "3  [-7.363716125488281, -0.7742083072662354, 1.37...      793   \n",
      "4  [1.0355658531188965, 6.791748523712158, -3.595...     2262   \n",
      "\n",
      "                 EXPLAIN_TIME                       APPL_ID  UOW_ID  \\\n",
      "0  2024-12-03-21.34.02.429279  *LOCAL.db2inst1.241204044349   15612   \n",
      "1  2024-12-03-21.10.08.618148  *LOCAL.db2inst1.241204044349    7940   \n",
      "2  2024-12-03-21.23.17.861948  *LOCAL.db2inst1.241204044349   12724   \n",
      "3  2024-12-03-21.05.49.462784  *LOCAL.db2inst1.241204044349    6340   \n",
      "4  2024-12-03-21.44.00.539251  *LOCAL.db2inst1.241204044349   18092   \n",
      "\n",
      "   ACTIVITY_ID  SORT_SHRHEAP_TOP  Db2_ESTIMATE  \\\n",
      "0            1           35153.0         37907   \n",
      "1            1            9951.0         18834   \n",
      "2            1           38815.0         38047   \n",
      "3            1           14175.0         23455   \n",
      "4            1           66821.0         66821   \n",
      "\n",
      "                                               QUERY  \n",
      "0   SELECT cn.name AS company_name, lt.link AS li...  \n",
      "1   SELECT cn.name AS from_company, mc.note AS pr...  \n",
      "2   SELECT cn.name AS company_name, lt.link AS li...  \n",
      "3   SELECT cn.name AS from_company, mc.note AS pr...  \n",
      "4   SELECT cn.name AS company_name, lt.link AS li...  \n"
     ]
    }
   ],
   "source": [
    "import pandas as pd\n",
    "\n",
    "# Assuming val_embeddings_df and df_success are already defined\n",
    "\n",
    "# Perform the join\n",
    "result_df = pd.merge(\n",
    "    val_embeddings_df,\n",
    "    df_success,\n",
    "    on=['QUERYID', 'EXPLAIN_TIME'],  # Match on QUERYID and EXPLAIN_TIME\n",
    "    how='inner'  # Inner join to keep only matching rows\n",
    ")\n",
    "\n",
    "# Display the resulting DataFrame\n",
    "print(result_df.head())\n"
   ]
  },
  {
   "cell_type": "code",
   "execution_count": 10,
   "metadata": {},
   "outputs": [
    {
     "data": {
      "text/plain": [
       "(467, 4)"
      ]
     },
     "execution_count": 10,
     "metadata": {},
     "output_type": "execute_result"
    }
   ],
   "source": [
    "val_embeddings_df.shape"
   ]
  },
  {
   "cell_type": "code",
   "execution_count": 11,
   "metadata": {},
   "outputs": [
    {
     "data": {
      "text/plain": [
       "(467, 10)"
      ]
     },
     "execution_count": 11,
     "metadata": {},
     "output_type": "execute_result"
    }
   ],
   "source": [
    "result_df.shape"
   ]
  },
  {
   "cell_type": "code",
   "execution_count": 12,
   "metadata": {},
   "outputs": [],
   "source": [
    "df_test = result_df.copy()[['embedding', 'SORT_SHRHEAP_TOP', 'Db2_ESTIMATE']]"
   ]
  },
  {
   "cell_type": "markdown",
   "metadata": {},
   "source": [
    "# Loading Training Set"
   ]
  },
  {
   "cell_type": "code",
   "execution_count": 13,
   "metadata": {},
   "outputs": [],
   "source": [
    "import json\n",
    "import pandas as pd\n",
    "\n",
    "# Path to the JSON file\n",
    "train_embeddings_path = \"train_embeddings.json\"\n",
    "\n",
    "# Load the JSON file\n",
    "with open(train_embeddings_path, \"r\") as f:\n",
    "    train_embeddings_path_embeddings_data = json.load(f)\n",
    "\n",
    "# Convert to DataFrame\n",
    "train_embeddings_df = pd.DataFrame({\n",
    "    \"file_name\": list(train_embeddings_path_embeddings_data.keys()),\n",
    "    \"embedding\": list(train_embeddings_path_embeddings_data.values())\n",
    "})\n",
    "\n",
    "# Display the DataFrame\n",
    "# print(train_embeddings_path_embeddings_df.head())\n",
    "\n",
    "# Extract QUERYID and EXPLAIN_TIME\n",
    "train_embeddings_df[\"QUERYID\"] = train_embeddings_df[\"file_name\"].apply(lambda x: x.split(\"_\")[1])\n",
    "train_embeddings_df[\"EXPLAIN_TIME\"] = train_embeddings_df[\"file_name\"].apply(lambda x: x.split(\"_\")[2].replace(\".pt\", \"\"))\n",
    "\n",
    "# Convert QUERYID to integer (if needed)\n",
    "train_embeddings_df[\"QUERYID\"] = train_embeddings_df[\"QUERYID\"].astype(int)\n",
    "\n",
    "# Perform the join\n",
    "result_df = pd.merge(\n",
    "    train_embeddings_df,\n",
    "    df_success,\n",
    "    on=['QUERYID', 'EXPLAIN_TIME'],  # Match on QUERYID and EXPLAIN_TIME\n",
    "    how='inner'  # Inner join to keep only matching rows\n",
    ")\n",
    "\n",
    "df_train = result_df.copy()[['embedding', 'SORT_SHRHEAP_TOP', 'Db2_ESTIMATE']]"
   ]
  },
  {
   "cell_type": "code",
   "execution_count": 14,
   "metadata": {},
   "outputs": [
    {
     "data": {
      "text/plain": [
       "(1865, 3)"
      ]
     },
     "execution_count": 14,
     "metadata": {},
     "output_type": "execute_result"
    }
   ],
   "source": [
    "df_train.shape"
   ]
  },
  {
   "cell_type": "code",
   "execution_count": null,
   "metadata": {},
   "outputs": [
    {
     "data": {
      "text/html": [
       "<div>\n",
       "<style scoped>\n",
       "    .dataframe tbody tr th:only-of-type {\n",
       "        vertical-align: middle;\n",
       "    }\n",
       "\n",
       "    .dataframe tbody tr th {\n",
       "        vertical-align: top;\n",
       "    }\n",
       "\n",
       "    .dataframe thead th {\n",
       "        text-align: right;\n",
       "    }\n",
       "</style>\n",
       "<table border=\"1\" class=\"dataframe\">\n",
       "  <thead>\n",
       "    <tr style=\"text-align: right;\">\n",
       "      <th></th>\n",
       "      <th>embedding</th>\n",
       "      <th>SORT_SHRHEAP_TOP</th>\n",
       "      <th>Db2_ESTIMATE</th>\n",
       "    </tr>\n",
       "  </thead>\n",
       "  <tbody>\n",
       "    <tr>\n",
       "      <th>0</th>\n",
       "      <td>[-0.5597949028015137, 6.249405384063721, 2.199...</td>\n",
       "      <td>58512.0</td>\n",
       "      <td>58512</td>\n",
       "    </tr>\n",
       "    <tr>\n",
       "      <th>1</th>\n",
       "      <td>[-0.13114792108535767, 2.876124858856201, -0.3...</td>\n",
       "      <td>9951.0</td>\n",
       "      <td>23455</td>\n",
       "    </tr>\n",
       "    <tr>\n",
       "      <th>2</th>\n",
       "      <td>[-0.5244169235229492, 9.943038940429688, -3.58...</td>\n",
       "      <td>58512.0</td>\n",
       "      <td>58512</td>\n",
       "    </tr>\n",
       "    <tr>\n",
       "      <th>3</th>\n",
       "      <td>[-9.048543930053711, -3.4981002807617188, 3.39...</td>\n",
       "      <td>14175.0</td>\n",
       "      <td>23455</td>\n",
       "    </tr>\n",
       "    <tr>\n",
       "      <th>4</th>\n",
       "      <td>[-9.814127922058105, -6.830276012420654, 3.638...</td>\n",
       "      <td>66823.0</td>\n",
       "      <td>66821</td>\n",
       "    </tr>\n",
       "  </tbody>\n",
       "</table>\n",
       "</div>"
      ],
      "text/plain": [
       "                                           embedding  SORT_SHRHEAP_TOP  \\\n",
       "0  [-0.5597949028015137, 6.249405384063721, 2.199...           58512.0   \n",
       "1  [-0.13114792108535767, 2.876124858856201, -0.3...            9951.0   \n",
       "2  [-0.5244169235229492, 9.943038940429688, -3.58...           58512.0   \n",
       "3  [-9.048543930053711, -3.4981002807617188, 3.39...           14175.0   \n",
       "4  [-9.814127922058105, -6.830276012420654, 3.638...           66823.0   \n",
       "\n",
       "   Db2_ESTIMATE  \n",
       "0         58512  \n",
       "1         23455  \n",
       "2         58512  \n",
       "3         23455  \n",
       "4         66821  "
      ]
     },
     "execution_count": 15,
     "metadata": {},
     "output_type": "execute_result"
    }
   ],
   "source": [
    "df_train.head()"
   ]
  },
  {
   "cell_type": "code",
   "execution_count": 16,
   "metadata": {},
   "outputs": [
    {
     "data": {
      "text/plain": [
       "Index(['embedding', 'SORT_SHRHEAP_TOP', 'Db2_ESTIMATE'], dtype='object')"
      ]
     },
     "execution_count": 16,
     "metadata": {},
     "output_type": "execute_result"
    }
   ],
   "source": [
    "df_train.columns"
   ]
  },
  {
   "cell_type": "code",
   "execution_count": 17,
   "metadata": {},
   "outputs": [
    {
     "name": "stdout",
     "output_type": "stream",
     "text": [
      "                                       sql_embedding    db2   actual\n",
      "0  [-0.5597949028015137, 6.249405384063721, 2.199...  58512  58512.0\n",
      "1  [-0.13114792108535767, 2.876124858856201, -0.3...  23455   9951.0\n",
      "2  [-0.5244169235229492, 9.943038940429688, -3.58...  58512  58512.0\n",
      "3  [-9.048543930053711, -3.4981002807617188, 3.39...  23455  14175.0\n",
      "4  [-9.814127922058105, -6.830276012420654, 3.638...  66821  66823.0\n",
      "                                       sql_embedding    db2   actual\n",
      "0  [-6.322105407714844, -1.2161089181900024, 0.43...  37907  35153.0\n",
      "1  [-7.167495250701904, 1.262258529663086, -1.407...  18834   9951.0\n",
      "2  [-6.322115421295166, -1.2161129713058472, 0.43...  38047  38815.0\n",
      "3  [-7.363716125488281, -0.7742083072662354, 1.37...  23455  14175.0\n",
      "4  [1.0355658531188965, 6.791748523712158, -3.595...  66821  66821.0\n"
     ]
    }
   ],
   "source": [
    "# Rename columns for df_train\n",
    "df_train.rename(columns={\n",
    "    'embedding': 'sql_embedding',\n",
    "    'SORT_SHRHEAP_TOP': 'actual',\n",
    "    'Db2_ESTIMATE': 'db2'\n",
    "}, inplace=True)\n",
    "\n",
    "df_train = df_train[['sql_embedding', 'db2', 'actual']]\n",
    "\n",
    "# Rename columns for df_test\n",
    "df_test.rename(columns={\n",
    "    'embedding': 'sql_embedding',\n",
    "    'SORT_SHRHEAP_TOP': 'actual',\n",
    "    'Db2_ESTIMATE': 'db2'\n",
    "}, inplace=True)\n",
    "\n",
    "df_test = df_test[['sql_embedding', 'db2', 'actual']]\n",
    "\n",
    "# Verify the changes\n",
    "print(df_train.head())\n",
    "print(df_test.head())\n"
   ]
  },
  {
   "cell_type": "code",
   "execution_count": null,
   "metadata": {},
   "outputs": [
    {
     "data": {
      "text/html": [
       "<div>\n",
       "<style scoped>\n",
       "    .dataframe tbody tr th:only-of-type {\n",
       "        vertical-align: middle;\n",
       "    }\n",
       "\n",
       "    .dataframe tbody tr th {\n",
       "        vertical-align: top;\n",
       "    }\n",
       "\n",
       "    .dataframe thead th {\n",
       "        text-align: right;\n",
       "    }\n",
       "</style>\n",
       "<table border=\"1\" class=\"dataframe\">\n",
       "  <thead>\n",
       "    <tr style=\"text-align: right;\">\n",
       "      <th></th>\n",
       "      <th>sql_embedding</th>\n",
       "      <th>db2</th>\n",
       "      <th>actual</th>\n",
       "    </tr>\n",
       "  </thead>\n",
       "  <tbody>\n",
       "    <tr>\n",
       "      <th>0</th>\n",
       "      <td>[-0.5597949028015137, 6.249405384063721, 2.199...</td>\n",
       "      <td>58512</td>\n",
       "      <td>58512.0</td>\n",
       "    </tr>\n",
       "    <tr>\n",
       "      <th>1</th>\n",
       "      <td>[-0.13114792108535767, 2.876124858856201, -0.3...</td>\n",
       "      <td>23455</td>\n",
       "      <td>9951.0</td>\n",
       "    </tr>\n",
       "    <tr>\n",
       "      <th>2</th>\n",
       "      <td>[-0.5244169235229492, 9.943038940429688, -3.58...</td>\n",
       "      <td>58512</td>\n",
       "      <td>58512.0</td>\n",
       "    </tr>\n",
       "    <tr>\n",
       "      <th>3</th>\n",
       "      <td>[-9.048543930053711, -3.4981002807617188, 3.39...</td>\n",
       "      <td>23455</td>\n",
       "      <td>14175.0</td>\n",
       "    </tr>\n",
       "    <tr>\n",
       "      <th>4</th>\n",
       "      <td>[-9.814127922058105, -6.830276012420654, 3.638...</td>\n",
       "      <td>66821</td>\n",
       "      <td>66823.0</td>\n",
       "    </tr>\n",
       "  </tbody>\n",
       "</table>\n",
       "</div>"
      ],
      "text/plain": [
       "                                       sql_embedding    db2   actual\n",
       "0  [-0.5597949028015137, 6.249405384063721, 2.199...  58512  58512.0\n",
       "1  [-0.13114792108535767, 2.876124858856201, -0.3...  23455   9951.0\n",
       "2  [-0.5244169235229492, 9.943038940429688, -3.58...  58512  58512.0\n",
       "3  [-9.048543930053711, -3.4981002807617188, 3.39...  23455  14175.0\n",
       "4  [-9.814127922058105, -6.830276012420654, 3.638...  66821  66823.0"
      ]
     },
     "execution_count": 18,
     "metadata": {},
     "output_type": "execute_result"
    }
   ],
   "source": [
    "df_train.head()"
   ]
  },
  {
   "cell_type": "code",
   "execution_count": null,
   "metadata": {},
   "outputs": [
    {
     "data": {
      "text/html": [
       "<div>\n",
       "<style scoped>\n",
       "    .dataframe tbody tr th:only-of-type {\n",
       "        vertical-align: middle;\n",
       "    }\n",
       "\n",
       "    .dataframe tbody tr th {\n",
       "        vertical-align: top;\n",
       "    }\n",
       "\n",
       "    .dataframe thead th {\n",
       "        text-align: right;\n",
       "    }\n",
       "</style>\n",
       "<table border=\"1\" class=\"dataframe\">\n",
       "  <thead>\n",
       "    <tr style=\"text-align: right;\">\n",
       "      <th></th>\n",
       "      <th>sql_embedding</th>\n",
       "      <th>db2</th>\n",
       "      <th>actual</th>\n",
       "    </tr>\n",
       "  </thead>\n",
       "  <tbody>\n",
       "    <tr>\n",
       "      <th>0</th>\n",
       "      <td>[-6.322105407714844, -1.2161089181900024, 0.43...</td>\n",
       "      <td>37907</td>\n",
       "      <td>35153.0</td>\n",
       "    </tr>\n",
       "    <tr>\n",
       "      <th>1</th>\n",
       "      <td>[-7.167495250701904, 1.262258529663086, -1.407...</td>\n",
       "      <td>18834</td>\n",
       "      <td>9951.0</td>\n",
       "    </tr>\n",
       "    <tr>\n",
       "      <th>2</th>\n",
       "      <td>[-6.322115421295166, -1.2161129713058472, 0.43...</td>\n",
       "      <td>38047</td>\n",
       "      <td>38815.0</td>\n",
       "    </tr>\n",
       "    <tr>\n",
       "      <th>3</th>\n",
       "      <td>[-7.363716125488281, -0.7742083072662354, 1.37...</td>\n",
       "      <td>23455</td>\n",
       "      <td>14175.0</td>\n",
       "    </tr>\n",
       "    <tr>\n",
       "      <th>4</th>\n",
       "      <td>[1.0355658531188965, 6.791748523712158, -3.595...</td>\n",
       "      <td>66821</td>\n",
       "      <td>66821.0</td>\n",
       "    </tr>\n",
       "  </tbody>\n",
       "</table>\n",
       "</div>"
      ],
      "text/plain": [
       "                                       sql_embedding    db2   actual\n",
       "0  [-6.322105407714844, -1.2161089181900024, 0.43...  37907  35153.0\n",
       "1  [-7.167495250701904, 1.262258529663086, -1.407...  18834   9951.0\n",
       "2  [-6.322115421295166, -1.2161129713058472, 0.43...  38047  38815.0\n",
       "3  [-7.363716125488281, -0.7742083072662354, 1.37...  23455  14175.0\n",
       "4  [1.0355658531188965, 6.791748523712158, -3.595...  66821  66821.0"
      ]
     },
     "execution_count": 19,
     "metadata": {},
     "output_type": "execute_result"
    }
   ],
   "source": [
    "df_test.head()"
   ]
  },
  {
   "cell_type": "code",
   "execution_count": 20,
   "metadata": {},
   "outputs": [],
   "source": [
    "df_train['db2'] = df_train['db2'] * 4000 / 1000000\n",
    "df_train['actual'] = df_train['actual'] * 4000 / 1000000"
   ]
  },
  {
   "cell_type": "code",
   "execution_count": 21,
   "metadata": {},
   "outputs": [],
   "source": [
    "df_test['db2'] = df_test['db2'] * 4000 / 1000000\n",
    "df_test['actual'] = df_test['actual'] * 4000 / 1000000"
   ]
  },
  {
   "cell_type": "code",
   "execution_count": null,
   "metadata": {},
   "outputs": [
    {
     "data": {
      "text/html": [
       "<div>\n",
       "<style scoped>\n",
       "    .dataframe tbody tr th:only-of-type {\n",
       "        vertical-align: middle;\n",
       "    }\n",
       "\n",
       "    .dataframe tbody tr th {\n",
       "        vertical-align: top;\n",
       "    }\n",
       "\n",
       "    .dataframe thead th {\n",
       "        text-align: right;\n",
       "    }\n",
       "</style>\n",
       "<table border=\"1\" class=\"dataframe\">\n",
       "  <thead>\n",
       "    <tr style=\"text-align: right;\">\n",
       "      <th></th>\n",
       "      <th>sql_embedding</th>\n",
       "      <th>db2</th>\n",
       "      <th>actual</th>\n",
       "    </tr>\n",
       "  </thead>\n",
       "  <tbody>\n",
       "    <tr>\n",
       "      <th>0</th>\n",
       "      <td>[-0.5597949028015137, 6.249405384063721, 2.199...</td>\n",
       "      <td>234.048</td>\n",
       "      <td>234.048</td>\n",
       "    </tr>\n",
       "    <tr>\n",
       "      <th>1</th>\n",
       "      <td>[-0.13114792108535767, 2.876124858856201, -0.3...</td>\n",
       "      <td>93.820</td>\n",
       "      <td>39.804</td>\n",
       "    </tr>\n",
       "    <tr>\n",
       "      <th>2</th>\n",
       "      <td>[-0.5244169235229492, 9.943038940429688, -3.58...</td>\n",
       "      <td>234.048</td>\n",
       "      <td>234.048</td>\n",
       "    </tr>\n",
       "    <tr>\n",
       "      <th>3</th>\n",
       "      <td>[-9.048543930053711, -3.4981002807617188, 3.39...</td>\n",
       "      <td>93.820</td>\n",
       "      <td>56.700</td>\n",
       "    </tr>\n",
       "    <tr>\n",
       "      <th>4</th>\n",
       "      <td>[-9.814127922058105, -6.830276012420654, 3.638...</td>\n",
       "      <td>267.284</td>\n",
       "      <td>267.292</td>\n",
       "    </tr>\n",
       "  </tbody>\n",
       "</table>\n",
       "</div>"
      ],
      "text/plain": [
       "                                       sql_embedding      db2   actual\n",
       "0  [-0.5597949028015137, 6.249405384063721, 2.199...  234.048  234.048\n",
       "1  [-0.13114792108535767, 2.876124858856201, -0.3...   93.820   39.804\n",
       "2  [-0.5244169235229492, 9.943038940429688, -3.58...  234.048  234.048\n",
       "3  [-9.048543930053711, -3.4981002807617188, 3.39...   93.820   56.700\n",
       "4  [-9.814127922058105, -6.830276012420654, 3.638...  267.284  267.292"
      ]
     },
     "execution_count": 22,
     "metadata": {},
     "output_type": "execute_result"
    }
   ],
   "source": [
    "df_train.head()"
   ]
  },
  {
   "cell_type": "code",
   "execution_count": 23,
   "metadata": {},
   "outputs": [
    {
     "data": {
      "text/plain": [
       "(1865, 3)"
      ]
     },
     "execution_count": 23,
     "metadata": {},
     "output_type": "execute_result"
    }
   ],
   "source": [
    "df_train.shape"
   ]
  },
  {
   "cell_type": "code",
   "execution_count": 24,
   "metadata": {},
   "outputs": [
    {
     "data": {
      "text/plain": [
       "(467, 3)"
      ]
     },
     "execution_count": 24,
     "metadata": {},
     "output_type": "execute_result"
    }
   ],
   "source": [
    "df_test.shape"
   ]
  },
  {
   "cell_type": "code",
   "execution_count": 25,
   "metadata": {},
   "outputs": [
    {
     "data": {
      "text/html": [
       "<div>\n",
       "<style scoped>\n",
       "    .dataframe tbody tr th:only-of-type {\n",
       "        vertical-align: middle;\n",
       "    }\n",
       "\n",
       "    .dataframe tbody tr th {\n",
       "        vertical-align: top;\n",
       "    }\n",
       "\n",
       "    .dataframe thead th {\n",
       "        text-align: right;\n",
       "    }\n",
       "</style>\n",
       "<table border=\"1\" class=\"dataframe\">\n",
       "  <thead>\n",
       "    <tr style=\"text-align: right;\">\n",
       "      <th></th>\n",
       "      <th>sql_embedding</th>\n",
       "      <th>db2</th>\n",
       "      <th>actual</th>\n",
       "    </tr>\n",
       "  </thead>\n",
       "  <tbody>\n",
       "    <tr>\n",
       "      <th>0</th>\n",
       "      <td>[-6.322105407714844, -1.2161089181900024, 0.43...</td>\n",
       "      <td>151.628</td>\n",
       "      <td>140.612</td>\n",
       "    </tr>\n",
       "    <tr>\n",
       "      <th>1</th>\n",
       "      <td>[-7.167495250701904, 1.262258529663086, -1.407...</td>\n",
       "      <td>75.336</td>\n",
       "      <td>39.804</td>\n",
       "    </tr>\n",
       "    <tr>\n",
       "      <th>2</th>\n",
       "      <td>[-6.322115421295166, -1.2161129713058472, 0.43...</td>\n",
       "      <td>152.188</td>\n",
       "      <td>155.260</td>\n",
       "    </tr>\n",
       "    <tr>\n",
       "      <th>3</th>\n",
       "      <td>[-7.363716125488281, -0.7742083072662354, 1.37...</td>\n",
       "      <td>93.820</td>\n",
       "      <td>56.700</td>\n",
       "    </tr>\n",
       "    <tr>\n",
       "      <th>4</th>\n",
       "      <td>[1.0355658531188965, 6.791748523712158, -3.595...</td>\n",
       "      <td>267.284</td>\n",
       "      <td>267.284</td>\n",
       "    </tr>\n",
       "  </tbody>\n",
       "</table>\n",
       "</div>"
      ],
      "text/plain": [
       "                                       sql_embedding      db2   actual\n",
       "0  [-6.322105407714844, -1.2161089181900024, 0.43...  151.628  140.612\n",
       "1  [-7.167495250701904, 1.262258529663086, -1.407...   75.336   39.804\n",
       "2  [-6.322115421295166, -1.2161129713058472, 0.43...  152.188  155.260\n",
       "3  [-7.363716125488281, -0.7742083072662354, 1.37...   93.820   56.700\n",
       "4  [1.0355658531188965, 6.791748523712158, -3.595...  267.284  267.284"
      ]
     },
     "execution_count": 25,
     "metadata": {},
     "output_type": "execute_result"
    }
   ],
   "source": [
    "df_test.head()"
   ]
  },
  {
   "cell_type": "code",
   "execution_count": 26,
   "metadata": {},
   "outputs": [
    {
     "name": "stdout",
     "output_type": "stream",
     "text": [
      "<class 'pandas.core.frame.DataFrame'>\n",
      "RangeIndex: 1865 entries, 0 to 1864\n",
      "Data columns (total 3 columns):\n",
      " #   Column         Non-Null Count  Dtype  \n",
      "---  ------         --------------  -----  \n",
      " 0   sql_embedding  1865 non-null   object \n",
      " 1   db2            1865 non-null   float64\n",
      " 2   actual         1865 non-null   float64\n",
      "dtypes: float64(2), object(1)\n",
      "memory usage: 43.8+ KB\n"
     ]
    }
   ],
   "source": [
    "df_train.info()"
   ]
  },
  {
   "cell_type": "code",
   "execution_count": null,
   "metadata": {},
   "outputs": [
    {
     "data": {
      "text/html": [
       "<div>\n",
       "<style scoped>\n",
       "    .dataframe tbody tr th:only-of-type {\n",
       "        vertical-align: middle;\n",
       "    }\n",
       "\n",
       "    .dataframe tbody tr th {\n",
       "        vertical-align: top;\n",
       "    }\n",
       "\n",
       "    .dataframe thead th {\n",
       "        text-align: right;\n",
       "    }\n",
       "</style>\n",
       "<table border=\"1\" class=\"dataframe\">\n",
       "  <thead>\n",
       "    <tr style=\"text-align: right;\">\n",
       "      <th></th>\n",
       "      <th>sql_embedding</th>\n",
       "      <th>actual</th>\n",
       "    </tr>\n",
       "  </thead>\n",
       "  <tbody>\n",
       "    <tr>\n",
       "      <th>0</th>\n",
       "      <td>[-0.5597949028015137, 6.249405384063721, 2.199...</td>\n",
       "      <td>234.048</td>\n",
       "    </tr>\n",
       "    <tr>\n",
       "      <th>1</th>\n",
       "      <td>[-0.13114792108535767, 2.876124858856201, -0.3...</td>\n",
       "      <td>39.804</td>\n",
       "    </tr>\n",
       "    <tr>\n",
       "      <th>2</th>\n",
       "      <td>[-0.5244169235229492, 9.943038940429688, -3.58...</td>\n",
       "      <td>234.048</td>\n",
       "    </tr>\n",
       "    <tr>\n",
       "      <th>3</th>\n",
       "      <td>[-9.048543930053711, -3.4981002807617188, 3.39...</td>\n",
       "      <td>56.700</td>\n",
       "    </tr>\n",
       "    <tr>\n",
       "      <th>4</th>\n",
       "      <td>[-9.814127922058105, -6.830276012420654, 3.638...</td>\n",
       "      <td>267.292</td>\n",
       "    </tr>\n",
       "  </tbody>\n",
       "</table>\n",
       "</div>"
      ],
      "text/plain": [
       "                                       sql_embedding   actual\n",
       "0  [-0.5597949028015137, 6.249405384063721, 2.199...  234.048\n",
       "1  [-0.13114792108535767, 2.876124858856201, -0.3...   39.804\n",
       "2  [-0.5244169235229492, 9.943038940429688, -3.58...  234.048\n",
       "3  [-9.048543930053711, -3.4981002807617188, 3.39...   56.700\n",
       "4  [-9.814127922058105, -6.830276012420654, 3.638...  267.292"
      ]
     },
     "execution_count": 27,
     "metadata": {},
     "output_type": "execute_result"
    }
   ],
   "source": [
    "df_train[['sql_embedding', 'actual']].head()"
   ]
  },
  {
   "cell_type": "code",
   "execution_count": 28,
   "metadata": {},
   "outputs": [
    {
     "data": {
      "text/html": [
       "<div>\n",
       "<style scoped>\n",
       "    .dataframe tbody tr th:only-of-type {\n",
       "        vertical-align: middle;\n",
       "    }\n",
       "\n",
       "    .dataframe tbody tr th {\n",
       "        vertical-align: top;\n",
       "    }\n",
       "\n",
       "    .dataframe thead th {\n",
       "        text-align: right;\n",
       "    }\n",
       "</style>\n",
       "<table border=\"1\" class=\"dataframe\">\n",
       "  <thead>\n",
       "    <tr style=\"text-align: right;\">\n",
       "      <th></th>\n",
       "      <th>db2</th>\n",
       "      <th>actual</th>\n",
       "    </tr>\n",
       "  </thead>\n",
       "  <tbody>\n",
       "    <tr>\n",
       "      <th>0</th>\n",
       "      <td>234.048</td>\n",
       "      <td>234.048</td>\n",
       "    </tr>\n",
       "    <tr>\n",
       "      <th>1</th>\n",
       "      <td>93.820</td>\n",
       "      <td>39.804</td>\n",
       "    </tr>\n",
       "    <tr>\n",
       "      <th>2</th>\n",
       "      <td>234.048</td>\n",
       "      <td>234.048</td>\n",
       "    </tr>\n",
       "    <tr>\n",
       "      <th>3</th>\n",
       "      <td>93.820</td>\n",
       "      <td>56.700</td>\n",
       "    </tr>\n",
       "    <tr>\n",
       "      <th>4</th>\n",
       "      <td>267.284</td>\n",
       "      <td>267.292</td>\n",
       "    </tr>\n",
       "  </tbody>\n",
       "</table>\n",
       "</div>"
      ],
      "text/plain": [
       "       db2   actual\n",
       "0  234.048  234.048\n",
       "1   93.820   39.804\n",
       "2  234.048  234.048\n",
       "3   93.820   56.700\n",
       "4  267.284  267.292"
      ]
     },
     "execution_count": 28,
     "metadata": {},
     "output_type": "execute_result"
    }
   ],
   "source": [
    "df_train[['db2', 'actual']].head()"
   ]
  },
  {
   "cell_type": "code",
   "execution_count": 29,
   "metadata": {},
   "outputs": [],
   "source": [
    "df_train_copy = df_train.copy()"
   ]
  },
  {
   "cell_type": "code",
   "execution_count": 30,
   "metadata": {},
   "outputs": [
    {
     "data": {
      "text/html": [
       "<div>\n",
       "<style scoped>\n",
       "    .dataframe tbody tr th:only-of-type {\n",
       "        vertical-align: middle;\n",
       "    }\n",
       "\n",
       "    .dataframe tbody tr th {\n",
       "        vertical-align: top;\n",
       "    }\n",
       "\n",
       "    .dataframe thead th {\n",
       "        text-align: right;\n",
       "    }\n",
       "</style>\n",
       "<table border=\"1\" class=\"dataframe\">\n",
       "  <thead>\n",
       "    <tr style=\"text-align: right;\">\n",
       "      <th></th>\n",
       "      <th>sql_embedding</th>\n",
       "      <th>db2</th>\n",
       "      <th>actual</th>\n",
       "    </tr>\n",
       "  </thead>\n",
       "  <tbody>\n",
       "    <tr>\n",
       "      <th>0</th>\n",
       "      <td>[-0.5597949028015137, 6.249405384063721, 2.199...</td>\n",
       "      <td>234.048</td>\n",
       "      <td>234.048</td>\n",
       "    </tr>\n",
       "    <tr>\n",
       "      <th>1</th>\n",
       "      <td>[-0.13114792108535767, 2.876124858856201, -0.3...</td>\n",
       "      <td>93.820</td>\n",
       "      <td>39.804</td>\n",
       "    </tr>\n",
       "    <tr>\n",
       "      <th>2</th>\n",
       "      <td>[-0.5244169235229492, 9.943038940429688, -3.58...</td>\n",
       "      <td>234.048</td>\n",
       "      <td>234.048</td>\n",
       "    </tr>\n",
       "    <tr>\n",
       "      <th>3</th>\n",
       "      <td>[-9.048543930053711, -3.4981002807617188, 3.39...</td>\n",
       "      <td>93.820</td>\n",
       "      <td>56.700</td>\n",
       "    </tr>\n",
       "    <tr>\n",
       "      <th>4</th>\n",
       "      <td>[-9.814127922058105, -6.830276012420654, 3.638...</td>\n",
       "      <td>267.284</td>\n",
       "      <td>267.292</td>\n",
       "    </tr>\n",
       "  </tbody>\n",
       "</table>\n",
       "</div>"
      ],
      "text/plain": [
       "                                       sql_embedding      db2   actual\n",
       "0  [-0.5597949028015137, 6.249405384063721, 2.199...  234.048  234.048\n",
       "1  [-0.13114792108535767, 2.876124858856201, -0.3...   93.820   39.804\n",
       "2  [-0.5244169235229492, 9.943038940429688, -3.58...  234.048  234.048\n",
       "3  [-9.048543930053711, -3.4981002807617188, 3.39...   93.820   56.700\n",
       "4  [-9.814127922058105, -6.830276012420654, 3.638...  267.284  267.292"
      ]
     },
     "execution_count": 30,
     "metadata": {},
     "output_type": "execute_result"
    }
   ],
   "source": [
    "df_train.head()"
   ]
  },
  {
   "cell_type": "code",
   "execution_count": 31,
   "metadata": {},
   "outputs": [
    {
     "name": "stdout",
     "output_type": "stream",
     "text": [
      "Epoch [10/100], Loss: 33472.9141\n",
      "Epoch [20/100], Loss: 33390.2148\n",
      "Epoch [30/100], Loss: 33307.1602\n",
      "Epoch [40/100], Loss: 33222.4375\n",
      "Epoch [50/100], Loss: 33135.3281\n",
      "Epoch [60/100], Loss: 33045.1953\n",
      "Epoch [70/100], Loss: 32951.4180\n",
      "Epoch [80/100], Loss: 32853.4141\n",
      "Epoch [90/100], Loss: 32750.7305\n",
      "Epoch [100/100], Loss: 32642.9941\n",
      "                                          sql_embedding      db2   actual  \\\n",
      "0     [-0.5597949028015137, 6.249405384063721, 2.199...  234.048  234.048   \n",
      "1     [-0.13114792108535767, 2.876124858856201, -0.3...   93.820   39.804   \n",
      "2     [-0.5244169235229492, 9.943038940429688, -3.58...  234.048  234.048   \n",
      "3     [-9.048543930053711, -3.4981002807617188, 3.39...   93.820   56.700   \n",
      "4     [-9.814127922058105, -6.830276012420654, 3.638...  267.284  267.292   \n",
      "...                                                 ...      ...      ...   \n",
      "1860  [-7.942427635192871, -2.4830620288848877, 2.98...  267.284  267.284   \n",
      "1861  [0.4651572108268738, 1.5341832637786865, -1.79...  267.300  267.284   \n",
      "1862  [3.797189950942993, 8.989130020141602, -0.6791...  154.572  152.848   \n",
      "1863  [-9.828774452209473, 2.7188704013824463, -0.54...  267.284  267.284   \n",
      "1864  [-2.6863861083984375, -2.370469808578491, 0.30...  152.540  155.832   \n",
      "\n",
      "                                          db2_embedding  \n",
      "0     [-0.05979561805725098, -0.43220221996307373, -...  \n",
      "1     [1.2345705032348633, -0.4280064105987549, 1.63...  \n",
      "2     [-0.05979561805725098, -0.43220221996307373, -...  \n",
      "3     [1.2345705032348633, -0.4280064105987549, 1.63...  \n",
      "4     [-0.36657845973968506, -0.43319669365882874, -...  \n",
      "...                                                 ...  \n",
      "1860  [-0.36657845973968506, -0.43319669365882874, -...  \n",
      "1861  [-0.3667261600494385, -0.43319717049598694, -0...  \n",
      "1862  [0.6738028526306152, -0.42982417345046997, 0.8...  \n",
      "1863  [-0.36657845973968506, -0.43319669365882874, -...  \n",
      "1864  [0.6925590634346008, -0.4297633767127991, 0.90...  \n",
      "\n",
      "[1865 rows x 4 columns]\n"
     ]
    }
   ],
   "source": [
    "import pandas as pd\n",
    "import numpy as np\n",
    "import torch\n",
    "import torch.nn as nn\n",
    "import torch.optim as optim\n",
    "from sklearn.preprocessing import StandardScaler\n",
    "\n",
    "df = df_train_copy\n",
    "\n",
    "# Normalize 'feat1'\n",
    "scaler = StandardScaler()\n",
    "df['db2_normalized'] = scaler.fit_transform(df[['db2']])\n",
    "\n",
    "# Convert to PyTorch tensors\n",
    "feat1_tensor = torch.tensor(df['db2_normalized'].values, dtype=torch.float32).view(-1, 1)\n",
    "actual_tensor = torch.tensor(df['actual'].values, dtype=torch.float32).view(-1, 1)\n",
    "\n",
    "# Define the embedding model\n",
    "class EmbeddingModel(nn.Module):\n",
    "    def __init__(self, input_dim=1, embedding_dim=64):\n",
    "        super(EmbeddingModel, self).__init__()\n",
    "        self.embedding = nn.Linear(input_dim, embedding_dim)\n",
    "        self.fc = nn.Linear(embedding_dim, 1)\n",
    "        self.relu = nn.ReLU()\n",
    "\n",
    "    def forward(self, x):\n",
    "        x = self.embedding(x)\n",
    "        x = self.relu(x)\n",
    "        x = self.fc(x)\n",
    "        return x\n",
    "\n",
    "# Initialize model, loss function, and optimizer\n",
    "model = EmbeddingModel()\n",
    "criterion = nn.MSELoss()\n",
    "optimizer = optim.Adam(model.parameters(), lr=0.001)\n",
    "\n",
    "# Training loop\n",
    "num_epochs = 100\n",
    "for epoch in range(num_epochs):\n",
    "    model.train()\n",
    "    optimizer.zero_grad()\n",
    "    outputs = model(feat1_tensor)\n",
    "    loss = criterion(outputs, actual_tensor)\n",
    "    loss.backward()\n",
    "    optimizer.step()\n",
    "    if (epoch+1) % 10 == 0:\n",
    "        print(f'Epoch [{epoch+1}/{num_epochs}], Loss: {loss.item():.4f}')\n",
    "\n",
    "# Extract embeddings\n",
    "model.eval()\n",
    "with torch.no_grad():\n",
    "    embeddings = model.embedding(feat1_tensor).numpy()\n",
    "\n",
    "# Ensure the DataFrame can store list objects\n",
    "df['db2_embedding'] = None  # Initialize the column\n",
    "df = df.astype({'db2_embedding': 'object'})  # Set the dtype to object\n",
    "\n",
    "# Assign embeddings to the DataFrame\n",
    "df['db2_embedding'] = [emb.tolist() for emb in embeddings]\n",
    "\n",
    "# Drop the normalized column if no longer needed\n",
    "df = df.drop(columns=['db2_normalized'])\n",
    "\n",
    "print(df)\n"
   ]
  },
  {
   "cell_type": "code",
   "execution_count": 32,
   "metadata": {},
   "outputs": [
    {
     "data": {
      "text/plain": [
       "Index(['sql_embedding', 'db2', 'actual', 'db2_embedding'], dtype='object')"
      ]
     },
     "execution_count": 32,
     "metadata": {},
     "output_type": "execute_result"
    }
   ],
   "source": [
    "df.columns"
   ]
  },
  {
   "cell_type": "code",
   "execution_count": 33,
   "metadata": {},
   "outputs": [],
   "source": [
    "df_train_v2 = df[['sql_embedding', 'db2_embedding', 'db2', 'actual']]"
   ]
  },
  {
   "cell_type": "code",
   "execution_count": 34,
   "metadata": {},
   "outputs": [
    {
     "data": {
      "text/html": [
       "<div>\n",
       "<style scoped>\n",
       "    .dataframe tbody tr th:only-of-type {\n",
       "        vertical-align: middle;\n",
       "    }\n",
       "\n",
       "    .dataframe tbody tr th {\n",
       "        vertical-align: top;\n",
       "    }\n",
       "\n",
       "    .dataframe thead th {\n",
       "        text-align: right;\n",
       "    }\n",
       "</style>\n",
       "<table border=\"1\" class=\"dataframe\">\n",
       "  <thead>\n",
       "    <tr style=\"text-align: right;\">\n",
       "      <th></th>\n",
       "      <th>sql_embedding</th>\n",
       "      <th>db2_embedding</th>\n",
       "      <th>db2</th>\n",
       "      <th>actual</th>\n",
       "    </tr>\n",
       "  </thead>\n",
       "  <tbody>\n",
       "    <tr>\n",
       "      <th>0</th>\n",
       "      <td>[-0.5597949028015137, 6.249405384063721, 2.199...</td>\n",
       "      <td>[-0.05979561805725098, -0.43220221996307373, -...</td>\n",
       "      <td>234.048</td>\n",
       "      <td>234.048</td>\n",
       "    </tr>\n",
       "    <tr>\n",
       "      <th>1</th>\n",
       "      <td>[-0.13114792108535767, 2.876124858856201, -0.3...</td>\n",
       "      <td>[1.2345705032348633, -0.4280064105987549, 1.63...</td>\n",
       "      <td>93.820</td>\n",
       "      <td>39.804</td>\n",
       "    </tr>\n",
       "    <tr>\n",
       "      <th>2</th>\n",
       "      <td>[-0.5244169235229492, 9.943038940429688, -3.58...</td>\n",
       "      <td>[-0.05979561805725098, -0.43220221996307373, -...</td>\n",
       "      <td>234.048</td>\n",
       "      <td>234.048</td>\n",
       "    </tr>\n",
       "    <tr>\n",
       "      <th>3</th>\n",
       "      <td>[-9.048543930053711, -3.4981002807617188, 3.39...</td>\n",
       "      <td>[1.2345705032348633, -0.4280064105987549, 1.63...</td>\n",
       "      <td>93.820</td>\n",
       "      <td>56.700</td>\n",
       "    </tr>\n",
       "    <tr>\n",
       "      <th>4</th>\n",
       "      <td>[-9.814127922058105, -6.830276012420654, 3.638...</td>\n",
       "      <td>[-0.36657845973968506, -0.43319669365882874, -...</td>\n",
       "      <td>267.284</td>\n",
       "      <td>267.292</td>\n",
       "    </tr>\n",
       "  </tbody>\n",
       "</table>\n",
       "</div>"
      ],
      "text/plain": [
       "                                       sql_embedding  \\\n",
       "0  [-0.5597949028015137, 6.249405384063721, 2.199...   \n",
       "1  [-0.13114792108535767, 2.876124858856201, -0.3...   \n",
       "2  [-0.5244169235229492, 9.943038940429688, -3.58...   \n",
       "3  [-9.048543930053711, -3.4981002807617188, 3.39...   \n",
       "4  [-9.814127922058105, -6.830276012420654, 3.638...   \n",
       "\n",
       "                                       db2_embedding      db2   actual  \n",
       "0  [-0.05979561805725098, -0.43220221996307373, -...  234.048  234.048  \n",
       "1  [1.2345705032348633, -0.4280064105987549, 1.63...   93.820   39.804  \n",
       "2  [-0.05979561805725098, -0.43220221996307373, -...  234.048  234.048  \n",
       "3  [1.2345705032348633, -0.4280064105987549, 1.63...   93.820   56.700  \n",
       "4  [-0.36657845973968506, -0.43319669365882874, -...  267.284  267.292  "
      ]
     },
     "execution_count": 34,
     "metadata": {},
     "output_type": "execute_result"
    }
   ],
   "source": [
    "df_train_v2.head()"
   ]
  },
  {
   "cell_type": "code",
   "execution_count": 35,
   "metadata": {},
   "outputs": [
    {
     "name": "stdout",
     "output_type": "stream",
     "text": [
      "XGBoost Model - RMSE: 11.76, MAPE: 15.80%\n",
      "db2 Predictions - RMSE: 49.10, MAPE: 47.57%\n"
     ]
    }
   ],
   "source": [
    "import numpy as np\n",
    "import pandas as pd\n",
    "from sklearn.model_selection import train_test_split\n",
    "from xgboost import XGBRegressor\n",
    "from sklearn.metrics import mean_squared_error, mean_absolute_percentage_error\n",
    "\n",
    "df = df_train_v2\n",
    "\n",
    "# Concatenate embeddings to form the feature set\n",
    "df['combined_embedding'] = df.apply(lambda row: row['sql_embedding'] + row['db2_embedding'], axis=1)\n",
    "\n",
    "# Keep 'combined_embedding' as a DataFrame column to retain indexing\n",
    "X = df[['combined_embedding']]  \n",
    "y = df['actual']\n",
    "\n",
    "# Split the data while retaining DataFrame structure\n",
    "X_train, X_test, y_train, y_test = train_test_split(X, y, test_size=0.2, random_state=42)\n",
    "\n",
    "# Convert combined embedding column to NumPy arrays after splitting\n",
    "X_train = np.vstack(X_train['combined_embedding'].values)\n",
    "X_test = np.vstack(X_test['combined_embedding'].values)\n",
    "\n",
    "# Initialize and train the XGBoost model\n",
    "model = XGBRegressor(objective='reg:squarederror', n_estimators=100, learning_rate=0.1, random_state=42)\n",
    "model.fit(X_train, y_train)\n",
    "\n",
    "# Make predictions with the XGBoost model\n",
    "xgb_pred = model.predict(X_test)\n",
    "\n",
    "# Evaluate the XGBoost model\n",
    "xgb_rmse = np.sqrt(mean_squared_error(y_test, xgb_pred))\n",
    "xgb_mape = mean_absolute_percentage_error(y_test, xgb_pred)\n",
    "\n",
    "# Ensure 'db2' predictions are aligned with the test indices\n",
    "db2_test_pred = df.loc[y_test.index, 'db2'].values\n",
    "\n",
    "# Evaluate 'db2' predictions\n",
    "db2_rmse = np.sqrt(mean_squared_error(y_test, db2_test_pred))\n",
    "db2_mape = mean_absolute_percentage_error(y_test, db2_test_pred)\n",
    "\n",
    "# Print the evaluation metrics\n",
    "print(f'XGBoost Model - RMSE: {xgb_rmse:.2f}, MAPE: {xgb_mape:.2%}')\n",
    "print(f'db2 Predictions - RMSE: {db2_rmse:.2f}, MAPE: {db2_mape:.2%}')\n"
   ]
  }
 ],
 "metadata": {
  "kernelspec": {
   "display_name": ".venv",
   "language": "python",
   "name": "python3"
  },
  "language_info": {
   "codemirror_mode": {
    "name": "ipython",
    "version": 3
   },
   "file_extension": ".py",
   "mimetype": "text/x-python",
   "name": "python",
   "nbconvert_exporter": "python",
   "pygments_lexer": "ipython3",
   "version": "3.12.3"
  }
 },
 "nbformat": 4,
 "nbformat_minor": 4
}
