{
 "cells": [
  {
   "cell_type": "markdown",
   "id": "13a5e88c",
   "metadata": {},
   "source": [
    "# Importing libraries"
   ]
  },
  {
   "cell_type": "code",
   "execution_count": 75,
   "id": "6e5d819e",
   "metadata": {},
   "outputs": [],
   "source": [
    "import pandas as pd\n",
    "from sklearn.compose import ColumnTransformer\n",
    "from sklearn.preprocessing import StandardScaler\n",
    "from sklearn.model_selection import train_test_split\n",
    "import numpy as np"
   ]
  },
  {
   "cell_type": "code",
   "execution_count": 76,
   "id": "e80648ff",
   "metadata": {},
   "outputs": [],
   "source": [
    "pd.set_option('display.max_columns', None)"
   ]
  },
  {
   "cell_type": "markdown",
   "id": "2dfccd15",
   "metadata": {},
   "source": [
    "# Loading data"
   ]
  },
  {
   "cell_type": "code",
   "execution_count": 77,
   "id": "72645c96",
   "metadata": {},
   "outputs": [],
   "source": [
    "df = pd.read_csv('Masterfile.csv')"
   ]
  },
  {
   "cell_type": "markdown",
   "id": "6b5953e2",
   "metadata": {},
   "source": [
    "# First look at the data"
   ]
  },
  {
   "cell_type": "code",
   "execution_count": 78,
   "id": "050924b6",
   "metadata": {},
   "outputs": [
    {
     "data": {
      "text/html": [
       "<div>\n",
       "<style scoped>\n",
       "    .dataframe tbody tr th:only-of-type {\n",
       "        vertical-align: middle;\n",
       "    }\n",
       "\n",
       "    .dataframe tbody tr th {\n",
       "        vertical-align: top;\n",
       "    }\n",
       "\n",
       "    .dataframe thead th {\n",
       "        text-align: right;\n",
       "    }\n",
       "</style>\n",
       "<table border=\"1\" class=\"dataframe\">\n",
       "  <thead>\n",
       "    <tr style=\"text-align: right;\">\n",
       "      <th></th>\n",
       "      <th>Unnamed: 0</th>\n",
       "      <th>FILENAME</th>\n",
       "      <th>TQ</th>\n",
       "      <th>TQ COUNT</th>\n",
       "      <th>TBSCAN</th>\n",
       "      <th>TBSCAN COUNT</th>\n",
       "      <th>SORT</th>\n",
       "      <th>SORT COUNT</th>\n",
       "      <th>FILTER</th>\n",
       "      <th>FILTER COUNT</th>\n",
       "      <th>HS JOIN</th>\n",
       "      <th>HS JOIN COUNT</th>\n",
       "      <th>TEMP</th>\n",
       "      <th>TEMP COUNT</th>\n",
       "      <th>GRPBY</th>\n",
       "      <th>GRPBY COUNT</th>\n",
       "      <th>UNIQUE</th>\n",
       "      <th>UNIQUE COUNT</th>\n",
       "      <th>UNION</th>\n",
       "      <th>UNION COUNT</th>\n",
       "      <th>NHJOIN</th>\n",
       "      <th>NHJOIN COUNT</th>\n",
       "      <th>Queries</th>\n",
       "      <th>ESTIMATED_MEMORY</th>\n",
       "      <th>ACTUAL_MEMORY</th>\n",
       "    </tr>\n",
       "  </thead>\n",
       "  <tbody>\n",
       "    <tr>\n",
       "      <th>0</th>\n",
       "      <td>0</td>\n",
       "      <td>/Users/yonisabokar/IdeaProjects/Database_Parse...</td>\n",
       "      <td>0.004700</td>\n",
       "      <td>1</td>\n",
       "      <td>1.313463e+07</td>\n",
       "      <td>9</td>\n",
       "      <td>NaN</td>\n",
       "      <td>NaN</td>\n",
       "      <td>NaN</td>\n",
       "      <td>NaN</td>\n",
       "      <td>71.773664</td>\n",
       "      <td>8</td>\n",
       "      <td>NaN</td>\n",
       "      <td>NaN</td>\n",
       "      <td>NaN</td>\n",
       "      <td>NaN</td>\n",
       "      <td>NaN</td>\n",
       "      <td>NaN</td>\n",
       "      <td>NaN</td>\n",
       "      <td>NaN</td>\n",
       "      <td>NaN</td>\n",
       "      <td>NaN</td>\n",
       "      <td>SELECT cn.name AS company_name, lt.link AS li...</td>\n",
       "      <td>130320.0</td>\n",
       "      <td>62824.0</td>\n",
       "    </tr>\n",
       "    <tr>\n",
       "      <th>1</th>\n",
       "      <td>0</td>\n",
       "      <td>/Users/yonisabokar/IdeaProjects/Database_Parse...</td>\n",
       "      <td>0.004700</td>\n",
       "      <td>1</td>\n",
       "      <td>1.313463e+07</td>\n",
       "      <td>9</td>\n",
       "      <td>NaN</td>\n",
       "      <td>NaN</td>\n",
       "      <td>NaN</td>\n",
       "      <td>NaN</td>\n",
       "      <td>71.773664</td>\n",
       "      <td>8</td>\n",
       "      <td>NaN</td>\n",
       "      <td>NaN</td>\n",
       "      <td>NaN</td>\n",
       "      <td>NaN</td>\n",
       "      <td>NaN</td>\n",
       "      <td>NaN</td>\n",
       "      <td>NaN</td>\n",
       "      <td>NaN</td>\n",
       "      <td>NaN</td>\n",
       "      <td>NaN</td>\n",
       "      <td>SELECT cn.name AS company_name, lt.link AS li...</td>\n",
       "      <td>62824.0</td>\n",
       "      <td>62824.0</td>\n",
       "    </tr>\n",
       "    <tr>\n",
       "      <th>2</th>\n",
       "      <td>0</td>\n",
       "      <td>/Users/yonisabokar/IdeaProjects/Database_Parse...</td>\n",
       "      <td>0.005288</td>\n",
       "      <td>1</td>\n",
       "      <td>1.313463e+07</td>\n",
       "      <td>9</td>\n",
       "      <td>NaN</td>\n",
       "      <td>NaN</td>\n",
       "      <td>NaN</td>\n",
       "      <td>NaN</td>\n",
       "      <td>71.829424</td>\n",
       "      <td>8</td>\n",
       "      <td>NaN</td>\n",
       "      <td>NaN</td>\n",
       "      <td>NaN</td>\n",
       "      <td>NaN</td>\n",
       "      <td>NaN</td>\n",
       "      <td>NaN</td>\n",
       "      <td>NaN</td>\n",
       "      <td>NaN</td>\n",
       "      <td>NaN</td>\n",
       "      <td>NaN</td>\n",
       "      <td>SELECT cn.name AS company_name, lt.link AS li...</td>\n",
       "      <td>62816.0</td>\n",
       "      <td>62812.0</td>\n",
       "    </tr>\n",
       "    <tr>\n",
       "      <th>3</th>\n",
       "      <td>0</td>\n",
       "      <td>/Users/yonisabokar/IdeaProjects/Database_Parse...</td>\n",
       "      <td>0.004700</td>\n",
       "      <td>1</td>\n",
       "      <td>1.313463e+07</td>\n",
       "      <td>9</td>\n",
       "      <td>NaN</td>\n",
       "      <td>NaN</td>\n",
       "      <td>NaN</td>\n",
       "      <td>NaN</td>\n",
       "      <td>71.773664</td>\n",
       "      <td>8</td>\n",
       "      <td>NaN</td>\n",
       "      <td>NaN</td>\n",
       "      <td>NaN</td>\n",
       "      <td>NaN</td>\n",
       "      <td>NaN</td>\n",
       "      <td>NaN</td>\n",
       "      <td>NaN</td>\n",
       "      <td>NaN</td>\n",
       "      <td>NaN</td>\n",
       "      <td>NaN</td>\n",
       "      <td>SELECT cn.name AS company_name, lt.link AS li...</td>\n",
       "      <td>62812.0</td>\n",
       "      <td>62813.0</td>\n",
       "    </tr>\n",
       "    <tr>\n",
       "      <th>4</th>\n",
       "      <td>0</td>\n",
       "      <td>/Users/yonisabokar/IdeaProjects/Database_Parse...</td>\n",
       "      <td>0.000016</td>\n",
       "      <td>1</td>\n",
       "      <td>1.305037e+07</td>\n",
       "      <td>9</td>\n",
       "      <td>NaN</td>\n",
       "      <td>NaN</td>\n",
       "      <td>NaN</td>\n",
       "      <td>NaN</td>\n",
       "      <td>96.419862</td>\n",
       "      <td>8</td>\n",
       "      <td>NaN</td>\n",
       "      <td>NaN</td>\n",
       "      <td>NaN</td>\n",
       "      <td>NaN</td>\n",
       "      <td>NaN</td>\n",
       "      <td>NaN</td>\n",
       "      <td>NaN</td>\n",
       "      <td>NaN</td>\n",
       "      <td>NaN</td>\n",
       "      <td>NaN</td>\n",
       "      <td>SELECT cn.name AS company_name, lt.link AS li...</td>\n",
       "      <td>42875.0</td>\n",
       "      <td>42829.0</td>\n",
       "    </tr>\n",
       "  </tbody>\n",
       "</table>\n",
       "</div>"
      ],
      "text/plain": [
       "   Unnamed: 0                                           FILENAME        TQ  \\\n",
       "0           0  /Users/yonisabokar/IdeaProjects/Database_Parse...  0.004700   \n",
       "1           0  /Users/yonisabokar/IdeaProjects/Database_Parse...  0.004700   \n",
       "2           0  /Users/yonisabokar/IdeaProjects/Database_Parse...  0.005288   \n",
       "3           0  /Users/yonisabokar/IdeaProjects/Database_Parse...  0.004700   \n",
       "4           0  /Users/yonisabokar/IdeaProjects/Database_Parse...  0.000016   \n",
       "\n",
       "   TQ COUNT        TBSCAN  TBSCAN COUNT  SORT  SORT COUNT  FILTER  \\\n",
       "0         1  1.313463e+07             9   NaN         NaN     NaN   \n",
       "1         1  1.313463e+07             9   NaN         NaN     NaN   \n",
       "2         1  1.313463e+07             9   NaN         NaN     NaN   \n",
       "3         1  1.313463e+07             9   NaN         NaN     NaN   \n",
       "4         1  1.305037e+07             9   NaN         NaN     NaN   \n",
       "\n",
       "   FILTER COUNT    HS JOIN  HS JOIN COUNT  TEMP  TEMP COUNT  GRPBY  \\\n",
       "0           NaN  71.773664              8   NaN         NaN    NaN   \n",
       "1           NaN  71.773664              8   NaN         NaN    NaN   \n",
       "2           NaN  71.829424              8   NaN         NaN    NaN   \n",
       "3           NaN  71.773664              8   NaN         NaN    NaN   \n",
       "4           NaN  96.419862              8   NaN         NaN    NaN   \n",
       "\n",
       "   GRPBY COUNT  UNIQUE  UNIQUE COUNT  UNION  UNION COUNT  NHJOIN  \\\n",
       "0          NaN     NaN           NaN    NaN          NaN     NaN   \n",
       "1          NaN     NaN           NaN    NaN          NaN     NaN   \n",
       "2          NaN     NaN           NaN    NaN          NaN     NaN   \n",
       "3          NaN     NaN           NaN    NaN          NaN     NaN   \n",
       "4          NaN     NaN           NaN    NaN          NaN     NaN   \n",
       "\n",
       "   NHJOIN COUNT                                            Queries  \\\n",
       "0           NaN   SELECT cn.name AS company_name, lt.link AS li...   \n",
       "1           NaN   SELECT cn.name AS company_name, lt.link AS li...   \n",
       "2           NaN   SELECT cn.name AS company_name, lt.link AS li...   \n",
       "3           NaN   SELECT cn.name AS company_name, lt.link AS li...   \n",
       "4           NaN   SELECT cn.name AS company_name, lt.link AS li...   \n",
       "\n",
       "   ESTIMATED_MEMORY  ACTUAL_MEMORY  \n",
       "0          130320.0        62824.0  \n",
       "1           62824.0        62824.0  \n",
       "2           62816.0        62812.0  \n",
       "3           62812.0        62813.0  \n",
       "4           42875.0        42829.0  "
      ]
     },
     "execution_count": 78,
     "metadata": {},
     "output_type": "execute_result"
    }
   ],
   "source": [
    "df.head()"
   ]
  },
  {
   "cell_type": "code",
   "execution_count": 79,
   "id": "a5d336a2",
   "metadata": {},
   "outputs": [
    {
     "name": "stdout",
     "output_type": "stream",
     "text": [
      "<class 'pandas.core.frame.DataFrame'>\n",
      "RangeIndex: 2335 entries, 0 to 2334\n",
      "Data columns (total 25 columns):\n",
      " #   Column            Non-Null Count  Dtype  \n",
      "---  ------            --------------  -----  \n",
      " 0   Unnamed: 0        2335 non-null   int64  \n",
      " 1   FILENAME          2335 non-null   object \n",
      " 2   TQ                2335 non-null   float64\n",
      " 3   TQ COUNT          2335 non-null   int64  \n",
      " 4   TBSCAN            2335 non-null   float64\n",
      " 5   TBSCAN COUNT      2335 non-null   int64  \n",
      " 6   SORT              0 non-null      float64\n",
      " 7   SORT COUNT        0 non-null      float64\n",
      " 8   FILTER            0 non-null      float64\n",
      " 9   FILTER COUNT      0 non-null      float64\n",
      " 10  HS JOIN           2335 non-null   float64\n",
      " 11  HS JOIN COUNT     2335 non-null   int64  \n",
      " 12  TEMP              0 non-null      float64\n",
      " 13  TEMP COUNT        0 non-null      float64\n",
      " 14  GRPBY             0 non-null      float64\n",
      " 15  GRPBY COUNT       0 non-null      float64\n",
      " 16  UNIQUE            0 non-null      float64\n",
      " 17  UNIQUE COUNT      0 non-null      float64\n",
      " 18  UNION             0 non-null      float64\n",
      " 19  UNION COUNT       0 non-null      float64\n",
      " 20  NHJOIN            0 non-null      float64\n",
      " 21  NHJOIN COUNT      0 non-null      float64\n",
      " 22  Queries           2335 non-null   object \n",
      " 23  ESTIMATED_MEMORY  2332 non-null   float64\n",
      " 24  ACTUAL_MEMORY     2332 non-null   float64\n",
      "dtypes: float64(19), int64(4), object(2)\n",
      "memory usage: 456.2+ KB\n"
     ]
    }
   ],
   "source": [
    "df.info()"
   ]
  },
  {
   "cell_type": "markdown",
   "id": "8001abaa",
   "metadata": {},
   "source": [
    "## Dropping non-feature columns"
   ]
  },
  {
   "cell_type": "code",
   "execution_count": 80,
   "id": "696b628f",
   "metadata": {},
   "outputs": [
    {
     "data": {
      "text/plain": [
       "Index(['Unnamed: 0', 'FILENAME', 'TQ', 'TQ COUNT', 'TBSCAN', 'TBSCAN COUNT',\n",
       "       'SORT', 'SORT COUNT', 'FILTER', 'FILTER COUNT', 'HS JOIN',\n",
       "       'HS JOIN COUNT', 'TEMP', 'TEMP COUNT', 'GRPBY', 'GRPBY COUNT', 'UNIQUE',\n",
       "       'UNIQUE COUNT', 'UNION', 'UNION COUNT', 'NHJOIN', 'NHJOIN COUNT',\n",
       "       'Queries', 'ESTIMATED_MEMORY', 'ACTUAL_MEMORY'],\n",
       "      dtype='object')"
      ]
     },
     "execution_count": 80,
     "metadata": {},
     "output_type": "execute_result"
    }
   ],
   "source": [
    "df.columns"
   ]
  },
  {
   "cell_type": "code",
   "execution_count": 81,
   "id": "d6179b71",
   "metadata": {},
   "outputs": [],
   "source": [
    "cols_keep = ['Queries', 'ESTIMATED_MEMORY', 'ACTUAL_MEMORY']\n",
    "df = df[cols_keep]"
   ]
  },
  {
   "cell_type": "code",
   "execution_count": 82,
   "id": "331e27b3",
   "metadata": {},
   "outputs": [
    {
     "name": "stdout",
     "output_type": "stream",
     "text": [
      "<class 'pandas.core.frame.DataFrame'>\n",
      "RangeIndex: 2335 entries, 0 to 2334\n",
      "Data columns (total 3 columns):\n",
      " #   Column            Non-Null Count  Dtype  \n",
      "---  ------            --------------  -----  \n",
      " 0   Queries           2335 non-null   object \n",
      " 1   ESTIMATED_MEMORY  2332 non-null   float64\n",
      " 2   ACTUAL_MEMORY     2332 non-null   float64\n",
      "dtypes: float64(2), object(1)\n",
      "memory usage: 54.9+ KB\n"
     ]
    }
   ],
   "source": [
    "df.info()"
   ]
  },
  {
   "cell_type": "markdown",
   "id": "bafb4fd8",
   "metadata": {},
   "source": [
    "# Checking Missing Values"
   ]
  },
  {
   "cell_type": "code",
   "execution_count": 83,
   "id": "22c92cfd",
   "metadata": {},
   "outputs": [
    {
     "data": {
      "text/plain": [
       "Queries             0\n",
       "ESTIMATED_MEMORY    3\n",
       "ACTUAL_MEMORY       3\n",
       "dtype: int64"
      ]
     },
     "execution_count": 83,
     "metadata": {},
     "output_type": "execute_result"
    }
   ],
   "source": [
    "df.isnull().sum()"
   ]
  },
  {
   "cell_type": "markdown",
   "id": "fdbb2838",
   "metadata": {},
   "source": [
    "## Dropping columns with all missing values"
   ]
  },
  {
   "cell_type": "code",
   "execution_count": 84,
   "id": "baed0fc9",
   "metadata": {},
   "outputs": [],
   "source": [
    "df.dropna(axis=1, how='all', inplace=True)"
   ]
  },
  {
   "cell_type": "code",
   "execution_count": 85,
   "id": "9436231f",
   "metadata": {},
   "outputs": [
    {
     "name": "stdout",
     "output_type": "stream",
     "text": [
      "<class 'pandas.core.frame.DataFrame'>\n",
      "RangeIndex: 2335 entries, 0 to 2334\n",
      "Data columns (total 3 columns):\n",
      " #   Column            Non-Null Count  Dtype  \n",
      "---  ------            --------------  -----  \n",
      " 0   Queries           2335 non-null   object \n",
      " 1   ESTIMATED_MEMORY  2332 non-null   float64\n",
      " 2   ACTUAL_MEMORY     2332 non-null   float64\n",
      "dtypes: float64(2), object(1)\n",
      "memory usage: 54.9+ KB\n"
     ]
    }
   ],
   "source": [
    "df.info()"
   ]
  },
  {
   "cell_type": "code",
   "execution_count": 86,
   "id": "7d524339",
   "metadata": {},
   "outputs": [
    {
     "data": {
      "text/plain": [
       "Queries             0\n",
       "ESTIMATED_MEMORY    3\n",
       "ACTUAL_MEMORY       3\n",
       "dtype: int64"
      ]
     },
     "execution_count": 86,
     "metadata": {},
     "output_type": "execute_result"
    }
   ],
   "source": [
    "df.isnull().sum()"
   ]
  },
  {
   "cell_type": "markdown",
   "id": "035cc1f4",
   "metadata": {},
   "source": [
    "## Dropping rows with missing values"
   ]
  },
  {
   "cell_type": "code",
   "execution_count": 87,
   "id": "8a078cff",
   "metadata": {},
   "outputs": [],
   "source": [
    "df.dropna(axis=0, inplace=True)"
   ]
  },
  {
   "cell_type": "code",
   "execution_count": 88,
   "id": "bb9094e3",
   "metadata": {},
   "outputs": [
    {
     "name": "stdout",
     "output_type": "stream",
     "text": [
      "<class 'pandas.core.frame.DataFrame'>\n",
      "Index: 2332 entries, 0 to 2334\n",
      "Data columns (total 3 columns):\n",
      " #   Column            Non-Null Count  Dtype  \n",
      "---  ------            --------------  -----  \n",
      " 0   Queries           2332 non-null   object \n",
      " 1   ESTIMATED_MEMORY  2332 non-null   float64\n",
      " 2   ACTUAL_MEMORY     2332 non-null   float64\n",
      "dtypes: float64(2), object(1)\n",
      "memory usage: 72.9+ KB\n"
     ]
    }
   ],
   "source": [
    "df.info()"
   ]
  },
  {
   "cell_type": "code",
   "execution_count": 89,
   "id": "27fa8f4e",
   "metadata": {},
   "outputs": [
    {
     "data": {
      "text/html": [
       "<div>\n",
       "<style scoped>\n",
       "    .dataframe tbody tr th:only-of-type {\n",
       "        vertical-align: middle;\n",
       "    }\n",
       "\n",
       "    .dataframe tbody tr th {\n",
       "        vertical-align: top;\n",
       "    }\n",
       "\n",
       "    .dataframe thead th {\n",
       "        text-align: right;\n",
       "    }\n",
       "</style>\n",
       "<table border=\"1\" class=\"dataframe\">\n",
       "  <thead>\n",
       "    <tr style=\"text-align: right;\">\n",
       "      <th></th>\n",
       "      <th>Queries</th>\n",
       "      <th>ESTIMATED_MEMORY</th>\n",
       "      <th>ACTUAL_MEMORY</th>\n",
       "    </tr>\n",
       "  </thead>\n",
       "  <tbody>\n",
       "    <tr>\n",
       "      <th>0</th>\n",
       "      <td>SELECT cn.name AS company_name, lt.link AS li...</td>\n",
       "      <td>130320.0</td>\n",
       "      <td>62824.0</td>\n",
       "    </tr>\n",
       "    <tr>\n",
       "      <th>1</th>\n",
       "      <td>SELECT cn.name AS company_name, lt.link AS li...</td>\n",
       "      <td>62824.0</td>\n",
       "      <td>62824.0</td>\n",
       "    </tr>\n",
       "    <tr>\n",
       "      <th>2</th>\n",
       "      <td>SELECT cn.name AS company_name, lt.link AS li...</td>\n",
       "      <td>62816.0</td>\n",
       "      <td>62812.0</td>\n",
       "    </tr>\n",
       "    <tr>\n",
       "      <th>3</th>\n",
       "      <td>SELECT cn.name AS company_name, lt.link AS li...</td>\n",
       "      <td>62812.0</td>\n",
       "      <td>62813.0</td>\n",
       "    </tr>\n",
       "    <tr>\n",
       "      <th>4</th>\n",
       "      <td>SELECT cn.name AS company_name, lt.link AS li...</td>\n",
       "      <td>42875.0</td>\n",
       "      <td>42829.0</td>\n",
       "    </tr>\n",
       "  </tbody>\n",
       "</table>\n",
       "</div>"
      ],
      "text/plain": [
       "                                             Queries  ESTIMATED_MEMORY  \\\n",
       "0   SELECT cn.name AS company_name, lt.link AS li...          130320.0   \n",
       "1   SELECT cn.name AS company_name, lt.link AS li...           62824.0   \n",
       "2   SELECT cn.name AS company_name, lt.link AS li...           62816.0   \n",
       "3   SELECT cn.name AS company_name, lt.link AS li...           62812.0   \n",
       "4   SELECT cn.name AS company_name, lt.link AS li...           42875.0   \n",
       "\n",
       "   ACTUAL_MEMORY  \n",
       "0        62824.0  \n",
       "1        62824.0  \n",
       "2        62812.0  \n",
       "3        62813.0  \n",
       "4        42829.0  "
      ]
     },
     "execution_count": 89,
     "metadata": {},
     "output_type": "execute_result"
    }
   ],
   "source": [
    "df.head()"
   ]
  },
  {
   "cell_type": "code",
   "execution_count": 90,
   "id": "d7b20e95",
   "metadata": {},
   "outputs": [
    {
     "data": {
      "text/plain": [
       "(2332, 3)"
      ]
     },
     "execution_count": 90,
     "metadata": {},
     "output_type": "execute_result"
    }
   ],
   "source": [
    "df.shape"
   ]
  },
  {
   "cell_type": "code",
   "execution_count": 91,
   "id": "cfa8d050",
   "metadata": {},
   "outputs": [
    {
     "data": {
      "text/plain": [
       "Index(['Queries', 'ESTIMATED_MEMORY', 'ACTUAL_MEMORY'], dtype='object')"
      ]
     },
     "execution_count": 91,
     "metadata": {},
     "output_type": "execute_result"
    }
   ],
   "source": [
    "df.columns\n",
    "# Instead of 'ESTIMATED_SORT_SHRHEAP_TOP' and 'SORT_SHRHEAP_TOP', \n",
    "# here there is 'ESTIMATED_MEMORY'and 'ACTUAL_MEMORY'"
   ]
  },
  {
   "cell_type": "markdown",
   "id": "2e41085d",
   "metadata": {},
   "source": [
    "# Converting these values to MB"
   ]
  },
  {
   "cell_type": "code",
   "execution_count": 92,
   "id": "b24e1022",
   "metadata": {},
   "outputs": [],
   "source": [
    "df['ESTIMATED_MEMORY'] = df['ESTIMATED_MEMORY'] * 4000 / 1000000\n",
    "df['ACTUAL_MEMORY'] = df['ACTUAL_MEMORY'] * 4000 / 1000000"
   ]
  },
  {
   "cell_type": "code",
   "execution_count": 93,
   "id": "9a425f9a",
   "metadata": {
    "scrolled": true
   },
   "outputs": [
    {
     "data": {
      "text/html": [
       "<div>\n",
       "<style scoped>\n",
       "    .dataframe tbody tr th:only-of-type {\n",
       "        vertical-align: middle;\n",
       "    }\n",
       "\n",
       "    .dataframe tbody tr th {\n",
       "        vertical-align: top;\n",
       "    }\n",
       "\n",
       "    .dataframe thead th {\n",
       "        text-align: right;\n",
       "    }\n",
       "</style>\n",
       "<table border=\"1\" class=\"dataframe\">\n",
       "  <thead>\n",
       "    <tr style=\"text-align: right;\">\n",
       "      <th></th>\n",
       "      <th>Queries</th>\n",
       "      <th>ESTIMATED_MEMORY</th>\n",
       "      <th>ACTUAL_MEMORY</th>\n",
       "    </tr>\n",
       "  </thead>\n",
       "  <tbody>\n",
       "    <tr>\n",
       "      <th>0</th>\n",
       "      <td>SELECT cn.name AS company_name, lt.link AS li...</td>\n",
       "      <td>521.280</td>\n",
       "      <td>251.296</td>\n",
       "    </tr>\n",
       "    <tr>\n",
       "      <th>1</th>\n",
       "      <td>SELECT cn.name AS company_name, lt.link AS li...</td>\n",
       "      <td>251.296</td>\n",
       "      <td>251.296</td>\n",
       "    </tr>\n",
       "    <tr>\n",
       "      <th>2</th>\n",
       "      <td>SELECT cn.name AS company_name, lt.link AS li...</td>\n",
       "      <td>251.264</td>\n",
       "      <td>251.248</td>\n",
       "    </tr>\n",
       "    <tr>\n",
       "      <th>3</th>\n",
       "      <td>SELECT cn.name AS company_name, lt.link AS li...</td>\n",
       "      <td>251.248</td>\n",
       "      <td>251.252</td>\n",
       "    </tr>\n",
       "    <tr>\n",
       "      <th>4</th>\n",
       "      <td>SELECT cn.name AS company_name, lt.link AS li...</td>\n",
       "      <td>171.500</td>\n",
       "      <td>171.316</td>\n",
       "    </tr>\n",
       "  </tbody>\n",
       "</table>\n",
       "</div>"
      ],
      "text/plain": [
       "                                             Queries  ESTIMATED_MEMORY  \\\n",
       "0   SELECT cn.name AS company_name, lt.link AS li...           521.280   \n",
       "1   SELECT cn.name AS company_name, lt.link AS li...           251.296   \n",
       "2   SELECT cn.name AS company_name, lt.link AS li...           251.264   \n",
       "3   SELECT cn.name AS company_name, lt.link AS li...           251.248   \n",
       "4   SELECT cn.name AS company_name, lt.link AS li...           171.500   \n",
       "\n",
       "   ACTUAL_MEMORY  \n",
       "0        251.296  \n",
       "1        251.296  \n",
       "2        251.248  \n",
       "3        251.252  \n",
       "4        171.316  "
      ]
     },
     "execution_count": 93,
     "metadata": {},
     "output_type": "execute_result"
    }
   ],
   "source": [
    "df.head()"
   ]
  },
  {
   "cell_type": "code",
   "execution_count": 94,
   "id": "cd9c9956",
   "metadata": {},
   "outputs": [
    {
     "data": {
      "text/plain": [
       "Index(['Queries', 'ESTIMATED_MEMORY', 'ACTUAL_MEMORY'], dtype='object')"
      ]
     },
     "execution_count": 94,
     "metadata": {},
     "output_type": "execute_result"
    }
   ],
   "source": [
    "df.columns"
   ]
  },
  {
   "cell_type": "code",
   "execution_count": 95,
   "id": "c737e938",
   "metadata": {},
   "outputs": [],
   "source": [
    "df.rename(columns={'Queries':'sql', 'ESTIMATED_MEMORY':'db2', 'ACTUAL_MEMORY':'actual'}, inplace=True)"
   ]
  },
  {
   "cell_type": "code",
   "execution_count": 96,
   "id": "b9d0093d",
   "metadata": {},
   "outputs": [],
   "source": [
    "df.to_csv('job2-clean.csv', index=False)"
   ]
  },
  {
   "cell_type": "code",
   "execution_count": 99,
   "id": "9d0b6422",
   "metadata": {},
   "outputs": [
    {
     "data": {
      "text/html": [
       "<div>\n",
       "<style scoped>\n",
       "    .dataframe tbody tr th:only-of-type {\n",
       "        vertical-align: middle;\n",
       "    }\n",
       "\n",
       "    .dataframe tbody tr th {\n",
       "        vertical-align: top;\n",
       "    }\n",
       "\n",
       "    .dataframe thead th {\n",
       "        text-align: right;\n",
       "    }\n",
       "</style>\n",
       "<table border=\"1\" class=\"dataframe\">\n",
       "  <thead>\n",
       "    <tr style=\"text-align: right;\">\n",
       "      <th></th>\n",
       "      <th>sql</th>\n",
       "      <th>db2</th>\n",
       "      <th>actual</th>\n",
       "    </tr>\n",
       "  </thead>\n",
       "  <tbody>\n",
       "    <tr>\n",
       "      <th>0</th>\n",
       "      <td>SELECT cn.name AS company_name, lt.link AS li...</td>\n",
       "      <td>521.280</td>\n",
       "      <td>251.296</td>\n",
       "    </tr>\n",
       "    <tr>\n",
       "      <th>1</th>\n",
       "      <td>SELECT cn.name AS company_name, lt.link AS li...</td>\n",
       "      <td>251.296</td>\n",
       "      <td>251.296</td>\n",
       "    </tr>\n",
       "    <tr>\n",
       "      <th>2</th>\n",
       "      <td>SELECT cn.name AS company_name, lt.link AS li...</td>\n",
       "      <td>251.264</td>\n",
       "      <td>251.248</td>\n",
       "    </tr>\n",
       "    <tr>\n",
       "      <th>3</th>\n",
       "      <td>SELECT cn.name AS company_name, lt.link AS li...</td>\n",
       "      <td>251.248</td>\n",
       "      <td>251.252</td>\n",
       "    </tr>\n",
       "    <tr>\n",
       "      <th>4</th>\n",
       "      <td>SELECT cn.name AS company_name, lt.link AS li...</td>\n",
       "      <td>171.500</td>\n",
       "      <td>171.316</td>\n",
       "    </tr>\n",
       "  </tbody>\n",
       "</table>\n",
       "</div>"
      ],
      "text/plain": [
       "                                                 sql      db2   actual\n",
       "0   SELECT cn.name AS company_name, lt.link AS li...  521.280  251.296\n",
       "1   SELECT cn.name AS company_name, lt.link AS li...  251.296  251.296\n",
       "2   SELECT cn.name AS company_name, lt.link AS li...  251.264  251.248\n",
       "3   SELECT cn.name AS company_name, lt.link AS li...  251.248  251.252\n",
       "4   SELECT cn.name AS company_name, lt.link AS li...  171.500  171.316"
      ]
     },
     "execution_count": 99,
     "metadata": {},
     "output_type": "execute_result"
    }
   ],
   "source": [
    "df.head()"
   ]
  },
  {
   "cell_type": "markdown",
   "id": "380ccbf1",
   "metadata": {},
   "source": [
    "# Generating embeddings of the SQL text"
   ]
  },
  {
   "cell_type": "code",
   "execution_count": 103,
   "id": "b2c77c44",
   "metadata": {},
   "outputs": [
    {
     "data": {
      "application/vnd.jupyter.widget-view+json": {
       "model_id": "5ab23cf79e504d4ab865b6fc5c9741be",
       "version_major": 2,
       "version_minor": 0
      },
      "text/plain": [
       "modules.json:   0%|          | 0.00/349 [00:00<?, ?B/s]"
      ]
     },
     "metadata": {},
     "output_type": "display_data"
    },
    {
     "data": {
      "application/vnd.jupyter.widget-view+json": {
       "model_id": "d8d60c07a0054048a1d85d96218d1a9b",
       "version_major": 2,
       "version_minor": 0
      },
      "text/plain": [
       "config_sentence_transformers.json:   0%|          | 0.00/116 [00:00<?, ?B/s]"
      ]
     },
     "metadata": {},
     "output_type": "display_data"
    },
    {
     "data": {
      "application/vnd.jupyter.widget-view+json": {
       "model_id": "8dcc62fa7d304c87a0d27c7dfa8c0ce5",
       "version_major": 2,
       "version_minor": 0
      },
      "text/plain": [
       "README.md:   0%|          | 0.00/10.7k [00:00<?, ?B/s]"
      ]
     },
     "metadata": {},
     "output_type": "display_data"
    },
    {
     "data": {
      "application/vnd.jupyter.widget-view+json": {
       "model_id": "d08bcae18bfa4a798db45f50326a047e",
       "version_major": 2,
       "version_minor": 0
      },
      "text/plain": [
       "sentence_bert_config.json:   0%|          | 0.00/53.0 [00:00<?, ?B/s]"
      ]
     },
     "metadata": {},
     "output_type": "display_data"
    },
    {
     "data": {
      "application/vnd.jupyter.widget-view+json": {
       "model_id": "a9dbf29e08294fcb95548646b14d4743",
       "version_major": 2,
       "version_minor": 0
      },
      "text/plain": [
       "config.json:   0%|          | 0.00/612 [00:00<?, ?B/s]"
      ]
     },
     "metadata": {},
     "output_type": "display_data"
    },
    {
     "data": {
      "application/vnd.jupyter.widget-view+json": {
       "model_id": "ca7ba586b4604b7f90ab6392d50f461c",
       "version_major": 2,
       "version_minor": 0
      },
      "text/plain": [
       "model.safetensors:   0%|          | 0.00/90.9M [00:00<?, ?B/s]"
      ]
     },
     "metadata": {},
     "output_type": "display_data"
    },
    {
     "data": {
      "application/vnd.jupyter.widget-view+json": {
       "model_id": "3531b3961876412783c9bffb52e59e88",
       "version_major": 2,
       "version_minor": 0
      },
      "text/plain": [
       "tokenizer_config.json:   0%|          | 0.00/350 [00:00<?, ?B/s]"
      ]
     },
     "metadata": {},
     "output_type": "display_data"
    },
    {
     "data": {
      "application/vnd.jupyter.widget-view+json": {
       "model_id": "7c529a41ff024cfebf8b9a62ca1f7263",
       "version_major": 2,
       "version_minor": 0
      },
      "text/plain": [
       "vocab.txt:   0%|          | 0.00/232k [00:00<?, ?B/s]"
      ]
     },
     "metadata": {},
     "output_type": "display_data"
    },
    {
     "data": {
      "application/vnd.jupyter.widget-view+json": {
       "model_id": "424f4683ddf6415982ee7f9e3388257e",
       "version_major": 2,
       "version_minor": 0
      },
      "text/plain": [
       "tokenizer.json:   0%|          | 0.00/466k [00:00<?, ?B/s]"
      ]
     },
     "metadata": {},
     "output_type": "display_data"
    },
    {
     "data": {
      "application/vnd.jupyter.widget-view+json": {
       "model_id": "83e6b14e4e5d48a59115e596d1b305d1",
       "version_major": 2,
       "version_minor": 0
      },
      "text/plain": [
       "special_tokens_map.json:   0%|          | 0.00/112 [00:00<?, ?B/s]"
      ]
     },
     "metadata": {},
     "output_type": "display_data"
    },
    {
     "data": {
      "application/vnd.jupyter.widget-view+json": {
       "model_id": "0be02e35c2b04810b430debfb783ff5f",
       "version_major": 2,
       "version_minor": 0
      },
      "text/plain": [
       "1_Pooling/config.json:   0%|          | 0.00/190 [00:00<?, ?B/s]"
      ]
     },
     "metadata": {},
     "output_type": "display_data"
    }
   ],
   "source": [
    "from sentence_transformers import SentenceTransformer\n",
    "\n",
    "# Specify a custom cache directory\n",
    "model = SentenceTransformer('sentence-transformers/all-MiniLM-L6-v2', cache_folder='./custom_cache')\n"
   ]
  },
  {
   "cell_type": "code",
   "execution_count": 104,
   "id": "b82d1a85",
   "metadata": {},
   "outputs": [
    {
     "data": {
      "text/html": [
       "<div>\n",
       "<style scoped>\n",
       "    .dataframe tbody tr th:only-of-type {\n",
       "        vertical-align: middle;\n",
       "    }\n",
       "\n",
       "    .dataframe tbody tr th {\n",
       "        vertical-align: top;\n",
       "    }\n",
       "\n",
       "    .dataframe thead th {\n",
       "        text-align: right;\n",
       "    }\n",
       "</style>\n",
       "<table border=\"1\" class=\"dataframe\">\n",
       "  <thead>\n",
       "    <tr style=\"text-align: right;\">\n",
       "      <th></th>\n",
       "      <th>sql</th>\n",
       "      <th>db2</th>\n",
       "      <th>actual</th>\n",
       "    </tr>\n",
       "  </thead>\n",
       "  <tbody>\n",
       "    <tr>\n",
       "      <th>0</th>\n",
       "      <td>SELECT cn.name AS company_name, lt.link AS li...</td>\n",
       "      <td>521.280</td>\n",
       "      <td>251.296</td>\n",
       "    </tr>\n",
       "    <tr>\n",
       "      <th>1</th>\n",
       "      <td>SELECT cn.name AS company_name, lt.link AS li...</td>\n",
       "      <td>251.296</td>\n",
       "      <td>251.296</td>\n",
       "    </tr>\n",
       "    <tr>\n",
       "      <th>2</th>\n",
       "      <td>SELECT cn.name AS company_name, lt.link AS li...</td>\n",
       "      <td>251.264</td>\n",
       "      <td>251.248</td>\n",
       "    </tr>\n",
       "    <tr>\n",
       "      <th>3</th>\n",
       "      <td>SELECT cn.name AS company_name, lt.link AS li...</td>\n",
       "      <td>251.248</td>\n",
       "      <td>251.252</td>\n",
       "    </tr>\n",
       "    <tr>\n",
       "      <th>4</th>\n",
       "      <td>SELECT cn.name AS company_name, lt.link AS li...</td>\n",
       "      <td>171.500</td>\n",
       "      <td>171.316</td>\n",
       "    </tr>\n",
       "  </tbody>\n",
       "</table>\n",
       "</div>"
      ],
      "text/plain": [
       "                                                 sql      db2   actual\n",
       "0   SELECT cn.name AS company_name, lt.link AS li...  521.280  251.296\n",
       "1   SELECT cn.name AS company_name, lt.link AS li...  251.296  251.296\n",
       "2   SELECT cn.name AS company_name, lt.link AS li...  251.264  251.248\n",
       "3   SELECT cn.name AS company_name, lt.link AS li...  251.248  251.252\n",
       "4   SELECT cn.name AS company_name, lt.link AS li...  171.500  171.316"
      ]
     },
     "execution_count": 104,
     "metadata": {},
     "output_type": "execute_result"
    }
   ],
   "source": [
    "df.head()"
   ]
  },
  {
   "cell_type": "code",
   "execution_count": 105,
   "id": "85b628ff",
   "metadata": {},
   "outputs": [],
   "source": [
    "import numpy as np\n",
    "\n",
    "batch_size = 64\n",
    "embeddings = []\n",
    "\n",
    "for i in range(0, len(df), batch_size):\n",
    "    batch = df['sql'].iloc[i:i+batch_size].tolist()\n",
    "    batch_embeddings = model.encode(batch)\n",
    "    embeddings.extend(batch_embeddings)\n",
    "\n",
    "# Add embeddings to the DataFrame\n",
    "df['sql_embedding'] = embeddings"
   ]
  },
  {
   "cell_type": "code",
   "execution_count": 106,
   "id": "e82d82a4",
   "metadata": {},
   "outputs": [
    {
     "data": {
      "text/plain": [
       "Index(['sql', 'db2', 'actual', 'sql_embedding'], dtype='object')"
      ]
     },
     "execution_count": 106,
     "metadata": {},
     "output_type": "execute_result"
    }
   ],
   "source": [
    "df.columns"
   ]
  },
  {
   "cell_type": "code",
   "execution_count": 107,
   "id": "efa0ed6e",
   "metadata": {},
   "outputs": [
    {
     "name": "stdout",
     "output_type": "stream",
     "text": [
      "<class 'pandas.core.frame.DataFrame'>\n",
      "Index: 2332 entries, 0 to 2334\n",
      "Data columns (total 4 columns):\n",
      " #   Column         Non-Null Count  Dtype  \n",
      "---  ------         --------------  -----  \n",
      " 0   sql            2332 non-null   object \n",
      " 1   db2            2332 non-null   float64\n",
      " 2   actual         2332 non-null   float64\n",
      " 3   sql_embedding  2332 non-null   object \n",
      "dtypes: float64(2), object(2)\n",
      "memory usage: 91.1+ KB\n"
     ]
    }
   ],
   "source": [
    "df.info()"
   ]
  },
  {
   "cell_type": "code",
   "execution_count": 109,
   "id": "a33c954b",
   "metadata": {},
   "outputs": [
    {
     "name": "stdout",
     "output_type": "stream",
     "text": [
      "[ 7.47370794e-02 -4.23083119e-02  3.44582312e-02  5.27856313e-02\n",
      " -9.65094008e-03  3.59796695e-02  9.71529335e-02 -7.36669172e-03\n",
      " -8.44681934e-02  1.72663573e-02  1.09555021e-01 -2.89458525e-03\n",
      "  1.07089967e-01 -7.46156424e-02 -6.08413592e-02  1.16378158e-01\n",
      "  6.57423735e-02  8.20209365e-03 -3.63384187e-02 -5.32566011e-02\n",
      " -2.76523978e-02  2.08804943e-02  2.79304367e-02 -1.57242250e-02\n",
      "  4.49437946e-02  2.40794662e-02  1.56186735e-02  4.21851091e-02\n",
      " -3.75329680e-03 -5.57355024e-02 -1.22741982e-01  7.12954625e-02\n",
      "  2.31467746e-03  3.85144837e-02  1.15833171e-01 -7.07320198e-02\n",
      " -7.96265230e-02 -2.61578280e-02  4.41403985e-02  1.92825701e-02\n",
      " -5.20544418e-04 -4.89756130e-02  7.76908398e-02  1.95369404e-02\n",
      "  1.50788231e-02  2.82378681e-02 -6.14246633e-03  4.40542549e-02\n",
      "  2.36075856e-02  2.87716202e-02 -1.28592581e-01 -1.54983737e-02\n",
      " -2.45579309e-03 -1.90576084e-03  3.20792682e-02 -6.43602312e-02\n",
      " -7.50623494e-02  4.54589091e-02 -1.07965484e-01 -7.68895969e-02\n",
      " -1.77532211e-02 -5.04951701e-02  3.71948965e-02 -5.95663786e-02\n",
      " -2.38156579e-02 -6.25858158e-02 -9.67218354e-02  5.70895597e-02\n",
      " -3.44720967e-02 -8.00697356e-02  1.68013945e-02  2.36355495e-02\n",
      " -3.94976437e-02  1.20862231e-01 -1.14920765e-01 -9.57004074e-03\n",
      "  1.82362329e-02 -9.36416537e-03  4.59990045e-03  2.99577452e-02\n",
      " -5.79239801e-02 -5.87124517e-03 -1.47271469e-01  4.25951369e-03\n",
      "  8.02633073e-03 -5.46217002e-02  1.10382192e-01 -2.93110143e-02\n",
      " -3.21087870e-03  4.05336078e-03 -3.04765794e-02 -5.76312048e-03\n",
      "  4.40416038e-02 -6.77568540e-02  2.37617604e-02 -7.82940816e-03\n",
      " -4.10128348e-02  8.92268308e-03  6.67898059e-02  2.87402682e-02\n",
      " -1.47104554e-03  4.36550975e-02  1.25218034e-02 -4.82385568e-02\n",
      " -1.34574011e-01  3.57345045e-02  5.87857217e-02  1.09721519e-01\n",
      "  8.38302523e-02 -2.49538142e-02 -1.47103503e-01 -1.45424418e-02\n",
      " -2.51133349e-02 -5.34230880e-02  4.13238034e-02 -8.87230039e-02\n",
      "  7.18795806e-02  5.53921387e-02  5.00639491e-02 -1.17882481e-02\n",
      " -2.49070954e-02  8.77530724e-02 -3.03367674e-02  6.04210142e-03\n",
      " -1.58536687e-01  2.69076880e-02 -1.66913215e-02 -3.17355887e-33\n",
      "  4.73359646e-03 -1.13514615e-02  3.43780173e-03 -6.32828996e-02\n",
      " -1.82648972e-02 -4.48203124e-02 -2.40544099e-02  4.64440733e-02\n",
      " -3.54818590e-02 -1.69109870e-02 -2.98303571e-02 -7.30853975e-02\n",
      " -1.46559598e-02 -2.24930118e-03 -5.77641279e-02 -4.88192635e-03\n",
      "  1.62947588e-02 -1.14934370e-02 -7.46717528e-02 -1.47760427e-02\n",
      "  4.64164987e-02  4.04554186e-03 -7.17966631e-03  6.95711449e-02\n",
      "  1.55706983e-02 -6.95264488e-02 -6.64529065e-03 -5.27892783e-02\n",
      "  1.35486405e-02 -9.04834247e-04 -1.36312861e-02  4.60073277e-02\n",
      " -3.39531228e-02 -8.41329694e-02  4.52016219e-02  2.50740517e-02\n",
      " -7.99511932e-03 -2.42989361e-02 -2.04416439e-02  8.20483938e-02\n",
      " -4.91646864e-02  8.46075732e-03 -4.44469564e-02  2.36429572e-02\n",
      "  7.68974125e-02  4.53342451e-03 -4.05700020e-02 -1.72989089e-02\n",
      " -2.56650001e-02  2.49213055e-02  2.57814229e-02 -7.01419115e-02\n",
      " -5.32737337e-02  5.74551038e-02  1.37617067e-02  3.44044864e-02\n",
      " -4.00723666e-02  2.47637723e-02  4.74413149e-02  2.19740090e-03\n",
      " -2.54029911e-02 -2.61618290e-02  4.59285546e-03 -2.70712301e-02\n",
      "  6.63313502e-03  2.32986882e-02  6.72579333e-02  5.63392639e-02\n",
      " -2.34693922e-02  1.36301052e-02  3.41360383e-02 -3.08937076e-02\n",
      "  3.51510420e-02  7.45422468e-02  4.11043689e-03  3.47039849e-03\n",
      " -2.62236372e-02 -1.48631036e-02 -1.89255327e-02  2.84295566e-02\n",
      " -4.96989936e-02 -1.67921521e-02 -3.41847502e-02  6.27835328e-03\n",
      " -3.89344841e-02 -9.80833138e-05  3.66884358e-02 -8.05716440e-02\n",
      " -4.28994838e-03 -7.21610188e-02 -3.31334956e-02  4.08934951e-02\n",
      " -7.87206516e-02 -2.28669308e-02 -2.28105169e-02 -2.56670707e-34\n",
      " -2.19625235e-02 -6.98879659e-02  2.65045520e-02 -1.17372215e-01\n",
      " -5.07697873e-02 -6.72220662e-02  3.60322483e-02 -7.08267838e-02\n",
      "  3.83743607e-02  4.04696167e-02  5.03845187e-03 -9.30173844e-02\n",
      "  2.19506398e-02 -7.77297989e-02  1.08641982e-02  5.52419648e-02\n",
      "  3.70965265e-02  1.10352248e-01 -7.12419674e-02  1.39847040e-01\n",
      "  3.47303115e-02  5.24475239e-02 -4.39040847e-02  1.05170868e-01\n",
      "  4.92723286e-02  5.38574010e-02 -1.75936781e-02 -4.12600562e-02\n",
      " -9.50483489e-04 -6.99043367e-03  1.34293456e-02  3.11485399e-02\n",
      " -3.81752811e-02  4.39217575e-02 -8.23923275e-02  4.45049908e-03\n",
      "  1.79538189e-03 -6.04067836e-03 -2.34521087e-02 -3.55471708e-02\n",
      "  1.58504713e-02  5.29729277e-02  5.65465651e-02  7.98375979e-02\n",
      " -4.67611998e-02 -4.60644029e-02 -4.13379557e-02 -2.87746657e-02\n",
      " -2.00030319e-02  1.84701346e-02  4.13788594e-02 -2.33838577e-02\n",
      " -3.79653536e-02  1.70954224e-02  1.72533430e-02 -1.34991780e-02\n",
      " -1.55851431e-02  3.45622152e-02 -3.58488262e-02 -3.09911706e-02\n",
      "  5.27193770e-03  1.37757927e-01 -5.19786216e-03  4.95643802e-02\n",
      "  6.50585489e-03 -3.14070284e-02 -1.04655787e-01  9.18676481e-02\n",
      " -4.85651242e-03 -5.69018163e-02 -2.59376802e-02 -5.00082597e-02\n",
      " -1.23411473e-02 -2.61426140e-02 -2.39818282e-02  9.67080593e-02\n",
      "  2.65283361e-02  3.82623412e-02 -2.30097063e-02  1.05138458e-02\n",
      "  6.26025051e-02  1.93166919e-02  8.55522007e-02  3.03607918e-02\n",
      " -8.00426155e-02  2.28668600e-02 -2.60621049e-02  1.10782636e-02\n",
      "  8.88356566e-03 -2.75407471e-02  1.71678960e-02 -7.32522160e-02\n",
      "  4.99128476e-02  2.63865869e-02 -8.90459772e-03 -4.74282125e-08\n",
      "  1.63174383e-02 -4.48512752e-03 -2.84240581e-02  6.65047839e-02\n",
      "  5.84836528e-02  1.00904964e-02  4.90268553e-03  5.92689477e-02\n",
      " -1.21096894e-02  3.97591181e-02  3.64577794e-03 -4.27018888e-02\n",
      " -8.99925977e-02 -5.54958917e-02 -3.63269961e-03 -6.31357636e-03\n",
      " -9.46668684e-02  6.25794679e-02  5.19087017e-02  4.16602939e-02\n",
      " -6.41369671e-02  2.96900608e-02 -2.00827327e-02 -2.41429359e-02\n",
      "  5.79741970e-02  3.19898762e-02 -3.34360264e-02  3.15655246e-02\n",
      "  5.49509488e-02  3.60270143e-02  6.23635091e-02 -2.45897099e-03\n",
      " -5.95996641e-02 -5.07645905e-02 -3.96839753e-02 -2.03728974e-02\n",
      "  6.61897287e-02  6.31269161e-03 -9.58048403e-02 -2.22082492e-02\n",
      "  7.24105723e-03  3.56549658e-02 -1.18038608e-02 -3.54002118e-02\n",
      "  4.77677248e-02 -6.97539002e-02  4.05825190e-02 -4.65138070e-03\n",
      "  4.29216959e-02 -2.77384613e-02 -1.40895345e-03  1.89802088e-02\n",
      "  2.31837537e-02 -3.82080376e-02 -2.46777069e-02  7.23238811e-02\n",
      "  8.42567161e-02  8.64510015e-02 -2.87557375e-02 -1.34576887e-01\n",
      "  2.15646941e-02 -6.70355791e-03  3.24412063e-02  7.66778737e-02]\n"
     ]
    }
   ],
   "source": [
    "# Access the embedding of the first row\n",
    "embedding = df.loc[0, 'sql_embedding']\n",
    "print(embedding)  # Prints the numpy array\n"
   ]
  },
  {
   "cell_type": "code",
   "execution_count": 110,
   "id": "ecb6b1e4",
   "metadata": {},
   "outputs": [
    {
     "name": "stdout",
     "output_type": "stream",
     "text": [
      "384\n"
     ]
    }
   ],
   "source": [
    "# Access the embedding of the first row\n",
    "embedding = df.loc[0, 'sql_embedding']\n",
    "print(len(embedding))  # Prints the numpy array\n"
   ]
  },
  {
   "cell_type": "markdown",
   "id": "b3809558",
   "metadata": {},
   "source": [
    "# Partitioning the dataset into training and test sets"
   ]
  },
  {
   "cell_type": "code",
   "execution_count": 132,
   "id": "8bfbeda9",
   "metadata": {},
   "outputs": [
    {
     "name": "stdout",
     "output_type": "stream",
     "text": [
      "Index(['sql', 'db2', 'actual', 'sql_embedding'], dtype='object')\n"
     ]
    }
   ],
   "source": [
    "print(df.columns)"
   ]
  },
  {
   "cell_type": "code",
   "execution_count": 133,
   "id": "60a590b6",
   "metadata": {},
   "outputs": [],
   "source": [
    "X_cols = ['sql_embedding', 'db2']\n",
    "target = ['actual']"
   ]
  },
  {
   "cell_type": "code",
   "execution_count": 134,
   "id": "b8fe545e",
   "metadata": {},
   "outputs": [
    {
     "data": {
      "text/plain": [
       "(2332, 4)"
      ]
     },
     "execution_count": 134,
     "metadata": {},
     "output_type": "execute_result"
    }
   ],
   "source": [
    "df.shape"
   ]
  },
  {
   "cell_type": "code",
   "execution_count": 135,
   "id": "885873d1",
   "metadata": {},
   "outputs": [],
   "source": [
    "X, y = df[X_cols], df[target]\n",
    "\n",
    "X_train, X_test, y_train, y_test =\\\n",
    "    train_test_split(X, y, \n",
    "                     test_size=0.2, \n",
    "                     random_state=0)"
   ]
  },
  {
   "cell_type": "code",
   "execution_count": 136,
   "id": "c6e5f452",
   "metadata": {},
   "outputs": [
    {
     "data": {
      "text/html": [
       "<div>\n",
       "<style scoped>\n",
       "    .dataframe tbody tr th:only-of-type {\n",
       "        vertical-align: middle;\n",
       "    }\n",
       "\n",
       "    .dataframe tbody tr th {\n",
       "        vertical-align: top;\n",
       "    }\n",
       "\n",
       "    .dataframe thead th {\n",
       "        text-align: right;\n",
       "    }\n",
       "</style>\n",
       "<table border=\"1\" class=\"dataframe\">\n",
       "  <thead>\n",
       "    <tr style=\"text-align: right;\">\n",
       "      <th></th>\n",
       "      <th>sql_embedding</th>\n",
       "      <th>db2</th>\n",
       "    </tr>\n",
       "  </thead>\n",
       "  <tbody>\n",
       "    <tr>\n",
       "      <th>812</th>\n",
       "      <td>[0.059358865, -0.020964436, 0.018205285, 0.063...</td>\n",
       "      <td>526.412</td>\n",
       "    </tr>\n",
       "    <tr>\n",
       "      <th>233</th>\n",
       "      <td>[0.09310951, -0.051648285, 0.04889493, 0.05467...</td>\n",
       "      <td>251.248</td>\n",
       "    </tr>\n",
       "    <tr>\n",
       "      <th>1383</th>\n",
       "      <td>[0.058846015, -0.027138071, 0.016208364, 0.047...</td>\n",
       "      <td>532.976</td>\n",
       "    </tr>\n",
       "    <tr>\n",
       "      <th>1755</th>\n",
       "      <td>[0.060842, -0.03190487, 0.039343238, 0.0623296...</td>\n",
       "      <td>251.248</td>\n",
       "    </tr>\n",
       "    <tr>\n",
       "      <th>1337</th>\n",
       "      <td>[0.053605214, -0.022713669, 0.017548123, 0.065...</td>\n",
       "      <td>526.412</td>\n",
       "    </tr>\n",
       "    <tr>\n",
       "      <th>...</th>\n",
       "      <td>...</td>\n",
       "      <td>...</td>\n",
       "    </tr>\n",
       "    <tr>\n",
       "      <th>1034</th>\n",
       "      <td>[0.050058026, -0.018140694, 0.019325035, 0.065...</td>\n",
       "      <td>526.412</td>\n",
       "    </tr>\n",
       "    <tr>\n",
       "      <th>1734</th>\n",
       "      <td>[0.060488556, -0.032311015, 0.041900106, 0.051...</td>\n",
       "      <td>171.500</td>\n",
       "    </tr>\n",
       "    <tr>\n",
       "      <th>763</th>\n",
       "      <td>[0.050186478, -0.020764904, 0.021335857, 0.067...</td>\n",
       "      <td>524.208</td>\n",
       "    </tr>\n",
       "    <tr>\n",
       "      <th>835</th>\n",
       "      <td>[0.08297298, -0.04441836, 0.028338268, 0.05766...</td>\n",
       "      <td>251.252</td>\n",
       "    </tr>\n",
       "    <tr>\n",
       "      <th>1656</th>\n",
       "      <td>[0.07150429, -0.041907918, 0.029244248, 0.0484...</td>\n",
       "      <td>251.248</td>\n",
       "    </tr>\n",
       "  </tbody>\n",
       "</table>\n",
       "<p>1865 rows × 2 columns</p>\n",
       "</div>"
      ],
      "text/plain": [
       "                                          sql_embedding      db2\n",
       "812   [0.059358865, -0.020964436, 0.018205285, 0.063...  526.412\n",
       "233   [0.09310951, -0.051648285, 0.04889493, 0.05467...  251.248\n",
       "1383  [0.058846015, -0.027138071, 0.016208364, 0.047...  532.976\n",
       "1755  [0.060842, -0.03190487, 0.039343238, 0.0623296...  251.248\n",
       "1337  [0.053605214, -0.022713669, 0.017548123, 0.065...  526.412\n",
       "...                                                 ...      ...\n",
       "1034  [0.050058026, -0.018140694, 0.019325035, 0.065...  526.412\n",
       "1734  [0.060488556, -0.032311015, 0.041900106, 0.051...  171.500\n",
       "763   [0.050186478, -0.020764904, 0.021335857, 0.067...  524.208\n",
       "835   [0.08297298, -0.04441836, 0.028338268, 0.05766...  251.252\n",
       "1656  [0.07150429, -0.041907918, 0.029244248, 0.0484...  251.248\n",
       "\n",
       "[1865 rows x 2 columns]"
      ]
     },
     "execution_count": 136,
     "metadata": {},
     "output_type": "execute_result"
    }
   ],
   "source": [
    "X_train"
   ]
  },
  {
   "cell_type": "markdown",
   "id": "70b4b909",
   "metadata": {},
   "source": [
    "# Converting y into np arrays"
   ]
  },
  {
   "cell_type": "code",
   "execution_count": 137,
   "id": "c37c2abe",
   "metadata": {},
   "outputs": [],
   "source": [
    "y_train = y_train.values\n",
    "y_test = y_test.values"
   ]
  },
  {
   "cell_type": "code",
   "execution_count": 138,
   "id": "7e6b2fc3",
   "metadata": {},
   "outputs": [],
   "source": [
    "X_train_clean = pd.DataFrame(X_train, columns=X_train.columns)\n",
    "X_train_clean['actual'] = y_train"
   ]
  },
  {
   "cell_type": "code",
   "execution_count": 139,
   "id": "10aa20cc",
   "metadata": {},
   "outputs": [
    {
     "data": {
      "text/html": [
       "<div>\n",
       "<style scoped>\n",
       "    .dataframe tbody tr th:only-of-type {\n",
       "        vertical-align: middle;\n",
       "    }\n",
       "\n",
       "    .dataframe tbody tr th {\n",
       "        vertical-align: top;\n",
       "    }\n",
       "\n",
       "    .dataframe thead th {\n",
       "        text-align: right;\n",
       "    }\n",
       "</style>\n",
       "<table border=\"1\" class=\"dataframe\">\n",
       "  <thead>\n",
       "    <tr style=\"text-align: right;\">\n",
       "      <th></th>\n",
       "      <th>sql_embedding</th>\n",
       "      <th>db2</th>\n",
       "      <th>actual</th>\n",
       "    </tr>\n",
       "  </thead>\n",
       "  <tbody>\n",
       "    <tr>\n",
       "      <th>812</th>\n",
       "      <td>[0.059358865, -0.020964436, 0.018205285, 0.063...</td>\n",
       "      <td>526.412</td>\n",
       "      <td>39.804</td>\n",
       "    </tr>\n",
       "    <tr>\n",
       "      <th>233</th>\n",
       "      <td>[0.09310951, -0.051648285, 0.04889493, 0.05467...</td>\n",
       "      <td>251.248</td>\n",
       "      <td>251.248</td>\n",
       "    </tr>\n",
       "    <tr>\n",
       "      <th>1383</th>\n",
       "      <td>[0.058846015, -0.027138071, 0.016208364, 0.047...</td>\n",
       "      <td>532.976</td>\n",
       "      <td>62.980</td>\n",
       "    </tr>\n",
       "    <tr>\n",
       "      <th>1755</th>\n",
       "      <td>[0.060842, -0.03190487, 0.039343238, 0.0623296...</td>\n",
       "      <td>251.248</td>\n",
       "      <td>251.248</td>\n",
       "    </tr>\n",
       "    <tr>\n",
       "      <th>1337</th>\n",
       "      <td>[0.053605214, -0.022713669, 0.017548123, 0.065...</td>\n",
       "      <td>526.412</td>\n",
       "      <td>56.992</td>\n",
       "    </tr>\n",
       "  </tbody>\n",
       "</table>\n",
       "</div>"
      ],
      "text/plain": [
       "                                          sql_embedding      db2   actual\n",
       "812   [0.059358865, -0.020964436, 0.018205285, 0.063...  526.412   39.804\n",
       "233   [0.09310951, -0.051648285, 0.04889493, 0.05467...  251.248  251.248\n",
       "1383  [0.058846015, -0.027138071, 0.016208364, 0.047...  532.976   62.980\n",
       "1755  [0.060842, -0.03190487, 0.039343238, 0.0623296...  251.248  251.248\n",
       "1337  [0.053605214, -0.022713669, 0.017548123, 0.065...  526.412   56.992"
      ]
     },
     "execution_count": 139,
     "metadata": {},
     "output_type": "execute_result"
    }
   ],
   "source": [
    "X_train_clean.head(5)"
   ]
  },
  {
   "cell_type": "code",
   "execution_count": 144,
   "id": "2712777d",
   "metadata": {},
   "outputs": [],
   "source": [
    "#X_train_clean.to_csv('job2_train_clean.csv', index=False)\n",
    "# Save as JSON\n",
    "X_train_clean.to_json('job2_train_clean.json', orient='records', lines=True)"
   ]
  },
  {
   "cell_type": "code",
   "execution_count": 141,
   "id": "3adcd703",
   "metadata": {},
   "outputs": [],
   "source": [
    "X_test_clean = pd.DataFrame(X_test, columns=X_test.columns)\n",
    "X_test_clean['actual'] = y_test"
   ]
  },
  {
   "cell_type": "code",
   "execution_count": 142,
   "id": "dd5a257a",
   "metadata": {},
   "outputs": [
    {
     "data": {
      "text/html": [
       "<div>\n",
       "<style scoped>\n",
       "    .dataframe tbody tr th:only-of-type {\n",
       "        vertical-align: middle;\n",
       "    }\n",
       "\n",
       "    .dataframe tbody tr th {\n",
       "        vertical-align: top;\n",
       "    }\n",
       "\n",
       "    .dataframe thead th {\n",
       "        text-align: right;\n",
       "    }\n",
       "</style>\n",
       "<table border=\"1\" class=\"dataframe\">\n",
       "  <thead>\n",
       "    <tr style=\"text-align: right;\">\n",
       "      <th></th>\n",
       "      <th>sql_embedding</th>\n",
       "      <th>db2</th>\n",
       "      <th>actual</th>\n",
       "    </tr>\n",
       "  </thead>\n",
       "  <tbody>\n",
       "    <tr>\n",
       "      <th>1057</th>\n",
       "      <td>[0.055807058, -0.029653227, 0.02713677, 0.0566...</td>\n",
       "      <td>251.248</td>\n",
       "      <td>251.248</td>\n",
       "    </tr>\n",
       "    <tr>\n",
       "      <th>2326</th>\n",
       "      <td>[0.07027462, -0.027501259, 0.051419735, 0.0595...</td>\n",
       "      <td>251.248</td>\n",
       "      <td>251.252</td>\n",
       "    </tr>\n",
       "    <tr>\n",
       "      <th>655</th>\n",
       "      <td>[0.06710697, -0.027536655, 0.018405523, 0.0605...</td>\n",
       "      <td>526.412</td>\n",
       "      <td>57.124</td>\n",
       "    </tr>\n",
       "    <tr>\n",
       "      <th>2104</th>\n",
       "      <td>[0.074952595, -0.034597382, 0.051836893, 0.063...</td>\n",
       "      <td>251.248</td>\n",
       "      <td>251.248</td>\n",
       "    </tr>\n",
       "    <tr>\n",
       "      <th>1404</th>\n",
       "      <td>[0.06102468, -0.019188361, 0.02127042, 0.06361...</td>\n",
       "      <td>526.412</td>\n",
       "      <td>39.804</td>\n",
       "    </tr>\n",
       "  </tbody>\n",
       "</table>\n",
       "</div>"
      ],
      "text/plain": [
       "                                          sql_embedding      db2   actual\n",
       "1057  [0.055807058, -0.029653227, 0.02713677, 0.0566...  251.248  251.248\n",
       "2326  [0.07027462, -0.027501259, 0.051419735, 0.0595...  251.248  251.252\n",
       "655   [0.06710697, -0.027536655, 0.018405523, 0.0605...  526.412   57.124\n",
       "2104  [0.074952595, -0.034597382, 0.051836893, 0.063...  251.248  251.248\n",
       "1404  [0.06102468, -0.019188361, 0.02127042, 0.06361...  526.412   39.804"
      ]
     },
     "execution_count": 142,
     "metadata": {},
     "output_type": "execute_result"
    }
   ],
   "source": [
    "X_test_clean.head(5)"
   ]
  },
  {
   "cell_type": "code",
   "execution_count": 145,
   "id": "c7b7dd36",
   "metadata": {},
   "outputs": [],
   "source": [
    "# X_test_clean.to_csv('job2_test_clean.csv', index=False)\n",
    "# Save as JSON\n",
    "X_test_clean.to_json('job2_test_clean.json', orient='records', lines=True)"
   ]
  }
 ],
 "metadata": {
  "kernelspec": {
   "display_name": ".venv",
   "language": "python",
   "name": "python3"
  },
  "language_info": {
   "codemirror_mode": {
    "name": "ipython",
    "version": 3
   },
   "file_extension": ".py",
   "mimetype": "text/x-python",
   "name": "python",
   "nbconvert_exporter": "python",
   "pygments_lexer": "ipython3",
   "version": "3.12.3"
  }
 },
 "nbformat": 4,
 "nbformat_minor": 5
}
