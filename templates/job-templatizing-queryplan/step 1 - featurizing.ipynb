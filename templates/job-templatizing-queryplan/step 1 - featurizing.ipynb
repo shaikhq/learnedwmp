{
 "cells": [
  {
   "cell_type": "markdown",
   "id": "13a5e88c",
   "metadata": {},
   "source": [
    "# Importing libraries"
   ]
  },
  {
   "cell_type": "code",
   "execution_count": 1,
   "id": "6e5d819e",
   "metadata": {},
   "outputs": [],
   "source": [
    "import pandas as pd\n",
    "from sklearn.compose import ColumnTransformer\n",
    "from sklearn.preprocessing import StandardScaler\n",
    "from sklearn.model_selection import train_test_split\n",
    "import numpy as np"
   ]
  },
  {
   "cell_type": "code",
   "execution_count": 2,
   "id": "e80648ff",
   "metadata": {},
   "outputs": [],
   "source": [
    "pd.set_option('display.max_columns', None)"
   ]
  },
  {
   "cell_type": "markdown",
   "id": "2dfccd15",
   "metadata": {},
   "source": [
    "# Loading data"
   ]
  },
  {
   "cell_type": "code",
   "execution_count": 3,
   "id": "72645c96",
   "metadata": {},
   "outputs": [],
   "source": [
    "df = pd.read_csv('Masterfile.csv')"
   ]
  },
  {
   "cell_type": "markdown",
   "id": "6b5953e2",
   "metadata": {},
   "source": [
    "# First look at the data"
   ]
  },
  {
   "cell_type": "code",
   "execution_count": 4,
   "id": "050924b6",
   "metadata": {},
   "outputs": [
    {
     "data": {
      "text/html": [
       "<div>\n",
       "<style scoped>\n",
       "    .dataframe tbody tr th:only-of-type {\n",
       "        vertical-align: middle;\n",
       "    }\n",
       "\n",
       "    .dataframe tbody tr th {\n",
       "        vertical-align: top;\n",
       "    }\n",
       "\n",
       "    .dataframe thead th {\n",
       "        text-align: right;\n",
       "    }\n",
       "</style>\n",
       "<table border=\"1\" class=\"dataframe\">\n",
       "  <thead>\n",
       "    <tr style=\"text-align: right;\">\n",
       "      <th></th>\n",
       "      <th>Unnamed: 0</th>\n",
       "      <th>FILENAME</th>\n",
       "      <th>TQ</th>\n",
       "      <th>TQ COUNT</th>\n",
       "      <th>TBSCAN</th>\n",
       "      <th>TBSCAN COUNT</th>\n",
       "      <th>SORT</th>\n",
       "      <th>SORT COUNT</th>\n",
       "      <th>FILTER</th>\n",
       "      <th>FILTER COUNT</th>\n",
       "      <th>HS JOIN</th>\n",
       "      <th>HS JOIN COUNT</th>\n",
       "      <th>TEMP</th>\n",
       "      <th>TEMP COUNT</th>\n",
       "      <th>GRPBY</th>\n",
       "      <th>GRPBY COUNT</th>\n",
       "      <th>UNIQUE</th>\n",
       "      <th>UNIQUE COUNT</th>\n",
       "      <th>UNION</th>\n",
       "      <th>UNION COUNT</th>\n",
       "      <th>NHJOIN</th>\n",
       "      <th>NHJOIN COUNT</th>\n",
       "      <th>Queries</th>\n",
       "      <th>ESTIMATED_MEMORY</th>\n",
       "      <th>ACTUAL_MEMORY</th>\n",
       "    </tr>\n",
       "  </thead>\n",
       "  <tbody>\n",
       "    <tr>\n",
       "      <th>0</th>\n",
       "      <td>0</td>\n",
       "      <td>/Users/yonisabokar/IdeaProjects/Database_Parse...</td>\n",
       "      <td>0.004700</td>\n",
       "      <td>1</td>\n",
       "      <td>1.313463e+07</td>\n",
       "      <td>9</td>\n",
       "      <td>NaN</td>\n",
       "      <td>NaN</td>\n",
       "      <td>NaN</td>\n",
       "      <td>NaN</td>\n",
       "      <td>71.773664</td>\n",
       "      <td>8</td>\n",
       "      <td>NaN</td>\n",
       "      <td>NaN</td>\n",
       "      <td>NaN</td>\n",
       "      <td>NaN</td>\n",
       "      <td>NaN</td>\n",
       "      <td>NaN</td>\n",
       "      <td>NaN</td>\n",
       "      <td>NaN</td>\n",
       "      <td>NaN</td>\n",
       "      <td>NaN</td>\n",
       "      <td>SELECT cn.name AS company_name, lt.link AS li...</td>\n",
       "      <td>130320.0</td>\n",
       "      <td>62824.0</td>\n",
       "    </tr>\n",
       "    <tr>\n",
       "      <th>1</th>\n",
       "      <td>0</td>\n",
       "      <td>/Users/yonisabokar/IdeaProjects/Database_Parse...</td>\n",
       "      <td>0.004700</td>\n",
       "      <td>1</td>\n",
       "      <td>1.313463e+07</td>\n",
       "      <td>9</td>\n",
       "      <td>NaN</td>\n",
       "      <td>NaN</td>\n",
       "      <td>NaN</td>\n",
       "      <td>NaN</td>\n",
       "      <td>71.773664</td>\n",
       "      <td>8</td>\n",
       "      <td>NaN</td>\n",
       "      <td>NaN</td>\n",
       "      <td>NaN</td>\n",
       "      <td>NaN</td>\n",
       "      <td>NaN</td>\n",
       "      <td>NaN</td>\n",
       "      <td>NaN</td>\n",
       "      <td>NaN</td>\n",
       "      <td>NaN</td>\n",
       "      <td>NaN</td>\n",
       "      <td>SELECT cn.name AS company_name, lt.link AS li...</td>\n",
       "      <td>62824.0</td>\n",
       "      <td>62824.0</td>\n",
       "    </tr>\n",
       "    <tr>\n",
       "      <th>2</th>\n",
       "      <td>0</td>\n",
       "      <td>/Users/yonisabokar/IdeaProjects/Database_Parse...</td>\n",
       "      <td>0.005288</td>\n",
       "      <td>1</td>\n",
       "      <td>1.313463e+07</td>\n",
       "      <td>9</td>\n",
       "      <td>NaN</td>\n",
       "      <td>NaN</td>\n",
       "      <td>NaN</td>\n",
       "      <td>NaN</td>\n",
       "      <td>71.829424</td>\n",
       "      <td>8</td>\n",
       "      <td>NaN</td>\n",
       "      <td>NaN</td>\n",
       "      <td>NaN</td>\n",
       "      <td>NaN</td>\n",
       "      <td>NaN</td>\n",
       "      <td>NaN</td>\n",
       "      <td>NaN</td>\n",
       "      <td>NaN</td>\n",
       "      <td>NaN</td>\n",
       "      <td>NaN</td>\n",
       "      <td>SELECT cn.name AS company_name, lt.link AS li...</td>\n",
       "      <td>62816.0</td>\n",
       "      <td>62812.0</td>\n",
       "    </tr>\n",
       "    <tr>\n",
       "      <th>3</th>\n",
       "      <td>0</td>\n",
       "      <td>/Users/yonisabokar/IdeaProjects/Database_Parse...</td>\n",
       "      <td>0.004700</td>\n",
       "      <td>1</td>\n",
       "      <td>1.313463e+07</td>\n",
       "      <td>9</td>\n",
       "      <td>NaN</td>\n",
       "      <td>NaN</td>\n",
       "      <td>NaN</td>\n",
       "      <td>NaN</td>\n",
       "      <td>71.773664</td>\n",
       "      <td>8</td>\n",
       "      <td>NaN</td>\n",
       "      <td>NaN</td>\n",
       "      <td>NaN</td>\n",
       "      <td>NaN</td>\n",
       "      <td>NaN</td>\n",
       "      <td>NaN</td>\n",
       "      <td>NaN</td>\n",
       "      <td>NaN</td>\n",
       "      <td>NaN</td>\n",
       "      <td>NaN</td>\n",
       "      <td>SELECT cn.name AS company_name, lt.link AS li...</td>\n",
       "      <td>62812.0</td>\n",
       "      <td>62813.0</td>\n",
       "    </tr>\n",
       "    <tr>\n",
       "      <th>4</th>\n",
       "      <td>0</td>\n",
       "      <td>/Users/yonisabokar/IdeaProjects/Database_Parse...</td>\n",
       "      <td>0.000016</td>\n",
       "      <td>1</td>\n",
       "      <td>1.305037e+07</td>\n",
       "      <td>9</td>\n",
       "      <td>NaN</td>\n",
       "      <td>NaN</td>\n",
       "      <td>NaN</td>\n",
       "      <td>NaN</td>\n",
       "      <td>96.419862</td>\n",
       "      <td>8</td>\n",
       "      <td>NaN</td>\n",
       "      <td>NaN</td>\n",
       "      <td>NaN</td>\n",
       "      <td>NaN</td>\n",
       "      <td>NaN</td>\n",
       "      <td>NaN</td>\n",
       "      <td>NaN</td>\n",
       "      <td>NaN</td>\n",
       "      <td>NaN</td>\n",
       "      <td>NaN</td>\n",
       "      <td>SELECT cn.name AS company_name, lt.link AS li...</td>\n",
       "      <td>42875.0</td>\n",
       "      <td>42829.0</td>\n",
       "    </tr>\n",
       "  </tbody>\n",
       "</table>\n",
       "</div>"
      ],
      "text/plain": [
       "   Unnamed: 0                                           FILENAME        TQ  \\\n",
       "0           0  /Users/yonisabokar/IdeaProjects/Database_Parse...  0.004700   \n",
       "1           0  /Users/yonisabokar/IdeaProjects/Database_Parse...  0.004700   \n",
       "2           0  /Users/yonisabokar/IdeaProjects/Database_Parse...  0.005288   \n",
       "3           0  /Users/yonisabokar/IdeaProjects/Database_Parse...  0.004700   \n",
       "4           0  /Users/yonisabokar/IdeaProjects/Database_Parse...  0.000016   \n",
       "\n",
       "   TQ COUNT        TBSCAN  TBSCAN COUNT  SORT  SORT COUNT  FILTER  \\\n",
       "0         1  1.313463e+07             9   NaN         NaN     NaN   \n",
       "1         1  1.313463e+07             9   NaN         NaN     NaN   \n",
       "2         1  1.313463e+07             9   NaN         NaN     NaN   \n",
       "3         1  1.313463e+07             9   NaN         NaN     NaN   \n",
       "4         1  1.305037e+07             9   NaN         NaN     NaN   \n",
       "\n",
       "   FILTER COUNT    HS JOIN  HS JOIN COUNT  TEMP  TEMP COUNT  GRPBY  \\\n",
       "0           NaN  71.773664              8   NaN         NaN    NaN   \n",
       "1           NaN  71.773664              8   NaN         NaN    NaN   \n",
       "2           NaN  71.829424              8   NaN         NaN    NaN   \n",
       "3           NaN  71.773664              8   NaN         NaN    NaN   \n",
       "4           NaN  96.419862              8   NaN         NaN    NaN   \n",
       "\n",
       "   GRPBY COUNT  UNIQUE  UNIQUE COUNT  UNION  UNION COUNT  NHJOIN  \\\n",
       "0          NaN     NaN           NaN    NaN          NaN     NaN   \n",
       "1          NaN     NaN           NaN    NaN          NaN     NaN   \n",
       "2          NaN     NaN           NaN    NaN          NaN     NaN   \n",
       "3          NaN     NaN           NaN    NaN          NaN     NaN   \n",
       "4          NaN     NaN           NaN    NaN          NaN     NaN   \n",
       "\n",
       "   NHJOIN COUNT                                            Queries  \\\n",
       "0           NaN   SELECT cn.name AS company_name, lt.link AS li...   \n",
       "1           NaN   SELECT cn.name AS company_name, lt.link AS li...   \n",
       "2           NaN   SELECT cn.name AS company_name, lt.link AS li...   \n",
       "3           NaN   SELECT cn.name AS company_name, lt.link AS li...   \n",
       "4           NaN   SELECT cn.name AS company_name, lt.link AS li...   \n",
       "\n",
       "   ESTIMATED_MEMORY  ACTUAL_MEMORY  \n",
       "0          130320.0        62824.0  \n",
       "1           62824.0        62824.0  \n",
       "2           62816.0        62812.0  \n",
       "3           62812.0        62813.0  \n",
       "4           42875.0        42829.0  "
      ]
     },
     "execution_count": 4,
     "metadata": {},
     "output_type": "execute_result"
    }
   ],
   "source": [
    "df.head()"
   ]
  },
  {
   "cell_type": "code",
   "execution_count": 5,
   "id": "a5d336a2",
   "metadata": {},
   "outputs": [
    {
     "name": "stdout",
     "output_type": "stream",
     "text": [
      "<class 'pandas.core.frame.DataFrame'>\n",
      "RangeIndex: 2335 entries, 0 to 2334\n",
      "Data columns (total 25 columns):\n",
      " #   Column            Non-Null Count  Dtype  \n",
      "---  ------            --------------  -----  \n",
      " 0   Unnamed: 0        2335 non-null   int64  \n",
      " 1   FILENAME          2335 non-null   object \n",
      " 2   TQ                2335 non-null   float64\n",
      " 3   TQ COUNT          2335 non-null   int64  \n",
      " 4   TBSCAN            2335 non-null   float64\n",
      " 5   TBSCAN COUNT      2335 non-null   int64  \n",
      " 6   SORT              0 non-null      float64\n",
      " 7   SORT COUNT        0 non-null      float64\n",
      " 8   FILTER            0 non-null      float64\n",
      " 9   FILTER COUNT      0 non-null      float64\n",
      " 10  HS JOIN           2335 non-null   float64\n",
      " 11  HS JOIN COUNT     2335 non-null   int64  \n",
      " 12  TEMP              0 non-null      float64\n",
      " 13  TEMP COUNT        0 non-null      float64\n",
      " 14  GRPBY             0 non-null      float64\n",
      " 15  GRPBY COUNT       0 non-null      float64\n",
      " 16  UNIQUE            0 non-null      float64\n",
      " 17  UNIQUE COUNT      0 non-null      float64\n",
      " 18  UNION             0 non-null      float64\n",
      " 19  UNION COUNT       0 non-null      float64\n",
      " 20  NHJOIN            0 non-null      float64\n",
      " 21  NHJOIN COUNT      0 non-null      float64\n",
      " 22  Queries           2335 non-null   object \n",
      " 23  ESTIMATED_MEMORY  2332 non-null   float64\n",
      " 24  ACTUAL_MEMORY     2332 non-null   float64\n",
      "dtypes: float64(19), int64(4), object(2)\n",
      "memory usage: 456.2+ KB\n"
     ]
    }
   ],
   "source": [
    "df.info()"
   ]
  },
  {
   "cell_type": "markdown",
   "id": "8001abaa",
   "metadata": {},
   "source": [
    "## Dropping non-feature columns"
   ]
  },
  {
   "cell_type": "code",
   "execution_count": 6,
   "id": "d6179b71",
   "metadata": {},
   "outputs": [],
   "source": [
    "cols_non_features = ['Unnamed: 0', 'FILENAME', 'Queries']\n",
    "df.drop(columns=cols_non_features, inplace=True)"
   ]
  },
  {
   "cell_type": "code",
   "execution_count": 7,
   "id": "331e27b3",
   "metadata": {},
   "outputs": [
    {
     "name": "stdout",
     "output_type": "stream",
     "text": [
      "<class 'pandas.core.frame.DataFrame'>\n",
      "RangeIndex: 2335 entries, 0 to 2334\n",
      "Data columns (total 22 columns):\n",
      " #   Column            Non-Null Count  Dtype  \n",
      "---  ------            --------------  -----  \n",
      " 0   TQ                2335 non-null   float64\n",
      " 1   TQ COUNT          2335 non-null   int64  \n",
      " 2   TBSCAN            2335 non-null   float64\n",
      " 3   TBSCAN COUNT      2335 non-null   int64  \n",
      " 4   SORT              0 non-null      float64\n",
      " 5   SORT COUNT        0 non-null      float64\n",
      " 6   FILTER            0 non-null      float64\n",
      " 7   FILTER COUNT      0 non-null      float64\n",
      " 8   HS JOIN           2335 non-null   float64\n",
      " 9   HS JOIN COUNT     2335 non-null   int64  \n",
      " 10  TEMP              0 non-null      float64\n",
      " 11  TEMP COUNT        0 non-null      float64\n",
      " 12  GRPBY             0 non-null      float64\n",
      " 13  GRPBY COUNT       0 non-null      float64\n",
      " 14  UNIQUE            0 non-null      float64\n",
      " 15  UNIQUE COUNT      0 non-null      float64\n",
      " 16  UNION             0 non-null      float64\n",
      " 17  UNION COUNT       0 non-null      float64\n",
      " 18  NHJOIN            0 non-null      float64\n",
      " 19  NHJOIN COUNT      0 non-null      float64\n",
      " 20  ESTIMATED_MEMORY  2332 non-null   float64\n",
      " 21  ACTUAL_MEMORY     2332 non-null   float64\n",
      "dtypes: float64(19), int64(3)\n",
      "memory usage: 401.5 KB\n"
     ]
    }
   ],
   "source": [
    "df.info()"
   ]
  },
  {
   "cell_type": "markdown",
   "id": "bafb4fd8",
   "metadata": {},
   "source": [
    "# Checking Missing Values"
   ]
  },
  {
   "cell_type": "code",
   "execution_count": 8,
   "id": "22c92cfd",
   "metadata": {},
   "outputs": [
    {
     "data": {
      "text/plain": [
       "TQ                     0\n",
       "TQ COUNT               0\n",
       "TBSCAN                 0\n",
       "TBSCAN COUNT           0\n",
       "SORT                2335\n",
       "SORT COUNT          2335\n",
       "FILTER              2335\n",
       "FILTER COUNT        2335\n",
       "HS JOIN                0\n",
       "HS JOIN COUNT          0\n",
       "TEMP                2335\n",
       "TEMP COUNT          2335\n",
       "GRPBY               2335\n",
       "GRPBY COUNT         2335\n",
       "UNIQUE              2335\n",
       "UNIQUE COUNT        2335\n",
       "UNION               2335\n",
       "UNION COUNT         2335\n",
       "NHJOIN              2335\n",
       "NHJOIN COUNT        2335\n",
       "ESTIMATED_MEMORY       3\n",
       "ACTUAL_MEMORY          3\n",
       "dtype: int64"
      ]
     },
     "execution_count": 8,
     "metadata": {},
     "output_type": "execute_result"
    }
   ],
   "source": [
    "df.isnull().sum()"
   ]
  },
  {
   "cell_type": "markdown",
   "id": "fdbb2838",
   "metadata": {},
   "source": [
    "## Dropping columns with all missing values"
   ]
  },
  {
   "cell_type": "code",
   "execution_count": 9,
   "id": "baed0fc9",
   "metadata": {},
   "outputs": [],
   "source": [
    "df.dropna(axis=1, how='all', inplace=True)"
   ]
  },
  {
   "cell_type": "code",
   "execution_count": 10,
   "id": "9436231f",
   "metadata": {},
   "outputs": [
    {
     "name": "stdout",
     "output_type": "stream",
     "text": [
      "<class 'pandas.core.frame.DataFrame'>\n",
      "RangeIndex: 2335 entries, 0 to 2334\n",
      "Data columns (total 8 columns):\n",
      " #   Column            Non-Null Count  Dtype  \n",
      "---  ------            --------------  -----  \n",
      " 0   TQ                2335 non-null   float64\n",
      " 1   TQ COUNT          2335 non-null   int64  \n",
      " 2   TBSCAN            2335 non-null   float64\n",
      " 3   TBSCAN COUNT      2335 non-null   int64  \n",
      " 4   HS JOIN           2335 non-null   float64\n",
      " 5   HS JOIN COUNT     2335 non-null   int64  \n",
      " 6   ESTIMATED_MEMORY  2332 non-null   float64\n",
      " 7   ACTUAL_MEMORY     2332 non-null   float64\n",
      "dtypes: float64(5), int64(3)\n",
      "memory usage: 146.1 KB\n"
     ]
    }
   ],
   "source": [
    "df.info()"
   ]
  },
  {
   "cell_type": "markdown",
   "id": "035cc1f4",
   "metadata": {},
   "source": [
    "## Dropping rows with missing values"
   ]
  },
  {
   "cell_type": "code",
   "execution_count": 11,
   "id": "8a078cff",
   "metadata": {},
   "outputs": [],
   "source": [
    "df.dropna(axis=0, inplace=True)"
   ]
  },
  {
   "cell_type": "code",
   "execution_count": 12,
   "id": "bb9094e3",
   "metadata": {},
   "outputs": [
    {
     "name": "stdout",
     "output_type": "stream",
     "text": [
      "<class 'pandas.core.frame.DataFrame'>\n",
      "Index: 2332 entries, 0 to 2334\n",
      "Data columns (total 8 columns):\n",
      " #   Column            Non-Null Count  Dtype  \n",
      "---  ------            --------------  -----  \n",
      " 0   TQ                2332 non-null   float64\n",
      " 1   TQ COUNT          2332 non-null   int64  \n",
      " 2   TBSCAN            2332 non-null   float64\n",
      " 3   TBSCAN COUNT      2332 non-null   int64  \n",
      " 4   HS JOIN           2332 non-null   float64\n",
      " 5   HS JOIN COUNT     2332 non-null   int64  \n",
      " 6   ESTIMATED_MEMORY  2332 non-null   float64\n",
      " 7   ACTUAL_MEMORY     2332 non-null   float64\n",
      "dtypes: float64(5), int64(3)\n",
      "memory usage: 164.0 KB\n"
     ]
    }
   ],
   "source": [
    "df.info()"
   ]
  },
  {
   "cell_type": "code",
   "execution_count": 13,
   "id": "27fa8f4e",
   "metadata": {},
   "outputs": [
    {
     "data": {
      "text/html": [
       "<div>\n",
       "<style scoped>\n",
       "    .dataframe tbody tr th:only-of-type {\n",
       "        vertical-align: middle;\n",
       "    }\n",
       "\n",
       "    .dataframe tbody tr th {\n",
       "        vertical-align: top;\n",
       "    }\n",
       "\n",
       "    .dataframe thead th {\n",
       "        text-align: right;\n",
       "    }\n",
       "</style>\n",
       "<table border=\"1\" class=\"dataframe\">\n",
       "  <thead>\n",
       "    <tr style=\"text-align: right;\">\n",
       "      <th></th>\n",
       "      <th>TQ</th>\n",
       "      <th>TQ COUNT</th>\n",
       "      <th>TBSCAN</th>\n",
       "      <th>TBSCAN COUNT</th>\n",
       "      <th>HS JOIN</th>\n",
       "      <th>HS JOIN COUNT</th>\n",
       "      <th>ESTIMATED_MEMORY</th>\n",
       "      <th>ACTUAL_MEMORY</th>\n",
       "    </tr>\n",
       "  </thead>\n",
       "  <tbody>\n",
       "    <tr>\n",
       "      <th>0</th>\n",
       "      <td>0.004700</td>\n",
       "      <td>1</td>\n",
       "      <td>1.313463e+07</td>\n",
       "      <td>9</td>\n",
       "      <td>71.773664</td>\n",
       "      <td>8</td>\n",
       "      <td>130320.0</td>\n",
       "      <td>62824.0</td>\n",
       "    </tr>\n",
       "    <tr>\n",
       "      <th>1</th>\n",
       "      <td>0.004700</td>\n",
       "      <td>1</td>\n",
       "      <td>1.313463e+07</td>\n",
       "      <td>9</td>\n",
       "      <td>71.773664</td>\n",
       "      <td>8</td>\n",
       "      <td>62824.0</td>\n",
       "      <td>62824.0</td>\n",
       "    </tr>\n",
       "    <tr>\n",
       "      <th>2</th>\n",
       "      <td>0.005288</td>\n",
       "      <td>1</td>\n",
       "      <td>1.313463e+07</td>\n",
       "      <td>9</td>\n",
       "      <td>71.829424</td>\n",
       "      <td>8</td>\n",
       "      <td>62816.0</td>\n",
       "      <td>62812.0</td>\n",
       "    </tr>\n",
       "    <tr>\n",
       "      <th>3</th>\n",
       "      <td>0.004700</td>\n",
       "      <td>1</td>\n",
       "      <td>1.313463e+07</td>\n",
       "      <td>9</td>\n",
       "      <td>71.773664</td>\n",
       "      <td>8</td>\n",
       "      <td>62812.0</td>\n",
       "      <td>62813.0</td>\n",
       "    </tr>\n",
       "    <tr>\n",
       "      <th>4</th>\n",
       "      <td>0.000016</td>\n",
       "      <td>1</td>\n",
       "      <td>1.305037e+07</td>\n",
       "      <td>9</td>\n",
       "      <td>96.419862</td>\n",
       "      <td>8</td>\n",
       "      <td>42875.0</td>\n",
       "      <td>42829.0</td>\n",
       "    </tr>\n",
       "  </tbody>\n",
       "</table>\n",
       "</div>"
      ],
      "text/plain": [
       "         TQ  TQ COUNT        TBSCAN  TBSCAN COUNT    HS JOIN  HS JOIN COUNT  \\\n",
       "0  0.004700         1  1.313463e+07             9  71.773664              8   \n",
       "1  0.004700         1  1.313463e+07             9  71.773664              8   \n",
       "2  0.005288         1  1.313463e+07             9  71.829424              8   \n",
       "3  0.004700         1  1.313463e+07             9  71.773664              8   \n",
       "4  0.000016         1  1.305037e+07             9  96.419862              8   \n",
       "\n",
       "   ESTIMATED_MEMORY  ACTUAL_MEMORY  \n",
       "0          130320.0        62824.0  \n",
       "1           62824.0        62824.0  \n",
       "2           62816.0        62812.0  \n",
       "3           62812.0        62813.0  \n",
       "4           42875.0        42829.0  "
      ]
     },
     "execution_count": 13,
     "metadata": {},
     "output_type": "execute_result"
    }
   ],
   "source": [
    "df.head()"
   ]
  },
  {
   "cell_type": "code",
   "execution_count": 14,
   "id": "d7b20e95",
   "metadata": {},
   "outputs": [
    {
     "data": {
      "text/plain": [
       "(2332, 8)"
      ]
     },
     "execution_count": 14,
     "metadata": {},
     "output_type": "execute_result"
    }
   ],
   "source": [
    "df.shape"
   ]
  },
  {
   "cell_type": "code",
   "execution_count": 15,
   "id": "cfa8d050",
   "metadata": {},
   "outputs": [
    {
     "data": {
      "text/plain": [
       "Index(['TQ', 'TQ COUNT', 'TBSCAN', 'TBSCAN COUNT', 'HS JOIN', 'HS JOIN COUNT',\n",
       "       'ESTIMATED_MEMORY', 'ACTUAL_MEMORY'],\n",
       "      dtype='object')"
      ]
     },
     "execution_count": 15,
     "metadata": {},
     "output_type": "execute_result"
    }
   ],
   "source": [
    "df.columns\n",
    "# Instead of 'ESTIMATED_SORT_SHRHEAP_TOP' and 'SORT_SHRHEAP_TOP', \n",
    "# here there is 'ESTIMATED_MEMORY'and 'ACTUAL_MEMORY'"
   ]
  },
  {
   "cell_type": "markdown",
   "id": "2e41085d",
   "metadata": {},
   "source": [
    "# Converting these values to MB"
   ]
  },
  {
   "cell_type": "code",
   "execution_count": 16,
   "id": "b24e1022",
   "metadata": {},
   "outputs": [],
   "source": [
    "df['ESTIMATED_MEMORY'] = df['ESTIMATED_MEMORY'] * 4000 / 1000000\n",
    "df['ACTUAL_MEMORY'] = df['ACTUAL_MEMORY'] * 4000 / 1000000"
   ]
  },
  {
   "cell_type": "code",
   "execution_count": 17,
   "id": "9a425f9a",
   "metadata": {
    "scrolled": true
   },
   "outputs": [
    {
     "data": {
      "text/html": [
       "<div>\n",
       "<style scoped>\n",
       "    .dataframe tbody tr th:only-of-type {\n",
       "        vertical-align: middle;\n",
       "    }\n",
       "\n",
       "    .dataframe tbody tr th {\n",
       "        vertical-align: top;\n",
       "    }\n",
       "\n",
       "    .dataframe thead th {\n",
       "        text-align: right;\n",
       "    }\n",
       "</style>\n",
       "<table border=\"1\" class=\"dataframe\">\n",
       "  <thead>\n",
       "    <tr style=\"text-align: right;\">\n",
       "      <th></th>\n",
       "      <th>TQ</th>\n",
       "      <th>TQ COUNT</th>\n",
       "      <th>TBSCAN</th>\n",
       "      <th>TBSCAN COUNT</th>\n",
       "      <th>HS JOIN</th>\n",
       "      <th>HS JOIN COUNT</th>\n",
       "      <th>ESTIMATED_MEMORY</th>\n",
       "      <th>ACTUAL_MEMORY</th>\n",
       "    </tr>\n",
       "  </thead>\n",
       "  <tbody>\n",
       "    <tr>\n",
       "      <th>0</th>\n",
       "      <td>0.004700</td>\n",
       "      <td>1</td>\n",
       "      <td>1.313463e+07</td>\n",
       "      <td>9</td>\n",
       "      <td>71.773664</td>\n",
       "      <td>8</td>\n",
       "      <td>521.280</td>\n",
       "      <td>251.296</td>\n",
       "    </tr>\n",
       "    <tr>\n",
       "      <th>1</th>\n",
       "      <td>0.004700</td>\n",
       "      <td>1</td>\n",
       "      <td>1.313463e+07</td>\n",
       "      <td>9</td>\n",
       "      <td>71.773664</td>\n",
       "      <td>8</td>\n",
       "      <td>251.296</td>\n",
       "      <td>251.296</td>\n",
       "    </tr>\n",
       "    <tr>\n",
       "      <th>2</th>\n",
       "      <td>0.005288</td>\n",
       "      <td>1</td>\n",
       "      <td>1.313463e+07</td>\n",
       "      <td>9</td>\n",
       "      <td>71.829424</td>\n",
       "      <td>8</td>\n",
       "      <td>251.264</td>\n",
       "      <td>251.248</td>\n",
       "    </tr>\n",
       "    <tr>\n",
       "      <th>3</th>\n",
       "      <td>0.004700</td>\n",
       "      <td>1</td>\n",
       "      <td>1.313463e+07</td>\n",
       "      <td>9</td>\n",
       "      <td>71.773664</td>\n",
       "      <td>8</td>\n",
       "      <td>251.248</td>\n",
       "      <td>251.252</td>\n",
       "    </tr>\n",
       "    <tr>\n",
       "      <th>4</th>\n",
       "      <td>0.000016</td>\n",
       "      <td>1</td>\n",
       "      <td>1.305037e+07</td>\n",
       "      <td>9</td>\n",
       "      <td>96.419862</td>\n",
       "      <td>8</td>\n",
       "      <td>171.500</td>\n",
       "      <td>171.316</td>\n",
       "    </tr>\n",
       "  </tbody>\n",
       "</table>\n",
       "</div>"
      ],
      "text/plain": [
       "         TQ  TQ COUNT        TBSCAN  TBSCAN COUNT    HS JOIN  HS JOIN COUNT  \\\n",
       "0  0.004700         1  1.313463e+07             9  71.773664              8   \n",
       "1  0.004700         1  1.313463e+07             9  71.773664              8   \n",
       "2  0.005288         1  1.313463e+07             9  71.829424              8   \n",
       "3  0.004700         1  1.313463e+07             9  71.773664              8   \n",
       "4  0.000016         1  1.305037e+07             9  96.419862              8   \n",
       "\n",
       "   ESTIMATED_MEMORY  ACTUAL_MEMORY  \n",
       "0           521.280        251.296  \n",
       "1           251.296        251.296  \n",
       "2           251.264        251.248  \n",
       "3           251.248        251.252  \n",
       "4           171.500        171.316  "
      ]
     },
     "execution_count": 17,
     "metadata": {},
     "output_type": "execute_result"
    }
   ],
   "source": [
    "df.head()"
   ]
  },
  {
   "cell_type": "code",
   "execution_count": 18,
   "id": "cd9c9956",
   "metadata": {},
   "outputs": [
    {
     "data": {
      "text/plain": [
       "Index(['TQ', 'TQ COUNT', 'TBSCAN', 'TBSCAN COUNT', 'HS JOIN', 'HS JOIN COUNT',\n",
       "       'ESTIMATED_MEMORY', 'ACTUAL_MEMORY'],\n",
       "      dtype='object')"
      ]
     },
     "execution_count": 18,
     "metadata": {},
     "output_type": "execute_result"
    }
   ],
   "source": [
    "df.columns"
   ]
  },
  {
   "cell_type": "code",
   "execution_count": 19,
   "id": "223dc364",
   "metadata": {},
   "outputs": [],
   "source": [
    "df = df.copy()[['TQ', 'TQ COUNT', 'TBSCAN', 'TBSCAN COUNT', 'HS JOIN', 'HS JOIN COUNT',\n",
    "       'ESTIMATED_MEMORY', 'ACTUAL_MEMORY']]"
   ]
  },
  {
   "cell_type": "code",
   "execution_count": 20,
   "id": "c737e938",
   "metadata": {},
   "outputs": [],
   "source": [
    "df.rename(columns={'ESTIMATED_MEMORY':'db2', 'ACTUAL_MEMORY':'actual'}, inplace=True)"
   ]
  },
  {
   "cell_type": "code",
   "execution_count": 21,
   "id": "b9d0093d",
   "metadata": {},
   "outputs": [],
   "source": [
    "df.to_csv('job2-clean.csv', index=False)"
   ]
  },
  {
   "cell_type": "markdown",
   "id": "b3809558",
   "metadata": {},
   "source": [
    "# Partitioning the dataset into training and test sets"
   ]
  },
  {
   "cell_type": "code",
   "execution_count": 22,
   "id": "8bfbeda9",
   "metadata": {},
   "outputs": [
    {
     "name": "stdout",
     "output_type": "stream",
     "text": [
      "Index(['TQ', 'TQ COUNT', 'TBSCAN', 'TBSCAN COUNT', 'HS JOIN', 'HS JOIN COUNT',\n",
      "       'db2', 'actual'],\n",
      "      dtype='object')\n"
     ]
    }
   ],
   "source": [
    "print(df.columns)"
   ]
  },
  {
   "cell_type": "code",
   "execution_count": 23,
   "id": "60a590b6",
   "metadata": {},
   "outputs": [],
   "source": [
    "X_cols = ['TQ', 'TQ COUNT', 'TBSCAN', 'TBSCAN COUNT', 'HS JOIN', 'HS JOIN COUNT',\n",
    "       'db2']\n",
    "target = ['actual']"
   ]
  },
  {
   "cell_type": "code",
   "execution_count": 24,
   "id": "885873d1",
   "metadata": {},
   "outputs": [],
   "source": [
    "X, y = df[X_cols], df[target]\n",
    "\n",
    "X_train, X_test, y_train, y_test =\\\n",
    "    train_test_split(X, y, \n",
    "                     test_size=0.2, \n",
    "                     random_state=0)"
   ]
  },
  {
   "cell_type": "code",
   "execution_count": 25,
   "id": "93e30b60",
   "metadata": {},
   "outputs": [],
   "source": [
    "features = ['TQ', 'TQ COUNT', 'TBSCAN', 'TBSCAN COUNT', 'HS JOIN', 'HS JOIN COUNT']"
   ]
  },
  {
   "cell_type": "markdown",
   "id": "fb988534",
   "metadata": {},
   "source": [
    "# Bringing a subset of the features onto the same scale - using ColumnTransformer"
   ]
  },
  {
   "cell_type": "code",
   "execution_count": 26,
   "id": "5858ffd0",
   "metadata": {},
   "outputs": [],
   "source": [
    "c_transf = ColumnTransformer([\n",
    "        ('stdscaler', StandardScaler(), features)\n",
    "    ], remainder='passthrough')\n",
    "\n",
    "X_train_std = c_transf.fit_transform(X_train).astype(float)\n",
    "\n",
    "X_test_std = c_transf.transform(X_test).astype(float)"
   ]
  },
  {
   "cell_type": "code",
   "execution_count": 27,
   "id": "505a455a",
   "metadata": {},
   "outputs": [
    {
     "data": {
      "text/plain": [
       "(1865, 7)"
      ]
     },
     "execution_count": 27,
     "metadata": {},
     "output_type": "execute_result"
    }
   ],
   "source": [
    "X_train_std.shape"
   ]
  },
  {
   "cell_type": "code",
   "execution_count": 28,
   "id": "0378fecf",
   "metadata": {},
   "outputs": [
    {
     "data": {
      "text/html": [
       "<div>\n",
       "<style scoped>\n",
       "    .dataframe tbody tr th:only-of-type {\n",
       "        vertical-align: middle;\n",
       "    }\n",
       "\n",
       "    .dataframe tbody tr th {\n",
       "        vertical-align: top;\n",
       "    }\n",
       "\n",
       "    .dataframe thead th {\n",
       "        text-align: right;\n",
       "    }\n",
       "</style>\n",
       "<table border=\"1\" class=\"dataframe\">\n",
       "  <thead>\n",
       "    <tr style=\"text-align: right;\">\n",
       "      <th></th>\n",
       "      <th>TQ</th>\n",
       "      <th>TQ COUNT</th>\n",
       "      <th>TBSCAN</th>\n",
       "      <th>TBSCAN COUNT</th>\n",
       "      <th>HS JOIN</th>\n",
       "      <th>HS JOIN COUNT</th>\n",
       "      <th>db2</th>\n",
       "    </tr>\n",
       "  </thead>\n",
       "  <tbody>\n",
       "    <tr>\n",
       "      <th>812</th>\n",
       "      <td>0.000023</td>\n",
       "      <td>1</td>\n",
       "      <td>1.266654e+07</td>\n",
       "      <td>8</td>\n",
       "      <td>17.359695</td>\n",
       "      <td>7</td>\n",
       "      <td>526.412</td>\n",
       "    </tr>\n",
       "  </tbody>\n",
       "</table>\n",
       "</div>"
      ],
      "text/plain": [
       "           TQ  TQ COUNT        TBSCAN  TBSCAN COUNT    HS JOIN  HS JOIN COUNT  \\\n",
       "812  0.000023         1  1.266654e+07             8  17.359695              7   \n",
       "\n",
       "         db2  \n",
       "812  526.412  "
      ]
     },
     "execution_count": 28,
     "metadata": {},
     "output_type": "execute_result"
    }
   ],
   "source": [
    "X_train.head(1)"
   ]
  },
  {
   "cell_type": "code",
   "execution_count": 29,
   "id": "3fbc2320",
   "metadata": {
    "scrolled": true
   },
   "outputs": [
    {
     "data": {
      "text/plain": [
       "array([-1.61583082e-01,  0.00000000e+00, -1.20888799e+00, -1.22065009e+00,\n",
       "       -6.34712502e-02, -1.22065009e+00,  5.26412000e+02])"
      ]
     },
     "execution_count": 29,
     "metadata": {},
     "output_type": "execute_result"
    }
   ],
   "source": [
    "X_train_std[0]"
   ]
  },
  {
   "cell_type": "code",
   "execution_count": 30,
   "id": "2cac790f",
   "metadata": {},
   "outputs": [
    {
     "data": {
      "text/plain": [
       "(467, 7)"
      ]
     },
     "execution_count": 30,
     "metadata": {},
     "output_type": "execute_result"
    }
   ],
   "source": [
    "X_test_std.shape"
   ]
  },
  {
   "cell_type": "markdown",
   "id": "70b4b909",
   "metadata": {},
   "source": [
    "# Converting y into np arrays"
   ]
  },
  {
   "cell_type": "code",
   "execution_count": 31,
   "id": "c37c2abe",
   "metadata": {},
   "outputs": [],
   "source": [
    "y_train = y_train.values\n",
    "y_test = y_test.values"
   ]
  },
  {
   "cell_type": "markdown",
   "id": "e01f50aa",
   "metadata": {},
   "source": [
    "# Saving training and test datasets"
   ]
  },
  {
   "cell_type": "code",
   "execution_count": 32,
   "id": "faa802c7",
   "metadata": {},
   "outputs": [
    {
     "data": {
      "text/plain": [
       "(1865, 7)"
      ]
     },
     "execution_count": 32,
     "metadata": {},
     "output_type": "execute_result"
    }
   ],
   "source": [
    "X_train.shape"
   ]
  },
  {
   "cell_type": "code",
   "execution_count": 33,
   "id": "3c14bf8e",
   "metadata": {},
   "outputs": [
    {
     "data": {
      "text/plain": [
       "(1865, 7)"
      ]
     },
     "execution_count": 33,
     "metadata": {},
     "output_type": "execute_result"
    }
   ],
   "source": [
    "X_train_std.shape"
   ]
  },
  {
   "cell_type": "code",
   "execution_count": 34,
   "id": "6b4d4a8a",
   "metadata": {},
   "outputs": [
    {
     "data": {
      "text/plain": [
       "numpy.ndarray"
      ]
     },
     "execution_count": 34,
     "metadata": {},
     "output_type": "execute_result"
    }
   ],
   "source": [
    "type(X_train_std)"
   ]
  },
  {
   "cell_type": "code",
   "execution_count": 35,
   "id": "7e6b2fc3",
   "metadata": {},
   "outputs": [],
   "source": [
    "X_train_clean = pd.DataFrame(X_train_std, columns=X_train.columns)\n",
    "X_train_clean['actual'] = y_train"
   ]
  },
  {
   "cell_type": "code",
   "execution_count": 36,
   "id": "10aa20cc",
   "metadata": {},
   "outputs": [
    {
     "data": {
      "text/html": [
       "<div>\n",
       "<style scoped>\n",
       "    .dataframe tbody tr th:only-of-type {\n",
       "        vertical-align: middle;\n",
       "    }\n",
       "\n",
       "    .dataframe tbody tr th {\n",
       "        vertical-align: top;\n",
       "    }\n",
       "\n",
       "    .dataframe thead th {\n",
       "        text-align: right;\n",
       "    }\n",
       "</style>\n",
       "<table border=\"1\" class=\"dataframe\">\n",
       "  <thead>\n",
       "    <tr style=\"text-align: right;\">\n",
       "      <th></th>\n",
       "      <th>TQ</th>\n",
       "      <th>TQ COUNT</th>\n",
       "      <th>TBSCAN</th>\n",
       "      <th>TBSCAN COUNT</th>\n",
       "      <th>HS JOIN</th>\n",
       "      <th>HS JOIN COUNT</th>\n",
       "      <th>db2</th>\n",
       "      <th>actual</th>\n",
       "    </tr>\n",
       "  </thead>\n",
       "  <tbody>\n",
       "    <tr>\n",
       "      <th>0</th>\n",
       "      <td>-0.161583</td>\n",
       "      <td>0.0</td>\n",
       "      <td>-1.208888</td>\n",
       "      <td>-1.220650</td>\n",
       "      <td>-0.063471</td>\n",
       "      <td>-1.220650</td>\n",
       "      <td>526.412</td>\n",
       "      <td>39.804</td>\n",
       "    </tr>\n",
       "    <tr>\n",
       "      <th>1</th>\n",
       "      <td>0.082087</td>\n",
       "      <td>0.0</td>\n",
       "      <td>1.008924</td>\n",
       "      <td>0.819236</td>\n",
       "      <td>-0.057916</td>\n",
       "      <td>0.819236</td>\n",
       "      <td>251.248</td>\n",
       "      <td>251.248</td>\n",
       "    </tr>\n",
       "    <tr>\n",
       "      <th>2</th>\n",
       "      <td>-0.118526</td>\n",
       "      <td>0.0</td>\n",
       "      <td>-1.208808</td>\n",
       "      <td>-1.220650</td>\n",
       "      <td>-0.037267</td>\n",
       "      <td>-1.220650</td>\n",
       "      <td>532.976</td>\n",
       "      <td>62.980</td>\n",
       "    </tr>\n",
       "    <tr>\n",
       "      <th>3</th>\n",
       "      <td>0.073651</td>\n",
       "      <td>0.0</td>\n",
       "      <td>1.008924</td>\n",
       "      <td>0.819236</td>\n",
       "      <td>-0.057918</td>\n",
       "      <td>0.819236</td>\n",
       "      <td>251.248</td>\n",
       "      <td>251.248</td>\n",
       "    </tr>\n",
       "    <tr>\n",
       "      <th>4</th>\n",
       "      <td>-0.162488</td>\n",
       "      <td>0.0</td>\n",
       "      <td>-1.208890</td>\n",
       "      <td>-1.220650</td>\n",
       "      <td>-0.065120</td>\n",
       "      <td>-1.220650</td>\n",
       "      <td>526.412</td>\n",
       "      <td>56.992</td>\n",
       "    </tr>\n",
       "  </tbody>\n",
       "</table>\n",
       "</div>"
      ],
      "text/plain": [
       "         TQ  TQ COUNT    TBSCAN  TBSCAN COUNT   HS JOIN  HS JOIN COUNT  \\\n",
       "0 -0.161583       0.0 -1.208888     -1.220650 -0.063471      -1.220650   \n",
       "1  0.082087       0.0  1.008924      0.819236 -0.057916       0.819236   \n",
       "2 -0.118526       0.0 -1.208808     -1.220650 -0.037267      -1.220650   \n",
       "3  0.073651       0.0  1.008924      0.819236 -0.057918       0.819236   \n",
       "4 -0.162488       0.0 -1.208890     -1.220650 -0.065120      -1.220650   \n",
       "\n",
       "       db2   actual  \n",
       "0  526.412   39.804  \n",
       "1  251.248  251.248  \n",
       "2  532.976   62.980  \n",
       "3  251.248  251.248  \n",
       "4  526.412   56.992  "
      ]
     },
     "execution_count": 36,
     "metadata": {},
     "output_type": "execute_result"
    }
   ],
   "source": [
    "X_train_clean.head(5)"
   ]
  },
  {
   "cell_type": "code",
   "execution_count": null,
   "id": "2712777d",
   "metadata": {},
   "outputs": [],
   "source": [
    "X_train_clean.to_csv('job2_train_clean.csv', index=False)"
   ]
  },
  {
   "cell_type": "code",
   "execution_count": 38,
   "id": "3adcd703",
   "metadata": {},
   "outputs": [],
   "source": [
    "X_test_clean = pd.DataFrame(X_test_std, columns=X_test.columns)\n",
    "X_test_clean['actual'] = y_test"
   ]
  },
  {
   "cell_type": "code",
   "execution_count": 39,
   "id": "dd5a257a",
   "metadata": {},
   "outputs": [
    {
     "data": {
      "text/html": [
       "<div>\n",
       "<style scoped>\n",
       "    .dataframe tbody tr th:only-of-type {\n",
       "        vertical-align: middle;\n",
       "    }\n",
       "\n",
       "    .dataframe tbody tr th {\n",
       "        vertical-align: top;\n",
       "    }\n",
       "\n",
       "    .dataframe thead th {\n",
       "        text-align: right;\n",
       "    }\n",
       "</style>\n",
       "<table border=\"1\" class=\"dataframe\">\n",
       "  <thead>\n",
       "    <tr style=\"text-align: right;\">\n",
       "      <th></th>\n",
       "      <th>TQ</th>\n",
       "      <th>TQ COUNT</th>\n",
       "      <th>TBSCAN</th>\n",
       "      <th>TBSCAN COUNT</th>\n",
       "      <th>HS JOIN</th>\n",
       "      <th>HS JOIN COUNT</th>\n",
       "      <th>db2</th>\n",
       "      <th>actual</th>\n",
       "    </tr>\n",
       "  </thead>\n",
       "  <tbody>\n",
       "    <tr>\n",
       "      <th>0</th>\n",
       "      <td>0.065215</td>\n",
       "      <td>0.0</td>\n",
       "      <td>1.008923</td>\n",
       "      <td>0.819236</td>\n",
       "      <td>-0.057920</td>\n",
       "      <td>0.819236</td>\n",
       "      <td>251.248</td>\n",
       "      <td>251.248</td>\n",
       "    </tr>\n",
       "    <tr>\n",
       "      <th>1</th>\n",
       "      <td>0.056780</td>\n",
       "      <td>0.0</td>\n",
       "      <td>1.008923</td>\n",
       "      <td>0.819236</td>\n",
       "      <td>-0.057922</td>\n",
       "      <td>0.819236</td>\n",
       "      <td>251.248</td>\n",
       "      <td>251.252</td>\n",
       "    </tr>\n",
       "    <tr>\n",
       "      <th>2</th>\n",
       "      <td>-0.162551</td>\n",
       "      <td>0.0</td>\n",
       "      <td>-1.208890</td>\n",
       "      <td>-1.220650</td>\n",
       "      <td>-0.065235</td>\n",
       "      <td>-1.220650</td>\n",
       "      <td>526.412</td>\n",
       "      <td>57.124</td>\n",
       "    </tr>\n",
       "    <tr>\n",
       "      <th>3</th>\n",
       "      <td>-0.145175</td>\n",
       "      <td>0.0</td>\n",
       "      <td>0.635903</td>\n",
       "      <td>0.819236</td>\n",
       "      <td>-0.057915</td>\n",
       "      <td>0.819236</td>\n",
       "      <td>251.248</td>\n",
       "      <td>251.248</td>\n",
       "    </tr>\n",
       "    <tr>\n",
       "      <th>4</th>\n",
       "      <td>-0.161825</td>\n",
       "      <td>0.0</td>\n",
       "      <td>-1.208888</td>\n",
       "      <td>-1.220650</td>\n",
       "      <td>-0.063914</td>\n",
       "      <td>-1.220650</td>\n",
       "      <td>526.412</td>\n",
       "      <td>39.804</td>\n",
       "    </tr>\n",
       "  </tbody>\n",
       "</table>\n",
       "</div>"
      ],
      "text/plain": [
       "         TQ  TQ COUNT    TBSCAN  TBSCAN COUNT   HS JOIN  HS JOIN COUNT  \\\n",
       "0  0.065215       0.0  1.008923      0.819236 -0.057920       0.819236   \n",
       "1  0.056780       0.0  1.008923      0.819236 -0.057922       0.819236   \n",
       "2 -0.162551       0.0 -1.208890     -1.220650 -0.065235      -1.220650   \n",
       "3 -0.145175       0.0  0.635903      0.819236 -0.057915       0.819236   \n",
       "4 -0.161825       0.0 -1.208888     -1.220650 -0.063914      -1.220650   \n",
       "\n",
       "       db2   actual  \n",
       "0  251.248  251.248  \n",
       "1  251.248  251.252  \n",
       "2  526.412   57.124  \n",
       "3  251.248  251.248  \n",
       "4  526.412   39.804  "
      ]
     },
     "execution_count": 39,
     "metadata": {},
     "output_type": "execute_result"
    }
   ],
   "source": [
    "X_test_clean.head(5)"
   ]
  },
  {
   "cell_type": "code",
   "execution_count": null,
   "id": "c7b7dd36",
   "metadata": {},
   "outputs": [],
   "source": [
    "X_test_clean.to_csv('job2_test_clean.csv', index=False)"
   ]
  }
 ],
 "metadata": {
  "kernelspec": {
   "display_name": ".venv",
   "language": "python",
   "name": "python3"
  },
  "language_info": {
   "codemirror_mode": {
    "name": "ipython",
    "version": 3
   },
   "file_extension": ".py",
   "mimetype": "text/x-python",
   "name": "python",
   "nbconvert_exporter": "python",
   "pygments_lexer": "ipython3",
   "version": "3.12.3"
  }
 },
 "nbformat": 4,
 "nbformat_minor": 5
}
