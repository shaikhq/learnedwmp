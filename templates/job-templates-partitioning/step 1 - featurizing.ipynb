{
 "cells": [
  {
   "cell_type": "markdown",
   "id": "13a5e88c",
   "metadata": {},
   "source": [
    "# Importing libraries"
   ]
  },
  {
   "cell_type": "code",
   "execution_count": 36,
   "id": "6e5d819e",
   "metadata": {},
   "outputs": [],
   "source": [
    "import pandas as pd\n",
    "from sklearn.compose import ColumnTransformer\n",
    "from sklearn.preprocessing import StandardScaler\n",
    "from sklearn.model_selection import train_test_split\n",
    "import numpy as np"
   ]
  },
  {
   "cell_type": "code",
   "execution_count": 37,
   "id": "e80648ff",
   "metadata": {},
   "outputs": [],
   "source": [
    "pd.set_option('display.max_columns', None)"
   ]
  },
  {
   "cell_type": "markdown",
   "id": "2dfccd15",
   "metadata": {},
   "source": [
    "# Loading data"
   ]
  },
  {
   "cell_type": "code",
   "execution_count": 38,
   "id": "72645c96",
   "metadata": {},
   "outputs": [],
   "source": [
    "df = pd.read_csv('Masterfile.csv')"
   ]
  },
  {
   "cell_type": "markdown",
   "id": "6b5953e2",
   "metadata": {},
   "source": [
    "# First look at the data"
   ]
  },
  {
   "cell_type": "code",
   "execution_count": 39,
   "id": "050924b6",
   "metadata": {},
   "outputs": [
    {
     "data": {
      "text/html": [
       "<div>\n",
       "<style scoped>\n",
       "    .dataframe tbody tr th:only-of-type {\n",
       "        vertical-align: middle;\n",
       "    }\n",
       "\n",
       "    .dataframe tbody tr th {\n",
       "        vertical-align: top;\n",
       "    }\n",
       "\n",
       "    .dataframe thead th {\n",
       "        text-align: right;\n",
       "    }\n",
       "</style>\n",
       "<table border=\"1\" class=\"dataframe\">\n",
       "  <thead>\n",
       "    <tr style=\"text-align: right;\">\n",
       "      <th></th>\n",
       "      <th>Unnamed: 0</th>\n",
       "      <th>FILENAME</th>\n",
       "      <th>TQ</th>\n",
       "      <th>TQ COUNT</th>\n",
       "      <th>TBSCAN</th>\n",
       "      <th>TBSCAN COUNT</th>\n",
       "      <th>SORT</th>\n",
       "      <th>SORT COUNT</th>\n",
       "      <th>FILTER</th>\n",
       "      <th>FILTER COUNT</th>\n",
       "      <th>HS JOIN</th>\n",
       "      <th>HS JOIN COUNT</th>\n",
       "      <th>TEMP</th>\n",
       "      <th>TEMP COUNT</th>\n",
       "      <th>GRPBY</th>\n",
       "      <th>GRPBY COUNT</th>\n",
       "      <th>UNIQUE</th>\n",
       "      <th>UNIQUE COUNT</th>\n",
       "      <th>UNION</th>\n",
       "      <th>UNION COUNT</th>\n",
       "      <th>NHJOIN</th>\n",
       "      <th>NHJOIN COUNT</th>\n",
       "      <th>Queries</th>\n",
       "      <th>ESTIMATED_MEMORY</th>\n",
       "      <th>ACTUAL_MEMORY</th>\n",
       "    </tr>\n",
       "  </thead>\n",
       "  <tbody>\n",
       "    <tr>\n",
       "      <th>0</th>\n",
       "      <td>0</td>\n",
       "      <td>/Users/yonisabokar/IdeaProjects/Database_Parse...</td>\n",
       "      <td>0.004700</td>\n",
       "      <td>1</td>\n",
       "      <td>1.313463e+07</td>\n",
       "      <td>9</td>\n",
       "      <td>NaN</td>\n",
       "      <td>NaN</td>\n",
       "      <td>NaN</td>\n",
       "      <td>NaN</td>\n",
       "      <td>71.773664</td>\n",
       "      <td>8</td>\n",
       "      <td>NaN</td>\n",
       "      <td>NaN</td>\n",
       "      <td>NaN</td>\n",
       "      <td>NaN</td>\n",
       "      <td>NaN</td>\n",
       "      <td>NaN</td>\n",
       "      <td>NaN</td>\n",
       "      <td>NaN</td>\n",
       "      <td>NaN</td>\n",
       "      <td>NaN</td>\n",
       "      <td>SELECT cn.name AS company_name, lt.link AS li...</td>\n",
       "      <td>130320.0</td>\n",
       "      <td>62824.0</td>\n",
       "    </tr>\n",
       "    <tr>\n",
       "      <th>1</th>\n",
       "      <td>0</td>\n",
       "      <td>/Users/yonisabokar/IdeaProjects/Database_Parse...</td>\n",
       "      <td>0.004700</td>\n",
       "      <td>1</td>\n",
       "      <td>1.313463e+07</td>\n",
       "      <td>9</td>\n",
       "      <td>NaN</td>\n",
       "      <td>NaN</td>\n",
       "      <td>NaN</td>\n",
       "      <td>NaN</td>\n",
       "      <td>71.773664</td>\n",
       "      <td>8</td>\n",
       "      <td>NaN</td>\n",
       "      <td>NaN</td>\n",
       "      <td>NaN</td>\n",
       "      <td>NaN</td>\n",
       "      <td>NaN</td>\n",
       "      <td>NaN</td>\n",
       "      <td>NaN</td>\n",
       "      <td>NaN</td>\n",
       "      <td>NaN</td>\n",
       "      <td>NaN</td>\n",
       "      <td>SELECT cn.name AS company_name, lt.link AS li...</td>\n",
       "      <td>62824.0</td>\n",
       "      <td>62824.0</td>\n",
       "    </tr>\n",
       "    <tr>\n",
       "      <th>2</th>\n",
       "      <td>0</td>\n",
       "      <td>/Users/yonisabokar/IdeaProjects/Database_Parse...</td>\n",
       "      <td>0.005288</td>\n",
       "      <td>1</td>\n",
       "      <td>1.313463e+07</td>\n",
       "      <td>9</td>\n",
       "      <td>NaN</td>\n",
       "      <td>NaN</td>\n",
       "      <td>NaN</td>\n",
       "      <td>NaN</td>\n",
       "      <td>71.829424</td>\n",
       "      <td>8</td>\n",
       "      <td>NaN</td>\n",
       "      <td>NaN</td>\n",
       "      <td>NaN</td>\n",
       "      <td>NaN</td>\n",
       "      <td>NaN</td>\n",
       "      <td>NaN</td>\n",
       "      <td>NaN</td>\n",
       "      <td>NaN</td>\n",
       "      <td>NaN</td>\n",
       "      <td>NaN</td>\n",
       "      <td>SELECT cn.name AS company_name, lt.link AS li...</td>\n",
       "      <td>62816.0</td>\n",
       "      <td>62812.0</td>\n",
       "    </tr>\n",
       "    <tr>\n",
       "      <th>3</th>\n",
       "      <td>0</td>\n",
       "      <td>/Users/yonisabokar/IdeaProjects/Database_Parse...</td>\n",
       "      <td>0.004700</td>\n",
       "      <td>1</td>\n",
       "      <td>1.313463e+07</td>\n",
       "      <td>9</td>\n",
       "      <td>NaN</td>\n",
       "      <td>NaN</td>\n",
       "      <td>NaN</td>\n",
       "      <td>NaN</td>\n",
       "      <td>71.773664</td>\n",
       "      <td>8</td>\n",
       "      <td>NaN</td>\n",
       "      <td>NaN</td>\n",
       "      <td>NaN</td>\n",
       "      <td>NaN</td>\n",
       "      <td>NaN</td>\n",
       "      <td>NaN</td>\n",
       "      <td>NaN</td>\n",
       "      <td>NaN</td>\n",
       "      <td>NaN</td>\n",
       "      <td>NaN</td>\n",
       "      <td>SELECT cn.name AS company_name, lt.link AS li...</td>\n",
       "      <td>62812.0</td>\n",
       "      <td>62813.0</td>\n",
       "    </tr>\n",
       "    <tr>\n",
       "      <th>4</th>\n",
       "      <td>0</td>\n",
       "      <td>/Users/yonisabokar/IdeaProjects/Database_Parse...</td>\n",
       "      <td>0.000016</td>\n",
       "      <td>1</td>\n",
       "      <td>1.305037e+07</td>\n",
       "      <td>9</td>\n",
       "      <td>NaN</td>\n",
       "      <td>NaN</td>\n",
       "      <td>NaN</td>\n",
       "      <td>NaN</td>\n",
       "      <td>96.419862</td>\n",
       "      <td>8</td>\n",
       "      <td>NaN</td>\n",
       "      <td>NaN</td>\n",
       "      <td>NaN</td>\n",
       "      <td>NaN</td>\n",
       "      <td>NaN</td>\n",
       "      <td>NaN</td>\n",
       "      <td>NaN</td>\n",
       "      <td>NaN</td>\n",
       "      <td>NaN</td>\n",
       "      <td>NaN</td>\n",
       "      <td>SELECT cn.name AS company_name, lt.link AS li...</td>\n",
       "      <td>42875.0</td>\n",
       "      <td>42829.0</td>\n",
       "    </tr>\n",
       "  </tbody>\n",
       "</table>\n",
       "</div>"
      ],
      "text/plain": [
       "   Unnamed: 0                                           FILENAME        TQ  \\\n",
       "0           0  /Users/yonisabokar/IdeaProjects/Database_Parse...  0.004700   \n",
       "1           0  /Users/yonisabokar/IdeaProjects/Database_Parse...  0.004700   \n",
       "2           0  /Users/yonisabokar/IdeaProjects/Database_Parse...  0.005288   \n",
       "3           0  /Users/yonisabokar/IdeaProjects/Database_Parse...  0.004700   \n",
       "4           0  /Users/yonisabokar/IdeaProjects/Database_Parse...  0.000016   \n",
       "\n",
       "   TQ COUNT        TBSCAN  TBSCAN COUNT  SORT  SORT COUNT  FILTER  \\\n",
       "0         1  1.313463e+07             9   NaN         NaN     NaN   \n",
       "1         1  1.313463e+07             9   NaN         NaN     NaN   \n",
       "2         1  1.313463e+07             9   NaN         NaN     NaN   \n",
       "3         1  1.313463e+07             9   NaN         NaN     NaN   \n",
       "4         1  1.305037e+07             9   NaN         NaN     NaN   \n",
       "\n",
       "   FILTER COUNT    HS JOIN  HS JOIN COUNT  TEMP  TEMP COUNT  GRPBY  \\\n",
       "0           NaN  71.773664              8   NaN         NaN    NaN   \n",
       "1           NaN  71.773664              8   NaN         NaN    NaN   \n",
       "2           NaN  71.829424              8   NaN         NaN    NaN   \n",
       "3           NaN  71.773664              8   NaN         NaN    NaN   \n",
       "4           NaN  96.419862              8   NaN         NaN    NaN   \n",
       "\n",
       "   GRPBY COUNT  UNIQUE  UNIQUE COUNT  UNION  UNION COUNT  NHJOIN  \\\n",
       "0          NaN     NaN           NaN    NaN          NaN     NaN   \n",
       "1          NaN     NaN           NaN    NaN          NaN     NaN   \n",
       "2          NaN     NaN           NaN    NaN          NaN     NaN   \n",
       "3          NaN     NaN           NaN    NaN          NaN     NaN   \n",
       "4          NaN     NaN           NaN    NaN          NaN     NaN   \n",
       "\n",
       "   NHJOIN COUNT                                            Queries  \\\n",
       "0           NaN   SELECT cn.name AS company_name, lt.link AS li...   \n",
       "1           NaN   SELECT cn.name AS company_name, lt.link AS li...   \n",
       "2           NaN   SELECT cn.name AS company_name, lt.link AS li...   \n",
       "3           NaN   SELECT cn.name AS company_name, lt.link AS li...   \n",
       "4           NaN   SELECT cn.name AS company_name, lt.link AS li...   \n",
       "\n",
       "   ESTIMATED_MEMORY  ACTUAL_MEMORY  \n",
       "0          130320.0        62824.0  \n",
       "1           62824.0        62824.0  \n",
       "2           62816.0        62812.0  \n",
       "3           62812.0        62813.0  \n",
       "4           42875.0        42829.0  "
      ]
     },
     "execution_count": 39,
     "metadata": {},
     "output_type": "execute_result"
    }
   ],
   "source": [
    "df.head()"
   ]
  },
  {
   "cell_type": "code",
   "execution_count": 40,
   "id": "a5d336a2",
   "metadata": {},
   "outputs": [
    {
     "name": "stdout",
     "output_type": "stream",
     "text": [
      "<class 'pandas.core.frame.DataFrame'>\n",
      "RangeIndex: 2335 entries, 0 to 2334\n",
      "Data columns (total 25 columns):\n",
      " #   Column            Non-Null Count  Dtype  \n",
      "---  ------            --------------  -----  \n",
      " 0   Unnamed: 0        2335 non-null   int64  \n",
      " 1   FILENAME          2335 non-null   object \n",
      " 2   TQ                2335 non-null   float64\n",
      " 3   TQ COUNT          2335 non-null   int64  \n",
      " 4   TBSCAN            2335 non-null   float64\n",
      " 5   TBSCAN COUNT      2335 non-null   int64  \n",
      " 6   SORT              0 non-null      float64\n",
      " 7   SORT COUNT        0 non-null      float64\n",
      " 8   FILTER            0 non-null      float64\n",
      " 9   FILTER COUNT      0 non-null      float64\n",
      " 10  HS JOIN           2335 non-null   float64\n",
      " 11  HS JOIN COUNT     2335 non-null   int64  \n",
      " 12  TEMP              0 non-null      float64\n",
      " 13  TEMP COUNT        0 non-null      float64\n",
      " 14  GRPBY             0 non-null      float64\n",
      " 15  GRPBY COUNT       0 non-null      float64\n",
      " 16  UNIQUE            0 non-null      float64\n",
      " 17  UNIQUE COUNT      0 non-null      float64\n",
      " 18  UNION             0 non-null      float64\n",
      " 19  UNION COUNT       0 non-null      float64\n",
      " 20  NHJOIN            0 non-null      float64\n",
      " 21  NHJOIN COUNT      0 non-null      float64\n",
      " 22  Queries           2335 non-null   object \n",
      " 23  ESTIMATED_MEMORY  2332 non-null   float64\n",
      " 24  ACTUAL_MEMORY     2332 non-null   float64\n",
      "dtypes: float64(19), int64(4), object(2)\n",
      "memory usage: 456.2+ KB\n"
     ]
    }
   ],
   "source": [
    "df.info()"
   ]
  },
  {
   "cell_type": "markdown",
   "id": "8001abaa",
   "metadata": {},
   "source": [
    "## Dropping non-feature columns"
   ]
  },
  {
   "cell_type": "code",
   "execution_count": 41,
   "id": "d6179b71",
   "metadata": {},
   "outputs": [],
   "source": [
    "cols_non_features = ['Unnamed: 0', 'FILENAME', 'Queries']\n",
    "df.drop(columns=cols_non_features, inplace=True)"
   ]
  },
  {
   "cell_type": "code",
   "execution_count": 42,
   "id": "331e27b3",
   "metadata": {},
   "outputs": [
    {
     "name": "stdout",
     "output_type": "stream",
     "text": [
      "<class 'pandas.core.frame.DataFrame'>\n",
      "RangeIndex: 2335 entries, 0 to 2334\n",
      "Data columns (total 22 columns):\n",
      " #   Column            Non-Null Count  Dtype  \n",
      "---  ------            --------------  -----  \n",
      " 0   TQ                2335 non-null   float64\n",
      " 1   TQ COUNT          2335 non-null   int64  \n",
      " 2   TBSCAN            2335 non-null   float64\n",
      " 3   TBSCAN COUNT      2335 non-null   int64  \n",
      " 4   SORT              0 non-null      float64\n",
      " 5   SORT COUNT        0 non-null      float64\n",
      " 6   FILTER            0 non-null      float64\n",
      " 7   FILTER COUNT      0 non-null      float64\n",
      " 8   HS JOIN           2335 non-null   float64\n",
      " 9   HS JOIN COUNT     2335 non-null   int64  \n",
      " 10  TEMP              0 non-null      float64\n",
      " 11  TEMP COUNT        0 non-null      float64\n",
      " 12  GRPBY             0 non-null      float64\n",
      " 13  GRPBY COUNT       0 non-null      float64\n",
      " 14  UNIQUE            0 non-null      float64\n",
      " 15  UNIQUE COUNT      0 non-null      float64\n",
      " 16  UNION             0 non-null      float64\n",
      " 17  UNION COUNT       0 non-null      float64\n",
      " 18  NHJOIN            0 non-null      float64\n",
      " 19  NHJOIN COUNT      0 non-null      float64\n",
      " 20  ESTIMATED_MEMORY  2332 non-null   float64\n",
      " 21  ACTUAL_MEMORY     2332 non-null   float64\n",
      "dtypes: float64(19), int64(3)\n",
      "memory usage: 401.5 KB\n"
     ]
    }
   ],
   "source": [
    "df.info()"
   ]
  },
  {
   "cell_type": "markdown",
   "id": "bafb4fd8",
   "metadata": {},
   "source": [
    "# Checking Missing Values"
   ]
  },
  {
   "cell_type": "code",
   "execution_count": 43,
   "id": "22c92cfd",
   "metadata": {},
   "outputs": [
    {
     "data": {
      "text/plain": [
       "TQ                     0\n",
       "TQ COUNT               0\n",
       "TBSCAN                 0\n",
       "TBSCAN COUNT           0\n",
       "SORT                2335\n",
       "SORT COUNT          2335\n",
       "FILTER              2335\n",
       "FILTER COUNT        2335\n",
       "HS JOIN                0\n",
       "HS JOIN COUNT          0\n",
       "TEMP                2335\n",
       "TEMP COUNT          2335\n",
       "GRPBY               2335\n",
       "GRPBY COUNT         2335\n",
       "UNIQUE              2335\n",
       "UNIQUE COUNT        2335\n",
       "UNION               2335\n",
       "UNION COUNT         2335\n",
       "NHJOIN              2335\n",
       "NHJOIN COUNT        2335\n",
       "ESTIMATED_MEMORY       3\n",
       "ACTUAL_MEMORY          3\n",
       "dtype: int64"
      ]
     },
     "execution_count": 43,
     "metadata": {},
     "output_type": "execute_result"
    }
   ],
   "source": [
    "df.isnull().sum()"
   ]
  },
  {
   "cell_type": "markdown",
   "id": "fdbb2838",
   "metadata": {},
   "source": [
    "## Dropping columns with all missing values"
   ]
  },
  {
   "cell_type": "code",
   "execution_count": 44,
   "id": "baed0fc9",
   "metadata": {},
   "outputs": [],
   "source": [
    "df.dropna(axis=1, how='all', inplace=True)"
   ]
  },
  {
   "cell_type": "code",
   "execution_count": 45,
   "id": "9436231f",
   "metadata": {},
   "outputs": [
    {
     "name": "stdout",
     "output_type": "stream",
     "text": [
      "<class 'pandas.core.frame.DataFrame'>\n",
      "RangeIndex: 2335 entries, 0 to 2334\n",
      "Data columns (total 8 columns):\n",
      " #   Column            Non-Null Count  Dtype  \n",
      "---  ------            --------------  -----  \n",
      " 0   TQ                2335 non-null   float64\n",
      " 1   TQ COUNT          2335 non-null   int64  \n",
      " 2   TBSCAN            2335 non-null   float64\n",
      " 3   TBSCAN COUNT      2335 non-null   int64  \n",
      " 4   HS JOIN           2335 non-null   float64\n",
      " 5   HS JOIN COUNT     2335 non-null   int64  \n",
      " 6   ESTIMATED_MEMORY  2332 non-null   float64\n",
      " 7   ACTUAL_MEMORY     2332 non-null   float64\n",
      "dtypes: float64(5), int64(3)\n",
      "memory usage: 146.1 KB\n"
     ]
    }
   ],
   "source": [
    "df.info()"
   ]
  },
  {
   "cell_type": "markdown",
   "id": "035cc1f4",
   "metadata": {},
   "source": [
    "## Dropping rows with missing values"
   ]
  },
  {
   "cell_type": "code",
   "execution_count": 46,
   "id": "8a078cff",
   "metadata": {},
   "outputs": [],
   "source": [
    "df.dropna(axis=0, inplace=True)"
   ]
  },
  {
   "cell_type": "code",
   "execution_count": 47,
   "id": "bb9094e3",
   "metadata": {},
   "outputs": [
    {
     "name": "stdout",
     "output_type": "stream",
     "text": [
      "<class 'pandas.core.frame.DataFrame'>\n",
      "Index: 2332 entries, 0 to 2334\n",
      "Data columns (total 8 columns):\n",
      " #   Column            Non-Null Count  Dtype  \n",
      "---  ------            --------------  -----  \n",
      " 0   TQ                2332 non-null   float64\n",
      " 1   TQ COUNT          2332 non-null   int64  \n",
      " 2   TBSCAN            2332 non-null   float64\n",
      " 3   TBSCAN COUNT      2332 non-null   int64  \n",
      " 4   HS JOIN           2332 non-null   float64\n",
      " 5   HS JOIN COUNT     2332 non-null   int64  \n",
      " 6   ESTIMATED_MEMORY  2332 non-null   float64\n",
      " 7   ACTUAL_MEMORY     2332 non-null   float64\n",
      "dtypes: float64(5), int64(3)\n",
      "memory usage: 164.0 KB\n"
     ]
    }
   ],
   "source": [
    "df.info()"
   ]
  },
  {
   "cell_type": "code",
   "execution_count": 48,
   "id": "27fa8f4e",
   "metadata": {},
   "outputs": [
    {
     "data": {
      "text/html": [
       "<div>\n",
       "<style scoped>\n",
       "    .dataframe tbody tr th:only-of-type {\n",
       "        vertical-align: middle;\n",
       "    }\n",
       "\n",
       "    .dataframe tbody tr th {\n",
       "        vertical-align: top;\n",
       "    }\n",
       "\n",
       "    .dataframe thead th {\n",
       "        text-align: right;\n",
       "    }\n",
       "</style>\n",
       "<table border=\"1\" class=\"dataframe\">\n",
       "  <thead>\n",
       "    <tr style=\"text-align: right;\">\n",
       "      <th></th>\n",
       "      <th>TQ</th>\n",
       "      <th>TQ COUNT</th>\n",
       "      <th>TBSCAN</th>\n",
       "      <th>TBSCAN COUNT</th>\n",
       "      <th>HS JOIN</th>\n",
       "      <th>HS JOIN COUNT</th>\n",
       "      <th>ESTIMATED_MEMORY</th>\n",
       "      <th>ACTUAL_MEMORY</th>\n",
       "    </tr>\n",
       "  </thead>\n",
       "  <tbody>\n",
       "    <tr>\n",
       "      <th>0</th>\n",
       "      <td>0.004700</td>\n",
       "      <td>1</td>\n",
       "      <td>1.313463e+07</td>\n",
       "      <td>9</td>\n",
       "      <td>71.773664</td>\n",
       "      <td>8</td>\n",
       "      <td>130320.0</td>\n",
       "      <td>62824.0</td>\n",
       "    </tr>\n",
       "    <tr>\n",
       "      <th>1</th>\n",
       "      <td>0.004700</td>\n",
       "      <td>1</td>\n",
       "      <td>1.313463e+07</td>\n",
       "      <td>9</td>\n",
       "      <td>71.773664</td>\n",
       "      <td>8</td>\n",
       "      <td>62824.0</td>\n",
       "      <td>62824.0</td>\n",
       "    </tr>\n",
       "    <tr>\n",
       "      <th>2</th>\n",
       "      <td>0.005288</td>\n",
       "      <td>1</td>\n",
       "      <td>1.313463e+07</td>\n",
       "      <td>9</td>\n",
       "      <td>71.829424</td>\n",
       "      <td>8</td>\n",
       "      <td>62816.0</td>\n",
       "      <td>62812.0</td>\n",
       "    </tr>\n",
       "    <tr>\n",
       "      <th>3</th>\n",
       "      <td>0.004700</td>\n",
       "      <td>1</td>\n",
       "      <td>1.313463e+07</td>\n",
       "      <td>9</td>\n",
       "      <td>71.773664</td>\n",
       "      <td>8</td>\n",
       "      <td>62812.0</td>\n",
       "      <td>62813.0</td>\n",
       "    </tr>\n",
       "    <tr>\n",
       "      <th>4</th>\n",
       "      <td>0.000016</td>\n",
       "      <td>1</td>\n",
       "      <td>1.305037e+07</td>\n",
       "      <td>9</td>\n",
       "      <td>96.419862</td>\n",
       "      <td>8</td>\n",
       "      <td>42875.0</td>\n",
       "      <td>42829.0</td>\n",
       "    </tr>\n",
       "  </tbody>\n",
       "</table>\n",
       "</div>"
      ],
      "text/plain": [
       "         TQ  TQ COUNT        TBSCAN  TBSCAN COUNT    HS JOIN  HS JOIN COUNT  \\\n",
       "0  0.004700         1  1.313463e+07             9  71.773664              8   \n",
       "1  0.004700         1  1.313463e+07             9  71.773664              8   \n",
       "2  0.005288         1  1.313463e+07             9  71.829424              8   \n",
       "3  0.004700         1  1.313463e+07             9  71.773664              8   \n",
       "4  0.000016         1  1.305037e+07             9  96.419862              8   \n",
       "\n",
       "   ESTIMATED_MEMORY  ACTUAL_MEMORY  \n",
       "0          130320.0        62824.0  \n",
       "1           62824.0        62824.0  \n",
       "2           62816.0        62812.0  \n",
       "3           62812.0        62813.0  \n",
       "4           42875.0        42829.0  "
      ]
     },
     "execution_count": 48,
     "metadata": {},
     "output_type": "execute_result"
    }
   ],
   "source": [
    "df.head()"
   ]
  },
  {
   "cell_type": "code",
   "execution_count": 49,
   "id": "d7b20e95",
   "metadata": {},
   "outputs": [
    {
     "data": {
      "text/plain": [
       "(2332, 8)"
      ]
     },
     "execution_count": 49,
     "metadata": {},
     "output_type": "execute_result"
    }
   ],
   "source": [
    "df.shape"
   ]
  },
  {
   "cell_type": "code",
   "execution_count": 50,
   "id": "cfa8d050",
   "metadata": {},
   "outputs": [
    {
     "data": {
      "text/plain": [
       "Index(['TQ', 'TQ COUNT', 'TBSCAN', 'TBSCAN COUNT', 'HS JOIN', 'HS JOIN COUNT',\n",
       "       'ESTIMATED_MEMORY', 'ACTUAL_MEMORY'],\n",
       "      dtype='object')"
      ]
     },
     "execution_count": 50,
     "metadata": {},
     "output_type": "execute_result"
    }
   ],
   "source": [
    "df.columns\n",
    "# Instead of 'ESTIMATED_SORT_SHRHEAP_TOP' and 'SORT_SHRHEAP_TOP', \n",
    "# here there is 'ESTIMATED_MEMORY'and 'ACTUAL_MEMORY'"
   ]
  },
  {
   "cell_type": "markdown",
   "id": "2e41085d",
   "metadata": {},
   "source": [
    "# Converting these values to MB"
   ]
  },
  {
   "cell_type": "code",
   "execution_count": 51,
   "id": "b24e1022",
   "metadata": {},
   "outputs": [],
   "source": [
    "df['ESTIMATED_MEMORY'] = df['ESTIMATED_MEMORY'] * 4000 / 1000000\n",
    "df['ACTUAL_MEMORY'] = df['ACTUAL_MEMORY'] * 4000 / 1000000"
   ]
  },
  {
   "cell_type": "code",
   "execution_count": 52,
   "id": "9a425f9a",
   "metadata": {
    "scrolled": true
   },
   "outputs": [
    {
     "data": {
      "text/html": [
       "<div>\n",
       "<style scoped>\n",
       "    .dataframe tbody tr th:only-of-type {\n",
       "        vertical-align: middle;\n",
       "    }\n",
       "\n",
       "    .dataframe tbody tr th {\n",
       "        vertical-align: top;\n",
       "    }\n",
       "\n",
       "    .dataframe thead th {\n",
       "        text-align: right;\n",
       "    }\n",
       "</style>\n",
       "<table border=\"1\" class=\"dataframe\">\n",
       "  <thead>\n",
       "    <tr style=\"text-align: right;\">\n",
       "      <th></th>\n",
       "      <th>TQ</th>\n",
       "      <th>TQ COUNT</th>\n",
       "      <th>TBSCAN</th>\n",
       "      <th>TBSCAN COUNT</th>\n",
       "      <th>HS JOIN</th>\n",
       "      <th>HS JOIN COUNT</th>\n",
       "      <th>ESTIMATED_MEMORY</th>\n",
       "      <th>ACTUAL_MEMORY</th>\n",
       "    </tr>\n",
       "  </thead>\n",
       "  <tbody>\n",
       "    <tr>\n",
       "      <th>0</th>\n",
       "      <td>0.004700</td>\n",
       "      <td>1</td>\n",
       "      <td>1.313463e+07</td>\n",
       "      <td>9</td>\n",
       "      <td>71.773664</td>\n",
       "      <td>8</td>\n",
       "      <td>521.280</td>\n",
       "      <td>251.296</td>\n",
       "    </tr>\n",
       "    <tr>\n",
       "      <th>1</th>\n",
       "      <td>0.004700</td>\n",
       "      <td>1</td>\n",
       "      <td>1.313463e+07</td>\n",
       "      <td>9</td>\n",
       "      <td>71.773664</td>\n",
       "      <td>8</td>\n",
       "      <td>251.296</td>\n",
       "      <td>251.296</td>\n",
       "    </tr>\n",
       "    <tr>\n",
       "      <th>2</th>\n",
       "      <td>0.005288</td>\n",
       "      <td>1</td>\n",
       "      <td>1.313463e+07</td>\n",
       "      <td>9</td>\n",
       "      <td>71.829424</td>\n",
       "      <td>8</td>\n",
       "      <td>251.264</td>\n",
       "      <td>251.248</td>\n",
       "    </tr>\n",
       "    <tr>\n",
       "      <th>3</th>\n",
       "      <td>0.004700</td>\n",
       "      <td>1</td>\n",
       "      <td>1.313463e+07</td>\n",
       "      <td>9</td>\n",
       "      <td>71.773664</td>\n",
       "      <td>8</td>\n",
       "      <td>251.248</td>\n",
       "      <td>251.252</td>\n",
       "    </tr>\n",
       "    <tr>\n",
       "      <th>4</th>\n",
       "      <td>0.000016</td>\n",
       "      <td>1</td>\n",
       "      <td>1.305037e+07</td>\n",
       "      <td>9</td>\n",
       "      <td>96.419862</td>\n",
       "      <td>8</td>\n",
       "      <td>171.500</td>\n",
       "      <td>171.316</td>\n",
       "    </tr>\n",
       "  </tbody>\n",
       "</table>\n",
       "</div>"
      ],
      "text/plain": [
       "         TQ  TQ COUNT        TBSCAN  TBSCAN COUNT    HS JOIN  HS JOIN COUNT  \\\n",
       "0  0.004700         1  1.313463e+07             9  71.773664              8   \n",
       "1  0.004700         1  1.313463e+07             9  71.773664              8   \n",
       "2  0.005288         1  1.313463e+07             9  71.829424              8   \n",
       "3  0.004700         1  1.313463e+07             9  71.773664              8   \n",
       "4  0.000016         1  1.305037e+07             9  96.419862              8   \n",
       "\n",
       "   ESTIMATED_MEMORY  ACTUAL_MEMORY  \n",
       "0           521.280        251.296  \n",
       "1           251.296        251.296  \n",
       "2           251.264        251.248  \n",
       "3           251.248        251.252  \n",
       "4           171.500        171.316  "
      ]
     },
     "execution_count": 52,
     "metadata": {},
     "output_type": "execute_result"
    }
   ],
   "source": [
    "df.head()"
   ]
  },
  {
   "cell_type": "code",
   "execution_count": 53,
   "id": "cd9c9956",
   "metadata": {},
   "outputs": [
    {
     "data": {
      "text/plain": [
       "Index(['TQ', 'TQ COUNT', 'TBSCAN', 'TBSCAN COUNT', 'HS JOIN', 'HS JOIN COUNT',\n",
       "       'ESTIMATED_MEMORY', 'ACTUAL_MEMORY'],\n",
       "      dtype='object')"
      ]
     },
     "execution_count": 53,
     "metadata": {},
     "output_type": "execute_result"
    }
   ],
   "source": [
    "df.columns"
   ]
  },
  {
   "cell_type": "code",
   "execution_count": 54,
   "id": "223dc364",
   "metadata": {},
   "outputs": [],
   "source": [
    "df = df.copy()[['TQ', 'TQ COUNT', 'TBSCAN', 'TBSCAN COUNT', 'HS JOIN', 'HS JOIN COUNT',\n",
    "       'ESTIMATED_MEMORY', 'ACTUAL_MEMORY']]"
   ]
  },
  {
   "cell_type": "code",
   "execution_count": 55,
   "id": "c737e938",
   "metadata": {},
   "outputs": [],
   "source": [
    "df.rename(columns={'ESTIMATED_MEMORY':'db2', 'ACTUAL_MEMORY':'actual'}, inplace=True)"
   ]
  },
  {
   "cell_type": "markdown",
   "id": "b3809558",
   "metadata": {},
   "source": [
    "# Partitioning the dataset into training and test sets"
   ]
  },
  {
   "cell_type": "code",
   "execution_count": 56,
   "id": "8bfbeda9",
   "metadata": {},
   "outputs": [
    {
     "name": "stdout",
     "output_type": "stream",
     "text": [
      "Index(['TQ', 'TQ COUNT', 'TBSCAN', 'TBSCAN COUNT', 'HS JOIN', 'HS JOIN COUNT',\n",
      "       'db2', 'actual'],\n",
      "      dtype='object')\n"
     ]
    }
   ],
   "source": [
    "print(df.columns)"
   ]
  },
  {
   "cell_type": "code",
   "execution_count": 57,
   "id": "60a590b6",
   "metadata": {},
   "outputs": [],
   "source": [
    "X_cols = ['TQ', 'TQ COUNT', 'TBSCAN', 'TBSCAN COUNT', 'HS JOIN', 'HS JOIN COUNT',\n",
    "       'db2']\n",
    "target = ['actual']"
   ]
  },
  {
   "cell_type": "code",
   "execution_count": 58,
   "id": "885873d1",
   "metadata": {},
   "outputs": [],
   "source": [
    "X, y = df[X_cols], df[target]"
   ]
  },
  {
   "cell_type": "code",
   "execution_count": 59,
   "id": "93e30b60",
   "metadata": {},
   "outputs": [],
   "source": [
    "features = ['TQ', 'TQ COUNT', 'TBSCAN', 'TBSCAN COUNT', 'HS JOIN', 'HS JOIN COUNT']"
   ]
  },
  {
   "cell_type": "markdown",
   "id": "fb988534",
   "metadata": {},
   "source": [
    "# Bringing a subset of the features onto the same scale - using ColumnTransformer"
   ]
  },
  {
   "cell_type": "code",
   "execution_count": 60,
   "id": "5858ffd0",
   "metadata": {},
   "outputs": [],
   "source": [
    "c_transf = ColumnTransformer([\n",
    "        ('stdscaler', StandardScaler(), features)\n",
    "    ], remainder='passthrough')\n",
    "\n",
    "X_std = c_transf.fit_transform(X).astype(float)"
   ]
  },
  {
   "cell_type": "code",
   "execution_count": 61,
   "id": "505a455a",
   "metadata": {},
   "outputs": [
    {
     "data": {
      "text/plain": [
       "(2332, 7)"
      ]
     },
     "execution_count": 61,
     "metadata": {},
     "output_type": "execute_result"
    }
   ],
   "source": [
    "X_std.shape"
   ]
  },
  {
   "cell_type": "code",
   "execution_count": 62,
   "id": "0378fecf",
   "metadata": {},
   "outputs": [
    {
     "data": {
      "text/html": [
       "<div>\n",
       "<style scoped>\n",
       "    .dataframe tbody tr th:only-of-type {\n",
       "        vertical-align: middle;\n",
       "    }\n",
       "\n",
       "    .dataframe tbody tr th {\n",
       "        vertical-align: top;\n",
       "    }\n",
       "\n",
       "    .dataframe thead th {\n",
       "        text-align: right;\n",
       "    }\n",
       "</style>\n",
       "<table border=\"1\" class=\"dataframe\">\n",
       "  <thead>\n",
       "    <tr style=\"text-align: right;\">\n",
       "      <th></th>\n",
       "      <th>TQ</th>\n",
       "      <th>TQ COUNT</th>\n",
       "      <th>TBSCAN</th>\n",
       "      <th>TBSCAN COUNT</th>\n",
       "      <th>HS JOIN</th>\n",
       "      <th>HS JOIN COUNT</th>\n",
       "      <th>db2</th>\n",
       "    </tr>\n",
       "  </thead>\n",
       "  <tbody>\n",
       "    <tr>\n",
       "      <th>0</th>\n",
       "      <td>0.0047</td>\n",
       "      <td>1</td>\n",
       "      <td>1.313463e+07</td>\n",
       "      <td>9</td>\n",
       "      <td>71.773664</td>\n",
       "      <td>8</td>\n",
       "      <td>521.28</td>\n",
       "    </tr>\n",
       "  </tbody>\n",
       "</table>\n",
       "</div>"
      ],
      "text/plain": [
       "       TQ  TQ COUNT        TBSCAN  TBSCAN COUNT    HS JOIN  HS JOIN COUNT  \\\n",
       "0  0.0047         1  1.313463e+07             9  71.773664              8   \n",
       "\n",
       "      db2  \n",
       "0  521.28  "
      ]
     },
     "execution_count": 62,
     "metadata": {},
     "output_type": "execute_result"
    }
   ],
   "source": [
    "X.head(1)"
   ]
  },
  {
   "cell_type": "code",
   "execution_count": 63,
   "id": "3fbc2320",
   "metadata": {
    "scrolled": true
   },
   "outputs": [
    {
     "data": {
      "text/plain": [
       "array([ 5.37064699e-02,  0.00000000e+00,  1.02172860e+00,  8.32788493e-01,\n",
       "       -5.59525618e-02,  8.32788493e-01,  5.21280000e+02])"
      ]
     },
     "execution_count": 63,
     "metadata": {},
     "output_type": "execute_result"
    }
   ],
   "source": [
    "X_std[0]"
   ]
  },
  {
   "cell_type": "markdown",
   "id": "70b4b909",
   "metadata": {},
   "source": [
    "# Converting y into np arrays"
   ]
  },
  {
   "cell_type": "code",
   "execution_count": 64,
   "id": "c37c2abe",
   "metadata": {},
   "outputs": [],
   "source": [
    "y = y.values"
   ]
  },
  {
   "cell_type": "markdown",
   "id": "e01f50aa",
   "metadata": {},
   "source": [
    "# Saving training and test datasets"
   ]
  },
  {
   "cell_type": "code",
   "execution_count": 65,
   "id": "faa802c7",
   "metadata": {},
   "outputs": [
    {
     "data": {
      "text/plain": [
       "(2332, 7)"
      ]
     },
     "execution_count": 65,
     "metadata": {},
     "output_type": "execute_result"
    }
   ],
   "source": [
    "X.shape"
   ]
  },
  {
   "cell_type": "code",
   "execution_count": 66,
   "id": "3c14bf8e",
   "metadata": {},
   "outputs": [
    {
     "data": {
      "text/plain": [
       "(2332, 7)"
      ]
     },
     "execution_count": 66,
     "metadata": {},
     "output_type": "execute_result"
    }
   ],
   "source": [
    "X_std.shape"
   ]
  },
  {
   "cell_type": "code",
   "execution_count": 67,
   "id": "6b4d4a8a",
   "metadata": {},
   "outputs": [
    {
     "data": {
      "text/plain": [
       "numpy.ndarray"
      ]
     },
     "execution_count": 67,
     "metadata": {},
     "output_type": "execute_result"
    }
   ],
   "source": [
    "type(X_std)"
   ]
  },
  {
   "cell_type": "code",
   "execution_count": 68,
   "id": "7e6b2fc3",
   "metadata": {},
   "outputs": [],
   "source": [
    "X_clean = pd.DataFrame(X_std, columns=X.columns)\n",
    "X_clean['actual'] = y"
   ]
  },
  {
   "cell_type": "code",
   "execution_count": 69,
   "id": "10aa20cc",
   "metadata": {},
   "outputs": [
    {
     "data": {
      "text/html": [
       "<div>\n",
       "<style scoped>\n",
       "    .dataframe tbody tr th:only-of-type {\n",
       "        vertical-align: middle;\n",
       "    }\n",
       "\n",
       "    .dataframe tbody tr th {\n",
       "        vertical-align: top;\n",
       "    }\n",
       "\n",
       "    .dataframe thead th {\n",
       "        text-align: right;\n",
       "    }\n",
       "</style>\n",
       "<table border=\"1\" class=\"dataframe\">\n",
       "  <thead>\n",
       "    <tr style=\"text-align: right;\">\n",
       "      <th></th>\n",
       "      <th>TQ</th>\n",
       "      <th>TQ COUNT</th>\n",
       "      <th>TBSCAN</th>\n",
       "      <th>TBSCAN COUNT</th>\n",
       "      <th>HS JOIN</th>\n",
       "      <th>HS JOIN COUNT</th>\n",
       "      <th>db2</th>\n",
       "      <th>actual</th>\n",
       "    </tr>\n",
       "  </thead>\n",
       "  <tbody>\n",
       "    <tr>\n",
       "      <th>0</th>\n",
       "      <td>0.053706</td>\n",
       "      <td>0.0</td>\n",
       "      <td>1.021729</td>\n",
       "      <td>0.832788</td>\n",
       "      <td>-0.055953</td>\n",
       "      <td>0.832788</td>\n",
       "      <td>521.280</td>\n",
       "      <td>251.296</td>\n",
       "    </tr>\n",
       "    <tr>\n",
       "      <th>1</th>\n",
       "      <td>0.053706</td>\n",
       "      <td>0.0</td>\n",
       "      <td>1.021729</td>\n",
       "      <td>0.832788</td>\n",
       "      <td>-0.055953</td>\n",
       "      <td>0.832788</td>\n",
       "      <td>251.296</td>\n",
       "      <td>251.296</td>\n",
       "    </tr>\n",
       "    <tr>\n",
       "      <th>2</th>\n",
       "      <td>0.081201</td>\n",
       "      <td>0.0</td>\n",
       "      <td>1.021729</td>\n",
       "      <td>0.832788</td>\n",
       "      <td>-0.055947</td>\n",
       "      <td>0.832788</td>\n",
       "      <td>251.264</td>\n",
       "      <td>251.248</td>\n",
       "    </tr>\n",
       "    <tr>\n",
       "      <th>3</th>\n",
       "      <td>0.053706</td>\n",
       "      <td>0.0</td>\n",
       "      <td>1.021729</td>\n",
       "      <td>0.832788</td>\n",
       "      <td>-0.055953</td>\n",
       "      <td>0.832788</td>\n",
       "      <td>251.248</td>\n",
       "      <td>251.252</td>\n",
       "    </tr>\n",
       "    <tr>\n",
       "      <th>4</th>\n",
       "      <td>-0.165491</td>\n",
       "      <td>0.0</td>\n",
       "      <td>0.623686</td>\n",
       "      <td>0.832788</td>\n",
       "      <td>-0.053342</td>\n",
       "      <td>0.832788</td>\n",
       "      <td>171.500</td>\n",
       "      <td>171.316</td>\n",
       "    </tr>\n",
       "  </tbody>\n",
       "</table>\n",
       "</div>"
      ],
      "text/plain": [
       "         TQ  TQ COUNT    TBSCAN  TBSCAN COUNT   HS JOIN  HS JOIN COUNT  \\\n",
       "0  0.053706       0.0  1.021729      0.832788 -0.055953       0.832788   \n",
       "1  0.053706       0.0  1.021729      0.832788 -0.055953       0.832788   \n",
       "2  0.081201       0.0  1.021729      0.832788 -0.055947       0.832788   \n",
       "3  0.053706       0.0  1.021729      0.832788 -0.055953       0.832788   \n",
       "4 -0.165491       0.0  0.623686      0.832788 -0.053342       0.832788   \n",
       "\n",
       "       db2   actual  \n",
       "0  521.280  251.296  \n",
       "1  251.296  251.296  \n",
       "2  251.264  251.248  \n",
       "3  251.248  251.252  \n",
       "4  171.500  171.316  "
      ]
     },
     "execution_count": 69,
     "metadata": {},
     "output_type": "execute_result"
    }
   ],
   "source": [
    "X_clean.head(5)"
   ]
  },
  {
   "cell_type": "code",
   "execution_count": 70,
   "id": "2712777d",
   "metadata": {},
   "outputs": [],
   "source": [
    "X_clean.to_csv('job2_scaled_clean.csv', index=False)"
   ]
  }
 ],
 "metadata": {
  "kernelspec": {
   "display_name": ".venv",
   "language": "python",
   "name": "python3"
  },
  "language_info": {
   "codemirror_mode": {
    "name": "ipython",
    "version": 3
   },
   "file_extension": ".py",
   "mimetype": "text/x-python",
   "name": "python",
   "nbconvert_exporter": "python",
   "pygments_lexer": "ipython3",
   "version": "3.12.8"
  }
 },
 "nbformat": 4,
 "nbformat_minor": 5
}
