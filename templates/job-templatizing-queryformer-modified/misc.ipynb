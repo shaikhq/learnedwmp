{
 "cells": [
  {
   "cell_type": "markdown",
   "metadata": {},
   "source": [
    "# Computing Log min and max for `SORT_SHRHEAP_TOP`"
   ]
  },
  {
   "cell_type": "code",
   "execution_count": 2,
   "metadata": {},
   "outputs": [],
   "source": [
    "import pandas as pd"
   ]
  },
  {
   "cell_type": "code",
   "execution_count": 3,
   "metadata": {},
   "outputs": [],
   "source": [
    "base_dir = 'job_queries'\n",
    "\n",
    "file_path = f'{base_dir}/success.csv'  # Replace with your CSV file path\n",
    "\n",
    "# Read the CSV file, selecting only relevant columns\n",
    "column_headers = ['QUERYID', 'APPL_ID', 'UOW_ID', 'ACTIVITY_ID', 'EXPLAIN_TIME', 'SORT_SHRHEAP_TOP', 'QUERY']\n",
    "df_success = pd.read_csv(file_path, header=None)\n",
    "\n",
    "df_success.columns = column_headers"
   ]
  },
  {
   "cell_type": "code",
   "execution_count": 4,
   "metadata": {},
   "outputs": [
    {
     "data": {
      "text/html": [
       "<div>\n",
       "<style scoped>\n",
       "    .dataframe tbody tr th:only-of-type {\n",
       "        vertical-align: middle;\n",
       "    }\n",
       "\n",
       "    .dataframe tbody tr th {\n",
       "        vertical-align: top;\n",
       "    }\n",
       "\n",
       "    .dataframe thead th {\n",
       "        text-align: right;\n",
       "    }\n",
       "</style>\n",
       "<table border=\"1\" class=\"dataframe\">\n",
       "  <thead>\n",
       "    <tr style=\"text-align: right;\">\n",
       "      <th></th>\n",
       "      <th>QUERYID</th>\n",
       "      <th>APPL_ID</th>\n",
       "      <th>UOW_ID</th>\n",
       "      <th>ACTIVITY_ID</th>\n",
       "      <th>EXPLAIN_TIME</th>\n",
       "      <th>SORT_SHRHEAP_TOP</th>\n",
       "      <th>QUERY</th>\n",
       "    </tr>\n",
       "  </thead>\n",
       "  <tbody>\n",
       "    <tr>\n",
       "      <th>0</th>\n",
       "      <td>1</td>\n",
       "      <td>*LOCAL.db2inst1.241204044349</td>\n",
       "      <td>4</td>\n",
       "      <td>1</td>\n",
       "      <td>2024-12-03-20.43.44.200877</td>\n",
       "      <td>66844</td>\n",
       "      <td>SELECT cn.name AS company_name, lt.link AS li...</td>\n",
       "    </tr>\n",
       "  </tbody>\n",
       "</table>\n",
       "</div>"
      ],
      "text/plain": [
       "   QUERYID                       APPL_ID  UOW_ID  ACTIVITY_ID  \\\n",
       "0        1  *LOCAL.db2inst1.241204044349       4            1   \n",
       "\n",
       "                 EXPLAIN_TIME  SORT_SHRHEAP_TOP  \\\n",
       "0  2024-12-03-20.43.44.200877             66844   \n",
       "\n",
       "                                               QUERY  \n",
       "0   SELECT cn.name AS company_name, lt.link AS li...  "
      ]
     },
     "execution_count": 4,
     "metadata": {},
     "output_type": "execute_result"
    }
   ],
   "source": [
    "df_success.head(1)"
   ]
  },
  {
   "cell_type": "code",
   "execution_count": 5,
   "metadata": {},
   "outputs": [
    {
     "name": "stdout",
     "output_type": "stream",
     "text": [
      "Log-transformed minimum: 8.262559\n",
      "Log-transformed maximum: 11.120061\n"
     ]
    }
   ],
   "source": [
    "import numpy as np\n",
    "\n",
    "# Original dataset values\n",
    "min_value = df_success['SORT_SHRHEAP_TOP'].min()\n",
    "max_value = df_success['SORT_SHRHEAP_TOP'].max()\n",
    "\n",
    "# Small constant to avoid log(0)\n",
    "epsilon = 0.001\n",
    "\n",
    "# Logarithmic transformation\n",
    "min_log = np.log(min_value + epsilon)\n",
    "max_log = np.log(max_value + epsilon)\n",
    "\n",
    "# Placeholder for further transformations (scaling or offsetting)\n",
    "# Example scaling (uncomment if needed):\n",
    "# scaling_factor = 2.5  # Example scaling factor\n",
    "# offset = 3.0  # Example offset\n",
    "# min_log = (min_log * scaling_factor) + offset\n",
    "# max_log = (max_log * scaling_factor) + offset\n",
    "\n",
    "# Output the results\n",
    "print(f\"Log-transformed minimum: {min_log:.6f}\")\n",
    "print(f\"Log-transformed maximum: {max_log:.6f}\")\n"
   ]
  }
 ],
 "metadata": {
  "kernelspec": {
   "display_name": ".venv",
   "language": "python",
   "name": "python3"
  },
  "language_info": {
   "codemirror_mode": {
    "name": "ipython",
    "version": 3
   },
   "file_extension": ".py",
   "mimetype": "text/x-python",
   "name": "python",
   "nbconvert_exporter": "python",
   "pygments_lexer": "ipython3",
   "version": "3.12.3"
  }
 },
 "nbformat": 4,
 "nbformat_minor": 2
}
