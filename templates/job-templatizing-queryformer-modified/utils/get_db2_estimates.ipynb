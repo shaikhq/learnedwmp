{
 "cells": [
  {
   "cell_type": "code",
   "execution_count": 1,
   "metadata": {},
   "outputs": [],
   "source": [
    "import os"
   ]
  },
  {
   "cell_type": "code",
   "execution_count": 2,
   "metadata": {},
   "outputs": [
    {
     "name": "stderr",
     "output_type": "stream",
     "text": [
      "--2024-12-16 05:24:28--  https://raw.githubusercontent.com/IBM/db2-jupyter/master/db2.ipynb\n",
      "Resolving raw.githubusercontent.com (raw.githubusercontent.com)... 185.199.110.133, 185.199.111.133, 185.199.108.133, ...\n",
      "Connecting to raw.githubusercontent.com (raw.githubusercontent.com)|185.199.110.133|:443... connected.\n",
      "HTTP request sent, awaiting response... 200 OK\n",
      "Length: 158270 (155K) [text/plain]\n",
      "Saving to: ‘db2.ipynb’\n",
      "\n",
      "     0K .......... .......... .......... .......... .......... 32% 8.88M 0s\n",
      "    50K .......... .......... .......... .......... .......... 64% 28.3M 0s\n",
      "   100K .......... .......... .......... .......... .......... 97% 20.0M 0s\n",
      "   150K ....                                                  100% 45.8M=0.01s\n",
      "\n",
      "2024-12-16 05:24:28 (15.5 MB/s) - ‘db2.ipynb’ saved [158270/158270]\n",
      "\n",
      "<>:1708: SyntaxWarning: invalid escape sequence '\\s'\n",
      "<>:2305: SyntaxWarning: invalid escape sequence '\\?'\n",
      "/tmp/ipykernel_104800/2299624180.py:1708: SyntaxWarning: invalid escape sequence '\\s'\n",
      "  firstCommand = \"(?:^\\s*)([a-zA-Z]+)(?:\\s+.*|$)\"\n",
      "/tmp/ipykernel_104800/2299624180.py:2305: SyntaxWarning: invalid escape sequence '\\?'\n",
      "  pattern = \"\\?\\*[0-9]+\"\n"
     ]
    },
    {
     "name": "stdout",
     "output_type": "stream",
     "text": [
      "Warning: Grid display is unavailable for displaying results in scrollable windows.\n",
      "         Install itables if you want to enable scrolling of result sets.\n",
      "Db2 Extensions Loaded. Version: 2024-09-16\n"
     ]
    }
   ],
   "source": [
    "if not os.path.isfile('db2.ipynb'):\n",
    "    os.system('wget https://raw.githubusercontent.com/IBM/db2-jupyter/master/db2.ipynb')\n",
    "\n",
    "%run db2.ipynb"
   ]
  },
  {
   "cell_type": "code",
   "execution_count": 3,
   "metadata": {},
   "outputs": [],
   "source": [
    "from dotenv import dotenv_values"
   ]
  },
  {
   "cell_type": "code",
   "execution_count": 4,
   "metadata": {},
   "outputs": [
    {
     "name": "stdout",
     "output_type": "stream",
     "text": [
      "Connection successful. TESTDB @ localhost \n"
     ]
    }
   ],
   "source": [
    "db2creds = dotenv_values('db2con.env')\n",
    "%sql CONNECT CREDENTIALS db2creds"
   ]
  },
  {
   "cell_type": "code",
   "execution_count": 5,
   "metadata": {},
   "outputs": [
    {
     "name": "stdout",
     "output_type": "stream",
     "text": [
      "Command completed.\n"
     ]
    }
   ],
   "source": [
    "%sql SET CURRENT SCHEMA AHNAF"
   ]
  },
  {
   "cell_type": "code",
   "execution_count": 6,
   "metadata": {},
   "outputs": [],
   "source": [
    "import pandas as pd"
   ]
  },
  {
   "cell_type": "code",
   "execution_count": 7,
   "metadata": {},
   "outputs": [],
   "source": [
    "file_path = 'success.csv'  # Replace with your CSV file path\n",
    "\n",
    "# Read the CSV file, selecting only relevant columns\n",
    "# column_headers = ['QUERYID', 'APPL_ID', 'UOW_ID', 'ACTIVITY_ID', 'EXPLAIN_TIME', 'SORT_SHRHEAP_TOP', 'QUERY']\n",
    "# df_success = pd.read_csv(file_path, header=None)\n",
    "df_success = pd.read_csv(file_path, dtype={\n",
    "    \"QUERYID\": int,\n",
    "    \"EXPLAIN_TIME\": str,\n",
    "    \"SORT_SHRHEAP_TOP\": float,\n",
    "    \"QUERY\": str\n",
    "})"
   ]
  },
  {
   "cell_type": "code",
   "execution_count": 8,
   "metadata": {},
   "outputs": [
    {
     "data": {
      "text/html": [
       "<div>\n",
       "<style scoped>\n",
       "    .dataframe tbody tr th:only-of-type {\n",
       "        vertical-align: middle;\n",
       "    }\n",
       "\n",
       "    .dataframe tbody tr th {\n",
       "        vertical-align: top;\n",
       "    }\n",
       "\n",
       "    .dataframe thead th {\n",
       "        text-align: right;\n",
       "    }\n",
       "</style>\n",
       "<table border=\"1\" class=\"dataframe\">\n",
       "  <thead>\n",
       "    <tr style=\"text-align: right;\">\n",
       "      <th></th>\n",
       "      <th>QUERYID</th>\n",
       "      <th>APPL_ID</th>\n",
       "      <th>UOW_ID</th>\n",
       "      <th>ACTIVITY_ID</th>\n",
       "      <th>EXPLAIN_TIME</th>\n",
       "      <th>SORT_SHRHEAP_TOP</th>\n",
       "      <th>QUERY</th>\n",
       "    </tr>\n",
       "  </thead>\n",
       "  <tbody>\n",
       "    <tr>\n",
       "      <th>0</th>\n",
       "      <td>1</td>\n",
       "      <td>*LOCAL.db2inst1.241204044349</td>\n",
       "      <td>4</td>\n",
       "      <td>1</td>\n",
       "      <td>2024-12-03-20.43.44.200877</td>\n",
       "      <td>66844.0</td>\n",
       "      <td>SELECT cn.name AS company_name, lt.link AS li...</td>\n",
       "    </tr>\n",
       "    <tr>\n",
       "      <th>1</th>\n",
       "      <td>2</td>\n",
       "      <td>*LOCAL.db2inst1.241204044349</td>\n",
       "      <td>12</td>\n",
       "      <td>1</td>\n",
       "      <td>2024-12-03-20.43.45.954590</td>\n",
       "      <td>66860.0</td>\n",
       "      <td>SELECT cn.name AS company_name, lt.link AS li...</td>\n",
       "    </tr>\n",
       "    <tr>\n",
       "      <th>2</th>\n",
       "      <td>3</td>\n",
       "      <td>*LOCAL.db2inst1.241204044349</td>\n",
       "      <td>20</td>\n",
       "      <td>1</td>\n",
       "      <td>2024-12-03-20.43.47.182565</td>\n",
       "      <td>66821.0</td>\n",
       "      <td>SELECT cn.name AS company_name, lt.link AS li...</td>\n",
       "    </tr>\n",
       "    <tr>\n",
       "      <th>3</th>\n",
       "      <td>4</td>\n",
       "      <td>*LOCAL.db2inst1.241204044349</td>\n",
       "      <td>28</td>\n",
       "      <td>1</td>\n",
       "      <td>2024-12-03-20.43.48.420714</td>\n",
       "      <td>66825.0</td>\n",
       "      <td>SELECT cn.name AS company_name, lt.link AS li...</td>\n",
       "    </tr>\n",
       "    <tr>\n",
       "      <th>4</th>\n",
       "      <td>5</td>\n",
       "      <td>*LOCAL.db2inst1.241204044349</td>\n",
       "      <td>36</td>\n",
       "      <td>1</td>\n",
       "      <td>2024-12-03-20.43.51.205244</td>\n",
       "      <td>38663.0</td>\n",
       "      <td>SELECT cn.name AS company_name, lt.link AS li...</td>\n",
       "    </tr>\n",
       "  </tbody>\n",
       "</table>\n",
       "</div>"
      ],
      "text/plain": [
       "   QUERYID                       APPL_ID  UOW_ID  ACTIVITY_ID  \\\n",
       "0        1  *LOCAL.db2inst1.241204044349       4            1   \n",
       "1        2  *LOCAL.db2inst1.241204044349      12            1   \n",
       "2        3  *LOCAL.db2inst1.241204044349      20            1   \n",
       "3        4  *LOCAL.db2inst1.241204044349      28            1   \n",
       "4        5  *LOCAL.db2inst1.241204044349      36            1   \n",
       "\n",
       "                 EXPLAIN_TIME  SORT_SHRHEAP_TOP  \\\n",
       "0  2024-12-03-20.43.44.200877           66844.0   \n",
       "1  2024-12-03-20.43.45.954590           66860.0   \n",
       "2  2024-12-03-20.43.47.182565           66821.0   \n",
       "3  2024-12-03-20.43.48.420714           66825.0   \n",
       "4  2024-12-03-20.43.51.205244           38663.0   \n",
       "\n",
       "                                               QUERY  \n",
       "0   SELECT cn.name AS company_name, lt.link AS li...  \n",
       "1   SELECT cn.name AS company_name, lt.link AS li...  \n",
       "2   SELECT cn.name AS company_name, lt.link AS li...  \n",
       "3   SELECT cn.name AS company_name, lt.link AS li...  \n",
       "4   SELECT cn.name AS company_name, lt.link AS li...  "
      ]
     },
     "execution_count": 8,
     "metadata": {},
     "output_type": "execute_result"
    }
   ],
   "source": [
    "df_success.head()"
   ]
  },
  {
   "cell_type": "code",
   "execution_count": 21,
   "metadata": {},
   "outputs": [],
   "source": [
    "# Create a list to store the Db2_ESTIMATE values\n",
    "db2_estimates = []\n",
    "\n",
    "# Iterate through each row in the dataframe\n",
    "for _, row in df_success.iterrows():\n",
    "    try:\n",
    "        # Execute the SQL query\n",
    "        estimated_sort_shrheap_top = %sql SELECT ESTIMATED_SORT_SHRHEAP_TOP FROM ACTIVITY_DB2ACTIVITIES WHERE APPL_ID = '{row['APPL_ID']}' AND UOW_ID = {row['UOW_ID']} AND ACTIVITY_ID = {row['ACTIVITY_ID']}\n",
    "        \n",
    "        # Extract the first value and append to the list\n",
    "        db2_estimates.append(estimated_sort_shrheap_top['ESTIMATED_SORT_SHRHEAP_TOP'][0])\n",
    "    except Exception as e:\n",
    "        print(f\"Error processing row: {row}, {e}\")\n",
    "        db2_estimates.append(None)  # Append None for rows where the query fails\n",
    "\n",
    "# Add the new column to the dataframe\n",
    "df_success['Db2_ESTIMATE'] = db2_estimates"
   ]
  },
  {
   "cell_type": "code",
   "execution_count": 23,
   "metadata": {},
   "outputs": [
    {
     "data": {
      "text/html": [
       "<div>\n",
       "<style scoped>\n",
       "    .dataframe tbody tr th:only-of-type {\n",
       "        vertical-align: middle;\n",
       "    }\n",
       "\n",
       "    .dataframe tbody tr th {\n",
       "        vertical-align: top;\n",
       "    }\n",
       "\n",
       "    .dataframe thead th {\n",
       "        text-align: right;\n",
       "    }\n",
       "</style>\n",
       "<table border=\"1\" class=\"dataframe\">\n",
       "  <thead>\n",
       "    <tr style=\"text-align: right;\">\n",
       "      <th></th>\n",
       "      <th>QUERYID</th>\n",
       "      <th>APPL_ID</th>\n",
       "      <th>UOW_ID</th>\n",
       "      <th>ACTIVITY_ID</th>\n",
       "      <th>EXPLAIN_TIME</th>\n",
       "      <th>SORT_SHRHEAP_TOP</th>\n",
       "      <th>QUERY</th>\n",
       "      <th>Db2_ESTIMATE</th>\n",
       "    </tr>\n",
       "  </thead>\n",
       "  <tbody>\n",
       "    <tr>\n",
       "      <th>0</th>\n",
       "      <td>1</td>\n",
       "      <td>*LOCAL.db2inst1.241204044349</td>\n",
       "      <td>4</td>\n",
       "      <td>1</td>\n",
       "      <td>2024-12-03-20.43.44.200877</td>\n",
       "      <td>66844.0</td>\n",
       "      <td>SELECT cn.name AS company_name, lt.link AS li...</td>\n",
       "      <td>66835</td>\n",
       "    </tr>\n",
       "    <tr>\n",
       "      <th>1</th>\n",
       "      <td>2</td>\n",
       "      <td>*LOCAL.db2inst1.241204044349</td>\n",
       "      <td>12</td>\n",
       "      <td>1</td>\n",
       "      <td>2024-12-03-20.43.45.954590</td>\n",
       "      <td>66860.0</td>\n",
       "      <td>SELECT cn.name AS company_name, lt.link AS li...</td>\n",
       "      <td>66835</td>\n",
       "    </tr>\n",
       "    <tr>\n",
       "      <th>2</th>\n",
       "      <td>3</td>\n",
       "      <td>*LOCAL.db2inst1.241204044349</td>\n",
       "      <td>20</td>\n",
       "      <td>1</td>\n",
       "      <td>2024-12-03-20.43.47.182565</td>\n",
       "      <td>66821.0</td>\n",
       "      <td>SELECT cn.name AS company_name, lt.link AS li...</td>\n",
       "      <td>66837</td>\n",
       "    </tr>\n",
       "    <tr>\n",
       "      <th>3</th>\n",
       "      <td>4</td>\n",
       "      <td>*LOCAL.db2inst1.241204044349</td>\n",
       "      <td>28</td>\n",
       "      <td>1</td>\n",
       "      <td>2024-12-03-20.43.48.420714</td>\n",
       "      <td>66825.0</td>\n",
       "      <td>SELECT cn.name AS company_name, lt.link AS li...</td>\n",
       "      <td>66835</td>\n",
       "    </tr>\n",
       "    <tr>\n",
       "      <th>4</th>\n",
       "      <td>5</td>\n",
       "      <td>*LOCAL.db2inst1.241204044349</td>\n",
       "      <td>36</td>\n",
       "      <td>1</td>\n",
       "      <td>2024-12-03-20.43.51.205244</td>\n",
       "      <td>38663.0</td>\n",
       "      <td>SELECT cn.name AS company_name, lt.link AS li...</td>\n",
       "      <td>38565</td>\n",
       "    </tr>\n",
       "  </tbody>\n",
       "</table>\n",
       "</div>"
      ],
      "text/plain": [
       "   QUERYID                       APPL_ID  UOW_ID  ACTIVITY_ID  \\\n",
       "0        1  *LOCAL.db2inst1.241204044349       4            1   \n",
       "1        2  *LOCAL.db2inst1.241204044349      12            1   \n",
       "2        3  *LOCAL.db2inst1.241204044349      20            1   \n",
       "3        4  *LOCAL.db2inst1.241204044349      28            1   \n",
       "4        5  *LOCAL.db2inst1.241204044349      36            1   \n",
       "\n",
       "                 EXPLAIN_TIME  SORT_SHRHEAP_TOP  \\\n",
       "0  2024-12-03-20.43.44.200877           66844.0   \n",
       "1  2024-12-03-20.43.45.954590           66860.0   \n",
       "2  2024-12-03-20.43.47.182565           66821.0   \n",
       "3  2024-12-03-20.43.48.420714           66825.0   \n",
       "4  2024-12-03-20.43.51.205244           38663.0   \n",
       "\n",
       "                                               QUERY  Db2_ESTIMATE  \n",
       "0   SELECT cn.name AS company_name, lt.link AS li...         66835  \n",
       "1   SELECT cn.name AS company_name, lt.link AS li...         66835  \n",
       "2   SELECT cn.name AS company_name, lt.link AS li...         66837  \n",
       "3   SELECT cn.name AS company_name, lt.link AS li...         66835  \n",
       "4   SELECT cn.name AS company_name, lt.link AS li...         38565  "
      ]
     },
     "execution_count": 23,
     "metadata": {},
     "output_type": "execute_result"
    }
   ],
   "source": [
    "df_success.head()"
   ]
  },
  {
   "cell_type": "code",
   "execution_count": 22,
   "metadata": {},
   "outputs": [
    {
     "data": {
      "text/plain": [
       "(2332, 8)"
      ]
     },
     "execution_count": 22,
     "metadata": {},
     "output_type": "execute_result"
    }
   ],
   "source": [
    "df_success.shape"
   ]
  },
  {
   "cell_type": "code",
   "execution_count": 24,
   "metadata": {},
   "outputs": [
    {
     "data": {
      "text/plain": [
       "Index(['QUERYID', 'APPL_ID', 'UOW_ID', 'ACTIVITY_ID', 'EXPLAIN_TIME',\n",
       "       'SORT_SHRHEAP_TOP', 'QUERY', 'Db2_ESTIMATE'],\n",
       "      dtype='object')"
      ]
     },
     "execution_count": 24,
     "metadata": {},
     "output_type": "execute_result"
    }
   ],
   "source": [
    "df_success.columns"
   ]
  },
  {
   "cell_type": "code",
   "execution_count": 25,
   "metadata": {},
   "outputs": [],
   "source": [
    "df_success = df_success[['QUERYID', 'APPL_ID', 'UOW_ID', 'ACTIVITY_ID', 'EXPLAIN_TIME',\n",
    "       'SORT_SHRHEAP_TOP', 'Db2_ESTIMATE', 'QUERY']]"
   ]
  },
  {
   "cell_type": "code",
   "execution_count": 26,
   "metadata": {},
   "outputs": [
    {
     "data": {
      "text/html": [
       "<div>\n",
       "<style scoped>\n",
       "    .dataframe tbody tr th:only-of-type {\n",
       "        vertical-align: middle;\n",
       "    }\n",
       "\n",
       "    .dataframe tbody tr th {\n",
       "        vertical-align: top;\n",
       "    }\n",
       "\n",
       "    .dataframe thead th {\n",
       "        text-align: right;\n",
       "    }\n",
       "</style>\n",
       "<table border=\"1\" class=\"dataframe\">\n",
       "  <thead>\n",
       "    <tr style=\"text-align: right;\">\n",
       "      <th></th>\n",
       "      <th>QUERYID</th>\n",
       "      <th>APPL_ID</th>\n",
       "      <th>UOW_ID</th>\n",
       "      <th>ACTIVITY_ID</th>\n",
       "      <th>EXPLAIN_TIME</th>\n",
       "      <th>SORT_SHRHEAP_TOP</th>\n",
       "      <th>Db2_ESTIMATE</th>\n",
       "      <th>QUERY</th>\n",
       "    </tr>\n",
       "  </thead>\n",
       "  <tbody>\n",
       "    <tr>\n",
       "      <th>0</th>\n",
       "      <td>1</td>\n",
       "      <td>*LOCAL.db2inst1.241204044349</td>\n",
       "      <td>4</td>\n",
       "      <td>1</td>\n",
       "      <td>2024-12-03-20.43.44.200877</td>\n",
       "      <td>66844.0</td>\n",
       "      <td>66835</td>\n",
       "      <td>SELECT cn.name AS company_name, lt.link AS li...</td>\n",
       "    </tr>\n",
       "    <tr>\n",
       "      <th>1</th>\n",
       "      <td>2</td>\n",
       "      <td>*LOCAL.db2inst1.241204044349</td>\n",
       "      <td>12</td>\n",
       "      <td>1</td>\n",
       "      <td>2024-12-03-20.43.45.954590</td>\n",
       "      <td>66860.0</td>\n",
       "      <td>66835</td>\n",
       "      <td>SELECT cn.name AS company_name, lt.link AS li...</td>\n",
       "    </tr>\n",
       "    <tr>\n",
       "      <th>2</th>\n",
       "      <td>3</td>\n",
       "      <td>*LOCAL.db2inst1.241204044349</td>\n",
       "      <td>20</td>\n",
       "      <td>1</td>\n",
       "      <td>2024-12-03-20.43.47.182565</td>\n",
       "      <td>66821.0</td>\n",
       "      <td>66837</td>\n",
       "      <td>SELECT cn.name AS company_name, lt.link AS li...</td>\n",
       "    </tr>\n",
       "    <tr>\n",
       "      <th>3</th>\n",
       "      <td>4</td>\n",
       "      <td>*LOCAL.db2inst1.241204044349</td>\n",
       "      <td>28</td>\n",
       "      <td>1</td>\n",
       "      <td>2024-12-03-20.43.48.420714</td>\n",
       "      <td>66825.0</td>\n",
       "      <td>66835</td>\n",
       "      <td>SELECT cn.name AS company_name, lt.link AS li...</td>\n",
       "    </tr>\n",
       "    <tr>\n",
       "      <th>4</th>\n",
       "      <td>5</td>\n",
       "      <td>*LOCAL.db2inst1.241204044349</td>\n",
       "      <td>36</td>\n",
       "      <td>1</td>\n",
       "      <td>2024-12-03-20.43.51.205244</td>\n",
       "      <td>38663.0</td>\n",
       "      <td>38565</td>\n",
       "      <td>SELECT cn.name AS company_name, lt.link AS li...</td>\n",
       "    </tr>\n",
       "  </tbody>\n",
       "</table>\n",
       "</div>"
      ],
      "text/plain": [
       "   QUERYID                       APPL_ID  UOW_ID  ACTIVITY_ID  \\\n",
       "0        1  *LOCAL.db2inst1.241204044349       4            1   \n",
       "1        2  *LOCAL.db2inst1.241204044349      12            1   \n",
       "2        3  *LOCAL.db2inst1.241204044349      20            1   \n",
       "3        4  *LOCAL.db2inst1.241204044349      28            1   \n",
       "4        5  *LOCAL.db2inst1.241204044349      36            1   \n",
       "\n",
       "                 EXPLAIN_TIME  SORT_SHRHEAP_TOP  Db2_ESTIMATE  \\\n",
       "0  2024-12-03-20.43.44.200877           66844.0         66835   \n",
       "1  2024-12-03-20.43.45.954590           66860.0         66835   \n",
       "2  2024-12-03-20.43.47.182565           66821.0         66837   \n",
       "3  2024-12-03-20.43.48.420714           66825.0         66835   \n",
       "4  2024-12-03-20.43.51.205244           38663.0         38565   \n",
       "\n",
       "                                               QUERY  \n",
       "0   SELECT cn.name AS company_name, lt.link AS li...  \n",
       "1   SELECT cn.name AS company_name, lt.link AS li...  \n",
       "2   SELECT cn.name AS company_name, lt.link AS li...  \n",
       "3   SELECT cn.name AS company_name, lt.link AS li...  \n",
       "4   SELECT cn.name AS company_name, lt.link AS li...  "
      ]
     },
     "execution_count": 26,
     "metadata": {},
     "output_type": "execute_result"
    }
   ],
   "source": [
    "df_success.head()"
   ]
  },
  {
   "cell_type": "code",
   "execution_count": 27,
   "metadata": {},
   "outputs": [
    {
     "data": {
      "text/html": [
       "<div>\n",
       "<style scoped>\n",
       "    .dataframe tbody tr th:only-of-type {\n",
       "        vertical-align: middle;\n",
       "    }\n",
       "\n",
       "    .dataframe tbody tr th {\n",
       "        vertical-align: top;\n",
       "    }\n",
       "\n",
       "    .dataframe thead th {\n",
       "        text-align: right;\n",
       "    }\n",
       "</style>\n",
       "<table border=\"1\" class=\"dataframe\">\n",
       "  <thead>\n",
       "    <tr style=\"text-align: right;\">\n",
       "      <th></th>\n",
       "      <th>QUERYID</th>\n",
       "      <th>UOW_ID</th>\n",
       "      <th>ACTIVITY_ID</th>\n",
       "      <th>SORT_SHRHEAP_TOP</th>\n",
       "      <th>Db2_ESTIMATE</th>\n",
       "    </tr>\n",
       "  </thead>\n",
       "  <tbody>\n",
       "    <tr>\n",
       "      <th>count</th>\n",
       "      <td>2332.000000</td>\n",
       "      <td>2332.000000</td>\n",
       "      <td>2332.0</td>\n",
       "      <td>2332.000000</td>\n",
       "      <td>2332.000000</td>\n",
       "    </tr>\n",
       "    <tr>\n",
       "      <th>mean</th>\n",
       "      <td>1166.500000</td>\n",
       "      <td>9328.000000</td>\n",
       "      <td>1.0</td>\n",
       "      <td>39557.090480</td>\n",
       "      <td>43749.355918</td>\n",
       "    </tr>\n",
       "    <tr>\n",
       "      <th>std</th>\n",
       "      <td>673.334736</td>\n",
       "      <td>5386.677888</td>\n",
       "      <td>0.0</td>\n",
       "      <td>23505.936789</td>\n",
       "      <td>21216.006026</td>\n",
       "    </tr>\n",
       "    <tr>\n",
       "      <th>min</th>\n",
       "      <td>1.000000</td>\n",
       "      <td>4.000000</td>\n",
       "      <td>1.0</td>\n",
       "      <td>3876.000000</td>\n",
       "      <td>9951.000000</td>\n",
       "    </tr>\n",
       "    <tr>\n",
       "      <th>25%</th>\n",
       "      <td>583.750000</td>\n",
       "      <td>4666.000000</td>\n",
       "      <td>1.0</td>\n",
       "      <td>14176.000000</td>\n",
       "      <td>23455.000000</td>\n",
       "    </tr>\n",
       "    <tr>\n",
       "      <th>50%</th>\n",
       "      <td>1166.500000</td>\n",
       "      <td>9328.000000</td>\n",
       "      <td>1.0</td>\n",
       "      <td>39030.000000</td>\n",
       "      <td>38358.500000</td>\n",
       "    </tr>\n",
       "    <tr>\n",
       "      <th>75%</th>\n",
       "      <td>1749.250000</td>\n",
       "      <td>13990.000000</td>\n",
       "      <td>1.0</td>\n",
       "      <td>66821.000000</td>\n",
       "      <td>66821.000000</td>\n",
       "    </tr>\n",
       "    <tr>\n",
       "      <th>max</th>\n",
       "      <td>2332.000000</td>\n",
       "      <td>18652.000000</td>\n",
       "      <td>1.0</td>\n",
       "      <td>67512.000000</td>\n",
       "      <td>142997.000000</td>\n",
       "    </tr>\n",
       "  </tbody>\n",
       "</table>\n",
       "</div>"
      ],
      "text/plain": [
       "           QUERYID        UOW_ID  ACTIVITY_ID  SORT_SHRHEAP_TOP   Db2_ESTIMATE\n",
       "count  2332.000000   2332.000000       2332.0       2332.000000    2332.000000\n",
       "mean   1166.500000   9328.000000          1.0      39557.090480   43749.355918\n",
       "std     673.334736   5386.677888          0.0      23505.936789   21216.006026\n",
       "min       1.000000      4.000000          1.0       3876.000000    9951.000000\n",
       "25%     583.750000   4666.000000          1.0      14176.000000   23455.000000\n",
       "50%    1166.500000   9328.000000          1.0      39030.000000   38358.500000\n",
       "75%    1749.250000  13990.000000          1.0      66821.000000   66821.000000\n",
       "max    2332.000000  18652.000000          1.0      67512.000000  142997.000000"
      ]
     },
     "execution_count": 27,
     "metadata": {},
     "output_type": "execute_result"
    }
   ],
   "source": [
    "df_success.describe()"
   ]
  },
  {
   "cell_type": "code",
   "execution_count": 28,
   "metadata": {},
   "outputs": [
    {
     "name": "stdout",
     "output_type": "stream",
     "text": [
      "       SORT_SHRHEAP_TOP   Db2_ESTIMATE\n",
      "count       2332.000000    2332.000000\n",
      "mean       39557.090480   43749.355918\n",
      "std        23505.936789   21216.006026\n",
      "min         3876.000000    9951.000000\n",
      "25%        14176.000000   23455.000000\n",
      "50%        39030.000000   38358.500000\n",
      "75%        66821.000000   66821.000000\n",
      "max        67512.000000  142997.000000\n"
     ]
    }
   ],
   "source": [
    "print(df_success[['SORT_SHRHEAP_TOP', 'Db2_ESTIMATE']].describe())"
   ]
  },
  {
   "cell_type": "code",
   "execution_count": 29,
   "metadata": {},
   "outputs": [
    {
     "data": {
      "image/png": "[encoded data removed]",
      "text/plain": [
       "<Figure size 1000x600 with 1 Axes>"
      ]
     },
     "metadata": {},
     "output_type": "display_data"
    }
   ],
   "source": [
    "import matplotlib.pyplot as plt\n",
    "\n",
    "plt.figure(figsize=(10, 6))\n",
    "plt.hist(df_success['SORT_SHRHEAP_TOP'], bins=20, alpha=0.5, label='SORT_SHRHEAP_TOP')\n",
    "plt.hist(df_success['Db2_ESTIMATE'], bins=20, alpha=0.5, label='Db2_ESTIMATE')\n",
    "plt.xlabel('Value')\n",
    "plt.ylabel('Frequency')\n",
    "plt.title('Histogram of SORT_SHRHEAP_TOP and Db2_ESTIMATE')\n",
    "plt.legend()\n",
    "plt.show()\n"
   ]
  },
  {
   "cell_type": "code",
   "execution_count": 30,
   "metadata": {},
   "outputs": [
    {
     "data": {
      "image/png": "[encoded data removed]",
      "text/plain": [
       "<Figure size 1000x600 with 1 Axes>"
      ]
     },
     "metadata": {},
     "output_type": "display_data"
    }
   ],
   "source": [
    "# Boxplot\n",
    "plt.figure(figsize=(10, 6))\n",
    "df_success[['SORT_SHRHEAP_TOP', 'Db2_ESTIMATE']].boxplot()\n",
    "plt.title('Boxplot Comparison of SORT_SHRHEAP_TOP and Db2_ESTIMATE')\n",
    "plt.ylabel('Value')\n",
    "plt.show()\n"
   ]
  },
  {
   "cell_type": "code",
   "execution_count": 31,
   "metadata": {},
   "outputs": [
    {
     "data": {
      "image/png": "[encoded data removed]",
      "text/plain": [
       "<Figure size 1000x600 with 1 Axes>"
      ]
     },
     "metadata": {},
     "output_type": "display_data"
    }
   ],
   "source": [
    "# Density plot (KDE)\n",
    "df_success['SORT_SHRHEAP_TOP'].plot(kind='kde', label='SORT_SHRHEAP_TOP', figsize=(10, 6))\n",
    "df_success['Db2_ESTIMATE'].plot(kind='kde', label='Db2_ESTIMATE')\n",
    "plt.xlabel('Value')\n",
    "plt.title('Density Plot of SORT_SHRHEAP_TOP and Db2_ESTIMATE')\n",
    "plt.legend()\n",
    "plt.show()\n"
   ]
  },
  {
   "cell_type": "code",
   "execution_count": 32,
   "metadata": {},
   "outputs": [
    {
     "data": {
      "text/html": [
       "<div>\n",
       "<style scoped>\n",
       "    .dataframe tbody tr th:only-of-type {\n",
       "        vertical-align: middle;\n",
       "    }\n",
       "\n",
       "    .dataframe tbody tr th {\n",
       "        vertical-align: top;\n",
       "    }\n",
       "\n",
       "    .dataframe thead th {\n",
       "        text-align: right;\n",
       "    }\n",
       "</style>\n",
       "<table border=\"1\" class=\"dataframe\">\n",
       "  <thead>\n",
       "    <tr style=\"text-align: right;\">\n",
       "      <th></th>\n",
       "      <th>QUERYID</th>\n",
       "      <th>APPL_ID</th>\n",
       "      <th>UOW_ID</th>\n",
       "      <th>ACTIVITY_ID</th>\n",
       "      <th>EXPLAIN_TIME</th>\n",
       "      <th>SORT_SHRHEAP_TOP</th>\n",
       "      <th>Db2_ESTIMATE</th>\n",
       "      <th>QUERY</th>\n",
       "    </tr>\n",
       "  </thead>\n",
       "  <tbody>\n",
       "    <tr>\n",
       "      <th>0</th>\n",
       "      <td>1</td>\n",
       "      <td>*LOCAL.db2inst1.241204044349</td>\n",
       "      <td>4</td>\n",
       "      <td>1</td>\n",
       "      <td>2024-12-03-20.43.44.200877</td>\n",
       "      <td>66844.0</td>\n",
       "      <td>66835</td>\n",
       "      <td>SELECT cn.name AS company_name, lt.link AS li...</td>\n",
       "    </tr>\n",
       "    <tr>\n",
       "      <th>1</th>\n",
       "      <td>2</td>\n",
       "      <td>*LOCAL.db2inst1.241204044349</td>\n",
       "      <td>12</td>\n",
       "      <td>1</td>\n",
       "      <td>2024-12-03-20.43.45.954590</td>\n",
       "      <td>66860.0</td>\n",
       "      <td>66835</td>\n",
       "      <td>SELECT cn.name AS company_name, lt.link AS li...</td>\n",
       "    </tr>\n",
       "    <tr>\n",
       "      <th>2</th>\n",
       "      <td>3</td>\n",
       "      <td>*LOCAL.db2inst1.241204044349</td>\n",
       "      <td>20</td>\n",
       "      <td>1</td>\n",
       "      <td>2024-12-03-20.43.47.182565</td>\n",
       "      <td>66821.0</td>\n",
       "      <td>66837</td>\n",
       "      <td>SELECT cn.name AS company_name, lt.link AS li...</td>\n",
       "    </tr>\n",
       "    <tr>\n",
       "      <th>3</th>\n",
       "      <td>4</td>\n",
       "      <td>*LOCAL.db2inst1.241204044349</td>\n",
       "      <td>28</td>\n",
       "      <td>1</td>\n",
       "      <td>2024-12-03-20.43.48.420714</td>\n",
       "      <td>66825.0</td>\n",
       "      <td>66835</td>\n",
       "      <td>SELECT cn.name AS company_name, lt.link AS li...</td>\n",
       "    </tr>\n",
       "    <tr>\n",
       "      <th>4</th>\n",
       "      <td>5</td>\n",
       "      <td>*LOCAL.db2inst1.241204044349</td>\n",
       "      <td>36</td>\n",
       "      <td>1</td>\n",
       "      <td>2024-12-03-20.43.51.205244</td>\n",
       "      <td>38663.0</td>\n",
       "      <td>38565</td>\n",
       "      <td>SELECT cn.name AS company_name, lt.link AS li...</td>\n",
       "    </tr>\n",
       "  </tbody>\n",
       "</table>\n",
       "</div>"
      ],
      "text/plain": [
       "   QUERYID                       APPL_ID  UOW_ID  ACTIVITY_ID  \\\n",
       "0        1  *LOCAL.db2inst1.241204044349       4            1   \n",
       "1        2  *LOCAL.db2inst1.241204044349      12            1   \n",
       "2        3  *LOCAL.db2inst1.241204044349      20            1   \n",
       "3        4  *LOCAL.db2inst1.241204044349      28            1   \n",
       "4        5  *LOCAL.db2inst1.241204044349      36            1   \n",
       "\n",
       "                 EXPLAIN_TIME  SORT_SHRHEAP_TOP  Db2_ESTIMATE  \\\n",
       "0  2024-12-03-20.43.44.200877           66844.0         66835   \n",
       "1  2024-12-03-20.43.45.954590           66860.0         66835   \n",
       "2  2024-12-03-20.43.47.182565           66821.0         66837   \n",
       "3  2024-12-03-20.43.48.420714           66825.0         66835   \n",
       "4  2024-12-03-20.43.51.205244           38663.0         38565   \n",
       "\n",
       "                                               QUERY  \n",
       "0   SELECT cn.name AS company_name, lt.link AS li...  \n",
       "1   SELECT cn.name AS company_name, lt.link AS li...  \n",
       "2   SELECT cn.name AS company_name, lt.link AS li...  \n",
       "3   SELECT cn.name AS company_name, lt.link AS li...  \n",
       "4   SELECT cn.name AS company_name, lt.link AS li...  "
      ]
     },
     "execution_count": 32,
     "metadata": {},
     "output_type": "execute_result"
    }
   ],
   "source": [
    "df_success.head()"
   ]
  },
  {
   "cell_type": "code",
   "execution_count": 33,
   "metadata": {},
   "outputs": [],
   "source": [
    "df_success.to_csv('success_db2_est.csv', index=False)"
   ]
  },
  {
   "cell_type": "code",
   "execution_count": null,
   "metadata": {},
   "outputs": [],
   "source": []
  }
 ],
 "metadata": {
  "kernelspec": {
   "display_name": ".venv",
   "language": "python",
   "name": "python3"
  },
  "language_info": {
   "codemirror_mode": {
    "name": "ipython",
    "version": 3
   },
   "file_extension": ".py",
   "mimetype": "text/x-python",
   "name": "python",
   "nbconvert_exporter": "python",
   "pygments_lexer": "ipython3",
   "version": "3.12.3"
  }
 },
 "nbformat": 4,
 "nbformat_minor": 2
}
