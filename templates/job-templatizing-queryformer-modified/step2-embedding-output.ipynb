{
 "cells": [
  {
   "cell_type": "code",
   "execution_count": 1,
   "id": "e45532ff",
   "metadata": {
    "execution": {
     "iopub.execute_input": "2024-12-14T23:07:09.939630Z",
     "iopub.status.busy": "2024-12-14T23:07:09.939214Z",
     "iopub.status.idle": "2024-12-14T23:07:12.965276Z",
     "shell.execute_reply": "2024-12-14T23:07:12.964063Z"
    },
    "papermill": {
     "duration": 3.036273,
     "end_time": "2024-12-14T23:07:12.968101",
     "exception": false,
     "start_time": "2024-12-14T23:07:09.931828",
     "status": "completed"
    },
    "tags": []
   },
   "outputs": [],
   "source": [
    "import pandas as pd\n",
    "import os\n",
    "import torch\n",
    "from model.database_util import *"
   ]
  },
  {
   "cell_type": "code",
   "execution_count": 2,
   "id": "0d78dcc3",
   "metadata": {
    "execution": {
     "iopub.execute_input": "2024-12-14T23:07:12.981580Z",
     "iopub.status.busy": "2024-12-14T23:07:12.980974Z",
     "iopub.status.idle": "2024-12-14T23:07:12.988622Z",
     "shell.execute_reply": "2024-12-14T23:07:12.987086Z"
    },
    "papermill": {
     "duration": 0.018504,
     "end_time": "2024-12-14T23:07:12.992285",
     "exception": false,
     "start_time": "2024-12-14T23:07:12.973781",
     "status": "completed"
    },
    "tags": []
   },
   "outputs": [],
   "source": [
    "import torch\n",
    "from model.util import Normalizer\n",
    "\n",
    "# cost_norm = Normalizer(1, 100)\n",
    "# cost_norm = Normalizer(-3.61192, 12.290855)\n",
    "#cost_norm = Normalizer(5, 2611)\n",
    "cost_norm = Normalizer(8.26, 11.12)"
   ]
  },
  {
   "cell_type": "markdown",
   "id": "9b22974b",
   "metadata": {
    "papermill": {
     "duration": 0.010293,
     "end_time": "2024-12-14T23:07:13.009631",
     "exception": false,
     "start_time": "2024-12-14T23:07:12.999338",
     "status": "completed"
    },
    "tags": []
   },
   "source": [
    "## Define Model"
   ]
  },
  {
   "cell_type": "code",
   "execution_count": 3,
   "id": "5c1322fd",
   "metadata": {
    "execution": {
     "iopub.execute_input": "2024-12-14T23:07:13.027417Z",
     "iopub.status.busy": "2024-12-14T23:07:13.027048Z",
     "iopub.status.idle": "2024-12-14T23:07:13.034729Z",
     "shell.execute_reply": "2024-12-14T23:07:13.033280Z"
    },
    "papermill": {
     "duration": 0.018765,
     "end_time": "2024-12-14T23:07:13.037380",
     "exception": false,
     "start_time": "2024-12-14T23:07:13.018615",
     "status": "completed"
    },
    "tags": []
   },
   "outputs": [],
   "source": [
    "class Args:\n",
    "    # bs = 1024\n",
    "    # SQ: smaller batch size\n",
    "    bs = 64\n",
    "    # bs = 10\n",
    "    #lr = 0.001\n",
    "    lr = 0.001\n",
    "    # epochs = 200\n",
    "    epochs = 50\n",
    "    clip_size = 50\n",
    "    embed_size = 64\n",
    "    pred_hid = 128\n",
    "    ffn_dim = 128\n",
    "    head_size = 12\n",
    "    n_layers = 8\n",
    "    dropout = 0.1\n",
    "    sch_decay = 0.6\n",
    "    # device = 'cuda:0'\n",
    "    device = 'cpu'\n",
    "    newpath = 'job_queries_training'\n",
    "    to_predict = 'cost'\n",
    "args = Args()\n",
    "\n",
    "import os\n",
    "if not os.path.exists(args.newpath):\n",
    "    os.makedirs(args.newpath)"
   ]
  },
  {
   "cell_type": "code",
   "execution_count": 4,
   "id": "b2601808",
   "metadata": {
    "execution": {
     "iopub.execute_input": "2024-12-14T23:07:13.049666Z",
     "iopub.status.busy": "2024-12-14T23:07:13.049086Z",
     "iopub.status.idle": "2024-12-14T23:07:13.845724Z",
     "shell.execute_reply": "2024-12-14T23:07:13.844440Z"
    },
    "papermill": {
     "duration": 0.805798,
     "end_time": "2024-12-14T23:07:13.848439",
     "exception": false,
     "start_time": "2024-12-14T23:07:13.042641",
     "status": "completed"
    },
    "tags": []
   },
   "outputs": [],
   "source": [
    "from model.model import QueryFormer\n",
    "\n",
    "model = QueryFormer(emb_size = args.embed_size ,ffn_dim = args.ffn_dim, head_size = args.head_size, \\\n",
    "                 dropout = args.dropout, n_layers = args.n_layers, \\\n",
    "                 use_sample = False, use_hist = False, \\\n",
    "                 pred_hid = args.pred_hid\n",
    "                )"
   ]
  },
  {
   "cell_type": "code",
   "execution_count": 5,
   "id": "3a8644fb",
   "metadata": {
    "execution": {
     "iopub.execute_input": "2024-12-14T23:07:13.861563Z",
     "iopub.status.busy": "2024-12-14T23:07:13.861128Z",
     "iopub.status.idle": "2024-12-14T23:07:13.870751Z",
     "shell.execute_reply": "2024-12-14T23:07:13.869388Z"
    },
    "papermill": {
     "duration": 0.021402,
     "end_time": "2024-12-14T23:07:13.875110",
     "exception": false,
     "start_time": "2024-12-14T23:07:13.853708",
     "status": "completed"
    },
    "tags": []
   },
   "outputs": [],
   "source": [
    "from model.dataset import PlanTreeDataset"
   ]
  },
  {
   "cell_type": "markdown",
   "id": "ee034aba",
   "metadata": {
    "papermill": {
     "duration": 0.00742,
     "end_time": "2024-12-14T23:07:13.888669",
     "exception": false,
     "start_time": "2024-12-14T23:07:13.881249",
     "status": "completed"
    },
    "tags": []
   },
   "source": [
    "## TEST - Loading 10 tensors"
   ]
  },
  {
   "cell_type": "code",
   "execution_count": 6,
   "id": "831517d3",
   "metadata": {
    "execution": {
     "iopub.execute_input": "2024-12-14T23:07:13.901453Z",
     "iopub.status.busy": "2024-12-14T23:07:13.901008Z",
     "iopub.status.idle": "2024-12-14T23:07:17.926931Z",
     "shell.execute_reply": "2024-12-14T23:07:17.925558Z"
    },
    "papermill": {
     "duration": 4.03499,
     "end_time": "2024-12-14T23:07:17.929025",
     "exception": false,
     "start_time": "2024-12-14T23:07:13.894035",
     "status": "completed"
    },
    "tags": []
   },
   "outputs": [
    {
     "name": "stdout",
     "output_type": "stream",
     "text": [
      "Training Dataset length: 1865\n",
      "Validation Dataset length: 467\n",
      "Validation data saved to ./val_data.json\n",
      "Training data saved to ./train_data.json\n"
     ]
    }
   ],
   "source": [
    "import os\n",
    "import torch\n",
    "import numpy as np\n",
    "from sklearn.model_selection import train_test_split\n",
    "from model.dataset import PlanTreeDataset  # Assuming PlanTreeDataset is defined elsewhere\n",
    "import json\n",
    "\n",
    "# Path to the tensors folder\n",
    "tensors_dir = \"./job_queries/tensors\"\n",
    "\n",
    "# Validate if the tensors directory exists\n",
    "if not os.path.exists(tensors_dir):\n",
    "    raise FileNotFoundError(f\"Tensors directory '{tensors_dir}' not found.\")\n",
    "\n",
    "# Get all tensor file paths from the directory\n",
    "tensor_files = sorted(os.listdir(tensors_dir))\n",
    "\n",
    "# Validate if tensor files exist in the directory\n",
    "if not tensor_files:\n",
    "    raise FileNotFoundError(f\"No tensor files found in '{tensors_dir}'.\")\n",
    "\n",
    "# Initialize lists to store tensor components\n",
    "x_list = []\n",
    "rel_pos_list = []\n",
    "attn_bias_list = []\n",
    "heights_list = []\n",
    "cost_labels_list = []\n",
    "raw_costs_list = []\n",
    "\n",
    "# Load tensors dynamically\n",
    "for tensor_file in tensor_files:\n",
    "    tensor_path = os.path.join(tensors_dir, tensor_file)\n",
    "    try:\n",
    "        loaded_tensors = torch.load(tensor_path)\n",
    "        # Append components to respective lists\n",
    "        x_list.append(loaded_tensors[\"x\"])\n",
    "        rel_pos_list.append(loaded_tensors[\"rel_pos\"])\n",
    "        attn_bias_list.append(loaded_tensors[\"attn_bias\"])\n",
    "        heights_list.append(loaded_tensors[\"heights\"])\n",
    "        cost_labels_list.append(loaded_tensors[\"cost_labels\"])\n",
    "        raw_costs_list.append(loaded_tensors[\"raw_costs\"])\n",
    "    except Exception as e:\n",
    "        print(f\"Error loading tensor file '{tensor_file}': {e}\")\n",
    "\n",
    "# Generate indices for splitting\n",
    "num_examples = len(x_list)\n",
    "if num_examples == 0:\n",
    "    raise ValueError(\"No valid tensors loaded for dataset creation.\")\n",
    "    \n",
    "all_indices = np.arange(num_examples)\n",
    "\n",
    "# Perform train-validation split with fixed seed for reproducibility\n",
    "train_indices, val_indices = train_test_split(all_indices, test_size=0.2, random_state=0)\n",
    "\n",
    "# Create training and validation datasets\n",
    "train_dataset = PlanTreeDataset(\n",
    "    len(train_indices),\n",
    "    [x_list[i] for i in train_indices],\n",
    "    [attn_bias_list[i] for i in train_indices],\n",
    "    [rel_pos_list[i] for i in train_indices],\n",
    "    [heights_list[i] for i in train_indices],\n",
    "    [cost_labels_list[i] for i in train_indices],\n",
    "    [raw_costs_list[i] for i in train_indices]\n",
    ")\n",
    "\n",
    "val_dataset = PlanTreeDataset(\n",
    "    len(val_indices),\n",
    "    [x_list[i] for i in val_indices],\n",
    "    [attn_bias_list[i] for i in val_indices],\n",
    "    [rel_pos_list[i] for i in val_indices],\n",
    "    [heights_list[i] for i in val_indices],\n",
    "    [cost_labels_list[i] for i in val_indices],\n",
    "    [raw_costs_list[i] for i in val_indices]\n",
    ")\n",
    "\n",
    "# Save validation indices and file names\n",
    "val_file_names = [tensor_files[i] for i in val_indices]\n",
    "val_data = {\n",
    "    \"val_indices\": val_indices.tolist(),\n",
    "    \"file_names\": val_file_names,\n",
    "}\n",
    "\n",
    "val_data_file = \"./val_data.json\"\n",
    "with open(val_data_file, \"w\") as f:\n",
    "    json.dump(val_data, f)\n",
    "\n",
    "# Save training indices and file names\n",
    "train_file_names = [tensor_files[i] for i in train_indices]\n",
    "train_data = {\n",
    "    \"train_indices\": train_indices.tolist(),\n",
    "    \"file_names\": train_file_names,\n",
    "}\n",
    "\n",
    "train_data_file = \"./train_data.json\"\n",
    "with open(train_data_file, \"w\") as f:\n",
    "    json.dump(train_data, f)\n",
    "\n",
    "# Print information\n",
    "print(\"Training Dataset length:\", len(train_dataset))\n",
    "print(\"Validation Dataset length:\", len(val_dataset))\n",
    "print(f\"Validation data saved to {val_data_file}\")\n",
    "print(f\"Training data saved to {train_data_file}\")"
   ]
  },
  {
   "cell_type": "code",
   "execution_count": 7,
   "id": "67a632ad",
   "metadata": {
    "execution": {
     "iopub.execute_input": "2024-12-14T23:07:17.949640Z",
     "iopub.status.busy": "2024-12-14T23:07:17.948961Z",
     "iopub.status.idle": "2024-12-14T23:07:17.980690Z",
     "shell.execute_reply": "2024-12-14T23:07:17.979492Z"
    },
    "papermill": {
     "duration": 0.044302,
     "end_time": "2024-12-14T23:07:17.983177",
     "exception": false,
     "start_time": "2024-12-14T23:07:17.938875",
     "status": "completed"
    },
    "tags": []
   },
   "outputs": [
    {
     "name": "stdout",
     "output_type": "stream",
     "text": [
      "Validation DataFrame:\n",
      "   val_index                                  filename\n",
      "0       1056  query_1952_2024-12-03-21.34.02.429279.pt\n",
      "1       2323   query_993_2024-12-03-21.10.08.618148.pt\n",
      "2        655  query_1591_2024-12-03-21.23.17.861948.pt\n",
      "3       2101   query_793_2024-12-03-21.05.49.462784.pt\n",
      "4       1401  query_2262_2024-12-03-21.44.00.539251.pt\n",
      "Validation data saved to ./val_data.csv\n",
      "Training DataFrame:\n",
      "   train_index                                  filename\n",
      "0          812  query_1732_2024-12-03-21.27.45.652122.pt\n",
      "1          233  query_1210_2024-12-03-21.14.50.599373.pt\n",
      "2         1380  query_2243_2024-12-03-21.43.30.935782.pt\n",
      "3         1752   query_479_2024-12-03-20.59.07.992844.pt\n",
      "4         1334  query_2201_2024-12-03-21.42.07.400700.pt\n",
      "Training data saved to ./train_data.csv\n"
     ]
    }
   ],
   "source": [
    "import pandas as pd\n",
    "import json\n",
    "\n",
    "# File paths\n",
    "val_data_file = \"./val_data.json\"\n",
    "train_data_file = \"./train_data.json\"\n",
    "\n",
    "# Load validation data from JSON file\n",
    "with open(val_data_file, \"r\") as f:\n",
    "    loaded_val_data = json.load(f)\n",
    "\n",
    "loaded_val_indices = loaded_val_data[\"val_indices\"]\n",
    "loaded_val_file_names = loaded_val_data[\"file_names\"]\n",
    "\n",
    "# Create a DataFrame for validation data\n",
    "val_data_df = pd.DataFrame({\n",
    "    \"val_index\": loaded_val_indices,\n",
    "    \"filename\": loaded_val_file_names\n",
    "})\n",
    "\n",
    "# Display the Validation DataFrame\n",
    "print(\"Validation DataFrame:\")\n",
    "print(val_data_df.head())\n",
    "\n",
    "# Save validation data to CSV\n",
    "val_data_df.to_csv(\"./val_data.csv\", index=False)\n",
    "print(\"Validation data saved to ./val_data.csv\")\n",
    "\n",
    "# Load training data from JSON file\n",
    "with open(train_data_file, \"r\") as f:\n",
    "    loaded_train_data = json.load(f)\n",
    "\n",
    "loaded_train_indices = loaded_train_data[\"train_indices\"]\n",
    "loaded_train_file_names = loaded_train_data[\"file_names\"]\n",
    "\n",
    "# Create a DataFrame for training data\n",
    "train_data_df = pd.DataFrame({\n",
    "    \"train_index\": loaded_train_indices,\n",
    "    \"filename\": loaded_train_file_names\n",
    "})\n",
    "\n",
    "# Display the Training DataFrame\n",
    "print(\"Training DataFrame:\")\n",
    "print(train_data_df.head())\n",
    "\n",
    "# Save training data to CSV\n",
    "train_data_df.to_csv(\"./train_data.csv\", index=False)\n",
    "print(\"Training data saved to ./train_data.csv\")\n"
   ]
  },
  {
   "cell_type": "code",
   "execution_count": 8,
   "id": "e3428f06",
   "metadata": {
    "execution": {
     "iopub.execute_input": "2024-12-14T23:07:18.001763Z",
     "iopub.status.busy": "2024-12-14T23:07:18.001169Z",
     "iopub.status.idle": "2024-12-14T23:07:18.015559Z",
     "shell.execute_reply": "2024-12-14T23:07:18.014091Z"
    },
    "papermill": {
     "duration": 0.027273,
     "end_time": "2024-12-14T23:07:18.018363",
     "exception": false,
     "start_time": "2024-12-14T23:07:17.991090",
     "status": "completed"
    },
    "tags": []
   },
   "outputs": [
    {
     "data": {
      "text/plain": [
       "1865"
      ]
     },
     "execution_count": 8,
     "metadata": {},
     "output_type": "execute_result"
    }
   ],
   "source": [
    "len(train_dataset)"
   ]
  },
  {
   "cell_type": "code",
   "execution_count": 9,
   "id": "6aac46c7",
   "metadata": {
    "execution": {
     "iopub.execute_input": "2024-12-14T23:07:18.041052Z",
     "iopub.status.busy": "2024-12-14T23:07:18.040543Z",
     "iopub.status.idle": "2024-12-14T23:07:18.048225Z",
     "shell.execute_reply": "2024-12-14T23:07:18.047127Z"
    },
    "papermill": {
     "duration": 0.023878,
     "end_time": "2024-12-14T23:07:18.050614",
     "exception": false,
     "start_time": "2024-12-14T23:07:18.026736",
     "status": "completed"
    },
    "tags": []
   },
   "outputs": [
    {
     "data": {
      "text/plain": [
       "10"
      ]
     },
     "execution_count": 9,
     "metadata": {},
     "output_type": "execute_result"
    }
   ],
   "source": [
    "len(train_dataset[:10])"
   ]
  },
  {
   "cell_type": "code",
   "execution_count": 10,
   "id": "9ed25b29",
   "metadata": {
    "execution": {
     "iopub.execute_input": "2024-12-14T23:07:18.067439Z",
     "iopub.status.busy": "2024-12-14T23:07:18.066313Z",
     "iopub.status.idle": "2024-12-15T02:38:37.747817Z",
     "shell.execute_reply": "2024-12-15T02:38:37.745240Z"
    },
    "papermill": {
     "duration": 12679.696466,
     "end_time": "2024-12-15T02:38:37.753675",
     "exception": false,
     "start_time": "2024-12-14T23:07:18.057209",
     "status": "completed"
    },
    "tags": []
   },
   "outputs": [
    {
     "name": "stdout",
     "output_type": "stream",
     "text": [
      "running epoch: 0\n"
     ]
    },
    {
     "name": "stdout",
     "output_type": "stream",
     "text": [
      "pred_output shape: torch.Size([64, 1])\n"
     ]
    },
    {
     "name": "stdout",
     "output_type": "stream",
     "text": [
      "pred_output shape: torch.Size([64, 1])\n"
     ]
    },
    {
     "name": "stdout",
     "output_type": "stream",
     "text": [
      "pred_output shape: torch.Size([64, 1])\n"
     ]
    },
    {
     "name": "stdout",
     "output_type": "stream",
     "text": [
      "pred_output shape: torch.Size([64, 1])\n"
     ]
    },
    {
     "name": "stdout",
     "output_type": "stream",
     "text": [
      "pred_output shape: torch.Size([64, 1])\n"
     ]
    },
    {
     "name": "stdout",
     "output_type": "stream",
     "text": [
      "pred_output shape: torch.Size([64, 1])\n"
     ]
    },
    {
     "name": "stdout",
     "output_type": "stream",
     "text": [
      "pred_output shape: torch.Size([64, 1])\n"
     ]
    },
    {
     "name": "stdout",
     "output_type": "stream",
     "text": [
      "pred_output shape: torch.Size([64, 1])\n"
     ]
    },
    {
     "name": "stdout",
     "output_type": "stream",
     "text": [
      "pred_output shape: torch.Size([64, 1])\n"
     ]
    },
    {
     "name": "stdout",
     "output_type": "stream",
     "text": [
      "pred_output shape: torch.Size([64, 1])\n"
     ]
    },
    {
     "name": "stdout",
     "output_type": "stream",
     "text": [
      "pred_output shape: torch.Size([64, 1])\n"
     ]
    },
    {
     "name": "stdout",
     "output_type": "stream",
     "text": [
      "pred_output shape: torch.Size([64, 1])\n"
     ]
    },
    {
     "name": "stdout",
     "output_type": "stream",
     "text": [
      "pred_output shape: torch.Size([64, 1])\n"
     ]
    },
    {
     "name": "stdout",
     "output_type": "stream",
     "text": [
      "pred_output shape: torch.Size([64, 1])\n"
     ]
    },
    {
     "name": "stdout",
     "output_type": "stream",
     "text": [
      "pred_output shape: torch.Size([64, 1])\n"
     ]
    },
    {
     "name": "stdout",
     "output_type": "stream",
     "text": [
      "pred_output shape: torch.Size([64, 1])\n"
     ]
    },
    {
     "name": "stdout",
     "output_type": "stream",
     "text": [
      "pred_output shape: torch.Size([64, 1])\n"
     ]
    },
    {
     "name": "stdout",
     "output_type": "stream",
     "text": [
      "pred_output shape: torch.Size([64, 1])\n"
     ]
    },
    {
     "name": "stdout",
     "output_type": "stream",
     "text": [
      "pred_output shape: torch.Size([64, 1])\n"
     ]
    },
    {
     "name": "stdout",
     "output_type": "stream",
     "text": [
      "pred_output shape: torch.Size([64, 1])\n"
     ]
    },
    {
     "name": "stdout",
     "output_type": "stream",
     "text": [
      "pred_output shape: torch.Size([64, 1])\n"
     ]
    },
    {
     "name": "stdout",
     "output_type": "stream",
     "text": [
      "pred_output shape: torch.Size([64, 1])\n"
     ]
    },
    {
     "name": "stdout",
     "output_type": "stream",
     "text": [
      "pred_output shape: torch.Size([64, 1])\n"
     ]
    },
    {
     "name": "stdout",
     "output_type": "stream",
     "text": [
      "pred_output shape: torch.Size([64, 1])\n"
     ]
    },
    {
     "name": "stdout",
     "output_type": "stream",
     "text": [
      "pred_output shape: torch.Size([64, 1])\n"
     ]
    },
    {
     "name": "stdout",
     "output_type": "stream",
     "text": [
      "pred_output shape: torch.Size([64, 1])\n"
     ]
    },
    {
     "name": "stdout",
     "output_type": "stream",
     "text": [
      "pred_output shape: torch.Size([64, 1])\n"
     ]
    },
    {
     "name": "stdout",
     "output_type": "stream",
     "text": [
      "pred_output shape: torch.Size([64, 1])\n"
     ]
    },
    {
     "name": "stdout",
     "output_type": "stream",
     "text": [
      "pred_output shape: torch.Size([64, 1])\n"
     ]
    },
    {
     "name": "stdout",
     "output_type": "stream",
     "text": [
      "pred_output shape: torch.Size([9, 1])\n"
     ]
    },
    {
     "name": "stdout",
     "output_type": "stream",
     "text": [
      "Epoch: 0  Avg Loss: 0.0016779799743408172, Time: 123.62960648536682\n",
      "Median: 1.9086097045622883\n",
      "Mean: 2.5780137706422686\n",
      "running epoch: 1\n"
     ]
    },
    {
     "name": "stdout",
     "output_type": "stream",
     "text": [
      "pred_output shape: torch.Size([64, 1])\n"
     ]
    },
    {
     "name": "stdout",
     "output_type": "stream",
     "text": [
      "pred_output shape: torch.Size([64, 1])\n"
     ]
    },
    {
     "name": "stdout",
     "output_type": "stream",
     "text": [
      "pred_output shape: torch.Size([64, 1])\n"
     ]
    },
    {
     "name": "stdout",
     "output_type": "stream",
     "text": [
      "pred_output shape: torch.Size([64, 1])\n"
     ]
    },
    {
     "name": "stdout",
     "output_type": "stream",
     "text": [
      "pred_output shape: torch.Size([64, 1])\n"
     ]
    },
    {
     "name": "stdout",
     "output_type": "stream",
     "text": [
      "pred_output shape: torch.Size([64, 1])\n"
     ]
    },
    {
     "name": "stdout",
     "output_type": "stream",
     "text": [
      "pred_output shape: torch.Size([64, 1])\n"
     ]
    },
    {
     "name": "stdout",
     "output_type": "stream",
     "text": [
      "pred_output shape: torch.Size([64, 1])\n"
     ]
    },
    {
     "name": "stdout",
     "output_type": "stream",
     "text": [
      "pred_output shape: torch.Size([64, 1])\n"
     ]
    },
    {
     "name": "stdout",
     "output_type": "stream",
     "text": [
      "pred_output shape: torch.Size([64, 1])\n"
     ]
    },
    {
     "name": "stdout",
     "output_type": "stream",
     "text": [
      "pred_output shape: torch.Size([64, 1])\n"
     ]
    },
    {
     "name": "stdout",
     "output_type": "stream",
     "text": [
      "pred_output shape: torch.Size([64, 1])\n"
     ]
    },
    {
     "name": "stdout",
     "output_type": "stream",
     "text": [
      "pred_output shape: torch.Size([64, 1])\n"
     ]
    },
    {
     "name": "stdout",
     "output_type": "stream",
     "text": [
      "pred_output shape: torch.Size([64, 1])\n"
     ]
    },
    {
     "name": "stdout",
     "output_type": "stream",
     "text": [
      "pred_output shape: torch.Size([64, 1])\n"
     ]
    },
    {
     "name": "stdout",
     "output_type": "stream",
     "text": [
      "pred_output shape: torch.Size([64, 1])\n"
     ]
    },
    {
     "name": "stdout",
     "output_type": "stream",
     "text": [
      "pred_output shape: torch.Size([64, 1])\n"
     ]
    },
    {
     "name": "stdout",
     "output_type": "stream",
     "text": [
      "pred_output shape: torch.Size([64, 1])\n"
     ]
    },
    {
     "name": "stdout",
     "output_type": "stream",
     "text": [
      "pred_output shape: torch.Size([64, 1])\n"
     ]
    },
    {
     "name": "stdout",
     "output_type": "stream",
     "text": [
      "pred_output shape: torch.Size([64, 1])\n"
     ]
    },
    {
     "name": "stdout",
     "output_type": "stream",
     "text": [
      "pred_output shape: torch.Size([64, 1])\n"
     ]
    },
    {
     "name": "stdout",
     "output_type": "stream",
     "text": [
      "pred_output shape: torch.Size([64, 1])\n"
     ]
    },
    {
     "name": "stdout",
     "output_type": "stream",
     "text": [
      "pred_output shape: torch.Size([64, 1])\n"
     ]
    },
    {
     "name": "stdout",
     "output_type": "stream",
     "text": [
      "pred_output shape: torch.Size([64, 1])\n"
     ]
    },
    {
     "name": "stdout",
     "output_type": "stream",
     "text": [
      "pred_output shape: torch.Size([64, 1])\n"
     ]
    },
    {
     "name": "stdout",
     "output_type": "stream",
     "text": [
      "pred_output shape: torch.Size([64, 1])\n"
     ]
    },
    {
     "name": "stdout",
     "output_type": "stream",
     "text": [
      "pred_output shape: torch.Size([64, 1])\n"
     ]
    },
    {
     "name": "stdout",
     "output_type": "stream",
     "text": [
      "pred_output shape: torch.Size([64, 1])\n"
     ]
    },
    {
     "name": "stdout",
     "output_type": "stream",
     "text": [
      "pred_output shape: torch.Size([64, 1])\n"
     ]
    },
    {
     "name": "stdout",
     "output_type": "stream",
     "text": [
      "pred_output shape: torch.Size([9, 1])\n"
     ]
    },
    {
     "name": "stdout",
     "output_type": "stream",
     "text": [
      "running epoch: 2\n"
     ]
    },
    {
     "name": "stdout",
     "output_type": "stream",
     "text": [
      "pred_output shape: torch.Size([64, 1])\n"
     ]
    },
    {
     "name": "stdout",
     "output_type": "stream",
     "text": [
      "pred_output shape: torch.Size([64, 1])\n"
     ]
    },
    {
     "name": "stdout",
     "output_type": "stream",
     "text": [
      "pred_output shape: torch.Size([64, 1])\n"
     ]
    },
    {
     "name": "stdout",
     "output_type": "stream",
     "text": [
      "pred_output shape: torch.Size([64, 1])\n"
     ]
    },
    {
     "name": "stdout",
     "output_type": "stream",
     "text": [
      "pred_output shape: torch.Size([64, 1])\n"
     ]
    },
    {
     "name": "stdout",
     "output_type": "stream",
     "text": [
      "pred_output shape: torch.Size([64, 1])\n"
     ]
    },
    {
     "name": "stdout",
     "output_type": "stream",
     "text": [
      "pred_output shape: torch.Size([64, 1])\n"
     ]
    },
    {
     "name": "stdout",
     "output_type": "stream",
     "text": [
      "pred_output shape: torch.Size([64, 1])\n"
     ]
    },
    {
     "name": "stdout",
     "output_type": "stream",
     "text": [
      "pred_output shape: torch.Size([64, 1])\n"
     ]
    },
    {
     "name": "stdout",
     "output_type": "stream",
     "text": [
      "pred_output shape: torch.Size([64, 1])\n"
     ]
    },
    {
     "name": "stdout",
     "output_type": "stream",
     "text": [
      "pred_output shape: torch.Size([64, 1])\n"
     ]
    },
    {
     "name": "stdout",
     "output_type": "stream",
     "text": [
      "pred_output shape: torch.Size([64, 1])\n"
     ]
    },
    {
     "name": "stdout",
     "output_type": "stream",
     "text": [
      "pred_output shape: torch.Size([64, 1])\n"
     ]
    },
    {
     "name": "stdout",
     "output_type": "stream",
     "text": [
      "pred_output shape: torch.Size([64, 1])\n"
     ]
    },
    {
     "name": "stdout",
     "output_type": "stream",
     "text": [
      "pred_output shape: torch.Size([64, 1])\n"
     ]
    },
    {
     "name": "stdout",
     "output_type": "stream",
     "text": [
      "pred_output shape: torch.Size([64, 1])\n"
     ]
    },
    {
     "name": "stdout",
     "output_type": "stream",
     "text": [
      "pred_output shape: torch.Size([64, 1])\n"
     ]
    },
    {
     "name": "stdout",
     "output_type": "stream",
     "text": [
      "pred_output shape: torch.Size([64, 1])\n"
     ]
    },
    {
     "name": "stdout",
     "output_type": "stream",
     "text": [
      "pred_output shape: torch.Size([64, 1])\n"
     ]
    },
    {
     "name": "stdout",
     "output_type": "stream",
     "text": [
      "pred_output shape: torch.Size([64, 1])\n"
     ]
    },
    {
     "name": "stdout",
     "output_type": "stream",
     "text": [
      "pred_output shape: torch.Size([64, 1])\n"
     ]
    },
    {
     "name": "stdout",
     "output_type": "stream",
     "text": [
      "pred_output shape: torch.Size([64, 1])\n"
     ]
    },
    {
     "name": "stdout",
     "output_type": "stream",
     "text": [
      "pred_output shape: torch.Size([64, 1])\n"
     ]
    },
    {
     "name": "stdout",
     "output_type": "stream",
     "text": [
      "pred_output shape: torch.Size([64, 1])\n"
     ]
    },
    {
     "name": "stdout",
     "output_type": "stream",
     "text": [
      "pred_output shape: torch.Size([64, 1])\n"
     ]
    },
    {
     "name": "stdout",
     "output_type": "stream",
     "text": [
      "pred_output shape: torch.Size([64, 1])\n"
     ]
    },
    {
     "name": "stdout",
     "output_type": "stream",
     "text": [
      "pred_output shape: torch.Size([64, 1])\n"
     ]
    },
    {
     "name": "stdout",
     "output_type": "stream",
     "text": [
      "pred_output shape: torch.Size([64, 1])\n"
     ]
    },
    {
     "name": "stdout",
     "output_type": "stream",
     "text": [
      "pred_output shape: torch.Size([64, 1])\n"
     ]
    },
    {
     "name": "stdout",
     "output_type": "stream",
     "text": [
      "pred_output shape: torch.Size([9, 1])\n"
     ]
    },
    {
     "name": "stdout",
     "output_type": "stream",
     "text": [
      "running epoch: 3\n"
     ]
    },
    {
     "name": "stdout",
     "output_type": "stream",
     "text": [
      "pred_output shape: torch.Size([64, 1])\n"
     ]
    },
    {
     "name": "stdout",
     "output_type": "stream",
     "text": [
      "pred_output shape: torch.Size([64, 1])\n"
     ]
    },
    {
     "name": "stdout",
     "output_type": "stream",
     "text": [
      "pred_output shape: torch.Size([64, 1])\n"
     ]
    },
    {
     "name": "stdout",
     "output_type": "stream",
     "text": [
      "pred_output shape: torch.Size([64, 1])\n"
     ]
    },
    {
     "name": "stdout",
     "output_type": "stream",
     "text": [
      "pred_output shape: torch.Size([64, 1])\n"
     ]
    },
    {
     "name": "stdout",
     "output_type": "stream",
     "text": [
      "pred_output shape: torch.Size([64, 1])\n"
     ]
    },
    {
     "name": "stdout",
     "output_type": "stream",
     "text": [
      "pred_output shape: torch.Size([64, 1])\n"
     ]
    },
    {
     "name": "stdout",
     "output_type": "stream",
     "text": [
      "pred_output shape: torch.Size([64, 1])\n"
     ]
    },
    {
     "name": "stdout",
     "output_type": "stream",
     "text": [
      "pred_output shape: torch.Size([64, 1])\n"
     ]
    },
    {
     "name": "stdout",
     "output_type": "stream",
     "text": [
      "pred_output shape: torch.Size([64, 1])\n"
     ]
    },
    {
     "name": "stdout",
     "output_type": "stream",
     "text": [
      "pred_output shape: torch.Size([64, 1])\n"
     ]
    },
    {
     "name": "stdout",
     "output_type": "stream",
     "text": [
      "pred_output shape: torch.Size([64, 1])\n"
     ]
    },
    {
     "name": "stdout",
     "output_type": "stream",
     "text": [
      "pred_output shape: torch.Size([64, 1])\n"
     ]
    },
    {
     "name": "stdout",
     "output_type": "stream",
     "text": [
      "pred_output shape: torch.Size([64, 1])\n"
     ]
    },
    {
     "name": "stdout",
     "output_type": "stream",
     "text": [
      "pred_output shape: torch.Size([64, 1])\n"
     ]
    },
    {
     "name": "stdout",
     "output_type": "stream",
     "text": [
      "pred_output shape: torch.Size([64, 1])\n"
     ]
    },
    {
     "name": "stdout",
     "output_type": "stream",
     "text": [
      "pred_output shape: torch.Size([64, 1])\n"
     ]
    },
    {
     "name": "stdout",
     "output_type": "stream",
     "text": [
      "pred_output shape: torch.Size([64, 1])\n"
     ]
    },
    {
     "name": "stdout",
     "output_type": "stream",
     "text": [
      "pred_output shape: torch.Size([64, 1])\n"
     ]
    },
    {
     "name": "stdout",
     "output_type": "stream",
     "text": [
      "pred_output shape: torch.Size([64, 1])\n"
     ]
    },
    {
     "name": "stdout",
     "output_type": "stream",
     "text": [
      "pred_output shape: torch.Size([64, 1])\n"
     ]
    },
    {
     "name": "stdout",
     "output_type": "stream",
     "text": [
      "pred_output shape: torch.Size([64, 1])\n"
     ]
    },
    {
     "name": "stdout",
     "output_type": "stream",
     "text": [
      "pred_output shape: torch.Size([64, 1])\n"
     ]
    },
    {
     "name": "stdout",
     "output_type": "stream",
     "text": [
      "pred_output shape: torch.Size([64, 1])\n"
     ]
    },
    {
     "name": "stdout",
     "output_type": "stream",
     "text": [
      "pred_output shape: torch.Size([64, 1])\n"
     ]
    },
    {
     "name": "stdout",
     "output_type": "stream",
     "text": [
      "pred_output shape: torch.Size([64, 1])\n"
     ]
    },
    {
     "name": "stdout",
     "output_type": "stream",
     "text": [
      "pred_output shape: torch.Size([64, 1])\n"
     ]
    },
    {
     "name": "stdout",
     "output_type": "stream",
     "text": [
      "pred_output shape: torch.Size([64, 1])\n"
     ]
    },
    {
     "name": "stdout",
     "output_type": "stream",
     "text": [
      "pred_output shape: torch.Size([64, 1])\n"
     ]
    },
    {
     "name": "stdout",
     "output_type": "stream",
     "text": [
      "pred_output shape: torch.Size([9, 1])\n"
     ]
    },
    {
     "name": "stdout",
     "output_type": "stream",
     "text": [
      "running epoch: 4\n"
     ]
    },
    {
     "name": "stdout",
     "output_type": "stream",
     "text": [
      "pred_output shape: torch.Size([64, 1])\n"
     ]
    },
    {
     "name": "stdout",
     "output_type": "stream",
     "text": [
      "pred_output shape: torch.Size([64, 1])\n"
     ]
    },
    {
     "name": "stdout",
     "output_type": "stream",
     "text": [
      "pred_output shape: torch.Size([64, 1])\n"
     ]
    },
    {
     "name": "stdout",
     "output_type": "stream",
     "text": [
      "pred_output shape: torch.Size([64, 1])\n"
     ]
    },
    {
     "name": "stdout",
     "output_type": "stream",
     "text": [
      "pred_output shape: torch.Size([64, 1])\n"
     ]
    },
    {
     "name": "stdout",
     "output_type": "stream",
     "text": [
      "pred_output shape: torch.Size([64, 1])\n"
     ]
    },
    {
     "name": "stdout",
     "output_type": "stream",
     "text": [
      "pred_output shape: torch.Size([64, 1])\n"
     ]
    },
    {
     "name": "stdout",
     "output_type": "stream",
     "text": [
      "pred_output shape: torch.Size([64, 1])\n"
     ]
    },
    {
     "name": "stdout",
     "output_type": "stream",
     "text": [
      "pred_output shape: torch.Size([64, 1])\n"
     ]
    },
    {
     "name": "stdout",
     "output_type": "stream",
     "text": [
      "pred_output shape: torch.Size([64, 1])\n"
     ]
    },
    {
     "name": "stdout",
     "output_type": "stream",
     "text": [
      "pred_output shape: torch.Size([64, 1])\n"
     ]
    },
    {
     "name": "stdout",
     "output_type": "stream",
     "text": [
      "pred_output shape: torch.Size([64, 1])\n"
     ]
    },
    {
     "name": "stdout",
     "output_type": "stream",
     "text": [
      "pred_output shape: torch.Size([64, 1])\n"
     ]
    },
    {
     "name": "stdout",
     "output_type": "stream",
     "text": [
      "pred_output shape: torch.Size([64, 1])\n"
     ]
    },
    {
     "name": "stdout",
     "output_type": "stream",
     "text": [
      "pred_output shape: torch.Size([64, 1])\n"
     ]
    },
    {
     "name": "stdout",
     "output_type": "stream",
     "text": [
      "pred_output shape: torch.Size([64, 1])\n"
     ]
    },
    {
     "name": "stdout",
     "output_type": "stream",
     "text": [
      "pred_output shape: torch.Size([64, 1])\n"
     ]
    },
    {
     "name": "stdout",
     "output_type": "stream",
     "text": [
      "pred_output shape: torch.Size([64, 1])\n"
     ]
    },
    {
     "name": "stdout",
     "output_type": "stream",
     "text": [
      "pred_output shape: torch.Size([64, 1])\n"
     ]
    },
    {
     "name": "stdout",
     "output_type": "stream",
     "text": [
      "pred_output shape: torch.Size([64, 1])\n"
     ]
    },
    {
     "name": "stdout",
     "output_type": "stream",
     "text": [
      "pred_output shape: torch.Size([64, 1])\n"
     ]
    },
    {
     "name": "stdout",
     "output_type": "stream",
     "text": [
      "pred_output shape: torch.Size([64, 1])\n"
     ]
    },
    {
     "name": "stdout",
     "output_type": "stream",
     "text": [
      "pred_output shape: torch.Size([64, 1])\n"
     ]
    },
    {
     "name": "stdout",
     "output_type": "stream",
     "text": [
      "pred_output shape: torch.Size([64, 1])\n"
     ]
    },
    {
     "name": "stdout",
     "output_type": "stream",
     "text": [
      "pred_output shape: torch.Size([64, 1])\n"
     ]
    },
    {
     "name": "stdout",
     "output_type": "stream",
     "text": [
      "pred_output shape: torch.Size([64, 1])\n"
     ]
    },
    {
     "name": "stdout",
     "output_type": "stream",
     "text": [
      "pred_output shape: torch.Size([64, 1])\n"
     ]
    },
    {
     "name": "stdout",
     "output_type": "stream",
     "text": [
      "pred_output shape: torch.Size([64, 1])\n"
     ]
    },
    {
     "name": "stdout",
     "output_type": "stream",
     "text": [
      "pred_output shape: torch.Size([64, 1])\n"
     ]
    },
    {
     "name": "stdout",
     "output_type": "stream",
     "text": [
      "pred_output shape: torch.Size([9, 1])\n"
     ]
    },
    {
     "name": "stdout",
     "output_type": "stream",
     "text": [
      "running epoch: 5\n"
     ]
    },
    {
     "name": "stdout",
     "output_type": "stream",
     "text": [
      "pred_output shape: torch.Size([64, 1])\n"
     ]
    },
    {
     "name": "stdout",
     "output_type": "stream",
     "text": [
      "pred_output shape: torch.Size([64, 1])\n"
     ]
    },
    {
     "name": "stdout",
     "output_type": "stream",
     "text": [
      "pred_output shape: torch.Size([64, 1])\n"
     ]
    },
    {
     "name": "stdout",
     "output_type": "stream",
     "text": [
      "pred_output shape: torch.Size([64, 1])\n"
     ]
    },
    {
     "name": "stdout",
     "output_type": "stream",
     "text": [
      "pred_output shape: torch.Size([64, 1])\n"
     ]
    },
    {
     "name": "stdout",
     "output_type": "stream",
     "text": [
      "pred_output shape: torch.Size([64, 1])\n"
     ]
    },
    {
     "name": "stdout",
     "output_type": "stream",
     "text": [
      "pred_output shape: torch.Size([64, 1])\n"
     ]
    },
    {
     "name": "stdout",
     "output_type": "stream",
     "text": [
      "pred_output shape: torch.Size([64, 1])\n"
     ]
    },
    {
     "name": "stdout",
     "output_type": "stream",
     "text": [
      "pred_output shape: torch.Size([64, 1])\n"
     ]
    },
    {
     "name": "stdout",
     "output_type": "stream",
     "text": [
      "pred_output shape: torch.Size([64, 1])\n"
     ]
    },
    {
     "name": "stdout",
     "output_type": "stream",
     "text": [
      "pred_output shape: torch.Size([64, 1])\n"
     ]
    },
    {
     "name": "stdout",
     "output_type": "stream",
     "text": [
      "pred_output shape: torch.Size([64, 1])\n"
     ]
    },
    {
     "name": "stdout",
     "output_type": "stream",
     "text": [
      "pred_output shape: torch.Size([64, 1])\n"
     ]
    },
    {
     "name": "stdout",
     "output_type": "stream",
     "text": [
      "pred_output shape: torch.Size([64, 1])\n"
     ]
    },
    {
     "name": "stdout",
     "output_type": "stream",
     "text": [
      "pred_output shape: torch.Size([64, 1])\n"
     ]
    },
    {
     "name": "stdout",
     "output_type": "stream",
     "text": [
      "pred_output shape: torch.Size([64, 1])\n"
     ]
    },
    {
     "name": "stdout",
     "output_type": "stream",
     "text": [
      "pred_output shape: torch.Size([64, 1])\n"
     ]
    },
    {
     "name": "stdout",
     "output_type": "stream",
     "text": [
      "pred_output shape: torch.Size([64, 1])\n"
     ]
    },
    {
     "name": "stdout",
     "output_type": "stream",
     "text": [
      "pred_output shape: torch.Size([64, 1])\n"
     ]
    },
    {
     "name": "stdout",
     "output_type": "stream",
     "text": [
      "pred_output shape: torch.Size([64, 1])\n"
     ]
    },
    {
     "name": "stdout",
     "output_type": "stream",
     "text": [
      "pred_output shape: torch.Size([64, 1])\n"
     ]
    },
    {
     "name": "stdout",
     "output_type": "stream",
     "text": [
      "pred_output shape: torch.Size([64, 1])\n"
     ]
    },
    {
     "name": "stdout",
     "output_type": "stream",
     "text": [
      "pred_output shape: torch.Size([64, 1])\n"
     ]
    },
    {
     "name": "stdout",
     "output_type": "stream",
     "text": [
      "pred_output shape: torch.Size([64, 1])\n"
     ]
    },
    {
     "name": "stdout",
     "output_type": "stream",
     "text": [
      "pred_output shape: torch.Size([64, 1])\n"
     ]
    },
    {
     "name": "stdout",
     "output_type": "stream",
     "text": [
      "pred_output shape: torch.Size([64, 1])\n"
     ]
    },
    {
     "name": "stdout",
     "output_type": "stream",
     "text": [
      "pred_output shape: torch.Size([64, 1])\n"
     ]
    },
    {
     "name": "stdout",
     "output_type": "stream",
     "text": [
      "pred_output shape: torch.Size([64, 1])\n"
     ]
    },
    {
     "name": "stdout",
     "output_type": "stream",
     "text": [
      "pred_output shape: torch.Size([64, 1])\n"
     ]
    },
    {
     "name": "stdout",
     "output_type": "stream",
     "text": [
      "pred_output shape: torch.Size([9, 1])\n"
     ]
    },
    {
     "name": "stdout",
     "output_type": "stream",
     "text": [
      "running epoch: 6\n"
     ]
    },
    {
     "name": "stdout",
     "output_type": "stream",
     "text": [
      "pred_output shape: torch.Size([64, 1])\n"
     ]
    },
    {
     "name": "stdout",
     "output_type": "stream",
     "text": [
      "pred_output shape: torch.Size([64, 1])\n"
     ]
    },
    {
     "name": "stdout",
     "output_type": "stream",
     "text": [
      "pred_output shape: torch.Size([64, 1])\n"
     ]
    },
    {
     "name": "stdout",
     "output_type": "stream",
     "text": [
      "pred_output shape: torch.Size([64, 1])\n"
     ]
    },
    {
     "name": "stdout",
     "output_type": "stream",
     "text": [
      "pred_output shape: torch.Size([64, 1])\n"
     ]
    },
    {
     "name": "stdout",
     "output_type": "stream",
     "text": [
      "pred_output shape: torch.Size([64, 1])\n"
     ]
    },
    {
     "name": "stdout",
     "output_type": "stream",
     "text": [
      "pred_output shape: torch.Size([64, 1])\n"
     ]
    },
    {
     "name": "stdout",
     "output_type": "stream",
     "text": [
      "pred_output shape: torch.Size([64, 1])\n"
     ]
    },
    {
     "name": "stdout",
     "output_type": "stream",
     "text": [
      "pred_output shape: torch.Size([64, 1])\n"
     ]
    },
    {
     "name": "stdout",
     "output_type": "stream",
     "text": [
      "pred_output shape: torch.Size([64, 1])\n"
     ]
    },
    {
     "name": "stdout",
     "output_type": "stream",
     "text": [
      "pred_output shape: torch.Size([64, 1])\n"
     ]
    },
    {
     "name": "stdout",
     "output_type": "stream",
     "text": [
      "pred_output shape: torch.Size([64, 1])\n"
     ]
    },
    {
     "name": "stdout",
     "output_type": "stream",
     "text": [
      "pred_output shape: torch.Size([64, 1])\n"
     ]
    },
    {
     "name": "stdout",
     "output_type": "stream",
     "text": [
      "pred_output shape: torch.Size([64, 1])\n"
     ]
    },
    {
     "name": "stdout",
     "output_type": "stream",
     "text": [
      "pred_output shape: torch.Size([64, 1])\n"
     ]
    },
    {
     "name": "stdout",
     "output_type": "stream",
     "text": [
      "pred_output shape: torch.Size([64, 1])\n"
     ]
    },
    {
     "name": "stdout",
     "output_type": "stream",
     "text": [
      "pred_output shape: torch.Size([64, 1])\n"
     ]
    },
    {
     "name": "stdout",
     "output_type": "stream",
     "text": [
      "pred_output shape: torch.Size([64, 1])\n"
     ]
    },
    {
     "name": "stdout",
     "output_type": "stream",
     "text": [
      "pred_output shape: torch.Size([64, 1])\n"
     ]
    },
    {
     "name": "stdout",
     "output_type": "stream",
     "text": [
      "pred_output shape: torch.Size([64, 1])\n"
     ]
    },
    {
     "name": "stdout",
     "output_type": "stream",
     "text": [
      "pred_output shape: torch.Size([64, 1])\n"
     ]
    },
    {
     "name": "stdout",
     "output_type": "stream",
     "text": [
      "pred_output shape: torch.Size([64, 1])\n"
     ]
    },
    {
     "name": "stdout",
     "output_type": "stream",
     "text": [
      "pred_output shape: torch.Size([64, 1])\n"
     ]
    },
    {
     "name": "stdout",
     "output_type": "stream",
     "text": [
      "pred_output shape: torch.Size([64, 1])\n"
     ]
    },
    {
     "name": "stdout",
     "output_type": "stream",
     "text": [
      "pred_output shape: torch.Size([64, 1])\n"
     ]
    },
    {
     "name": "stdout",
     "output_type": "stream",
     "text": [
      "pred_output shape: torch.Size([64, 1])\n"
     ]
    },
    {
     "name": "stdout",
     "output_type": "stream",
     "text": [
      "pred_output shape: torch.Size([64, 1])\n"
     ]
    },
    {
     "name": "stdout",
     "output_type": "stream",
     "text": [
      "pred_output shape: torch.Size([64, 1])\n"
     ]
    },
    {
     "name": "stdout",
     "output_type": "stream",
     "text": [
      "pred_output shape: torch.Size([64, 1])\n"
     ]
    },
    {
     "name": "stdout",
     "output_type": "stream",
     "text": [
      "pred_output shape: torch.Size([9, 1])\n"
     ]
    },
    {
     "name": "stdout",
     "output_type": "stream",
     "text": [
      "running epoch: 7\n"
     ]
    },
    {
     "name": "stdout",
     "output_type": "stream",
     "text": [
      "pred_output shape: torch.Size([64, 1])\n"
     ]
    },
    {
     "name": "stdout",
     "output_type": "stream",
     "text": [
      "pred_output shape: torch.Size([64, 1])\n"
     ]
    },
    {
     "name": "stdout",
     "output_type": "stream",
     "text": [
      "pred_output shape: torch.Size([64, 1])\n"
     ]
    },
    {
     "name": "stdout",
     "output_type": "stream",
     "text": [
      "pred_output shape: torch.Size([64, 1])\n"
     ]
    },
    {
     "name": "stdout",
     "output_type": "stream",
     "text": [
      "pred_output shape: torch.Size([64, 1])\n"
     ]
    },
    {
     "name": "stdout",
     "output_type": "stream",
     "text": [
      "pred_output shape: torch.Size([64, 1])\n"
     ]
    },
    {
     "name": "stdout",
     "output_type": "stream",
     "text": [
      "pred_output shape: torch.Size([64, 1])\n"
     ]
    },
    {
     "name": "stdout",
     "output_type": "stream",
     "text": [
      "pred_output shape: torch.Size([64, 1])\n"
     ]
    },
    {
     "name": "stdout",
     "output_type": "stream",
     "text": [
      "pred_output shape: torch.Size([64, 1])\n"
     ]
    },
    {
     "name": "stdout",
     "output_type": "stream",
     "text": [
      "pred_output shape: torch.Size([64, 1])\n"
     ]
    },
    {
     "name": "stdout",
     "output_type": "stream",
     "text": [
      "pred_output shape: torch.Size([64, 1])\n"
     ]
    },
    {
     "name": "stdout",
     "output_type": "stream",
     "text": [
      "pred_output shape: torch.Size([64, 1])\n"
     ]
    },
    {
     "name": "stdout",
     "output_type": "stream",
     "text": [
      "pred_output shape: torch.Size([64, 1])\n"
     ]
    },
    {
     "name": "stdout",
     "output_type": "stream",
     "text": [
      "pred_output shape: torch.Size([64, 1])\n"
     ]
    },
    {
     "name": "stdout",
     "output_type": "stream",
     "text": [
      "pred_output shape: torch.Size([64, 1])\n"
     ]
    },
    {
     "name": "stdout",
     "output_type": "stream",
     "text": [
      "pred_output shape: torch.Size([64, 1])\n"
     ]
    },
    {
     "name": "stdout",
     "output_type": "stream",
     "text": [
      "pred_output shape: torch.Size([64, 1])\n"
     ]
    },
    {
     "name": "stdout",
     "output_type": "stream",
     "text": [
      "pred_output shape: torch.Size([64, 1])\n"
     ]
    },
    {
     "name": "stdout",
     "output_type": "stream",
     "text": [
      "pred_output shape: torch.Size([64, 1])\n"
     ]
    },
    {
     "name": "stdout",
     "output_type": "stream",
     "text": [
      "pred_output shape: torch.Size([64, 1])\n"
     ]
    },
    {
     "name": "stdout",
     "output_type": "stream",
     "text": [
      "pred_output shape: torch.Size([64, 1])\n"
     ]
    },
    {
     "name": "stdout",
     "output_type": "stream",
     "text": [
      "pred_output shape: torch.Size([64, 1])\n"
     ]
    },
    {
     "name": "stdout",
     "output_type": "stream",
     "text": [
      "pred_output shape: torch.Size([64, 1])\n"
     ]
    },
    {
     "name": "stdout",
     "output_type": "stream",
     "text": [
      "pred_output shape: torch.Size([64, 1])\n"
     ]
    },
    {
     "name": "stdout",
     "output_type": "stream",
     "text": [
      "pred_output shape: torch.Size([64, 1])\n"
     ]
    },
    {
     "name": "stdout",
     "output_type": "stream",
     "text": [
      "pred_output shape: torch.Size([64, 1])\n"
     ]
    },
    {
     "name": "stdout",
     "output_type": "stream",
     "text": [
      "pred_output shape: torch.Size([64, 1])\n"
     ]
    },
    {
     "name": "stdout",
     "output_type": "stream",
     "text": [
      "pred_output shape: torch.Size([64, 1])\n"
     ]
    },
    {
     "name": "stdout",
     "output_type": "stream",
     "text": [
      "pred_output shape: torch.Size([64, 1])\n"
     ]
    },
    {
     "name": "stdout",
     "output_type": "stream",
     "text": [
      "pred_output shape: torch.Size([9, 1])\n"
     ]
    },
    {
     "name": "stdout",
     "output_type": "stream",
     "text": [
      "running epoch: 8\n"
     ]
    },
    {
     "name": "stdout",
     "output_type": "stream",
     "text": [
      "pred_output shape: torch.Size([64, 1])\n"
     ]
    },
    {
     "name": "stdout",
     "output_type": "stream",
     "text": [
      "pred_output shape: torch.Size([64, 1])\n"
     ]
    },
    {
     "name": "stdout",
     "output_type": "stream",
     "text": [
      "pred_output shape: torch.Size([64, 1])\n"
     ]
    },
    {
     "name": "stdout",
     "output_type": "stream",
     "text": [
      "pred_output shape: torch.Size([64, 1])\n"
     ]
    },
    {
     "name": "stdout",
     "output_type": "stream",
     "text": [
      "pred_output shape: torch.Size([64, 1])\n"
     ]
    },
    {
     "name": "stdout",
     "output_type": "stream",
     "text": [
      "pred_output shape: torch.Size([64, 1])\n"
     ]
    },
    {
     "name": "stdout",
     "output_type": "stream",
     "text": [
      "pred_output shape: torch.Size([64, 1])\n"
     ]
    },
    {
     "name": "stdout",
     "output_type": "stream",
     "text": [
      "pred_output shape: torch.Size([64, 1])\n"
     ]
    },
    {
     "name": "stdout",
     "output_type": "stream",
     "text": [
      "pred_output shape: torch.Size([64, 1])\n"
     ]
    },
    {
     "name": "stdout",
     "output_type": "stream",
     "text": [
      "pred_output shape: torch.Size([64, 1])\n"
     ]
    },
    {
     "name": "stdout",
     "output_type": "stream",
     "text": [
      "pred_output shape: torch.Size([64, 1])\n"
     ]
    },
    {
     "name": "stdout",
     "output_type": "stream",
     "text": [
      "pred_output shape: torch.Size([64, 1])\n"
     ]
    },
    {
     "name": "stdout",
     "output_type": "stream",
     "text": [
      "pred_output shape: torch.Size([64, 1])\n"
     ]
    },
    {
     "name": "stdout",
     "output_type": "stream",
     "text": [
      "pred_output shape: torch.Size([64, 1])\n"
     ]
    },
    {
     "name": "stdout",
     "output_type": "stream",
     "text": [
      "pred_output shape: torch.Size([64, 1])\n"
     ]
    },
    {
     "name": "stdout",
     "output_type": "stream",
     "text": [
      "pred_output shape: torch.Size([64, 1])\n"
     ]
    },
    {
     "name": "stdout",
     "output_type": "stream",
     "text": [
      "pred_output shape: torch.Size([64, 1])\n"
     ]
    },
    {
     "name": "stdout",
     "output_type": "stream",
     "text": [
      "pred_output shape: torch.Size([64, 1])\n"
     ]
    },
    {
     "name": "stdout",
     "output_type": "stream",
     "text": [
      "pred_output shape: torch.Size([64, 1])\n"
     ]
    },
    {
     "name": "stdout",
     "output_type": "stream",
     "text": [
      "pred_output shape: torch.Size([64, 1])\n"
     ]
    },
    {
     "name": "stdout",
     "output_type": "stream",
     "text": [
      "pred_output shape: torch.Size([64, 1])\n"
     ]
    },
    {
     "name": "stdout",
     "output_type": "stream",
     "text": [
      "pred_output shape: torch.Size([64, 1])\n"
     ]
    },
    {
     "name": "stdout",
     "output_type": "stream",
     "text": [
      "pred_output shape: torch.Size([64, 1])\n"
     ]
    },
    {
     "name": "stdout",
     "output_type": "stream",
     "text": [
      "pred_output shape: torch.Size([64, 1])\n"
     ]
    },
    {
     "name": "stdout",
     "output_type": "stream",
     "text": [
      "pred_output shape: torch.Size([64, 1])\n"
     ]
    },
    {
     "name": "stdout",
     "output_type": "stream",
     "text": [
      "pred_output shape: torch.Size([64, 1])\n"
     ]
    },
    {
     "name": "stdout",
     "output_type": "stream",
     "text": [
      "pred_output shape: torch.Size([64, 1])\n"
     ]
    },
    {
     "name": "stdout",
     "output_type": "stream",
     "text": [
      "pred_output shape: torch.Size([64, 1])\n"
     ]
    },
    {
     "name": "stdout",
     "output_type": "stream",
     "text": [
      "pred_output shape: torch.Size([64, 1])\n"
     ]
    },
    {
     "name": "stdout",
     "output_type": "stream",
     "text": [
      "pred_output shape: torch.Size([9, 1])\n"
     ]
    },
    {
     "name": "stdout",
     "output_type": "stream",
     "text": [
      "running epoch: 9\n"
     ]
    },
    {
     "name": "stdout",
     "output_type": "stream",
     "text": [
      "pred_output shape: torch.Size([64, 1])\n"
     ]
    },
    {
     "name": "stdout",
     "output_type": "stream",
     "text": [
      "pred_output shape: torch.Size([64, 1])\n"
     ]
    },
    {
     "name": "stdout",
     "output_type": "stream",
     "text": [
      "pred_output shape: torch.Size([64, 1])\n"
     ]
    },
    {
     "name": "stdout",
     "output_type": "stream",
     "text": [
      "pred_output shape: torch.Size([64, 1])\n"
     ]
    },
    {
     "name": "stdout",
     "output_type": "stream",
     "text": [
      "pred_output shape: torch.Size([64, 1])\n"
     ]
    },
    {
     "name": "stdout",
     "output_type": "stream",
     "text": [
      "pred_output shape: torch.Size([64, 1])\n"
     ]
    },
    {
     "name": "stdout",
     "output_type": "stream",
     "text": [
      "pred_output shape: torch.Size([64, 1])\n"
     ]
    },
    {
     "name": "stdout",
     "output_type": "stream",
     "text": [
      "pred_output shape: torch.Size([64, 1])\n"
     ]
    },
    {
     "name": "stdout",
     "output_type": "stream",
     "text": [
      "pred_output shape: torch.Size([64, 1])\n"
     ]
    },
    {
     "name": "stdout",
     "output_type": "stream",
     "text": [
      "pred_output shape: torch.Size([64, 1])\n"
     ]
    },
    {
     "name": "stdout",
     "output_type": "stream",
     "text": [
      "pred_output shape: torch.Size([64, 1])\n"
     ]
    },
    {
     "name": "stdout",
     "output_type": "stream",
     "text": [
      "pred_output shape: torch.Size([64, 1])\n"
     ]
    },
    {
     "name": "stdout",
     "output_type": "stream",
     "text": [
      "pred_output shape: torch.Size([64, 1])\n"
     ]
    },
    {
     "name": "stdout",
     "output_type": "stream",
     "text": [
      "pred_output shape: torch.Size([64, 1])\n"
     ]
    },
    {
     "name": "stdout",
     "output_type": "stream",
     "text": [
      "pred_output shape: torch.Size([64, 1])\n"
     ]
    },
    {
     "name": "stdout",
     "output_type": "stream",
     "text": [
      "pred_output shape: torch.Size([64, 1])\n"
     ]
    },
    {
     "name": "stdout",
     "output_type": "stream",
     "text": [
      "pred_output shape: torch.Size([64, 1])\n"
     ]
    },
    {
     "name": "stdout",
     "output_type": "stream",
     "text": [
      "pred_output shape: torch.Size([64, 1])\n"
     ]
    },
    {
     "name": "stdout",
     "output_type": "stream",
     "text": [
      "pred_output shape: torch.Size([64, 1])\n"
     ]
    },
    {
     "name": "stdout",
     "output_type": "stream",
     "text": [
      "pred_output shape: torch.Size([64, 1])\n"
     ]
    },
    {
     "name": "stdout",
     "output_type": "stream",
     "text": [
      "pred_output shape: torch.Size([64, 1])\n"
     ]
    },
    {
     "name": "stdout",
     "output_type": "stream",
     "text": [
      "pred_output shape: torch.Size([64, 1])\n"
     ]
    },
    {
     "name": "stdout",
     "output_type": "stream",
     "text": [
      "pred_output shape: torch.Size([64, 1])\n"
     ]
    },
    {
     "name": "stdout",
     "output_type": "stream",
     "text": [
      "pred_output shape: torch.Size([64, 1])\n"
     ]
    },
    {
     "name": "stdout",
     "output_type": "stream",
     "text": [
      "pred_output shape: torch.Size([64, 1])\n"
     ]
    },
    {
     "name": "stdout",
     "output_type": "stream",
     "text": [
      "pred_output shape: torch.Size([64, 1])\n"
     ]
    },
    {
     "name": "stdout",
     "output_type": "stream",
     "text": [
      "pred_output shape: torch.Size([64, 1])\n"
     ]
    },
    {
     "name": "stdout",
     "output_type": "stream",
     "text": [
      "pred_output shape: torch.Size([64, 1])\n"
     ]
    },
    {
     "name": "stdout",
     "output_type": "stream",
     "text": [
      "pred_output shape: torch.Size([64, 1])\n"
     ]
    },
    {
     "name": "stdout",
     "output_type": "stream",
     "text": [
      "pred_output shape: torch.Size([9, 1])\n"
     ]
    },
    {
     "name": "stdout",
     "output_type": "stream",
     "text": [
      "running epoch: 10\n"
     ]
    },
    {
     "name": "stdout",
     "output_type": "stream",
     "text": [
      "pred_output shape: torch.Size([64, 1])\n"
     ]
    },
    {
     "name": "stdout",
     "output_type": "stream",
     "text": [
      "pred_output shape: torch.Size([64, 1])\n"
     ]
    },
    {
     "name": "stdout",
     "output_type": "stream",
     "text": [
      "pred_output shape: torch.Size([64, 1])\n"
     ]
    },
    {
     "name": "stdout",
     "output_type": "stream",
     "text": [
      "pred_output shape: torch.Size([64, 1])\n"
     ]
    },
    {
     "name": "stdout",
     "output_type": "stream",
     "text": [
      "pred_output shape: torch.Size([64, 1])\n"
     ]
    },
    {
     "name": "stdout",
     "output_type": "stream",
     "text": [
      "pred_output shape: torch.Size([64, 1])\n"
     ]
    },
    {
     "name": "stdout",
     "output_type": "stream",
     "text": [
      "pred_output shape: torch.Size([64, 1])\n"
     ]
    },
    {
     "name": "stdout",
     "output_type": "stream",
     "text": [
      "pred_output shape: torch.Size([64, 1])\n"
     ]
    },
    {
     "name": "stdout",
     "output_type": "stream",
     "text": [
      "pred_output shape: torch.Size([64, 1])\n"
     ]
    },
    {
     "name": "stdout",
     "output_type": "stream",
     "text": [
      "pred_output shape: torch.Size([64, 1])\n"
     ]
    },
    {
     "name": "stdout",
     "output_type": "stream",
     "text": [
      "pred_output shape: torch.Size([64, 1])\n"
     ]
    },
    {
     "name": "stdout",
     "output_type": "stream",
     "text": [
      "pred_output shape: torch.Size([64, 1])\n"
     ]
    },
    {
     "name": "stdout",
     "output_type": "stream",
     "text": [
      "pred_output shape: torch.Size([64, 1])\n"
     ]
    },
    {
     "name": "stdout",
     "output_type": "stream",
     "text": [
      "pred_output shape: torch.Size([64, 1])\n"
     ]
    },
    {
     "name": "stdout",
     "output_type": "stream",
     "text": [
      "pred_output shape: torch.Size([64, 1])\n"
     ]
    },
    {
     "name": "stdout",
     "output_type": "stream",
     "text": [
      "pred_output shape: torch.Size([64, 1])\n"
     ]
    },
    {
     "name": "stdout",
     "output_type": "stream",
     "text": [
      "pred_output shape: torch.Size([64, 1])\n"
     ]
    },
    {
     "name": "stdout",
     "output_type": "stream",
     "text": [
      "pred_output shape: torch.Size([64, 1])\n"
     ]
    },
    {
     "name": "stdout",
     "output_type": "stream",
     "text": [
      "pred_output shape: torch.Size([64, 1])\n"
     ]
    },
    {
     "name": "stdout",
     "output_type": "stream",
     "text": [
      "pred_output shape: torch.Size([64, 1])\n"
     ]
    },
    {
     "name": "stdout",
     "output_type": "stream",
     "text": [
      "pred_output shape: torch.Size([64, 1])\n"
     ]
    },
    {
     "name": "stdout",
     "output_type": "stream",
     "text": [
      "pred_output shape: torch.Size([64, 1])\n"
     ]
    },
    {
     "name": "stdout",
     "output_type": "stream",
     "text": [
      "pred_output shape: torch.Size([64, 1])\n"
     ]
    },
    {
     "name": "stdout",
     "output_type": "stream",
     "text": [
      "pred_output shape: torch.Size([64, 1])\n"
     ]
    },
    {
     "name": "stdout",
     "output_type": "stream",
     "text": [
      "pred_output shape: torch.Size([64, 1])\n"
     ]
    },
    {
     "name": "stdout",
     "output_type": "stream",
     "text": [
      "pred_output shape: torch.Size([64, 1])\n"
     ]
    },
    {
     "name": "stdout",
     "output_type": "stream",
     "text": [
      "pred_output shape: torch.Size([64, 1])\n"
     ]
    },
    {
     "name": "stdout",
     "output_type": "stream",
     "text": [
      "pred_output shape: torch.Size([64, 1])\n"
     ]
    },
    {
     "name": "stdout",
     "output_type": "stream",
     "text": [
      "pred_output shape: torch.Size([64, 1])\n"
     ]
    },
    {
     "name": "stdout",
     "output_type": "stream",
     "text": [
      "pred_output shape: torch.Size([9, 1])\n"
     ]
    },
    {
     "name": "stdout",
     "output_type": "stream",
     "text": [
      "running epoch: 11\n"
     ]
    },
    {
     "name": "stdout",
     "output_type": "stream",
     "text": [
      "pred_output shape: torch.Size([64, 1])\n"
     ]
    },
    {
     "name": "stdout",
     "output_type": "stream",
     "text": [
      "pred_output shape: torch.Size([64, 1])\n"
     ]
    },
    {
     "name": "stdout",
     "output_type": "stream",
     "text": [
      "pred_output shape: torch.Size([64, 1])\n"
     ]
    },
    {
     "name": "stdout",
     "output_type": "stream",
     "text": [
      "pred_output shape: torch.Size([64, 1])\n"
     ]
    },
    {
     "name": "stdout",
     "output_type": "stream",
     "text": [
      "pred_output shape: torch.Size([64, 1])\n"
     ]
    },
    {
     "name": "stdout",
     "output_type": "stream",
     "text": [
      "pred_output shape: torch.Size([64, 1])\n"
     ]
    },
    {
     "name": "stdout",
     "output_type": "stream",
     "text": [
      "pred_output shape: torch.Size([64, 1])\n"
     ]
    },
    {
     "name": "stdout",
     "output_type": "stream",
     "text": [
      "pred_output shape: torch.Size([64, 1])\n"
     ]
    },
    {
     "name": "stdout",
     "output_type": "stream",
     "text": [
      "pred_output shape: torch.Size([64, 1])\n"
     ]
    },
    {
     "name": "stdout",
     "output_type": "stream",
     "text": [
      "pred_output shape: torch.Size([64, 1])\n"
     ]
    },
    {
     "name": "stdout",
     "output_type": "stream",
     "text": [
      "pred_output shape: torch.Size([64, 1])\n"
     ]
    },
    {
     "name": "stdout",
     "output_type": "stream",
     "text": [
      "pred_output shape: torch.Size([64, 1])\n"
     ]
    },
    {
     "name": "stdout",
     "output_type": "stream",
     "text": [
      "pred_output shape: torch.Size([64, 1])\n"
     ]
    },
    {
     "name": "stdout",
     "output_type": "stream",
     "text": [
      "pred_output shape: torch.Size([64, 1])\n"
     ]
    },
    {
     "name": "stdout",
     "output_type": "stream",
     "text": [
      "pred_output shape: torch.Size([64, 1])\n"
     ]
    },
    {
     "name": "stdout",
     "output_type": "stream",
     "text": [
      "pred_output shape: torch.Size([64, 1])\n"
     ]
    },
    {
     "name": "stdout",
     "output_type": "stream",
     "text": [
      "pred_output shape: torch.Size([64, 1])\n"
     ]
    },
    {
     "name": "stdout",
     "output_type": "stream",
     "text": [
      "pred_output shape: torch.Size([64, 1])\n"
     ]
    },
    {
     "name": "stdout",
     "output_type": "stream",
     "text": [
      "pred_output shape: torch.Size([64, 1])\n"
     ]
    },
    {
     "name": "stdout",
     "output_type": "stream",
     "text": [
      "pred_output shape: torch.Size([64, 1])\n"
     ]
    },
    {
     "name": "stdout",
     "output_type": "stream",
     "text": [
      "pred_output shape: torch.Size([64, 1])\n"
     ]
    },
    {
     "name": "stdout",
     "output_type": "stream",
     "text": [
      "pred_output shape: torch.Size([64, 1])\n"
     ]
    },
    {
     "name": "stdout",
     "output_type": "stream",
     "text": [
      "pred_output shape: torch.Size([64, 1])\n"
     ]
    },
    {
     "name": "stdout",
     "output_type": "stream",
     "text": [
      "pred_output shape: torch.Size([64, 1])\n"
     ]
    },
    {
     "name": "stdout",
     "output_type": "stream",
     "text": [
      "pred_output shape: torch.Size([64, 1])\n"
     ]
    },
    {
     "name": "stdout",
     "output_type": "stream",
     "text": [
      "pred_output shape: torch.Size([64, 1])\n"
     ]
    },
    {
     "name": "stdout",
     "output_type": "stream",
     "text": [
      "pred_output shape: torch.Size([64, 1])\n"
     ]
    },
    {
     "name": "stdout",
     "output_type": "stream",
     "text": [
      "pred_output shape: torch.Size([64, 1])\n"
     ]
    },
    {
     "name": "stdout",
     "output_type": "stream",
     "text": [
      "pred_output shape: torch.Size([64, 1])\n"
     ]
    },
    {
     "name": "stdout",
     "output_type": "stream",
     "text": [
      "pred_output shape: torch.Size([9, 1])\n"
     ]
    },
    {
     "name": "stdout",
     "output_type": "stream",
     "text": [
      "running epoch: 12\n"
     ]
    },
    {
     "name": "stdout",
     "output_type": "stream",
     "text": [
      "pred_output shape: torch.Size([64, 1])\n"
     ]
    },
    {
     "name": "stdout",
     "output_type": "stream",
     "text": [
      "pred_output shape: torch.Size([64, 1])\n"
     ]
    },
    {
     "name": "stdout",
     "output_type": "stream",
     "text": [
      "pred_output shape: torch.Size([64, 1])\n"
     ]
    },
    {
     "name": "stdout",
     "output_type": "stream",
     "text": [
      "pred_output shape: torch.Size([64, 1])\n"
     ]
    },
    {
     "name": "stdout",
     "output_type": "stream",
     "text": [
      "pred_output shape: torch.Size([64, 1])\n"
     ]
    },
    {
     "name": "stdout",
     "output_type": "stream",
     "text": [
      "pred_output shape: torch.Size([64, 1])\n"
     ]
    },
    {
     "name": "stdout",
     "output_type": "stream",
     "text": [
      "pred_output shape: torch.Size([64, 1])\n"
     ]
    },
    {
     "name": "stdout",
     "output_type": "stream",
     "text": [
      "pred_output shape: torch.Size([64, 1])\n"
     ]
    },
    {
     "name": "stdout",
     "output_type": "stream",
     "text": [
      "pred_output shape: torch.Size([64, 1])\n"
     ]
    },
    {
     "name": "stdout",
     "output_type": "stream",
     "text": [
      "pred_output shape: torch.Size([64, 1])\n"
     ]
    },
    {
     "name": "stdout",
     "output_type": "stream",
     "text": [
      "pred_output shape: torch.Size([64, 1])\n"
     ]
    },
    {
     "name": "stdout",
     "output_type": "stream",
     "text": [
      "pred_output shape: torch.Size([64, 1])\n"
     ]
    },
    {
     "name": "stdout",
     "output_type": "stream",
     "text": [
      "pred_output shape: torch.Size([64, 1])\n"
     ]
    },
    {
     "name": "stdout",
     "output_type": "stream",
     "text": [
      "pred_output shape: torch.Size([64, 1])\n"
     ]
    },
    {
     "name": "stdout",
     "output_type": "stream",
     "text": [
      "pred_output shape: torch.Size([64, 1])\n"
     ]
    },
    {
     "name": "stdout",
     "output_type": "stream",
     "text": [
      "pred_output shape: torch.Size([64, 1])\n"
     ]
    },
    {
     "name": "stdout",
     "output_type": "stream",
     "text": [
      "pred_output shape: torch.Size([64, 1])\n"
     ]
    },
    {
     "name": "stdout",
     "output_type": "stream",
     "text": [
      "pred_output shape: torch.Size([64, 1])\n"
     ]
    },
    {
     "name": "stdout",
     "output_type": "stream",
     "text": [
      "pred_output shape: torch.Size([64, 1])\n"
     ]
    },
    {
     "name": "stdout",
     "output_type": "stream",
     "text": [
      "pred_output shape: torch.Size([64, 1])\n"
     ]
    },
    {
     "name": "stdout",
     "output_type": "stream",
     "text": [
      "pred_output shape: torch.Size([64, 1])\n"
     ]
    },
    {
     "name": "stdout",
     "output_type": "stream",
     "text": [
      "pred_output shape: torch.Size([64, 1])\n"
     ]
    },
    {
     "name": "stdout",
     "output_type": "stream",
     "text": [
      "pred_output shape: torch.Size([64, 1])\n"
     ]
    },
    {
     "name": "stdout",
     "output_type": "stream",
     "text": [
      "pred_output shape: torch.Size([64, 1])\n"
     ]
    },
    {
     "name": "stdout",
     "output_type": "stream",
     "text": [
      "pred_output shape: torch.Size([64, 1])\n"
     ]
    },
    {
     "name": "stdout",
     "output_type": "stream",
     "text": [
      "pred_output shape: torch.Size([64, 1])\n"
     ]
    },
    {
     "name": "stdout",
     "output_type": "stream",
     "text": [
      "pred_output shape: torch.Size([64, 1])\n"
     ]
    },
    {
     "name": "stdout",
     "output_type": "stream",
     "text": [
      "pred_output shape: torch.Size([64, 1])\n"
     ]
    },
    {
     "name": "stdout",
     "output_type": "stream",
     "text": [
      "pred_output shape: torch.Size([64, 1])\n"
     ]
    },
    {
     "name": "stdout",
     "output_type": "stream",
     "text": [
      "pred_output shape: torch.Size([9, 1])\n"
     ]
    },
    {
     "name": "stdout",
     "output_type": "stream",
     "text": [
      "running epoch: 13\n"
     ]
    },
    {
     "name": "stdout",
     "output_type": "stream",
     "text": [
      "pred_output shape: torch.Size([64, 1])\n"
     ]
    },
    {
     "name": "stdout",
     "output_type": "stream",
     "text": [
      "pred_output shape: torch.Size([64, 1])\n"
     ]
    },
    {
     "name": "stdout",
     "output_type": "stream",
     "text": [
      "pred_output shape: torch.Size([64, 1])\n"
     ]
    },
    {
     "name": "stdout",
     "output_type": "stream",
     "text": [
      "pred_output shape: torch.Size([64, 1])\n"
     ]
    },
    {
     "name": "stdout",
     "output_type": "stream",
     "text": [
      "pred_output shape: torch.Size([64, 1])\n"
     ]
    },
    {
     "name": "stdout",
     "output_type": "stream",
     "text": [
      "pred_output shape: torch.Size([64, 1])\n"
     ]
    },
    {
     "name": "stdout",
     "output_type": "stream",
     "text": [
      "pred_output shape: torch.Size([64, 1])\n"
     ]
    },
    {
     "name": "stdout",
     "output_type": "stream",
     "text": [
      "pred_output shape: torch.Size([64, 1])\n"
     ]
    },
    {
     "name": "stdout",
     "output_type": "stream",
     "text": [
      "pred_output shape: torch.Size([64, 1])\n"
     ]
    },
    {
     "name": "stdout",
     "output_type": "stream",
     "text": [
      "pred_output shape: torch.Size([64, 1])\n"
     ]
    },
    {
     "name": "stdout",
     "output_type": "stream",
     "text": [
      "pred_output shape: torch.Size([64, 1])\n"
     ]
    },
    {
     "name": "stdout",
     "output_type": "stream",
     "text": [
      "pred_output shape: torch.Size([64, 1])\n"
     ]
    },
    {
     "name": "stdout",
     "output_type": "stream",
     "text": [
      "pred_output shape: torch.Size([64, 1])\n"
     ]
    },
    {
     "name": "stdout",
     "output_type": "stream",
     "text": [
      "pred_output shape: torch.Size([64, 1])\n"
     ]
    },
    {
     "name": "stdout",
     "output_type": "stream",
     "text": [
      "pred_output shape: torch.Size([64, 1])\n"
     ]
    },
    {
     "name": "stdout",
     "output_type": "stream",
     "text": [
      "pred_output shape: torch.Size([64, 1])\n"
     ]
    },
    {
     "name": "stdout",
     "output_type": "stream",
     "text": [
      "pred_output shape: torch.Size([64, 1])\n"
     ]
    },
    {
     "name": "stdout",
     "output_type": "stream",
     "text": [
      "pred_output shape: torch.Size([64, 1])\n"
     ]
    },
    {
     "name": "stdout",
     "output_type": "stream",
     "text": [
      "pred_output shape: torch.Size([64, 1])\n"
     ]
    },
    {
     "name": "stdout",
     "output_type": "stream",
     "text": [
      "pred_output shape: torch.Size([64, 1])\n"
     ]
    },
    {
     "name": "stdout",
     "output_type": "stream",
     "text": [
      "pred_output shape: torch.Size([64, 1])\n"
     ]
    },
    {
     "name": "stdout",
     "output_type": "stream",
     "text": [
      "pred_output shape: torch.Size([64, 1])\n"
     ]
    },
    {
     "name": "stdout",
     "output_type": "stream",
     "text": [
      "pred_output shape: torch.Size([64, 1])\n"
     ]
    },
    {
     "name": "stdout",
     "output_type": "stream",
     "text": [
      "pred_output shape: torch.Size([64, 1])\n"
     ]
    },
    {
     "name": "stdout",
     "output_type": "stream",
     "text": [
      "pred_output shape: torch.Size([64, 1])\n"
     ]
    },
    {
     "name": "stdout",
     "output_type": "stream",
     "text": [
      "pred_output shape: torch.Size([64, 1])\n"
     ]
    },
    {
     "name": "stdout",
     "output_type": "stream",
     "text": [
      "pred_output shape: torch.Size([64, 1])\n"
     ]
    },
    {
     "name": "stdout",
     "output_type": "stream",
     "text": [
      "pred_output shape: torch.Size([64, 1])\n"
     ]
    },
    {
     "name": "stdout",
     "output_type": "stream",
     "text": [
      "pred_output shape: torch.Size([64, 1])\n"
     ]
    },
    {
     "name": "stdout",
     "output_type": "stream",
     "text": [
      "pred_output shape: torch.Size([9, 1])\n"
     ]
    },
    {
     "name": "stdout",
     "output_type": "stream",
     "text": [
      "running epoch: 14\n"
     ]
    },
    {
     "name": "stdout",
     "output_type": "stream",
     "text": [
      "pred_output shape: torch.Size([64, 1])\n"
     ]
    },
    {
     "name": "stdout",
     "output_type": "stream",
     "text": [
      "pred_output shape: torch.Size([64, 1])\n"
     ]
    },
    {
     "name": "stdout",
     "output_type": "stream",
     "text": [
      "pred_output shape: torch.Size([64, 1])\n"
     ]
    },
    {
     "name": "stdout",
     "output_type": "stream",
     "text": [
      "pred_output shape: torch.Size([64, 1])\n"
     ]
    },
    {
     "name": "stdout",
     "output_type": "stream",
     "text": [
      "pred_output shape: torch.Size([64, 1])\n"
     ]
    },
    {
     "name": "stdout",
     "output_type": "stream",
     "text": [
      "pred_output shape: torch.Size([64, 1])\n"
     ]
    },
    {
     "name": "stdout",
     "output_type": "stream",
     "text": [
      "pred_output shape: torch.Size([64, 1])\n"
     ]
    },
    {
     "name": "stdout",
     "output_type": "stream",
     "text": [
      "pred_output shape: torch.Size([64, 1])\n"
     ]
    },
    {
     "name": "stdout",
     "output_type": "stream",
     "text": [
      "pred_output shape: torch.Size([64, 1])\n"
     ]
    },
    {
     "name": "stdout",
     "output_type": "stream",
     "text": [
      "pred_output shape: torch.Size([64, 1])\n"
     ]
    },
    {
     "name": "stdout",
     "output_type": "stream",
     "text": [
      "pred_output shape: torch.Size([64, 1])\n"
     ]
    },
    {
     "name": "stdout",
     "output_type": "stream",
     "text": [
      "pred_output shape: torch.Size([64, 1])\n"
     ]
    },
    {
     "name": "stdout",
     "output_type": "stream",
     "text": [
      "pred_output shape: torch.Size([64, 1])\n"
     ]
    },
    {
     "name": "stdout",
     "output_type": "stream",
     "text": [
      "pred_output shape: torch.Size([64, 1])\n"
     ]
    },
    {
     "name": "stdout",
     "output_type": "stream",
     "text": [
      "pred_output shape: torch.Size([64, 1])\n"
     ]
    },
    {
     "name": "stdout",
     "output_type": "stream",
     "text": [
      "pred_output shape: torch.Size([64, 1])\n"
     ]
    },
    {
     "name": "stdout",
     "output_type": "stream",
     "text": [
      "pred_output shape: torch.Size([64, 1])\n"
     ]
    },
    {
     "name": "stdout",
     "output_type": "stream",
     "text": [
      "pred_output shape: torch.Size([64, 1])\n"
     ]
    },
    {
     "name": "stdout",
     "output_type": "stream",
     "text": [
      "pred_output shape: torch.Size([64, 1])\n"
     ]
    },
    {
     "name": "stdout",
     "output_type": "stream",
     "text": [
      "pred_output shape: torch.Size([64, 1])\n"
     ]
    },
    {
     "name": "stdout",
     "output_type": "stream",
     "text": [
      "pred_output shape: torch.Size([64, 1])\n"
     ]
    },
    {
     "name": "stdout",
     "output_type": "stream",
     "text": [
      "pred_output shape: torch.Size([64, 1])\n"
     ]
    },
    {
     "name": "stdout",
     "output_type": "stream",
     "text": [
      "pred_output shape: torch.Size([64, 1])\n"
     ]
    },
    {
     "name": "stdout",
     "output_type": "stream",
     "text": [
      "pred_output shape: torch.Size([64, 1])\n"
     ]
    },
    {
     "name": "stdout",
     "output_type": "stream",
     "text": [
      "pred_output shape: torch.Size([64, 1])\n"
     ]
    },
    {
     "name": "stdout",
     "output_type": "stream",
     "text": [
      "pred_output shape: torch.Size([64, 1])\n"
     ]
    },
    {
     "name": "stdout",
     "output_type": "stream",
     "text": [
      "pred_output shape: torch.Size([64, 1])\n"
     ]
    },
    {
     "name": "stdout",
     "output_type": "stream",
     "text": [
      "pred_output shape: torch.Size([64, 1])\n"
     ]
    },
    {
     "name": "stdout",
     "output_type": "stream",
     "text": [
      "pred_output shape: torch.Size([64, 1])\n"
     ]
    },
    {
     "name": "stdout",
     "output_type": "stream",
     "text": [
      "pred_output shape: torch.Size([9, 1])\n"
     ]
    },
    {
     "name": "stdout",
     "output_type": "stream",
     "text": [
      "running epoch: 15\n"
     ]
    },
    {
     "name": "stdout",
     "output_type": "stream",
     "text": [
      "pred_output shape: torch.Size([64, 1])\n"
     ]
    },
    {
     "name": "stdout",
     "output_type": "stream",
     "text": [
      "pred_output shape: torch.Size([64, 1])\n"
     ]
    },
    {
     "name": "stdout",
     "output_type": "stream",
     "text": [
      "pred_output shape: torch.Size([64, 1])\n"
     ]
    },
    {
     "name": "stdout",
     "output_type": "stream",
     "text": [
      "pred_output shape: torch.Size([64, 1])\n"
     ]
    },
    {
     "name": "stdout",
     "output_type": "stream",
     "text": [
      "pred_output shape: torch.Size([64, 1])\n"
     ]
    },
    {
     "name": "stdout",
     "output_type": "stream",
     "text": [
      "pred_output shape: torch.Size([64, 1])\n"
     ]
    },
    {
     "name": "stdout",
     "output_type": "stream",
     "text": [
      "pred_output shape: torch.Size([64, 1])\n"
     ]
    },
    {
     "name": "stdout",
     "output_type": "stream",
     "text": [
      "pred_output shape: torch.Size([64, 1])\n"
     ]
    },
    {
     "name": "stdout",
     "output_type": "stream",
     "text": [
      "pred_output shape: torch.Size([64, 1])\n"
     ]
    },
    {
     "name": "stdout",
     "output_type": "stream",
     "text": [
      "pred_output shape: torch.Size([64, 1])\n"
     ]
    },
    {
     "name": "stdout",
     "output_type": "stream",
     "text": [
      "pred_output shape: torch.Size([64, 1])\n"
     ]
    },
    {
     "name": "stdout",
     "output_type": "stream",
     "text": [
      "pred_output shape: torch.Size([64, 1])\n"
     ]
    },
    {
     "name": "stdout",
     "output_type": "stream",
     "text": [
      "pred_output shape: torch.Size([64, 1])\n"
     ]
    },
    {
     "name": "stdout",
     "output_type": "stream",
     "text": [
      "pred_output shape: torch.Size([64, 1])\n"
     ]
    },
    {
     "name": "stdout",
     "output_type": "stream",
     "text": [
      "pred_output shape: torch.Size([64, 1])\n"
     ]
    },
    {
     "name": "stdout",
     "output_type": "stream",
     "text": [
      "pred_output shape: torch.Size([64, 1])\n"
     ]
    },
    {
     "name": "stdout",
     "output_type": "stream",
     "text": [
      "pred_output shape: torch.Size([64, 1])\n"
     ]
    },
    {
     "name": "stdout",
     "output_type": "stream",
     "text": [
      "pred_output shape: torch.Size([64, 1])\n"
     ]
    },
    {
     "name": "stdout",
     "output_type": "stream",
     "text": [
      "pred_output shape: torch.Size([64, 1])\n"
     ]
    },
    {
     "name": "stdout",
     "output_type": "stream",
     "text": [
      "pred_output shape: torch.Size([64, 1])\n"
     ]
    },
    {
     "name": "stdout",
     "output_type": "stream",
     "text": [
      "pred_output shape: torch.Size([64, 1])\n"
     ]
    },
    {
     "name": "stdout",
     "output_type": "stream",
     "text": [
      "pred_output shape: torch.Size([64, 1])\n"
     ]
    },
    {
     "name": "stdout",
     "output_type": "stream",
     "text": [
      "pred_output shape: torch.Size([64, 1])\n"
     ]
    },
    {
     "name": "stdout",
     "output_type": "stream",
     "text": [
      "pred_output shape: torch.Size([64, 1])\n"
     ]
    },
    {
     "name": "stdout",
     "output_type": "stream",
     "text": [
      "pred_output shape: torch.Size([64, 1])\n"
     ]
    },
    {
     "name": "stdout",
     "output_type": "stream",
     "text": [
      "pred_output shape: torch.Size([64, 1])\n"
     ]
    },
    {
     "name": "stdout",
     "output_type": "stream",
     "text": [
      "pred_output shape: torch.Size([64, 1])\n"
     ]
    },
    {
     "name": "stdout",
     "output_type": "stream",
     "text": [
      "pred_output shape: torch.Size([64, 1])\n"
     ]
    },
    {
     "name": "stdout",
     "output_type": "stream",
     "text": [
      "pred_output shape: torch.Size([64, 1])\n"
     ]
    },
    {
     "name": "stdout",
     "output_type": "stream",
     "text": [
      "pred_output shape: torch.Size([9, 1])\n"
     ]
    },
    {
     "name": "stdout",
     "output_type": "stream",
     "text": [
      "running epoch: 16\n"
     ]
    },
    {
     "name": "stdout",
     "output_type": "stream",
     "text": [
      "pred_output shape: torch.Size([64, 1])\n"
     ]
    },
    {
     "name": "stdout",
     "output_type": "stream",
     "text": [
      "pred_output shape: torch.Size([64, 1])\n"
     ]
    },
    {
     "name": "stdout",
     "output_type": "stream",
     "text": [
      "pred_output shape: torch.Size([64, 1])\n"
     ]
    },
    {
     "name": "stdout",
     "output_type": "stream",
     "text": [
      "pred_output shape: torch.Size([64, 1])\n"
     ]
    },
    {
     "name": "stdout",
     "output_type": "stream",
     "text": [
      "pred_output shape: torch.Size([64, 1])\n"
     ]
    },
    {
     "name": "stdout",
     "output_type": "stream",
     "text": [
      "pred_output shape: torch.Size([64, 1])\n"
     ]
    },
    {
     "name": "stdout",
     "output_type": "stream",
     "text": [
      "pred_output shape: torch.Size([64, 1])\n"
     ]
    },
    {
     "name": "stdout",
     "output_type": "stream",
     "text": [
      "pred_output shape: torch.Size([64, 1])\n"
     ]
    },
    {
     "name": "stdout",
     "output_type": "stream",
     "text": [
      "pred_output shape: torch.Size([64, 1])\n"
     ]
    },
    {
     "name": "stdout",
     "output_type": "stream",
     "text": [
      "pred_output shape: torch.Size([64, 1])\n"
     ]
    },
    {
     "name": "stdout",
     "output_type": "stream",
     "text": [
      "pred_output shape: torch.Size([64, 1])\n"
     ]
    },
    {
     "name": "stdout",
     "output_type": "stream",
     "text": [
      "pred_output shape: torch.Size([64, 1])\n"
     ]
    },
    {
     "name": "stdout",
     "output_type": "stream",
     "text": [
      "pred_output shape: torch.Size([64, 1])\n"
     ]
    },
    {
     "name": "stdout",
     "output_type": "stream",
     "text": [
      "pred_output shape: torch.Size([64, 1])\n"
     ]
    },
    {
     "name": "stdout",
     "output_type": "stream",
     "text": [
      "pred_output shape: torch.Size([64, 1])\n"
     ]
    },
    {
     "name": "stdout",
     "output_type": "stream",
     "text": [
      "pred_output shape: torch.Size([64, 1])\n"
     ]
    },
    {
     "name": "stdout",
     "output_type": "stream",
     "text": [
      "pred_output shape: torch.Size([64, 1])\n"
     ]
    },
    {
     "name": "stdout",
     "output_type": "stream",
     "text": [
      "pred_output shape: torch.Size([64, 1])\n"
     ]
    },
    {
     "name": "stdout",
     "output_type": "stream",
     "text": [
      "pred_output shape: torch.Size([64, 1])\n"
     ]
    },
    {
     "name": "stdout",
     "output_type": "stream",
     "text": [
      "pred_output shape: torch.Size([64, 1])\n"
     ]
    },
    {
     "name": "stdout",
     "output_type": "stream",
     "text": [
      "pred_output shape: torch.Size([64, 1])\n"
     ]
    },
    {
     "name": "stdout",
     "output_type": "stream",
     "text": [
      "pred_output shape: torch.Size([64, 1])\n"
     ]
    },
    {
     "name": "stdout",
     "output_type": "stream",
     "text": [
      "pred_output shape: torch.Size([64, 1])\n"
     ]
    },
    {
     "name": "stdout",
     "output_type": "stream",
     "text": [
      "pred_output shape: torch.Size([64, 1])\n"
     ]
    },
    {
     "name": "stdout",
     "output_type": "stream",
     "text": [
      "pred_output shape: torch.Size([64, 1])\n"
     ]
    },
    {
     "name": "stdout",
     "output_type": "stream",
     "text": [
      "pred_output shape: torch.Size([64, 1])\n"
     ]
    },
    {
     "name": "stdout",
     "output_type": "stream",
     "text": [
      "pred_output shape: torch.Size([64, 1])\n"
     ]
    },
    {
     "name": "stdout",
     "output_type": "stream",
     "text": [
      "pred_output shape: torch.Size([64, 1])\n"
     ]
    },
    {
     "name": "stdout",
     "output_type": "stream",
     "text": [
      "pred_output shape: torch.Size([64, 1])\n"
     ]
    },
    {
     "name": "stdout",
     "output_type": "stream",
     "text": [
      "pred_output shape: torch.Size([9, 1])\n"
     ]
    },
    {
     "name": "stdout",
     "output_type": "stream",
     "text": [
      "running epoch: 17\n"
     ]
    },
    {
     "name": "stdout",
     "output_type": "stream",
     "text": [
      "pred_output shape: torch.Size([64, 1])\n"
     ]
    },
    {
     "name": "stdout",
     "output_type": "stream",
     "text": [
      "pred_output shape: torch.Size([64, 1])\n"
     ]
    },
    {
     "name": "stdout",
     "output_type": "stream",
     "text": [
      "pred_output shape: torch.Size([64, 1])\n"
     ]
    },
    {
     "name": "stdout",
     "output_type": "stream",
     "text": [
      "pred_output shape: torch.Size([64, 1])\n"
     ]
    },
    {
     "name": "stdout",
     "output_type": "stream",
     "text": [
      "pred_output shape: torch.Size([64, 1])\n"
     ]
    },
    {
     "name": "stdout",
     "output_type": "stream",
     "text": [
      "pred_output shape: torch.Size([64, 1])\n"
     ]
    },
    {
     "name": "stdout",
     "output_type": "stream",
     "text": [
      "pred_output shape: torch.Size([64, 1])\n"
     ]
    },
    {
     "name": "stdout",
     "output_type": "stream",
     "text": [
      "pred_output shape: torch.Size([64, 1])\n"
     ]
    },
    {
     "name": "stdout",
     "output_type": "stream",
     "text": [
      "pred_output shape: torch.Size([64, 1])\n"
     ]
    },
    {
     "name": "stdout",
     "output_type": "stream",
     "text": [
      "pred_output shape: torch.Size([64, 1])\n"
     ]
    },
    {
     "name": "stdout",
     "output_type": "stream",
     "text": [
      "pred_output shape: torch.Size([64, 1])\n"
     ]
    },
    {
     "name": "stdout",
     "output_type": "stream",
     "text": [
      "pred_output shape: torch.Size([64, 1])\n"
     ]
    },
    {
     "name": "stdout",
     "output_type": "stream",
     "text": [
      "pred_output shape: torch.Size([64, 1])\n"
     ]
    },
    {
     "name": "stdout",
     "output_type": "stream",
     "text": [
      "pred_output shape: torch.Size([64, 1])\n"
     ]
    },
    {
     "name": "stdout",
     "output_type": "stream",
     "text": [
      "pred_output shape: torch.Size([64, 1])\n"
     ]
    },
    {
     "name": "stdout",
     "output_type": "stream",
     "text": [
      "pred_output shape: torch.Size([64, 1])\n"
     ]
    },
    {
     "name": "stdout",
     "output_type": "stream",
     "text": [
      "pred_output shape: torch.Size([64, 1])\n"
     ]
    },
    {
     "name": "stdout",
     "output_type": "stream",
     "text": [
      "pred_output shape: torch.Size([64, 1])\n"
     ]
    },
    {
     "name": "stdout",
     "output_type": "stream",
     "text": [
      "pred_output shape: torch.Size([64, 1])\n"
     ]
    },
    {
     "name": "stdout",
     "output_type": "stream",
     "text": [
      "pred_output shape: torch.Size([64, 1])\n"
     ]
    },
    {
     "name": "stdout",
     "output_type": "stream",
     "text": [
      "pred_output shape: torch.Size([64, 1])\n"
     ]
    },
    {
     "name": "stdout",
     "output_type": "stream",
     "text": [
      "pred_output shape: torch.Size([64, 1])\n"
     ]
    },
    {
     "name": "stdout",
     "output_type": "stream",
     "text": [
      "pred_output shape: torch.Size([64, 1])\n"
     ]
    },
    {
     "name": "stdout",
     "output_type": "stream",
     "text": [
      "pred_output shape: torch.Size([64, 1])\n"
     ]
    },
    {
     "name": "stdout",
     "output_type": "stream",
     "text": [
      "pred_output shape: torch.Size([64, 1])\n"
     ]
    },
    {
     "name": "stdout",
     "output_type": "stream",
     "text": [
      "pred_output shape: torch.Size([64, 1])\n"
     ]
    },
    {
     "name": "stdout",
     "output_type": "stream",
     "text": [
      "pred_output shape: torch.Size([64, 1])\n"
     ]
    },
    {
     "name": "stdout",
     "output_type": "stream",
     "text": [
      "pred_output shape: torch.Size([64, 1])\n"
     ]
    },
    {
     "name": "stdout",
     "output_type": "stream",
     "text": [
      "pred_output shape: torch.Size([64, 1])\n"
     ]
    },
    {
     "name": "stdout",
     "output_type": "stream",
     "text": [
      "pred_output shape: torch.Size([9, 1])\n"
     ]
    },
    {
     "name": "stdout",
     "output_type": "stream",
     "text": [
      "running epoch: 18\n"
     ]
    },
    {
     "name": "stdout",
     "output_type": "stream",
     "text": [
      "pred_output shape: torch.Size([64, 1])\n"
     ]
    },
    {
     "name": "stdout",
     "output_type": "stream",
     "text": [
      "pred_output shape: torch.Size([64, 1])\n"
     ]
    },
    {
     "name": "stdout",
     "output_type": "stream",
     "text": [
      "pred_output shape: torch.Size([64, 1])\n"
     ]
    },
    {
     "name": "stdout",
     "output_type": "stream",
     "text": [
      "pred_output shape: torch.Size([64, 1])\n"
     ]
    },
    {
     "name": "stdout",
     "output_type": "stream",
     "text": [
      "pred_output shape: torch.Size([64, 1])\n"
     ]
    },
    {
     "name": "stdout",
     "output_type": "stream",
     "text": [
      "pred_output shape: torch.Size([64, 1])\n"
     ]
    },
    {
     "name": "stdout",
     "output_type": "stream",
     "text": [
      "pred_output shape: torch.Size([64, 1])\n"
     ]
    },
    {
     "name": "stdout",
     "output_type": "stream",
     "text": [
      "pred_output shape: torch.Size([64, 1])\n"
     ]
    },
    {
     "name": "stdout",
     "output_type": "stream",
     "text": [
      "pred_output shape: torch.Size([64, 1])\n"
     ]
    },
    {
     "name": "stdout",
     "output_type": "stream",
     "text": [
      "pred_output shape: torch.Size([64, 1])\n"
     ]
    },
    {
     "name": "stdout",
     "output_type": "stream",
     "text": [
      "pred_output shape: torch.Size([64, 1])\n"
     ]
    },
    {
     "name": "stdout",
     "output_type": "stream",
     "text": [
      "pred_output shape: torch.Size([64, 1])\n"
     ]
    },
    {
     "name": "stdout",
     "output_type": "stream",
     "text": [
      "pred_output shape: torch.Size([64, 1])\n"
     ]
    },
    {
     "name": "stdout",
     "output_type": "stream",
     "text": [
      "pred_output shape: torch.Size([64, 1])\n"
     ]
    },
    {
     "name": "stdout",
     "output_type": "stream",
     "text": [
      "pred_output shape: torch.Size([64, 1])\n"
     ]
    },
    {
     "name": "stdout",
     "output_type": "stream",
     "text": [
      "pred_output shape: torch.Size([64, 1])\n"
     ]
    },
    {
     "name": "stdout",
     "output_type": "stream",
     "text": [
      "pred_output shape: torch.Size([64, 1])\n"
     ]
    },
    {
     "name": "stdout",
     "output_type": "stream",
     "text": [
      "pred_output shape: torch.Size([64, 1])\n"
     ]
    },
    {
     "name": "stdout",
     "output_type": "stream",
     "text": [
      "pred_output shape: torch.Size([64, 1])\n"
     ]
    },
    {
     "name": "stdout",
     "output_type": "stream",
     "text": [
      "pred_output shape: torch.Size([64, 1])\n"
     ]
    },
    {
     "name": "stdout",
     "output_type": "stream",
     "text": [
      "pred_output shape: torch.Size([64, 1])\n"
     ]
    },
    {
     "name": "stdout",
     "output_type": "stream",
     "text": [
      "pred_output shape: torch.Size([64, 1])\n"
     ]
    },
    {
     "name": "stdout",
     "output_type": "stream",
     "text": [
      "pred_output shape: torch.Size([64, 1])\n"
     ]
    },
    {
     "name": "stdout",
     "output_type": "stream",
     "text": [
      "pred_output shape: torch.Size([64, 1])\n"
     ]
    },
    {
     "name": "stdout",
     "output_type": "stream",
     "text": [
      "pred_output shape: torch.Size([64, 1])\n"
     ]
    },
    {
     "name": "stdout",
     "output_type": "stream",
     "text": [
      "pred_output shape: torch.Size([64, 1])\n"
     ]
    },
    {
     "name": "stdout",
     "output_type": "stream",
     "text": [
      "pred_output shape: torch.Size([64, 1])\n"
     ]
    },
    {
     "name": "stdout",
     "output_type": "stream",
     "text": [
      "pred_output shape: torch.Size([64, 1])\n"
     ]
    },
    {
     "name": "stdout",
     "output_type": "stream",
     "text": [
      "pred_output shape: torch.Size([64, 1])\n"
     ]
    },
    {
     "name": "stdout",
     "output_type": "stream",
     "text": [
      "pred_output shape: torch.Size([9, 1])\n"
     ]
    },
    {
     "name": "stdout",
     "output_type": "stream",
     "text": [
      "running epoch: 19\n"
     ]
    },
    {
     "name": "stdout",
     "output_type": "stream",
     "text": [
      "pred_output shape: torch.Size([64, 1])\n"
     ]
    },
    {
     "name": "stdout",
     "output_type": "stream",
     "text": [
      "pred_output shape: torch.Size([64, 1])\n"
     ]
    },
    {
     "name": "stdout",
     "output_type": "stream",
     "text": [
      "pred_output shape: torch.Size([64, 1])\n"
     ]
    },
    {
     "name": "stdout",
     "output_type": "stream",
     "text": [
      "pred_output shape: torch.Size([64, 1])\n"
     ]
    },
    {
     "name": "stdout",
     "output_type": "stream",
     "text": [
      "pred_output shape: torch.Size([64, 1])\n"
     ]
    },
    {
     "name": "stdout",
     "output_type": "stream",
     "text": [
      "pred_output shape: torch.Size([64, 1])\n"
     ]
    },
    {
     "name": "stdout",
     "output_type": "stream",
     "text": [
      "pred_output shape: torch.Size([64, 1])\n"
     ]
    },
    {
     "name": "stdout",
     "output_type": "stream",
     "text": [
      "pred_output shape: torch.Size([64, 1])\n"
     ]
    },
    {
     "name": "stdout",
     "output_type": "stream",
     "text": [
      "pred_output shape: torch.Size([64, 1])\n"
     ]
    },
    {
     "name": "stdout",
     "output_type": "stream",
     "text": [
      "pred_output shape: torch.Size([64, 1])\n"
     ]
    },
    {
     "name": "stdout",
     "output_type": "stream",
     "text": [
      "pred_output shape: torch.Size([64, 1])\n"
     ]
    },
    {
     "name": "stdout",
     "output_type": "stream",
     "text": [
      "pred_output shape: torch.Size([64, 1])\n"
     ]
    },
    {
     "name": "stdout",
     "output_type": "stream",
     "text": [
      "pred_output shape: torch.Size([64, 1])\n"
     ]
    },
    {
     "name": "stdout",
     "output_type": "stream",
     "text": [
      "pred_output shape: torch.Size([64, 1])\n"
     ]
    },
    {
     "name": "stdout",
     "output_type": "stream",
     "text": [
      "pred_output shape: torch.Size([64, 1])\n"
     ]
    },
    {
     "name": "stdout",
     "output_type": "stream",
     "text": [
      "pred_output shape: torch.Size([64, 1])\n"
     ]
    },
    {
     "name": "stdout",
     "output_type": "stream",
     "text": [
      "pred_output shape: torch.Size([64, 1])\n"
     ]
    },
    {
     "name": "stdout",
     "output_type": "stream",
     "text": [
      "pred_output shape: torch.Size([64, 1])\n"
     ]
    },
    {
     "name": "stdout",
     "output_type": "stream",
     "text": [
      "pred_output shape: torch.Size([64, 1])\n"
     ]
    },
    {
     "name": "stdout",
     "output_type": "stream",
     "text": [
      "pred_output shape: torch.Size([64, 1])\n"
     ]
    },
    {
     "name": "stdout",
     "output_type": "stream",
     "text": [
      "pred_output shape: torch.Size([64, 1])\n"
     ]
    },
    {
     "name": "stdout",
     "output_type": "stream",
     "text": [
      "pred_output shape: torch.Size([64, 1])\n"
     ]
    },
    {
     "name": "stdout",
     "output_type": "stream",
     "text": [
      "pred_output shape: torch.Size([64, 1])\n"
     ]
    },
    {
     "name": "stdout",
     "output_type": "stream",
     "text": [
      "pred_output shape: torch.Size([64, 1])\n"
     ]
    },
    {
     "name": "stdout",
     "output_type": "stream",
     "text": [
      "pred_output shape: torch.Size([64, 1])\n"
     ]
    },
    {
     "name": "stdout",
     "output_type": "stream",
     "text": [
      "pred_output shape: torch.Size([64, 1])\n"
     ]
    },
    {
     "name": "stdout",
     "output_type": "stream",
     "text": [
      "pred_output shape: torch.Size([64, 1])\n"
     ]
    },
    {
     "name": "stdout",
     "output_type": "stream",
     "text": [
      "pred_output shape: torch.Size([64, 1])\n"
     ]
    },
    {
     "name": "stdout",
     "output_type": "stream",
     "text": [
      "pred_output shape: torch.Size([64, 1])\n"
     ]
    },
    {
     "name": "stdout",
     "output_type": "stream",
     "text": [
      "pred_output shape: torch.Size([9, 1])\n"
     ]
    },
    {
     "name": "stdout",
     "output_type": "stream",
     "text": [
      "running epoch: 20\n"
     ]
    },
    {
     "name": "stdout",
     "output_type": "stream",
     "text": [
      "pred_output shape: torch.Size([64, 1])\n"
     ]
    },
    {
     "name": "stdout",
     "output_type": "stream",
     "text": [
      "pred_output shape: torch.Size([64, 1])\n"
     ]
    },
    {
     "name": "stdout",
     "output_type": "stream",
     "text": [
      "pred_output shape: torch.Size([64, 1])\n"
     ]
    },
    {
     "name": "stdout",
     "output_type": "stream",
     "text": [
      "pred_output shape: torch.Size([64, 1])\n"
     ]
    },
    {
     "name": "stdout",
     "output_type": "stream",
     "text": [
      "pred_output shape: torch.Size([64, 1])\n"
     ]
    },
    {
     "name": "stdout",
     "output_type": "stream",
     "text": [
      "pred_output shape: torch.Size([64, 1])\n"
     ]
    },
    {
     "name": "stdout",
     "output_type": "stream",
     "text": [
      "pred_output shape: torch.Size([64, 1])\n"
     ]
    },
    {
     "name": "stdout",
     "output_type": "stream",
     "text": [
      "pred_output shape: torch.Size([64, 1])\n"
     ]
    },
    {
     "name": "stdout",
     "output_type": "stream",
     "text": [
      "pred_output shape: torch.Size([64, 1])\n"
     ]
    },
    {
     "name": "stdout",
     "output_type": "stream",
     "text": [
      "pred_output shape: torch.Size([64, 1])\n"
     ]
    },
    {
     "name": "stdout",
     "output_type": "stream",
     "text": [
      "pred_output shape: torch.Size([64, 1])\n"
     ]
    },
    {
     "name": "stdout",
     "output_type": "stream",
     "text": [
      "pred_output shape: torch.Size([64, 1])\n"
     ]
    },
    {
     "name": "stdout",
     "output_type": "stream",
     "text": [
      "pred_output shape: torch.Size([64, 1])\n"
     ]
    },
    {
     "name": "stdout",
     "output_type": "stream",
     "text": [
      "pred_output shape: torch.Size([64, 1])\n"
     ]
    },
    {
     "name": "stdout",
     "output_type": "stream",
     "text": [
      "pred_output shape: torch.Size([64, 1])\n"
     ]
    },
    {
     "name": "stdout",
     "output_type": "stream",
     "text": [
      "pred_output shape: torch.Size([64, 1])\n"
     ]
    },
    {
     "name": "stdout",
     "output_type": "stream",
     "text": [
      "pred_output shape: torch.Size([64, 1])\n"
     ]
    },
    {
     "name": "stdout",
     "output_type": "stream",
     "text": [
      "pred_output shape: torch.Size([64, 1])\n"
     ]
    },
    {
     "name": "stdout",
     "output_type": "stream",
     "text": [
      "pred_output shape: torch.Size([64, 1])\n"
     ]
    },
    {
     "name": "stdout",
     "output_type": "stream",
     "text": [
      "pred_output shape: torch.Size([64, 1])\n"
     ]
    },
    {
     "name": "stdout",
     "output_type": "stream",
     "text": [
      "pred_output shape: torch.Size([64, 1])\n"
     ]
    },
    {
     "name": "stdout",
     "output_type": "stream",
     "text": [
      "pred_output shape: torch.Size([64, 1])\n"
     ]
    },
    {
     "name": "stdout",
     "output_type": "stream",
     "text": [
      "pred_output shape: torch.Size([64, 1])\n"
     ]
    },
    {
     "name": "stdout",
     "output_type": "stream",
     "text": [
      "pred_output shape: torch.Size([64, 1])\n"
     ]
    },
    {
     "name": "stdout",
     "output_type": "stream",
     "text": [
      "pred_output shape: torch.Size([64, 1])\n"
     ]
    },
    {
     "name": "stdout",
     "output_type": "stream",
     "text": [
      "pred_output shape: torch.Size([64, 1])\n"
     ]
    },
    {
     "name": "stdout",
     "output_type": "stream",
     "text": [
      "pred_output shape: torch.Size([64, 1])\n"
     ]
    },
    {
     "name": "stdout",
     "output_type": "stream",
     "text": [
      "pred_output shape: torch.Size([64, 1])\n"
     ]
    },
    {
     "name": "stdout",
     "output_type": "stream",
     "text": [
      "pred_output shape: torch.Size([64, 1])\n"
     ]
    },
    {
     "name": "stdout",
     "output_type": "stream",
     "text": [
      "pred_output shape: torch.Size([9, 1])\n"
     ]
    },
    {
     "name": "stdout",
     "output_type": "stream",
     "text": [
      "Epoch: 20  Avg Loss: 0.00010610695865289894, Time: 5404.156476259232\n",
      "Median: 1.072034101979081\n",
      "Mean: 1.1689281099608375\n",
      "running epoch: 21\n"
     ]
    },
    {
     "name": "stdout",
     "output_type": "stream",
     "text": [
      "pred_output shape: torch.Size([64, 1])\n"
     ]
    },
    {
     "name": "stdout",
     "output_type": "stream",
     "text": [
      "pred_output shape: torch.Size([64, 1])\n"
     ]
    },
    {
     "name": "stdout",
     "output_type": "stream",
     "text": [
      "pred_output shape: torch.Size([64, 1])\n"
     ]
    },
    {
     "name": "stdout",
     "output_type": "stream",
     "text": [
      "pred_output shape: torch.Size([64, 1])\n"
     ]
    },
    {
     "name": "stdout",
     "output_type": "stream",
     "text": [
      "pred_output shape: torch.Size([64, 1])\n"
     ]
    },
    {
     "name": "stdout",
     "output_type": "stream",
     "text": [
      "pred_output shape: torch.Size([64, 1])\n"
     ]
    },
    {
     "name": "stdout",
     "output_type": "stream",
     "text": [
      "pred_output shape: torch.Size([64, 1])\n"
     ]
    },
    {
     "name": "stdout",
     "output_type": "stream",
     "text": [
      "pred_output shape: torch.Size([64, 1])\n"
     ]
    },
    {
     "name": "stdout",
     "output_type": "stream",
     "text": [
      "pred_output shape: torch.Size([64, 1])\n"
     ]
    },
    {
     "name": "stdout",
     "output_type": "stream",
     "text": [
      "pred_output shape: torch.Size([64, 1])\n"
     ]
    },
    {
     "name": "stdout",
     "output_type": "stream",
     "text": [
      "pred_output shape: torch.Size([64, 1])\n"
     ]
    },
    {
     "name": "stdout",
     "output_type": "stream",
     "text": [
      "pred_output shape: torch.Size([64, 1])\n"
     ]
    },
    {
     "name": "stdout",
     "output_type": "stream",
     "text": [
      "pred_output shape: torch.Size([64, 1])\n"
     ]
    },
    {
     "name": "stdout",
     "output_type": "stream",
     "text": [
      "pred_output shape: torch.Size([64, 1])\n"
     ]
    },
    {
     "name": "stdout",
     "output_type": "stream",
     "text": [
      "pred_output shape: torch.Size([64, 1])\n"
     ]
    },
    {
     "name": "stdout",
     "output_type": "stream",
     "text": [
      "pred_output shape: torch.Size([64, 1])\n"
     ]
    },
    {
     "name": "stdout",
     "output_type": "stream",
     "text": [
      "pred_output shape: torch.Size([64, 1])\n"
     ]
    },
    {
     "name": "stdout",
     "output_type": "stream",
     "text": [
      "pred_output shape: torch.Size([64, 1])\n"
     ]
    },
    {
     "name": "stdout",
     "output_type": "stream",
     "text": [
      "pred_output shape: torch.Size([64, 1])\n"
     ]
    },
    {
     "name": "stdout",
     "output_type": "stream",
     "text": [
      "pred_output shape: torch.Size([64, 1])\n"
     ]
    },
    {
     "name": "stdout",
     "output_type": "stream",
     "text": [
      "pred_output shape: torch.Size([64, 1])\n"
     ]
    },
    {
     "name": "stdout",
     "output_type": "stream",
     "text": [
      "pred_output shape: torch.Size([64, 1])\n"
     ]
    },
    {
     "name": "stdout",
     "output_type": "stream",
     "text": [
      "pred_output shape: torch.Size([64, 1])\n"
     ]
    },
    {
     "name": "stdout",
     "output_type": "stream",
     "text": [
      "pred_output shape: torch.Size([64, 1])\n"
     ]
    },
    {
     "name": "stdout",
     "output_type": "stream",
     "text": [
      "pred_output shape: torch.Size([64, 1])\n"
     ]
    },
    {
     "name": "stdout",
     "output_type": "stream",
     "text": [
      "pred_output shape: torch.Size([64, 1])\n"
     ]
    },
    {
     "name": "stdout",
     "output_type": "stream",
     "text": [
      "pred_output shape: torch.Size([64, 1])\n"
     ]
    },
    {
     "name": "stdout",
     "output_type": "stream",
     "text": [
      "pred_output shape: torch.Size([64, 1])\n"
     ]
    },
    {
     "name": "stdout",
     "output_type": "stream",
     "text": [
      "pred_output shape: torch.Size([64, 1])\n"
     ]
    },
    {
     "name": "stdout",
     "output_type": "stream",
     "text": [
      "pred_output shape: torch.Size([9, 1])\n"
     ]
    },
    {
     "name": "stdout",
     "output_type": "stream",
     "text": [
      "running epoch: 22\n"
     ]
    },
    {
     "name": "stdout",
     "output_type": "stream",
     "text": [
      "pred_output shape: torch.Size([64, 1])\n"
     ]
    },
    {
     "name": "stdout",
     "output_type": "stream",
     "text": [
      "pred_output shape: torch.Size([64, 1])\n"
     ]
    },
    {
     "name": "stdout",
     "output_type": "stream",
     "text": [
      "pred_output shape: torch.Size([64, 1])\n"
     ]
    },
    {
     "name": "stdout",
     "output_type": "stream",
     "text": [
      "pred_output shape: torch.Size([64, 1])\n"
     ]
    },
    {
     "name": "stdout",
     "output_type": "stream",
     "text": [
      "pred_output shape: torch.Size([64, 1])\n"
     ]
    },
    {
     "name": "stdout",
     "output_type": "stream",
     "text": [
      "pred_output shape: torch.Size([64, 1])\n"
     ]
    },
    {
     "name": "stdout",
     "output_type": "stream",
     "text": [
      "pred_output shape: torch.Size([64, 1])\n"
     ]
    },
    {
     "name": "stdout",
     "output_type": "stream",
     "text": [
      "pred_output shape: torch.Size([64, 1])\n"
     ]
    },
    {
     "name": "stdout",
     "output_type": "stream",
     "text": [
      "pred_output shape: torch.Size([64, 1])\n"
     ]
    },
    {
     "name": "stdout",
     "output_type": "stream",
     "text": [
      "pred_output shape: torch.Size([64, 1])\n"
     ]
    },
    {
     "name": "stdout",
     "output_type": "stream",
     "text": [
      "pred_output shape: torch.Size([64, 1])\n"
     ]
    },
    {
     "name": "stdout",
     "output_type": "stream",
     "text": [
      "pred_output shape: torch.Size([64, 1])\n"
     ]
    },
    {
     "name": "stdout",
     "output_type": "stream",
     "text": [
      "pred_output shape: torch.Size([64, 1])\n"
     ]
    },
    {
     "name": "stdout",
     "output_type": "stream",
     "text": [
      "pred_output shape: torch.Size([64, 1])\n"
     ]
    },
    {
     "name": "stdout",
     "output_type": "stream",
     "text": [
      "pred_output shape: torch.Size([64, 1])\n"
     ]
    },
    {
     "name": "stdout",
     "output_type": "stream",
     "text": [
      "pred_output shape: torch.Size([64, 1])\n"
     ]
    },
    {
     "name": "stdout",
     "output_type": "stream",
     "text": [
      "pred_output shape: torch.Size([64, 1])\n"
     ]
    },
    {
     "name": "stdout",
     "output_type": "stream",
     "text": [
      "pred_output shape: torch.Size([64, 1])\n"
     ]
    },
    {
     "name": "stdout",
     "output_type": "stream",
     "text": [
      "pred_output shape: torch.Size([64, 1])\n"
     ]
    },
    {
     "name": "stdout",
     "output_type": "stream",
     "text": [
      "pred_output shape: torch.Size([64, 1])\n"
     ]
    },
    {
     "name": "stdout",
     "output_type": "stream",
     "text": [
      "pred_output shape: torch.Size([64, 1])\n"
     ]
    },
    {
     "name": "stdout",
     "output_type": "stream",
     "text": [
      "pred_output shape: torch.Size([64, 1])\n"
     ]
    },
    {
     "name": "stdout",
     "output_type": "stream",
     "text": [
      "pred_output shape: torch.Size([64, 1])\n"
     ]
    },
    {
     "name": "stdout",
     "output_type": "stream",
     "text": [
      "pred_output shape: torch.Size([64, 1])\n"
     ]
    },
    {
     "name": "stdout",
     "output_type": "stream",
     "text": [
      "pred_output shape: torch.Size([64, 1])\n"
     ]
    },
    {
     "name": "stdout",
     "output_type": "stream",
     "text": [
      "pred_output shape: torch.Size([64, 1])\n"
     ]
    },
    {
     "name": "stdout",
     "output_type": "stream",
     "text": [
      "pred_output shape: torch.Size([64, 1])\n"
     ]
    },
    {
     "name": "stdout",
     "output_type": "stream",
     "text": [
      "pred_output shape: torch.Size([64, 1])\n"
     ]
    },
    {
     "name": "stdout",
     "output_type": "stream",
     "text": [
      "pred_output shape: torch.Size([64, 1])\n"
     ]
    },
    {
     "name": "stdout",
     "output_type": "stream",
     "text": [
      "pred_output shape: torch.Size([9, 1])\n"
     ]
    },
    {
     "name": "stdout",
     "output_type": "stream",
     "text": [
      "running epoch: 23\n"
     ]
    },
    {
     "name": "stdout",
     "output_type": "stream",
     "text": [
      "pred_output shape: torch.Size([64, 1])\n"
     ]
    },
    {
     "name": "stdout",
     "output_type": "stream",
     "text": [
      "pred_output shape: torch.Size([64, 1])\n"
     ]
    },
    {
     "name": "stdout",
     "output_type": "stream",
     "text": [
      "pred_output shape: torch.Size([64, 1])\n"
     ]
    },
    {
     "name": "stdout",
     "output_type": "stream",
     "text": [
      "pred_output shape: torch.Size([64, 1])\n"
     ]
    },
    {
     "name": "stdout",
     "output_type": "stream",
     "text": [
      "pred_output shape: torch.Size([64, 1])\n"
     ]
    },
    {
     "name": "stdout",
     "output_type": "stream",
     "text": [
      "pred_output shape: torch.Size([64, 1])\n"
     ]
    },
    {
     "name": "stdout",
     "output_type": "stream",
     "text": [
      "pred_output shape: torch.Size([64, 1])\n"
     ]
    },
    {
     "name": "stdout",
     "output_type": "stream",
     "text": [
      "pred_output shape: torch.Size([64, 1])\n"
     ]
    },
    {
     "name": "stdout",
     "output_type": "stream",
     "text": [
      "pred_output shape: torch.Size([64, 1])\n"
     ]
    },
    {
     "name": "stdout",
     "output_type": "stream",
     "text": [
      "pred_output shape: torch.Size([64, 1])\n"
     ]
    },
    {
     "name": "stdout",
     "output_type": "stream",
     "text": [
      "pred_output shape: torch.Size([64, 1])\n"
     ]
    },
    {
     "name": "stdout",
     "output_type": "stream",
     "text": [
      "pred_output shape: torch.Size([64, 1])\n"
     ]
    },
    {
     "name": "stdout",
     "output_type": "stream",
     "text": [
      "pred_output shape: torch.Size([64, 1])\n"
     ]
    },
    {
     "name": "stdout",
     "output_type": "stream",
     "text": [
      "pred_output shape: torch.Size([64, 1])\n"
     ]
    },
    {
     "name": "stdout",
     "output_type": "stream",
     "text": [
      "pred_output shape: torch.Size([64, 1])\n"
     ]
    },
    {
     "name": "stdout",
     "output_type": "stream",
     "text": [
      "pred_output shape: torch.Size([64, 1])\n"
     ]
    },
    {
     "name": "stdout",
     "output_type": "stream",
     "text": [
      "pred_output shape: torch.Size([64, 1])\n"
     ]
    },
    {
     "name": "stdout",
     "output_type": "stream",
     "text": [
      "pred_output shape: torch.Size([64, 1])\n"
     ]
    },
    {
     "name": "stdout",
     "output_type": "stream",
     "text": [
      "pred_output shape: torch.Size([64, 1])\n"
     ]
    },
    {
     "name": "stdout",
     "output_type": "stream",
     "text": [
      "pred_output shape: torch.Size([64, 1])\n"
     ]
    },
    {
     "name": "stdout",
     "output_type": "stream",
     "text": [
      "pred_output shape: torch.Size([64, 1])\n"
     ]
    },
    {
     "name": "stdout",
     "output_type": "stream",
     "text": [
      "pred_output shape: torch.Size([64, 1])\n"
     ]
    },
    {
     "name": "stdout",
     "output_type": "stream",
     "text": [
      "pred_output shape: torch.Size([64, 1])\n"
     ]
    },
    {
     "name": "stdout",
     "output_type": "stream",
     "text": [
      "pred_output shape: torch.Size([64, 1])\n"
     ]
    },
    {
     "name": "stdout",
     "output_type": "stream",
     "text": [
      "pred_output shape: torch.Size([64, 1])\n"
     ]
    },
    {
     "name": "stdout",
     "output_type": "stream",
     "text": [
      "pred_output shape: torch.Size([64, 1])\n"
     ]
    },
    {
     "name": "stdout",
     "output_type": "stream",
     "text": [
      "pred_output shape: torch.Size([64, 1])\n"
     ]
    },
    {
     "name": "stdout",
     "output_type": "stream",
     "text": [
      "pred_output shape: torch.Size([64, 1])\n"
     ]
    },
    {
     "name": "stdout",
     "output_type": "stream",
     "text": [
      "pred_output shape: torch.Size([64, 1])\n"
     ]
    },
    {
     "name": "stdout",
     "output_type": "stream",
     "text": [
      "pred_output shape: torch.Size([9, 1])\n"
     ]
    },
    {
     "name": "stdout",
     "output_type": "stream",
     "text": [
      "running epoch: 24\n"
     ]
    },
    {
     "name": "stdout",
     "output_type": "stream",
     "text": [
      "pred_output shape: torch.Size([64, 1])\n"
     ]
    },
    {
     "name": "stdout",
     "output_type": "stream",
     "text": [
      "pred_output shape: torch.Size([64, 1])\n"
     ]
    },
    {
     "name": "stdout",
     "output_type": "stream",
     "text": [
      "pred_output shape: torch.Size([64, 1])\n"
     ]
    },
    {
     "name": "stdout",
     "output_type": "stream",
     "text": [
      "pred_output shape: torch.Size([64, 1])\n"
     ]
    },
    {
     "name": "stdout",
     "output_type": "stream",
     "text": [
      "pred_output shape: torch.Size([64, 1])\n"
     ]
    },
    {
     "name": "stdout",
     "output_type": "stream",
     "text": [
      "pred_output shape: torch.Size([64, 1])\n"
     ]
    },
    {
     "name": "stdout",
     "output_type": "stream",
     "text": [
      "pred_output shape: torch.Size([64, 1])\n"
     ]
    },
    {
     "name": "stdout",
     "output_type": "stream",
     "text": [
      "pred_output shape: torch.Size([64, 1])\n"
     ]
    },
    {
     "name": "stdout",
     "output_type": "stream",
     "text": [
      "pred_output shape: torch.Size([64, 1])\n"
     ]
    },
    {
     "name": "stdout",
     "output_type": "stream",
     "text": [
      "pred_output shape: torch.Size([64, 1])\n"
     ]
    },
    {
     "name": "stdout",
     "output_type": "stream",
     "text": [
      "pred_output shape: torch.Size([64, 1])\n"
     ]
    },
    {
     "name": "stdout",
     "output_type": "stream",
     "text": [
      "pred_output shape: torch.Size([64, 1])\n"
     ]
    },
    {
     "name": "stdout",
     "output_type": "stream",
     "text": [
      "pred_output shape: torch.Size([64, 1])\n"
     ]
    },
    {
     "name": "stdout",
     "output_type": "stream",
     "text": [
      "pred_output shape: torch.Size([64, 1])\n"
     ]
    },
    {
     "name": "stdout",
     "output_type": "stream",
     "text": [
      "pred_output shape: torch.Size([64, 1])\n"
     ]
    },
    {
     "name": "stdout",
     "output_type": "stream",
     "text": [
      "pred_output shape: torch.Size([64, 1])\n"
     ]
    },
    {
     "name": "stdout",
     "output_type": "stream",
     "text": [
      "pred_output shape: torch.Size([64, 1])\n"
     ]
    },
    {
     "name": "stdout",
     "output_type": "stream",
     "text": [
      "pred_output shape: torch.Size([64, 1])\n"
     ]
    },
    {
     "name": "stdout",
     "output_type": "stream",
     "text": [
      "pred_output shape: torch.Size([64, 1])\n"
     ]
    },
    {
     "name": "stdout",
     "output_type": "stream",
     "text": [
      "pred_output shape: torch.Size([64, 1])\n"
     ]
    },
    {
     "name": "stdout",
     "output_type": "stream",
     "text": [
      "pred_output shape: torch.Size([64, 1])\n"
     ]
    },
    {
     "name": "stdout",
     "output_type": "stream",
     "text": [
      "pred_output shape: torch.Size([64, 1])\n"
     ]
    },
    {
     "name": "stdout",
     "output_type": "stream",
     "text": [
      "pred_output shape: torch.Size([64, 1])\n"
     ]
    },
    {
     "name": "stdout",
     "output_type": "stream",
     "text": [
      "pred_output shape: torch.Size([64, 1])\n"
     ]
    },
    {
     "name": "stdout",
     "output_type": "stream",
     "text": [
      "pred_output shape: torch.Size([64, 1])\n"
     ]
    },
    {
     "name": "stdout",
     "output_type": "stream",
     "text": [
      "pred_output shape: torch.Size([64, 1])\n"
     ]
    },
    {
     "name": "stdout",
     "output_type": "stream",
     "text": [
      "pred_output shape: torch.Size([64, 1])\n"
     ]
    },
    {
     "name": "stdout",
     "output_type": "stream",
     "text": [
      "pred_output shape: torch.Size([64, 1])\n"
     ]
    },
    {
     "name": "stdout",
     "output_type": "stream",
     "text": [
      "pred_output shape: torch.Size([64, 1])\n"
     ]
    },
    {
     "name": "stdout",
     "output_type": "stream",
     "text": [
      "pred_output shape: torch.Size([9, 1])\n"
     ]
    },
    {
     "name": "stdout",
     "output_type": "stream",
     "text": [
      "running epoch: 25\n"
     ]
    },
    {
     "name": "stdout",
     "output_type": "stream",
     "text": [
      "pred_output shape: torch.Size([64, 1])\n"
     ]
    },
    {
     "name": "stdout",
     "output_type": "stream",
     "text": [
      "pred_output shape: torch.Size([64, 1])\n"
     ]
    },
    {
     "name": "stdout",
     "output_type": "stream",
     "text": [
      "pred_output shape: torch.Size([64, 1])\n"
     ]
    },
    {
     "name": "stdout",
     "output_type": "stream",
     "text": [
      "pred_output shape: torch.Size([64, 1])\n"
     ]
    },
    {
     "name": "stdout",
     "output_type": "stream",
     "text": [
      "pred_output shape: torch.Size([64, 1])\n"
     ]
    },
    {
     "name": "stdout",
     "output_type": "stream",
     "text": [
      "pred_output shape: torch.Size([64, 1])\n"
     ]
    },
    {
     "name": "stdout",
     "output_type": "stream",
     "text": [
      "pred_output shape: torch.Size([64, 1])\n"
     ]
    },
    {
     "name": "stdout",
     "output_type": "stream",
     "text": [
      "pred_output shape: torch.Size([64, 1])\n"
     ]
    },
    {
     "name": "stdout",
     "output_type": "stream",
     "text": [
      "pred_output shape: torch.Size([64, 1])\n"
     ]
    },
    {
     "name": "stdout",
     "output_type": "stream",
     "text": [
      "pred_output shape: torch.Size([64, 1])\n"
     ]
    },
    {
     "name": "stdout",
     "output_type": "stream",
     "text": [
      "pred_output shape: torch.Size([64, 1])\n"
     ]
    },
    {
     "name": "stdout",
     "output_type": "stream",
     "text": [
      "pred_output shape: torch.Size([64, 1])\n"
     ]
    },
    {
     "name": "stdout",
     "output_type": "stream",
     "text": [
      "pred_output shape: torch.Size([64, 1])\n"
     ]
    },
    {
     "name": "stdout",
     "output_type": "stream",
     "text": [
      "pred_output shape: torch.Size([64, 1])\n"
     ]
    },
    {
     "name": "stdout",
     "output_type": "stream",
     "text": [
      "pred_output shape: torch.Size([64, 1])\n"
     ]
    },
    {
     "name": "stdout",
     "output_type": "stream",
     "text": [
      "pred_output shape: torch.Size([64, 1])\n"
     ]
    },
    {
     "name": "stdout",
     "output_type": "stream",
     "text": [
      "pred_output shape: torch.Size([64, 1])\n"
     ]
    },
    {
     "name": "stdout",
     "output_type": "stream",
     "text": [
      "pred_output shape: torch.Size([64, 1])\n"
     ]
    },
    {
     "name": "stdout",
     "output_type": "stream",
     "text": [
      "pred_output shape: torch.Size([64, 1])\n"
     ]
    },
    {
     "name": "stdout",
     "output_type": "stream",
     "text": [
      "pred_output shape: torch.Size([64, 1])\n"
     ]
    },
    {
     "name": "stdout",
     "output_type": "stream",
     "text": [
      "pred_output shape: torch.Size([64, 1])\n"
     ]
    },
    {
     "name": "stdout",
     "output_type": "stream",
     "text": [
      "pred_output shape: torch.Size([64, 1])\n"
     ]
    },
    {
     "name": "stdout",
     "output_type": "stream",
     "text": [
      "pred_output shape: torch.Size([64, 1])\n"
     ]
    },
    {
     "name": "stdout",
     "output_type": "stream",
     "text": [
      "pred_output shape: torch.Size([64, 1])\n"
     ]
    },
    {
     "name": "stdout",
     "output_type": "stream",
     "text": [
      "pred_output shape: torch.Size([64, 1])\n"
     ]
    },
    {
     "name": "stdout",
     "output_type": "stream",
     "text": [
      "pred_output shape: torch.Size([64, 1])\n"
     ]
    },
    {
     "name": "stdout",
     "output_type": "stream",
     "text": [
      "pred_output shape: torch.Size([64, 1])\n"
     ]
    },
    {
     "name": "stdout",
     "output_type": "stream",
     "text": [
      "pred_output shape: torch.Size([64, 1])\n"
     ]
    },
    {
     "name": "stdout",
     "output_type": "stream",
     "text": [
      "pred_output shape: torch.Size([64, 1])\n"
     ]
    },
    {
     "name": "stdout",
     "output_type": "stream",
     "text": [
      "pred_output shape: torch.Size([9, 1])\n"
     ]
    },
    {
     "name": "stdout",
     "output_type": "stream",
     "text": [
      "running epoch: 26\n"
     ]
    },
    {
     "name": "stdout",
     "output_type": "stream",
     "text": [
      "pred_output shape: torch.Size([64, 1])\n"
     ]
    },
    {
     "name": "stdout",
     "output_type": "stream",
     "text": [
      "pred_output shape: torch.Size([64, 1])\n"
     ]
    },
    {
     "name": "stdout",
     "output_type": "stream",
     "text": [
      "pred_output shape: torch.Size([64, 1])\n"
     ]
    },
    {
     "name": "stdout",
     "output_type": "stream",
     "text": [
      "pred_output shape: torch.Size([64, 1])\n"
     ]
    },
    {
     "name": "stdout",
     "output_type": "stream",
     "text": [
      "pred_output shape: torch.Size([64, 1])\n"
     ]
    },
    {
     "name": "stdout",
     "output_type": "stream",
     "text": [
      "pred_output shape: torch.Size([64, 1])\n"
     ]
    },
    {
     "name": "stdout",
     "output_type": "stream",
     "text": [
      "pred_output shape: torch.Size([64, 1])\n"
     ]
    },
    {
     "name": "stdout",
     "output_type": "stream",
     "text": [
      "pred_output shape: torch.Size([64, 1])\n"
     ]
    },
    {
     "name": "stdout",
     "output_type": "stream",
     "text": [
      "pred_output shape: torch.Size([64, 1])\n"
     ]
    },
    {
     "name": "stdout",
     "output_type": "stream",
     "text": [
      "pred_output shape: torch.Size([64, 1])\n"
     ]
    },
    {
     "name": "stdout",
     "output_type": "stream",
     "text": [
      "pred_output shape: torch.Size([64, 1])\n"
     ]
    },
    {
     "name": "stdout",
     "output_type": "stream",
     "text": [
      "pred_output shape: torch.Size([64, 1])\n"
     ]
    },
    {
     "name": "stdout",
     "output_type": "stream",
     "text": [
      "pred_output shape: torch.Size([64, 1])\n"
     ]
    },
    {
     "name": "stdout",
     "output_type": "stream",
     "text": [
      "pred_output shape: torch.Size([64, 1])\n"
     ]
    },
    {
     "name": "stdout",
     "output_type": "stream",
     "text": [
      "pred_output shape: torch.Size([64, 1])\n"
     ]
    },
    {
     "name": "stdout",
     "output_type": "stream",
     "text": [
      "pred_output shape: torch.Size([64, 1])\n"
     ]
    },
    {
     "name": "stdout",
     "output_type": "stream",
     "text": [
      "pred_output shape: torch.Size([64, 1])\n"
     ]
    },
    {
     "name": "stdout",
     "output_type": "stream",
     "text": [
      "pred_output shape: torch.Size([64, 1])\n"
     ]
    },
    {
     "name": "stdout",
     "output_type": "stream",
     "text": [
      "pred_output shape: torch.Size([64, 1])\n"
     ]
    },
    {
     "name": "stdout",
     "output_type": "stream",
     "text": [
      "pred_output shape: torch.Size([64, 1])\n"
     ]
    },
    {
     "name": "stdout",
     "output_type": "stream",
     "text": [
      "pred_output shape: torch.Size([64, 1])\n"
     ]
    },
    {
     "name": "stdout",
     "output_type": "stream",
     "text": [
      "pred_output shape: torch.Size([64, 1])\n"
     ]
    },
    {
     "name": "stdout",
     "output_type": "stream",
     "text": [
      "pred_output shape: torch.Size([64, 1])\n"
     ]
    },
    {
     "name": "stdout",
     "output_type": "stream",
     "text": [
      "pred_output shape: torch.Size([64, 1])\n"
     ]
    },
    {
     "name": "stdout",
     "output_type": "stream",
     "text": [
      "pred_output shape: torch.Size([64, 1])\n"
     ]
    },
    {
     "name": "stdout",
     "output_type": "stream",
     "text": [
      "pred_output shape: torch.Size([64, 1])\n"
     ]
    },
    {
     "name": "stdout",
     "output_type": "stream",
     "text": [
      "pred_output shape: torch.Size([64, 1])\n"
     ]
    },
    {
     "name": "stdout",
     "output_type": "stream",
     "text": [
      "pred_output shape: torch.Size([64, 1])\n"
     ]
    },
    {
     "name": "stdout",
     "output_type": "stream",
     "text": [
      "pred_output shape: torch.Size([64, 1])\n"
     ]
    },
    {
     "name": "stdout",
     "output_type": "stream",
     "text": [
      "pred_output shape: torch.Size([9, 1])\n"
     ]
    },
    {
     "name": "stdout",
     "output_type": "stream",
     "text": [
      "running epoch: 27\n"
     ]
    },
    {
     "name": "stdout",
     "output_type": "stream",
     "text": [
      "pred_output shape: torch.Size([64, 1])\n"
     ]
    },
    {
     "name": "stdout",
     "output_type": "stream",
     "text": [
      "pred_output shape: torch.Size([64, 1])\n"
     ]
    },
    {
     "name": "stdout",
     "output_type": "stream",
     "text": [
      "pred_output shape: torch.Size([64, 1])\n"
     ]
    },
    {
     "name": "stdout",
     "output_type": "stream",
     "text": [
      "pred_output shape: torch.Size([64, 1])\n"
     ]
    },
    {
     "name": "stdout",
     "output_type": "stream",
     "text": [
      "pred_output shape: torch.Size([64, 1])\n"
     ]
    },
    {
     "name": "stdout",
     "output_type": "stream",
     "text": [
      "pred_output shape: torch.Size([64, 1])\n"
     ]
    },
    {
     "name": "stdout",
     "output_type": "stream",
     "text": [
      "pred_output shape: torch.Size([64, 1])\n"
     ]
    },
    {
     "name": "stdout",
     "output_type": "stream",
     "text": [
      "pred_output shape: torch.Size([64, 1])\n"
     ]
    },
    {
     "name": "stdout",
     "output_type": "stream",
     "text": [
      "pred_output shape: torch.Size([64, 1])\n"
     ]
    },
    {
     "name": "stdout",
     "output_type": "stream",
     "text": [
      "pred_output shape: torch.Size([64, 1])\n"
     ]
    },
    {
     "name": "stdout",
     "output_type": "stream",
     "text": [
      "pred_output shape: torch.Size([64, 1])\n"
     ]
    },
    {
     "name": "stdout",
     "output_type": "stream",
     "text": [
      "pred_output shape: torch.Size([64, 1])\n"
     ]
    },
    {
     "name": "stdout",
     "output_type": "stream",
     "text": [
      "pred_output shape: torch.Size([64, 1])\n"
     ]
    },
    {
     "name": "stdout",
     "output_type": "stream",
     "text": [
      "pred_output shape: torch.Size([64, 1])\n"
     ]
    },
    {
     "name": "stdout",
     "output_type": "stream",
     "text": [
      "pred_output shape: torch.Size([64, 1])\n"
     ]
    },
    {
     "name": "stdout",
     "output_type": "stream",
     "text": [
      "pred_output shape: torch.Size([64, 1])\n"
     ]
    },
    {
     "name": "stdout",
     "output_type": "stream",
     "text": [
      "pred_output shape: torch.Size([64, 1])\n"
     ]
    },
    {
     "name": "stdout",
     "output_type": "stream",
     "text": [
      "pred_output shape: torch.Size([64, 1])\n"
     ]
    },
    {
     "name": "stdout",
     "output_type": "stream",
     "text": [
      "pred_output shape: torch.Size([64, 1])\n"
     ]
    },
    {
     "name": "stdout",
     "output_type": "stream",
     "text": [
      "pred_output shape: torch.Size([64, 1])\n"
     ]
    },
    {
     "name": "stdout",
     "output_type": "stream",
     "text": [
      "pred_output shape: torch.Size([64, 1])\n"
     ]
    },
    {
     "name": "stdout",
     "output_type": "stream",
     "text": [
      "pred_output shape: torch.Size([64, 1])\n"
     ]
    },
    {
     "name": "stdout",
     "output_type": "stream",
     "text": [
      "pred_output shape: torch.Size([64, 1])\n"
     ]
    },
    {
     "name": "stdout",
     "output_type": "stream",
     "text": [
      "pred_output shape: torch.Size([64, 1])\n"
     ]
    },
    {
     "name": "stdout",
     "output_type": "stream",
     "text": [
      "pred_output shape: torch.Size([64, 1])\n"
     ]
    },
    {
     "name": "stdout",
     "output_type": "stream",
     "text": [
      "pred_output shape: torch.Size([64, 1])\n"
     ]
    },
    {
     "name": "stdout",
     "output_type": "stream",
     "text": [
      "pred_output shape: torch.Size([64, 1])\n"
     ]
    },
    {
     "name": "stdout",
     "output_type": "stream",
     "text": [
      "pred_output shape: torch.Size([64, 1])\n"
     ]
    },
    {
     "name": "stdout",
     "output_type": "stream",
     "text": [
      "pred_output shape: torch.Size([64, 1])\n"
     ]
    },
    {
     "name": "stdout",
     "output_type": "stream",
     "text": [
      "pred_output shape: torch.Size([9, 1])\n"
     ]
    },
    {
     "name": "stdout",
     "output_type": "stream",
     "text": [
      "running epoch: 28\n"
     ]
    },
    {
     "name": "stdout",
     "output_type": "stream",
     "text": [
      "pred_output shape: torch.Size([64, 1])\n"
     ]
    },
    {
     "name": "stdout",
     "output_type": "stream",
     "text": [
      "pred_output shape: torch.Size([64, 1])\n"
     ]
    },
    {
     "name": "stdout",
     "output_type": "stream",
     "text": [
      "pred_output shape: torch.Size([64, 1])\n"
     ]
    },
    {
     "name": "stdout",
     "output_type": "stream",
     "text": [
      "pred_output shape: torch.Size([64, 1])\n"
     ]
    },
    {
     "name": "stdout",
     "output_type": "stream",
     "text": [
      "pred_output shape: torch.Size([64, 1])\n"
     ]
    },
    {
     "name": "stdout",
     "output_type": "stream",
     "text": [
      "pred_output shape: torch.Size([64, 1])\n"
     ]
    },
    {
     "name": "stdout",
     "output_type": "stream",
     "text": [
      "pred_output shape: torch.Size([64, 1])\n"
     ]
    },
    {
     "name": "stdout",
     "output_type": "stream",
     "text": [
      "pred_output shape: torch.Size([64, 1])\n"
     ]
    },
    {
     "name": "stdout",
     "output_type": "stream",
     "text": [
      "pred_output shape: torch.Size([64, 1])\n"
     ]
    },
    {
     "name": "stdout",
     "output_type": "stream",
     "text": [
      "pred_output shape: torch.Size([64, 1])\n"
     ]
    },
    {
     "name": "stdout",
     "output_type": "stream",
     "text": [
      "pred_output shape: torch.Size([64, 1])\n"
     ]
    },
    {
     "name": "stdout",
     "output_type": "stream",
     "text": [
      "pred_output shape: torch.Size([64, 1])\n"
     ]
    },
    {
     "name": "stdout",
     "output_type": "stream",
     "text": [
      "pred_output shape: torch.Size([64, 1])\n"
     ]
    },
    {
     "name": "stdout",
     "output_type": "stream",
     "text": [
      "pred_output shape: torch.Size([64, 1])\n"
     ]
    },
    {
     "name": "stdout",
     "output_type": "stream",
     "text": [
      "pred_output shape: torch.Size([64, 1])\n"
     ]
    },
    {
     "name": "stdout",
     "output_type": "stream",
     "text": [
      "pred_output shape: torch.Size([64, 1])\n"
     ]
    },
    {
     "name": "stdout",
     "output_type": "stream",
     "text": [
      "pred_output shape: torch.Size([64, 1])\n"
     ]
    },
    {
     "name": "stdout",
     "output_type": "stream",
     "text": [
      "pred_output shape: torch.Size([64, 1])\n"
     ]
    },
    {
     "name": "stdout",
     "output_type": "stream",
     "text": [
      "pred_output shape: torch.Size([64, 1])\n"
     ]
    },
    {
     "name": "stdout",
     "output_type": "stream",
     "text": [
      "pred_output shape: torch.Size([64, 1])\n"
     ]
    },
    {
     "name": "stdout",
     "output_type": "stream",
     "text": [
      "pred_output shape: torch.Size([64, 1])\n"
     ]
    },
    {
     "name": "stdout",
     "output_type": "stream",
     "text": [
      "pred_output shape: torch.Size([64, 1])\n"
     ]
    },
    {
     "name": "stdout",
     "output_type": "stream",
     "text": [
      "pred_output shape: torch.Size([64, 1])\n"
     ]
    },
    {
     "name": "stdout",
     "output_type": "stream",
     "text": [
      "pred_output shape: torch.Size([64, 1])\n"
     ]
    },
    {
     "name": "stdout",
     "output_type": "stream",
     "text": [
      "pred_output shape: torch.Size([64, 1])\n"
     ]
    },
    {
     "name": "stdout",
     "output_type": "stream",
     "text": [
      "pred_output shape: torch.Size([64, 1])\n"
     ]
    },
    {
     "name": "stdout",
     "output_type": "stream",
     "text": [
      "pred_output shape: torch.Size([64, 1])\n"
     ]
    },
    {
     "name": "stdout",
     "output_type": "stream",
     "text": [
      "pred_output shape: torch.Size([64, 1])\n"
     ]
    },
    {
     "name": "stdout",
     "output_type": "stream",
     "text": [
      "pred_output shape: torch.Size([64, 1])\n"
     ]
    },
    {
     "name": "stdout",
     "output_type": "stream",
     "text": [
      "pred_output shape: torch.Size([9, 1])\n"
     ]
    },
    {
     "name": "stdout",
     "output_type": "stream",
     "text": [
      "running epoch: 29\n"
     ]
    },
    {
     "name": "stdout",
     "output_type": "stream",
     "text": [
      "pred_output shape: torch.Size([64, 1])\n"
     ]
    },
    {
     "name": "stdout",
     "output_type": "stream",
     "text": [
      "pred_output shape: torch.Size([64, 1])\n"
     ]
    },
    {
     "name": "stdout",
     "output_type": "stream",
     "text": [
      "pred_output shape: torch.Size([64, 1])\n"
     ]
    },
    {
     "name": "stdout",
     "output_type": "stream",
     "text": [
      "pred_output shape: torch.Size([64, 1])\n"
     ]
    },
    {
     "name": "stdout",
     "output_type": "stream",
     "text": [
      "pred_output shape: torch.Size([64, 1])\n"
     ]
    },
    {
     "name": "stdout",
     "output_type": "stream",
     "text": [
      "pred_output shape: torch.Size([64, 1])\n"
     ]
    },
    {
     "name": "stdout",
     "output_type": "stream",
     "text": [
      "pred_output shape: torch.Size([64, 1])\n"
     ]
    },
    {
     "name": "stdout",
     "output_type": "stream",
     "text": [
      "pred_output shape: torch.Size([64, 1])\n"
     ]
    },
    {
     "name": "stdout",
     "output_type": "stream",
     "text": [
      "pred_output shape: torch.Size([64, 1])\n"
     ]
    },
    {
     "name": "stdout",
     "output_type": "stream",
     "text": [
      "pred_output shape: torch.Size([64, 1])\n"
     ]
    },
    {
     "name": "stdout",
     "output_type": "stream",
     "text": [
      "pred_output shape: torch.Size([64, 1])\n"
     ]
    },
    {
     "name": "stdout",
     "output_type": "stream",
     "text": [
      "pred_output shape: torch.Size([64, 1])\n"
     ]
    },
    {
     "name": "stdout",
     "output_type": "stream",
     "text": [
      "pred_output shape: torch.Size([64, 1])\n"
     ]
    },
    {
     "name": "stdout",
     "output_type": "stream",
     "text": [
      "pred_output shape: torch.Size([64, 1])\n"
     ]
    },
    {
     "name": "stdout",
     "output_type": "stream",
     "text": [
      "pred_output shape: torch.Size([64, 1])\n"
     ]
    },
    {
     "name": "stdout",
     "output_type": "stream",
     "text": [
      "pred_output shape: torch.Size([64, 1])\n"
     ]
    },
    {
     "name": "stdout",
     "output_type": "stream",
     "text": [
      "pred_output shape: torch.Size([64, 1])\n"
     ]
    },
    {
     "name": "stdout",
     "output_type": "stream",
     "text": [
      "pred_output shape: torch.Size([64, 1])\n"
     ]
    },
    {
     "name": "stdout",
     "output_type": "stream",
     "text": [
      "pred_output shape: torch.Size([64, 1])\n"
     ]
    },
    {
     "name": "stdout",
     "output_type": "stream",
     "text": [
      "pred_output shape: torch.Size([64, 1])\n"
     ]
    },
    {
     "name": "stdout",
     "output_type": "stream",
     "text": [
      "pred_output shape: torch.Size([64, 1])\n"
     ]
    },
    {
     "name": "stdout",
     "output_type": "stream",
     "text": [
      "pred_output shape: torch.Size([64, 1])\n"
     ]
    },
    {
     "name": "stdout",
     "output_type": "stream",
     "text": [
      "pred_output shape: torch.Size([64, 1])\n"
     ]
    },
    {
     "name": "stdout",
     "output_type": "stream",
     "text": [
      "pred_output shape: torch.Size([64, 1])\n"
     ]
    },
    {
     "name": "stdout",
     "output_type": "stream",
     "text": [
      "pred_output shape: torch.Size([64, 1])\n"
     ]
    },
    {
     "name": "stdout",
     "output_type": "stream",
     "text": [
      "pred_output shape: torch.Size([64, 1])\n"
     ]
    },
    {
     "name": "stdout",
     "output_type": "stream",
     "text": [
      "pred_output shape: torch.Size([64, 1])\n"
     ]
    },
    {
     "name": "stdout",
     "output_type": "stream",
     "text": [
      "pred_output shape: torch.Size([64, 1])\n"
     ]
    },
    {
     "name": "stdout",
     "output_type": "stream",
     "text": [
      "pred_output shape: torch.Size([64, 1])\n"
     ]
    },
    {
     "name": "stdout",
     "output_type": "stream",
     "text": [
      "pred_output shape: torch.Size([9, 1])\n"
     ]
    },
    {
     "name": "stdout",
     "output_type": "stream",
     "text": [
      "running epoch: 30\n"
     ]
    },
    {
     "name": "stdout",
     "output_type": "stream",
     "text": [
      "pred_output shape: torch.Size([64, 1])\n"
     ]
    },
    {
     "name": "stdout",
     "output_type": "stream",
     "text": [
      "pred_output shape: torch.Size([64, 1])\n"
     ]
    },
    {
     "name": "stdout",
     "output_type": "stream",
     "text": [
      "pred_output shape: torch.Size([64, 1])\n"
     ]
    },
    {
     "name": "stdout",
     "output_type": "stream",
     "text": [
      "pred_output shape: torch.Size([64, 1])\n"
     ]
    },
    {
     "name": "stdout",
     "output_type": "stream",
     "text": [
      "pred_output shape: torch.Size([64, 1])\n"
     ]
    },
    {
     "name": "stdout",
     "output_type": "stream",
     "text": [
      "pred_output shape: torch.Size([64, 1])\n"
     ]
    },
    {
     "name": "stdout",
     "output_type": "stream",
     "text": [
      "pred_output shape: torch.Size([64, 1])\n"
     ]
    },
    {
     "name": "stdout",
     "output_type": "stream",
     "text": [
      "pred_output shape: torch.Size([64, 1])\n"
     ]
    },
    {
     "name": "stdout",
     "output_type": "stream",
     "text": [
      "pred_output shape: torch.Size([64, 1])\n"
     ]
    },
    {
     "name": "stdout",
     "output_type": "stream",
     "text": [
      "pred_output shape: torch.Size([64, 1])\n"
     ]
    },
    {
     "name": "stdout",
     "output_type": "stream",
     "text": [
      "pred_output shape: torch.Size([64, 1])\n"
     ]
    },
    {
     "name": "stdout",
     "output_type": "stream",
     "text": [
      "pred_output shape: torch.Size([64, 1])\n"
     ]
    },
    {
     "name": "stdout",
     "output_type": "stream",
     "text": [
      "pred_output shape: torch.Size([64, 1])\n"
     ]
    },
    {
     "name": "stdout",
     "output_type": "stream",
     "text": [
      "pred_output shape: torch.Size([64, 1])\n"
     ]
    },
    {
     "name": "stdout",
     "output_type": "stream",
     "text": [
      "pred_output shape: torch.Size([64, 1])\n"
     ]
    },
    {
     "name": "stdout",
     "output_type": "stream",
     "text": [
      "pred_output shape: torch.Size([64, 1])\n"
     ]
    },
    {
     "name": "stdout",
     "output_type": "stream",
     "text": [
      "pred_output shape: torch.Size([64, 1])\n"
     ]
    },
    {
     "name": "stdout",
     "output_type": "stream",
     "text": [
      "pred_output shape: torch.Size([64, 1])\n"
     ]
    },
    {
     "name": "stdout",
     "output_type": "stream",
     "text": [
      "pred_output shape: torch.Size([64, 1])\n"
     ]
    },
    {
     "name": "stdout",
     "output_type": "stream",
     "text": [
      "pred_output shape: torch.Size([64, 1])\n"
     ]
    },
    {
     "name": "stdout",
     "output_type": "stream",
     "text": [
      "pred_output shape: torch.Size([64, 1])\n"
     ]
    },
    {
     "name": "stdout",
     "output_type": "stream",
     "text": [
      "pred_output shape: torch.Size([64, 1])\n"
     ]
    },
    {
     "name": "stdout",
     "output_type": "stream",
     "text": [
      "pred_output shape: torch.Size([64, 1])\n"
     ]
    },
    {
     "name": "stdout",
     "output_type": "stream",
     "text": [
      "pred_output shape: torch.Size([64, 1])\n"
     ]
    },
    {
     "name": "stdout",
     "output_type": "stream",
     "text": [
      "pred_output shape: torch.Size([64, 1])\n"
     ]
    },
    {
     "name": "stdout",
     "output_type": "stream",
     "text": [
      "pred_output shape: torch.Size([64, 1])\n"
     ]
    },
    {
     "name": "stdout",
     "output_type": "stream",
     "text": [
      "pred_output shape: torch.Size([64, 1])\n"
     ]
    },
    {
     "name": "stdout",
     "output_type": "stream",
     "text": [
      "pred_output shape: torch.Size([64, 1])\n"
     ]
    },
    {
     "name": "stdout",
     "output_type": "stream",
     "text": [
      "pred_output shape: torch.Size([64, 1])\n"
     ]
    },
    {
     "name": "stdout",
     "output_type": "stream",
     "text": [
      "pred_output shape: torch.Size([9, 1])\n"
     ]
    },
    {
     "name": "stdout",
     "output_type": "stream",
     "text": [
      "running epoch: 31\n"
     ]
    },
    {
     "name": "stdout",
     "output_type": "stream",
     "text": [
      "pred_output shape: torch.Size([64, 1])\n"
     ]
    },
    {
     "name": "stdout",
     "output_type": "stream",
     "text": [
      "pred_output shape: torch.Size([64, 1])\n"
     ]
    },
    {
     "name": "stdout",
     "output_type": "stream",
     "text": [
      "pred_output shape: torch.Size([64, 1])\n"
     ]
    },
    {
     "name": "stdout",
     "output_type": "stream",
     "text": [
      "pred_output shape: torch.Size([64, 1])\n"
     ]
    },
    {
     "name": "stdout",
     "output_type": "stream",
     "text": [
      "pred_output shape: torch.Size([64, 1])\n"
     ]
    },
    {
     "name": "stdout",
     "output_type": "stream",
     "text": [
      "pred_output shape: torch.Size([64, 1])\n"
     ]
    },
    {
     "name": "stdout",
     "output_type": "stream",
     "text": [
      "pred_output shape: torch.Size([64, 1])\n"
     ]
    },
    {
     "name": "stdout",
     "output_type": "stream",
     "text": [
      "pred_output shape: torch.Size([64, 1])\n"
     ]
    },
    {
     "name": "stdout",
     "output_type": "stream",
     "text": [
      "pred_output shape: torch.Size([64, 1])\n"
     ]
    },
    {
     "name": "stdout",
     "output_type": "stream",
     "text": [
      "pred_output shape: torch.Size([64, 1])\n"
     ]
    },
    {
     "name": "stdout",
     "output_type": "stream",
     "text": [
      "pred_output shape: torch.Size([64, 1])\n"
     ]
    },
    {
     "name": "stdout",
     "output_type": "stream",
     "text": [
      "pred_output shape: torch.Size([64, 1])\n"
     ]
    },
    {
     "name": "stdout",
     "output_type": "stream",
     "text": [
      "pred_output shape: torch.Size([64, 1])\n"
     ]
    },
    {
     "name": "stdout",
     "output_type": "stream",
     "text": [
      "pred_output shape: torch.Size([64, 1])\n"
     ]
    },
    {
     "name": "stdout",
     "output_type": "stream",
     "text": [
      "pred_output shape: torch.Size([64, 1])\n"
     ]
    },
    {
     "name": "stdout",
     "output_type": "stream",
     "text": [
      "pred_output shape: torch.Size([64, 1])\n"
     ]
    },
    {
     "name": "stdout",
     "output_type": "stream",
     "text": [
      "pred_output shape: torch.Size([64, 1])\n"
     ]
    },
    {
     "name": "stdout",
     "output_type": "stream",
     "text": [
      "pred_output shape: torch.Size([64, 1])\n"
     ]
    },
    {
     "name": "stdout",
     "output_type": "stream",
     "text": [
      "pred_output shape: torch.Size([64, 1])\n"
     ]
    },
    {
     "name": "stdout",
     "output_type": "stream",
     "text": [
      "pred_output shape: torch.Size([64, 1])\n"
     ]
    },
    {
     "name": "stdout",
     "output_type": "stream",
     "text": [
      "pred_output shape: torch.Size([64, 1])\n"
     ]
    },
    {
     "name": "stdout",
     "output_type": "stream",
     "text": [
      "pred_output shape: torch.Size([64, 1])\n"
     ]
    },
    {
     "name": "stdout",
     "output_type": "stream",
     "text": [
      "pred_output shape: torch.Size([64, 1])\n"
     ]
    },
    {
     "name": "stdout",
     "output_type": "stream",
     "text": [
      "pred_output shape: torch.Size([64, 1])\n"
     ]
    },
    {
     "name": "stdout",
     "output_type": "stream",
     "text": [
      "pred_output shape: torch.Size([64, 1])\n"
     ]
    },
    {
     "name": "stdout",
     "output_type": "stream",
     "text": [
      "pred_output shape: torch.Size([64, 1])\n"
     ]
    },
    {
     "name": "stdout",
     "output_type": "stream",
     "text": [
      "pred_output shape: torch.Size([64, 1])\n"
     ]
    },
    {
     "name": "stdout",
     "output_type": "stream",
     "text": [
      "pred_output shape: torch.Size([64, 1])\n"
     ]
    },
    {
     "name": "stdout",
     "output_type": "stream",
     "text": [
      "pred_output shape: torch.Size([64, 1])\n"
     ]
    },
    {
     "name": "stdout",
     "output_type": "stream",
     "text": [
      "pred_output shape: torch.Size([9, 1])\n"
     ]
    },
    {
     "name": "stdout",
     "output_type": "stream",
     "text": [
      "running epoch: 32\n"
     ]
    },
    {
     "name": "stdout",
     "output_type": "stream",
     "text": [
      "pred_output shape: torch.Size([64, 1])\n"
     ]
    },
    {
     "name": "stdout",
     "output_type": "stream",
     "text": [
      "pred_output shape: torch.Size([64, 1])\n"
     ]
    },
    {
     "name": "stdout",
     "output_type": "stream",
     "text": [
      "pred_output shape: torch.Size([64, 1])\n"
     ]
    },
    {
     "name": "stdout",
     "output_type": "stream",
     "text": [
      "pred_output shape: torch.Size([64, 1])\n"
     ]
    },
    {
     "name": "stdout",
     "output_type": "stream",
     "text": [
      "pred_output shape: torch.Size([64, 1])\n"
     ]
    },
    {
     "name": "stdout",
     "output_type": "stream",
     "text": [
      "pred_output shape: torch.Size([64, 1])\n"
     ]
    },
    {
     "name": "stdout",
     "output_type": "stream",
     "text": [
      "pred_output shape: torch.Size([64, 1])\n"
     ]
    },
    {
     "name": "stdout",
     "output_type": "stream",
     "text": [
      "pred_output shape: torch.Size([64, 1])\n"
     ]
    },
    {
     "name": "stdout",
     "output_type": "stream",
     "text": [
      "pred_output shape: torch.Size([64, 1])\n"
     ]
    },
    {
     "name": "stdout",
     "output_type": "stream",
     "text": [
      "pred_output shape: torch.Size([64, 1])\n"
     ]
    },
    {
     "name": "stdout",
     "output_type": "stream",
     "text": [
      "pred_output shape: torch.Size([64, 1])\n"
     ]
    },
    {
     "name": "stdout",
     "output_type": "stream",
     "text": [
      "pred_output shape: torch.Size([64, 1])\n"
     ]
    },
    {
     "name": "stdout",
     "output_type": "stream",
     "text": [
      "pred_output shape: torch.Size([64, 1])\n"
     ]
    },
    {
     "name": "stdout",
     "output_type": "stream",
     "text": [
      "pred_output shape: torch.Size([64, 1])\n"
     ]
    },
    {
     "name": "stdout",
     "output_type": "stream",
     "text": [
      "pred_output shape: torch.Size([64, 1])\n"
     ]
    },
    {
     "name": "stdout",
     "output_type": "stream",
     "text": [
      "pred_output shape: torch.Size([64, 1])\n"
     ]
    },
    {
     "name": "stdout",
     "output_type": "stream",
     "text": [
      "pred_output shape: torch.Size([64, 1])\n"
     ]
    },
    {
     "name": "stdout",
     "output_type": "stream",
     "text": [
      "pred_output shape: torch.Size([64, 1])\n"
     ]
    },
    {
     "name": "stdout",
     "output_type": "stream",
     "text": [
      "pred_output shape: torch.Size([64, 1])\n"
     ]
    },
    {
     "name": "stdout",
     "output_type": "stream",
     "text": [
      "pred_output shape: torch.Size([64, 1])\n"
     ]
    },
    {
     "name": "stdout",
     "output_type": "stream",
     "text": [
      "pred_output shape: torch.Size([64, 1])\n"
     ]
    },
    {
     "name": "stdout",
     "output_type": "stream",
     "text": [
      "pred_output shape: torch.Size([64, 1])\n"
     ]
    },
    {
     "name": "stdout",
     "output_type": "stream",
     "text": [
      "pred_output shape: torch.Size([64, 1])\n"
     ]
    },
    {
     "name": "stdout",
     "output_type": "stream",
     "text": [
      "pred_output shape: torch.Size([64, 1])\n"
     ]
    },
    {
     "name": "stdout",
     "output_type": "stream",
     "text": [
      "pred_output shape: torch.Size([64, 1])\n"
     ]
    },
    {
     "name": "stdout",
     "output_type": "stream",
     "text": [
      "pred_output shape: torch.Size([64, 1])\n"
     ]
    },
    {
     "name": "stdout",
     "output_type": "stream",
     "text": [
      "pred_output shape: torch.Size([64, 1])\n"
     ]
    },
    {
     "name": "stdout",
     "output_type": "stream",
     "text": [
      "pred_output shape: torch.Size([64, 1])\n"
     ]
    },
    {
     "name": "stdout",
     "output_type": "stream",
     "text": [
      "pred_output shape: torch.Size([64, 1])\n"
     ]
    },
    {
     "name": "stdout",
     "output_type": "stream",
     "text": [
      "pred_output shape: torch.Size([9, 1])\n"
     ]
    },
    {
     "name": "stdout",
     "output_type": "stream",
     "text": [
      "running epoch: 33\n"
     ]
    },
    {
     "name": "stdout",
     "output_type": "stream",
     "text": [
      "pred_output shape: torch.Size([64, 1])\n"
     ]
    },
    {
     "name": "stdout",
     "output_type": "stream",
     "text": [
      "pred_output shape: torch.Size([64, 1])\n"
     ]
    },
    {
     "name": "stdout",
     "output_type": "stream",
     "text": [
      "pred_output shape: torch.Size([64, 1])\n"
     ]
    },
    {
     "name": "stdout",
     "output_type": "stream",
     "text": [
      "pred_output shape: torch.Size([64, 1])\n"
     ]
    },
    {
     "name": "stdout",
     "output_type": "stream",
     "text": [
      "pred_output shape: torch.Size([64, 1])\n"
     ]
    },
    {
     "name": "stdout",
     "output_type": "stream",
     "text": [
      "pred_output shape: torch.Size([64, 1])\n"
     ]
    },
    {
     "name": "stdout",
     "output_type": "stream",
     "text": [
      "pred_output shape: torch.Size([64, 1])\n"
     ]
    },
    {
     "name": "stdout",
     "output_type": "stream",
     "text": [
      "pred_output shape: torch.Size([64, 1])\n"
     ]
    },
    {
     "name": "stdout",
     "output_type": "stream",
     "text": [
      "pred_output shape: torch.Size([64, 1])\n"
     ]
    },
    {
     "name": "stdout",
     "output_type": "stream",
     "text": [
      "pred_output shape: torch.Size([64, 1])\n"
     ]
    },
    {
     "name": "stdout",
     "output_type": "stream",
     "text": [
      "pred_output shape: torch.Size([64, 1])\n"
     ]
    },
    {
     "name": "stdout",
     "output_type": "stream",
     "text": [
      "pred_output shape: torch.Size([64, 1])\n"
     ]
    },
    {
     "name": "stdout",
     "output_type": "stream",
     "text": [
      "pred_output shape: torch.Size([64, 1])\n"
     ]
    },
    {
     "name": "stdout",
     "output_type": "stream",
     "text": [
      "pred_output shape: torch.Size([64, 1])\n"
     ]
    },
    {
     "name": "stdout",
     "output_type": "stream",
     "text": [
      "pred_output shape: torch.Size([64, 1])\n"
     ]
    },
    {
     "name": "stdout",
     "output_type": "stream",
     "text": [
      "pred_output shape: torch.Size([64, 1])\n"
     ]
    },
    {
     "name": "stdout",
     "output_type": "stream",
     "text": [
      "pred_output shape: torch.Size([64, 1])\n"
     ]
    },
    {
     "name": "stdout",
     "output_type": "stream",
     "text": [
      "pred_output shape: torch.Size([64, 1])\n"
     ]
    },
    {
     "name": "stdout",
     "output_type": "stream",
     "text": [
      "pred_output shape: torch.Size([64, 1])\n"
     ]
    },
    {
     "name": "stdout",
     "output_type": "stream",
     "text": [
      "pred_output shape: torch.Size([64, 1])\n"
     ]
    },
    {
     "name": "stdout",
     "output_type": "stream",
     "text": [
      "pred_output shape: torch.Size([64, 1])\n"
     ]
    },
    {
     "name": "stdout",
     "output_type": "stream",
     "text": [
      "pred_output shape: torch.Size([64, 1])\n"
     ]
    },
    {
     "name": "stdout",
     "output_type": "stream",
     "text": [
      "pred_output shape: torch.Size([64, 1])\n"
     ]
    },
    {
     "name": "stdout",
     "output_type": "stream",
     "text": [
      "pred_output shape: torch.Size([64, 1])\n"
     ]
    },
    {
     "name": "stdout",
     "output_type": "stream",
     "text": [
      "pred_output shape: torch.Size([64, 1])\n"
     ]
    },
    {
     "name": "stdout",
     "output_type": "stream",
     "text": [
      "pred_output shape: torch.Size([64, 1])\n"
     ]
    },
    {
     "name": "stdout",
     "output_type": "stream",
     "text": [
      "pred_output shape: torch.Size([64, 1])\n"
     ]
    },
    {
     "name": "stdout",
     "output_type": "stream",
     "text": [
      "pred_output shape: torch.Size([64, 1])\n"
     ]
    },
    {
     "name": "stdout",
     "output_type": "stream",
     "text": [
      "pred_output shape: torch.Size([64, 1])\n"
     ]
    },
    {
     "name": "stdout",
     "output_type": "stream",
     "text": [
      "pred_output shape: torch.Size([9, 1])\n"
     ]
    },
    {
     "name": "stdout",
     "output_type": "stream",
     "text": [
      "running epoch: 34\n"
     ]
    },
    {
     "name": "stdout",
     "output_type": "stream",
     "text": [
      "pred_output shape: torch.Size([64, 1])\n"
     ]
    },
    {
     "name": "stdout",
     "output_type": "stream",
     "text": [
      "pred_output shape: torch.Size([64, 1])\n"
     ]
    },
    {
     "name": "stdout",
     "output_type": "stream",
     "text": [
      "pred_output shape: torch.Size([64, 1])\n"
     ]
    },
    {
     "name": "stdout",
     "output_type": "stream",
     "text": [
      "pred_output shape: torch.Size([64, 1])\n"
     ]
    },
    {
     "name": "stdout",
     "output_type": "stream",
     "text": [
      "pred_output shape: torch.Size([64, 1])\n"
     ]
    },
    {
     "name": "stdout",
     "output_type": "stream",
     "text": [
      "pred_output shape: torch.Size([64, 1])\n"
     ]
    },
    {
     "name": "stdout",
     "output_type": "stream",
     "text": [
      "pred_output shape: torch.Size([64, 1])\n"
     ]
    },
    {
     "name": "stdout",
     "output_type": "stream",
     "text": [
      "pred_output shape: torch.Size([64, 1])\n"
     ]
    },
    {
     "name": "stdout",
     "output_type": "stream",
     "text": [
      "pred_output shape: torch.Size([64, 1])\n"
     ]
    },
    {
     "name": "stdout",
     "output_type": "stream",
     "text": [
      "pred_output shape: torch.Size([64, 1])\n"
     ]
    },
    {
     "name": "stdout",
     "output_type": "stream",
     "text": [
      "pred_output shape: torch.Size([64, 1])\n"
     ]
    },
    {
     "name": "stdout",
     "output_type": "stream",
     "text": [
      "pred_output shape: torch.Size([64, 1])\n"
     ]
    },
    {
     "name": "stdout",
     "output_type": "stream",
     "text": [
      "pred_output shape: torch.Size([64, 1])\n"
     ]
    },
    {
     "name": "stdout",
     "output_type": "stream",
     "text": [
      "pred_output shape: torch.Size([64, 1])\n"
     ]
    },
    {
     "name": "stdout",
     "output_type": "stream",
     "text": [
      "pred_output shape: torch.Size([64, 1])\n"
     ]
    },
    {
     "name": "stdout",
     "output_type": "stream",
     "text": [
      "pred_output shape: torch.Size([64, 1])\n"
     ]
    },
    {
     "name": "stdout",
     "output_type": "stream",
     "text": [
      "pred_output shape: torch.Size([64, 1])\n"
     ]
    },
    {
     "name": "stdout",
     "output_type": "stream",
     "text": [
      "pred_output shape: torch.Size([64, 1])\n"
     ]
    },
    {
     "name": "stdout",
     "output_type": "stream",
     "text": [
      "pred_output shape: torch.Size([64, 1])\n"
     ]
    },
    {
     "name": "stdout",
     "output_type": "stream",
     "text": [
      "pred_output shape: torch.Size([64, 1])\n"
     ]
    },
    {
     "name": "stdout",
     "output_type": "stream",
     "text": [
      "pred_output shape: torch.Size([64, 1])\n"
     ]
    },
    {
     "name": "stdout",
     "output_type": "stream",
     "text": [
      "pred_output shape: torch.Size([64, 1])\n"
     ]
    },
    {
     "name": "stdout",
     "output_type": "stream",
     "text": [
      "pred_output shape: torch.Size([64, 1])\n"
     ]
    },
    {
     "name": "stdout",
     "output_type": "stream",
     "text": [
      "pred_output shape: torch.Size([64, 1])\n"
     ]
    },
    {
     "name": "stdout",
     "output_type": "stream",
     "text": [
      "pred_output shape: torch.Size([64, 1])\n"
     ]
    },
    {
     "name": "stdout",
     "output_type": "stream",
     "text": [
      "pred_output shape: torch.Size([64, 1])\n"
     ]
    },
    {
     "name": "stdout",
     "output_type": "stream",
     "text": [
      "pred_output shape: torch.Size([64, 1])\n"
     ]
    },
    {
     "name": "stdout",
     "output_type": "stream",
     "text": [
      "pred_output shape: torch.Size([64, 1])\n"
     ]
    },
    {
     "name": "stdout",
     "output_type": "stream",
     "text": [
      "pred_output shape: torch.Size([64, 1])\n"
     ]
    },
    {
     "name": "stdout",
     "output_type": "stream",
     "text": [
      "pred_output shape: torch.Size([9, 1])\n"
     ]
    },
    {
     "name": "stdout",
     "output_type": "stream",
     "text": [
      "running epoch: 35\n"
     ]
    },
    {
     "name": "stdout",
     "output_type": "stream",
     "text": [
      "pred_output shape: torch.Size([64, 1])\n"
     ]
    },
    {
     "name": "stdout",
     "output_type": "stream",
     "text": [
      "pred_output shape: torch.Size([64, 1])\n"
     ]
    },
    {
     "name": "stdout",
     "output_type": "stream",
     "text": [
      "pred_output shape: torch.Size([64, 1])\n"
     ]
    },
    {
     "name": "stdout",
     "output_type": "stream",
     "text": [
      "pred_output shape: torch.Size([64, 1])\n"
     ]
    },
    {
     "name": "stdout",
     "output_type": "stream",
     "text": [
      "pred_output shape: torch.Size([64, 1])\n"
     ]
    },
    {
     "name": "stdout",
     "output_type": "stream",
     "text": [
      "pred_output shape: torch.Size([64, 1])\n"
     ]
    },
    {
     "name": "stdout",
     "output_type": "stream",
     "text": [
      "pred_output shape: torch.Size([64, 1])\n"
     ]
    },
    {
     "name": "stdout",
     "output_type": "stream",
     "text": [
      "pred_output shape: torch.Size([64, 1])\n"
     ]
    },
    {
     "name": "stdout",
     "output_type": "stream",
     "text": [
      "pred_output shape: torch.Size([64, 1])\n"
     ]
    },
    {
     "name": "stdout",
     "output_type": "stream",
     "text": [
      "pred_output shape: torch.Size([64, 1])\n"
     ]
    },
    {
     "name": "stdout",
     "output_type": "stream",
     "text": [
      "pred_output shape: torch.Size([64, 1])\n"
     ]
    },
    {
     "name": "stdout",
     "output_type": "stream",
     "text": [
      "pred_output shape: torch.Size([64, 1])\n"
     ]
    },
    {
     "name": "stdout",
     "output_type": "stream",
     "text": [
      "pred_output shape: torch.Size([64, 1])\n"
     ]
    },
    {
     "name": "stdout",
     "output_type": "stream",
     "text": [
      "pred_output shape: torch.Size([64, 1])\n"
     ]
    },
    {
     "name": "stdout",
     "output_type": "stream",
     "text": [
      "pred_output shape: torch.Size([64, 1])\n"
     ]
    },
    {
     "name": "stdout",
     "output_type": "stream",
     "text": [
      "pred_output shape: torch.Size([64, 1])\n"
     ]
    },
    {
     "name": "stdout",
     "output_type": "stream",
     "text": [
      "pred_output shape: torch.Size([64, 1])\n"
     ]
    },
    {
     "name": "stdout",
     "output_type": "stream",
     "text": [
      "pred_output shape: torch.Size([64, 1])\n"
     ]
    },
    {
     "name": "stdout",
     "output_type": "stream",
     "text": [
      "pred_output shape: torch.Size([64, 1])\n"
     ]
    },
    {
     "name": "stdout",
     "output_type": "stream",
     "text": [
      "pred_output shape: torch.Size([64, 1])\n"
     ]
    },
    {
     "name": "stdout",
     "output_type": "stream",
     "text": [
      "pred_output shape: torch.Size([64, 1])\n"
     ]
    },
    {
     "name": "stdout",
     "output_type": "stream",
     "text": [
      "pred_output shape: torch.Size([64, 1])\n"
     ]
    },
    {
     "name": "stdout",
     "output_type": "stream",
     "text": [
      "pred_output shape: torch.Size([64, 1])\n"
     ]
    },
    {
     "name": "stdout",
     "output_type": "stream",
     "text": [
      "pred_output shape: torch.Size([64, 1])\n"
     ]
    },
    {
     "name": "stdout",
     "output_type": "stream",
     "text": [
      "pred_output shape: torch.Size([64, 1])\n"
     ]
    },
    {
     "name": "stdout",
     "output_type": "stream",
     "text": [
      "pred_output shape: torch.Size([64, 1])\n"
     ]
    },
    {
     "name": "stdout",
     "output_type": "stream",
     "text": [
      "pred_output shape: torch.Size([64, 1])\n"
     ]
    },
    {
     "name": "stdout",
     "output_type": "stream",
     "text": [
      "pred_output shape: torch.Size([64, 1])\n"
     ]
    },
    {
     "name": "stdout",
     "output_type": "stream",
     "text": [
      "pred_output shape: torch.Size([64, 1])\n"
     ]
    },
    {
     "name": "stdout",
     "output_type": "stream",
     "text": [
      "pred_output shape: torch.Size([9, 1])\n"
     ]
    },
    {
     "name": "stdout",
     "output_type": "stream",
     "text": [
      "running epoch: 36\n"
     ]
    },
    {
     "name": "stdout",
     "output_type": "stream",
     "text": [
      "pred_output shape: torch.Size([64, 1])\n"
     ]
    },
    {
     "name": "stdout",
     "output_type": "stream",
     "text": [
      "pred_output shape: torch.Size([64, 1])\n"
     ]
    },
    {
     "name": "stdout",
     "output_type": "stream",
     "text": [
      "pred_output shape: torch.Size([64, 1])\n"
     ]
    },
    {
     "name": "stdout",
     "output_type": "stream",
     "text": [
      "pred_output shape: torch.Size([64, 1])\n"
     ]
    },
    {
     "name": "stdout",
     "output_type": "stream",
     "text": [
      "pred_output shape: torch.Size([64, 1])\n"
     ]
    },
    {
     "name": "stdout",
     "output_type": "stream",
     "text": [
      "pred_output shape: torch.Size([64, 1])\n"
     ]
    },
    {
     "name": "stdout",
     "output_type": "stream",
     "text": [
      "pred_output shape: torch.Size([64, 1])\n"
     ]
    },
    {
     "name": "stdout",
     "output_type": "stream",
     "text": [
      "pred_output shape: torch.Size([64, 1])\n"
     ]
    },
    {
     "name": "stdout",
     "output_type": "stream",
     "text": [
      "pred_output shape: torch.Size([64, 1])\n"
     ]
    },
    {
     "name": "stdout",
     "output_type": "stream",
     "text": [
      "pred_output shape: torch.Size([64, 1])\n"
     ]
    },
    {
     "name": "stdout",
     "output_type": "stream",
     "text": [
      "pred_output shape: torch.Size([64, 1])\n"
     ]
    },
    {
     "name": "stdout",
     "output_type": "stream",
     "text": [
      "pred_output shape: torch.Size([64, 1])\n"
     ]
    },
    {
     "name": "stdout",
     "output_type": "stream",
     "text": [
      "pred_output shape: torch.Size([64, 1])\n"
     ]
    },
    {
     "name": "stdout",
     "output_type": "stream",
     "text": [
      "pred_output shape: torch.Size([64, 1])\n"
     ]
    },
    {
     "name": "stdout",
     "output_type": "stream",
     "text": [
      "pred_output shape: torch.Size([64, 1])\n"
     ]
    },
    {
     "name": "stdout",
     "output_type": "stream",
     "text": [
      "pred_output shape: torch.Size([64, 1])\n"
     ]
    },
    {
     "name": "stdout",
     "output_type": "stream",
     "text": [
      "pred_output shape: torch.Size([64, 1])\n"
     ]
    },
    {
     "name": "stdout",
     "output_type": "stream",
     "text": [
      "pred_output shape: torch.Size([64, 1])\n"
     ]
    },
    {
     "name": "stdout",
     "output_type": "stream",
     "text": [
      "pred_output shape: torch.Size([64, 1])\n"
     ]
    },
    {
     "name": "stdout",
     "output_type": "stream",
     "text": [
      "pred_output shape: torch.Size([64, 1])\n"
     ]
    },
    {
     "name": "stdout",
     "output_type": "stream",
     "text": [
      "pred_output shape: torch.Size([64, 1])\n"
     ]
    },
    {
     "name": "stdout",
     "output_type": "stream",
     "text": [
      "pred_output shape: torch.Size([64, 1])\n"
     ]
    },
    {
     "name": "stdout",
     "output_type": "stream",
     "text": [
      "pred_output shape: torch.Size([64, 1])\n"
     ]
    },
    {
     "name": "stdout",
     "output_type": "stream",
     "text": [
      "pred_output shape: torch.Size([64, 1])\n"
     ]
    },
    {
     "name": "stdout",
     "output_type": "stream",
     "text": [
      "pred_output shape: torch.Size([64, 1])\n"
     ]
    },
    {
     "name": "stdout",
     "output_type": "stream",
     "text": [
      "pred_output shape: torch.Size([64, 1])\n"
     ]
    },
    {
     "name": "stdout",
     "output_type": "stream",
     "text": [
      "pred_output shape: torch.Size([64, 1])\n"
     ]
    },
    {
     "name": "stdout",
     "output_type": "stream",
     "text": [
      "pred_output shape: torch.Size([64, 1])\n"
     ]
    },
    {
     "name": "stdout",
     "output_type": "stream",
     "text": [
      "pred_output shape: torch.Size([64, 1])\n"
     ]
    },
    {
     "name": "stdout",
     "output_type": "stream",
     "text": [
      "pred_output shape: torch.Size([9, 1])\n"
     ]
    },
    {
     "name": "stdout",
     "output_type": "stream",
     "text": [
      "running epoch: 37\n"
     ]
    },
    {
     "name": "stdout",
     "output_type": "stream",
     "text": [
      "pred_output shape: torch.Size([64, 1])\n"
     ]
    },
    {
     "name": "stdout",
     "output_type": "stream",
     "text": [
      "pred_output shape: torch.Size([64, 1])\n"
     ]
    },
    {
     "name": "stdout",
     "output_type": "stream",
     "text": [
      "pred_output shape: torch.Size([64, 1])\n"
     ]
    },
    {
     "name": "stdout",
     "output_type": "stream",
     "text": [
      "pred_output shape: torch.Size([64, 1])\n"
     ]
    },
    {
     "name": "stdout",
     "output_type": "stream",
     "text": [
      "pred_output shape: torch.Size([64, 1])\n"
     ]
    },
    {
     "name": "stdout",
     "output_type": "stream",
     "text": [
      "pred_output shape: torch.Size([64, 1])\n"
     ]
    },
    {
     "name": "stdout",
     "output_type": "stream",
     "text": [
      "pred_output shape: torch.Size([64, 1])\n"
     ]
    },
    {
     "name": "stdout",
     "output_type": "stream",
     "text": [
      "pred_output shape: torch.Size([64, 1])\n"
     ]
    },
    {
     "name": "stdout",
     "output_type": "stream",
     "text": [
      "pred_output shape: torch.Size([64, 1])\n"
     ]
    },
    {
     "name": "stdout",
     "output_type": "stream",
     "text": [
      "pred_output shape: torch.Size([64, 1])\n"
     ]
    },
    {
     "name": "stdout",
     "output_type": "stream",
     "text": [
      "pred_output shape: torch.Size([64, 1])\n"
     ]
    },
    {
     "name": "stdout",
     "output_type": "stream",
     "text": [
      "pred_output shape: torch.Size([64, 1])\n"
     ]
    },
    {
     "name": "stdout",
     "output_type": "stream",
     "text": [
      "pred_output shape: torch.Size([64, 1])\n"
     ]
    },
    {
     "name": "stdout",
     "output_type": "stream",
     "text": [
      "pred_output shape: torch.Size([64, 1])\n"
     ]
    },
    {
     "name": "stdout",
     "output_type": "stream",
     "text": [
      "pred_output shape: torch.Size([64, 1])\n"
     ]
    },
    {
     "name": "stdout",
     "output_type": "stream",
     "text": [
      "pred_output shape: torch.Size([64, 1])\n"
     ]
    },
    {
     "name": "stdout",
     "output_type": "stream",
     "text": [
      "pred_output shape: torch.Size([64, 1])\n"
     ]
    },
    {
     "name": "stdout",
     "output_type": "stream",
     "text": [
      "pred_output shape: torch.Size([64, 1])\n"
     ]
    },
    {
     "name": "stdout",
     "output_type": "stream",
     "text": [
      "pred_output shape: torch.Size([64, 1])\n"
     ]
    },
    {
     "name": "stdout",
     "output_type": "stream",
     "text": [
      "pred_output shape: torch.Size([64, 1])\n"
     ]
    },
    {
     "name": "stdout",
     "output_type": "stream",
     "text": [
      "pred_output shape: torch.Size([64, 1])\n"
     ]
    },
    {
     "name": "stdout",
     "output_type": "stream",
     "text": [
      "pred_output shape: torch.Size([64, 1])\n"
     ]
    },
    {
     "name": "stdout",
     "output_type": "stream",
     "text": [
      "pred_output shape: torch.Size([64, 1])\n"
     ]
    },
    {
     "name": "stdout",
     "output_type": "stream",
     "text": [
      "pred_output shape: torch.Size([64, 1])\n"
     ]
    },
    {
     "name": "stdout",
     "output_type": "stream",
     "text": [
      "pred_output shape: torch.Size([64, 1])\n"
     ]
    },
    {
     "name": "stdout",
     "output_type": "stream",
     "text": [
      "pred_output shape: torch.Size([64, 1])\n"
     ]
    },
    {
     "name": "stdout",
     "output_type": "stream",
     "text": [
      "pred_output shape: torch.Size([64, 1])\n"
     ]
    },
    {
     "name": "stdout",
     "output_type": "stream",
     "text": [
      "pred_output shape: torch.Size([64, 1])\n"
     ]
    },
    {
     "name": "stdout",
     "output_type": "stream",
     "text": [
      "pred_output shape: torch.Size([64, 1])\n"
     ]
    },
    {
     "name": "stdout",
     "output_type": "stream",
     "text": [
      "pred_output shape: torch.Size([9, 1])\n"
     ]
    },
    {
     "name": "stdout",
     "output_type": "stream",
     "text": [
      "running epoch: 38\n"
     ]
    },
    {
     "name": "stdout",
     "output_type": "stream",
     "text": [
      "pred_output shape: torch.Size([64, 1])\n"
     ]
    },
    {
     "name": "stdout",
     "output_type": "stream",
     "text": [
      "pred_output shape: torch.Size([64, 1])\n"
     ]
    },
    {
     "name": "stdout",
     "output_type": "stream",
     "text": [
      "pred_output shape: torch.Size([64, 1])\n"
     ]
    },
    {
     "name": "stdout",
     "output_type": "stream",
     "text": [
      "pred_output shape: torch.Size([64, 1])\n"
     ]
    },
    {
     "name": "stdout",
     "output_type": "stream",
     "text": [
      "pred_output shape: torch.Size([64, 1])\n"
     ]
    },
    {
     "name": "stdout",
     "output_type": "stream",
     "text": [
      "pred_output shape: torch.Size([64, 1])\n"
     ]
    },
    {
     "name": "stdout",
     "output_type": "stream",
     "text": [
      "pred_output shape: torch.Size([64, 1])\n"
     ]
    },
    {
     "name": "stdout",
     "output_type": "stream",
     "text": [
      "pred_output shape: torch.Size([64, 1])\n"
     ]
    },
    {
     "name": "stdout",
     "output_type": "stream",
     "text": [
      "pred_output shape: torch.Size([64, 1])\n"
     ]
    },
    {
     "name": "stdout",
     "output_type": "stream",
     "text": [
      "pred_output shape: torch.Size([64, 1])\n"
     ]
    },
    {
     "name": "stdout",
     "output_type": "stream",
     "text": [
      "pred_output shape: torch.Size([64, 1])\n"
     ]
    },
    {
     "name": "stdout",
     "output_type": "stream",
     "text": [
      "pred_output shape: torch.Size([64, 1])\n"
     ]
    },
    {
     "name": "stdout",
     "output_type": "stream",
     "text": [
      "pred_output shape: torch.Size([64, 1])\n"
     ]
    },
    {
     "name": "stdout",
     "output_type": "stream",
     "text": [
      "pred_output shape: torch.Size([64, 1])\n"
     ]
    },
    {
     "name": "stdout",
     "output_type": "stream",
     "text": [
      "pred_output shape: torch.Size([64, 1])\n"
     ]
    },
    {
     "name": "stdout",
     "output_type": "stream",
     "text": [
      "pred_output shape: torch.Size([64, 1])\n"
     ]
    },
    {
     "name": "stdout",
     "output_type": "stream",
     "text": [
      "pred_output shape: torch.Size([64, 1])\n"
     ]
    },
    {
     "name": "stdout",
     "output_type": "stream",
     "text": [
      "pred_output shape: torch.Size([64, 1])\n"
     ]
    },
    {
     "name": "stdout",
     "output_type": "stream",
     "text": [
      "pred_output shape: torch.Size([64, 1])\n"
     ]
    },
    {
     "name": "stdout",
     "output_type": "stream",
     "text": [
      "pred_output shape: torch.Size([64, 1])\n"
     ]
    },
    {
     "name": "stdout",
     "output_type": "stream",
     "text": [
      "pred_output shape: torch.Size([64, 1])\n"
     ]
    },
    {
     "name": "stdout",
     "output_type": "stream",
     "text": [
      "pred_output shape: torch.Size([64, 1])\n"
     ]
    },
    {
     "name": "stdout",
     "output_type": "stream",
     "text": [
      "pred_output shape: torch.Size([64, 1])\n"
     ]
    },
    {
     "name": "stdout",
     "output_type": "stream",
     "text": [
      "pred_output shape: torch.Size([64, 1])\n"
     ]
    },
    {
     "name": "stdout",
     "output_type": "stream",
     "text": [
      "pred_output shape: torch.Size([64, 1])\n"
     ]
    },
    {
     "name": "stdout",
     "output_type": "stream",
     "text": [
      "pred_output shape: torch.Size([64, 1])\n"
     ]
    },
    {
     "name": "stdout",
     "output_type": "stream",
     "text": [
      "pred_output shape: torch.Size([64, 1])\n"
     ]
    },
    {
     "name": "stdout",
     "output_type": "stream",
     "text": [
      "pred_output shape: torch.Size([64, 1])\n"
     ]
    },
    {
     "name": "stdout",
     "output_type": "stream",
     "text": [
      "pred_output shape: torch.Size([64, 1])\n"
     ]
    },
    {
     "name": "stdout",
     "output_type": "stream",
     "text": [
      "pred_output shape: torch.Size([9, 1])\n"
     ]
    },
    {
     "name": "stdout",
     "output_type": "stream",
     "text": [
      "running epoch: 39\n"
     ]
    },
    {
     "name": "stdout",
     "output_type": "stream",
     "text": [
      "pred_output shape: torch.Size([64, 1])\n"
     ]
    },
    {
     "name": "stdout",
     "output_type": "stream",
     "text": [
      "pred_output shape: torch.Size([64, 1])\n"
     ]
    },
    {
     "name": "stdout",
     "output_type": "stream",
     "text": [
      "pred_output shape: torch.Size([64, 1])\n"
     ]
    },
    {
     "name": "stdout",
     "output_type": "stream",
     "text": [
      "pred_output shape: torch.Size([64, 1])\n"
     ]
    },
    {
     "name": "stdout",
     "output_type": "stream",
     "text": [
      "pred_output shape: torch.Size([64, 1])\n"
     ]
    },
    {
     "name": "stdout",
     "output_type": "stream",
     "text": [
      "pred_output shape: torch.Size([64, 1])\n"
     ]
    },
    {
     "name": "stdout",
     "output_type": "stream",
     "text": [
      "pred_output shape: torch.Size([64, 1])\n"
     ]
    },
    {
     "name": "stdout",
     "output_type": "stream",
     "text": [
      "pred_output shape: torch.Size([64, 1])\n"
     ]
    },
    {
     "name": "stdout",
     "output_type": "stream",
     "text": [
      "pred_output shape: torch.Size([64, 1])\n"
     ]
    },
    {
     "name": "stdout",
     "output_type": "stream",
     "text": [
      "pred_output shape: torch.Size([64, 1])\n"
     ]
    },
    {
     "name": "stdout",
     "output_type": "stream",
     "text": [
      "pred_output shape: torch.Size([64, 1])\n"
     ]
    },
    {
     "name": "stdout",
     "output_type": "stream",
     "text": [
      "pred_output shape: torch.Size([64, 1])\n"
     ]
    },
    {
     "name": "stdout",
     "output_type": "stream",
     "text": [
      "pred_output shape: torch.Size([64, 1])\n"
     ]
    },
    {
     "name": "stdout",
     "output_type": "stream",
     "text": [
      "pred_output shape: torch.Size([64, 1])\n"
     ]
    },
    {
     "name": "stdout",
     "output_type": "stream",
     "text": [
      "pred_output shape: torch.Size([64, 1])\n"
     ]
    },
    {
     "name": "stdout",
     "output_type": "stream",
     "text": [
      "pred_output shape: torch.Size([64, 1])\n"
     ]
    },
    {
     "name": "stdout",
     "output_type": "stream",
     "text": [
      "pred_output shape: torch.Size([64, 1])\n"
     ]
    },
    {
     "name": "stdout",
     "output_type": "stream",
     "text": [
      "pred_output shape: torch.Size([64, 1])\n"
     ]
    },
    {
     "name": "stdout",
     "output_type": "stream",
     "text": [
      "pred_output shape: torch.Size([64, 1])\n"
     ]
    },
    {
     "name": "stdout",
     "output_type": "stream",
     "text": [
      "pred_output shape: torch.Size([64, 1])\n"
     ]
    },
    {
     "name": "stdout",
     "output_type": "stream",
     "text": [
      "pred_output shape: torch.Size([64, 1])\n"
     ]
    },
    {
     "name": "stdout",
     "output_type": "stream",
     "text": [
      "pred_output shape: torch.Size([64, 1])\n"
     ]
    },
    {
     "name": "stdout",
     "output_type": "stream",
     "text": [
      "pred_output shape: torch.Size([64, 1])\n"
     ]
    },
    {
     "name": "stdout",
     "output_type": "stream",
     "text": [
      "pred_output shape: torch.Size([64, 1])\n"
     ]
    },
    {
     "name": "stdout",
     "output_type": "stream",
     "text": [
      "pred_output shape: torch.Size([64, 1])\n"
     ]
    },
    {
     "name": "stdout",
     "output_type": "stream",
     "text": [
      "pred_output shape: torch.Size([64, 1])\n"
     ]
    },
    {
     "name": "stdout",
     "output_type": "stream",
     "text": [
      "pred_output shape: torch.Size([64, 1])\n"
     ]
    },
    {
     "name": "stdout",
     "output_type": "stream",
     "text": [
      "pred_output shape: torch.Size([64, 1])\n"
     ]
    },
    {
     "name": "stdout",
     "output_type": "stream",
     "text": [
      "pred_output shape: torch.Size([64, 1])\n"
     ]
    },
    {
     "name": "stdout",
     "output_type": "stream",
     "text": [
      "pred_output shape: torch.Size([9, 1])\n"
     ]
    },
    {
     "name": "stdout",
     "output_type": "stream",
     "text": [
      "running epoch: 40\n"
     ]
    },
    {
     "name": "stdout",
     "output_type": "stream",
     "text": [
      "pred_output shape: torch.Size([64, 1])\n"
     ]
    },
    {
     "name": "stdout",
     "output_type": "stream",
     "text": [
      "pred_output shape: torch.Size([64, 1])\n"
     ]
    },
    {
     "name": "stdout",
     "output_type": "stream",
     "text": [
      "pred_output shape: torch.Size([64, 1])\n"
     ]
    },
    {
     "name": "stdout",
     "output_type": "stream",
     "text": [
      "pred_output shape: torch.Size([64, 1])\n"
     ]
    },
    {
     "name": "stdout",
     "output_type": "stream",
     "text": [
      "pred_output shape: torch.Size([64, 1])\n"
     ]
    },
    {
     "name": "stdout",
     "output_type": "stream",
     "text": [
      "pred_output shape: torch.Size([64, 1])\n"
     ]
    },
    {
     "name": "stdout",
     "output_type": "stream",
     "text": [
      "pred_output shape: torch.Size([64, 1])\n"
     ]
    },
    {
     "name": "stdout",
     "output_type": "stream",
     "text": [
      "pred_output shape: torch.Size([64, 1])\n"
     ]
    },
    {
     "name": "stdout",
     "output_type": "stream",
     "text": [
      "pred_output shape: torch.Size([64, 1])\n"
     ]
    },
    {
     "name": "stdout",
     "output_type": "stream",
     "text": [
      "pred_output shape: torch.Size([64, 1])\n"
     ]
    },
    {
     "name": "stdout",
     "output_type": "stream",
     "text": [
      "pred_output shape: torch.Size([64, 1])\n"
     ]
    },
    {
     "name": "stdout",
     "output_type": "stream",
     "text": [
      "pred_output shape: torch.Size([64, 1])\n"
     ]
    },
    {
     "name": "stdout",
     "output_type": "stream",
     "text": [
      "pred_output shape: torch.Size([64, 1])\n"
     ]
    },
    {
     "name": "stdout",
     "output_type": "stream",
     "text": [
      "pred_output shape: torch.Size([64, 1])\n"
     ]
    },
    {
     "name": "stdout",
     "output_type": "stream",
     "text": [
      "pred_output shape: torch.Size([64, 1])\n"
     ]
    },
    {
     "name": "stdout",
     "output_type": "stream",
     "text": [
      "pred_output shape: torch.Size([64, 1])\n"
     ]
    },
    {
     "name": "stdout",
     "output_type": "stream",
     "text": [
      "pred_output shape: torch.Size([64, 1])\n"
     ]
    },
    {
     "name": "stdout",
     "output_type": "stream",
     "text": [
      "pred_output shape: torch.Size([64, 1])\n"
     ]
    },
    {
     "name": "stdout",
     "output_type": "stream",
     "text": [
      "pred_output shape: torch.Size([64, 1])\n"
     ]
    },
    {
     "name": "stdout",
     "output_type": "stream",
     "text": [
      "pred_output shape: torch.Size([64, 1])\n"
     ]
    },
    {
     "name": "stdout",
     "output_type": "stream",
     "text": [
      "pred_output shape: torch.Size([64, 1])\n"
     ]
    },
    {
     "name": "stdout",
     "output_type": "stream",
     "text": [
      "pred_output shape: torch.Size([64, 1])\n"
     ]
    },
    {
     "name": "stdout",
     "output_type": "stream",
     "text": [
      "pred_output shape: torch.Size([64, 1])\n"
     ]
    },
    {
     "name": "stdout",
     "output_type": "stream",
     "text": [
      "pred_output shape: torch.Size([64, 1])\n"
     ]
    },
    {
     "name": "stdout",
     "output_type": "stream",
     "text": [
      "pred_output shape: torch.Size([64, 1])\n"
     ]
    },
    {
     "name": "stdout",
     "output_type": "stream",
     "text": [
      "pred_output shape: torch.Size([64, 1])\n"
     ]
    },
    {
     "name": "stdout",
     "output_type": "stream",
     "text": [
      "pred_output shape: torch.Size([64, 1])\n"
     ]
    },
    {
     "name": "stdout",
     "output_type": "stream",
     "text": [
      "pred_output shape: torch.Size([64, 1])\n"
     ]
    },
    {
     "name": "stdout",
     "output_type": "stream",
     "text": [
      "pred_output shape: torch.Size([64, 1])\n"
     ]
    },
    {
     "name": "stdout",
     "output_type": "stream",
     "text": [
      "pred_output shape: torch.Size([9, 1])\n"
     ]
    },
    {
     "name": "stdout",
     "output_type": "stream",
     "text": [
      "Epoch: 40  Avg Loss: 9.93397390225218e-05, Time: 10057.846321821213\n",
      "Median: 1.0537982382824767\n",
      "Mean: 1.1580006845732362\n",
      "running epoch: 41\n"
     ]
    },
    {
     "name": "stdout",
     "output_type": "stream",
     "text": [
      "pred_output shape: torch.Size([64, 1])\n"
     ]
    },
    {
     "name": "stdout",
     "output_type": "stream",
     "text": [
      "pred_output shape: torch.Size([64, 1])\n"
     ]
    },
    {
     "name": "stdout",
     "output_type": "stream",
     "text": [
      "pred_output shape: torch.Size([64, 1])\n"
     ]
    },
    {
     "name": "stdout",
     "output_type": "stream",
     "text": [
      "pred_output shape: torch.Size([64, 1])\n"
     ]
    },
    {
     "name": "stdout",
     "output_type": "stream",
     "text": [
      "pred_output shape: torch.Size([64, 1])\n"
     ]
    },
    {
     "name": "stdout",
     "output_type": "stream",
     "text": [
      "pred_output shape: torch.Size([64, 1])\n"
     ]
    },
    {
     "name": "stdout",
     "output_type": "stream",
     "text": [
      "pred_output shape: torch.Size([64, 1])\n"
     ]
    },
    {
     "name": "stdout",
     "output_type": "stream",
     "text": [
      "pred_output shape: torch.Size([64, 1])\n"
     ]
    },
    {
     "name": "stdout",
     "output_type": "stream",
     "text": [
      "pred_output shape: torch.Size([64, 1])\n"
     ]
    },
    {
     "name": "stdout",
     "output_type": "stream",
     "text": [
      "pred_output shape: torch.Size([64, 1])\n"
     ]
    },
    {
     "name": "stdout",
     "output_type": "stream",
     "text": [
      "pred_output shape: torch.Size([64, 1])\n"
     ]
    },
    {
     "name": "stdout",
     "output_type": "stream",
     "text": [
      "pred_output shape: torch.Size([64, 1])\n"
     ]
    },
    {
     "name": "stdout",
     "output_type": "stream",
     "text": [
      "pred_output shape: torch.Size([64, 1])\n"
     ]
    },
    {
     "name": "stdout",
     "output_type": "stream",
     "text": [
      "pred_output shape: torch.Size([64, 1])\n"
     ]
    },
    {
     "name": "stdout",
     "output_type": "stream",
     "text": [
      "pred_output shape: torch.Size([64, 1])\n"
     ]
    },
    {
     "name": "stdout",
     "output_type": "stream",
     "text": [
      "pred_output shape: torch.Size([64, 1])\n"
     ]
    },
    {
     "name": "stdout",
     "output_type": "stream",
     "text": [
      "pred_output shape: torch.Size([64, 1])\n"
     ]
    },
    {
     "name": "stdout",
     "output_type": "stream",
     "text": [
      "pred_output shape: torch.Size([64, 1])\n"
     ]
    },
    {
     "name": "stdout",
     "output_type": "stream",
     "text": [
      "pred_output shape: torch.Size([64, 1])\n"
     ]
    },
    {
     "name": "stdout",
     "output_type": "stream",
     "text": [
      "pred_output shape: torch.Size([64, 1])\n"
     ]
    },
    {
     "name": "stdout",
     "output_type": "stream",
     "text": [
      "pred_output shape: torch.Size([64, 1])\n"
     ]
    },
    {
     "name": "stdout",
     "output_type": "stream",
     "text": [
      "pred_output shape: torch.Size([64, 1])\n"
     ]
    },
    {
     "name": "stdout",
     "output_type": "stream",
     "text": [
      "pred_output shape: torch.Size([64, 1])\n"
     ]
    },
    {
     "name": "stdout",
     "output_type": "stream",
     "text": [
      "pred_output shape: torch.Size([64, 1])\n"
     ]
    },
    {
     "name": "stdout",
     "output_type": "stream",
     "text": [
      "pred_output shape: torch.Size([64, 1])\n"
     ]
    },
    {
     "name": "stdout",
     "output_type": "stream",
     "text": [
      "pred_output shape: torch.Size([64, 1])\n"
     ]
    },
    {
     "name": "stdout",
     "output_type": "stream",
     "text": [
      "pred_output shape: torch.Size([64, 1])\n"
     ]
    },
    {
     "name": "stdout",
     "output_type": "stream",
     "text": [
      "pred_output shape: torch.Size([64, 1])\n"
     ]
    },
    {
     "name": "stdout",
     "output_type": "stream",
     "text": [
      "pred_output shape: torch.Size([64, 1])\n"
     ]
    },
    {
     "name": "stdout",
     "output_type": "stream",
     "text": [
      "pred_output shape: torch.Size([9, 1])\n"
     ]
    },
    {
     "name": "stdout",
     "output_type": "stream",
     "text": [
      "pred_output shape: torch.Size([64, 1])\n"
     ]
    },
    {
     "name": "stdout",
     "output_type": "stream",
     "text": [
      "pred_output shape: torch.Size([64, 1])\n"
     ]
    },
    {
     "name": "stdout",
     "output_type": "stream",
     "text": [
      "pred_output shape: torch.Size([64, 1])\n"
     ]
    },
    {
     "name": "stdout",
     "output_type": "stream",
     "text": [
      "pred_output shape: torch.Size([64, 1])\n"
     ]
    },
    {
     "name": "stdout",
     "output_type": "stream",
     "text": [
      "pred_output shape: torch.Size([64, 1])\n"
     ]
    },
    {
     "name": "stdout",
     "output_type": "stream",
     "text": [
      "pred_output shape: torch.Size([64, 1])\n"
     ]
    },
    {
     "name": "stdout",
     "output_type": "stream",
     "text": [
      "pred_output shape: torch.Size([64, 1])\n"
     ]
    },
    {
     "name": "stdout",
     "output_type": "stream",
     "text": [
      "pred_output shape: torch.Size([19, 1])\n",
      "ps: [41566.223 12691.133 41567.69  11989.226 67215.79  12957.274 67199.\n",
      " 60396.934 41562.816 11987.314 67207.14  11987.235 60396.824 60398.895\n",
      " 67216.12  60398.434 41563.883 67216.69  60398.32  23163.676 60397.516\n",
      " 41564.363 15488.422 60395.266 67215.85  67226.625 11987.875 67215.67\n",
      " 12669.886 67216.18  60397.168 60397.688 41564.32  60397.688 67242.016\n",
      " 16652.63  67217.336 41565.348 11986.915 60397.688 60397.75  67199.\n",
      " 67318.12  60397.23  60394.52  41562.258 67215.54  41562.652 60395.555\n",
      " 14346.281 11987.853 11987.063 12954.101 60396.934 41563.926 41564.277\n",
      " 60398.38  67216.375 67230.09  67215.67  67214.9   11987.979 41563.96\n",
      " 11987.818 60396.59  67215.02  60398.32  67215.6   11982.264 11986.366\n",
      " 67203.3   67215.85  41566.418 11986.572 41566.855 60397.4   11987.27\n",
      " 67216.88  12951.246 67211.95  67199.516 12955.36  11988.893 12957.547\n",
      " 11983.155 14348.349 60398.84  67200.086 60397.63  11987.807 67215.92\n",
      " 11987.784 11987.59  67199.77  23163.543 11985.246 67225.6   60397.344\n",
      " 67216.24  67233.1   67208.1   12956.472 60397.75  67206.695 60398.434\n",
      " 11981.406 41563.367 60395.094 11988.938 11988.311 60398.61  11987.418\n",
      " 67212.33  67207.52  41565.547 11988.082 41561.03  12956.966 67213.42\n",
      " 60397.23  11988.127 11988.425 11988.516 23162.615 67201.12  67216.05\n",
      " 60398.78  60398.895 67216.625 67215.414 67215.28  67215.79  67207.27\n",
      " 60397.973 14349.06  41562.18  11988.379 67215.086 11987.841 11986.618\n",
      " 67223.875 60395.785 11987.51  11988.63  14347.595 41563.566 60397.344\n",
      " 60399.24  11988.173 41566.895 11988.882 67213.805 67202.46  67213.555\n",
      " 67215.54  67214.26  11988.321 41563.523 12956.966 60395.32  60398.434\n",
      " 11987.681 11986.184 11989.053 23151.793 11987.463 67215.086 11987.406\n",
      " 11987.761 11988.184 11988.321 67216.31  14346.5   67216.56  41560.91\n",
      " 60397.973 60398.266 67216.82  67216.375 67216.69  23163.521 67202.46\n",
      " 11985.874 11988.401 60398.15  67216.88  11986.755 67200.8   41561.426\n",
      " 67202.4   60397.344 13178.09  11989.728 67203.875 12955.496 11989.533\n",
      " 11988.116 67199.    11988.345 11987.612 41563.605 41566.344 12686.62\n",
      " 67198.62  67212.72  60395.094 41562.496 60397.4   11989.624 60397.23\n",
      " 41563.96  60397.574 60398.664 60397.4   41564.2   67212.08  11988.013\n",
      " 11989.076 11988.356 14346.733 67258.18  60399.24  11989.373 12000.138\n",
      " 67208.62  11987.532 11988.425 60397.344 11987.888 41561.902 13181.282\n",
      " 41563.844 60397.453 23162.834 67215.92  60394.465 41563.605 67213.42\n",
      " 41563.727 60398.38  11986.904 11987.556 12957.942 67214.9   11987.235\n",
      " 41564.12  41563.168 41562.855 14347.02  67215.85  15111.478 41563.49\n",
      " 67215.92  11986.412 67201.76  67200.22  67201.25  41565.348 41565.63\n",
      " 67216.05  41566.344 67216.945 11987.463 11987.898 41562.535 60399.184\n",
      " 11987.338 12952.593 60398.664 67207.336 11988.722 60398.094 41565.07\n",
      " 12952.63  11989.557 11986.743 67278.71  12954.173 11986.767 67204.64\n",
      " 60397.285 41563.688 60397.63  60395.32  60398.434 60398.61  11987.441\n",
      " 67215.414 11988.733 11988.367 14740.025 60394.863 11987.372 67211.44\n",
      " 11987.27  41563.33  11982.503 11987.864 67215.984 41563.406 67266.39\n",
      " 67237.21  11986.549 67216.12  67216.5   11987.624 11988.436 60396.13\n",
      " 60396.824 67211.82  67204.58  11986.847 12689.039 60395.67  41562.89\n",
      " 60394.52  23162.127 41567.02  11987.372 15487.993 11989.236 67215.15\n",
      " 67216.945 11987.074 11989.236 67212.914 11987.83  11985.018 23164.027\n",
      " 60395.96  67214.06  12940.899 12947.578 41563.926 11987.463 11987.864\n",
      " 41561.105 11988.286 41561.188 60397.23  41562.297 60397.574 12955.619\n",
      " 41563.406 41563.25  41562.535 67204.38  60397.344 67198.68  41563.168\n",
      " 67215.85  11987.168 41561.746 41562.69  11987.019 11987.532 11988.561\n",
      " 67199.9   67216.69  67210.22  60398.72  60397.055 41562.496 67216.69\n",
      " 11986.286 60396.766 11987.12  67216.24  60394.926 12959.488 60399.008\n",
      " 67216.05  11986.687 11982.298 67216.69  67318.75  60398.78  67213.42\n",
      " 11988.446 67215.086 67207.98  12950.95  60397.516 60394.406 11987.041\n",
      " 60396.074 60398.32  60397.285 67219.13  23164.027 60398.55  11988.059\n",
      " 23164.006 60395.44  11988.516 11987.67  11986.366 11987.979 15127.959\n",
      " 60398.664 11987.372 67206.305 60395.21  11982.698 67214.836 41566.66\n",
      " 60398.32  67215.28  15128.046 12957.398 11988.401 60398.78  67214.38\n",
      " 60398.55  67318.05  12952.37  11987.349 67217.46  60397.688 14347.623\n",
      " 41567.65  11989.728 67212.52  13180.465 15231.8   67207.08  11988.481\n",
      " 67212.72  67232.84  41560.87  67239.07  41566.062 60397.86  67214.26\n",
      " 67216.05  11987.27  60396.65  11989.226 67218.234 67215.15  67252.15\n",
      " 60397.918 11988.493 11987.989 11988.264 41562.973 41562.02  67216.56\n",
      " 11988.47  41562.58  11986.32  12691.278 60395.785 67239.07  67243.37\n",
      " 41567.37  41564.992 11987.807 12953.482 67216.18  60397.23  12954.915\n",
      " 67200.086 15487.832 60396.88  41564.992 11989.121]\n",
      "ls: [tensor([35153.], dtype=torch.float64), tensor([9951.], dtype=torch.float64), tensor([38815.], dtype=torch.float64), tensor([14175.], dtype=torch.float64), tensor([66821.], dtype=torch.float64), tensor([9951.], dtype=torch.float64), tensor([66821.], dtype=torch.float64), tensor([58513.], dtype=torch.float64), tensor([39421.], dtype=torch.float64), tensor([9951.], dtype=torch.float64), tensor([66821.], dtype=torch.float64), tensor([14187.], dtype=torch.float64), tensor([58512.], dtype=torch.float64), tensor([58512.], dtype=torch.float64), tensor([66822.], dtype=torch.float64), tensor([58512.], dtype=torch.float64), tensor([35343.], dtype=torch.float64), tensor([66823.], dtype=torch.float64), tensor([58512.], dtype=torch.float64), tensor([19798.], dtype=torch.float64), tensor([58512.], dtype=torch.float64), tensor([38590.], dtype=torch.float64), tensor([9951.], dtype=torch.float64), tensor([58513.], dtype=torch.float64), tensor([66821.], dtype=torch.float64), tensor([66821.], dtype=torch.float64), tensor([9951.], dtype=torch.float64), tensor([66821.], dtype=torch.float64), tensor([7639.], dtype=torch.float64), tensor([66821.], dtype=torch.float64), tensor([58512.], dtype=torch.float64), tensor([58512.], dtype=torch.float64), tensor([38825.], dtype=torch.float64), tensor([58512.], dtype=torch.float64), tensor([66821.], dtype=torch.float64), tensor([15913.], dtype=torch.float64), tensor([66821.], dtype=torch.float64), tensor([39267.], dtype=torch.float64), tensor([14175.], dtype=torch.float64), tensor([58512.], dtype=torch.float64), tensor([58513.], dtype=torch.float64), tensor([66824.], dtype=torch.float64), tensor([66821.], dtype=torch.float64), tensor([58512.], dtype=torch.float64), tensor([58512.], dtype=torch.float64), tensor([39130.], dtype=torch.float64), tensor([66821.], dtype=torch.float64), tensor([38957.], dtype=torch.float64), tensor([58512.], dtype=torch.float64), tensor([14175.], dtype=torch.float64), tensor([17508.], dtype=torch.float64), tensor([14175.], dtype=torch.float64), tensor([15711.], dtype=torch.float64), tensor([58512.], dtype=torch.float64), tensor([34609.], dtype=torch.float64), tensor([39097.], dtype=torch.float64), tensor([58512.], dtype=torch.float64), tensor([66824.], dtype=torch.float64), tensor([66821.], dtype=torch.float64), tensor([66822.], dtype=torch.float64), tensor([66821.], dtype=torch.float64), tensor([9951.], dtype=torch.float64), tensor([38861.], dtype=torch.float64), tensor([9951.], dtype=torch.float64), tensor([58512.], dtype=torch.float64), tensor([66823.], dtype=torch.float64), tensor([58518.], dtype=torch.float64), tensor([66821.], dtype=torch.float64), tensor([3876.], dtype=torch.float64), tensor([9951.], dtype=torch.float64), tensor([66821.], dtype=torch.float64), tensor([66821.], dtype=torch.float64), tensor([38465.], dtype=torch.float64), tensor([9951.], dtype=torch.float64), tensor([39229.], dtype=torch.float64), tensor([58512.], dtype=torch.float64), tensor([9951.], dtype=torch.float64), tensor([66821.], dtype=torch.float64), tensor([15711.], dtype=torch.float64), tensor([66837.], dtype=torch.float64), tensor([66821.], dtype=torch.float64), tensor([15711.], dtype=torch.float64), tensor([17455.], dtype=torch.float64), tensor([15711.], dtype=torch.float64), tensor([3876.], dtype=torch.float64), tensor([14176.], dtype=torch.float64), tensor([58514.], dtype=torch.float64), tensor([66821.], dtype=torch.float64), tensor([58513.], dtype=torch.float64), tensor([9951.], dtype=torch.float64), tensor([66821.], dtype=torch.float64), tensor([14175.], dtype=torch.float64), tensor([9951.], dtype=torch.float64), tensor([66824.], dtype=torch.float64), tensor([31180.], dtype=torch.float64), tensor([14175.], dtype=torch.float64), tensor([66821.], dtype=torch.float64), tensor([58512.], dtype=torch.float64), tensor([66844.], dtype=torch.float64), tensor([66821.], dtype=torch.float64), tensor([66827.], dtype=torch.float64), tensor([15711.], dtype=torch.float64), tensor([58512.], dtype=torch.float64), tensor([66821.], dtype=torch.float64), tensor([58512.], dtype=torch.float64), tensor([3876.], dtype=torch.float64), tensor([39220.], dtype=torch.float64), tensor([58512.], dtype=torch.float64), tensor([14197.], dtype=torch.float64), tensor([9951.], dtype=torch.float64), tensor([58512.], dtype=torch.float64), tensor([14175.], dtype=torch.float64), tensor([66822.], dtype=torch.float64), tensor([66821.], dtype=torch.float64), tensor([39087.], dtype=torch.float64), tensor([9951.], dtype=torch.float64), tensor([39511.], dtype=torch.float64), tensor([15711.], dtype=torch.float64), tensor([66821.], dtype=torch.float64), tensor([58512.], dtype=torch.float64), tensor([14175.], dtype=torch.float64), tensor([14176.], dtype=torch.float64), tensor([14175.], dtype=torch.float64), tensor([23183.], dtype=torch.float64), tensor([66821.], dtype=torch.float64), tensor([66821.], dtype=torch.float64), tensor([58512.], dtype=torch.float64), tensor([58512.], dtype=torch.float64), tensor([66834.], dtype=torch.float64), tensor([66821.], dtype=torch.float64), tensor([66821.], dtype=torch.float64), tensor([66821.], dtype=torch.float64), tensor([66821.], dtype=torch.float64), tensor([58512.], dtype=torch.float64), tensor([15945.], dtype=torch.float64), tensor([39097.], dtype=torch.float64), tensor([14178.], dtype=torch.float64), tensor([66823.], dtype=torch.float64), tensor([17416.], dtype=torch.float64), tensor([14211.], dtype=torch.float64), tensor([66821.], dtype=torch.float64), tensor([58512.], dtype=torch.float64), tensor([9951.], dtype=torch.float64), tensor([14181.], dtype=torch.float64), tensor([14180.], dtype=torch.float64), tensor([39157.], dtype=torch.float64), tensor([58512.], dtype=torch.float64), tensor([58512.], dtype=torch.float64), tensor([9951.], dtype=torch.float64), tensor([34333.], dtype=torch.float64), tensor([9951.], dtype=torch.float64), tensor([66821.], dtype=torch.float64), tensor([66821.], dtype=torch.float64), tensor([66823.], dtype=torch.float64), tensor([66822.], dtype=torch.float64), tensor([66821.], dtype=torch.float64), tensor([9951.], dtype=torch.float64), tensor([39439.], dtype=torch.float64), tensor([9951.], dtype=torch.float64), tensor([58512.], dtype=torch.float64), tensor([58512.], dtype=torch.float64), tensor([14185.], dtype=torch.float64), tensor([9951.], dtype=torch.float64), tensor([14190.], dtype=torch.float64), tensor([27726.], dtype=torch.float64), tensor([14175.], dtype=torch.float64), tensor([66825.], dtype=torch.float64), tensor([14175.], dtype=torch.float64), tensor([14175.], dtype=torch.float64), tensor([9951.], dtype=torch.float64), tensor([9951.], dtype=torch.float64), tensor([66821.], dtype=torch.float64), tensor([14175.], dtype=torch.float64), tensor([66821.], dtype=torch.float64), tensor([38230.], dtype=torch.float64), tensor([58512.], dtype=torch.float64), tensor([58554.], dtype=torch.float64), tensor([66821.], dtype=torch.float64), tensor([66821.], dtype=torch.float64), tensor([66821.], dtype=torch.float64), tensor([27816.], dtype=torch.float64), tensor([66821.], dtype=torch.float64), tensor([14175.], dtype=torch.float64), tensor([14177.], dtype=torch.float64), tensor([58513.], dtype=torch.float64), tensor([66825.], dtype=torch.float64), tensor([9951.], dtype=torch.float64), tensor([66821.], dtype=torch.float64), tensor([38979.], dtype=torch.float64), tensor([66821.], dtype=torch.float64), tensor([58512.], dtype=torch.float64), tensor([16033.], dtype=torch.float64), tensor([9951.], dtype=torch.float64), tensor([66822.], dtype=torch.float64), tensor([15711.], dtype=torch.float64), tensor([14176.], dtype=torch.float64), tensor([14175.], dtype=torch.float64), tensor([66821.], dtype=torch.float64), tensor([14184.], dtype=torch.float64), tensor([17417.], dtype=torch.float64), tensor([38953.], dtype=torch.float64), tensor([38850.], dtype=torch.float64), tensor([18834.], dtype=torch.float64), tensor([66824.], dtype=torch.float64), tensor([66821.], dtype=torch.float64), tensor([58512.], dtype=torch.float64), tensor([38995.], dtype=torch.float64), tensor([58512.], dtype=torch.float64), tensor([9951.], dtype=torch.float64), tensor([58512.], dtype=torch.float64), tensor([39133.], dtype=torch.float64), tensor([58512.], dtype=torch.float64), tensor([58512.], dtype=torch.float64), tensor([58512.], dtype=torch.float64), tensor([34955.], dtype=torch.float64), tensor([66821.], dtype=torch.float64), tensor([14175.], dtype=torch.float64), tensor([14175.], dtype=torch.float64), tensor([9951.], dtype=torch.float64), tensor([14175.], dtype=torch.float64), tensor([66821.], dtype=torch.float64), tensor([58513.], dtype=torch.float64), tensor([14176.], dtype=torch.float64), tensor([14175.], dtype=torch.float64), tensor([66822.], dtype=torch.float64), tensor([14176.], dtype=torch.float64), tensor([14175.], dtype=torch.float64), tensor([58512.], dtype=torch.float64), tensor([14175.], dtype=torch.float64), tensor([38633.], dtype=torch.float64), tensor([16020.], dtype=torch.float64), tensor([39159.], dtype=torch.float64), tensor([58512.], dtype=torch.float64), tensor([21227.], dtype=torch.float64), tensor([66821.], dtype=torch.float64), tensor([58512.], dtype=torch.float64), tensor([38936.], dtype=torch.float64), tensor([66917.], dtype=torch.float64), tensor([39033.], dtype=torch.float64), tensor([58520.], dtype=torch.float64), tensor([14176.], dtype=torch.float64), tensor([9951.], dtype=torch.float64), tensor([15711.], dtype=torch.float64), tensor([66821.], dtype=torch.float64), tensor([13320.], dtype=torch.float64), tensor([35160.], dtype=torch.float64), tensor([34116.], dtype=torch.float64), tensor([34116.], dtype=torch.float64), tensor([14187.], dtype=torch.float64), tensor([66821.], dtype=torch.float64), tensor([17844.], dtype=torch.float64), tensor([39105.], dtype=torch.float64), tensor([66821.], dtype=torch.float64), tensor([14175.], dtype=torch.float64), tensor([66821.], dtype=torch.float64), tensor([66821.], dtype=torch.float64), tensor([66821.], dtype=torch.float64), tensor([38953.], dtype=torch.float64), tensor([35253.], dtype=torch.float64), tensor([66824.], dtype=torch.float64), tensor([39049.], dtype=torch.float64), tensor([66821.], dtype=torch.float64), tensor([14175.], dtype=torch.float64), tensor([9951.], dtype=torch.float64), tensor([38922.], dtype=torch.float64), tensor([58512.], dtype=torch.float64), tensor([14175.], dtype=torch.float64), tensor([9951.], dtype=torch.float64), tensor([58512.], dtype=torch.float64), tensor([66821.], dtype=torch.float64), tensor([17416.], dtype=torch.float64), tensor([58512.], dtype=torch.float64), tensor([39141.], dtype=torch.float64), tensor([15711.], dtype=torch.float64), tensor([14181.], dtype=torch.float64), tensor([9951.], dtype=torch.float64), tensor([66821.], dtype=torch.float64), tensor([9951.], dtype=torch.float64), tensor([14211.], dtype=torch.float64), tensor([66821.], dtype=torch.float64), tensor([58512.], dtype=torch.float64), tensor([38483.], dtype=torch.float64), tensor([58512.], dtype=torch.float64), tensor([58512.], dtype=torch.float64), tensor([58512.], dtype=torch.float64), tensor([58512.], dtype=torch.float64), tensor([14200.], dtype=torch.float64), tensor([66821.], dtype=torch.float64), tensor([14177.], dtype=torch.float64), tensor([14197.], dtype=torch.float64), tensor([17246.], dtype=torch.float64), tensor([58512.], dtype=torch.float64), tensor([14175.], dtype=torch.float64), tensor([66821.], dtype=torch.float64), tensor([9951.], dtype=torch.float64), tensor([38898.], dtype=torch.float64), tensor([3876.], dtype=torch.float64), tensor([21733.], dtype=torch.float64), tensor([66821.], dtype=torch.float64), tensor([35178.], dtype=torch.float64), tensor([66861.], dtype=torch.float64), tensor([66825.], dtype=torch.float64), tensor([9951.], dtype=torch.float64), tensor([66821.], dtype=torch.float64), tensor([66821.], dtype=torch.float64), tensor([9951.], dtype=torch.float64), tensor([9951.], dtype=torch.float64), tensor([58512.], dtype=torch.float64), tensor([58512.], dtype=torch.float64), tensor([66822.], dtype=torch.float64), tensor([66821.], dtype=torch.float64), tensor([9951.], dtype=torch.float64), tensor([18834.], dtype=torch.float64), tensor([58512.], dtype=torch.float64), tensor([38543.], dtype=torch.float64), tensor([58515.], dtype=torch.float64), tensor([27726.], dtype=torch.float64), tensor([35045.], dtype=torch.float64), tensor([9951.], dtype=torch.float64), tensor([19520.], dtype=torch.float64), tensor([14175.], dtype=torch.float64), tensor([66821.], dtype=torch.float64), tensor([66821.], dtype=torch.float64), tensor([14178.], dtype=torch.float64), tensor([9951.], dtype=torch.float64), tensor([66821.], dtype=torch.float64), tensor([14175.], dtype=torch.float64), tensor([9951.], dtype=torch.float64), tensor([19798.], dtype=torch.float64), tensor([58512.], dtype=torch.float64), tensor([66823.], dtype=torch.float64), tensor([3876.], dtype=torch.float64), tensor([15712.], dtype=torch.float64), tensor([38393.], dtype=torch.float64), tensor([9951.], dtype=torch.float64), tensor([9951.], dtype=torch.float64), tensor([39310.], dtype=torch.float64), tensor([14175.], dtype=torch.float64), tensor([35343.], dtype=torch.float64), tensor([58512.], dtype=torch.float64), tensor([39058.], dtype=torch.float64), tensor([58512.], dtype=torch.float64), tensor([15716.], dtype=torch.float64), tensor([39403.], dtype=torch.float64), tensor([35025.], dtype=torch.float64), tensor([39013.], dtype=torch.float64), tensor([66822.], dtype=torch.float64), tensor([58516.], dtype=torch.float64), tensor([66821.], dtype=torch.float64), tensor([38535.], dtype=torch.float64), tensor([66821.], dtype=torch.float64), tensor([14047.], dtype=torch.float64), tensor([38212.], dtype=torch.float64), tensor([38321.], dtype=torch.float64), tensor([14176.], dtype=torch.float64), tensor([14178.], dtype=torch.float64), tensor([17416.], dtype=torch.float64), tensor([66821.], dtype=torch.float64), tensor([66821.], dtype=torch.float64), tensor([66821.], dtype=torch.float64), tensor([58512.], dtype=torch.float64), tensor([58512.], dtype=torch.float64), tensor([39066.], dtype=torch.float64), tensor([66821.], dtype=torch.float64), tensor([9951.], dtype=torch.float64), tensor([58512.], dtype=torch.float64), tensor([9951.], dtype=torch.float64), tensor([66821.], dtype=torch.float64), tensor([58512.], dtype=torch.float64), tensor([15711.], dtype=torch.float64), tensor([58512.], dtype=torch.float64), tensor([66821.], dtype=torch.float64), tensor([9951.], dtype=torch.float64), tensor([3876.], dtype=torch.float64), tensor([66822.], dtype=torch.float64), tensor([66827.], dtype=torch.float64), tensor([58512.], dtype=torch.float64), tensor([66826.], dtype=torch.float64), tensor([9951.], dtype=torch.float64), tensor([66821.], dtype=torch.float64), tensor([66821.], dtype=torch.float64), tensor([15712.], dtype=torch.float64), tensor([58512.], dtype=torch.float64), tensor([58512.], dtype=torch.float64), tensor([14199.], dtype=torch.float64), tensor([58513.], dtype=torch.float64), tensor([58512.], dtype=torch.float64), tensor([58512.], dtype=torch.float64), tensor([66821.], dtype=torch.float64), tensor([20556.], dtype=torch.float64), tensor([58519.], dtype=torch.float64), tensor([17416.], dtype=torch.float64), tensor([24812.], dtype=torch.float64), tensor([58512.], dtype=torch.float64), tensor([14179.], dtype=torch.float64), tensor([14175.], dtype=torch.float64), tensor([14175.], dtype=torch.float64), tensor([9951.], dtype=torch.float64), tensor([14175.], dtype=torch.float64), tensor([58512.], dtype=torch.float64), tensor([14175.], dtype=torch.float64), tensor([66821.], dtype=torch.float64), tensor([58512.], dtype=torch.float64), tensor([3876.], dtype=torch.float64), tensor([66821.], dtype=torch.float64), tensor([34584.], dtype=torch.float64), tensor([58512.], dtype=torch.float64), tensor([66821.], dtype=torch.float64), tensor([11274.], dtype=torch.float64), tensor([15711.], dtype=torch.float64), tensor([14175.], dtype=torch.float64), tensor([58512.], dtype=torch.float64), tensor([66825.], dtype=torch.float64), tensor([58512.], dtype=torch.float64), tensor([66821.], dtype=torch.float64), tensor([9951.], dtype=torch.float64), tensor([9951.], dtype=torch.float64), tensor([66823.], dtype=torch.float64), tensor([58512.], dtype=torch.float64), tensor([14178.], dtype=torch.float64), tensor([38879.], dtype=torch.float64), tensor([14175.], dtype=torch.float64), tensor([66821.], dtype=torch.float64), tensor([12552.], dtype=torch.float64), tensor([14162.], dtype=torch.float64), tensor([66822.], dtype=torch.float64), tensor([14200.], dtype=torch.float64), tensor([66823.], dtype=torch.float64), tensor([66821.], dtype=torch.float64), tensor([38879.], dtype=torch.float64), tensor([66824.], dtype=torch.float64), tensor([39049.], dtype=torch.float64), tensor([58512.], dtype=torch.float64), tensor([66821.], dtype=torch.float64), tensor([66821.], dtype=torch.float64), tensor([14176.], dtype=torch.float64), tensor([58512.], dtype=torch.float64), tensor([14179.], dtype=torch.float64), tensor([66821.], dtype=torch.float64), tensor([66821.], dtype=torch.float64), tensor([66821.], dtype=torch.float64), tensor([58512.], dtype=torch.float64), tensor([14176.], dtype=torch.float64), tensor([14175.], dtype=torch.float64), tensor([14182.], dtype=torch.float64), tensor([38446.], dtype=torch.float64), tensor([39030.], dtype=torch.float64), tensor([66821.], dtype=torch.float64), tensor([14175.], dtype=torch.float64), tensor([38590.], dtype=torch.float64), tensor([9951.], dtype=torch.float64), tensor([18834.], dtype=torch.float64), tensor([58512.], dtype=torch.float64), tensor([66821.], dtype=torch.float64), tensor([66849.], dtype=torch.float64), tensor([39173.], dtype=torch.float64), tensor([35097.], dtype=torch.float64), tensor([14047.], dtype=torch.float64), tensor([15711.], dtype=torch.float64), tensor([66821.], dtype=torch.float64), tensor([58512.], dtype=torch.float64), tensor([9951.], dtype=torch.float64), tensor([66821.], dtype=torch.float64), tensor([9951.], dtype=torch.float64), tensor([58512.], dtype=torch.float64), tensor([35271.], dtype=torch.float64), tensor([14178.], dtype=torch.float64)]\n",
      "len(ls): 467\n"
     ]
    },
    {
     "name": "stdout",
     "output_type": "stream",
     "text": [
      "pred_output shape: torch.Size([64, 1])\n"
     ]
    },
    {
     "name": "stdout",
     "output_type": "stream",
     "text": [
      "pred_output shape: torch.Size([64, 1])\n"
     ]
    },
    {
     "name": "stdout",
     "output_type": "stream",
     "text": [
      "pred_output shape: torch.Size([64, 1])\n"
     ]
    },
    {
     "name": "stdout",
     "output_type": "stream",
     "text": [
      "pred_output shape: torch.Size([64, 1])\n"
     ]
    },
    {
     "name": "stdout",
     "output_type": "stream",
     "text": [
      "pred_output shape: torch.Size([64, 1])\n"
     ]
    },
    {
     "name": "stdout",
     "output_type": "stream",
     "text": [
      "pred_output shape: torch.Size([64, 1])\n"
     ]
    },
    {
     "name": "stdout",
     "output_type": "stream",
     "text": [
      "pred_output shape: torch.Size([64, 1])\n"
     ]
    },
    {
     "name": "stdout",
     "output_type": "stream",
     "text": [
      "pred_output shape: torch.Size([19, 1])\n",
      "running epoch: 42\n"
     ]
    },
    {
     "name": "stdout",
     "output_type": "stream",
     "text": [
      "pred_output shape: torch.Size([64, 1])\n"
     ]
    },
    {
     "name": "stdout",
     "output_type": "stream",
     "text": [
      "pred_output shape: torch.Size([64, 1])\n"
     ]
    },
    {
     "name": "stdout",
     "output_type": "stream",
     "text": [
      "pred_output shape: torch.Size([64, 1])\n"
     ]
    },
    {
     "name": "stdout",
     "output_type": "stream",
     "text": [
      "pred_output shape: torch.Size([64, 1])\n"
     ]
    },
    {
     "name": "stdout",
     "output_type": "stream",
     "text": [
      "pred_output shape: torch.Size([64, 1])\n"
     ]
    },
    {
     "name": "stdout",
     "output_type": "stream",
     "text": [
      "pred_output shape: torch.Size([64, 1])\n"
     ]
    },
    {
     "name": "stdout",
     "output_type": "stream",
     "text": [
      "pred_output shape: torch.Size([64, 1])\n"
     ]
    },
    {
     "name": "stdout",
     "output_type": "stream",
     "text": [
      "pred_output shape: torch.Size([64, 1])\n"
     ]
    },
    {
     "name": "stdout",
     "output_type": "stream",
     "text": [
      "pred_output shape: torch.Size([64, 1])\n"
     ]
    },
    {
     "name": "stdout",
     "output_type": "stream",
     "text": [
      "pred_output shape: torch.Size([64, 1])\n"
     ]
    },
    {
     "name": "stdout",
     "output_type": "stream",
     "text": [
      "pred_output shape: torch.Size([64, 1])\n"
     ]
    },
    {
     "name": "stdout",
     "output_type": "stream",
     "text": [
      "pred_output shape: torch.Size([64, 1])\n"
     ]
    },
    {
     "name": "stdout",
     "output_type": "stream",
     "text": [
      "pred_output shape: torch.Size([64, 1])\n"
     ]
    },
    {
     "name": "stdout",
     "output_type": "stream",
     "text": [
      "pred_output shape: torch.Size([64, 1])\n"
     ]
    },
    {
     "name": "stdout",
     "output_type": "stream",
     "text": [
      "pred_output shape: torch.Size([64, 1])\n"
     ]
    },
    {
     "name": "stdout",
     "output_type": "stream",
     "text": [
      "pred_output shape: torch.Size([64, 1])\n"
     ]
    },
    {
     "name": "stdout",
     "output_type": "stream",
     "text": [
      "pred_output shape: torch.Size([64, 1])\n"
     ]
    },
    {
     "name": "stdout",
     "output_type": "stream",
     "text": [
      "pred_output shape: torch.Size([64, 1])\n"
     ]
    },
    {
     "name": "stdout",
     "output_type": "stream",
     "text": [
      "pred_output shape: torch.Size([64, 1])\n"
     ]
    },
    {
     "name": "stdout",
     "output_type": "stream",
     "text": [
      "pred_output shape: torch.Size([64, 1])\n"
     ]
    },
    {
     "name": "stdout",
     "output_type": "stream",
     "text": [
      "pred_output shape: torch.Size([64, 1])\n"
     ]
    },
    {
     "name": "stdout",
     "output_type": "stream",
     "text": [
      "pred_output shape: torch.Size([64, 1])\n"
     ]
    },
    {
     "name": "stdout",
     "output_type": "stream",
     "text": [
      "pred_output shape: torch.Size([64, 1])\n"
     ]
    },
    {
     "name": "stdout",
     "output_type": "stream",
     "text": [
      "pred_output shape: torch.Size([64, 1])\n"
     ]
    },
    {
     "name": "stdout",
     "output_type": "stream",
     "text": [
      "pred_output shape: torch.Size([64, 1])\n"
     ]
    },
    {
     "name": "stdout",
     "output_type": "stream",
     "text": [
      "pred_output shape: torch.Size([64, 1])\n"
     ]
    },
    {
     "name": "stdout",
     "output_type": "stream",
     "text": [
      "pred_output shape: torch.Size([64, 1])\n"
     ]
    },
    {
     "name": "stdout",
     "output_type": "stream",
     "text": [
      "pred_output shape: torch.Size([64, 1])\n"
     ]
    },
    {
     "name": "stdout",
     "output_type": "stream",
     "text": [
      "pred_output shape: torch.Size([64, 1])\n"
     ]
    },
    {
     "name": "stdout",
     "output_type": "stream",
     "text": [
      "pred_output shape: torch.Size([9, 1])\n"
     ]
    },
    {
     "name": "stdout",
     "output_type": "stream",
     "text": [
      "pred_output shape: torch.Size([64, 1])\n"
     ]
    },
    {
     "name": "stdout",
     "output_type": "stream",
     "text": [
      "pred_output shape: torch.Size([64, 1])\n"
     ]
    },
    {
     "name": "stdout",
     "output_type": "stream",
     "text": [
      "pred_output shape: torch.Size([64, 1])\n"
     ]
    },
    {
     "name": "stdout",
     "output_type": "stream",
     "text": [
      "pred_output shape: torch.Size([64, 1])\n"
     ]
    },
    {
     "name": "stdout",
     "output_type": "stream",
     "text": [
      "pred_output shape: torch.Size([64, 1])\n"
     ]
    },
    {
     "name": "stdout",
     "output_type": "stream",
     "text": [
      "pred_output shape: torch.Size([64, 1])\n"
     ]
    },
    {
     "name": "stdout",
     "output_type": "stream",
     "text": [
      "pred_output shape: torch.Size([64, 1])\n"
     ]
    },
    {
     "name": "stdout",
     "output_type": "stream",
     "text": [
      "pred_output shape: torch.Size([19, 1])\n",
      "ps: [38184.656  11775.601  38185.344  10803.972  67068.01   11977.773\n",
      " 67069.734  58417.816  38181.85   10803.157  67066.47   10802.745\n",
      " 58418.2    58420.71   67067.43   58420.434  38182.8    67066.47\n",
      " 58420.04   23802.004  58420.266  38184.11   14682.657  58414.523\n",
      " 67066.02   67065.07   10803.302  67070.375  11768.393  67068.33\n",
      " 58418.09   58420.375  38182.434  58420.152  67062.83   14881.453\n",
      " 67070.88   38184.07   10802.734  58418.7    58418.145  67067.88\n",
      " 67061.74   58418.312  58414.188  38181.418  67067.18   38181.49\n",
      " 58415.977  13110.1875 10803.209  10802.55   11970.488  58417.977\n",
      " 38181.996  38183.344  58418.594  67069.67   67070.56   67066.47\n",
      " 67062.19   10803.528  38183.2    10803.385  58416.645  67068.52\n",
      " 58419.87   67062.89   10797.802  10801.892  67065.26   67064.94\n",
      " 38185.492  10802.138  38185.02   58418.04   10802.828  67068.01\n",
      " 11956.603  67067.56   67068.97   11976.312  10804.291  11979.167\n",
      " 10799.254  13111.461  58420.49   67062.83   58418.145  10802.756\n",
      " 67069.55   10803.312  10803.137  67066.99   23801.324  10800.975\n",
      " 67067.18   58418.145  67070.19   67060.336  67064.75   11977.842\n",
      " 58418.48   67061.23   58419.76   10797.193  38182.945  58416.25\n",
      " 10804.373  10803.692  58420.266  10802.869  67061.23   67063.15\n",
      " 38183.89   10802.931  38180.43   11978.035  67066.73   58418.312\n",
      " 10803.26   10803.642  10804.251  23807.904  67062.76   67067.18\n",
      " 58420.04   58420.594  67068.65   67065.01   67065.26   67068.52\n",
      " 67068.2    58418.312  13111.687  38181.34   10803.26   67069.16\n",
      " 10803.56   10801.932  67063.66   58416.145  10802.899  10804.105\n",
      " 13110.999  38181.63   58417.367  58420.656  10803.25   38186.043\n",
      " 10803.94   67067.11   67065.38   67065.65   67067.43   67059.82\n",
      " 10803.343  38182.688  11977.579  58414.523  58419.934  10803.302\n",
      " 10801.85   10804.1875 23874.98   10803.168  67068.65   10803.075\n",
      " 10803.528  10803.827  10803.56   67066.086  13110.349  67064.43\n",
      " 38180.066  58418.92   58420.04   67070.24   67067.18   67066.79\n",
      " 23805.34   67063.73   10801.715  10803.591  58419.816  67069.67\n",
      " 10802.487  67069.29   38180.03   67063.59   58420.152  12368.34\n",
      " 10804.343  67069.03   11975.568  10804.312  10803.837  67065.32\n",
      " 10803.601  10803.003  38181.816  38185.13   11768.863  67065.516\n",
      " 67065.77   58416.145  38180.906  58418.04   10804.291  58417.145\n",
      " 38182.652  58418.2    58420.04   58418.26   38183.016  67063.98\n",
      " 10803.137  10804.682  10803.528  13110.5    67069.16   58420.04\n",
      " 10804.518  10812.671  67064.81   10803.054  10803.92   58418.26\n",
      " 10803.281  38180.36   12371.856  38182.76   58419.26   23807.656\n",
      " 67068.52   58414.473  38183.016  67067.11   38182.945  58419.934\n",
      " 10802.663  10802.715  11979.567  67067.055  10802.941  38183.13\n",
      " 38181.96   38181.996  13110.586  67068.14   13716.435  38182.36\n",
      " 67068.266  10802.168  67065.96   67064.17   67069.61   38184.91\n",
      " 38184.33   67066.16   38184.62   67067.75   10803.034  10803.188\n",
      " 38181.562  58420.934  10802.704  11969.528  58420.434  67068.33\n",
      " 10804.425  58418.76   38183.965  11968.593  10804.476  10802.528\n",
      " 67066.73   11972.909  10801.973  67065.71   58418.145  38183.2\n",
      " 58418.7    58414.695  58420.766  58420.04   10803.302  67063.28\n",
      " 10804.136  10804.023  13379.437  58415.92   10803.147  67063.28\n",
      " 10802.354  38182.434  10797.833  10803.775  67070.5    38182.434\n",
      " 67067.695  67072.49   10802.261  67065.32   67066.99   10802.704\n",
      " 10804.002  58415.695  58418.145  67068.91   67067.945  10802.458\n",
      " 11771.4    58414.473  38181.234  58413.746  23811.244  38185.53\n",
      " 10802.931  14684.015  10804.105  67062.     67069.09   10802.787\n",
      " 10804.476  67067.56   10802.982  10800.747  23786.799  58416.305\n",
      " 67059.445  11929.711  11945.445  38182.76   10802.663  10802.808\n",
      " 38180.652  10803.734  38180.395  58419.934  38181.562  58417.816\n",
      " 11976.322  38182.582  38181.375  38180.832  67067.11   58417.867\n",
      " 67068.78   38182.145  67064.04   10803.003  38179.957  38181.703\n",
      " 10802.952  10803.105  10804.095  67067.81   67071.016  67064.94\n",
      " 58420.266  58417.65   38181.777  67066.29   10801.686  58418.2\n",
      " 10802.899  67070.56   58413.746  11981.772  58420.152  67068.65\n",
      " 10801.932  10798.214  67069.8    67064.04   58420.152  67065.96\n",
      " 10803.631  67058.93   67060.84   11956.203  58418.312  58414.305\n",
      " 10802.354  58416.027  58419.71   58420.04   67064.3    23792.107\n",
      " 58420.49   10803.662  23792.56   58415.977  10803.879  10803.054\n",
      " 10802.129  10803.209  13955.482  58420.49   10802.745  67061.164\n",
      " 58415.86   10798.316  67068.39   38185.02   58418.76   67066.86\n",
      " 13953.845  11978.745  10804.239  58419.984  67070.055  58420.266\n",
      " 67062.83   11969.746  10802.704  67069.29   58418.26   13110.861\n",
      " 38186.188  10805.25   67070.88   12371.09   14252.432  67068.07\n",
      " 10804.343  67068.266  67066.54   38179.81   67066.664  38184.508\n",
      " 58419.816  67064.3    67068.14   10802.602  58418.26   10804.013\n",
      " 67067.5    67061.61   67064.3    58418.87   10804.146  10803.714\n",
      " 10804.085  38181.234  38181.562  67070.83   10803.858  38181.67\n",
      " 10801.983  11773.422  58415.805  67066.79   67061.61   38185.203\n",
      " 38182.582  10803.291  11971.15   67063.98   58419.49   11972.383\n",
      " 67065.96   14669.654  58417.367  38184.69   10804.816 ]\n"
     ]
    },
    {
     "name": "stdout",
     "output_type": "stream",
     "text": [
      "ls: [tensor([35153.], dtype=torch.float64), tensor([9951.], dtype=torch.float64), tensor([38815.], dtype=torch.float64), tensor([14175.], dtype=torch.float64), tensor([66821.], dtype=torch.float64), tensor([9951.], dtype=torch.float64), tensor([66821.], dtype=torch.float64), tensor([58513.], dtype=torch.float64), tensor([39421.], dtype=torch.float64), tensor([9951.], dtype=torch.float64), tensor([66821.], dtype=torch.float64), tensor([14187.], dtype=torch.float64), tensor([58512.], dtype=torch.float64), tensor([58512.], dtype=torch.float64), tensor([66822.], dtype=torch.float64), tensor([58512.], dtype=torch.float64), tensor([35343.], dtype=torch.float64), tensor([66823.], dtype=torch.float64), tensor([58512.], dtype=torch.float64), tensor([19798.], dtype=torch.float64), tensor([58512.], dtype=torch.float64), tensor([38590.], dtype=torch.float64), tensor([9951.], dtype=torch.float64), tensor([58513.], dtype=torch.float64), tensor([66821.], dtype=torch.float64), tensor([66821.], dtype=torch.float64), tensor([9951.], dtype=torch.float64), tensor([66821.], dtype=torch.float64), tensor([7639.], dtype=torch.float64), tensor([66821.], dtype=torch.float64), tensor([58512.], dtype=torch.float64), tensor([58512.], dtype=torch.float64), tensor([38825.], dtype=torch.float64), tensor([58512.], dtype=torch.float64), tensor([66821.], dtype=torch.float64), tensor([15913.], dtype=torch.float64), tensor([66821.], dtype=torch.float64), tensor([39267.], dtype=torch.float64), tensor([14175.], dtype=torch.float64), tensor([58512.], dtype=torch.float64), tensor([58513.], dtype=torch.float64), tensor([66824.], dtype=torch.float64), tensor([66821.], dtype=torch.float64), tensor([58512.], dtype=torch.float64), tensor([58512.], dtype=torch.float64), tensor([39130.], dtype=torch.float64), tensor([66821.], dtype=torch.float64), tensor([38957.], dtype=torch.float64), tensor([58512.], dtype=torch.float64), tensor([14175.], dtype=torch.float64), tensor([17508.], dtype=torch.float64), tensor([14175.], dtype=torch.float64), tensor([15711.], dtype=torch.float64), tensor([58512.], dtype=torch.float64), tensor([34609.], dtype=torch.float64), tensor([39097.], dtype=torch.float64), tensor([58512.], dtype=torch.float64), tensor([66824.], dtype=torch.float64), tensor([66821.], dtype=torch.float64), tensor([66822.], dtype=torch.float64), tensor([66821.], dtype=torch.float64), tensor([9951.], dtype=torch.float64), tensor([38861.], dtype=torch.float64), tensor([9951.], dtype=torch.float64), tensor([58512.], dtype=torch.float64), tensor([66823.], dtype=torch.float64), tensor([58518.], dtype=torch.float64), tensor([66821.], dtype=torch.float64), tensor([3876.], dtype=torch.float64), tensor([9951.], dtype=torch.float64), tensor([66821.], dtype=torch.float64), tensor([66821.], dtype=torch.float64), tensor([38465.], dtype=torch.float64), tensor([9951.], dtype=torch.float64), tensor([39229.], dtype=torch.float64), tensor([58512.], dtype=torch.float64), tensor([9951.], dtype=torch.float64), tensor([66821.], dtype=torch.float64), tensor([15711.], dtype=torch.float64), tensor([66837.], dtype=torch.float64), tensor([66821.], dtype=torch.float64), tensor([15711.], dtype=torch.float64), tensor([17455.], dtype=torch.float64), tensor([15711.], dtype=torch.float64), tensor([3876.], dtype=torch.float64), tensor([14176.], dtype=torch.float64), tensor([58514.], dtype=torch.float64), tensor([66821.], dtype=torch.float64), tensor([58513.], dtype=torch.float64), tensor([9951.], dtype=torch.float64), tensor([66821.], dtype=torch.float64), tensor([14175.], dtype=torch.float64), tensor([9951.], dtype=torch.float64), tensor([66824.], dtype=torch.float64), tensor([31180.], dtype=torch.float64), tensor([14175.], dtype=torch.float64), tensor([66821.], dtype=torch.float64), tensor([58512.], dtype=torch.float64), tensor([66844.], dtype=torch.float64), tensor([66821.], dtype=torch.float64), tensor([66827.], dtype=torch.float64), tensor([15711.], dtype=torch.float64), tensor([58512.], dtype=torch.float64), tensor([66821.], dtype=torch.float64), tensor([58512.], dtype=torch.float64), tensor([3876.], dtype=torch.float64), tensor([39220.], dtype=torch.float64), tensor([58512.], dtype=torch.float64), tensor([14197.], dtype=torch.float64), tensor([9951.], dtype=torch.float64), tensor([58512.], dtype=torch.float64), tensor([14175.], dtype=torch.float64), tensor([66822.], dtype=torch.float64), tensor([66821.], dtype=torch.float64), tensor([39087.], dtype=torch.float64), tensor([9951.], dtype=torch.float64), tensor([39511.], dtype=torch.float64), tensor([15711.], dtype=torch.float64), tensor([66821.], dtype=torch.float64), tensor([58512.], dtype=torch.float64), tensor([14175.], dtype=torch.float64), tensor([14176.], dtype=torch.float64), tensor([14175.], dtype=torch.float64), tensor([23183.], dtype=torch.float64), tensor([66821.], dtype=torch.float64), tensor([66821.], dtype=torch.float64), tensor([58512.], dtype=torch.float64), tensor([58512.], dtype=torch.float64), tensor([66834.], dtype=torch.float64), tensor([66821.], dtype=torch.float64), tensor([66821.], dtype=torch.float64), tensor([66821.], dtype=torch.float64), tensor([66821.], dtype=torch.float64), tensor([58512.], dtype=torch.float64), tensor([15945.], dtype=torch.float64), tensor([39097.], dtype=torch.float64), tensor([14178.], dtype=torch.float64), tensor([66823.], dtype=torch.float64), tensor([17416.], dtype=torch.float64), tensor([14211.], dtype=torch.float64), tensor([66821.], dtype=torch.float64), tensor([58512.], dtype=torch.float64), tensor([9951.], dtype=torch.float64), tensor([14181.], dtype=torch.float64), tensor([14180.], dtype=torch.float64), tensor([39157.], dtype=torch.float64), tensor([58512.], dtype=torch.float64), tensor([58512.], dtype=torch.float64), tensor([9951.], dtype=torch.float64), tensor([34333.], dtype=torch.float64), tensor([9951.], dtype=torch.float64), tensor([66821.], dtype=torch.float64), tensor([66821.], dtype=torch.float64), tensor([66823.], dtype=torch.float64), tensor([66822.], dtype=torch.float64), tensor([66821.], dtype=torch.float64), tensor([9951.], dtype=torch.float64), tensor([39439.], dtype=torch.float64), tensor([9951.], dtype=torch.float64), tensor([58512.], dtype=torch.float64), tensor([58512.], dtype=torch.float64), tensor([14185.], dtype=torch.float64), tensor([9951.], dtype=torch.float64), tensor([14190.], dtype=torch.float64), tensor([27726.], dtype=torch.float64), tensor([14175.], dtype=torch.float64), tensor([66825.], dtype=torch.float64), tensor([14175.], dtype=torch.float64), tensor([14175.], dtype=torch.float64), tensor([9951.], dtype=torch.float64), tensor([9951.], dtype=torch.float64), tensor([66821.], dtype=torch.float64), tensor([14175.], dtype=torch.float64), tensor([66821.], dtype=torch.float64), tensor([38230.], dtype=torch.float64), tensor([58512.], dtype=torch.float64), tensor([58554.], dtype=torch.float64), tensor([66821.], dtype=torch.float64), tensor([66821.], dtype=torch.float64), tensor([66821.], dtype=torch.float64), tensor([27816.], dtype=torch.float64), tensor([66821.], dtype=torch.float64), tensor([14175.], dtype=torch.float64), tensor([14177.], dtype=torch.float64), tensor([58513.], dtype=torch.float64), tensor([66825.], dtype=torch.float64), tensor([9951.], dtype=torch.float64), tensor([66821.], dtype=torch.float64), tensor([38979.], dtype=torch.float64), tensor([66821.], dtype=torch.float64), tensor([58512.], dtype=torch.float64), tensor([16033.], dtype=torch.float64), tensor([9951.], dtype=torch.float64), tensor([66822.], dtype=torch.float64), tensor([15711.], dtype=torch.float64), tensor([14176.], dtype=torch.float64), tensor([14175.], dtype=torch.float64), tensor([66821.], dtype=torch.float64), tensor([14184.], dtype=torch.float64), tensor([17417.], dtype=torch.float64), tensor([38953.], dtype=torch.float64), tensor([38850.], dtype=torch.float64), tensor([18834.], dtype=torch.float64), tensor([66824.], dtype=torch.float64), tensor([66821.], dtype=torch.float64), tensor([58512.], dtype=torch.float64), tensor([38995.], dtype=torch.float64), tensor([58512.], dtype=torch.float64), tensor([9951.], dtype=torch.float64), tensor([58512.], dtype=torch.float64), tensor([39133.], dtype=torch.float64), tensor([58512.], dtype=torch.float64), tensor([58512.], dtype=torch.float64), tensor([58512.], dtype=torch.float64), tensor([34955.], dtype=torch.float64), tensor([66821.], dtype=torch.float64), tensor([14175.], dtype=torch.float64), tensor([14175.], dtype=torch.float64), tensor([9951.], dtype=torch.float64), tensor([14175.], dtype=torch.float64), tensor([66821.], dtype=torch.float64), tensor([58513.], dtype=torch.float64), tensor([14176.], dtype=torch.float64), tensor([14175.], dtype=torch.float64), tensor([66822.], dtype=torch.float64), tensor([14176.], dtype=torch.float64), tensor([14175.], dtype=torch.float64), tensor([58512.], dtype=torch.float64), tensor([14175.], dtype=torch.float64), tensor([38633.], dtype=torch.float64), tensor([16020.], dtype=torch.float64), tensor([39159.], dtype=torch.float64), tensor([58512.], dtype=torch.float64), tensor([21227.], dtype=torch.float64), tensor([66821.], dtype=torch.float64), tensor([58512.], dtype=torch.float64), tensor([38936.], dtype=torch.float64), tensor([66917.], dtype=torch.float64), tensor([39033.], dtype=torch.float64), tensor([58520.], dtype=torch.float64), tensor([14176.], dtype=torch.float64), tensor([9951.], dtype=torch.float64), tensor([15711.], dtype=torch.float64), tensor([66821.], dtype=torch.float64), tensor([13320.], dtype=torch.float64), tensor([35160.], dtype=torch.float64), tensor([34116.], dtype=torch.float64), tensor([34116.], dtype=torch.float64), tensor([14187.], dtype=torch.float64), tensor([66821.], dtype=torch.float64), tensor([17844.], dtype=torch.float64), tensor([39105.], dtype=torch.float64), tensor([66821.], dtype=torch.float64), tensor([14175.], dtype=torch.float64), tensor([66821.], dtype=torch.float64), tensor([66821.], dtype=torch.float64), tensor([66821.], dtype=torch.float64), tensor([38953.], dtype=torch.float64), tensor([35253.], dtype=torch.float64), tensor([66824.], dtype=torch.float64), tensor([39049.], dtype=torch.float64), tensor([66821.], dtype=torch.float64), tensor([14175.], dtype=torch.float64), tensor([9951.], dtype=torch.float64), tensor([38922.], dtype=torch.float64), tensor([58512.], dtype=torch.float64), tensor([14175.], dtype=torch.float64), tensor([9951.], dtype=torch.float64), tensor([58512.], dtype=torch.float64), tensor([66821.], dtype=torch.float64), tensor([17416.], dtype=torch.float64), tensor([58512.], dtype=torch.float64), tensor([39141.], dtype=torch.float64), tensor([15711.], dtype=torch.float64), tensor([14181.], dtype=torch.float64), tensor([9951.], dtype=torch.float64), tensor([66821.], dtype=torch.float64), tensor([9951.], dtype=torch.float64), tensor([14211.], dtype=torch.float64), tensor([66821.], dtype=torch.float64), tensor([58512.], dtype=torch.float64), tensor([38483.], dtype=torch.float64), tensor([58512.], dtype=torch.float64), tensor([58512.], dtype=torch.float64), tensor([58512.], dtype=torch.float64), tensor([58512.], dtype=torch.float64), tensor([14200.], dtype=torch.float64), tensor([66821.], dtype=torch.float64), tensor([14177.], dtype=torch.float64), tensor([14197.], dtype=torch.float64), tensor([17246.], dtype=torch.float64), tensor([58512.], dtype=torch.float64), tensor([14175.], dtype=torch.float64), tensor([66821.], dtype=torch.float64), tensor([9951.], dtype=torch.float64), tensor([38898.], dtype=torch.float64), tensor([3876.], dtype=torch.float64), tensor([21733.], dtype=torch.float64), tensor([66821.], dtype=torch.float64), tensor([35178.], dtype=torch.float64), tensor([66861.], dtype=torch.float64), tensor([66825.], dtype=torch.float64), tensor([9951.], dtype=torch.float64), tensor([66821.], dtype=torch.float64), tensor([66821.], dtype=torch.float64), tensor([9951.], dtype=torch.float64), tensor([9951.], dtype=torch.float64), tensor([58512.], dtype=torch.float64), tensor([58512.], dtype=torch.float64), tensor([66822.], dtype=torch.float64), tensor([66821.], dtype=torch.float64), tensor([9951.], dtype=torch.float64), tensor([18834.], dtype=torch.float64), tensor([58512.], dtype=torch.float64), tensor([38543.], dtype=torch.float64), tensor([58515.], dtype=torch.float64), tensor([27726.], dtype=torch.float64), tensor([35045.], dtype=torch.float64), tensor([9951.], dtype=torch.float64), tensor([19520.], dtype=torch.float64), tensor([14175.], dtype=torch.float64), tensor([66821.], dtype=torch.float64), tensor([66821.], dtype=torch.float64), tensor([14178.], dtype=torch.float64), tensor([9951.], dtype=torch.float64), tensor([66821.], dtype=torch.float64), tensor([14175.], dtype=torch.float64), tensor([9951.], dtype=torch.float64), tensor([19798.], dtype=torch.float64), tensor([58512.], dtype=torch.float64), tensor([66823.], dtype=torch.float64), tensor([3876.], dtype=torch.float64), tensor([15712.], dtype=torch.float64), tensor([38393.], dtype=torch.float64), tensor([9951.], dtype=torch.float64), tensor([9951.], dtype=torch.float64), tensor([39310.], dtype=torch.float64), tensor([14175.], dtype=torch.float64), tensor([35343.], dtype=torch.float64), tensor([58512.], dtype=torch.float64), tensor([39058.], dtype=torch.float64), tensor([58512.], dtype=torch.float64), tensor([15716.], dtype=torch.float64), tensor([39403.], dtype=torch.float64), tensor([35025.], dtype=torch.float64), tensor([39013.], dtype=torch.float64), tensor([66822.], dtype=torch.float64), tensor([58516.], dtype=torch.float64), tensor([66821.], dtype=torch.float64), tensor([38535.], dtype=torch.float64), tensor([66821.], dtype=torch.float64), tensor([14047.], dtype=torch.float64), tensor([38212.], dtype=torch.float64), tensor([38321.], dtype=torch.float64), tensor([14176.], dtype=torch.float64), tensor([14178.], dtype=torch.float64), tensor([17416.], dtype=torch.float64), tensor([66821.], dtype=torch.float64), tensor([66821.], dtype=torch.float64), tensor([66821.], dtype=torch.float64), tensor([58512.], dtype=torch.float64), tensor([58512.], dtype=torch.float64), tensor([39066.], dtype=torch.float64), tensor([66821.], dtype=torch.float64), tensor([9951.], dtype=torch.float64), tensor([58512.], dtype=torch.float64), tensor([9951.], dtype=torch.float64), tensor([66821.], dtype=torch.float64), tensor([58512.], dtype=torch.float64), tensor([15711.], dtype=torch.float64), tensor([58512.], dtype=torch.float64), tensor([66821.], dtype=torch.float64), tensor([9951.], dtype=torch.float64), tensor([3876.], dtype=torch.float64), tensor([66822.], dtype=torch.float64), tensor([66827.], dtype=torch.float64), tensor([58512.], dtype=torch.float64), tensor([66826.], dtype=torch.float64), tensor([9951.], dtype=torch.float64), tensor([66821.], dtype=torch.float64), tensor([66821.], dtype=torch.float64), tensor([15712.], dtype=torch.float64), tensor([58512.], dtype=torch.float64), tensor([58512.], dtype=torch.float64), tensor([14199.], dtype=torch.float64), tensor([58513.], dtype=torch.float64), tensor([58512.], dtype=torch.float64), tensor([58512.], dtype=torch.float64), tensor([66821.], dtype=torch.float64), tensor([20556.], dtype=torch.float64), tensor([58519.], dtype=torch.float64), tensor([17416.], dtype=torch.float64), tensor([24812.], dtype=torch.float64), tensor([58512.], dtype=torch.float64), tensor([14179.], dtype=torch.float64), tensor([14175.], dtype=torch.float64), tensor([14175.], dtype=torch.float64), tensor([9951.], dtype=torch.float64), tensor([14175.], dtype=torch.float64), tensor([58512.], dtype=torch.float64), tensor([14175.], dtype=torch.float64), tensor([66821.], dtype=torch.float64), tensor([58512.], dtype=torch.float64), tensor([3876.], dtype=torch.float64), tensor([66821.], dtype=torch.float64), tensor([34584.], dtype=torch.float64), tensor([58512.], dtype=torch.float64), tensor([66821.], dtype=torch.float64), tensor([11274.], dtype=torch.float64), tensor([15711.], dtype=torch.float64), tensor([14175.], dtype=torch.float64), tensor([58512.], dtype=torch.float64), tensor([66825.], dtype=torch.float64), tensor([58512.], dtype=torch.float64), tensor([66821.], dtype=torch.float64), tensor([9951.], dtype=torch.float64), tensor([9951.], dtype=torch.float64), tensor([66823.], dtype=torch.float64), tensor([58512.], dtype=torch.float64), tensor([14178.], dtype=torch.float64), tensor([38879.], dtype=torch.float64), tensor([14175.], dtype=torch.float64), tensor([66821.], dtype=torch.float64), tensor([12552.], dtype=torch.float64), tensor([14162.], dtype=torch.float64), tensor([66822.], dtype=torch.float64), tensor([14200.], dtype=torch.float64), tensor([66823.], dtype=torch.float64), tensor([66821.], dtype=torch.float64), tensor([38879.], dtype=torch.float64), tensor([66824.], dtype=torch.float64), tensor([39049.], dtype=torch.float64), tensor([58512.], dtype=torch.float64), tensor([66821.], dtype=torch.float64), tensor([66821.], dtype=torch.float64), tensor([14176.], dtype=torch.float64), tensor([58512.], dtype=torch.float64), tensor([14179.], dtype=torch.float64), tensor([66821.], dtype=torch.float64), tensor([66821.], dtype=torch.float64), tensor([66821.], dtype=torch.float64), tensor([58512.], dtype=torch.float64), tensor([14176.], dtype=torch.float64), tensor([14175.], dtype=torch.float64), tensor([14182.], dtype=torch.float64), tensor([38446.], dtype=torch.float64), tensor([39030.], dtype=torch.float64), tensor([66821.], dtype=torch.float64), tensor([14175.], dtype=torch.float64), tensor([38590.], dtype=torch.float64), tensor([9951.], dtype=torch.float64), tensor([18834.], dtype=torch.float64), tensor([58512.], dtype=torch.float64), tensor([66821.], dtype=torch.float64), tensor([66849.], dtype=torch.float64), tensor([39173.], dtype=torch.float64), tensor([35097.], dtype=torch.float64), tensor([14047.], dtype=torch.float64), tensor([15711.], dtype=torch.float64), tensor([66821.], dtype=torch.float64), tensor([58512.], dtype=torch.float64), tensor([9951.], dtype=torch.float64), tensor([66821.], dtype=torch.float64), tensor([9951.], dtype=torch.float64), tensor([58512.], dtype=torch.float64), tensor([35271.], dtype=torch.float64), tensor([14178.], dtype=torch.float64)]\n",
      "len(ls): 467\n"
     ]
    },
    {
     "name": "stdout",
     "output_type": "stream",
     "text": [
      "pred_output shape: torch.Size([64, 1])\n"
     ]
    },
    {
     "name": "stdout",
     "output_type": "stream",
     "text": [
      "pred_output shape: torch.Size([64, 1])\n"
     ]
    },
    {
     "name": "stdout",
     "output_type": "stream",
     "text": [
      "pred_output shape: torch.Size([64, 1])\n"
     ]
    },
    {
     "name": "stdout",
     "output_type": "stream",
     "text": [
      "pred_output shape: torch.Size([64, 1])\n"
     ]
    },
    {
     "name": "stdout",
     "output_type": "stream",
     "text": [
      "pred_output shape: torch.Size([64, 1])\n"
     ]
    },
    {
     "name": "stdout",
     "output_type": "stream",
     "text": [
      "pred_output shape: torch.Size([64, 1])\n"
     ]
    },
    {
     "name": "stdout",
     "output_type": "stream",
     "text": [
      "pred_output shape: torch.Size([64, 1])\n"
     ]
    },
    {
     "name": "stdout",
     "output_type": "stream",
     "text": [
      "pred_output shape: torch.Size([19, 1])\n",
      "running epoch: 43\n"
     ]
    },
    {
     "name": "stdout",
     "output_type": "stream",
     "text": [
      "pred_output shape: torch.Size([64, 1])\n"
     ]
    },
    {
     "name": "stdout",
     "output_type": "stream",
     "text": [
      "pred_output shape: torch.Size([64, 1])\n"
     ]
    },
    {
     "name": "stdout",
     "output_type": "stream",
     "text": [
      "pred_output shape: torch.Size([64, 1])\n"
     ]
    },
    {
     "name": "stdout",
     "output_type": "stream",
     "text": [
      "pred_output shape: torch.Size([64, 1])\n"
     ]
    },
    {
     "name": "stdout",
     "output_type": "stream",
     "text": [
      "pred_output shape: torch.Size([64, 1])\n"
     ]
    },
    {
     "name": "stdout",
     "output_type": "stream",
     "text": [
      "pred_output shape: torch.Size([64, 1])\n"
     ]
    },
    {
     "name": "stdout",
     "output_type": "stream",
     "text": [
      "pred_output shape: torch.Size([64, 1])\n"
     ]
    },
    {
     "name": "stdout",
     "output_type": "stream",
     "text": [
      "pred_output shape: torch.Size([64, 1])\n"
     ]
    },
    {
     "name": "stdout",
     "output_type": "stream",
     "text": [
      "pred_output shape: torch.Size([64, 1])\n"
     ]
    },
    {
     "name": "stdout",
     "output_type": "stream",
     "text": [
      "pred_output shape: torch.Size([64, 1])\n"
     ]
    },
    {
     "name": "stdout",
     "output_type": "stream",
     "text": [
      "pred_output shape: torch.Size([64, 1])\n"
     ]
    },
    {
     "name": "stdout",
     "output_type": "stream",
     "text": [
      "pred_output shape: torch.Size([64, 1])\n"
     ]
    },
    {
     "name": "stdout",
     "output_type": "stream",
     "text": [
      "pred_output shape: torch.Size([64, 1])\n"
     ]
    },
    {
     "name": "stdout",
     "output_type": "stream",
     "text": [
      "pred_output shape: torch.Size([64, 1])\n"
     ]
    },
    {
     "name": "stdout",
     "output_type": "stream",
     "text": [
      "pred_output shape: torch.Size([64, 1])\n"
     ]
    },
    {
     "name": "stdout",
     "output_type": "stream",
     "text": [
      "pred_output shape: torch.Size([64, 1])\n"
     ]
    },
    {
     "name": "stdout",
     "output_type": "stream",
     "text": [
      "pred_output shape: torch.Size([64, 1])\n"
     ]
    },
    {
     "name": "stdout",
     "output_type": "stream",
     "text": [
      "pred_output shape: torch.Size([64, 1])\n"
     ]
    },
    {
     "name": "stdout",
     "output_type": "stream",
     "text": [
      "pred_output shape: torch.Size([64, 1])\n"
     ]
    },
    {
     "name": "stdout",
     "output_type": "stream",
     "text": [
      "pred_output shape: torch.Size([64, 1])\n"
     ]
    },
    {
     "name": "stdout",
     "output_type": "stream",
     "text": [
      "pred_output shape: torch.Size([64, 1])\n"
     ]
    },
    {
     "name": "stdout",
     "output_type": "stream",
     "text": [
      "pred_output shape: torch.Size([64, 1])\n"
     ]
    },
    {
     "name": "stdout",
     "output_type": "stream",
     "text": [
      "pred_output shape: torch.Size([64, 1])\n"
     ]
    },
    {
     "name": "stdout",
     "output_type": "stream",
     "text": [
      "pred_output shape: torch.Size([64, 1])\n"
     ]
    },
    {
     "name": "stdout",
     "output_type": "stream",
     "text": [
      "pred_output shape: torch.Size([64, 1])\n"
     ]
    },
    {
     "name": "stdout",
     "output_type": "stream",
     "text": [
      "pred_output shape: torch.Size([64, 1])\n"
     ]
    },
    {
     "name": "stdout",
     "output_type": "stream",
     "text": [
      "pred_output shape: torch.Size([64, 1])\n"
     ]
    },
    {
     "name": "stdout",
     "output_type": "stream",
     "text": [
      "pred_output shape: torch.Size([64, 1])\n"
     ]
    },
    {
     "name": "stdout",
     "output_type": "stream",
     "text": [
      "pred_output shape: torch.Size([64, 1])\n"
     ]
    },
    {
     "name": "stdout",
     "output_type": "stream",
     "text": [
      "pred_output shape: torch.Size([9, 1])\n"
     ]
    },
    {
     "name": "stdout",
     "output_type": "stream",
     "text": [
      "pred_output shape: torch.Size([64, 1])\n"
     ]
    },
    {
     "name": "stdout",
     "output_type": "stream",
     "text": [
      "pred_output shape: torch.Size([64, 1])\n"
     ]
    },
    {
     "name": "stdout",
     "output_type": "stream",
     "text": [
      "pred_output shape: torch.Size([64, 1])\n"
     ]
    },
    {
     "name": "stdout",
     "output_type": "stream",
     "text": [
      "pred_output shape: torch.Size([64, 1])\n"
     ]
    },
    {
     "name": "stdout",
     "output_type": "stream",
     "text": [
      "pred_output shape: torch.Size([64, 1])\n"
     ]
    },
    {
     "name": "stdout",
     "output_type": "stream",
     "text": [
      "pred_output shape: torch.Size([64, 1])\n"
     ]
    },
    {
     "name": "stdout",
     "output_type": "stream",
     "text": [
      "pred_output shape: torch.Size([64, 1])\n"
     ]
    },
    {
     "name": "stdout",
     "output_type": "stream",
     "text": [
      "pred_output shape: torch.Size([19, 1])\n",
      "ps: [37093.477  14344.764  37094.605  11113.522  61833.34   12195.88\n",
      " 61832.395  53061.688  37094.434  11113.448  61834.516  11113.173\n",
      " 53060.88   53063.51   61834.457  53063.465  37093.97   61834.043\n",
      " 53063.258  28704.484  53061.945  37095.03   16811.672  53058.652\n",
      " 61834.867  61834.754  11113.236  61834.402  14310.438  61833.16\n",
      " 53061.742  53061.742  37096.234  53061.84   61835.695  23676.918\n",
      " 61832.63   37094.04   11113.81   53062.35   53062.6    61834.64\n",
      " 61836.055  53061.234  53056.883  37094.395  61833.52   37094.15\n",
      " 53058.297  13070.275  11113.639  11113.184  12192.786  53060.88\n",
      " 37094.82   37095.     53063.562  61835.58   61833.58   61834.695\n",
      " 61836.055  11113.734  37094.15   11113.872  53061.08   61833.812\n",
      " 53062.65   61833.93   11113.12   11113.502  61833.457  61835.344\n",
      " 37093.83   11113.4795 37094.22   53062.043  11113.311  61833.395\n",
      " 12189.636  61834.164  61832.332  12193.413  11113.713  12196.4375\n",
      " 11113.66   13073.865  53063.965  61834.992  53062.703  11113.109\n",
      " 61833.105  11113.226  11113.459  61834.754  28707.357  11113.502\n",
      " 61833.457  53061.89   61833.34   61835.047  61833.812  12193.612\n",
      " 53062.145  61835.465  53063.76   11112.675  37096.023  53057.438\n",
      " 11113.734  11113.81   53063.05   11113.141  61834.992  61833.52\n",
      " 37094.29   11113.543  37094.605  12196.346  61834.043  53061.484\n",
      " 11113.331  11113.289  11113.617  28700.87   61835.58   61834.574\n",
      " 53063.562  53063.562  61833.69   61834.867  61835.93   61832.51\n",
      " 61832.273  53062.55   13075.114  37096.305  11113.226  61832.273\n",
      " 11113.819  11112.992  61835.227  53058.297  11113.692  11113.311\n",
      " 13072.607  37095.316  53062.242  53063.812  11113.279  37093.83\n",
      " 11113.725  61832.63   61834.516  61833.93   61834.574  61835.633\n",
      " 11113.502  37094.54   12196.147  53058.5    53063.156  11113.269\n",
      " 11113.47   11113.629  28634.598  11113.289  61833.87   11113.564\n",
      " 11113.587  11113.311  11113.184  61836.52   13070.974  61836.64\n",
      " 37094.605  53062.65   53063.05   61832.984  61834.457  61833.457\n",
      " 28702.729  61833.395  11113.671  11113.141  53063.05   61834.64\n",
      " 11113.3955 61833.457  37094.926  61833.34   53061.688  12842.287\n",
      " 11113.713  61833.93   12191.787  11113.617  11113.459  61832.81\n",
      " 11113.459  11113.236  37094.746  37093.508  14336.954  61832.69\n",
      " 61835.344  53057.39   37094.926  53061.992  11113.851  53062.242\n",
      " 37096.09   53062.45   53063.664  53062.043  37095.066  61834.934\n",
      " 11113.428  11113.682  11113.776  13071.099  61832.098  53063.61\n",
      " 11113.787  11119.109  61834.992  11113.269  11113.682  53061.945\n",
      " 11113.32   37094.82   12845.7295 37094.71   53062.297  28702.236\n",
      " 61832.395  53057.59   37094.36   61834.457  37094.434  53063.258\n",
      " 11113.12   11113.576  12196.833  61834.934  11113.861  37093.9\n",
      " 37094.82   37094.605  13071.522  61833.34   14607.586  37094.22\n",
      " 61833.395  11113.725  61834.574  61833.69   61833.812  37093.688\n",
      " 37093.76   61832.63   37094.82   61834.81   11113.13   11113.597\n",
      " 37094.113  53063.812  11113.025  12191.367  53063.51   61832.273\n",
      " 11113.47   53063.156  37094.04   12190.088  11113.872  11113.205\n",
      " 61832.984  12190.367  11113.003  61834.28   53061.992  37094.605\n",
      " 53062.145  53058.957  53063.05   53063.41   11113.3955 61834.754\n",
      " 11113.491  11113.428  14493.826  53057.133  11113.141  61835.168\n",
      " 11113.374  37094.54   11113.066  11113.522  61832.81   37094.645\n",
      " 61834.164  61830.86   11113.459  61832.63   61833.812  11113.194\n",
      " 11113.861  53059.113  53060.88   61832.22   61833.93   11113.311\n",
      " 14340.441  53059.004  37094.54   53057.49   28696.846  37093.9\n",
      " 11113.629  16813.389  11113.725  61835.93   61832.457  11113.141\n",
      " 11113.904  61833.812  11113.576  11113.692  28717.982  53059.004\n",
      " 61835.465  12183.243  12188.484  37094.85   11113.4375 11113.258\n",
      " 37094.54   11113.513  37094.33   53061.535  37094.04   53061.945\n",
      " 12192.716  37094.184  37094.96   37094.36   61834.81   53061.945\n",
      " 61832.81   37096.41   61835.105  11113.173  37094.434  37094.04\n",
      " 11113.66   11113.269  11113.502  61831.867  61832.457  61833.457\n",
      " 53063.562  53061.59   37094.89   61836.406  11113.417  53060.676\n",
      " 11113.65   61832.63   53057.844  12197.833  53063.41   61833.395\n",
      " 11113.014  11113.215  61832.16   61832.984  53063.664  61833.105\n",
      " 11113.491  61836.406  61835.168  12189.298  53062.35   53056.375\n",
      " 11112.844  53058.754  53063.61   53061.688  61836.406  28711.654\n",
      " 53063.664  11113.851  28710.754  53058.152  11113.587  11113.374\n",
      " 11113.587  11113.014  17335.576  53063.355  11113.056  61833.69\n",
      " 53057.688  11113.363  61832.51   37093.547  53063.05   61835.227\n",
      " 17346.375  12193.636  11113.502  53064.367  61834.223  53062.85\n",
      " 61834.28   12190.229  11113.576  61832.63   53062.35   13072.458\n",
      " 37096.234  11113.894  61832.51   12844.626  15297.542  61832.92\n",
      " 11113.543  61835.047  61832.984  37094.605  61834.574  37096.45\n",
      " 53062.8    61835.465  61834.867  11113.056  53060.63   11113.502\n",
      " 61835.28   61835.695  61834.934  53063.156  11113.406  11113.459\n",
      " 11113.354  37094.22   37096.234  61832.51   11114.01   37094.82\n",
      " 11113.491  14343.108  53058.555  61834.574  61834.867  37094.746\n",
      " 37096.234  11113.247  12193.182  61834.457  53061.535  12193.844\n",
      " 61834.867  16813.42   53062.242  37095.598  11113.682 ]\n",
      "ls: [tensor([35153.], dtype=torch.float64), tensor([9951.], dtype=torch.float64), tensor([38815.], dtype=torch.float64), tensor([14175.], dtype=torch.float64), tensor([66821.], dtype=torch.float64), tensor([9951.], dtype=torch.float64), tensor([66821.], dtype=torch.float64), tensor([58513.], dtype=torch.float64), tensor([39421.], dtype=torch.float64), tensor([9951.], dtype=torch.float64), tensor([66821.], dtype=torch.float64), tensor([14187.], dtype=torch.float64), tensor([58512.], dtype=torch.float64), tensor([58512.], dtype=torch.float64), tensor([66822.], dtype=torch.float64), tensor([58512.], dtype=torch.float64), tensor([35343.], dtype=torch.float64), tensor([66823.], dtype=torch.float64), tensor([58512.], dtype=torch.float64), tensor([19798.], dtype=torch.float64), tensor([58512.], dtype=torch.float64), tensor([38590.], dtype=torch.float64), tensor([9951.], dtype=torch.float64), tensor([58513.], dtype=torch.float64), tensor([66821.], dtype=torch.float64), tensor([66821.], dtype=torch.float64), tensor([9951.], dtype=torch.float64), tensor([66821.], dtype=torch.float64), tensor([7639.], dtype=torch.float64), tensor([66821.], dtype=torch.float64), tensor([58512.], dtype=torch.float64), tensor([58512.], dtype=torch.float64), tensor([38825.], dtype=torch.float64), tensor([58512.], dtype=torch.float64), tensor([66821.], dtype=torch.float64), tensor([15913.], dtype=torch.float64), tensor([66821.], dtype=torch.float64), tensor([39267.], dtype=torch.float64), tensor([14175.], dtype=torch.float64), tensor([58512.], dtype=torch.float64), tensor([58513.], dtype=torch.float64), tensor([66824.], dtype=torch.float64), tensor([66821.], dtype=torch.float64), tensor([58512.], dtype=torch.float64), tensor([58512.], dtype=torch.float64), tensor([39130.], dtype=torch.float64), tensor([66821.], dtype=torch.float64), tensor([38957.], dtype=torch.float64), tensor([58512.], dtype=torch.float64), tensor([14175.], dtype=torch.float64), tensor([17508.], dtype=torch.float64), tensor([14175.], dtype=torch.float64), tensor([15711.], dtype=torch.float64), tensor([58512.], dtype=torch.float64), tensor([34609.], dtype=torch.float64), tensor([39097.], dtype=torch.float64), tensor([58512.], dtype=torch.float64), tensor([66824.], dtype=torch.float64), tensor([66821.], dtype=torch.float64), tensor([66822.], dtype=torch.float64), tensor([66821.], dtype=torch.float64), tensor([9951.], dtype=torch.float64), tensor([38861.], dtype=torch.float64), tensor([9951.], dtype=torch.float64), tensor([58512.], dtype=torch.float64), tensor([66823.], dtype=torch.float64), tensor([58518.], dtype=torch.float64), tensor([66821.], dtype=torch.float64), tensor([3876.], dtype=torch.float64), tensor([9951.], dtype=torch.float64), tensor([66821.], dtype=torch.float64), tensor([66821.], dtype=torch.float64), tensor([38465.], dtype=torch.float64), tensor([9951.], dtype=torch.float64), tensor([39229.], dtype=torch.float64), tensor([58512.], dtype=torch.float64), tensor([9951.], dtype=torch.float64), tensor([66821.], dtype=torch.float64), tensor([15711.], dtype=torch.float64), tensor([66837.], dtype=torch.float64), tensor([66821.], dtype=torch.float64), tensor([15711.], dtype=torch.float64), tensor([17455.], dtype=torch.float64), tensor([15711.], dtype=torch.float64), tensor([3876.], dtype=torch.float64), tensor([14176.], dtype=torch.float64), tensor([58514.], dtype=torch.float64), tensor([66821.], dtype=torch.float64), tensor([58513.], dtype=torch.float64), tensor([9951.], dtype=torch.float64), tensor([66821.], dtype=torch.float64), tensor([14175.], dtype=torch.float64), tensor([9951.], dtype=torch.float64), tensor([66824.], dtype=torch.float64), tensor([31180.], dtype=torch.float64), tensor([14175.], dtype=torch.float64), tensor([66821.], dtype=torch.float64), tensor([58512.], dtype=torch.float64), tensor([66844.], dtype=torch.float64), tensor([66821.], dtype=torch.float64), tensor([66827.], dtype=torch.float64), tensor([15711.], dtype=torch.float64), tensor([58512.], dtype=torch.float64), tensor([66821.], dtype=torch.float64), tensor([58512.], dtype=torch.float64), tensor([3876.], dtype=torch.float64), tensor([39220.], dtype=torch.float64), tensor([58512.], dtype=torch.float64), tensor([14197.], dtype=torch.float64), tensor([9951.], dtype=torch.float64), tensor([58512.], dtype=torch.float64), tensor([14175.], dtype=torch.float64), tensor([66822.], dtype=torch.float64), tensor([66821.], dtype=torch.float64), tensor([39087.], dtype=torch.float64), tensor([9951.], dtype=torch.float64), tensor([39511.], dtype=torch.float64), tensor([15711.], dtype=torch.float64), tensor([66821.], dtype=torch.float64), tensor([58512.], dtype=torch.float64), tensor([14175.], dtype=torch.float64), tensor([14176.], dtype=torch.float64), tensor([14175.], dtype=torch.float64), tensor([23183.], dtype=torch.float64), tensor([66821.], dtype=torch.float64), tensor([66821.], dtype=torch.float64), tensor([58512.], dtype=torch.float64), tensor([58512.], dtype=torch.float64), tensor([66834.], dtype=torch.float64), tensor([66821.], dtype=torch.float64), tensor([66821.], dtype=torch.float64), tensor([66821.], dtype=torch.float64), tensor([66821.], dtype=torch.float64), tensor([58512.], dtype=torch.float64), tensor([15945.], dtype=torch.float64), tensor([39097.], dtype=torch.float64), tensor([14178.], dtype=torch.float64), tensor([66823.], dtype=torch.float64), tensor([17416.], dtype=torch.float64), tensor([14211.], dtype=torch.float64), tensor([66821.], dtype=torch.float64), tensor([58512.], dtype=torch.float64), tensor([9951.], dtype=torch.float64), tensor([14181.], dtype=torch.float64), tensor([14180.], dtype=torch.float64), tensor([39157.], dtype=torch.float64), tensor([58512.], dtype=torch.float64), tensor([58512.], dtype=torch.float64), tensor([9951.], dtype=torch.float64), tensor([34333.], dtype=torch.float64), tensor([9951.], dtype=torch.float64), tensor([66821.], dtype=torch.float64), tensor([66821.], dtype=torch.float64), tensor([66823.], dtype=torch.float64), tensor([66822.], dtype=torch.float64), tensor([66821.], dtype=torch.float64), tensor([9951.], dtype=torch.float64), tensor([39439.], dtype=torch.float64), tensor([9951.], dtype=torch.float64), tensor([58512.], dtype=torch.float64), tensor([58512.], dtype=torch.float64), tensor([14185.], dtype=torch.float64), tensor([9951.], dtype=torch.float64), tensor([14190.], dtype=torch.float64), tensor([27726.], dtype=torch.float64), tensor([14175.], dtype=torch.float64), tensor([66825.], dtype=torch.float64), tensor([14175.], dtype=torch.float64), tensor([14175.], dtype=torch.float64), tensor([9951.], dtype=torch.float64), tensor([9951.], dtype=torch.float64), tensor([66821.], dtype=torch.float64), tensor([14175.], dtype=torch.float64), tensor([66821.], dtype=torch.float64), tensor([38230.], dtype=torch.float64), tensor([58512.], dtype=torch.float64), tensor([58554.], dtype=torch.float64), tensor([66821.], dtype=torch.float64), tensor([66821.], dtype=torch.float64), tensor([66821.], dtype=torch.float64), tensor([27816.], dtype=torch.float64), tensor([66821.], dtype=torch.float64), tensor([14175.], dtype=torch.float64), tensor([14177.], dtype=torch.float64), tensor([58513.], dtype=torch.float64), tensor([66825.], dtype=torch.float64), tensor([9951.], dtype=torch.float64), tensor([66821.], dtype=torch.float64), tensor([38979.], dtype=torch.float64), tensor([66821.], dtype=torch.float64), tensor([58512.], dtype=torch.float64), tensor([16033.], dtype=torch.float64), tensor([9951.], dtype=torch.float64), tensor([66822.], dtype=torch.float64), tensor([15711.], dtype=torch.float64), tensor([14176.], dtype=torch.float64), tensor([14175.], dtype=torch.float64), tensor([66821.], dtype=torch.float64), tensor([14184.], dtype=torch.float64), tensor([17417.], dtype=torch.float64), tensor([38953.], dtype=torch.float64), tensor([38850.], dtype=torch.float64), tensor([18834.], dtype=torch.float64), tensor([66824.], dtype=torch.float64), tensor([66821.], dtype=torch.float64), tensor([58512.], dtype=torch.float64), tensor([38995.], dtype=torch.float64), tensor([58512.], dtype=torch.float64), tensor([9951.], dtype=torch.float64), tensor([58512.], dtype=torch.float64), tensor([39133.], dtype=torch.float64), tensor([58512.], dtype=torch.float64), tensor([58512.], dtype=torch.float64), tensor([58512.], dtype=torch.float64), tensor([34955.], dtype=torch.float64), tensor([66821.], dtype=torch.float64), tensor([14175.], dtype=torch.float64), tensor([14175.], dtype=torch.float64), tensor([9951.], dtype=torch.float64), tensor([14175.], dtype=torch.float64), tensor([66821.], dtype=torch.float64), tensor([58513.], dtype=torch.float64), tensor([14176.], dtype=torch.float64), tensor([14175.], dtype=torch.float64), tensor([66822.], dtype=torch.float64), tensor([14176.], dtype=torch.float64), tensor([14175.], dtype=torch.float64), tensor([58512.], dtype=torch.float64), tensor([14175.], dtype=torch.float64), tensor([38633.], dtype=torch.float64), tensor([16020.], dtype=torch.float64), tensor([39159.], dtype=torch.float64), tensor([58512.], dtype=torch.float64), tensor([21227.], dtype=torch.float64), tensor([66821.], dtype=torch.float64), tensor([58512.], dtype=torch.float64), tensor([38936.], dtype=torch.float64), tensor([66917.], dtype=torch.float64), tensor([39033.], dtype=torch.float64), tensor([58520.], dtype=torch.float64), tensor([14176.], dtype=torch.float64), tensor([9951.], dtype=torch.float64), tensor([15711.], dtype=torch.float64), tensor([66821.], dtype=torch.float64), tensor([13320.], dtype=torch.float64), tensor([35160.], dtype=torch.float64), tensor([34116.], dtype=torch.float64), tensor([34116.], dtype=torch.float64), tensor([14187.], dtype=torch.float64), tensor([66821.], dtype=torch.float64), tensor([17844.], dtype=torch.float64), tensor([39105.], dtype=torch.float64), tensor([66821.], dtype=torch.float64), tensor([14175.], dtype=torch.float64), tensor([66821.], dtype=torch.float64), tensor([66821.], dtype=torch.float64), tensor([66821.], dtype=torch.float64), tensor([38953.], dtype=torch.float64), tensor([35253.], dtype=torch.float64), tensor([66824.], dtype=torch.float64), tensor([39049.], dtype=torch.float64), tensor([66821.], dtype=torch.float64), tensor([14175.], dtype=torch.float64), tensor([9951.], dtype=torch.float64), tensor([38922.], dtype=torch.float64), tensor([58512.], dtype=torch.float64), tensor([14175.], dtype=torch.float64), tensor([9951.], dtype=torch.float64), tensor([58512.], dtype=torch.float64), tensor([66821.], dtype=torch.float64), tensor([17416.], dtype=torch.float64), tensor([58512.], dtype=torch.float64), tensor([39141.], dtype=torch.float64), tensor([15711.], dtype=torch.float64), tensor([14181.], dtype=torch.float64), tensor([9951.], dtype=torch.float64), tensor([66821.], dtype=torch.float64), tensor([9951.], dtype=torch.float64), tensor([14211.], dtype=torch.float64), tensor([66821.], dtype=torch.float64), tensor([58512.], dtype=torch.float64), tensor([38483.], dtype=torch.float64), tensor([58512.], dtype=torch.float64), tensor([58512.], dtype=torch.float64), tensor([58512.], dtype=torch.float64), tensor([58512.], dtype=torch.float64), tensor([14200.], dtype=torch.float64), tensor([66821.], dtype=torch.float64), tensor([14177.], dtype=torch.float64), tensor([14197.], dtype=torch.float64), tensor([17246.], dtype=torch.float64), tensor([58512.], dtype=torch.float64), tensor([14175.], dtype=torch.float64), tensor([66821.], dtype=torch.float64), tensor([9951.], dtype=torch.float64), tensor([38898.], dtype=torch.float64), tensor([3876.], dtype=torch.float64), tensor([21733.], dtype=torch.float64), tensor([66821.], dtype=torch.float64), tensor([35178.], dtype=torch.float64), tensor([66861.], dtype=torch.float64), tensor([66825.], dtype=torch.float64), tensor([9951.], dtype=torch.float64), tensor([66821.], dtype=torch.float64), tensor([66821.], dtype=torch.float64), tensor([9951.], dtype=torch.float64), tensor([9951.], dtype=torch.float64), tensor([58512.], dtype=torch.float64), tensor([58512.], dtype=torch.float64), tensor([66822.], dtype=torch.float64), tensor([66821.], dtype=torch.float64), tensor([9951.], dtype=torch.float64), tensor([18834.], dtype=torch.float64), tensor([58512.], dtype=torch.float64), tensor([38543.], dtype=torch.float64), tensor([58515.], dtype=torch.float64), tensor([27726.], dtype=torch.float64), tensor([35045.], dtype=torch.float64), tensor([9951.], dtype=torch.float64), tensor([19520.], dtype=torch.float64), tensor([14175.], dtype=torch.float64), tensor([66821.], dtype=torch.float64), tensor([66821.], dtype=torch.float64), tensor([14178.], dtype=torch.float64), tensor([9951.], dtype=torch.float64), tensor([66821.], dtype=torch.float64), tensor([14175.], dtype=torch.float64), tensor([9951.], dtype=torch.float64), tensor([19798.], dtype=torch.float64), tensor([58512.], dtype=torch.float64), tensor([66823.], dtype=torch.float64), tensor([3876.], dtype=torch.float64), tensor([15712.], dtype=torch.float64), tensor([38393.], dtype=torch.float64), tensor([9951.], dtype=torch.float64), tensor([9951.], dtype=torch.float64), tensor([39310.], dtype=torch.float64), tensor([14175.], dtype=torch.float64), tensor([35343.], dtype=torch.float64), tensor([58512.], dtype=torch.float64), tensor([39058.], dtype=torch.float64), tensor([58512.], dtype=torch.float64), tensor([15716.], dtype=torch.float64), tensor([39403.], dtype=torch.float64), tensor([35025.], dtype=torch.float64), tensor([39013.], dtype=torch.float64), tensor([66822.], dtype=torch.float64), tensor([58516.], dtype=torch.float64), tensor([66821.], dtype=torch.float64), tensor([38535.], dtype=torch.float64), tensor([66821.], dtype=torch.float64), tensor([14047.], dtype=torch.float64), tensor([38212.], dtype=torch.float64), tensor([38321.], dtype=torch.float64), tensor([14176.], dtype=torch.float64), tensor([14178.], dtype=torch.float64), tensor([17416.], dtype=torch.float64), tensor([66821.], dtype=torch.float64), tensor([66821.], dtype=torch.float64), tensor([66821.], dtype=torch.float64), tensor([58512.], dtype=torch.float64), tensor([58512.], dtype=torch.float64), tensor([39066.], dtype=torch.float64), tensor([66821.], dtype=torch.float64), tensor([9951.], dtype=torch.float64), tensor([58512.], dtype=torch.float64), tensor([9951.], dtype=torch.float64), tensor([66821.], dtype=torch.float64), tensor([58512.], dtype=torch.float64), tensor([15711.], dtype=torch.float64), tensor([58512.], dtype=torch.float64), tensor([66821.], dtype=torch.float64), tensor([9951.], dtype=torch.float64), tensor([3876.], dtype=torch.float64), tensor([66822.], dtype=torch.float64), tensor([66827.], dtype=torch.float64), tensor([58512.], dtype=torch.float64), tensor([66826.], dtype=torch.float64), tensor([9951.], dtype=torch.float64), tensor([66821.], dtype=torch.float64), tensor([66821.], dtype=torch.float64), tensor([15712.], dtype=torch.float64), tensor([58512.], dtype=torch.float64), tensor([58512.], dtype=torch.float64), tensor([14199.], dtype=torch.float64), tensor([58513.], dtype=torch.float64), tensor([58512.], dtype=torch.float64), tensor([58512.], dtype=torch.float64), tensor([66821.], dtype=torch.float64), tensor([20556.], dtype=torch.float64), tensor([58519.], dtype=torch.float64), tensor([17416.], dtype=torch.float64), tensor([24812.], dtype=torch.float64), tensor([58512.], dtype=torch.float64), tensor([14179.], dtype=torch.float64), tensor([14175.], dtype=torch.float64), tensor([14175.], dtype=torch.float64), tensor([9951.], dtype=torch.float64), tensor([14175.], dtype=torch.float64), tensor([58512.], dtype=torch.float64), tensor([14175.], dtype=torch.float64), tensor([66821.], dtype=torch.float64), tensor([58512.], dtype=torch.float64), tensor([3876.], dtype=torch.float64), tensor([66821.], dtype=torch.float64), tensor([34584.], dtype=torch.float64), tensor([58512.], dtype=torch.float64), tensor([66821.], dtype=torch.float64), tensor([11274.], dtype=torch.float64), tensor([15711.], dtype=torch.float64), tensor([14175.], dtype=torch.float64), tensor([58512.], dtype=torch.float64), tensor([66825.], dtype=torch.float64), tensor([58512.], dtype=torch.float64), tensor([66821.], dtype=torch.float64), tensor([9951.], dtype=torch.float64), tensor([9951.], dtype=torch.float64), tensor([66823.], dtype=torch.float64), tensor([58512.], dtype=torch.float64), tensor([14178.], dtype=torch.float64), tensor([38879.], dtype=torch.float64), tensor([14175.], dtype=torch.float64), tensor([66821.], dtype=torch.float64), tensor([12552.], dtype=torch.float64), tensor([14162.], dtype=torch.float64), tensor([66822.], dtype=torch.float64), tensor([14200.], dtype=torch.float64), tensor([66823.], dtype=torch.float64), tensor([66821.], dtype=torch.float64), tensor([38879.], dtype=torch.float64), tensor([66824.], dtype=torch.float64), tensor([39049.], dtype=torch.float64), tensor([58512.], dtype=torch.float64), tensor([66821.], dtype=torch.float64), tensor([66821.], dtype=torch.float64), tensor([14176.], dtype=torch.float64), tensor([58512.], dtype=torch.float64), tensor([14179.], dtype=torch.float64), tensor([66821.], dtype=torch.float64), tensor([66821.], dtype=torch.float64), tensor([66821.], dtype=torch.float64), tensor([58512.], dtype=torch.float64), tensor([14176.], dtype=torch.float64), tensor([14175.], dtype=torch.float64), tensor([14182.], dtype=torch.float64), tensor([38446.], dtype=torch.float64), tensor([39030.], dtype=torch.float64), tensor([66821.], dtype=torch.float64), tensor([14175.], dtype=torch.float64), tensor([38590.], dtype=torch.float64), tensor([9951.], dtype=torch.float64), tensor([18834.], dtype=torch.float64), tensor([58512.], dtype=torch.float64), tensor([66821.], dtype=torch.float64), tensor([66849.], dtype=torch.float64), tensor([39173.], dtype=torch.float64), tensor([35097.], dtype=torch.float64), tensor([14047.], dtype=torch.float64), tensor([15711.], dtype=torch.float64), tensor([66821.], dtype=torch.float64), tensor([58512.], dtype=torch.float64), tensor([9951.], dtype=torch.float64), tensor([66821.], dtype=torch.float64), tensor([9951.], dtype=torch.float64), tensor([58512.], dtype=torch.float64), tensor([35271.], dtype=torch.float64), tensor([14178.], dtype=torch.float64)]\n",
      "len(ls): 467\n",
      "running epoch: 44\n"
     ]
    },
    {
     "name": "stdout",
     "output_type": "stream",
     "text": [
      "pred_output shape: torch.Size([64, 1])\n"
     ]
    },
    {
     "name": "stdout",
     "output_type": "stream",
     "text": [
      "pred_output shape: torch.Size([64, 1])\n"
     ]
    },
    {
     "name": "stdout",
     "output_type": "stream",
     "text": [
      "pred_output shape: torch.Size([64, 1])\n"
     ]
    },
    {
     "name": "stdout",
     "output_type": "stream",
     "text": [
      "pred_output shape: torch.Size([64, 1])\n"
     ]
    },
    {
     "name": "stdout",
     "output_type": "stream",
     "text": [
      "pred_output shape: torch.Size([64, 1])\n"
     ]
    },
    {
     "name": "stdout",
     "output_type": "stream",
     "text": [
      "pred_output shape: torch.Size([64, 1])\n"
     ]
    },
    {
     "name": "stdout",
     "output_type": "stream",
     "text": [
      "pred_output shape: torch.Size([64, 1])\n"
     ]
    },
    {
     "name": "stdout",
     "output_type": "stream",
     "text": [
      "pred_output shape: torch.Size([64, 1])\n"
     ]
    },
    {
     "name": "stdout",
     "output_type": "stream",
     "text": [
      "pred_output shape: torch.Size([64, 1])\n"
     ]
    },
    {
     "name": "stdout",
     "output_type": "stream",
     "text": [
      "pred_output shape: torch.Size([64, 1])\n"
     ]
    },
    {
     "name": "stdout",
     "output_type": "stream",
     "text": [
      "pred_output shape: torch.Size([64, 1])\n"
     ]
    },
    {
     "name": "stdout",
     "output_type": "stream",
     "text": [
      "pred_output shape: torch.Size([64, 1])\n"
     ]
    },
    {
     "name": "stdout",
     "output_type": "stream",
     "text": [
      "pred_output shape: torch.Size([64, 1])\n"
     ]
    },
    {
     "name": "stdout",
     "output_type": "stream",
     "text": [
      "pred_output shape: torch.Size([64, 1])\n"
     ]
    },
    {
     "name": "stdout",
     "output_type": "stream",
     "text": [
      "pred_output shape: torch.Size([64, 1])\n"
     ]
    },
    {
     "name": "stdout",
     "output_type": "stream",
     "text": [
      "pred_output shape: torch.Size([64, 1])\n"
     ]
    },
    {
     "name": "stdout",
     "output_type": "stream",
     "text": [
      "pred_output shape: torch.Size([64, 1])\n"
     ]
    },
    {
     "name": "stdout",
     "output_type": "stream",
     "text": [
      "pred_output shape: torch.Size([64, 1])\n"
     ]
    },
    {
     "name": "stdout",
     "output_type": "stream",
     "text": [
      "pred_output shape: torch.Size([64, 1])\n"
     ]
    },
    {
     "name": "stdout",
     "output_type": "stream",
     "text": [
      "pred_output shape: torch.Size([64, 1])\n"
     ]
    },
    {
     "name": "stdout",
     "output_type": "stream",
     "text": [
      "pred_output shape: torch.Size([64, 1])\n"
     ]
    },
    {
     "name": "stdout",
     "output_type": "stream",
     "text": [
      "pred_output shape: torch.Size([64, 1])\n"
     ]
    },
    {
     "name": "stdout",
     "output_type": "stream",
     "text": [
      "pred_output shape: torch.Size([64, 1])\n"
     ]
    },
    {
     "name": "stdout",
     "output_type": "stream",
     "text": [
      "pred_output shape: torch.Size([64, 1])\n"
     ]
    },
    {
     "name": "stdout",
     "output_type": "stream",
     "text": [
      "pred_output shape: torch.Size([64, 1])\n"
     ]
    },
    {
     "name": "stdout",
     "output_type": "stream",
     "text": [
      "pred_output shape: torch.Size([64, 1])\n"
     ]
    },
    {
     "name": "stdout",
     "output_type": "stream",
     "text": [
      "pred_output shape: torch.Size([64, 1])\n"
     ]
    },
    {
     "name": "stdout",
     "output_type": "stream",
     "text": [
      "pred_output shape: torch.Size([64, 1])\n"
     ]
    },
    {
     "name": "stdout",
     "output_type": "stream",
     "text": [
      "pred_output shape: torch.Size([64, 1])\n"
     ]
    },
    {
     "name": "stdout",
     "output_type": "stream",
     "text": [
      "pred_output shape: torch.Size([9, 1])\n"
     ]
    },
    {
     "name": "stdout",
     "output_type": "stream",
     "text": [
      "pred_output shape: torch.Size([64, 1])\n"
     ]
    },
    {
     "name": "stdout",
     "output_type": "stream",
     "text": [
      "pred_output shape: torch.Size([64, 1])\n"
     ]
    },
    {
     "name": "stdout",
     "output_type": "stream",
     "text": [
      "pred_output shape: torch.Size([64, 1])\n"
     ]
    },
    {
     "name": "stdout",
     "output_type": "stream",
     "text": [
      "pred_output shape: torch.Size([64, 1])\n"
     ]
    },
    {
     "name": "stdout",
     "output_type": "stream",
     "text": [
      "pred_output shape: torch.Size([64, 1])\n"
     ]
    },
    {
     "name": "stdout",
     "output_type": "stream",
     "text": [
      "pred_output shape: torch.Size([64, 1])\n"
     ]
    },
    {
     "name": "stdout",
     "output_type": "stream",
     "text": [
      "pred_output shape: torch.Size([64, 1])\n"
     ]
    },
    {
     "name": "stdout",
     "output_type": "stream",
     "text": [
      "pred_output shape: torch.Size([19, 1])\n",
      "ps: [34884.266  11365.968  34886.695  11031.749  63772.418  13032.749\n",
      " 63771.684  60796.547  34879.676  11030.876  63774.184  11030.686\n",
      " 60821.836  60731.07   63775.574  60796.26   34881.273  63775.945\n",
      " 60801.945  13863.437  60787.273  34883.1    13520.197  60754.01\n",
      " 63775.21   63770.594  11031.044  63775.21   11353.746  63772.777\n",
      " 60792.027  60790.46   34878.676  60775.45   63772.777  14648.475\n",
      " 63774.184  34886.527  11030.655  60755.344  60720.355  63772.113\n",
      " 63769.68   60748.797  60776.492  34879.81   63772.055  34882.402\n",
      " 60794.293  12742.847  11031.181  11030.613  13030.4375 60783.62\n",
      " 34885.2    34881.273  60701.71   63775.273  63776.977  63772.84\n",
      " 63773.633  11031.212  34881.97   11031.065  60713.41   63773.387\n",
      " 60780.38   63771.75   11028.435  11030.424  63771.867  63774.6\n",
      " 34884.     11030.486  34888.19   60775.97   11030.644  63773.996\n",
      " 13026.672  63773.51   63771.32   13031.096  11031.581  13034.763\n",
      " 11029.004  12745.702  60761.535  63771.81   60762.004  11031.044\n",
      " 63771.074  11031.201  11030.928  63771.258  13862.736  11029.8125\n",
      " 63770.77   60786.062  63773.88   63771.562  63771.867  13032.325\n",
      " 60726.203  63770.71   60792.605  11027.878  34878.945  60734.023\n",
      " 11031.559  11031.327  60772.785  11030.8545 63771.32   63768.832\n",
      " 34883.367  11031.181  34878.08   13033.719  63772.594  60774.812\n",
      " 11031.297  11031.423  11031.37   13863.316  63772.055  63773.754\n",
      " 60706.69   60736.688  63775.703  63774.36   63774.664  63771.504\n",
      " 63770.23   60761.836  12747.5625 34879.176  11031.265  63774.49\n",
      " 11031.233  11030.465  63771.145  60737.03   11030.98   11031.297\n",
      " 12744.888  34884.93   60703.973  60761.023  11031.191  34884.133\n",
      " 11031.77   63774.73   63772.9    63772.9    63773.574  63773.816\n",
      " 11031.275  34881.773  13032.823  60787.395  60791.742  11031.212\n",
      " 11030.244  11031.728  13869.387  11030.696  63773.88   11030.917\n",
      " 11031.149  11031.443  11031.138  63777.105  12743.04   63775.703\n",
      " 34880.543  60757.773  60784.496  63773.023  63774.49   63774.73\n",
      " 13863.831  63770.348  11030.139  11031.222  60802.414  63775.152\n",
      " 11030.465  63772.72   34878.945  63769.86   60797.54   13140.491\n",
      " 11032.022  63772.72   13030.4375 11031.918  11031.149  63771.562\n",
      " 11031.496  11030.729  34881.6    34882.6    11360.961  63769.8\n",
      " 63777.71   60734.2    34885.2    60769.25   11031.843  60719.254\n",
      " 34883.9    60739.18   60706.117  60745.03   34881.34   63771.81\n",
      " 11031.255  11031.728  11031.297  12743.442  63770.105  60719.426\n",
      " 11031.77   11038.989  63772.664  11030.834  11031.476  60790.582\n",
      " 11031.317  34883.6    13141.23   34881.14   60801.594  13863.581\n",
      " 63771.32   60800.727  34881.14   63772.594  34883.47   60795.914\n",
      " 11030.676  11030.97   13035.073  63774.6    11030.845  34879.81\n",
      " 34882.402  34878.91   12744.269  63772.9    13976.02   34881.273\n",
      " 63773.082  11030.424  63772.97   63769.496  63772.9    34882.305\n",
      " 34879.61   63771.504  34888.527  63775.516  11031.012  11031.243\n",
      " 34879.207  60757.02   11030.834  13027.294  60794.293  63770.71\n",
      " 11031.433  60766.586  34886.625  13028.821  11032.054  11030.644\n",
      " 63770.465  13030.426  11030.613  63772.664  60753.953  34881.004\n",
      " 60722.73   60790.062  60795.684  60752.332  11030.906  63773.023\n",
      " 11031.602  11031.201  13716.957  60803.625  11030.97   63771.504\n",
      " 11030.791  34884.535  11028.403  11031.171  63772.29   34878.777\n",
      " 63771.562  63776.008  11030.402  63772.17   63774.184  11031.086\n",
      " 11031.507  60703.098  60714.453  63770.71   63772.777  11030.496\n",
      " 11361.903  60701.42   34885.633  60771.395  13863.871  34884.566\n",
      " 11030.7705 13520.544  11031.707  63772.97   63772.664  11030.812\n",
      " 11031.717  63771.867  11031.032  11029.603  13861.994  60800.38\n",
      " 63771.445  13015.795  13022.512  34884.6    11030.865  11031.117\n",
      " 34877.914  11031.233  34876.848  60802.758  34878.145  60731.824\n",
      " 13030.996  34880.938  34885.363  34885.234  63773.69   60771.105\n",
      " 63769.74   34872.957  63774.36   11030.876  34884.332  34880.84\n",
      " 11030.939  11030.739  11031.243  63771.258  63772.9    63771.504\n",
      " 60791.508  60796.203  34879.08   63775.703  11030.35   60804.56\n",
      " 11030.791  63773.145  60711.55   13035.918  60720.125  63773.145\n",
      " 11030.444  11028.625  63770.23   63768.527  60732.867  63771.2\n",
      " 11031.454  63774.97   63771.32   13026.387  60798.523  60741.203\n",
      " 11030.613  60719.95   60789.83   60809.19   63776.918  13862.576\n",
      " 60799.047  11031.338  13862.774  60805.535  11031.644  11031.212\n",
      " 11030.424  11031.075  13931.28   60753.258  11030.802  63770.348\n",
      " 60717.348  11028.677  63773.754  34884.266  60760.438  63774.49\n",
      " 13926.909  13033.072  11031.381  60708.832  63773.574  60807.69\n",
      " 63768.887  13028.263  11030.896  63774.297  60763.223  12744.414\n",
      " 34884.535  11032.106  63773.754  13141.067  14038.134  63770.77\n",
      " 11031.349  63777.89   63771.074  34880.64   63771.32   34883.6\n",
      " 60832.973  63772.9    63775.152  11030.749  60803.914  11031.717\n",
      " 63777.035  63773.51   63772.664  60775.97   11031.307  11031.222\n",
      " 11031.096  34881.305  34877.016  63772.29   11031.622  34880.875\n",
      " 11030.391  11363.8    60789.07   63771.75   63770.594  34888.39\n",
      " 34881.504  11030.949  13029.269  63773.45   60788.61   13031.828\n",
      " 63772.84   13520.119  60808.38   34880.543  11031.622 ]\n",
      "ls: [tensor([35153.], dtype=torch.float64), tensor([9951.], dtype=torch.float64), tensor([38815.], dtype=torch.float64), tensor([14175.], dtype=torch.float64), tensor([66821.], dtype=torch.float64), tensor([9951.], dtype=torch.float64), tensor([66821.], dtype=torch.float64), tensor([58513.], dtype=torch.float64), tensor([39421.], dtype=torch.float64), tensor([9951.], dtype=torch.float64), tensor([66821.], dtype=torch.float64), tensor([14187.], dtype=torch.float64), tensor([58512.], dtype=torch.float64), tensor([58512.], dtype=torch.float64), tensor([66822.], dtype=torch.float64), tensor([58512.], dtype=torch.float64), tensor([35343.], dtype=torch.float64), tensor([66823.], dtype=torch.float64), tensor([58512.], dtype=torch.float64), tensor([19798.], dtype=torch.float64), tensor([58512.], dtype=torch.float64), tensor([38590.], dtype=torch.float64), tensor([9951.], dtype=torch.float64), tensor([58513.], dtype=torch.float64), tensor([66821.], dtype=torch.float64), tensor([66821.], dtype=torch.float64), tensor([9951.], dtype=torch.float64), tensor([66821.], dtype=torch.float64), tensor([7639.], dtype=torch.float64), tensor([66821.], dtype=torch.float64), tensor([58512.], dtype=torch.float64), tensor([58512.], dtype=torch.float64), tensor([38825.], dtype=torch.float64), tensor([58512.], dtype=torch.float64), tensor([66821.], dtype=torch.float64), tensor([15913.], dtype=torch.float64), tensor([66821.], dtype=torch.float64), tensor([39267.], dtype=torch.float64), tensor([14175.], dtype=torch.float64), tensor([58512.], dtype=torch.float64), tensor([58513.], dtype=torch.float64), tensor([66824.], dtype=torch.float64), tensor([66821.], dtype=torch.float64), tensor([58512.], dtype=torch.float64), tensor([58512.], dtype=torch.float64), tensor([39130.], dtype=torch.float64), tensor([66821.], dtype=torch.float64), tensor([38957.], dtype=torch.float64), tensor([58512.], dtype=torch.float64), tensor([14175.], dtype=torch.float64), tensor([17508.], dtype=torch.float64), tensor([14175.], dtype=torch.float64), tensor([15711.], dtype=torch.float64), tensor([58512.], dtype=torch.float64), tensor([34609.], dtype=torch.float64), tensor([39097.], dtype=torch.float64), tensor([58512.], dtype=torch.float64), tensor([66824.], dtype=torch.float64), tensor([66821.], dtype=torch.float64), tensor([66822.], dtype=torch.float64), tensor([66821.], dtype=torch.float64), tensor([9951.], dtype=torch.float64), tensor([38861.], dtype=torch.float64), tensor([9951.], dtype=torch.float64), tensor([58512.], dtype=torch.float64), tensor([66823.], dtype=torch.float64), tensor([58518.], dtype=torch.float64), tensor([66821.], dtype=torch.float64), tensor([3876.], dtype=torch.float64), tensor([9951.], dtype=torch.float64), tensor([66821.], dtype=torch.float64), tensor([66821.], dtype=torch.float64), tensor([38465.], dtype=torch.float64), tensor([9951.], dtype=torch.float64), tensor([39229.], dtype=torch.float64), tensor([58512.], dtype=torch.float64), tensor([9951.], dtype=torch.float64), tensor([66821.], dtype=torch.float64), tensor([15711.], dtype=torch.float64), tensor([66837.], dtype=torch.float64), tensor([66821.], dtype=torch.float64), tensor([15711.], dtype=torch.float64), tensor([17455.], dtype=torch.float64), tensor([15711.], dtype=torch.float64), tensor([3876.], dtype=torch.float64), tensor([14176.], dtype=torch.float64), tensor([58514.], dtype=torch.float64), tensor([66821.], dtype=torch.float64), tensor([58513.], dtype=torch.float64), tensor([9951.], dtype=torch.float64), tensor([66821.], dtype=torch.float64), tensor([14175.], dtype=torch.float64), tensor([9951.], dtype=torch.float64), tensor([66824.], dtype=torch.float64), tensor([31180.], dtype=torch.float64), tensor([14175.], dtype=torch.float64), tensor([66821.], dtype=torch.float64), tensor([58512.], dtype=torch.float64), tensor([66844.], dtype=torch.float64), tensor([66821.], dtype=torch.float64), tensor([66827.], dtype=torch.float64), tensor([15711.], dtype=torch.float64), tensor([58512.], dtype=torch.float64), tensor([66821.], dtype=torch.float64), tensor([58512.], dtype=torch.float64), tensor([3876.], dtype=torch.float64), tensor([39220.], dtype=torch.float64), tensor([58512.], dtype=torch.float64), tensor([14197.], dtype=torch.float64), tensor([9951.], dtype=torch.float64), tensor([58512.], dtype=torch.float64), tensor([14175.], dtype=torch.float64), tensor([66822.], dtype=torch.float64), tensor([66821.], dtype=torch.float64), tensor([39087.], dtype=torch.float64), tensor([9951.], dtype=torch.float64), tensor([39511.], dtype=torch.float64), tensor([15711.], dtype=torch.float64), tensor([66821.], dtype=torch.float64), tensor([58512.], dtype=torch.float64), tensor([14175.], dtype=torch.float64), tensor([14176.], dtype=torch.float64), tensor([14175.], dtype=torch.float64), tensor([23183.], dtype=torch.float64), tensor([66821.], dtype=torch.float64), tensor([66821.], dtype=torch.float64), tensor([58512.], dtype=torch.float64), tensor([58512.], dtype=torch.float64), tensor([66834.], dtype=torch.float64), tensor([66821.], dtype=torch.float64), tensor([66821.], dtype=torch.float64), tensor([66821.], dtype=torch.float64), tensor([66821.], dtype=torch.float64), tensor([58512.], dtype=torch.float64), tensor([15945.], dtype=torch.float64), tensor([39097.], dtype=torch.float64), tensor([14178.], dtype=torch.float64), tensor([66823.], dtype=torch.float64), tensor([17416.], dtype=torch.float64), tensor([14211.], dtype=torch.float64), tensor([66821.], dtype=torch.float64), tensor([58512.], dtype=torch.float64), tensor([9951.], dtype=torch.float64), tensor([14181.], dtype=torch.float64), tensor([14180.], dtype=torch.float64), tensor([39157.], dtype=torch.float64), tensor([58512.], dtype=torch.float64), tensor([58512.], dtype=torch.float64), tensor([9951.], dtype=torch.float64), tensor([34333.], dtype=torch.float64), tensor([9951.], dtype=torch.float64), tensor([66821.], dtype=torch.float64), tensor([66821.], dtype=torch.float64), tensor([66823.], dtype=torch.float64), tensor([66822.], dtype=torch.float64), tensor([66821.], dtype=torch.float64), tensor([9951.], dtype=torch.float64), tensor([39439.], dtype=torch.float64), tensor([9951.], dtype=torch.float64), tensor([58512.], dtype=torch.float64), tensor([58512.], dtype=torch.float64), tensor([14185.], dtype=torch.float64), tensor([9951.], dtype=torch.float64), tensor([14190.], dtype=torch.float64), tensor([27726.], dtype=torch.float64), tensor([14175.], dtype=torch.float64), tensor([66825.], dtype=torch.float64), tensor([14175.], dtype=torch.float64), tensor([14175.], dtype=torch.float64), tensor([9951.], dtype=torch.float64), tensor([9951.], dtype=torch.float64), tensor([66821.], dtype=torch.float64), tensor([14175.], dtype=torch.float64), tensor([66821.], dtype=torch.float64), tensor([38230.], dtype=torch.float64), tensor([58512.], dtype=torch.float64), tensor([58554.], dtype=torch.float64), tensor([66821.], dtype=torch.float64), tensor([66821.], dtype=torch.float64), tensor([66821.], dtype=torch.float64), tensor([27816.], dtype=torch.float64), tensor([66821.], dtype=torch.float64), tensor([14175.], dtype=torch.float64), tensor([14177.], dtype=torch.float64), tensor([58513.], dtype=torch.float64), tensor([66825.], dtype=torch.float64), tensor([9951.], dtype=torch.float64), tensor([66821.], dtype=torch.float64), tensor([38979.], dtype=torch.float64), tensor([66821.], dtype=torch.float64), tensor([58512.], dtype=torch.float64), tensor([16033.], dtype=torch.float64), tensor([9951.], dtype=torch.float64), tensor([66822.], dtype=torch.float64), tensor([15711.], dtype=torch.float64), tensor([14176.], dtype=torch.float64), tensor([14175.], dtype=torch.float64), tensor([66821.], dtype=torch.float64), tensor([14184.], dtype=torch.float64), tensor([17417.], dtype=torch.float64), tensor([38953.], dtype=torch.float64), tensor([38850.], dtype=torch.float64), tensor([18834.], dtype=torch.float64), tensor([66824.], dtype=torch.float64), tensor([66821.], dtype=torch.float64), tensor([58512.], dtype=torch.float64), tensor([38995.], dtype=torch.float64), tensor([58512.], dtype=torch.float64), tensor([9951.], dtype=torch.float64), tensor([58512.], dtype=torch.float64), tensor([39133.], dtype=torch.float64), tensor([58512.], dtype=torch.float64), tensor([58512.], dtype=torch.float64), tensor([58512.], dtype=torch.float64), tensor([34955.], dtype=torch.float64), tensor([66821.], dtype=torch.float64), tensor([14175.], dtype=torch.float64), tensor([14175.], dtype=torch.float64), tensor([9951.], dtype=torch.float64), tensor([14175.], dtype=torch.float64), tensor([66821.], dtype=torch.float64), tensor([58513.], dtype=torch.float64), tensor([14176.], dtype=torch.float64), tensor([14175.], dtype=torch.float64), tensor([66822.], dtype=torch.float64), tensor([14176.], dtype=torch.float64), tensor([14175.], dtype=torch.float64), tensor([58512.], dtype=torch.float64), tensor([14175.], dtype=torch.float64), tensor([38633.], dtype=torch.float64), tensor([16020.], dtype=torch.float64), tensor([39159.], dtype=torch.float64), tensor([58512.], dtype=torch.float64), tensor([21227.], dtype=torch.float64), tensor([66821.], dtype=torch.float64), tensor([58512.], dtype=torch.float64), tensor([38936.], dtype=torch.float64), tensor([66917.], dtype=torch.float64), tensor([39033.], dtype=torch.float64), tensor([58520.], dtype=torch.float64), tensor([14176.], dtype=torch.float64), tensor([9951.], dtype=torch.float64), tensor([15711.], dtype=torch.float64), tensor([66821.], dtype=torch.float64), tensor([13320.], dtype=torch.float64), tensor([35160.], dtype=torch.float64), tensor([34116.], dtype=torch.float64), tensor([34116.], dtype=torch.float64), tensor([14187.], dtype=torch.float64), tensor([66821.], dtype=torch.float64), tensor([17844.], dtype=torch.float64), tensor([39105.], dtype=torch.float64), tensor([66821.], dtype=torch.float64), tensor([14175.], dtype=torch.float64), tensor([66821.], dtype=torch.float64), tensor([66821.], dtype=torch.float64), tensor([66821.], dtype=torch.float64), tensor([38953.], dtype=torch.float64), tensor([35253.], dtype=torch.float64), tensor([66824.], dtype=torch.float64), tensor([39049.], dtype=torch.float64), tensor([66821.], dtype=torch.float64), tensor([14175.], dtype=torch.float64), tensor([9951.], dtype=torch.float64), tensor([38922.], dtype=torch.float64), tensor([58512.], dtype=torch.float64), tensor([14175.], dtype=torch.float64), tensor([9951.], dtype=torch.float64), tensor([58512.], dtype=torch.float64), tensor([66821.], dtype=torch.float64), tensor([17416.], dtype=torch.float64), tensor([58512.], dtype=torch.float64), tensor([39141.], dtype=torch.float64), tensor([15711.], dtype=torch.float64), tensor([14181.], dtype=torch.float64), tensor([9951.], dtype=torch.float64), tensor([66821.], dtype=torch.float64), tensor([9951.], dtype=torch.float64), tensor([14211.], dtype=torch.float64), tensor([66821.], dtype=torch.float64), tensor([58512.], dtype=torch.float64), tensor([38483.], dtype=torch.float64), tensor([58512.], dtype=torch.float64), tensor([58512.], dtype=torch.float64), tensor([58512.], dtype=torch.float64), tensor([58512.], dtype=torch.float64), tensor([14200.], dtype=torch.float64), tensor([66821.], dtype=torch.float64), tensor([14177.], dtype=torch.float64), tensor([14197.], dtype=torch.float64), tensor([17246.], dtype=torch.float64), tensor([58512.], dtype=torch.float64), tensor([14175.], dtype=torch.float64), tensor([66821.], dtype=torch.float64), tensor([9951.], dtype=torch.float64), tensor([38898.], dtype=torch.float64), tensor([3876.], dtype=torch.float64), tensor([21733.], dtype=torch.float64), tensor([66821.], dtype=torch.float64), tensor([35178.], dtype=torch.float64), tensor([66861.], dtype=torch.float64), tensor([66825.], dtype=torch.float64), tensor([9951.], dtype=torch.float64), tensor([66821.], dtype=torch.float64), tensor([66821.], dtype=torch.float64), tensor([9951.], dtype=torch.float64), tensor([9951.], dtype=torch.float64), tensor([58512.], dtype=torch.float64), tensor([58512.], dtype=torch.float64), tensor([66822.], dtype=torch.float64), tensor([66821.], dtype=torch.float64), tensor([9951.], dtype=torch.float64), tensor([18834.], dtype=torch.float64), tensor([58512.], dtype=torch.float64), tensor([38543.], dtype=torch.float64), tensor([58515.], dtype=torch.float64), tensor([27726.], dtype=torch.float64), tensor([35045.], dtype=torch.float64), tensor([9951.], dtype=torch.float64), tensor([19520.], dtype=torch.float64), tensor([14175.], dtype=torch.float64), tensor([66821.], dtype=torch.float64), tensor([66821.], dtype=torch.float64), tensor([14178.], dtype=torch.float64), tensor([9951.], dtype=torch.float64), tensor([66821.], dtype=torch.float64), tensor([14175.], dtype=torch.float64), tensor([9951.], dtype=torch.float64), tensor([19798.], dtype=torch.float64), tensor([58512.], dtype=torch.float64), tensor([66823.], dtype=torch.float64), tensor([3876.], dtype=torch.float64), tensor([15712.], dtype=torch.float64), tensor([38393.], dtype=torch.float64), tensor([9951.], dtype=torch.float64), tensor([9951.], dtype=torch.float64), tensor([39310.], dtype=torch.float64), tensor([14175.], dtype=torch.float64), tensor([35343.], dtype=torch.float64), tensor([58512.], dtype=torch.float64), tensor([39058.], dtype=torch.float64), tensor([58512.], dtype=torch.float64), tensor([15716.], dtype=torch.float64), tensor([39403.], dtype=torch.float64), tensor([35025.], dtype=torch.float64), tensor([39013.], dtype=torch.float64), tensor([66822.], dtype=torch.float64), tensor([58516.], dtype=torch.float64), tensor([66821.], dtype=torch.float64), tensor([38535.], dtype=torch.float64), tensor([66821.], dtype=torch.float64), tensor([14047.], dtype=torch.float64), tensor([38212.], dtype=torch.float64), tensor([38321.], dtype=torch.float64), tensor([14176.], dtype=torch.float64), tensor([14178.], dtype=torch.float64), tensor([17416.], dtype=torch.float64), tensor([66821.], dtype=torch.float64), tensor([66821.], dtype=torch.float64), tensor([66821.], dtype=torch.float64), tensor([58512.], dtype=torch.float64), tensor([58512.], dtype=torch.float64), tensor([39066.], dtype=torch.float64), tensor([66821.], dtype=torch.float64), tensor([9951.], dtype=torch.float64), tensor([58512.], dtype=torch.float64), tensor([9951.], dtype=torch.float64), tensor([66821.], dtype=torch.float64), tensor([58512.], dtype=torch.float64), tensor([15711.], dtype=torch.float64), tensor([58512.], dtype=torch.float64), tensor([66821.], dtype=torch.float64), tensor([9951.], dtype=torch.float64), tensor([3876.], dtype=torch.float64), tensor([66822.], dtype=torch.float64), tensor([66827.], dtype=torch.float64), tensor([58512.], dtype=torch.float64), tensor([66826.], dtype=torch.float64), tensor([9951.], dtype=torch.float64), tensor([66821.], dtype=torch.float64), tensor([66821.], dtype=torch.float64), tensor([15712.], dtype=torch.float64), tensor([58512.], dtype=torch.float64), tensor([58512.], dtype=torch.float64), tensor([14199.], dtype=torch.float64), tensor([58513.], dtype=torch.float64), tensor([58512.], dtype=torch.float64), tensor([58512.], dtype=torch.float64), tensor([66821.], dtype=torch.float64), tensor([20556.], dtype=torch.float64), tensor([58519.], dtype=torch.float64), tensor([17416.], dtype=torch.float64), tensor([24812.], dtype=torch.float64), tensor([58512.], dtype=torch.float64), tensor([14179.], dtype=torch.float64), tensor([14175.], dtype=torch.float64), tensor([14175.], dtype=torch.float64), tensor([9951.], dtype=torch.float64), tensor([14175.], dtype=torch.float64), tensor([58512.], dtype=torch.float64), tensor([14175.], dtype=torch.float64), tensor([66821.], dtype=torch.float64), tensor([58512.], dtype=torch.float64), tensor([3876.], dtype=torch.float64), tensor([66821.], dtype=torch.float64), tensor([34584.], dtype=torch.float64), tensor([58512.], dtype=torch.float64), tensor([66821.], dtype=torch.float64), tensor([11274.], dtype=torch.float64), tensor([15711.], dtype=torch.float64), tensor([14175.], dtype=torch.float64), tensor([58512.], dtype=torch.float64), tensor([66825.], dtype=torch.float64), tensor([58512.], dtype=torch.float64), tensor([66821.], dtype=torch.float64), tensor([9951.], dtype=torch.float64), tensor([9951.], dtype=torch.float64), tensor([66823.], dtype=torch.float64), tensor([58512.], dtype=torch.float64), tensor([14178.], dtype=torch.float64), tensor([38879.], dtype=torch.float64), tensor([14175.], dtype=torch.float64), tensor([66821.], dtype=torch.float64), tensor([12552.], dtype=torch.float64), tensor([14162.], dtype=torch.float64), tensor([66822.], dtype=torch.float64), tensor([14200.], dtype=torch.float64), tensor([66823.], dtype=torch.float64), tensor([66821.], dtype=torch.float64), tensor([38879.], dtype=torch.float64), tensor([66824.], dtype=torch.float64), tensor([39049.], dtype=torch.float64), tensor([58512.], dtype=torch.float64), tensor([66821.], dtype=torch.float64), tensor([66821.], dtype=torch.float64), tensor([14176.], dtype=torch.float64), tensor([58512.], dtype=torch.float64), tensor([14179.], dtype=torch.float64), tensor([66821.], dtype=torch.float64), tensor([66821.], dtype=torch.float64), tensor([66821.], dtype=torch.float64), tensor([58512.], dtype=torch.float64), tensor([14176.], dtype=torch.float64), tensor([14175.], dtype=torch.float64), tensor([14182.], dtype=torch.float64), tensor([38446.], dtype=torch.float64), tensor([39030.], dtype=torch.float64), tensor([66821.], dtype=torch.float64), tensor([14175.], dtype=torch.float64), tensor([38590.], dtype=torch.float64), tensor([9951.], dtype=torch.float64), tensor([18834.], dtype=torch.float64), tensor([58512.], dtype=torch.float64), tensor([66821.], dtype=torch.float64), tensor([66849.], dtype=torch.float64), tensor([39173.], dtype=torch.float64), tensor([35097.], dtype=torch.float64), tensor([14047.], dtype=torch.float64), tensor([15711.], dtype=torch.float64), tensor([66821.], dtype=torch.float64), tensor([58512.], dtype=torch.float64), tensor([9951.], dtype=torch.float64), tensor([66821.], dtype=torch.float64), tensor([9951.], dtype=torch.float64), tensor([58512.], dtype=torch.float64), tensor([35271.], dtype=torch.float64), tensor([14178.], dtype=torch.float64)]\n",
      "len(ls): 467\n",
      "running epoch: 45\n"
     ]
    },
    {
     "name": "stdout",
     "output_type": "stream",
     "text": [
      "pred_output shape: torch.Size([64, 1])\n"
     ]
    },
    {
     "name": "stdout",
     "output_type": "stream",
     "text": [
      "pred_output shape: torch.Size([64, 1])\n"
     ]
    },
    {
     "name": "stdout",
     "output_type": "stream",
     "text": [
      "pred_output shape: torch.Size([64, 1])\n"
     ]
    },
    {
     "name": "stdout",
     "output_type": "stream",
     "text": [
      "pred_output shape: torch.Size([64, 1])\n"
     ]
    },
    {
     "name": "stdout",
     "output_type": "stream",
     "text": [
      "pred_output shape: torch.Size([64, 1])\n"
     ]
    },
    {
     "name": "stdout",
     "output_type": "stream",
     "text": [
      "pred_output shape: torch.Size([64, 1])\n"
     ]
    },
    {
     "name": "stdout",
     "output_type": "stream",
     "text": [
      "pred_output shape: torch.Size([64, 1])\n"
     ]
    },
    {
     "name": "stdout",
     "output_type": "stream",
     "text": [
      "pred_output shape: torch.Size([64, 1])\n"
     ]
    },
    {
     "name": "stdout",
     "output_type": "stream",
     "text": [
      "pred_output shape: torch.Size([64, 1])\n"
     ]
    },
    {
     "name": "stdout",
     "output_type": "stream",
     "text": [
      "pred_output shape: torch.Size([64, 1])\n"
     ]
    },
    {
     "name": "stdout",
     "output_type": "stream",
     "text": [
      "pred_output shape: torch.Size([64, 1])\n"
     ]
    },
    {
     "name": "stdout",
     "output_type": "stream",
     "text": [
      "pred_output shape: torch.Size([64, 1])\n"
     ]
    },
    {
     "name": "stdout",
     "output_type": "stream",
     "text": [
      "pred_output shape: torch.Size([64, 1])\n"
     ]
    },
    {
     "name": "stdout",
     "output_type": "stream",
     "text": [
      "pred_output shape: torch.Size([64, 1])\n"
     ]
    },
    {
     "name": "stdout",
     "output_type": "stream",
     "text": [
      "pred_output shape: torch.Size([64, 1])\n"
     ]
    },
    {
     "name": "stdout",
     "output_type": "stream",
     "text": [
      "pred_output shape: torch.Size([64, 1])\n"
     ]
    },
    {
     "name": "stdout",
     "output_type": "stream",
     "text": [
      "pred_output shape: torch.Size([64, 1])\n"
     ]
    },
    {
     "name": "stdout",
     "output_type": "stream",
     "text": [
      "pred_output shape: torch.Size([64, 1])\n"
     ]
    },
    {
     "name": "stdout",
     "output_type": "stream",
     "text": [
      "pred_output shape: torch.Size([64, 1])\n"
     ]
    },
    {
     "name": "stdout",
     "output_type": "stream",
     "text": [
      "pred_output shape: torch.Size([64, 1])\n"
     ]
    },
    {
     "name": "stdout",
     "output_type": "stream",
     "text": [
      "pred_output shape: torch.Size([64, 1])\n"
     ]
    },
    {
     "name": "stdout",
     "output_type": "stream",
     "text": [
      "pred_output shape: torch.Size([64, 1])\n"
     ]
    },
    {
     "name": "stdout",
     "output_type": "stream",
     "text": [
      "pred_output shape: torch.Size([64, 1])\n"
     ]
    },
    {
     "name": "stdout",
     "output_type": "stream",
     "text": [
      "pred_output shape: torch.Size([64, 1])\n"
     ]
    },
    {
     "name": "stdout",
     "output_type": "stream",
     "text": [
      "pred_output shape: torch.Size([64, 1])\n"
     ]
    },
    {
     "name": "stdout",
     "output_type": "stream",
     "text": [
      "pred_output shape: torch.Size([64, 1])\n"
     ]
    },
    {
     "name": "stdout",
     "output_type": "stream",
     "text": [
      "pred_output shape: torch.Size([64, 1])\n"
     ]
    },
    {
     "name": "stdout",
     "output_type": "stream",
     "text": [
      "pred_output shape: torch.Size([64, 1])\n"
     ]
    },
    {
     "name": "stdout",
     "output_type": "stream",
     "text": [
      "pred_output shape: torch.Size([64, 1])\n"
     ]
    },
    {
     "name": "stdout",
     "output_type": "stream",
     "text": [
      "pred_output shape: torch.Size([9, 1])\n"
     ]
    },
    {
     "name": "stdout",
     "output_type": "stream",
     "text": [
      "pred_output shape: torch.Size([64, 1])\n"
     ]
    },
    {
     "name": "stdout",
     "output_type": "stream",
     "text": [
      "pred_output shape: torch.Size([64, 1])\n"
     ]
    },
    {
     "name": "stdout",
     "output_type": "stream",
     "text": [
      "pred_output shape: torch.Size([64, 1])\n"
     ]
    },
    {
     "name": "stdout",
     "output_type": "stream",
     "text": [
      "pred_output shape: torch.Size([64, 1])\n"
     ]
    },
    {
     "name": "stdout",
     "output_type": "stream",
     "text": [
      "pred_output shape: torch.Size([64, 1])\n"
     ]
    },
    {
     "name": "stdout",
     "output_type": "stream",
     "text": [
      "pred_output shape: torch.Size([64, 1])\n"
     ]
    },
    {
     "name": "stdout",
     "output_type": "stream",
     "text": [
      "pred_output shape: torch.Size([64, 1])\n"
     ]
    },
    {
     "name": "stdout",
     "output_type": "stream",
     "text": [
      "pred_output shape: torch.Size([19, 1])\n",
      "ps: [35825.457  11315.46   35828.77   11125.1875 66954.51   12912.768\n",
      " 66950.74   66059.266  35824.6    11122.906  66948.125  11122.97\n",
      " 66060.22   66058.83   66949.66   66058.64   35825.215  66948.766\n",
      " 66058.13   22457.984  66058.516  35824.465  13055.04   66057.51\n",
      " 66949.28   66950.42   11123.373  66949.914  11311.402  66954.695\n",
      " 66060.65   66058.695  35823.164  66058.26   66947.805  22223.92\n",
      " 66954.26   35827.914  11123.224  66057.945  66060.91   66950.1\n",
      " 66946.914  66060.91   66058.45   35824.223  66953.875  35826.312\n",
      " 66057.     13116.014  11124.254  11122.747  12910.65   66060.02\n",
      " 35828.324  35824.53   66059.96   66951.89   66954.58   66952.85\n",
      " 66950.1    11124.231  35826.445  11124.254  66059.45   66949.28\n",
      " 66059.45   66953.875  11120.499  11123.203  66949.28   66951.06\n",
      " 35824.33   11122.535  35829.285  66060.086  11122.567  66954.83\n",
      " 12907.363  66949.15   66950.94   12910.083  11124.656  12913.963\n",
      " 11121.411  13116.753  66059.58   66948.95   66060.53   11123.924\n",
      " 66953.875  11123.49   11123.299  66950.04   22455.178  11121.612\n",
      " 66950.68   66060.78   66950.68   66948.766  66948.58   12910.452\n",
      " 66061.47   66948.89   66059.45   11119.491  35825.727  66057.375\n",
      " 11124.71   11124.477  66059.96   11123.214  66950.3    66950.42\n",
      " 35826.312  11124.509  35822.79   12913.125  66949.79   66060.65\n",
      " 11124.157  11124.37   11123.903  22455.285  66950.555  66951.445\n",
      " 66060.15   66058.58   66949.4    66949.28   66949.79   66951.95\n",
      " 66953.37   66061.6    13118.428  35825.492  11124.435  66952.28\n",
      " 11124.402  11122.683  66949.086  66058.195  11123.851  11123.627\n",
      " 13116.401  35828.94   66059.2    66060.65   11124.222  35824.566\n",
      " 11125.526  66951.64   66947.805  66949.53   66952.086  66947.555\n",
      " 11124.646  35825.043  12912.928  66057.88   66058.766  11123.427\n",
      " 11122.514  11124.89   22566.06   11123.045  66948.766  11123.098\n",
      " 11123.574  11123.681  11123.469  66951.64   13115.802  66951.51\n",
      " 35824.74   66058.07   66058.32   66953.1    66951.25   66950.94\n",
      " 22457.707  66950.164  11121.824  11123.4795 66057.56   66953.68\n",
      " 11122.79   66949.85   35823.477  66950.74   66058.195  13272.305\n",
      " 11125.972  66950.42   12909.309  11125.452  11123.416  66949.59\n",
      " 11124.413  11123.086  35825.695  35825.316  11313.766  66951.19\n",
      " 66951.06   66057.19   35828.94   66059.96   11125.738  66061.22\n",
      " 35830.03   66060.84   66059.45   66060.65   35824.805  66948.51\n",
      " 11124.519  11124.562  11124.636  13116.114  66950.74   66059.836\n",
      " 11125.441  11132.5    66948.7    11123.013  11124.435  66060.4\n",
      " 11123.787  35826.48   13273.165  35824.125  66058.07   22457.148\n",
      " 66952.98   66056.555  35824.465  66949.28   35824.6    66057.945\n",
      " 11122.472  11123.872  12914.395  66949.28   11123.66   35825.18\n",
      " 35826.547  35823.68   13116.377  66953.875  14986.532  35824.156\n",
      " 66951.445  11122.514  66947.484  66950.805  66949.086  35824.91\n",
      " 35824.02   66952.73   35829.555  66951.89   11122.938  11124.381\n",
      " 35824.125  66059.016  11123.203  12907.795  66059.89   66952.73\n",
      " 11123.521  66059.836  35828.09   12908.2    11125.962  11122.619\n",
      " 66950.42   12909.087  11122.747  66949.086  66060.4    35823.066\n",
      " 66059.96   66057.44   66057.82   66058.83   11123.065  66952.336\n",
      " 11124.444  11123.383  15515.905  66056.37   11122.683  66949.086\n",
      " 11123.882  35827.914  11120.425  11123.511  66952.53   35824.09\n",
      " 66948.51   66958.47   11122.631  66952.15   66954.38   11123.882\n",
      " 11124.688  66056.555  66058.195  66951.89   66948.95   11122.652\n",
      " 11314.553  66057.56   35827.473  66057.44   22460.963  35825.934\n",
      " 11123.108  13056.024  11125.336  66950.68   66953.164  11122.535\n",
      " 11125.2295 66951.     11124.189  11121.421  22456.678  66057.375\n",
      " 66950.94   12904.237  12905.849  35828.254  11123.798  11124.147\n",
      " 35823.066  11124.011  35822.074  66057.44   35823.54   66062.984\n",
      " 12909.862  35824.633  35829.555  35829.285  66949.016  66060.27\n",
      " 66951.19   35818.348  66951.51   11122.927  35827.914  35823.812\n",
      " 11122.96   11122.736  11123.67   66950.805  66953.555  66950.3\n",
      " 66058.64   66061.98   35824.156  66952.4    11122.588  66060.4\n",
      " 11123.055  66953.74   66057.82   12915.366  66061.73   66954.26\n",
      " 11122.727  11120.393  66955.15   66949.15   66059.516  66951.19\n",
      " 11124.465  66947.74   66951.51   12907.302  66060.27   66058.95\n",
      " 11122.662  66057.19   66059.266  66057.51   66954.38   22453.314\n",
      " 66058.766  11124.552  22457.277  66056.875  11124.816  11123.734\n",
      " 11122.514  11123.437  17542.414  66058.13   11122.949  66951.7\n",
      " 66056.625  11120.732  66956.04   35827.23   66060.4    66950.1\n",
      " 17523.92   12910.502  11123.521  66059.96   66949.53   66060.02\n",
      " 66949.79   12908.2    11123.288  66955.73   66060.71   13116.214\n",
      " 35826.312  11125.177  66955.6    13273.33   14278.7705 66951.125\n",
      " 11123.872  66951.19   66949.53   35824.91   66948.82   35824.875\n",
      " 66057.06   66951.19   66952.086  11123.341  66060.02   11125.113\n",
      " 66954.26   66950.94   66947.94   66059.836  11123.383  11123.341\n",
      " 11122.991  35826.     35824.19   66954.     11125.2295 35824.977\n",
      " 11122.493  11315.071  66056.43   66948.25   66948.64   35830.17\n",
      " 35826.105  11123.299  12909.53   66952.46   66058.13   12911.733\n",
      " 66949.66   13057.456  66061.16   35822.45   11124.37  ]\n",
      "ls: [tensor([35153.], dtype=torch.float64), tensor([9951.], dtype=torch.float64), tensor([38815.], dtype=torch.float64), tensor([14175.], dtype=torch.float64), tensor([66821.], dtype=torch.float64), tensor([9951.], dtype=torch.float64), tensor([66821.], dtype=torch.float64), tensor([58513.], dtype=torch.float64), tensor([39421.], dtype=torch.float64), tensor([9951.], dtype=torch.float64), tensor([66821.], dtype=torch.float64), tensor([14187.], dtype=torch.float64), tensor([58512.], dtype=torch.float64), tensor([58512.], dtype=torch.float64), tensor([66822.], dtype=torch.float64), tensor([58512.], dtype=torch.float64), tensor([35343.], dtype=torch.float64), tensor([66823.], dtype=torch.float64), tensor([58512.], dtype=torch.float64), tensor([19798.], dtype=torch.float64), tensor([58512.], dtype=torch.float64), tensor([38590.], dtype=torch.float64), tensor([9951.], dtype=torch.float64), tensor([58513.], dtype=torch.float64), tensor([66821.], dtype=torch.float64), tensor([66821.], dtype=torch.float64), tensor([9951.], dtype=torch.float64), tensor([66821.], dtype=torch.float64), tensor([7639.], dtype=torch.float64), tensor([66821.], dtype=torch.float64), tensor([58512.], dtype=torch.float64), tensor([58512.], dtype=torch.float64), tensor([38825.], dtype=torch.float64), tensor([58512.], dtype=torch.float64), tensor([66821.], dtype=torch.float64), tensor([15913.], dtype=torch.float64), tensor([66821.], dtype=torch.float64), tensor([39267.], dtype=torch.float64), tensor([14175.], dtype=torch.float64), tensor([58512.], dtype=torch.float64), tensor([58513.], dtype=torch.float64), tensor([66824.], dtype=torch.float64), tensor([66821.], dtype=torch.float64), tensor([58512.], dtype=torch.float64), tensor([58512.], dtype=torch.float64), tensor([39130.], dtype=torch.float64), tensor([66821.], dtype=torch.float64), tensor([38957.], dtype=torch.float64), tensor([58512.], dtype=torch.float64), tensor([14175.], dtype=torch.float64), tensor([17508.], dtype=torch.float64), tensor([14175.], dtype=torch.float64), tensor([15711.], dtype=torch.float64), tensor([58512.], dtype=torch.float64), tensor([34609.], dtype=torch.float64), tensor([39097.], dtype=torch.float64), tensor([58512.], dtype=torch.float64), tensor([66824.], dtype=torch.float64), tensor([66821.], dtype=torch.float64), tensor([66822.], dtype=torch.float64), tensor([66821.], dtype=torch.float64), tensor([9951.], dtype=torch.float64), tensor([38861.], dtype=torch.float64), tensor([9951.], dtype=torch.float64), tensor([58512.], dtype=torch.float64), tensor([66823.], dtype=torch.float64), tensor([58518.], dtype=torch.float64), tensor([66821.], dtype=torch.float64), tensor([3876.], dtype=torch.float64), tensor([9951.], dtype=torch.float64), tensor([66821.], dtype=torch.float64), tensor([66821.], dtype=torch.float64), tensor([38465.], dtype=torch.float64), tensor([9951.], dtype=torch.float64), tensor([39229.], dtype=torch.float64), tensor([58512.], dtype=torch.float64), tensor([9951.], dtype=torch.float64), tensor([66821.], dtype=torch.float64), tensor([15711.], dtype=torch.float64), tensor([66837.], dtype=torch.float64), tensor([66821.], dtype=torch.float64), tensor([15711.], dtype=torch.float64), tensor([17455.], dtype=torch.float64), tensor([15711.], dtype=torch.float64), tensor([3876.], dtype=torch.float64), tensor([14176.], dtype=torch.float64), tensor([58514.], dtype=torch.float64), tensor([66821.], dtype=torch.float64), tensor([58513.], dtype=torch.float64), tensor([9951.], dtype=torch.float64), tensor([66821.], dtype=torch.float64), tensor([14175.], dtype=torch.float64), tensor([9951.], dtype=torch.float64), tensor([66824.], dtype=torch.float64), tensor([31180.], dtype=torch.float64), tensor([14175.], dtype=torch.float64), tensor([66821.], dtype=torch.float64), tensor([58512.], dtype=torch.float64), tensor([66844.], dtype=torch.float64), tensor([66821.], dtype=torch.float64), tensor([66827.], dtype=torch.float64), tensor([15711.], dtype=torch.float64), tensor([58512.], dtype=torch.float64), tensor([66821.], dtype=torch.float64), tensor([58512.], dtype=torch.float64), tensor([3876.], dtype=torch.float64), tensor([39220.], dtype=torch.float64), tensor([58512.], dtype=torch.float64), tensor([14197.], dtype=torch.float64), tensor([9951.], dtype=torch.float64), tensor([58512.], dtype=torch.float64), tensor([14175.], dtype=torch.float64), tensor([66822.], dtype=torch.float64), tensor([66821.], dtype=torch.float64), tensor([39087.], dtype=torch.float64), tensor([9951.], dtype=torch.float64), tensor([39511.], dtype=torch.float64), tensor([15711.], dtype=torch.float64), tensor([66821.], dtype=torch.float64), tensor([58512.], dtype=torch.float64), tensor([14175.], dtype=torch.float64), tensor([14176.], dtype=torch.float64), tensor([14175.], dtype=torch.float64), tensor([23183.], dtype=torch.float64), tensor([66821.], dtype=torch.float64), tensor([66821.], dtype=torch.float64), tensor([58512.], dtype=torch.float64), tensor([58512.], dtype=torch.float64), tensor([66834.], dtype=torch.float64), tensor([66821.], dtype=torch.float64), tensor([66821.], dtype=torch.float64), tensor([66821.], dtype=torch.float64), tensor([66821.], dtype=torch.float64), tensor([58512.], dtype=torch.float64), tensor([15945.], dtype=torch.float64), tensor([39097.], dtype=torch.float64), tensor([14178.], dtype=torch.float64), tensor([66823.], dtype=torch.float64), tensor([17416.], dtype=torch.float64), tensor([14211.], dtype=torch.float64), tensor([66821.], dtype=torch.float64), tensor([58512.], dtype=torch.float64), tensor([9951.], dtype=torch.float64), tensor([14181.], dtype=torch.float64), tensor([14180.], dtype=torch.float64), tensor([39157.], dtype=torch.float64), tensor([58512.], dtype=torch.float64), tensor([58512.], dtype=torch.float64), tensor([9951.], dtype=torch.float64), tensor([34333.], dtype=torch.float64), tensor([9951.], dtype=torch.float64), tensor([66821.], dtype=torch.float64), tensor([66821.], dtype=torch.float64), tensor([66823.], dtype=torch.float64), tensor([66822.], dtype=torch.float64), tensor([66821.], dtype=torch.float64), tensor([9951.], dtype=torch.float64), tensor([39439.], dtype=torch.float64), tensor([9951.], dtype=torch.float64), tensor([58512.], dtype=torch.float64), tensor([58512.], dtype=torch.float64), tensor([14185.], dtype=torch.float64), tensor([9951.], dtype=torch.float64), tensor([14190.], dtype=torch.float64), tensor([27726.], dtype=torch.float64), tensor([14175.], dtype=torch.float64), tensor([66825.], dtype=torch.float64), tensor([14175.], dtype=torch.float64), tensor([14175.], dtype=torch.float64), tensor([9951.], dtype=torch.float64), tensor([9951.], dtype=torch.float64), tensor([66821.], dtype=torch.float64), tensor([14175.], dtype=torch.float64), tensor([66821.], dtype=torch.float64), tensor([38230.], dtype=torch.float64), tensor([58512.], dtype=torch.float64), tensor([58554.], dtype=torch.float64), tensor([66821.], dtype=torch.float64), tensor([66821.], dtype=torch.float64), tensor([66821.], dtype=torch.float64), tensor([27816.], dtype=torch.float64), tensor([66821.], dtype=torch.float64), tensor([14175.], dtype=torch.float64), tensor([14177.], dtype=torch.float64), tensor([58513.], dtype=torch.float64), tensor([66825.], dtype=torch.float64), tensor([9951.], dtype=torch.float64), tensor([66821.], dtype=torch.float64), tensor([38979.], dtype=torch.float64), tensor([66821.], dtype=torch.float64), tensor([58512.], dtype=torch.float64), tensor([16033.], dtype=torch.float64), tensor([9951.], dtype=torch.float64), tensor([66822.], dtype=torch.float64), tensor([15711.], dtype=torch.float64), tensor([14176.], dtype=torch.float64), tensor([14175.], dtype=torch.float64), tensor([66821.], dtype=torch.float64), tensor([14184.], dtype=torch.float64), tensor([17417.], dtype=torch.float64), tensor([38953.], dtype=torch.float64), tensor([38850.], dtype=torch.float64), tensor([18834.], dtype=torch.float64), tensor([66824.], dtype=torch.float64), tensor([66821.], dtype=torch.float64), tensor([58512.], dtype=torch.float64), tensor([38995.], dtype=torch.float64), tensor([58512.], dtype=torch.float64), tensor([9951.], dtype=torch.float64), tensor([58512.], dtype=torch.float64), tensor([39133.], dtype=torch.float64), tensor([58512.], dtype=torch.float64), tensor([58512.], dtype=torch.float64), tensor([58512.], dtype=torch.float64), tensor([34955.], dtype=torch.float64), tensor([66821.], dtype=torch.float64), tensor([14175.], dtype=torch.float64), tensor([14175.], dtype=torch.float64), tensor([9951.], dtype=torch.float64), tensor([14175.], dtype=torch.float64), tensor([66821.], dtype=torch.float64), tensor([58513.], dtype=torch.float64), tensor([14176.], dtype=torch.float64), tensor([14175.], dtype=torch.float64), tensor([66822.], dtype=torch.float64), tensor([14176.], dtype=torch.float64), tensor([14175.], dtype=torch.float64), tensor([58512.], dtype=torch.float64), tensor([14175.], dtype=torch.float64), tensor([38633.], dtype=torch.float64), tensor([16020.], dtype=torch.float64), tensor([39159.], dtype=torch.float64), tensor([58512.], dtype=torch.float64), tensor([21227.], dtype=torch.float64), tensor([66821.], dtype=torch.float64), tensor([58512.], dtype=torch.float64), tensor([38936.], dtype=torch.float64), tensor([66917.], dtype=torch.float64), tensor([39033.], dtype=torch.float64), tensor([58520.], dtype=torch.float64), tensor([14176.], dtype=torch.float64), tensor([9951.], dtype=torch.float64), tensor([15711.], dtype=torch.float64), tensor([66821.], dtype=torch.float64), tensor([13320.], dtype=torch.float64), tensor([35160.], dtype=torch.float64), tensor([34116.], dtype=torch.float64), tensor([34116.], dtype=torch.float64), tensor([14187.], dtype=torch.float64), tensor([66821.], dtype=torch.float64), tensor([17844.], dtype=torch.float64), tensor([39105.], dtype=torch.float64), tensor([66821.], dtype=torch.float64), tensor([14175.], dtype=torch.float64), tensor([66821.], dtype=torch.float64), tensor([66821.], dtype=torch.float64), tensor([66821.], dtype=torch.float64), tensor([38953.], dtype=torch.float64), tensor([35253.], dtype=torch.float64), tensor([66824.], dtype=torch.float64), tensor([39049.], dtype=torch.float64), tensor([66821.], dtype=torch.float64), tensor([14175.], dtype=torch.float64), tensor([9951.], dtype=torch.float64), tensor([38922.], dtype=torch.float64), tensor([58512.], dtype=torch.float64), tensor([14175.], dtype=torch.float64), tensor([9951.], dtype=torch.float64), tensor([58512.], dtype=torch.float64), tensor([66821.], dtype=torch.float64), tensor([17416.], dtype=torch.float64), tensor([58512.], dtype=torch.float64), tensor([39141.], dtype=torch.float64), tensor([15711.], dtype=torch.float64), tensor([14181.], dtype=torch.float64), tensor([9951.], dtype=torch.float64), tensor([66821.], dtype=torch.float64), tensor([9951.], dtype=torch.float64), tensor([14211.], dtype=torch.float64), tensor([66821.], dtype=torch.float64), tensor([58512.], dtype=torch.float64), tensor([38483.], dtype=torch.float64), tensor([58512.], dtype=torch.float64), tensor([58512.], dtype=torch.float64), tensor([58512.], dtype=torch.float64), tensor([58512.], dtype=torch.float64), tensor([14200.], dtype=torch.float64), tensor([66821.], dtype=torch.float64), tensor([14177.], dtype=torch.float64), tensor([14197.], dtype=torch.float64), tensor([17246.], dtype=torch.float64), tensor([58512.], dtype=torch.float64), tensor([14175.], dtype=torch.float64), tensor([66821.], dtype=torch.float64), tensor([9951.], dtype=torch.float64), tensor([38898.], dtype=torch.float64), tensor([3876.], dtype=torch.float64), tensor([21733.], dtype=torch.float64), tensor([66821.], dtype=torch.float64), tensor([35178.], dtype=torch.float64), tensor([66861.], dtype=torch.float64), tensor([66825.], dtype=torch.float64), tensor([9951.], dtype=torch.float64), tensor([66821.], dtype=torch.float64), tensor([66821.], dtype=torch.float64), tensor([9951.], dtype=torch.float64), tensor([9951.], dtype=torch.float64), tensor([58512.], dtype=torch.float64), tensor([58512.], dtype=torch.float64), tensor([66822.], dtype=torch.float64), tensor([66821.], dtype=torch.float64), tensor([9951.], dtype=torch.float64), tensor([18834.], dtype=torch.float64), tensor([58512.], dtype=torch.float64), tensor([38543.], dtype=torch.float64), tensor([58515.], dtype=torch.float64), tensor([27726.], dtype=torch.float64), tensor([35045.], dtype=torch.float64), tensor([9951.], dtype=torch.float64), tensor([19520.], dtype=torch.float64), tensor([14175.], dtype=torch.float64), tensor([66821.], dtype=torch.float64), tensor([66821.], dtype=torch.float64), tensor([14178.], dtype=torch.float64), tensor([9951.], dtype=torch.float64), tensor([66821.], dtype=torch.float64), tensor([14175.], dtype=torch.float64), tensor([9951.], dtype=torch.float64), tensor([19798.], dtype=torch.float64), tensor([58512.], dtype=torch.float64), tensor([66823.], dtype=torch.float64), tensor([3876.], dtype=torch.float64), tensor([15712.], dtype=torch.float64), tensor([38393.], dtype=torch.float64), tensor([9951.], dtype=torch.float64), tensor([9951.], dtype=torch.float64), tensor([39310.], dtype=torch.float64), tensor([14175.], dtype=torch.float64), tensor([35343.], dtype=torch.float64), tensor([58512.], dtype=torch.float64), tensor([39058.], dtype=torch.float64), tensor([58512.], dtype=torch.float64), tensor([15716.], dtype=torch.float64), tensor([39403.], dtype=torch.float64), tensor([35025.], dtype=torch.float64), tensor([39013.], dtype=torch.float64), tensor([66822.], dtype=torch.float64), tensor([58516.], dtype=torch.float64), tensor([66821.], dtype=torch.float64), tensor([38535.], dtype=torch.float64), tensor([66821.], dtype=torch.float64), tensor([14047.], dtype=torch.float64), tensor([38212.], dtype=torch.float64), tensor([38321.], dtype=torch.float64), tensor([14176.], dtype=torch.float64), tensor([14178.], dtype=torch.float64), tensor([17416.], dtype=torch.float64), tensor([66821.], dtype=torch.float64), tensor([66821.], dtype=torch.float64), tensor([66821.], dtype=torch.float64), tensor([58512.], dtype=torch.float64), tensor([58512.], dtype=torch.float64), tensor([39066.], dtype=torch.float64), tensor([66821.], dtype=torch.float64), tensor([9951.], dtype=torch.float64), tensor([58512.], dtype=torch.float64), tensor([9951.], dtype=torch.float64), tensor([66821.], dtype=torch.float64), tensor([58512.], dtype=torch.float64), tensor([15711.], dtype=torch.float64), tensor([58512.], dtype=torch.float64), tensor([66821.], dtype=torch.float64), tensor([9951.], dtype=torch.float64), tensor([3876.], dtype=torch.float64), tensor([66822.], dtype=torch.float64), tensor([66827.], dtype=torch.float64), tensor([58512.], dtype=torch.float64), tensor([66826.], dtype=torch.float64), tensor([9951.], dtype=torch.float64), tensor([66821.], dtype=torch.float64), tensor([66821.], dtype=torch.float64), tensor([15712.], dtype=torch.float64), tensor([58512.], dtype=torch.float64), tensor([58512.], dtype=torch.float64), tensor([14199.], dtype=torch.float64), tensor([58513.], dtype=torch.float64), tensor([58512.], dtype=torch.float64), tensor([58512.], dtype=torch.float64), tensor([66821.], dtype=torch.float64), tensor([20556.], dtype=torch.float64), tensor([58519.], dtype=torch.float64), tensor([17416.], dtype=torch.float64), tensor([24812.], dtype=torch.float64), tensor([58512.], dtype=torch.float64), tensor([14179.], dtype=torch.float64), tensor([14175.], dtype=torch.float64), tensor([14175.], dtype=torch.float64), tensor([9951.], dtype=torch.float64), tensor([14175.], dtype=torch.float64), tensor([58512.], dtype=torch.float64), tensor([14175.], dtype=torch.float64), tensor([66821.], dtype=torch.float64), tensor([58512.], dtype=torch.float64), tensor([3876.], dtype=torch.float64), tensor([66821.], dtype=torch.float64), tensor([34584.], dtype=torch.float64), tensor([58512.], dtype=torch.float64), tensor([66821.], dtype=torch.float64), tensor([11274.], dtype=torch.float64), tensor([15711.], dtype=torch.float64), tensor([14175.], dtype=torch.float64), tensor([58512.], dtype=torch.float64), tensor([66825.], dtype=torch.float64), tensor([58512.], dtype=torch.float64), tensor([66821.], dtype=torch.float64), tensor([9951.], dtype=torch.float64), tensor([9951.], dtype=torch.float64), tensor([66823.], dtype=torch.float64), tensor([58512.], dtype=torch.float64), tensor([14178.], dtype=torch.float64), tensor([38879.], dtype=torch.float64), tensor([14175.], dtype=torch.float64), tensor([66821.], dtype=torch.float64), tensor([12552.], dtype=torch.float64), tensor([14162.], dtype=torch.float64), tensor([66822.], dtype=torch.float64), tensor([14200.], dtype=torch.float64), tensor([66823.], dtype=torch.float64), tensor([66821.], dtype=torch.float64), tensor([38879.], dtype=torch.float64), tensor([66824.], dtype=torch.float64), tensor([39049.], dtype=torch.float64), tensor([58512.], dtype=torch.float64), tensor([66821.], dtype=torch.float64), tensor([66821.], dtype=torch.float64), tensor([14176.], dtype=torch.float64), tensor([58512.], dtype=torch.float64), tensor([14179.], dtype=torch.float64), tensor([66821.], dtype=torch.float64), tensor([66821.], dtype=torch.float64), tensor([66821.], dtype=torch.float64), tensor([58512.], dtype=torch.float64), tensor([14176.], dtype=torch.float64), tensor([14175.], dtype=torch.float64), tensor([14182.], dtype=torch.float64), tensor([38446.], dtype=torch.float64), tensor([39030.], dtype=torch.float64), tensor([66821.], dtype=torch.float64), tensor([14175.], dtype=torch.float64), tensor([38590.], dtype=torch.float64), tensor([9951.], dtype=torch.float64), tensor([18834.], dtype=torch.float64), tensor([58512.], dtype=torch.float64), tensor([66821.], dtype=torch.float64), tensor([66849.], dtype=torch.float64), tensor([39173.], dtype=torch.float64), tensor([35097.], dtype=torch.float64), tensor([14047.], dtype=torch.float64), tensor([15711.], dtype=torch.float64), tensor([66821.], dtype=torch.float64), tensor([58512.], dtype=torch.float64), tensor([9951.], dtype=torch.float64), tensor([66821.], dtype=torch.float64), tensor([9951.], dtype=torch.float64), tensor([58512.], dtype=torch.float64), tensor([35271.], dtype=torch.float64), tensor([14178.], dtype=torch.float64)]\n",
      "len(ls): 467\n",
      "running epoch: 46\n"
     ]
    },
    {
     "name": "stdout",
     "output_type": "stream",
     "text": [
      "pred_output shape: torch.Size([64, 1])\n"
     ]
    },
    {
     "name": "stdout",
     "output_type": "stream",
     "text": [
      "pred_output shape: torch.Size([64, 1])\n"
     ]
    },
    {
     "name": "stdout",
     "output_type": "stream",
     "text": [
      "pred_output shape: torch.Size([64, 1])\n"
     ]
    },
    {
     "name": "stdout",
     "output_type": "stream",
     "text": [
      "pred_output shape: torch.Size([64, 1])\n"
     ]
    },
    {
     "name": "stdout",
     "output_type": "stream",
     "text": [
      "pred_output shape: torch.Size([64, 1])\n"
     ]
    },
    {
     "name": "stdout",
     "output_type": "stream",
     "text": [
      "pred_output shape: torch.Size([64, 1])\n"
     ]
    },
    {
     "name": "stdout",
     "output_type": "stream",
     "text": [
      "pred_output shape: torch.Size([64, 1])\n"
     ]
    },
    {
     "name": "stdout",
     "output_type": "stream",
     "text": [
      "pred_output shape: torch.Size([64, 1])\n"
     ]
    },
    {
     "name": "stdout",
     "output_type": "stream",
     "text": [
      "pred_output shape: torch.Size([64, 1])\n"
     ]
    },
    {
     "name": "stdout",
     "output_type": "stream",
     "text": [
      "pred_output shape: torch.Size([64, 1])\n"
     ]
    },
    {
     "name": "stdout",
     "output_type": "stream",
     "text": [
      "pred_output shape: torch.Size([64, 1])\n"
     ]
    },
    {
     "name": "stdout",
     "output_type": "stream",
     "text": [
      "pred_output shape: torch.Size([64, 1])\n"
     ]
    },
    {
     "name": "stdout",
     "output_type": "stream",
     "text": [
      "pred_output shape: torch.Size([64, 1])\n"
     ]
    },
    {
     "name": "stdout",
     "output_type": "stream",
     "text": [
      "pred_output shape: torch.Size([64, 1])\n"
     ]
    },
    {
     "name": "stdout",
     "output_type": "stream",
     "text": [
      "pred_output shape: torch.Size([64, 1])\n"
     ]
    },
    {
     "name": "stdout",
     "output_type": "stream",
     "text": [
      "pred_output shape: torch.Size([64, 1])\n"
     ]
    },
    {
     "name": "stdout",
     "output_type": "stream",
     "text": [
      "pred_output shape: torch.Size([64, 1])\n"
     ]
    },
    {
     "name": "stdout",
     "output_type": "stream",
     "text": [
      "pred_output shape: torch.Size([64, 1])\n"
     ]
    },
    {
     "name": "stdout",
     "output_type": "stream",
     "text": [
      "pred_output shape: torch.Size([64, 1])\n"
     ]
    },
    {
     "name": "stdout",
     "output_type": "stream",
     "text": [
      "pred_output shape: torch.Size([64, 1])\n"
     ]
    },
    {
     "name": "stdout",
     "output_type": "stream",
     "text": [
      "pred_output shape: torch.Size([64, 1])\n"
     ]
    },
    {
     "name": "stdout",
     "output_type": "stream",
     "text": [
      "pred_output shape: torch.Size([64, 1])\n"
     ]
    },
    {
     "name": "stdout",
     "output_type": "stream",
     "text": [
      "pred_output shape: torch.Size([64, 1])\n"
     ]
    },
    {
     "name": "stdout",
     "output_type": "stream",
     "text": [
      "pred_output shape: torch.Size([64, 1])\n"
     ]
    },
    {
     "name": "stdout",
     "output_type": "stream",
     "text": [
      "pred_output shape: torch.Size([64, 1])\n"
     ]
    },
    {
     "name": "stdout",
     "output_type": "stream",
     "text": [
      "pred_output shape: torch.Size([64, 1])\n"
     ]
    },
    {
     "name": "stdout",
     "output_type": "stream",
     "text": [
      "pred_output shape: torch.Size([64, 1])\n"
     ]
    },
    {
     "name": "stdout",
     "output_type": "stream",
     "text": [
      "pred_output shape: torch.Size([64, 1])\n"
     ]
    },
    {
     "name": "stdout",
     "output_type": "stream",
     "text": [
      "pred_output shape: torch.Size([64, 1])\n"
     ]
    },
    {
     "name": "stdout",
     "output_type": "stream",
     "text": [
      "pred_output shape: torch.Size([9, 1])\n"
     ]
    },
    {
     "name": "stdout",
     "output_type": "stream",
     "text": [
      "pred_output shape: torch.Size([64, 1])\n"
     ]
    },
    {
     "name": "stdout",
     "output_type": "stream",
     "text": [
      "pred_output shape: torch.Size([64, 1])\n"
     ]
    },
    {
     "name": "stdout",
     "output_type": "stream",
     "text": [
      "pred_output shape: torch.Size([64, 1])\n"
     ]
    },
    {
     "name": "stdout",
     "output_type": "stream",
     "text": [
      "pred_output shape: torch.Size([64, 1])\n"
     ]
    },
    {
     "name": "stdout",
     "output_type": "stream",
     "text": [
      "pred_output shape: torch.Size([64, 1])\n"
     ]
    },
    {
     "name": "stdout",
     "output_type": "stream",
     "text": [
      "pred_output shape: torch.Size([64, 1])\n"
     ]
    },
    {
     "name": "stdout",
     "output_type": "stream",
     "text": [
      "pred_output shape: torch.Size([64, 1])\n"
     ]
    },
    {
     "name": "stdout",
     "output_type": "stream",
     "text": [
      "pred_output shape: torch.Size([19, 1])\n",
      "ps: [41637.992  12412.546  41633.113  12353.464  66927.89   12406.652\n",
      " 66927.7    65590.47   41635.45   12351.392  66929.03   12351.474\n",
      " 65592.16   65593.836  66928.59   65591.9    41633.984  66928.72\n",
      " 65591.84   22970.398  65593.336  41643.355  12459.833  65586.64\n",
      " 66928.66   66928.59   12352.109  66928.85   12409.528  66927.83\n",
      " 65590.27   65593.52   41646.215  65593.02   66929.36   18243.799\n",
      " 66926.734  41632.04   12351.508  65591.53   65592.72   66928.85\n",
      " 66929.164  65593.65   65589.15   41639.504  66927.57   41628.383\n",
      " 65590.02   12666.503  12352.392  12351.273  12405.766  65591.78\n",
      " 41618.465  41638.707  65591.16   66928.98   66927.7    66926.99\n",
      " 66929.164  12352.215  41635.688  12351.991  65591.21   66928.59\n",
      " 65592.41   66927.375  12349.212  12351.309  66928.14   66928.914\n",
      " 41645.46   12351.249  41633.348  65591.47   12351.309  66927.95\n",
      " 12403.813  66928.46   66927.51   12405.6    12352.616  12407.173\n",
      " 12349.989  12669.39   65592.84   66928.66   65591.71   12352.309\n",
      " 66925.98   12352.51   12352.039  66928.46   22957.805  12350.272\n",
      " 66927.95   65590.4    66927.89   66927.7    66927.83   12405.777\n",
      " 65593.52   66927.195  65590.9    12347.882  41654.914  65590.9\n",
      " 12352.592  12352.451  65595.09   12351.921  66927.766  66927.125\n",
      " 41633.188  12352.863  41639.94   12406.568  66928.98   65593.02\n",
      " 12352.557  12353.027  12352.438  22970.047  66929.1    66927.7\n",
      " 65592.336  65593.65   66928.85   66928.46   66929.805  66927.57\n",
      " 66927.125  65591.71   12675.855  41652.254  12352.639  66927.7\n",
      " 12352.157  12351.297  66928.85   65591.586  12352.204  12352.157\n",
      " 12668.472  41625.406  65590.4    65592.84   12352.355  41645.062\n",
      " 12353.559  66927.63   66928.78   66928.08   66928.72   66928.27\n",
      " 12352.687  41640.53   12406.618  65585.46   65591.02   12352.204\n",
      " 12350.849  12353.192  23182.371  12351.202  66928.59   12351.544\n",
      " 12352.109  12352.745  12352.18   66929.67   12665.948  66929.87\n",
      " 41632.793  65591.78   65591.78   66928.016  66928.72   66927.95\n",
      " 22979.139  66927.766  12350.413  12352.309  65591.16   66928.46\n",
      " 12351.297  66928.336  41632.516  66927.766  65592.72   12387.89\n",
      " 12354.23   66927.7    12405.269  12353.912  12351.697  66927.7\n",
      " 12352.71   12351.508  41630.45   41637.875  12411.363  66927.7\n",
      " 66929.36   65590.78   41622.59   65591.27   12353.794  65592.16\n",
      " 41639.504  65592.47   65592.96   65592.336  41634.34   66929.1\n",
      " 12352.534  12353.204  12352.627  12666.816  66927.375  65592.336\n",
      " 12353.204  12356.858  66928.85   12351.732  12352.6045 65591.84\n",
      " 12352.355  41623.54   12388.396  41635.688  65591.16   22971.23\n",
      " 66927.7    65588.9    41640.137  66927.195  41635.53   65591.53\n",
      " 12351.109  12352.286  12407.303  66928.78   12351.392  41633.586\n",
      " 41632.234  41634.938  12668.303  66927.95   14951.984  41633.15\n",
      " 66927.57   12350.955  66929.164  66926.62   66928.72   41640.02\n",
      " 41638.47   66927.06   41632.234  66928.78   12351.921  12352.616\n",
      " 41631.598  65593.9    12351.886  12404.062  65591.78   66927.125\n",
      " 12352.215  65590.65   41633.47   12404.486  12354.147  12351.414\n",
      " 66927.57   12405.197  12351.544  66928.14   65591.9    41641.29\n",
      " 65592.16   65586.21   65592.586  65592.65   12351.592  66927.95\n",
      " 12352.957  12351.697  12945.517  65588.086  12351.661  66928.85\n",
      " 12351.862  41635.93   12349.023  12351.944  66927.25   41636.84\n",
      " 66928.914  66926.67   12351.155  66927.57   66927.63   12352.309\n",
      " 12352.839  65589.22   65592.336  66927.44   66928.66   12351.049\n",
      " 12411.989  65587.4    41624.254  65586.77   22986.264  41639.742\n",
      " 12351.297  12460.6045 12353.535  66928.85   66926.87   12351.32\n",
      " 12353.039  66926.42   12352.438  12349.872  22945.393  65587.586\n",
      " 66926.484  12398.904  12402.477  41633.984  12352.073  12352.474\n",
      " 41639.94   12352.534  41637.2    65592.27   41637.004  65592.9\n",
      " 12405.54   41637.758  41619.18   41619.812  66928.85   65589.96\n",
      " 66927.44   41656.1    66929.03   12351.779  41613.184  41635.53\n",
      " 12351.79   12351.485  12351.969  66927.195  66927.195  66928.016\n",
      " 65592.41   65590.9    41636.402  66929.36   12351.261  65592.09\n",
      " 12351.273  66926.555  65588.21   12407.504  65592.9    66928.016\n",
      " 12351.225  12349.234  66925.586  66927.95   65593.41   66927.7\n",
      " 12352.675  66928.59   66927.51   12403.836  65591.53   65590.336\n",
      " 12351.579  65589.96   65590.84   65592.16   66928.016  22952.66\n",
      " 65591.96   12352.404  22964.967  65589.9    12353.075  12352.416\n",
      " 12351.261  12352.251  17718.621  65592.9    12351.639  66926.67\n",
      " 65590.02   12349.542  66925.914  41635.613  65589.71   66929.67\n",
      " 17707.033  12405.849  12352.215  65593.16   66928.336  65593.27\n",
      " 66927.31   12404.677  12351.908  66926.164  65592.65   12667.819\n",
      " 41648.953  12353.853  66926.36   12388.503  13125.637  66926.04\n",
      " 12352.133  66929.484  66927.63   41631.164  66928.336  41648.598\n",
      " 65590.53   66928.14   66928.98   12351.886  65592.16   12353.429\n",
      " 66927.57   66928.66   66929.1    65590.27   12351.944  12351.839\n",
      " 12351.496  41628.902  41654.04   66927.06   12353.204  41636.883\n",
      " 12351.014  12412.428  65587.266  66928.336  66927.7    41634.06\n",
      " 41632.594  12351.9795 12404.819  66928.336  65592.41   12406.428\n",
      " 66928.52   12462.078  65590.96   41653.008  12352.6045]\n",
      "ls: [tensor([35153.], dtype=torch.float64), tensor([9951.], dtype=torch.float64), tensor([38815.], dtype=torch.float64), tensor([14175.], dtype=torch.float64), tensor([66821.], dtype=torch.float64), tensor([9951.], dtype=torch.float64), tensor([66821.], dtype=torch.float64), tensor([58513.], dtype=torch.float64), tensor([39421.], dtype=torch.float64), tensor([9951.], dtype=torch.float64), tensor([66821.], dtype=torch.float64), tensor([14187.], dtype=torch.float64), tensor([58512.], dtype=torch.float64), tensor([58512.], dtype=torch.float64), tensor([66822.], dtype=torch.float64), tensor([58512.], dtype=torch.float64), tensor([35343.], dtype=torch.float64), tensor([66823.], dtype=torch.float64), tensor([58512.], dtype=torch.float64), tensor([19798.], dtype=torch.float64), tensor([58512.], dtype=torch.float64), tensor([38590.], dtype=torch.float64), tensor([9951.], dtype=torch.float64), tensor([58513.], dtype=torch.float64), tensor([66821.], dtype=torch.float64), tensor([66821.], dtype=torch.float64), tensor([9951.], dtype=torch.float64), tensor([66821.], dtype=torch.float64), tensor([7639.], dtype=torch.float64), tensor([66821.], dtype=torch.float64), tensor([58512.], dtype=torch.float64), tensor([58512.], dtype=torch.float64), tensor([38825.], dtype=torch.float64), tensor([58512.], dtype=torch.float64), tensor([66821.], dtype=torch.float64), tensor([15913.], dtype=torch.float64), tensor([66821.], dtype=torch.float64), tensor([39267.], dtype=torch.float64), tensor([14175.], dtype=torch.float64), tensor([58512.], dtype=torch.float64), tensor([58513.], dtype=torch.float64), tensor([66824.], dtype=torch.float64), tensor([66821.], dtype=torch.float64), tensor([58512.], dtype=torch.float64), tensor([58512.], dtype=torch.float64), tensor([39130.], dtype=torch.float64), tensor([66821.], dtype=torch.float64), tensor([38957.], dtype=torch.float64), tensor([58512.], dtype=torch.float64), tensor([14175.], dtype=torch.float64), tensor([17508.], dtype=torch.float64), tensor([14175.], dtype=torch.float64), tensor([15711.], dtype=torch.float64), tensor([58512.], dtype=torch.float64), tensor([34609.], dtype=torch.float64), tensor([39097.], dtype=torch.float64), tensor([58512.], dtype=torch.float64), tensor([66824.], dtype=torch.float64), tensor([66821.], dtype=torch.float64), tensor([66822.], dtype=torch.float64), tensor([66821.], dtype=torch.float64), tensor([9951.], dtype=torch.float64), tensor([38861.], dtype=torch.float64), tensor([9951.], dtype=torch.float64), tensor([58512.], dtype=torch.float64), tensor([66823.], dtype=torch.float64), tensor([58518.], dtype=torch.float64), tensor([66821.], dtype=torch.float64), tensor([3876.], dtype=torch.float64), tensor([9951.], dtype=torch.float64), tensor([66821.], dtype=torch.float64), tensor([66821.], dtype=torch.float64), tensor([38465.], dtype=torch.float64), tensor([9951.], dtype=torch.float64), tensor([39229.], dtype=torch.float64), tensor([58512.], dtype=torch.float64), tensor([9951.], dtype=torch.float64), tensor([66821.], dtype=torch.float64), tensor([15711.], dtype=torch.float64), tensor([66837.], dtype=torch.float64), tensor([66821.], dtype=torch.float64), tensor([15711.], dtype=torch.float64), tensor([17455.], dtype=torch.float64), tensor([15711.], dtype=torch.float64), tensor([3876.], dtype=torch.float64), tensor([14176.], dtype=torch.float64), tensor([58514.], dtype=torch.float64), tensor([66821.], dtype=torch.float64), tensor([58513.], dtype=torch.float64), tensor([9951.], dtype=torch.float64), tensor([66821.], dtype=torch.float64), tensor([14175.], dtype=torch.float64), tensor([9951.], dtype=torch.float64), tensor([66824.], dtype=torch.float64), tensor([31180.], dtype=torch.float64), tensor([14175.], dtype=torch.float64), tensor([66821.], dtype=torch.float64), tensor([58512.], dtype=torch.float64), tensor([66844.], dtype=torch.float64), tensor([66821.], dtype=torch.float64), tensor([66827.], dtype=torch.float64), tensor([15711.], dtype=torch.float64), tensor([58512.], dtype=torch.float64), tensor([66821.], dtype=torch.float64), tensor([58512.], dtype=torch.float64), tensor([3876.], dtype=torch.float64), tensor([39220.], dtype=torch.float64), tensor([58512.], dtype=torch.float64), tensor([14197.], dtype=torch.float64), tensor([9951.], dtype=torch.float64), tensor([58512.], dtype=torch.float64), tensor([14175.], dtype=torch.float64), tensor([66822.], dtype=torch.float64), tensor([66821.], dtype=torch.float64), tensor([39087.], dtype=torch.float64), tensor([9951.], dtype=torch.float64), tensor([39511.], dtype=torch.float64), tensor([15711.], dtype=torch.float64), tensor([66821.], dtype=torch.float64), tensor([58512.], dtype=torch.float64), tensor([14175.], dtype=torch.float64), tensor([14176.], dtype=torch.float64), tensor([14175.], dtype=torch.float64), tensor([23183.], dtype=torch.float64), tensor([66821.], dtype=torch.float64), tensor([66821.], dtype=torch.float64), tensor([58512.], dtype=torch.float64), tensor([58512.], dtype=torch.float64), tensor([66834.], dtype=torch.float64), tensor([66821.], dtype=torch.float64), tensor([66821.], dtype=torch.float64), tensor([66821.], dtype=torch.float64), tensor([66821.], dtype=torch.float64), tensor([58512.], dtype=torch.float64), tensor([15945.], dtype=torch.float64), tensor([39097.], dtype=torch.float64), tensor([14178.], dtype=torch.float64), tensor([66823.], dtype=torch.float64), tensor([17416.], dtype=torch.float64), tensor([14211.], dtype=torch.float64), tensor([66821.], dtype=torch.float64), tensor([58512.], dtype=torch.float64), tensor([9951.], dtype=torch.float64), tensor([14181.], dtype=torch.float64), tensor([14180.], dtype=torch.float64), tensor([39157.], dtype=torch.float64), tensor([58512.], dtype=torch.float64), tensor([58512.], dtype=torch.float64), tensor([9951.], dtype=torch.float64), tensor([34333.], dtype=torch.float64), tensor([9951.], dtype=torch.float64), tensor([66821.], dtype=torch.float64), tensor([66821.], dtype=torch.float64), tensor([66823.], dtype=torch.float64), tensor([66822.], dtype=torch.float64), tensor([66821.], dtype=torch.float64), tensor([9951.], dtype=torch.float64), tensor([39439.], dtype=torch.float64), tensor([9951.], dtype=torch.float64), tensor([58512.], dtype=torch.float64), tensor([58512.], dtype=torch.float64), tensor([14185.], dtype=torch.float64), tensor([9951.], dtype=torch.float64), tensor([14190.], dtype=torch.float64), tensor([27726.], dtype=torch.float64), tensor([14175.], dtype=torch.float64), tensor([66825.], dtype=torch.float64), tensor([14175.], dtype=torch.float64), tensor([14175.], dtype=torch.float64), tensor([9951.], dtype=torch.float64), tensor([9951.], dtype=torch.float64), tensor([66821.], dtype=torch.float64), tensor([14175.], dtype=torch.float64), tensor([66821.], dtype=torch.float64), tensor([38230.], dtype=torch.float64), tensor([58512.], dtype=torch.float64), tensor([58554.], dtype=torch.float64), tensor([66821.], dtype=torch.float64), tensor([66821.], dtype=torch.float64), tensor([66821.], dtype=torch.float64), tensor([27816.], dtype=torch.float64), tensor([66821.], dtype=torch.float64), tensor([14175.], dtype=torch.float64), tensor([14177.], dtype=torch.float64), tensor([58513.], dtype=torch.float64), tensor([66825.], dtype=torch.float64), tensor([9951.], dtype=torch.float64), tensor([66821.], dtype=torch.float64), tensor([38979.], dtype=torch.float64), tensor([66821.], dtype=torch.float64), tensor([58512.], dtype=torch.float64), tensor([16033.], dtype=torch.float64), tensor([9951.], dtype=torch.float64), tensor([66822.], dtype=torch.float64), tensor([15711.], dtype=torch.float64), tensor([14176.], dtype=torch.float64), tensor([14175.], dtype=torch.float64), tensor([66821.], dtype=torch.float64), tensor([14184.], dtype=torch.float64), tensor([17417.], dtype=torch.float64), tensor([38953.], dtype=torch.float64), tensor([38850.], dtype=torch.float64), tensor([18834.], dtype=torch.float64), tensor([66824.], dtype=torch.float64), tensor([66821.], dtype=torch.float64), tensor([58512.], dtype=torch.float64), tensor([38995.], dtype=torch.float64), tensor([58512.], dtype=torch.float64), tensor([9951.], dtype=torch.float64), tensor([58512.], dtype=torch.float64), tensor([39133.], dtype=torch.float64), tensor([58512.], dtype=torch.float64), tensor([58512.], dtype=torch.float64), tensor([58512.], dtype=torch.float64), tensor([34955.], dtype=torch.float64), tensor([66821.], dtype=torch.float64), tensor([14175.], dtype=torch.float64), tensor([14175.], dtype=torch.float64), tensor([9951.], dtype=torch.float64), tensor([14175.], dtype=torch.float64), tensor([66821.], dtype=torch.float64), tensor([58513.], dtype=torch.float64), tensor([14176.], dtype=torch.float64), tensor([14175.], dtype=torch.float64), tensor([66822.], dtype=torch.float64), tensor([14176.], dtype=torch.float64), tensor([14175.], dtype=torch.float64), tensor([58512.], dtype=torch.float64), tensor([14175.], dtype=torch.float64), tensor([38633.], dtype=torch.float64), tensor([16020.], dtype=torch.float64), tensor([39159.], dtype=torch.float64), tensor([58512.], dtype=torch.float64), tensor([21227.], dtype=torch.float64), tensor([66821.], dtype=torch.float64), tensor([58512.], dtype=torch.float64), tensor([38936.], dtype=torch.float64), tensor([66917.], dtype=torch.float64), tensor([39033.], dtype=torch.float64), tensor([58520.], dtype=torch.float64), tensor([14176.], dtype=torch.float64), tensor([9951.], dtype=torch.float64), tensor([15711.], dtype=torch.float64), tensor([66821.], dtype=torch.float64), tensor([13320.], dtype=torch.float64), tensor([35160.], dtype=torch.float64), tensor([34116.], dtype=torch.float64), tensor([34116.], dtype=torch.float64), tensor([14187.], dtype=torch.float64), tensor([66821.], dtype=torch.float64), tensor([17844.], dtype=torch.float64), tensor([39105.], dtype=torch.float64), tensor([66821.], dtype=torch.float64), tensor([14175.], dtype=torch.float64), tensor([66821.], dtype=torch.float64), tensor([66821.], dtype=torch.float64), tensor([66821.], dtype=torch.float64), tensor([38953.], dtype=torch.float64), tensor([35253.], dtype=torch.float64), tensor([66824.], dtype=torch.float64), tensor([39049.], dtype=torch.float64), tensor([66821.], dtype=torch.float64), tensor([14175.], dtype=torch.float64), tensor([9951.], dtype=torch.float64), tensor([38922.], dtype=torch.float64), tensor([58512.], dtype=torch.float64), tensor([14175.], dtype=torch.float64), tensor([9951.], dtype=torch.float64), tensor([58512.], dtype=torch.float64), tensor([66821.], dtype=torch.float64), tensor([17416.], dtype=torch.float64), tensor([58512.], dtype=torch.float64), tensor([39141.], dtype=torch.float64), tensor([15711.], dtype=torch.float64), tensor([14181.], dtype=torch.float64), tensor([9951.], dtype=torch.float64), tensor([66821.], dtype=torch.float64), tensor([9951.], dtype=torch.float64), tensor([14211.], dtype=torch.float64), tensor([66821.], dtype=torch.float64), tensor([58512.], dtype=torch.float64), tensor([38483.], dtype=torch.float64), tensor([58512.], dtype=torch.float64), tensor([58512.], dtype=torch.float64), tensor([58512.], dtype=torch.float64), tensor([58512.], dtype=torch.float64), tensor([14200.], dtype=torch.float64), tensor([66821.], dtype=torch.float64), tensor([14177.], dtype=torch.float64), tensor([14197.], dtype=torch.float64), tensor([17246.], dtype=torch.float64), tensor([58512.], dtype=torch.float64), tensor([14175.], dtype=torch.float64), tensor([66821.], dtype=torch.float64), tensor([9951.], dtype=torch.float64), tensor([38898.], dtype=torch.float64), tensor([3876.], dtype=torch.float64), tensor([21733.], dtype=torch.float64), tensor([66821.], dtype=torch.float64), tensor([35178.], dtype=torch.float64), tensor([66861.], dtype=torch.float64), tensor([66825.], dtype=torch.float64), tensor([9951.], dtype=torch.float64), tensor([66821.], dtype=torch.float64), tensor([66821.], dtype=torch.float64), tensor([9951.], dtype=torch.float64), tensor([9951.], dtype=torch.float64), tensor([58512.], dtype=torch.float64), tensor([58512.], dtype=torch.float64), tensor([66822.], dtype=torch.float64), tensor([66821.], dtype=torch.float64), tensor([9951.], dtype=torch.float64), tensor([18834.], dtype=torch.float64), tensor([58512.], dtype=torch.float64), tensor([38543.], dtype=torch.float64), tensor([58515.], dtype=torch.float64), tensor([27726.], dtype=torch.float64), tensor([35045.], dtype=torch.float64), tensor([9951.], dtype=torch.float64), tensor([19520.], dtype=torch.float64), tensor([14175.], dtype=torch.float64), tensor([66821.], dtype=torch.float64), tensor([66821.], dtype=torch.float64), tensor([14178.], dtype=torch.float64), tensor([9951.], dtype=torch.float64), tensor([66821.], dtype=torch.float64), tensor([14175.], dtype=torch.float64), tensor([9951.], dtype=torch.float64), tensor([19798.], dtype=torch.float64), tensor([58512.], dtype=torch.float64), tensor([66823.], dtype=torch.float64), tensor([3876.], dtype=torch.float64), tensor([15712.], dtype=torch.float64), tensor([38393.], dtype=torch.float64), tensor([9951.], dtype=torch.float64), tensor([9951.], dtype=torch.float64), tensor([39310.], dtype=torch.float64), tensor([14175.], dtype=torch.float64), tensor([35343.], dtype=torch.float64), tensor([58512.], dtype=torch.float64), tensor([39058.], dtype=torch.float64), tensor([58512.], dtype=torch.float64), tensor([15716.], dtype=torch.float64), tensor([39403.], dtype=torch.float64), tensor([35025.], dtype=torch.float64), tensor([39013.], dtype=torch.float64), tensor([66822.], dtype=torch.float64), tensor([58516.], dtype=torch.float64), tensor([66821.], dtype=torch.float64), tensor([38535.], dtype=torch.float64), tensor([66821.], dtype=torch.float64), tensor([14047.], dtype=torch.float64), tensor([38212.], dtype=torch.float64), tensor([38321.], dtype=torch.float64), tensor([14176.], dtype=torch.float64), tensor([14178.], dtype=torch.float64), tensor([17416.], dtype=torch.float64), tensor([66821.], dtype=torch.float64), tensor([66821.], dtype=torch.float64), tensor([66821.], dtype=torch.float64), tensor([58512.], dtype=torch.float64), tensor([58512.], dtype=torch.float64), tensor([39066.], dtype=torch.float64), tensor([66821.], dtype=torch.float64), tensor([9951.], dtype=torch.float64), tensor([58512.], dtype=torch.float64), tensor([9951.], dtype=torch.float64), tensor([66821.], dtype=torch.float64), tensor([58512.], dtype=torch.float64), tensor([15711.], dtype=torch.float64), tensor([58512.], dtype=torch.float64), tensor([66821.], dtype=torch.float64), tensor([9951.], dtype=torch.float64), tensor([3876.], dtype=torch.float64), tensor([66822.], dtype=torch.float64), tensor([66827.], dtype=torch.float64), tensor([58512.], dtype=torch.float64), tensor([66826.], dtype=torch.float64), tensor([9951.], dtype=torch.float64), tensor([66821.], dtype=torch.float64), tensor([66821.], dtype=torch.float64), tensor([15712.], dtype=torch.float64), tensor([58512.], dtype=torch.float64), tensor([58512.], dtype=torch.float64), tensor([14199.], dtype=torch.float64), tensor([58513.], dtype=torch.float64), tensor([58512.], dtype=torch.float64), tensor([58512.], dtype=torch.float64), tensor([66821.], dtype=torch.float64), tensor([20556.], dtype=torch.float64), tensor([58519.], dtype=torch.float64), tensor([17416.], dtype=torch.float64), tensor([24812.], dtype=torch.float64), tensor([58512.], dtype=torch.float64), tensor([14179.], dtype=torch.float64), tensor([14175.], dtype=torch.float64), tensor([14175.], dtype=torch.float64), tensor([9951.], dtype=torch.float64), tensor([14175.], dtype=torch.float64), tensor([58512.], dtype=torch.float64), tensor([14175.], dtype=torch.float64), tensor([66821.], dtype=torch.float64), tensor([58512.], dtype=torch.float64), tensor([3876.], dtype=torch.float64), tensor([66821.], dtype=torch.float64), tensor([34584.], dtype=torch.float64), tensor([58512.], dtype=torch.float64), tensor([66821.], dtype=torch.float64), tensor([11274.], dtype=torch.float64), tensor([15711.], dtype=torch.float64), tensor([14175.], dtype=torch.float64), tensor([58512.], dtype=torch.float64), tensor([66825.], dtype=torch.float64), tensor([58512.], dtype=torch.float64), tensor([66821.], dtype=torch.float64), tensor([9951.], dtype=torch.float64), tensor([9951.], dtype=torch.float64), tensor([66823.], dtype=torch.float64), tensor([58512.], dtype=torch.float64), tensor([14178.], dtype=torch.float64), tensor([38879.], dtype=torch.float64), tensor([14175.], dtype=torch.float64), tensor([66821.], dtype=torch.float64), tensor([12552.], dtype=torch.float64), tensor([14162.], dtype=torch.float64), tensor([66822.], dtype=torch.float64), tensor([14200.], dtype=torch.float64), tensor([66823.], dtype=torch.float64), tensor([66821.], dtype=torch.float64), tensor([38879.], dtype=torch.float64), tensor([66824.], dtype=torch.float64), tensor([39049.], dtype=torch.float64), tensor([58512.], dtype=torch.float64), tensor([66821.], dtype=torch.float64), tensor([66821.], dtype=torch.float64), tensor([14176.], dtype=torch.float64), tensor([58512.], dtype=torch.float64), tensor([14179.], dtype=torch.float64), tensor([66821.], dtype=torch.float64), tensor([66821.], dtype=torch.float64), tensor([66821.], dtype=torch.float64), tensor([58512.], dtype=torch.float64), tensor([14176.], dtype=torch.float64), tensor([14175.], dtype=torch.float64), tensor([14182.], dtype=torch.float64), tensor([38446.], dtype=torch.float64), tensor([39030.], dtype=torch.float64), tensor([66821.], dtype=torch.float64), tensor([14175.], dtype=torch.float64), tensor([38590.], dtype=torch.float64), tensor([9951.], dtype=torch.float64), tensor([18834.], dtype=torch.float64), tensor([58512.], dtype=torch.float64), tensor([66821.], dtype=torch.float64), tensor([66849.], dtype=torch.float64), tensor([39173.], dtype=torch.float64), tensor([35097.], dtype=torch.float64), tensor([14047.], dtype=torch.float64), tensor([15711.], dtype=torch.float64), tensor([66821.], dtype=torch.float64), tensor([58512.], dtype=torch.float64), tensor([9951.], dtype=torch.float64), tensor([66821.], dtype=torch.float64), tensor([9951.], dtype=torch.float64), tensor([58512.], dtype=torch.float64), tensor([35271.], dtype=torch.float64), tensor([14178.], dtype=torch.float64)]\n",
      "len(ls): 467\n",
      "running epoch: 47\n"
     ]
    },
    {
     "name": "stdout",
     "output_type": "stream",
     "text": [
      "pred_output shape: torch.Size([64, 1])\n"
     ]
    },
    {
     "name": "stdout",
     "output_type": "stream",
     "text": [
      "pred_output shape: torch.Size([64, 1])\n"
     ]
    },
    {
     "name": "stdout",
     "output_type": "stream",
     "text": [
      "pred_output shape: torch.Size([64, 1])\n"
     ]
    },
    {
     "name": "stdout",
     "output_type": "stream",
     "text": [
      "pred_output shape: torch.Size([64, 1])\n"
     ]
    },
    {
     "name": "stdout",
     "output_type": "stream",
     "text": [
      "pred_output shape: torch.Size([64, 1])\n"
     ]
    },
    {
     "name": "stdout",
     "output_type": "stream",
     "text": [
      "pred_output shape: torch.Size([64, 1])\n"
     ]
    },
    {
     "name": "stdout",
     "output_type": "stream",
     "text": [
      "pred_output shape: torch.Size([64, 1])\n"
     ]
    },
    {
     "name": "stdout",
     "output_type": "stream",
     "text": [
      "pred_output shape: torch.Size([64, 1])\n"
     ]
    },
    {
     "name": "stdout",
     "output_type": "stream",
     "text": [
      "pred_output shape: torch.Size([64, 1])\n"
     ]
    },
    {
     "name": "stdout",
     "output_type": "stream",
     "text": [
      "pred_output shape: torch.Size([64, 1])\n"
     ]
    },
    {
     "name": "stdout",
     "output_type": "stream",
     "text": [
      "pred_output shape: torch.Size([64, 1])\n"
     ]
    },
    {
     "name": "stdout",
     "output_type": "stream",
     "text": [
      "pred_output shape: torch.Size([64, 1])\n"
     ]
    },
    {
     "name": "stdout",
     "output_type": "stream",
     "text": [
      "pred_output shape: torch.Size([64, 1])\n"
     ]
    },
    {
     "name": "stdout",
     "output_type": "stream",
     "text": [
      "pred_output shape: torch.Size([64, 1])\n"
     ]
    },
    {
     "name": "stdout",
     "output_type": "stream",
     "text": [
      "pred_output shape: torch.Size([64, 1])\n"
     ]
    },
    {
     "name": "stdout",
     "output_type": "stream",
     "text": [
      "pred_output shape: torch.Size([64, 1])\n"
     ]
    },
    {
     "name": "stdout",
     "output_type": "stream",
     "text": [
      "pred_output shape: torch.Size([64, 1])\n"
     ]
    },
    {
     "name": "stdout",
     "output_type": "stream",
     "text": [
      "pred_output shape: torch.Size([64, 1])\n"
     ]
    },
    {
     "name": "stdout",
     "output_type": "stream",
     "text": [
      "pred_output shape: torch.Size([64, 1])\n"
     ]
    },
    {
     "name": "stdout",
     "output_type": "stream",
     "text": [
      "pred_output shape: torch.Size([64, 1])\n"
     ]
    },
    {
     "name": "stdout",
     "output_type": "stream",
     "text": [
      "pred_output shape: torch.Size([64, 1])\n"
     ]
    },
    {
     "name": "stdout",
     "output_type": "stream",
     "text": [
      "pred_output shape: torch.Size([64, 1])\n"
     ]
    },
    {
     "name": "stdout",
     "output_type": "stream",
     "text": [
      "pred_output shape: torch.Size([64, 1])\n"
     ]
    },
    {
     "name": "stdout",
     "output_type": "stream",
     "text": [
      "pred_output shape: torch.Size([64, 1])\n"
     ]
    },
    {
     "name": "stdout",
     "output_type": "stream",
     "text": [
      "pred_output shape: torch.Size([64, 1])\n"
     ]
    },
    {
     "name": "stdout",
     "output_type": "stream",
     "text": [
      "pred_output shape: torch.Size([64, 1])\n"
     ]
    },
    {
     "name": "stdout",
     "output_type": "stream",
     "text": [
      "pred_output shape: torch.Size([64, 1])\n"
     ]
    },
    {
     "name": "stdout",
     "output_type": "stream",
     "text": [
      "pred_output shape: torch.Size([64, 1])\n"
     ]
    },
    {
     "name": "stdout",
     "output_type": "stream",
     "text": [
      "pred_output shape: torch.Size([64, 1])\n"
     ]
    },
    {
     "name": "stdout",
     "output_type": "stream",
     "text": [
      "pred_output shape: torch.Size([9, 1])\n"
     ]
    },
    {
     "name": "stdout",
     "output_type": "stream",
     "text": [
      "pred_output shape: torch.Size([64, 1])\n"
     ]
    },
    {
     "name": "stdout",
     "output_type": "stream",
     "text": [
      "pred_output shape: torch.Size([64, 1])\n"
     ]
    },
    {
     "name": "stdout",
     "output_type": "stream",
     "text": [
      "pred_output shape: torch.Size([64, 1])\n"
     ]
    },
    {
     "name": "stdout",
     "output_type": "stream",
     "text": [
      "pred_output shape: torch.Size([64, 1])\n"
     ]
    },
    {
     "name": "stdout",
     "output_type": "stream",
     "text": [
      "pred_output shape: torch.Size([64, 1])\n"
     ]
    },
    {
     "name": "stdout",
     "output_type": "stream",
     "text": [
      "pred_output shape: torch.Size([64, 1])\n"
     ]
    },
    {
     "name": "stdout",
     "output_type": "stream",
     "text": [
      "pred_output shape: torch.Size([64, 1])\n"
     ]
    },
    {
     "name": "stdout",
     "output_type": "stream",
     "text": [
      "pred_output shape: torch.Size([19, 1])\n",
      "ps: [37084.773  13454.765  37066.11   10973.869  66604.94   12846.894\n",
      " 66602.08   65717.125  37108.375  10972.163  66602.97   10972.54\n",
      " 65719.375  65717.06   66600.69   65716.125  37107.91   66600.305\n",
      " 65716.125  26759.908  65718.375  37101.4    14276.797  65712.62\n",
      " 66601.83   66603.86   10972.78   66602.46   13446.452  66605.195\n",
      " 65717.06   65718.76   37084.492  65718.195  66604.49   23600.607\n",
      " 66596.43   37082.902  10972.121  65715.44   65717.88   66603.54\n",
      " 66605.     65720.016  65716.75   37108.375  66605.     37093.086\n",
      " 65715.44   12378.619  10973.188  10972.184  12844.639  65718.76\n",
      " 37071.902  37100.62   65715.44   66603.09   66584.99   66603.35\n",
      " 66604.37   10973.723  37106.883  10973.502  65717.06   66602.78\n",
      " 65717.     66605.13   10968.407  10972.833  66603.35   66603.984\n",
      " 37099.77   10971.106  37070.207  65717.88   10970.897  66604.3\n",
      " 12840.449  66602.97   66602.27   12845.067  10973.974  12849.406\n",
      " 10970.081  12380.603  65716.25   66603.984  65717.26   10972.529\n",
      " 66601.32   10972.006  10971.818  66603.6    26751.232  10971.273\n",
      " 66603.6    65717.125  66601.83   66603.6    66603.48   12845.7295\n",
      " 65719.13   66603.8    65715.5    10967.76   37106.285  65716.62\n",
      " 10974.403  10973.042  65719.     10972.174  66603.48   66604.555\n",
      " 37086.047  10973.053  37114.14   12847.456  66604.24   65719.375\n",
      " 10972.708  10973.723  10972.384  26762.691  66604.75   66602.52\n",
      " 65716.     65717.06   66600.17   66603.54   66603.984  66603.35\n",
      " 66604.18   65717.625  12383.956  37100.832  10973.481  66600.37\n",
      " 10974.382  10972.445  66604.11   65716.375  10972.351  10973.126\n",
      " 12378.359  37069.855  65714.99   65716.62   10973.89   37099.703\n",
      " 10974.664  66600.43   66603.54   66602.66   66604.49   66602.78\n",
      " 10973.9    37108.832  12847.126  65712.305  65715.56   10972.676\n",
      " 10971.881  10973.522  26910.75   10972.613  66602.78   10972.8955\n",
      " 10973.241  10972.749  10972.299  66603.35   12376.884  66604.3\n",
      " 37096.87   65715.44   65716.     66602.27   66601.06   66599.73\n",
      " 26766.93   66604.555  10971.41   10972.833  65715.62   66602.27\n",
      " 10971.724  66602.836  37091.848  66604.555  65718.     12381.382\n",
      " 10974.496  66602.66   12843.978  10973.785  10973.283  66602.21\n",
      " 10973.607  10972.603  37088.77   37098.29   13471.238  66604.24\n",
      " 66600.69   65716.56   37076.71   65717.51   10974.078  65717.88\n",
      " 37082.125  65717.945  65716.25   65718.26   37088.984  66603.92\n",
      " 10973.795  10973.785  10973.607  12379.115  66603.23   65716.25\n",
      " 10975.114  10993.017  66604.18   10971.87   10973.522  65718.195\n",
      " 10973.733  37075.617  12383.519  37088.027  65715.62   26761.389\n",
      " 66603.984  65714.93   37098.145  66603.03   37089.477  65715.75\n",
      " 10972.603  10972.101  12849.662  66603.23   10972.676  37105.047\n",
      " 37094.434  37105.082  12378.419  66604.94   19908.514  37088.7\n",
      " 66601.57   10972.384  66603.6    66604.24   66603.414  37107.805\n",
      " 37107.49   66603.48   37064.516  66603.23   10972.091  10973.283\n",
      " 37100.87   65717.     10972.258  12841.211  65716.06   66604.18\n",
      " 10972.697  65715.81   37082.402  12842.447  10974.926  10972.101\n",
      " 66603.03   12844.504  10971.891  66602.46   65717.88   37103.49\n",
      " 65716.5    65712.37   65716.62   65716.5    10972.415  66603.92\n",
      " 10973.984  10972.969  17183.076  65715.125  10972.205  66603.984\n",
      " 10974.35   37102.46   10968.721  10973.513  66602.78   37104.797\n",
      " 66604.11   66585.31   10971.829  66603.48   66603.48   10972.708\n",
      " 10972.9795 65713.68   65717.31   66604.18   66603.23   10972.153\n",
      " 13473.834  65712.86   37072.434  65714.24   26773.797  37084.387\n",
      " 10972.269  14279.997  10974.067  66604.49   66601.32   10971.881\n",
      " 10974.016  66602.52   10972.886  10970.834  26745.441  65713.17\n",
      " 66602.52   12832.469  12837.683  37092.098  10972.697  10973.263\n",
      " 37111.664  10973.053  37114.28   65717.82   37110.03   65719.06\n",
      " 12844.91   37110.637  37072.65   37071.902  66603.6    65716.62\n",
      " 66604.49   37110.53   66603.984  10972.571  37059.6    37101.082\n",
      " 10972.091  10971.588  10972.466  66602.15   66603.09   66603.92\n",
      " 65716.375  65717.88   37105.223  66603.734  10971.703  65719.26\n",
      " 10973.126  66599.41   65714.93   12850.435  65717.375  66604.75\n",
      " 10972.153  10968.584  66602.39   66603.734  65716.69   66603.734\n",
      " 10973.43   66602.97   66604.37   12840.401  65717.625  65718.\n",
      " 10971.661  65714.62   65715.56   65717.625  66600.81   26748.4\n",
      " 65716.     10973.45   26756.258  65715.44   10974.277  10972.738\n",
      " 10971.117  10972.478  19795.15   65716.62   10972.708  66603.734\n",
      " 65715.62   10968.448  66600.05   37092.098  65715.125  66604.11\n",
      " 19785.05   12846.146  10972.697  65716.875  66602.586  65717.88\n",
      " 66603.86   12842.668  10971.86   66599.29   65718.57   12377.627\n",
      " 37081.91   10974.257  66598.4    12383.436  15872.015  66602.21\n",
      " 10973.849  66600.62   66602.72   37091.992  66603.92   37067.625\n",
      " 65715.44   66604.11   66603.35   10973.387  65719.375  10973.828\n",
      " 66599.22   66604.37   66604.37   65715.305  10972.404  10972.226\n",
      " 10972.718  37093.156  37102.6    66603.03   10973.723  37103.453\n",
      " 10972.278  13474.477  65713.12   66603.984  66603.984  37067.24\n",
      " 37066.     10972.235  12842.998  66603.86   65718.     12846.648\n",
      " 66603.54   14283.783  65717.375  37107.98   10973.953 ]\n"
     ]
    },
    {
     "name": "stdout",
     "output_type": "stream",
     "text": [
      "ls: [tensor([35153.], dtype=torch.float64), tensor([9951.], dtype=torch.float64), tensor([38815.], dtype=torch.float64), tensor([14175.], dtype=torch.float64), tensor([66821.], dtype=torch.float64), tensor([9951.], dtype=torch.float64), tensor([66821.], dtype=torch.float64), tensor([58513.], dtype=torch.float64), tensor([39421.], dtype=torch.float64), tensor([9951.], dtype=torch.float64), tensor([66821.], dtype=torch.float64), tensor([14187.], dtype=torch.float64), tensor([58512.], dtype=torch.float64), tensor([58512.], dtype=torch.float64), tensor([66822.], dtype=torch.float64), tensor([58512.], dtype=torch.float64), tensor([35343.], dtype=torch.float64), tensor([66823.], dtype=torch.float64), tensor([58512.], dtype=torch.float64), tensor([19798.], dtype=torch.float64), tensor([58512.], dtype=torch.float64), tensor([38590.], dtype=torch.float64), tensor([9951.], dtype=torch.float64), tensor([58513.], dtype=torch.float64), tensor([66821.], dtype=torch.float64), tensor([66821.], dtype=torch.float64), tensor([9951.], dtype=torch.float64), tensor([66821.], dtype=torch.float64), tensor([7639.], dtype=torch.float64), tensor([66821.], dtype=torch.float64), tensor([58512.], dtype=torch.float64), tensor([58512.], dtype=torch.float64), tensor([38825.], dtype=torch.float64), tensor([58512.], dtype=torch.float64), tensor([66821.], dtype=torch.float64), tensor([15913.], dtype=torch.float64), tensor([66821.], dtype=torch.float64), tensor([39267.], dtype=torch.float64), tensor([14175.], dtype=torch.float64), tensor([58512.], dtype=torch.float64), tensor([58513.], dtype=torch.float64), tensor([66824.], dtype=torch.float64), tensor([66821.], dtype=torch.float64), tensor([58512.], dtype=torch.float64), tensor([58512.], dtype=torch.float64), tensor([39130.], dtype=torch.float64), tensor([66821.], dtype=torch.float64), tensor([38957.], dtype=torch.float64), tensor([58512.], dtype=torch.float64), tensor([14175.], dtype=torch.float64), tensor([17508.], dtype=torch.float64), tensor([14175.], dtype=torch.float64), tensor([15711.], dtype=torch.float64), tensor([58512.], dtype=torch.float64), tensor([34609.], dtype=torch.float64), tensor([39097.], dtype=torch.float64), tensor([58512.], dtype=torch.float64), tensor([66824.], dtype=torch.float64), tensor([66821.], dtype=torch.float64), tensor([66822.], dtype=torch.float64), tensor([66821.], dtype=torch.float64), tensor([9951.], dtype=torch.float64), tensor([38861.], dtype=torch.float64), tensor([9951.], dtype=torch.float64), tensor([58512.], dtype=torch.float64), tensor([66823.], dtype=torch.float64), tensor([58518.], dtype=torch.float64), tensor([66821.], dtype=torch.float64), tensor([3876.], dtype=torch.float64), tensor([9951.], dtype=torch.float64), tensor([66821.], dtype=torch.float64), tensor([66821.], dtype=torch.float64), tensor([38465.], dtype=torch.float64), tensor([9951.], dtype=torch.float64), tensor([39229.], dtype=torch.float64), tensor([58512.], dtype=torch.float64), tensor([9951.], dtype=torch.float64), tensor([66821.], dtype=torch.float64), tensor([15711.], dtype=torch.float64), tensor([66837.], dtype=torch.float64), tensor([66821.], dtype=torch.float64), tensor([15711.], dtype=torch.float64), tensor([17455.], dtype=torch.float64), tensor([15711.], dtype=torch.float64), tensor([3876.], dtype=torch.float64), tensor([14176.], dtype=torch.float64), tensor([58514.], dtype=torch.float64), tensor([66821.], dtype=torch.float64), tensor([58513.], dtype=torch.float64), tensor([9951.], dtype=torch.float64), tensor([66821.], dtype=torch.float64), tensor([14175.], dtype=torch.float64), tensor([9951.], dtype=torch.float64), tensor([66824.], dtype=torch.float64), tensor([31180.], dtype=torch.float64), tensor([14175.], dtype=torch.float64), tensor([66821.], dtype=torch.float64), tensor([58512.], dtype=torch.float64), tensor([66844.], dtype=torch.float64), tensor([66821.], dtype=torch.float64), tensor([66827.], dtype=torch.float64), tensor([15711.], dtype=torch.float64), tensor([58512.], dtype=torch.float64), tensor([66821.], dtype=torch.float64), tensor([58512.], dtype=torch.float64), tensor([3876.], dtype=torch.float64), tensor([39220.], dtype=torch.float64), tensor([58512.], dtype=torch.float64), tensor([14197.], dtype=torch.float64), tensor([9951.], dtype=torch.float64), tensor([58512.], dtype=torch.float64), tensor([14175.], dtype=torch.float64), tensor([66822.], dtype=torch.float64), tensor([66821.], dtype=torch.float64), tensor([39087.], dtype=torch.float64), tensor([9951.], dtype=torch.float64), tensor([39511.], dtype=torch.float64), tensor([15711.], dtype=torch.float64), tensor([66821.], dtype=torch.float64), tensor([58512.], dtype=torch.float64), tensor([14175.], dtype=torch.float64), tensor([14176.], dtype=torch.float64), tensor([14175.], dtype=torch.float64), tensor([23183.], dtype=torch.float64), tensor([66821.], dtype=torch.float64), tensor([66821.], dtype=torch.float64), tensor([58512.], dtype=torch.float64), tensor([58512.], dtype=torch.float64), tensor([66834.], dtype=torch.float64), tensor([66821.], dtype=torch.float64), tensor([66821.], dtype=torch.float64), tensor([66821.], dtype=torch.float64), tensor([66821.], dtype=torch.float64), tensor([58512.], dtype=torch.float64), tensor([15945.], dtype=torch.float64), tensor([39097.], dtype=torch.float64), tensor([14178.], dtype=torch.float64), tensor([66823.], dtype=torch.float64), tensor([17416.], dtype=torch.float64), tensor([14211.], dtype=torch.float64), tensor([66821.], dtype=torch.float64), tensor([58512.], dtype=torch.float64), tensor([9951.], dtype=torch.float64), tensor([14181.], dtype=torch.float64), tensor([14180.], dtype=torch.float64), tensor([39157.], dtype=torch.float64), tensor([58512.], dtype=torch.float64), tensor([58512.], dtype=torch.float64), tensor([9951.], dtype=torch.float64), tensor([34333.], dtype=torch.float64), tensor([9951.], dtype=torch.float64), tensor([66821.], dtype=torch.float64), tensor([66821.], dtype=torch.float64), tensor([66823.], dtype=torch.float64), tensor([66822.], dtype=torch.float64), tensor([66821.], dtype=torch.float64), tensor([9951.], dtype=torch.float64), tensor([39439.], dtype=torch.float64), tensor([9951.], dtype=torch.float64), tensor([58512.], dtype=torch.float64), tensor([58512.], dtype=torch.float64), tensor([14185.], dtype=torch.float64), tensor([9951.], dtype=torch.float64), tensor([14190.], dtype=torch.float64), tensor([27726.], dtype=torch.float64), tensor([14175.], dtype=torch.float64), tensor([66825.], dtype=torch.float64), tensor([14175.], dtype=torch.float64), tensor([14175.], dtype=torch.float64), tensor([9951.], dtype=torch.float64), tensor([9951.], dtype=torch.float64), tensor([66821.], dtype=torch.float64), tensor([14175.], dtype=torch.float64), tensor([66821.], dtype=torch.float64), tensor([38230.], dtype=torch.float64), tensor([58512.], dtype=torch.float64), tensor([58554.], dtype=torch.float64), tensor([66821.], dtype=torch.float64), tensor([66821.], dtype=torch.float64), tensor([66821.], dtype=torch.float64), tensor([27816.], dtype=torch.float64), tensor([66821.], dtype=torch.float64), tensor([14175.], dtype=torch.float64), tensor([14177.], dtype=torch.float64), tensor([58513.], dtype=torch.float64), tensor([66825.], dtype=torch.float64), tensor([9951.], dtype=torch.float64), tensor([66821.], dtype=torch.float64), tensor([38979.], dtype=torch.float64), tensor([66821.], dtype=torch.float64), tensor([58512.], dtype=torch.float64), tensor([16033.], dtype=torch.float64), tensor([9951.], dtype=torch.float64), tensor([66822.], dtype=torch.float64), tensor([15711.], dtype=torch.float64), tensor([14176.], dtype=torch.float64), tensor([14175.], dtype=torch.float64), tensor([66821.], dtype=torch.float64), tensor([14184.], dtype=torch.float64), tensor([17417.], dtype=torch.float64), tensor([38953.], dtype=torch.float64), tensor([38850.], dtype=torch.float64), tensor([18834.], dtype=torch.float64), tensor([66824.], dtype=torch.float64), tensor([66821.], dtype=torch.float64), tensor([58512.], dtype=torch.float64), tensor([38995.], dtype=torch.float64), tensor([58512.], dtype=torch.float64), tensor([9951.], dtype=torch.float64), tensor([58512.], dtype=torch.float64), tensor([39133.], dtype=torch.float64), tensor([58512.], dtype=torch.float64), tensor([58512.], dtype=torch.float64), tensor([58512.], dtype=torch.float64), tensor([34955.], dtype=torch.float64), tensor([66821.], dtype=torch.float64), tensor([14175.], dtype=torch.float64), tensor([14175.], dtype=torch.float64), tensor([9951.], dtype=torch.float64), tensor([14175.], dtype=torch.float64), tensor([66821.], dtype=torch.float64), tensor([58513.], dtype=torch.float64), tensor([14176.], dtype=torch.float64), tensor([14175.], dtype=torch.float64), tensor([66822.], dtype=torch.float64), tensor([14176.], dtype=torch.float64), tensor([14175.], dtype=torch.float64), tensor([58512.], dtype=torch.float64), tensor([14175.], dtype=torch.float64), tensor([38633.], dtype=torch.float64), tensor([16020.], dtype=torch.float64), tensor([39159.], dtype=torch.float64), tensor([58512.], dtype=torch.float64), tensor([21227.], dtype=torch.float64), tensor([66821.], dtype=torch.float64), tensor([58512.], dtype=torch.float64), tensor([38936.], dtype=torch.float64), tensor([66917.], dtype=torch.float64), tensor([39033.], dtype=torch.float64), tensor([58520.], dtype=torch.float64), tensor([14176.], dtype=torch.float64), tensor([9951.], dtype=torch.float64), tensor([15711.], dtype=torch.float64), tensor([66821.], dtype=torch.float64), tensor([13320.], dtype=torch.float64), tensor([35160.], dtype=torch.float64), tensor([34116.], dtype=torch.float64), tensor([34116.], dtype=torch.float64), tensor([14187.], dtype=torch.float64), tensor([66821.], dtype=torch.float64), tensor([17844.], dtype=torch.float64), tensor([39105.], dtype=torch.float64), tensor([66821.], dtype=torch.float64), tensor([14175.], dtype=torch.float64), tensor([66821.], dtype=torch.float64), tensor([66821.], dtype=torch.float64), tensor([66821.], dtype=torch.float64), tensor([38953.], dtype=torch.float64), tensor([35253.], dtype=torch.float64), tensor([66824.], dtype=torch.float64), tensor([39049.], dtype=torch.float64), tensor([66821.], dtype=torch.float64), tensor([14175.], dtype=torch.float64), tensor([9951.], dtype=torch.float64), tensor([38922.], dtype=torch.float64), tensor([58512.], dtype=torch.float64), tensor([14175.], dtype=torch.float64), tensor([9951.], dtype=torch.float64), tensor([58512.], dtype=torch.float64), tensor([66821.], dtype=torch.float64), tensor([17416.], dtype=torch.float64), tensor([58512.], dtype=torch.float64), tensor([39141.], dtype=torch.float64), tensor([15711.], dtype=torch.float64), tensor([14181.], dtype=torch.float64), tensor([9951.], dtype=torch.float64), tensor([66821.], dtype=torch.float64), tensor([9951.], dtype=torch.float64), tensor([14211.], dtype=torch.float64), tensor([66821.], dtype=torch.float64), tensor([58512.], dtype=torch.float64), tensor([38483.], dtype=torch.float64), tensor([58512.], dtype=torch.float64), tensor([58512.], dtype=torch.float64), tensor([58512.], dtype=torch.float64), tensor([58512.], dtype=torch.float64), tensor([14200.], dtype=torch.float64), tensor([66821.], dtype=torch.float64), tensor([14177.], dtype=torch.float64), tensor([14197.], dtype=torch.float64), tensor([17246.], dtype=torch.float64), tensor([58512.], dtype=torch.float64), tensor([14175.], dtype=torch.float64), tensor([66821.], dtype=torch.float64), tensor([9951.], dtype=torch.float64), tensor([38898.], dtype=torch.float64), tensor([3876.], dtype=torch.float64), tensor([21733.], dtype=torch.float64), tensor([66821.], dtype=torch.float64), tensor([35178.], dtype=torch.float64), tensor([66861.], dtype=torch.float64), tensor([66825.], dtype=torch.float64), tensor([9951.], dtype=torch.float64), tensor([66821.], dtype=torch.float64), tensor([66821.], dtype=torch.float64), tensor([9951.], dtype=torch.float64), tensor([9951.], dtype=torch.float64), tensor([58512.], dtype=torch.float64), tensor([58512.], dtype=torch.float64), tensor([66822.], dtype=torch.float64), tensor([66821.], dtype=torch.float64), tensor([9951.], dtype=torch.float64), tensor([18834.], dtype=torch.float64), tensor([58512.], dtype=torch.float64), tensor([38543.], dtype=torch.float64), tensor([58515.], dtype=torch.float64), tensor([27726.], dtype=torch.float64), tensor([35045.], dtype=torch.float64), tensor([9951.], dtype=torch.float64), tensor([19520.], dtype=torch.float64), tensor([14175.], dtype=torch.float64), tensor([66821.], dtype=torch.float64), tensor([66821.], dtype=torch.float64), tensor([14178.], dtype=torch.float64), tensor([9951.], dtype=torch.float64), tensor([66821.], dtype=torch.float64), tensor([14175.], dtype=torch.float64), tensor([9951.], dtype=torch.float64), tensor([19798.], dtype=torch.float64), tensor([58512.], dtype=torch.float64), tensor([66823.], dtype=torch.float64), tensor([3876.], dtype=torch.float64), tensor([15712.], dtype=torch.float64), tensor([38393.], dtype=torch.float64), tensor([9951.], dtype=torch.float64), tensor([9951.], dtype=torch.float64), tensor([39310.], dtype=torch.float64), tensor([14175.], dtype=torch.float64), tensor([35343.], dtype=torch.float64), tensor([58512.], dtype=torch.float64), tensor([39058.], dtype=torch.float64), tensor([58512.], dtype=torch.float64), tensor([15716.], dtype=torch.float64), tensor([39403.], dtype=torch.float64), tensor([35025.], dtype=torch.float64), tensor([39013.], dtype=torch.float64), tensor([66822.], dtype=torch.float64), tensor([58516.], dtype=torch.float64), tensor([66821.], dtype=torch.float64), tensor([38535.], dtype=torch.float64), tensor([66821.], dtype=torch.float64), tensor([14047.], dtype=torch.float64), tensor([38212.], dtype=torch.float64), tensor([38321.], dtype=torch.float64), tensor([14176.], dtype=torch.float64), tensor([14178.], dtype=torch.float64), tensor([17416.], dtype=torch.float64), tensor([66821.], dtype=torch.float64), tensor([66821.], dtype=torch.float64), tensor([66821.], dtype=torch.float64), tensor([58512.], dtype=torch.float64), tensor([58512.], dtype=torch.float64), tensor([39066.], dtype=torch.float64), tensor([66821.], dtype=torch.float64), tensor([9951.], dtype=torch.float64), tensor([58512.], dtype=torch.float64), tensor([9951.], dtype=torch.float64), tensor([66821.], dtype=torch.float64), tensor([58512.], dtype=torch.float64), tensor([15711.], dtype=torch.float64), tensor([58512.], dtype=torch.float64), tensor([66821.], dtype=torch.float64), tensor([9951.], dtype=torch.float64), tensor([3876.], dtype=torch.float64), tensor([66822.], dtype=torch.float64), tensor([66827.], dtype=torch.float64), tensor([58512.], dtype=torch.float64), tensor([66826.], dtype=torch.float64), tensor([9951.], dtype=torch.float64), tensor([66821.], dtype=torch.float64), tensor([66821.], dtype=torch.float64), tensor([15712.], dtype=torch.float64), tensor([58512.], dtype=torch.float64), tensor([58512.], dtype=torch.float64), tensor([14199.], dtype=torch.float64), tensor([58513.], dtype=torch.float64), tensor([58512.], dtype=torch.float64), tensor([58512.], dtype=torch.float64), tensor([66821.], dtype=torch.float64), tensor([20556.], dtype=torch.float64), tensor([58519.], dtype=torch.float64), tensor([17416.], dtype=torch.float64), tensor([24812.], dtype=torch.float64), tensor([58512.], dtype=torch.float64), tensor([14179.], dtype=torch.float64), tensor([14175.], dtype=torch.float64), tensor([14175.], dtype=torch.float64), tensor([9951.], dtype=torch.float64), tensor([14175.], dtype=torch.float64), tensor([58512.], dtype=torch.float64), tensor([14175.], dtype=torch.float64), tensor([66821.], dtype=torch.float64), tensor([58512.], dtype=torch.float64), tensor([3876.], dtype=torch.float64), tensor([66821.], dtype=torch.float64), tensor([34584.], dtype=torch.float64), tensor([58512.], dtype=torch.float64), tensor([66821.], dtype=torch.float64), tensor([11274.], dtype=torch.float64), tensor([15711.], dtype=torch.float64), tensor([14175.], dtype=torch.float64), tensor([58512.], dtype=torch.float64), tensor([66825.], dtype=torch.float64), tensor([58512.], dtype=torch.float64), tensor([66821.], dtype=torch.float64), tensor([9951.], dtype=torch.float64), tensor([9951.], dtype=torch.float64), tensor([66823.], dtype=torch.float64), tensor([58512.], dtype=torch.float64), tensor([14178.], dtype=torch.float64), tensor([38879.], dtype=torch.float64), tensor([14175.], dtype=torch.float64), tensor([66821.], dtype=torch.float64), tensor([12552.], dtype=torch.float64), tensor([14162.], dtype=torch.float64), tensor([66822.], dtype=torch.float64), tensor([14200.], dtype=torch.float64), tensor([66823.], dtype=torch.float64), tensor([66821.], dtype=torch.float64), tensor([38879.], dtype=torch.float64), tensor([66824.], dtype=torch.float64), tensor([39049.], dtype=torch.float64), tensor([58512.], dtype=torch.float64), tensor([66821.], dtype=torch.float64), tensor([66821.], dtype=torch.float64), tensor([14176.], dtype=torch.float64), tensor([58512.], dtype=torch.float64), tensor([14179.], dtype=torch.float64), tensor([66821.], dtype=torch.float64), tensor([66821.], dtype=torch.float64), tensor([66821.], dtype=torch.float64), tensor([58512.], dtype=torch.float64), tensor([14176.], dtype=torch.float64), tensor([14175.], dtype=torch.float64), tensor([14182.], dtype=torch.float64), tensor([38446.], dtype=torch.float64), tensor([39030.], dtype=torch.float64), tensor([66821.], dtype=torch.float64), tensor([14175.], dtype=torch.float64), tensor([38590.], dtype=torch.float64), tensor([9951.], dtype=torch.float64), tensor([18834.], dtype=torch.float64), tensor([58512.], dtype=torch.float64), tensor([66821.], dtype=torch.float64), tensor([66849.], dtype=torch.float64), tensor([39173.], dtype=torch.float64), tensor([35097.], dtype=torch.float64), tensor([14047.], dtype=torch.float64), tensor([15711.], dtype=torch.float64), tensor([66821.], dtype=torch.float64), tensor([58512.], dtype=torch.float64), tensor([9951.], dtype=torch.float64), tensor([66821.], dtype=torch.float64), tensor([9951.], dtype=torch.float64), tensor([58512.], dtype=torch.float64), tensor([35271.], dtype=torch.float64), tensor([14178.], dtype=torch.float64)]\n",
      "len(ls): 467\n",
      "running epoch: 48\n"
     ]
    },
    {
     "name": "stdout",
     "output_type": "stream",
     "text": [
      "pred_output shape: torch.Size([64, 1])\n"
     ]
    },
    {
     "name": "stdout",
     "output_type": "stream",
     "text": [
      "pred_output shape: torch.Size([64, 1])\n"
     ]
    },
    {
     "name": "stdout",
     "output_type": "stream",
     "text": [
      "pred_output shape: torch.Size([64, 1])\n"
     ]
    },
    {
     "name": "stdout",
     "output_type": "stream",
     "text": [
      "pred_output shape: torch.Size([64, 1])\n"
     ]
    },
    {
     "name": "stdout",
     "output_type": "stream",
     "text": [
      "pred_output shape: torch.Size([64, 1])\n"
     ]
    },
    {
     "name": "stdout",
     "output_type": "stream",
     "text": [
      "pred_output shape: torch.Size([64, 1])\n"
     ]
    },
    {
     "name": "stdout",
     "output_type": "stream",
     "text": [
      "pred_output shape: torch.Size([64, 1])\n"
     ]
    },
    {
     "name": "stdout",
     "output_type": "stream",
     "text": [
      "pred_output shape: torch.Size([64, 1])\n"
     ]
    },
    {
     "name": "stdout",
     "output_type": "stream",
     "text": [
      "pred_output shape: torch.Size([64, 1])\n"
     ]
    },
    {
     "name": "stdout",
     "output_type": "stream",
     "text": [
      "pred_output shape: torch.Size([64, 1])\n"
     ]
    },
    {
     "name": "stdout",
     "output_type": "stream",
     "text": [
      "pred_output shape: torch.Size([64, 1])\n"
     ]
    },
    {
     "name": "stdout",
     "output_type": "stream",
     "text": [
      "pred_output shape: torch.Size([64, 1])\n"
     ]
    },
    {
     "name": "stdout",
     "output_type": "stream",
     "text": [
      "pred_output shape: torch.Size([64, 1])\n"
     ]
    },
    {
     "name": "stdout",
     "output_type": "stream",
     "text": [
      "pred_output shape: torch.Size([64, 1])\n"
     ]
    },
    {
     "name": "stdout",
     "output_type": "stream",
     "text": [
      "pred_output shape: torch.Size([64, 1])\n"
     ]
    },
    {
     "name": "stdout",
     "output_type": "stream",
     "text": [
      "pred_output shape: torch.Size([64, 1])\n"
     ]
    },
    {
     "name": "stdout",
     "output_type": "stream",
     "text": [
      "pred_output shape: torch.Size([64, 1])\n"
     ]
    },
    {
     "name": "stdout",
     "output_type": "stream",
     "text": [
      "pred_output shape: torch.Size([64, 1])\n"
     ]
    },
    {
     "name": "stdout",
     "output_type": "stream",
     "text": [
      "pred_output shape: torch.Size([64, 1])\n"
     ]
    },
    {
     "name": "stdout",
     "output_type": "stream",
     "text": [
      "pred_output shape: torch.Size([64, 1])\n"
     ]
    },
    {
     "name": "stdout",
     "output_type": "stream",
     "text": [
      "pred_output shape: torch.Size([64, 1])\n"
     ]
    },
    {
     "name": "stdout",
     "output_type": "stream",
     "text": [
      "pred_output shape: torch.Size([64, 1])\n"
     ]
    },
    {
     "name": "stdout",
     "output_type": "stream",
     "text": [
      "pred_output shape: torch.Size([64, 1])\n"
     ]
    },
    {
     "name": "stdout",
     "output_type": "stream",
     "text": [
      "pred_output shape: torch.Size([64, 1])\n"
     ]
    },
    {
     "name": "stdout",
     "output_type": "stream",
     "text": [
      "pred_output shape: torch.Size([64, 1])\n"
     ]
    },
    {
     "name": "stdout",
     "output_type": "stream",
     "text": [
      "pred_output shape: torch.Size([64, 1])\n"
     ]
    },
    {
     "name": "stdout",
     "output_type": "stream",
     "text": [
      "pred_output shape: torch.Size([64, 1])\n"
     ]
    },
    {
     "name": "stdout",
     "output_type": "stream",
     "text": [
      "pred_output shape: torch.Size([64, 1])\n"
     ]
    },
    {
     "name": "stdout",
     "output_type": "stream",
     "text": [
      "pred_output shape: torch.Size([64, 1])\n"
     ]
    },
    {
     "name": "stdout",
     "output_type": "stream",
     "text": [
      "pred_output shape: torch.Size([9, 1])\n"
     ]
    },
    {
     "name": "stdout",
     "output_type": "stream",
     "text": [
      "pred_output shape: torch.Size([64, 1])\n"
     ]
    },
    {
     "name": "stdout",
     "output_type": "stream",
     "text": [
      "pred_output shape: torch.Size([64, 1])\n"
     ]
    },
    {
     "name": "stdout",
     "output_type": "stream",
     "text": [
      "pred_output shape: torch.Size([64, 1])\n"
     ]
    },
    {
     "name": "stdout",
     "output_type": "stream",
     "text": [
      "pred_output shape: torch.Size([64, 1])\n"
     ]
    },
    {
     "name": "stdout",
     "output_type": "stream",
     "text": [
      "pred_output shape: torch.Size([64, 1])\n"
     ]
    },
    {
     "name": "stdout",
     "output_type": "stream",
     "text": [
      "pred_output shape: torch.Size([64, 1])\n"
     ]
    },
    {
     "name": "stdout",
     "output_type": "stream",
     "text": [
      "pred_output shape: torch.Size([64, 1])\n"
     ]
    },
    {
     "name": "stdout",
     "output_type": "stream",
     "text": [
      "pred_output shape: torch.Size([19, 1])\n",
      "ps: [39787.37   13295.704  39790.938  11684.441  65382.18   12352.286\n",
      " 65383.617  57709.695  39787.145  11680.765  65386.74   11680.141\n",
      " 57704.36   57703.758  65387.234  57718.066  39788.13   65387.74\n",
      " 57720.49   20292.387  57703.64   39784.902  13461.067  57678.17\n",
      " 65387.234  65385.047  11682.559  65387.05   13282.231  65381.75\n",
      " 57703.15   57710.137  39784.64   57708.82   65386.176  16756.627\n",
      " 65385.047  39788.582  11679.449  57707.773  57682.906  65385.43\n",
      " 65385.047  57685.816  57659.145  39785.85   65381.934  39788.43\n",
      " 57687.086  12640.125  11681.845  11678.715  12350.708  57700.29\n",
      " 39790.33   39786.004  57697.203  65386.297  65387.797  65383.43\n",
      " 65386.113  11680.508  39787.332  11680.597  57688.79   65386.92\n",
      " 57707.824  65382.18   11668.917  11676.064  65386.668  65384.676\n",
      " 39783.574  11679.772  39789.113  57709.918  11680.707  65382.367\n",
      " 12348.423  65386.547  65383.56   12350.86   11682.602  12353.6045\n",
      " 11671.244  12645.574  57705.242  65385.297  57696.707  11680.986\n",
      " 65383.68   11683.827  11682.067  65385.117  20279.406  11674.228\n",
      " 65383.43   57701.887  65386.8    65385.92   65386.547  12351.9795\n",
      " 57696.492  65385.863  57715.59   11665.234  39783.574  57665.023\n",
      " 11682.201  11682.057  57712.78   11681.599  65385.61   65382.367\n",
      " 39788.883  11682.803  39784.79   12351.991  65385.863  57690.383\n",
      " 11683.339  11684.028  11685.21   20326.088  65385.61   65386.547\n",
      " 57694.46   57707.383  65387.676  65386.49   65386.426  65383.617\n",
      " 65381.934  57695.395  12649.253  39783.08   11681.399  65384.617\n",
      " 11680.052  11677.879  65385.117  57672.95   11681.265  11683.06\n",
      " 12641.186  39790.18   57694.46   57703.64   11680.597  39784.105\n",
      " 11682.602  65384.676  65386.426  65386.74   65383.992  65386.98\n",
      " 11681.421  39785.773  12352.204  57683.18   57715.535  11682.002\n",
      " 11677.356  11684.296  21083.445  11679.784  65386.92   11679.271\n",
      " 11681.455  11684.163  11683.204  65386.92   12638.484  65386.92\n",
      " 39785.32   57702.49   57719.06   65386.234  65386.547  65385.24\n",
      " 20370.236  65383.117  11677.49   11683.839  57722.137  65386.61\n",
      " 11679.438  65384.184  39785.586  65383.117  57708.434  12939.086\n",
      " 11686.012  65386.176  12351.355  11686.849  11681.288  65383.8\n",
      " 11682.09   11680.418  39787.9    39787.56   13288.644  65383.43\n",
      " 65387.547  57664.918  39789.227  57708.33   11686.079  57689.504\n",
      " 39787.824  57691.54   57699.188  57698.035  39786.875  65385.43\n",
      " 11680.898  11685.5    11680.932  12641.462  65382.87   57704.746\n",
      " 11682.948  11712.344  65386.297  11682.124  11682.736  57710.637\n",
      " 11680.541  39786.688  12940.863  39786.65   57714.266  20282.287\n",
      " 65382.31   57686.09   39786.38   65385.92   39786.23   57721.098\n",
      " 11678.369  11681.03   12353.676  65386.668  11678.971  39788.203\n",
      " 39787.824  39785.664  12642.27   65382.18   14478.796  39787.1\n",
      " 65384.496  11678.48   65386.49   65382.742  65386.426  39785.7\n",
      " 39787.75   65383.305  39789.688  65384.867  11681.478  11681.265\n",
      " 39786.688  57710.36   11681.354  12348.246  57714.758  65381.934\n",
      " 11684.263  57715.37   39788.43   12349.8    11684.642  11679.093\n",
      " 65383.055  12351.544  11678.86   65386.61   57698.523  39783.348\n",
      " 57697.59   57685.49   57719.77   57710.797  11681.243  65384.496\n",
      " 11682.892  11681.444  14502.91   57677.457  11681.645  65385.047\n",
      " 11676.865  39786.797  11667.939  11681.556  65383.43   39786.688\n",
      " 65386.043  65384.81   11678.893  65382.805  65382.68   11681.823\n",
      " 11684.697  57676.195  57689.336  65383.055  65386.61   11678.736\n",
      " 13292.927  57669.207  39787.56   57675.637  20467.25   39787.293\n",
      " 11678.927  13459.244  11684.318  65386.043  65383.93   11679.271\n",
      " 11683.884  65383.43   11681.276  11674.071  20269.293  57684.168\n",
      " 65385.49   12343.042  12344.631  39788.055  11680.341  11680.932\n",
      " 39785.016  11683.325  39784.902  57710.254  39785.85   57689.56\n",
      " 12351.414  39786.61   39791.355  39791.164  65386.668  57700.51\n",
      " 65382.56   39779.707  65384.617  11680.932  39790.18   39784.105\n",
      " 11681.655  11681.265  11683.382  65383.68   65382.43   65386.043\n",
      " 57722.914  57703.863  39784.83   65386.668  11677.568  57702.984\n",
      " 11677.834  65384.426  57662.496  12354.689  57698.523  65382.43\n",
      " 11677.623  11669.33   65382.934  65382.87   57702.49   65383.43\n",
      " 11682.413  65387.113  65383.246  12348.223  57712.12   57655.848\n",
      " 11680.441  57677.73   57716.47   57709.42   65387.234  20296.916\n",
      " 57717.188  11682.535  20274.088  57686.812  11682.324  11680.809\n",
      " 11679.529  11682.559  14706.129  57711.02   11680.152  65382.934\n",
      " 57663.49   11669.575  65382.68   39789.492  57708.98   65386.547\n",
      " 14704.349  12352.616  11684.096  57709.863  65386.426  57715.812\n",
      " 65382.934  12349.824  11679.973  65382.934  57705.734  12639.389\n",
      " 39785.06   11687.963  65383.87   12938.68   13712.798  65382.742\n",
      " 11682.201  65387.547  65383.305  39786.46   65385.863  39785.32\n",
      " 57729.516  65383.305  65384.676  11679.64   57701.5    11684.843\n",
      " 65384.984  65384.242  65386.547  57712.34   11683.2705 11682.134\n",
      " 11682.167  39788.66   39781.832  65382.31   11683.672  39785.812\n",
      " 11677.568  13292.129  57690.55   65385.863  65385.67   39791.008\n",
      " 39788.812  11682.379  12348.658  65384.676  57708.266  12351.708\n",
      " 65386.74   13459.487  57706.395  39783.348  11683.806 ]\n",
      "ls: [tensor([35153.], dtype=torch.float64), tensor([9951.], dtype=torch.float64), tensor([38815.], dtype=torch.float64), tensor([14175.], dtype=torch.float64), tensor([66821.], dtype=torch.float64), tensor([9951.], dtype=torch.float64), tensor([66821.], dtype=torch.float64), tensor([58513.], dtype=torch.float64), tensor([39421.], dtype=torch.float64), tensor([9951.], dtype=torch.float64), tensor([66821.], dtype=torch.float64), tensor([14187.], dtype=torch.float64), tensor([58512.], dtype=torch.float64), tensor([58512.], dtype=torch.float64), tensor([66822.], dtype=torch.float64), tensor([58512.], dtype=torch.float64), tensor([35343.], dtype=torch.float64), tensor([66823.], dtype=torch.float64), tensor([58512.], dtype=torch.float64), tensor([19798.], dtype=torch.float64), tensor([58512.], dtype=torch.float64), tensor([38590.], dtype=torch.float64), tensor([9951.], dtype=torch.float64), tensor([58513.], dtype=torch.float64), tensor([66821.], dtype=torch.float64), tensor([66821.], dtype=torch.float64), tensor([9951.], dtype=torch.float64), tensor([66821.], dtype=torch.float64), tensor([7639.], dtype=torch.float64), tensor([66821.], dtype=torch.float64), tensor([58512.], dtype=torch.float64), tensor([58512.], dtype=torch.float64), tensor([38825.], dtype=torch.float64), tensor([58512.], dtype=torch.float64), tensor([66821.], dtype=torch.float64), tensor([15913.], dtype=torch.float64), tensor([66821.], dtype=torch.float64), tensor([39267.], dtype=torch.float64), tensor([14175.], dtype=torch.float64), tensor([58512.], dtype=torch.float64), tensor([58513.], dtype=torch.float64), tensor([66824.], dtype=torch.float64), tensor([66821.], dtype=torch.float64), tensor([58512.], dtype=torch.float64), tensor([58512.], dtype=torch.float64), tensor([39130.], dtype=torch.float64), tensor([66821.], dtype=torch.float64), tensor([38957.], dtype=torch.float64), tensor([58512.], dtype=torch.float64), tensor([14175.], dtype=torch.float64), tensor([17508.], dtype=torch.float64), tensor([14175.], dtype=torch.float64), tensor([15711.], dtype=torch.float64), tensor([58512.], dtype=torch.float64), tensor([34609.], dtype=torch.float64), tensor([39097.], dtype=torch.float64), tensor([58512.], dtype=torch.float64), tensor([66824.], dtype=torch.float64), tensor([66821.], dtype=torch.float64), tensor([66822.], dtype=torch.float64), tensor([66821.], dtype=torch.float64), tensor([9951.], dtype=torch.float64), tensor([38861.], dtype=torch.float64), tensor([9951.], dtype=torch.float64), tensor([58512.], dtype=torch.float64), tensor([66823.], dtype=torch.float64), tensor([58518.], dtype=torch.float64), tensor([66821.], dtype=torch.float64), tensor([3876.], dtype=torch.float64), tensor([9951.], dtype=torch.float64), tensor([66821.], dtype=torch.float64), tensor([66821.], dtype=torch.float64), tensor([38465.], dtype=torch.float64), tensor([9951.], dtype=torch.float64), tensor([39229.], dtype=torch.float64), tensor([58512.], dtype=torch.float64), tensor([9951.], dtype=torch.float64), tensor([66821.], dtype=torch.float64), tensor([15711.], dtype=torch.float64), tensor([66837.], dtype=torch.float64), tensor([66821.], dtype=torch.float64), tensor([15711.], dtype=torch.float64), tensor([17455.], dtype=torch.float64), tensor([15711.], dtype=torch.float64), tensor([3876.], dtype=torch.float64), tensor([14176.], dtype=torch.float64), tensor([58514.], dtype=torch.float64), tensor([66821.], dtype=torch.float64), tensor([58513.], dtype=torch.float64), tensor([9951.], dtype=torch.float64), tensor([66821.], dtype=torch.float64), tensor([14175.], dtype=torch.float64), tensor([9951.], dtype=torch.float64), tensor([66824.], dtype=torch.float64), tensor([31180.], dtype=torch.float64), tensor([14175.], dtype=torch.float64), tensor([66821.], dtype=torch.float64), tensor([58512.], dtype=torch.float64), tensor([66844.], dtype=torch.float64), tensor([66821.], dtype=torch.float64), tensor([66827.], dtype=torch.float64), tensor([15711.], dtype=torch.float64), tensor([58512.], dtype=torch.float64), tensor([66821.], dtype=torch.float64), tensor([58512.], dtype=torch.float64), tensor([3876.], dtype=torch.float64), tensor([39220.], dtype=torch.float64), tensor([58512.], dtype=torch.float64), tensor([14197.], dtype=torch.float64), tensor([9951.], dtype=torch.float64), tensor([58512.], dtype=torch.float64), tensor([14175.], dtype=torch.float64), tensor([66822.], dtype=torch.float64), tensor([66821.], dtype=torch.float64), tensor([39087.], dtype=torch.float64), tensor([9951.], dtype=torch.float64), tensor([39511.], dtype=torch.float64), tensor([15711.], dtype=torch.float64), tensor([66821.], dtype=torch.float64), tensor([58512.], dtype=torch.float64), tensor([14175.], dtype=torch.float64), tensor([14176.], dtype=torch.float64), tensor([14175.], dtype=torch.float64), tensor([23183.], dtype=torch.float64), tensor([66821.], dtype=torch.float64), tensor([66821.], dtype=torch.float64), tensor([58512.], dtype=torch.float64), tensor([58512.], dtype=torch.float64), tensor([66834.], dtype=torch.float64), tensor([66821.], dtype=torch.float64), tensor([66821.], dtype=torch.float64), tensor([66821.], dtype=torch.float64), tensor([66821.], dtype=torch.float64), tensor([58512.], dtype=torch.float64), tensor([15945.], dtype=torch.float64), tensor([39097.], dtype=torch.float64), tensor([14178.], dtype=torch.float64), tensor([66823.], dtype=torch.float64), tensor([17416.], dtype=torch.float64), tensor([14211.], dtype=torch.float64), tensor([66821.], dtype=torch.float64), tensor([58512.], dtype=torch.float64), tensor([9951.], dtype=torch.float64), tensor([14181.], dtype=torch.float64), tensor([14180.], dtype=torch.float64), tensor([39157.], dtype=torch.float64), tensor([58512.], dtype=torch.float64), tensor([58512.], dtype=torch.float64), tensor([9951.], dtype=torch.float64), tensor([34333.], dtype=torch.float64), tensor([9951.], dtype=torch.float64), tensor([66821.], dtype=torch.float64), tensor([66821.], dtype=torch.float64), tensor([66823.], dtype=torch.float64), tensor([66822.], dtype=torch.float64), tensor([66821.], dtype=torch.float64), tensor([9951.], dtype=torch.float64), tensor([39439.], dtype=torch.float64), tensor([9951.], dtype=torch.float64), tensor([58512.], dtype=torch.float64), tensor([58512.], dtype=torch.float64), tensor([14185.], dtype=torch.float64), tensor([9951.], dtype=torch.float64), tensor([14190.], dtype=torch.float64), tensor([27726.], dtype=torch.float64), tensor([14175.], dtype=torch.float64), tensor([66825.], dtype=torch.float64), tensor([14175.], dtype=torch.float64), tensor([14175.], dtype=torch.float64), tensor([9951.], dtype=torch.float64), tensor([9951.], dtype=torch.float64), tensor([66821.], dtype=torch.float64), tensor([14175.], dtype=torch.float64), tensor([66821.], dtype=torch.float64), tensor([38230.], dtype=torch.float64), tensor([58512.], dtype=torch.float64), tensor([58554.], dtype=torch.float64), tensor([66821.], dtype=torch.float64), tensor([66821.], dtype=torch.float64), tensor([66821.], dtype=torch.float64), tensor([27816.], dtype=torch.float64), tensor([66821.], dtype=torch.float64), tensor([14175.], dtype=torch.float64), tensor([14177.], dtype=torch.float64), tensor([58513.], dtype=torch.float64), tensor([66825.], dtype=torch.float64), tensor([9951.], dtype=torch.float64), tensor([66821.], dtype=torch.float64), tensor([38979.], dtype=torch.float64), tensor([66821.], dtype=torch.float64), tensor([58512.], dtype=torch.float64), tensor([16033.], dtype=torch.float64), tensor([9951.], dtype=torch.float64), tensor([66822.], dtype=torch.float64), tensor([15711.], dtype=torch.float64), tensor([14176.], dtype=torch.float64), tensor([14175.], dtype=torch.float64), tensor([66821.], dtype=torch.float64), tensor([14184.], dtype=torch.float64), tensor([17417.], dtype=torch.float64), tensor([38953.], dtype=torch.float64), tensor([38850.], dtype=torch.float64), tensor([18834.], dtype=torch.float64), tensor([66824.], dtype=torch.float64), tensor([66821.], dtype=torch.float64), tensor([58512.], dtype=torch.float64), tensor([38995.], dtype=torch.float64), tensor([58512.], dtype=torch.float64), tensor([9951.], dtype=torch.float64), tensor([58512.], dtype=torch.float64), tensor([39133.], dtype=torch.float64), tensor([58512.], dtype=torch.float64), tensor([58512.], dtype=torch.float64), tensor([58512.], dtype=torch.float64), tensor([34955.], dtype=torch.float64), tensor([66821.], dtype=torch.float64), tensor([14175.], dtype=torch.float64), tensor([14175.], dtype=torch.float64), tensor([9951.], dtype=torch.float64), tensor([14175.], dtype=torch.float64), tensor([66821.], dtype=torch.float64), tensor([58513.], dtype=torch.float64), tensor([14176.], dtype=torch.float64), tensor([14175.], dtype=torch.float64), tensor([66822.], dtype=torch.float64), tensor([14176.], dtype=torch.float64), tensor([14175.], dtype=torch.float64), tensor([58512.], dtype=torch.float64), tensor([14175.], dtype=torch.float64), tensor([38633.], dtype=torch.float64), tensor([16020.], dtype=torch.float64), tensor([39159.], dtype=torch.float64), tensor([58512.], dtype=torch.float64), tensor([21227.], dtype=torch.float64), tensor([66821.], dtype=torch.float64), tensor([58512.], dtype=torch.float64), tensor([38936.], dtype=torch.float64), tensor([66917.], dtype=torch.float64), tensor([39033.], dtype=torch.float64), tensor([58520.], dtype=torch.float64), tensor([14176.], dtype=torch.float64), tensor([9951.], dtype=torch.float64), tensor([15711.], dtype=torch.float64), tensor([66821.], dtype=torch.float64), tensor([13320.], dtype=torch.float64), tensor([35160.], dtype=torch.float64), tensor([34116.], dtype=torch.float64), tensor([34116.], dtype=torch.float64), tensor([14187.], dtype=torch.float64), tensor([66821.], dtype=torch.float64), tensor([17844.], dtype=torch.float64), tensor([39105.], dtype=torch.float64), tensor([66821.], dtype=torch.float64), tensor([14175.], dtype=torch.float64), tensor([66821.], dtype=torch.float64), tensor([66821.], dtype=torch.float64), tensor([66821.], dtype=torch.float64), tensor([38953.], dtype=torch.float64), tensor([35253.], dtype=torch.float64), tensor([66824.], dtype=torch.float64), tensor([39049.], dtype=torch.float64), tensor([66821.], dtype=torch.float64), tensor([14175.], dtype=torch.float64), tensor([9951.], dtype=torch.float64), tensor([38922.], dtype=torch.float64), tensor([58512.], dtype=torch.float64), tensor([14175.], dtype=torch.float64), tensor([9951.], dtype=torch.float64), tensor([58512.], dtype=torch.float64), tensor([66821.], dtype=torch.float64), tensor([17416.], dtype=torch.float64), tensor([58512.], dtype=torch.float64), tensor([39141.], dtype=torch.float64), tensor([15711.], dtype=torch.float64), tensor([14181.], dtype=torch.float64), tensor([9951.], dtype=torch.float64), tensor([66821.], dtype=torch.float64), tensor([9951.], dtype=torch.float64), tensor([14211.], dtype=torch.float64), tensor([66821.], dtype=torch.float64), tensor([58512.], dtype=torch.float64), tensor([38483.], dtype=torch.float64), tensor([58512.], dtype=torch.float64), tensor([58512.], dtype=torch.float64), tensor([58512.], dtype=torch.float64), tensor([58512.], dtype=torch.float64), tensor([14200.], dtype=torch.float64), tensor([66821.], dtype=torch.float64), tensor([14177.], dtype=torch.float64), tensor([14197.], dtype=torch.float64), tensor([17246.], dtype=torch.float64), tensor([58512.], dtype=torch.float64), tensor([14175.], dtype=torch.float64), tensor([66821.], dtype=torch.float64), tensor([9951.], dtype=torch.float64), tensor([38898.], dtype=torch.float64), tensor([3876.], dtype=torch.float64), tensor([21733.], dtype=torch.float64), tensor([66821.], dtype=torch.float64), tensor([35178.], dtype=torch.float64), tensor([66861.], dtype=torch.float64), tensor([66825.], dtype=torch.float64), tensor([9951.], dtype=torch.float64), tensor([66821.], dtype=torch.float64), tensor([66821.], dtype=torch.float64), tensor([9951.], dtype=torch.float64), tensor([9951.], dtype=torch.float64), tensor([58512.], dtype=torch.float64), tensor([58512.], dtype=torch.float64), tensor([66822.], dtype=torch.float64), tensor([66821.], dtype=torch.float64), tensor([9951.], dtype=torch.float64), tensor([18834.], dtype=torch.float64), tensor([58512.], dtype=torch.float64), tensor([38543.], dtype=torch.float64), tensor([58515.], dtype=torch.float64), tensor([27726.], dtype=torch.float64), tensor([35045.], dtype=torch.float64), tensor([9951.], dtype=torch.float64), tensor([19520.], dtype=torch.float64), tensor([14175.], dtype=torch.float64), tensor([66821.], dtype=torch.float64), tensor([66821.], dtype=torch.float64), tensor([14178.], dtype=torch.float64), tensor([9951.], dtype=torch.float64), tensor([66821.], dtype=torch.float64), tensor([14175.], dtype=torch.float64), tensor([9951.], dtype=torch.float64), tensor([19798.], dtype=torch.float64), tensor([58512.], dtype=torch.float64), tensor([66823.], dtype=torch.float64), tensor([3876.], dtype=torch.float64), tensor([15712.], dtype=torch.float64), tensor([38393.], dtype=torch.float64), tensor([9951.], dtype=torch.float64), tensor([9951.], dtype=torch.float64), tensor([39310.], dtype=torch.float64), tensor([14175.], dtype=torch.float64), tensor([35343.], dtype=torch.float64), tensor([58512.], dtype=torch.float64), tensor([39058.], dtype=torch.float64), tensor([58512.], dtype=torch.float64), tensor([15716.], dtype=torch.float64), tensor([39403.], dtype=torch.float64), tensor([35025.], dtype=torch.float64), tensor([39013.], dtype=torch.float64), tensor([66822.], dtype=torch.float64), tensor([58516.], dtype=torch.float64), tensor([66821.], dtype=torch.float64), tensor([38535.], dtype=torch.float64), tensor([66821.], dtype=torch.float64), tensor([14047.], dtype=torch.float64), tensor([38212.], dtype=torch.float64), tensor([38321.], dtype=torch.float64), tensor([14176.], dtype=torch.float64), tensor([14178.], dtype=torch.float64), tensor([17416.], dtype=torch.float64), tensor([66821.], dtype=torch.float64), tensor([66821.], dtype=torch.float64), tensor([66821.], dtype=torch.float64), tensor([58512.], dtype=torch.float64), tensor([58512.], dtype=torch.float64), tensor([39066.], dtype=torch.float64), tensor([66821.], dtype=torch.float64), tensor([9951.], dtype=torch.float64), tensor([58512.], dtype=torch.float64), tensor([9951.], dtype=torch.float64), tensor([66821.], dtype=torch.float64), tensor([58512.], dtype=torch.float64), tensor([15711.], dtype=torch.float64), tensor([58512.], dtype=torch.float64), tensor([66821.], dtype=torch.float64), tensor([9951.], dtype=torch.float64), tensor([3876.], dtype=torch.float64), tensor([66822.], dtype=torch.float64), tensor([66827.], dtype=torch.float64), tensor([58512.], dtype=torch.float64), tensor([66826.], dtype=torch.float64), tensor([9951.], dtype=torch.float64), tensor([66821.], dtype=torch.float64), tensor([66821.], dtype=torch.float64), tensor([15712.], dtype=torch.float64), tensor([58512.], dtype=torch.float64), tensor([58512.], dtype=torch.float64), tensor([14199.], dtype=torch.float64), tensor([58513.], dtype=torch.float64), tensor([58512.], dtype=torch.float64), tensor([58512.], dtype=torch.float64), tensor([66821.], dtype=torch.float64), tensor([20556.], dtype=torch.float64), tensor([58519.], dtype=torch.float64), tensor([17416.], dtype=torch.float64), tensor([24812.], dtype=torch.float64), tensor([58512.], dtype=torch.float64), tensor([14179.], dtype=torch.float64), tensor([14175.], dtype=torch.float64), tensor([14175.], dtype=torch.float64), tensor([9951.], dtype=torch.float64), tensor([14175.], dtype=torch.float64), tensor([58512.], dtype=torch.float64), tensor([14175.], dtype=torch.float64), tensor([66821.], dtype=torch.float64), tensor([58512.], dtype=torch.float64), tensor([3876.], dtype=torch.float64), tensor([66821.], dtype=torch.float64), tensor([34584.], dtype=torch.float64), tensor([58512.], dtype=torch.float64), tensor([66821.], dtype=torch.float64), tensor([11274.], dtype=torch.float64), tensor([15711.], dtype=torch.float64), tensor([14175.], dtype=torch.float64), tensor([58512.], dtype=torch.float64), tensor([66825.], dtype=torch.float64), tensor([58512.], dtype=torch.float64), tensor([66821.], dtype=torch.float64), tensor([9951.], dtype=torch.float64), tensor([9951.], dtype=torch.float64), tensor([66823.], dtype=torch.float64), tensor([58512.], dtype=torch.float64), tensor([14178.], dtype=torch.float64), tensor([38879.], dtype=torch.float64), tensor([14175.], dtype=torch.float64), tensor([66821.], dtype=torch.float64), tensor([12552.], dtype=torch.float64), tensor([14162.], dtype=torch.float64), tensor([66822.], dtype=torch.float64), tensor([14200.], dtype=torch.float64), tensor([66823.], dtype=torch.float64), tensor([66821.], dtype=torch.float64), tensor([38879.], dtype=torch.float64), tensor([66824.], dtype=torch.float64), tensor([39049.], dtype=torch.float64), tensor([58512.], dtype=torch.float64), tensor([66821.], dtype=torch.float64), tensor([66821.], dtype=torch.float64), tensor([14176.], dtype=torch.float64), tensor([58512.], dtype=torch.float64), tensor([14179.], dtype=torch.float64), tensor([66821.], dtype=torch.float64), tensor([66821.], dtype=torch.float64), tensor([66821.], dtype=torch.float64), tensor([58512.], dtype=torch.float64), tensor([14176.], dtype=torch.float64), tensor([14175.], dtype=torch.float64), tensor([14182.], dtype=torch.float64), tensor([38446.], dtype=torch.float64), tensor([39030.], dtype=torch.float64), tensor([66821.], dtype=torch.float64), tensor([14175.], dtype=torch.float64), tensor([38590.], dtype=torch.float64), tensor([9951.], dtype=torch.float64), tensor([18834.], dtype=torch.float64), tensor([58512.], dtype=torch.float64), tensor([66821.], dtype=torch.float64), tensor([66849.], dtype=torch.float64), tensor([39173.], dtype=torch.float64), tensor([35097.], dtype=torch.float64), tensor([14047.], dtype=torch.float64), tensor([15711.], dtype=torch.float64), tensor([66821.], dtype=torch.float64), tensor([58512.], dtype=torch.float64), tensor([9951.], dtype=torch.float64), tensor([66821.], dtype=torch.float64), tensor([9951.], dtype=torch.float64), tensor([58512.], dtype=torch.float64), tensor([35271.], dtype=torch.float64), tensor([14178.], dtype=torch.float64)]\n",
      "len(ls): 467\n",
      "running epoch: 49\n"
     ]
    },
    {
     "name": "stdout",
     "output_type": "stream",
     "text": [
      "pred_output shape: torch.Size([64, 1])\n"
     ]
    },
    {
     "name": "stdout",
     "output_type": "stream",
     "text": [
      "pred_output shape: torch.Size([64, 1])\n"
     ]
    },
    {
     "name": "stdout",
     "output_type": "stream",
     "text": [
      "pred_output shape: torch.Size([64, 1])\n"
     ]
    },
    {
     "name": "stdout",
     "output_type": "stream",
     "text": [
      "pred_output shape: torch.Size([64, 1])\n"
     ]
    },
    {
     "name": "stdout",
     "output_type": "stream",
     "text": [
      "pred_output shape: torch.Size([64, 1])\n"
     ]
    },
    {
     "name": "stdout",
     "output_type": "stream",
     "text": [
      "pred_output shape: torch.Size([64, 1])\n"
     ]
    },
    {
     "name": "stdout",
     "output_type": "stream",
     "text": [
      "pred_output shape: torch.Size([64, 1])\n"
     ]
    },
    {
     "name": "stdout",
     "output_type": "stream",
     "text": [
      "pred_output shape: torch.Size([64, 1])\n"
     ]
    },
    {
     "name": "stdout",
     "output_type": "stream",
     "text": [
      "pred_output shape: torch.Size([64, 1])\n"
     ]
    },
    {
     "name": "stdout",
     "output_type": "stream",
     "text": [
      "pred_output shape: torch.Size([64, 1])\n"
     ]
    },
    {
     "name": "stdout",
     "output_type": "stream",
     "text": [
      "pred_output shape: torch.Size([64, 1])\n"
     ]
    },
    {
     "name": "stdout",
     "output_type": "stream",
     "text": [
      "pred_output shape: torch.Size([64, 1])\n"
     ]
    },
    {
     "name": "stdout",
     "output_type": "stream",
     "text": [
      "pred_output shape: torch.Size([64, 1])\n"
     ]
    },
    {
     "name": "stdout",
     "output_type": "stream",
     "text": [
      "pred_output shape: torch.Size([64, 1])\n"
     ]
    },
    {
     "name": "stdout",
     "output_type": "stream",
     "text": [
      "pred_output shape: torch.Size([64, 1])\n"
     ]
    },
    {
     "name": "stdout",
     "output_type": "stream",
     "text": [
      "pred_output shape: torch.Size([64, 1])\n"
     ]
    },
    {
     "name": "stdout",
     "output_type": "stream",
     "text": [
      "pred_output shape: torch.Size([64, 1])\n"
     ]
    },
    {
     "name": "stdout",
     "output_type": "stream",
     "text": [
      "pred_output shape: torch.Size([64, 1])\n"
     ]
    },
    {
     "name": "stdout",
     "output_type": "stream",
     "text": [
      "pred_output shape: torch.Size([64, 1])\n"
     ]
    },
    {
     "name": "stdout",
     "output_type": "stream",
     "text": [
      "pred_output shape: torch.Size([64, 1])\n"
     ]
    },
    {
     "name": "stdout",
     "output_type": "stream",
     "text": [
      "pred_output shape: torch.Size([64, 1])\n"
     ]
    },
    {
     "name": "stdout",
     "output_type": "stream",
     "text": [
      "pred_output shape: torch.Size([64, 1])\n"
     ]
    },
    {
     "name": "stdout",
     "output_type": "stream",
     "text": [
      "pred_output shape: torch.Size([64, 1])\n"
     ]
    },
    {
     "name": "stdout",
     "output_type": "stream",
     "text": [
      "pred_output shape: torch.Size([64, 1])\n"
     ]
    },
    {
     "name": "stdout",
     "output_type": "stream",
     "text": [
      "pred_output shape: torch.Size([64, 1])\n"
     ]
    },
    {
     "name": "stdout",
     "output_type": "stream",
     "text": [
      "pred_output shape: torch.Size([64, 1])\n"
     ]
    },
    {
     "name": "stdout",
     "output_type": "stream",
     "text": [
      "pred_output shape: torch.Size([64, 1])\n"
     ]
    },
    {
     "name": "stdout",
     "output_type": "stream",
     "text": [
      "pred_output shape: torch.Size([64, 1])\n"
     ]
    },
    {
     "name": "stdout",
     "output_type": "stream",
     "text": [
      "pred_output shape: torch.Size([64, 1])\n"
     ]
    },
    {
     "name": "stdout",
     "output_type": "stream",
     "text": [
      "pred_output shape: torch.Size([9, 1])\n"
     ]
    },
    {
     "name": "stdout",
     "output_type": "stream",
     "text": [
      "pred_output shape: torch.Size([64, 1])\n"
     ]
    },
    {
     "name": "stdout",
     "output_type": "stream",
     "text": [
      "pred_output shape: torch.Size([64, 1])\n"
     ]
    },
    {
     "name": "stdout",
     "output_type": "stream",
     "text": [
      "pred_output shape: torch.Size([64, 1])\n"
     ]
    },
    {
     "name": "stdout",
     "output_type": "stream",
     "text": [
      "pred_output shape: torch.Size([64, 1])\n"
     ]
    },
    {
     "name": "stdout",
     "output_type": "stream",
     "text": [
      "pred_output shape: torch.Size([64, 1])\n"
     ]
    },
    {
     "name": "stdout",
     "output_type": "stream",
     "text": [
      "pred_output shape: torch.Size([64, 1])\n"
     ]
    },
    {
     "name": "stdout",
     "output_type": "stream",
     "text": [
      "pred_output shape: torch.Size([64, 1])\n"
     ]
    },
    {
     "name": "stdout",
     "output_type": "stream",
     "text": [
      "pred_output shape: torch.Size([19, 1])\n",
      "ps: [35268.89   13455.445  35224.688  12253.904  67124.     13057.194\n",
      " 67126.11   64274.676  35120.266  12242.937  67125.98   12240.671\n",
      " 64274.12   64281.293  67125.98   64277.37   35124.42   67125.98\n",
      " 64279.516  35361.035  64277.492  35242.492  14827.863  64269.77\n",
      " 67125.22   67125.28   12244.523  67125.15   13451.096  67123.74\n",
      " 64271.855  64278.1    35179.465  64277.242  67125.28   26790.066\n",
      " 67125.86   35195.105  12242.434  64278.715  64277.125  67125.28\n",
      " 67125.15   64275.836  64266.89   35163.535  67123.94   35120.6\n",
      " 64270.266  12706.599  12242.725  12238.371  13052.152  64273.33\n",
      " 35124.855  35229.96   64278.598  67124.9    67125.73   67123.55\n",
      " 67124.96   12242.341  35124.29   12242.469  64275.594  67125.92\n",
      " 64273.754  67124.     12226.81   12235.861  67125.86   67122.84\n",
      " 35265.63   12241.43   35267.547  64275.652  12242.294  67123.74\n",
      " 13045.471  67125.92   67126.11   13052.912  12246.007  13059.747\n",
      " 12231.078  12708.962  64278.348  67125.86   64275.652  12242.341\n",
      " 67125.8    12250.013  12243.379  67125.28   35344.348  12232.665\n",
      " 67125.98   64272.035  67125.86   67125.98   67125.86   13054.419\n",
      " 64278.47   67125.92   64277.312  12222.03   35180.203  64271.61\n",
      " 12243.939  12245.096  64279.94   12243.309  67125.8    67125.28\n",
      " 35212.73   12249.429  35167.324  13055.477  67124.58   64274.555\n",
      " 12248.903  12251.03   12251.134  35408.08   67124.96   67125.086\n",
      " 64275.652  64280.99   67125.98   67125.22   67124.96   67125.28\n",
      " 67125.086  64273.387  12712.295  35184.434  12242.4795 67125.336\n",
      " 12242.411  12237.402  67125.86   64272.34   12242.574  12243.986\n",
      " 12707.847  35128.406  64277.797  64276.086  12242.656  35266.74\n",
      " 12248.366  67125.336  67125.98   67125.92   67122.84   67126.04\n",
      " 12242.83   35174.2    13056.858  64266.21   64275.406  12244.185\n",
      " 12235.826  12251.8    36909.277  12238.22   67125.92   12242.609\n",
      " 12244.01   12253.811  12245.259  67123.234  12704.9375 67123.234\n",
      " 35168.26   64278.715  64279.39   67124.445  67125.336  67126.04\n",
      " 35406.895  67125.336  12235.419  12246.626  64278.41   67124.83\n",
      " 12241.3    67125.98   35169.035  67125.336  64276.875  13870.644\n",
      " 12260.777  67125.86   13053.148  12261.42   12242.982  67126.17\n",
      " 12245.785  12240.997  35123.484  35217.633  13450.8    67125.336\n",
      " 67124.96   64271.61   35163.566  64275.406  12256.943  64275.473\n",
      " 35136.918  64276.875  64278.902  64276.938  35231.305  67125.86\n",
      " 12242.398  12258.814  12242.211  12706.975  67126.11   64277.617\n",
      " 12245.435  12298.721  67125.15   12243.227  12248.985  64276.395\n",
      " 12243.543  35165.145  13878.94   35232.145  64276.51   35376.754\n",
      " 67125.15   64269.22   35232.38   67125.86   35244.11   64278.715\n",
      " 12237.402  12242.586  13060.283  67125.22   12238.593  35121.305\n",
      " 35120.84   35118.793  12708.053  67124.     36317.785  35233.02\n",
      " 67125.98   12238.5    67125.98   67125.28   67125.86   35191.375\n",
      " 35209.1    67125.336  35203.13   67122.84   12243.251  12244.383\n",
      " 35119.93   64281.05   12243.075  13046.464  64274.86   67125.086\n",
      " 12249.172  64277.926  35198.055  13048.493  12256.872  12242.632\n",
      " 67126.11   13053.459  12241.161  67125.92   64276.02   35229.69\n",
      " 64279.457  64269.156  64279.332  64280.31   12242.725  67122.78\n",
      " 12247.758  12242.89   21022.97   64265.785  12243.659  67125.86\n",
      " 12237.508  35170.777  12225.411  12243.063  67125.28   35120.133\n",
      " 67125.92   67125.02   12239.305  67125.22   67124.06   12243.403\n",
      " 12253.893  64272.953  64277.492  67125.28   67125.92   12238.301\n",
      " 13455.367  64270.938  35176.145  64266.766  35455.047  35269.594\n",
      " 12240.204  14829.603  12254.22   67124.96   67125.28   12240.367\n",
      " 12250.153  67125.86   12242.469  12231.417  35271.98   64266.336\n",
      " 67125.73   13038.79   13039.3    35174.902  12242.772  12243.543\n",
      " 35167.258  12248.974  35163.465  64276.453  35159.508  64274.555\n",
      " 13054.119  35152.5    35120.535  35122.38   67125.22   64271.184\n",
      " 67125.22   35180.64   67122.91   12243.718  35167.29   35175.508\n",
      " 12245.282  12243.1455 12244.08   67126.11   67125.02   67124.516\n",
      " 64279.82   64272.22   35161.32   67123.17   12239.27   64274.\n",
      " 12238.465  67125.86   64268.664  13061.479  64277.926  67124.06\n",
      " 12237.916  12227.884  67125.15   67126.11   64281.168  67125.336\n",
      " 12247.408  67125.336  67123.61   13045.3955 64275.594  64268.73\n",
      " 12243.063  64274.06   64277.37   64276.145  67123.17   35323.688\n",
      " 64277.312  12243.8    35340.473  64270.383  12248.261  12243.319\n",
      " 12242.27   12244.6875 28553.283  64279.766  12242.504  67125.336\n",
      " 64270.504  12228.001  67125.086  35215.52   64274.426  67124.96\n",
      " 28530.172  13055.515  12249.534  64282.582  67125.86   64274.92\n",
      " 67125.98   13050.933  12242.493  67125.086  64277.37   12706.477\n",
      " 35208.703  12266.66   67125.22   13880.647  15017.163  67126.04\n",
      " 12243.192  67124.96   67126.11   35168.97   67125.86   35257.387\n",
      " 64277.188  67123.68   67122.84   12242.562  64274.     12254.348\n",
      " 67122.78   67122.91   67125.22   64277.617  12245.937  12243.192\n",
      " 12243.263  35117.99   35183.996  67125.086  12253.039  35163.066\n",
      " 12238.581  13454.803  64268.24   67125.86   67125.92   35226.434\n",
      " 35135.477  12243.684  13047.262  67122.78   64277.312  13055.526\n",
      " 67125.22   14832.316  64273.754  35246.094  12247.127 ]\n"
     ]
    },
    {
     "name": "stdout",
     "output_type": "stream",
     "text": [
      "ls: [tensor([35153.], dtype=torch.float64), tensor([9951.], dtype=torch.float64), tensor([38815.], dtype=torch.float64), tensor([14175.], dtype=torch.float64), tensor([66821.], dtype=torch.float64), tensor([9951.], dtype=torch.float64), tensor([66821.], dtype=torch.float64), tensor([58513.], dtype=torch.float64), tensor([39421.], dtype=torch.float64), tensor([9951.], dtype=torch.float64), tensor([66821.], dtype=torch.float64), tensor([14187.], dtype=torch.float64), tensor([58512.], dtype=torch.float64), tensor([58512.], dtype=torch.float64), tensor([66822.], dtype=torch.float64), tensor([58512.], dtype=torch.float64), tensor([35343.], dtype=torch.float64), tensor([66823.], dtype=torch.float64), tensor([58512.], dtype=torch.float64), tensor([19798.], dtype=torch.float64), tensor([58512.], dtype=torch.float64), tensor([38590.], dtype=torch.float64), tensor([9951.], dtype=torch.float64), tensor([58513.], dtype=torch.float64), tensor([66821.], dtype=torch.float64), tensor([66821.], dtype=torch.float64), tensor([9951.], dtype=torch.float64), tensor([66821.], dtype=torch.float64), tensor([7639.], dtype=torch.float64), tensor([66821.], dtype=torch.float64), tensor([58512.], dtype=torch.float64), tensor([58512.], dtype=torch.float64), tensor([38825.], dtype=torch.float64), tensor([58512.], dtype=torch.float64), tensor([66821.], dtype=torch.float64), tensor([15913.], dtype=torch.float64), tensor([66821.], dtype=torch.float64), tensor([39267.], dtype=torch.float64), tensor([14175.], dtype=torch.float64), tensor([58512.], dtype=torch.float64), tensor([58513.], dtype=torch.float64), tensor([66824.], dtype=torch.float64), tensor([66821.], dtype=torch.float64), tensor([58512.], dtype=torch.float64), tensor([58512.], dtype=torch.float64), tensor([39130.], dtype=torch.float64), tensor([66821.], dtype=torch.float64), tensor([38957.], dtype=torch.float64), tensor([58512.], dtype=torch.float64), tensor([14175.], dtype=torch.float64), tensor([17508.], dtype=torch.float64), tensor([14175.], dtype=torch.float64), tensor([15711.], dtype=torch.float64), tensor([58512.], dtype=torch.float64), tensor([34609.], dtype=torch.float64), tensor([39097.], dtype=torch.float64), tensor([58512.], dtype=torch.float64), tensor([66824.], dtype=torch.float64), tensor([66821.], dtype=torch.float64), tensor([66822.], dtype=torch.float64), tensor([66821.], dtype=torch.float64), tensor([9951.], dtype=torch.float64), tensor([38861.], dtype=torch.float64), tensor([9951.], dtype=torch.float64), tensor([58512.], dtype=torch.float64), tensor([66823.], dtype=torch.float64), tensor([58518.], dtype=torch.float64), tensor([66821.], dtype=torch.float64), tensor([3876.], dtype=torch.float64), tensor([9951.], dtype=torch.float64), tensor([66821.], dtype=torch.float64), tensor([66821.], dtype=torch.float64), tensor([38465.], dtype=torch.float64), tensor([9951.], dtype=torch.float64), tensor([39229.], dtype=torch.float64), tensor([58512.], dtype=torch.float64), tensor([9951.], dtype=torch.float64), tensor([66821.], dtype=torch.float64), tensor([15711.], dtype=torch.float64), tensor([66837.], dtype=torch.float64), tensor([66821.], dtype=torch.float64), tensor([15711.], dtype=torch.float64), tensor([17455.], dtype=torch.float64), tensor([15711.], dtype=torch.float64), tensor([3876.], dtype=torch.float64), tensor([14176.], dtype=torch.float64), tensor([58514.], dtype=torch.float64), tensor([66821.], dtype=torch.float64), tensor([58513.], dtype=torch.float64), tensor([9951.], dtype=torch.float64), tensor([66821.], dtype=torch.float64), tensor([14175.], dtype=torch.float64), tensor([9951.], dtype=torch.float64), tensor([66824.], dtype=torch.float64), tensor([31180.], dtype=torch.float64), tensor([14175.], dtype=torch.float64), tensor([66821.], dtype=torch.float64), tensor([58512.], dtype=torch.float64), tensor([66844.], dtype=torch.float64), tensor([66821.], dtype=torch.float64), tensor([66827.], dtype=torch.float64), tensor([15711.], dtype=torch.float64), tensor([58512.], dtype=torch.float64), tensor([66821.], dtype=torch.float64), tensor([58512.], dtype=torch.float64), tensor([3876.], dtype=torch.float64), tensor([39220.], dtype=torch.float64), tensor([58512.], dtype=torch.float64), tensor([14197.], dtype=torch.float64), tensor([9951.], dtype=torch.float64), tensor([58512.], dtype=torch.float64), tensor([14175.], dtype=torch.float64), tensor([66822.], dtype=torch.float64), tensor([66821.], dtype=torch.float64), tensor([39087.], dtype=torch.float64), tensor([9951.], dtype=torch.float64), tensor([39511.], dtype=torch.float64), tensor([15711.], dtype=torch.float64), tensor([66821.], dtype=torch.float64), tensor([58512.], dtype=torch.float64), tensor([14175.], dtype=torch.float64), tensor([14176.], dtype=torch.float64), tensor([14175.], dtype=torch.float64), tensor([23183.], dtype=torch.float64), tensor([66821.], dtype=torch.float64), tensor([66821.], dtype=torch.float64), tensor([58512.], dtype=torch.float64), tensor([58512.], dtype=torch.float64), tensor([66834.], dtype=torch.float64), tensor([66821.], dtype=torch.float64), tensor([66821.], dtype=torch.float64), tensor([66821.], dtype=torch.float64), tensor([66821.], dtype=torch.float64), tensor([58512.], dtype=torch.float64), tensor([15945.], dtype=torch.float64), tensor([39097.], dtype=torch.float64), tensor([14178.], dtype=torch.float64), tensor([66823.], dtype=torch.float64), tensor([17416.], dtype=torch.float64), tensor([14211.], dtype=torch.float64), tensor([66821.], dtype=torch.float64), tensor([58512.], dtype=torch.float64), tensor([9951.], dtype=torch.float64), tensor([14181.], dtype=torch.float64), tensor([14180.], dtype=torch.float64), tensor([39157.], dtype=torch.float64), tensor([58512.], dtype=torch.float64), tensor([58512.], dtype=torch.float64), tensor([9951.], dtype=torch.float64), tensor([34333.], dtype=torch.float64), tensor([9951.], dtype=torch.float64), tensor([66821.], dtype=torch.float64), tensor([66821.], dtype=torch.float64), tensor([66823.], dtype=torch.float64), tensor([66822.], dtype=torch.float64), tensor([66821.], dtype=torch.float64), tensor([9951.], dtype=torch.float64), tensor([39439.], dtype=torch.float64), tensor([9951.], dtype=torch.float64), tensor([58512.], dtype=torch.float64), tensor([58512.], dtype=torch.float64), tensor([14185.], dtype=torch.float64), tensor([9951.], dtype=torch.float64), tensor([14190.], dtype=torch.float64), tensor([27726.], dtype=torch.float64), tensor([14175.], dtype=torch.float64), tensor([66825.], dtype=torch.float64), tensor([14175.], dtype=torch.float64), tensor([14175.], dtype=torch.float64), tensor([9951.], dtype=torch.float64), tensor([9951.], dtype=torch.float64), tensor([66821.], dtype=torch.float64), tensor([14175.], dtype=torch.float64), tensor([66821.], dtype=torch.float64), tensor([38230.], dtype=torch.float64), tensor([58512.], dtype=torch.float64), tensor([58554.], dtype=torch.float64), tensor([66821.], dtype=torch.float64), tensor([66821.], dtype=torch.float64), tensor([66821.], dtype=torch.float64), tensor([27816.], dtype=torch.float64), tensor([66821.], dtype=torch.float64), tensor([14175.], dtype=torch.float64), tensor([14177.], dtype=torch.float64), tensor([58513.], dtype=torch.float64), tensor([66825.], dtype=torch.float64), tensor([9951.], dtype=torch.float64), tensor([66821.], dtype=torch.float64), tensor([38979.], dtype=torch.float64), tensor([66821.], dtype=torch.float64), tensor([58512.], dtype=torch.float64), tensor([16033.], dtype=torch.float64), tensor([9951.], dtype=torch.float64), tensor([66822.], dtype=torch.float64), tensor([15711.], dtype=torch.float64), tensor([14176.], dtype=torch.float64), tensor([14175.], dtype=torch.float64), tensor([66821.], dtype=torch.float64), tensor([14184.], dtype=torch.float64), tensor([17417.], dtype=torch.float64), tensor([38953.], dtype=torch.float64), tensor([38850.], dtype=torch.float64), tensor([18834.], dtype=torch.float64), tensor([66824.], dtype=torch.float64), tensor([66821.], dtype=torch.float64), tensor([58512.], dtype=torch.float64), tensor([38995.], dtype=torch.float64), tensor([58512.], dtype=torch.float64), tensor([9951.], dtype=torch.float64), tensor([58512.], dtype=torch.float64), tensor([39133.], dtype=torch.float64), tensor([58512.], dtype=torch.float64), tensor([58512.], dtype=torch.float64), tensor([58512.], dtype=torch.float64), tensor([34955.], dtype=torch.float64), tensor([66821.], dtype=torch.float64), tensor([14175.], dtype=torch.float64), tensor([14175.], dtype=torch.float64), tensor([9951.], dtype=torch.float64), tensor([14175.], dtype=torch.float64), tensor([66821.], dtype=torch.float64), tensor([58513.], dtype=torch.float64), tensor([14176.], dtype=torch.float64), tensor([14175.], dtype=torch.float64), tensor([66822.], dtype=torch.float64), tensor([14176.], dtype=torch.float64), tensor([14175.], dtype=torch.float64), tensor([58512.], dtype=torch.float64), tensor([14175.], dtype=torch.float64), tensor([38633.], dtype=torch.float64), tensor([16020.], dtype=torch.float64), tensor([39159.], dtype=torch.float64), tensor([58512.], dtype=torch.float64), tensor([21227.], dtype=torch.float64), tensor([66821.], dtype=torch.float64), tensor([58512.], dtype=torch.float64), tensor([38936.], dtype=torch.float64), tensor([66917.], dtype=torch.float64), tensor([39033.], dtype=torch.float64), tensor([58520.], dtype=torch.float64), tensor([14176.], dtype=torch.float64), tensor([9951.], dtype=torch.float64), tensor([15711.], dtype=torch.float64), tensor([66821.], dtype=torch.float64), tensor([13320.], dtype=torch.float64), tensor([35160.], dtype=torch.float64), tensor([34116.], dtype=torch.float64), tensor([34116.], dtype=torch.float64), tensor([14187.], dtype=torch.float64), tensor([66821.], dtype=torch.float64), tensor([17844.], dtype=torch.float64), tensor([39105.], dtype=torch.float64), tensor([66821.], dtype=torch.float64), tensor([14175.], dtype=torch.float64), tensor([66821.], dtype=torch.float64), tensor([66821.], dtype=torch.float64), tensor([66821.], dtype=torch.float64), tensor([38953.], dtype=torch.float64), tensor([35253.], dtype=torch.float64), tensor([66824.], dtype=torch.float64), tensor([39049.], dtype=torch.float64), tensor([66821.], dtype=torch.float64), tensor([14175.], dtype=torch.float64), tensor([9951.], dtype=torch.float64), tensor([38922.], dtype=torch.float64), tensor([58512.], dtype=torch.float64), tensor([14175.], dtype=torch.float64), tensor([9951.], dtype=torch.float64), tensor([58512.], dtype=torch.float64), tensor([66821.], dtype=torch.float64), tensor([17416.], dtype=torch.float64), tensor([58512.], dtype=torch.float64), tensor([39141.], dtype=torch.float64), tensor([15711.], dtype=torch.float64), tensor([14181.], dtype=torch.float64), tensor([9951.], dtype=torch.float64), tensor([66821.], dtype=torch.float64), tensor([9951.], dtype=torch.float64), tensor([14211.], dtype=torch.float64), tensor([66821.], dtype=torch.float64), tensor([58512.], dtype=torch.float64), tensor([38483.], dtype=torch.float64), tensor([58512.], dtype=torch.float64), tensor([58512.], dtype=torch.float64), tensor([58512.], dtype=torch.float64), tensor([58512.], dtype=torch.float64), tensor([14200.], dtype=torch.float64), tensor([66821.], dtype=torch.float64), tensor([14177.], dtype=torch.float64), tensor([14197.], dtype=torch.float64), tensor([17246.], dtype=torch.float64), tensor([58512.], dtype=torch.float64), tensor([14175.], dtype=torch.float64), tensor([66821.], dtype=torch.float64), tensor([9951.], dtype=torch.float64), tensor([38898.], dtype=torch.float64), tensor([3876.], dtype=torch.float64), tensor([21733.], dtype=torch.float64), tensor([66821.], dtype=torch.float64), tensor([35178.], dtype=torch.float64), tensor([66861.], dtype=torch.float64), tensor([66825.], dtype=torch.float64), tensor([9951.], dtype=torch.float64), tensor([66821.], dtype=torch.float64), tensor([66821.], dtype=torch.float64), tensor([9951.], dtype=torch.float64), tensor([9951.], dtype=torch.float64), tensor([58512.], dtype=torch.float64), tensor([58512.], dtype=torch.float64), tensor([66822.], dtype=torch.float64), tensor([66821.], dtype=torch.float64), tensor([9951.], dtype=torch.float64), tensor([18834.], dtype=torch.float64), tensor([58512.], dtype=torch.float64), tensor([38543.], dtype=torch.float64), tensor([58515.], dtype=torch.float64), tensor([27726.], dtype=torch.float64), tensor([35045.], dtype=torch.float64), tensor([9951.], dtype=torch.float64), tensor([19520.], dtype=torch.float64), tensor([14175.], dtype=torch.float64), tensor([66821.], dtype=torch.float64), tensor([66821.], dtype=torch.float64), tensor([14178.], dtype=torch.float64), tensor([9951.], dtype=torch.float64), tensor([66821.], dtype=torch.float64), tensor([14175.], dtype=torch.float64), tensor([9951.], dtype=torch.float64), tensor([19798.], dtype=torch.float64), tensor([58512.], dtype=torch.float64), tensor([66823.], dtype=torch.float64), tensor([3876.], dtype=torch.float64), tensor([15712.], dtype=torch.float64), tensor([38393.], dtype=torch.float64), tensor([9951.], dtype=torch.float64), tensor([9951.], dtype=torch.float64), tensor([39310.], dtype=torch.float64), tensor([14175.], dtype=torch.float64), tensor([35343.], dtype=torch.float64), tensor([58512.], dtype=torch.float64), tensor([39058.], dtype=torch.float64), tensor([58512.], dtype=torch.float64), tensor([15716.], dtype=torch.float64), tensor([39403.], dtype=torch.float64), tensor([35025.], dtype=torch.float64), tensor([39013.], dtype=torch.float64), tensor([66822.], dtype=torch.float64), tensor([58516.], dtype=torch.float64), tensor([66821.], dtype=torch.float64), tensor([38535.], dtype=torch.float64), tensor([66821.], dtype=torch.float64), tensor([14047.], dtype=torch.float64), tensor([38212.], dtype=torch.float64), tensor([38321.], dtype=torch.float64), tensor([14176.], dtype=torch.float64), tensor([14178.], dtype=torch.float64), tensor([17416.], dtype=torch.float64), tensor([66821.], dtype=torch.float64), tensor([66821.], dtype=torch.float64), tensor([66821.], dtype=torch.float64), tensor([58512.], dtype=torch.float64), tensor([58512.], dtype=torch.float64), tensor([39066.], dtype=torch.float64), tensor([66821.], dtype=torch.float64), tensor([9951.], dtype=torch.float64), tensor([58512.], dtype=torch.float64), tensor([9951.], dtype=torch.float64), tensor([66821.], dtype=torch.float64), tensor([58512.], dtype=torch.float64), tensor([15711.], dtype=torch.float64), tensor([58512.], dtype=torch.float64), tensor([66821.], dtype=torch.float64), tensor([9951.], dtype=torch.float64), tensor([3876.], dtype=torch.float64), tensor([66822.], dtype=torch.float64), tensor([66827.], dtype=torch.float64), tensor([58512.], dtype=torch.float64), tensor([66826.], dtype=torch.float64), tensor([9951.], dtype=torch.float64), tensor([66821.], dtype=torch.float64), tensor([66821.], dtype=torch.float64), tensor([15712.], dtype=torch.float64), tensor([58512.], dtype=torch.float64), tensor([58512.], dtype=torch.float64), tensor([14199.], dtype=torch.float64), tensor([58513.], dtype=torch.float64), tensor([58512.], dtype=torch.float64), tensor([58512.], dtype=torch.float64), tensor([66821.], dtype=torch.float64), tensor([20556.], dtype=torch.float64), tensor([58519.], dtype=torch.float64), tensor([17416.], dtype=torch.float64), tensor([24812.], dtype=torch.float64), tensor([58512.], dtype=torch.float64), tensor([14179.], dtype=torch.float64), tensor([14175.], dtype=torch.float64), tensor([14175.], dtype=torch.float64), tensor([9951.], dtype=torch.float64), tensor([14175.], dtype=torch.float64), tensor([58512.], dtype=torch.float64), tensor([14175.], dtype=torch.float64), tensor([66821.], dtype=torch.float64), tensor([58512.], dtype=torch.float64), tensor([3876.], dtype=torch.float64), tensor([66821.], dtype=torch.float64), tensor([34584.], dtype=torch.float64), tensor([58512.], dtype=torch.float64), tensor([66821.], dtype=torch.float64), tensor([11274.], dtype=torch.float64), tensor([15711.], dtype=torch.float64), tensor([14175.], dtype=torch.float64), tensor([58512.], dtype=torch.float64), tensor([66825.], dtype=torch.float64), tensor([58512.], dtype=torch.float64), tensor([66821.], dtype=torch.float64), tensor([9951.], dtype=torch.float64), tensor([9951.], dtype=torch.float64), tensor([66823.], dtype=torch.float64), tensor([58512.], dtype=torch.float64), tensor([14178.], dtype=torch.float64), tensor([38879.], dtype=torch.float64), tensor([14175.], dtype=torch.float64), tensor([66821.], dtype=torch.float64), tensor([12552.], dtype=torch.float64), tensor([14162.], dtype=torch.float64), tensor([66822.], dtype=torch.float64), tensor([14200.], dtype=torch.float64), tensor([66823.], dtype=torch.float64), tensor([66821.], dtype=torch.float64), tensor([38879.], dtype=torch.float64), tensor([66824.], dtype=torch.float64), tensor([39049.], dtype=torch.float64), tensor([58512.], dtype=torch.float64), tensor([66821.], dtype=torch.float64), tensor([66821.], dtype=torch.float64), tensor([14176.], dtype=torch.float64), tensor([58512.], dtype=torch.float64), tensor([14179.], dtype=torch.float64), tensor([66821.], dtype=torch.float64), tensor([66821.], dtype=torch.float64), tensor([66821.], dtype=torch.float64), tensor([58512.], dtype=torch.float64), tensor([14176.], dtype=torch.float64), tensor([14175.], dtype=torch.float64), tensor([14182.], dtype=torch.float64), tensor([38446.], dtype=torch.float64), tensor([39030.], dtype=torch.float64), tensor([66821.], dtype=torch.float64), tensor([14175.], dtype=torch.float64), tensor([38590.], dtype=torch.float64), tensor([9951.], dtype=torch.float64), tensor([18834.], dtype=torch.float64), tensor([58512.], dtype=torch.float64), tensor([66821.], dtype=torch.float64), tensor([66849.], dtype=torch.float64), tensor([39173.], dtype=torch.float64), tensor([35097.], dtype=torch.float64), tensor([14047.], dtype=torch.float64), tensor([15711.], dtype=torch.float64), tensor([66821.], dtype=torch.float64), tensor([58512.], dtype=torch.float64), tensor([9951.], dtype=torch.float64), tensor([66821.], dtype=torch.float64), tensor([9951.], dtype=torch.float64), tensor([58512.], dtype=torch.float64), tensor([35271.], dtype=torch.float64), tensor([14178.], dtype=torch.float64)]\n",
      "len(ls): 467\n"
     ]
    }
   ],
   "source": [
    "# Example numpy label\n",
    "import numpy as np\n",
    "import torch.nn as nn\n",
    "import importlib\n",
    "\n",
    "from model import trainer\n",
    "importlib.reload(trainer)\n",
    "from  model.trainer import train_single, train\n",
    "\n",
    "\n",
    "crit = nn.MSELoss()\n",
    "\n",
    "# Train the model with the numpy label\n",
    "# trained_model = train_single(model, dataset, dataset, crit, cost_norm, args)\n",
    "model, best_model_path, train_embeddings, val_embeddings = train(model, train_dataset, val_dataset, crit, cost_norm, args)\n"
   ]
  },
  {
   "cell_type": "code",
   "execution_count": 11,
   "id": "4b3888b1",
   "metadata": {
    "execution": {
     "iopub.execute_input": "2024-12-15T02:38:38.022687Z",
     "iopub.status.busy": "2024-12-15T02:38:38.022147Z",
     "iopub.status.idle": "2024-12-15T02:38:38.031402Z",
     "shell.execute_reply": "2024-12-15T02:38:38.030020Z"
    },
    "papermill": {
     "duration": 0.133155,
     "end_time": "2024-12-15T02:38:38.033906",
     "exception": false,
     "start_time": "2024-12-15T02:38:37.900751",
     "status": "completed"
    },
    "tags": []
   },
   "outputs": [
    {
     "data": {
      "text/plain": [
       "'-3799469494494950040.pt'"
      ]
     },
     "execution_count": 11,
     "metadata": {},
     "output_type": "execute_result"
    }
   ],
   "source": [
    "best_model_path"
   ]
  },
  {
   "cell_type": "code",
   "execution_count": 12,
   "id": "4d6c278b",
   "metadata": {
    "execution": {
     "iopub.execute_input": "2024-12-15T02:38:38.270587Z",
     "iopub.status.busy": "2024-12-15T02:38:38.269547Z",
     "iopub.status.idle": "2024-12-15T02:38:38.280352Z",
     "shell.execute_reply": "2024-12-15T02:38:38.278121Z"
    },
    "papermill": {
     "duration": 0.131925,
     "end_time": "2024-12-15T02:38:38.282801",
     "exception": false,
     "start_time": "2024-12-15T02:38:38.150876",
     "status": "completed"
    },
    "tags": []
   },
   "outputs": [
    {
     "data": {
      "text/plain": [
       "10"
      ]
     },
     "execution_count": 12,
     "metadata": {},
     "output_type": "execute_result"
    }
   ],
   "source": [
    "len(loaded_val_indices[:10])"
   ]
  },
  {
   "cell_type": "code",
   "execution_count": 13,
   "id": "9daaf976",
   "metadata": {
    "execution": {
     "iopub.execute_input": "2024-12-15T02:38:38.605143Z",
     "iopub.status.busy": "2024-12-15T02:38:38.603655Z",
     "iopub.status.idle": "2024-12-15T02:38:38.612825Z",
     "shell.execute_reply": "2024-12-15T02:38:38.611645Z"
    },
    "papermill": {
     "duration": 0.127154,
     "end_time": "2024-12-15T02:38:38.615290",
     "exception": false,
     "start_time": "2024-12-15T02:38:38.488136",
     "status": "completed"
    },
    "tags": []
   },
   "outputs": [
    {
     "data": {
      "text/plain": [
       "467"
      ]
     },
     "execution_count": 13,
     "metadata": {},
     "output_type": "execute_result"
    }
   ],
   "source": [
    "len(val_embeddings)"
   ]
  },
  {
   "cell_type": "code",
   "execution_count": 14,
   "id": "03e3327b",
   "metadata": {
    "execution": {
     "iopub.execute_input": "2024-12-15T02:38:38.862493Z",
     "iopub.status.busy": "2024-12-15T02:38:38.861143Z",
     "iopub.status.idle": "2024-12-15T02:38:39.021307Z",
     "shell.execute_reply": "2024-12-15T02:38:39.019408Z"
    },
    "papermill": {
     "duration": 0.277541,
     "end_time": "2024-12-15T02:38:39.024697",
     "exception": false,
     "start_time": "2024-12-15T02:38:38.747156",
     "status": "completed"
    },
    "tags": []
   },
   "outputs": [
    {
     "name": "stdout",
     "output_type": "stream",
     "text": [
      "Validation DataFrame created and saved to validation_embeddings.csv\n",
      "Embeddings saved to validation_embeddings.npy\n",
      "   val_index                                  filename  \\\n",
      "0       1056  query_1952_2024-12-03-21.34.02.429279.pt   \n",
      "1       2323   query_993_2024-12-03-21.10.08.618148.pt   \n",
      "2        655  query_1591_2024-12-03-21.23.17.861948.pt   \n",
      "3       2101   query_793_2024-12-03-21.05.49.462784.pt   \n",
      "4       1401  query_2262_2024-12-03-21.44.00.539251.pt   \n",
      "\n",
      "                                           embedding  \n",
      "0  [-114.55693, -101.882355, -14.314699, -1.86743...  \n",
      "1  [-104.10589, -100.892784, -15.305394, 19.10723...  \n",
      "2  [-114.54547, -101.893394, -14.308007, -1.88108...  \n",
      "3  [-89.35007, -103.53369, -24.114931, 38.514816,...  \n",
      "4  [-99.47161, -60.7916, -35.936123, -1.4182578, ...  \n"
     ]
    }
   ],
   "source": [
    "import pandas as pd\n",
    "import numpy as np\n",
    "\n",
    "# Assume these are loaded or computed\n",
    "# val_embeddings: List or numpy array of embeddings (e.g., shape [num_examples, embedding_dim])\n",
    "# loaded_val_indices: List of validation indices\n",
    "# loaded_file_names: List of validation file names\n",
    "\n",
    "# Convert val_embeddings to a numpy array if it's not already\n",
    "val_embeddings = np.array(val_embeddings)\n",
    "\n",
    "# Ensure the size of all inputs matches\n",
    "if len(loaded_val_indices) != len(loaded_val_file_names) or len(loaded_val_indices) != len(val_embeddings):\n",
    "    raise ValueError(\"The sizes of validation indices, filenames, and embeddings must match.\")\n",
    "\n",
    "# Create a DataFrame\n",
    "val_data_df = pd.DataFrame({\n",
    "    \"val_index\": loaded_val_indices,\n",
    "    \"filename\": loaded_val_file_names,\n",
    "    \"embedding\": list(val_embeddings)  # Store embeddings as a list of numpy arrays\n",
    "})\n",
    "\n",
    "# Save the DataFrame to a CSV file\n",
    "csv_file_path = \"validation_embeddings.csv\"\n",
    "val_data_df.to_csv(csv_file_path, index=False)\n",
    "\n",
    "# Optionally save embeddings in a separate binary file for efficient storage\n",
    "embeddings_file_path = \"validation_embeddings.npy\"\n",
    "np.save(embeddings_file_path, val_embeddings)\n",
    "\n",
    "print(f\"Validation DataFrame created and saved to {csv_file_path}\")\n",
    "print(f\"Embeddings saved to {embeddings_file_path}\")\n",
    "\n",
    "# Print the first few rows for verification\n",
    "print(val_data_df.head())\n"
   ]
  },
  {
   "cell_type": "code",
   "execution_count": 15,
   "id": "83f28815",
   "metadata": {
    "execution": {
     "iopub.execute_input": "2024-12-15T02:38:39.283529Z",
     "iopub.status.busy": "2024-12-15T02:38:39.283114Z",
     "iopub.status.idle": "2024-12-15T02:38:39.314397Z",
     "shell.execute_reply": "2024-12-15T02:38:39.312438Z"
    },
    "papermill": {
     "duration": 0.148652,
     "end_time": "2024-12-15T02:38:39.317506",
     "exception": false,
     "start_time": "2024-12-15T02:38:39.168854",
     "status": "completed"
    },
    "tags": []
   },
   "outputs": [
    {
     "data": {
      "text/html": [
       "<div>\n",
       "<style scoped>\n",
       "    .dataframe tbody tr th:only-of-type {\n",
       "        vertical-align: middle;\n",
       "    }\n",
       "\n",
       "    .dataframe tbody tr th {\n",
       "        vertical-align: top;\n",
       "    }\n",
       "\n",
       "    .dataframe thead th {\n",
       "        text-align: right;\n",
       "    }\n",
       "</style>\n",
       "<table border=\"1\" class=\"dataframe\">\n",
       "  <thead>\n",
       "    <tr style=\"text-align: right;\">\n",
       "      <th></th>\n",
       "      <th>val_index</th>\n",
       "      <th>filename</th>\n",
       "      <th>embedding</th>\n",
       "    </tr>\n",
       "  </thead>\n",
       "  <tbody>\n",
       "    <tr>\n",
       "      <th>0</th>\n",
       "      <td>1056</td>\n",
       "      <td>query_1952_2024-12-03-21.34.02.429279.pt</td>\n",
       "      <td>[-114.55693, -101.882355, -14.314699, -1.86743...</td>\n",
       "    </tr>\n",
       "    <tr>\n",
       "      <th>1</th>\n",
       "      <td>2323</td>\n",
       "      <td>query_993_2024-12-03-21.10.08.618148.pt</td>\n",
       "      <td>[-104.10589, -100.892784, -15.305394, 19.10723...</td>\n",
       "    </tr>\n",
       "    <tr>\n",
       "      <th>2</th>\n",
       "      <td>655</td>\n",
       "      <td>query_1591_2024-12-03-21.23.17.861948.pt</td>\n",
       "      <td>[-114.54547, -101.893394, -14.308007, -1.88108...</td>\n",
       "    </tr>\n",
       "    <tr>\n",
       "      <th>3</th>\n",
       "      <td>2101</td>\n",
       "      <td>query_793_2024-12-03-21.05.49.462784.pt</td>\n",
       "      <td>[-89.35007, -103.53369, -24.114931, 38.514816,...</td>\n",
       "    </tr>\n",
       "    <tr>\n",
       "      <th>4</th>\n",
       "      <td>1401</td>\n",
       "      <td>query_2262_2024-12-03-21.44.00.539251.pt</td>\n",
       "      <td>[-99.47161, -60.7916, -35.936123, -1.4182578, ...</td>\n",
       "    </tr>\n",
       "  </tbody>\n",
       "</table>\n",
       "</div>"
      ],
      "text/plain": [
       "   val_index                                  filename  \\\n",
       "0       1056  query_1952_2024-12-03-21.34.02.429279.pt   \n",
       "1       2323   query_993_2024-12-03-21.10.08.618148.pt   \n",
       "2        655  query_1591_2024-12-03-21.23.17.861948.pt   \n",
       "3       2101   query_793_2024-12-03-21.05.49.462784.pt   \n",
       "4       1401  query_2262_2024-12-03-21.44.00.539251.pt   \n",
       "\n",
       "                                           embedding  \n",
       "0  [-114.55693, -101.882355, -14.314699, -1.86743...  \n",
       "1  [-104.10589, -100.892784, -15.305394, 19.10723...  \n",
       "2  [-114.54547, -101.893394, -14.308007, -1.88108...  \n",
       "3  [-89.35007, -103.53369, -24.114931, 38.514816,...  \n",
       "4  [-99.47161, -60.7916, -35.936123, -1.4182578, ...  "
      ]
     },
     "execution_count": 15,
     "metadata": {},
     "output_type": "execute_result"
    }
   ],
   "source": [
    "val_data_df.head()"
   ]
  },
  {
   "cell_type": "code",
   "execution_count": 16,
   "id": "8b6a295b",
   "metadata": {
    "execution": {
     "iopub.execute_input": "2024-12-15T02:38:39.560352Z",
     "iopub.status.busy": "2024-12-15T02:38:39.559209Z",
     "iopub.status.idle": "2024-12-15T02:38:39.569821Z",
     "shell.execute_reply": "2024-12-15T02:38:39.567798Z"
    },
    "papermill": {
     "duration": 0.140363,
     "end_time": "2024-12-15T02:38:39.572817",
     "exception": false,
     "start_time": "2024-12-15T02:38:39.432454",
     "status": "completed"
    },
    "tags": []
   },
   "outputs": [
    {
     "name": "stdout",
     "output_type": "stream",
     "text": [
      "Number of training embeddings (best epoch): 1865\n",
      "First training embedding shape: (1417,)\n",
      "Number of validation embeddings (best epoch): 467\n",
      "First validation embedding shape: (1417,)\n"
     ]
    }
   ],
   "source": [
    "print(f\"Number of training embeddings (best epoch): {len(train_embeddings)}\")\n",
    "print(f\"First training embedding shape: {train_embeddings[0].shape}\")\n",
    "print(f\"Number of validation embeddings (best epoch): {len(val_embeddings)}\")\n",
    "print(f\"First validation embedding shape: {val_embeddings[0].shape}\")\n"
   ]
  },
  {
   "cell_type": "code",
   "execution_count": 17,
   "id": "0b9c2fc5",
   "metadata": {
    "execution": {
     "iopub.execute_input": "2024-12-15T02:38:39.863067Z",
     "iopub.status.busy": "2024-12-15T02:38:39.862283Z",
     "iopub.status.idle": "2024-12-15T02:38:39.871892Z",
     "shell.execute_reply": "2024-12-15T02:38:39.870256Z"
    },
    "papermill": {
     "duration": 0.132582,
     "end_time": "2024-12-15T02:38:39.874848",
     "exception": false,
     "start_time": "2024-12-15T02:38:39.742266",
     "status": "completed"
    },
    "tags": []
   },
   "outputs": [
    {
     "name": "stdout",
     "output_type": "stream",
     "text": [
      "First validation embedding shape: [-114.55693  -101.882355  -14.314699 ...   51.675053   26.12046\n",
      "   56.93147 ]\n"
     ]
    }
   ],
   "source": [
    "print(f\"First validation embedding shape: {val_embeddings[0]}\")"
   ]
  },
  {
   "cell_type": "code",
   "execution_count": 18,
   "id": "bcc9e916",
   "metadata": {
    "execution": {
     "iopub.execute_input": "2024-12-15T02:38:40.123068Z",
     "iopub.status.busy": "2024-12-15T02:38:40.122415Z",
     "iopub.status.idle": "2024-12-15T02:38:40.137308Z",
     "shell.execute_reply": "2024-12-15T02:38:40.134807Z"
    },
    "papermill": {
     "duration": 0.141042,
     "end_time": "2024-12-15T02:38:40.140379",
     "exception": false,
     "start_time": "2024-12-15T02:38:39.999337",
     "status": "completed"
    },
    "tags": []
   },
   "outputs": [
    {
     "data": {
      "text/plain": [
       "numpy.ndarray"
      ]
     },
     "execution_count": 18,
     "metadata": {},
     "output_type": "execute_result"
    }
   ],
   "source": [
    "type(val_embeddings[0])"
   ]
  },
  {
   "cell_type": "code",
   "execution_count": 19,
   "id": "4d1439e3",
   "metadata": {
    "execution": {
     "iopub.execute_input": "2024-12-15T02:38:40.399076Z",
     "iopub.status.busy": "2024-12-15T02:38:40.398178Z",
     "iopub.status.idle": "2024-12-15T02:38:40.408677Z",
     "shell.execute_reply": "2024-12-15T02:38:40.406840Z"
    },
    "papermill": {
     "duration": 0.150292,
     "end_time": "2024-12-15T02:38:40.413513",
     "exception": false,
     "start_time": "2024-12-15T02:38:40.263221",
     "status": "completed"
    },
    "tags": []
   },
   "outputs": [
    {
     "name": "stdout",
     "output_type": "stream",
     "text": [
      "First validation embedding shape: [-104.10589  -100.892784  -15.305394 ...   48.47303    35.593414\n",
      "   74.74174 ]\n"
     ]
    }
   ],
   "source": [
    "print(f\"First validation embedding shape: {val_embeddings[1]}\")"
   ]
  },
  {
   "cell_type": "code",
   "execution_count": 20,
   "id": "f14df7c2",
   "metadata": {
    "execution": {
     "iopub.execute_input": "2024-12-15T02:38:40.726536Z",
     "iopub.status.busy": "2024-12-15T02:38:40.725970Z",
     "iopub.status.idle": "2024-12-15T02:38:40.736552Z",
     "shell.execute_reply": "2024-12-15T02:38:40.735007Z"
    },
    "papermill": {
     "duration": 0.153985,
     "end_time": "2024-12-15T02:38:40.739053",
     "exception": false,
     "start_time": "2024-12-15T02:38:40.585068",
     "status": "completed"
    },
    "tags": []
   },
   "outputs": [
    {
     "data": {
      "text/plain": [
       "1417"
      ]
     },
     "execution_count": 20,
     "metadata": {},
     "output_type": "execute_result"
    }
   ],
   "source": [
    "len(val_embeddings[0])"
   ]
  },
  {
   "cell_type": "code",
   "execution_count": 21,
   "id": "2d1620e9",
   "metadata": {
    "execution": {
     "iopub.execute_input": "2024-12-15T02:38:40.996827Z",
     "iopub.status.busy": "2024-12-15T02:38:40.996325Z",
     "iopub.status.idle": "2024-12-15T02:38:41.001781Z",
     "shell.execute_reply": "2024-12-15T02:38:41.000651Z"
    },
    "papermill": {
     "duration": 0.150412,
     "end_time": "2024-12-15T02:38:41.005237",
     "exception": false,
     "start_time": "2024-12-15T02:38:40.854825",
     "status": "completed"
    },
    "tags": []
   },
   "outputs": [],
   "source": [
    "# import numpy as np\n",
    "\n",
    "# # Disable truncation\n",
    "# np.set_printoptions(threshold=np.inf, linewidth=1000)\n",
    "\n",
    "# for i, emb in enumerate(val_embeddings):\n",
    "#     print(f\"Full Embedding {i}:\\n{emb}\")\n"
   ]
  },
  {
   "cell_type": "code",
   "execution_count": 22,
   "id": "43c8cd69",
   "metadata": {
    "execution": {
     "iopub.execute_input": "2024-12-15T02:38:41.234717Z",
     "iopub.status.busy": "2024-12-15T02:38:41.233342Z",
     "iopub.status.idle": "2024-12-15T02:38:48.852172Z",
     "shell.execute_reply": "2024-12-15T02:38:48.849747Z"
    },
    "papermill": {
     "duration": 7.73676,
     "end_time": "2024-12-15T02:38:48.855437",
     "exception": false,
     "start_time": "2024-12-15T02:38:41.118677",
     "status": "completed"
    },
    "tags": []
   },
   "outputs": [
    {
     "name": "stdout",
     "output_type": "stream",
     "text": [
      "Train embeddings saved to ./train_embeddings.json\n",
      "Validation embeddings saved to ./val_embeddings.json\n"
     ]
    }
   ],
   "source": [
    "import json\n",
    "import numpy as np\n",
    "\n",
    "# Ensure embeddings are numpy arrays\n",
    "train_embeddings = np.array(train_embeddings)\n",
    "val_embeddings = np.array(val_embeddings)\n",
    "\n",
    "# Paths for saving the JSON files\n",
    "train_embeddings_file = \"./train_embeddings.json\"\n",
    "val_embeddings_file = \"./val_embeddings.json\"\n",
    "\n",
    "# Create dictionaries with file names as keys and embeddings as values\n",
    "train_embedding_dict = {train_file_name: embedding.tolist() for train_file_name, embedding in zip(loaded_train_file_names, train_embeddings)}\n",
    "val_embedding_dict = {val_file_name: embedding.tolist() for val_file_name, embedding in zip(loaded_val_file_names, val_embeddings)}\n",
    "\n",
    "# Save training embeddings to JSON\n",
    "with open(train_embeddings_file, \"w\") as f:\n",
    "    json.dump(train_embedding_dict, f)\n",
    "\n",
    "# Save validation embeddings to JSON\n",
    "with open(val_embeddings_file, \"w\") as f:\n",
    "    json.dump(val_embedding_dict, f)\n",
    "\n",
    "print(f\"Train embeddings saved to {train_embeddings_file}\")\n",
    "print(f\"Validation embeddings saved to {val_embeddings_file}\")"
   ]
  },
  {
   "cell_type": "code",
   "execution_count": 23,
   "id": "0ad930c4",
   "metadata": {
    "execution": {
     "iopub.execute_input": "2024-12-15T02:38:49.269153Z",
     "iopub.status.busy": "2024-12-15T02:38:49.268483Z",
     "iopub.status.idle": "2024-12-15T02:38:51.014742Z",
     "shell.execute_reply": "2024-12-15T02:38:51.013627Z"
    },
    "papermill": {
     "duration": 1.955388,
     "end_time": "2024-12-15T02:38:51.017893",
     "exception": false,
     "start_time": "2024-12-15T02:38:49.062505",
     "status": "completed"
    },
    "tags": []
   },
   "outputs": [
    {
     "name": "stdout",
     "output_type": "stream",
     "text": [
      "                                  file_name  \\\n",
      "0  query_1952_2024-12-03-21.34.02.429279.pt   \n",
      "1   query_993_2024-12-03-21.10.08.618148.pt   \n",
      "2  query_1591_2024-12-03-21.23.17.861948.pt   \n",
      "3   query_793_2024-12-03-21.05.49.462784.pt   \n",
      "4  query_2262_2024-12-03-21.44.00.539251.pt   \n",
      "\n",
      "                                           embedding  \n",
      "0  [-114.55693054199219, -101.88235473632812, -14...  \n",
      "1  [-104.10588836669922, -100.89278411865234, -15...  \n",
      "2  [-114.54547119140625, -101.89339447021484, -14...  \n",
      "3  [-89.35006713867188, -103.53369140625, -24.114...  \n",
      "4  [-99.47161102294922, -60.79159927368164, -35.9...  \n"
     ]
    },
    {
     "name": "stdout",
     "output_type": "stream",
     "text": [
      "Validation embeddings saved to val_embeddings.csv\n"
     ]
    }
   ],
   "source": [
    "import pandas as pd\n",
    "import json\n",
    "\n",
    "# Path to the JSON file\n",
    "val_embeddings_file = \"./val_embeddings.json\"  # Replace with train_embeddings.json for training data\n",
    "\n",
    "# Load the JSON file\n",
    "with open(val_embeddings_file, \"r\") as f:\n",
    "    embeddings_data = json.load(f)\n",
    "\n",
    "# Convert JSON data to a DataFrame\n",
    "val_embeddings_df = pd.DataFrame({\n",
    "    \"file_name\": list(embeddings_data.keys()),\n",
    "    \"embedding\": list(embeddings_data.values())\n",
    "})\n",
    "\n",
    "# Display the DataFrame\n",
    "print(val_embeddings_df.head())\n",
    "\n",
    "# Optionally save it to a CSV\n",
    "val_embeddings_df.to_csv(\"val_embeddings.csv\", index=False)\n",
    "print(\"Validation embeddings saved to val_embeddings.csv\")\n"
   ]
  },
  {
   "cell_type": "code",
   "execution_count": null,
   "id": "b2d57ba6",
   "metadata": {
    "papermill": {
     "duration": 0.124523,
     "end_time": "2024-12-15T02:38:51.268749",
     "exception": false,
     "start_time": "2024-12-15T02:38:51.144226",
     "status": "completed"
    },
    "tags": []
   },
   "outputs": [],
   "source": []
  }
 ],
 "metadata": {
  "kernelspec": {
   "display_name": ".venv",
   "language": "python",
   "name": "python3"
  },
  "language_info": {
   "codemirror_mode": {
    "name": "ipython",
    "version": 3
   },
   "file_extension": ".py",
   "mimetype": "text/x-python",
   "name": "python",
   "nbconvert_exporter": "python",
   "pygments_lexer": "ipython3",
   "version": "3.12.3"
  },
  "papermill": {
   "default_parameters": {},
   "duration": 12705.410889,
   "end_time": "2024-12-15T02:38:53.428041",
   "environment_variables": {},
   "exception": null,
   "input_path": "step2-training.ipynb",
   "output_path": "step2-training-output.ipynb",
   "parameters": {},
   "start_time": "2024-12-14T23:07:08.017152",
   "version": "2.6.0"
  }
 },
 "nbformat": 4,
 "nbformat_minor": 5
}