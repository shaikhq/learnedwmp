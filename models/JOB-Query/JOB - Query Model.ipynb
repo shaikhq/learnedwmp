{
 "cells": [
  {
   "cell_type": "code",
   "execution_count": 1,
   "id": "1da264ce",
   "metadata": {},
   "outputs": [],
   "source": [
    "import pandas as pd\n",
    "import numpy as np\n",
    "from sklearn.linear_model import LinearRegression\n",
    "from sklearn.metrics import mean_squared_error\n",
    "from sklearn.linear_model import Ridge\n",
    "from sklearn.tree import DecisionTreeRegressor\n",
    "from sklearn.ensemble import RandomForestRegressor\n",
    "import xgboost as xgb\n",
    "from xgboost import XGBRegressor\n",
    "from sklearn.neural_network import MLPRegressor\n",
    "import seaborn as sns\n",
    "import matplotlib.pyplot as plt\n",
    "from tensorflow.keras.models import Sequential\n",
    "from tensorflow.keras.layers import Dense, Dropout \n",
    "from tensorflow.keras.layers import BatchNormalization \n",
    "from tensorflow.keras.callbacks import ModelCheckpoint # new!\n",
    "import os # new!\n",
    "import time"
   ]
  },
  {
   "cell_type": "code",
   "execution_count": 2,
   "id": "7ef4ab96",
   "metadata": {},
   "outputs": [],
   "source": [
    "batch_size = 10\n",
    "box_plot_title = 'Memory Estimation Error (MB)'"
   ]
  },
  {
   "cell_type": "markdown",
   "id": "9925fb5d",
   "metadata": {},
   "source": [
    "# 1. Loading training and test datasets"
   ]
  },
  {
   "cell_type": "code",
   "execution_count": 3,
   "id": "42b48d7f",
   "metadata": {},
   "outputs": [],
   "source": [
    "def load_data():\n",
    "    df = pd.read_csv('job_query_train.csv')\n",
    "    \n",
    "    feature_cols = ['TQ', 'TQ COUNT', 'TBSCAN', 'TBSCAN COUNT', 'HS JOIN', 'HS JOIN COUNT']\n",
    "    \n",
    "    target_col = ['actual']\n",
    "    \n",
    "    X = df[feature_cols]\n",
    "    y = df[target_col]\n",
    "    \n",
    "    print('X.shape: ', X.shape)\n",
    "    print('y.shape: ', y.shape)\n",
    "    \n",
    "    return X.values, y.values\n",
    "\n",
    "def load_test_data():\n",
    "    df = pd.read_csv('job_query_test.csv')\n",
    "    \n",
    "    feature_cols = ['TQ', 'TQ COUNT', 'TBSCAN', 'TBSCAN COUNT', 'HS JOIN', 'HS JOIN COUNT']\n",
    "    \n",
    "    target_cols = ['actual', 'db2']\n",
    "    \n",
    "    X = df[feature_cols]\n",
    "    Y = df[target_cols]\n",
    "    \n",
    "    print('df_test shape: ', df.shape)\n",
    "    \n",
    "    return X, Y\n",
    "\n",
    "\n",
    "def cross_validate(model):\n",
    "    # Load data\n",
    "    X, y = load_data()\n",
    "    train_data = X.copy()\n",
    "    train_targets = y.copy()\n",
    "\n",
    "    k = 10\n",
    "    num_val_samples = len(train_data) // k\n",
    "    all_train_scores = []\n",
    "    all_scores = []\n",
    "    \n",
    "    for i in range(k):\n",
    "        print(f\"Processing fold #{i}\")\n",
    "        val_data = train_data[i * num_val_samples: (i + 1) * num_val_samples]\n",
    "        val_targets = train_targets[i * num_val_samples: (i + 1) * num_val_samples]\n",
    "        \n",
    "        partial_train_data = np.concatenate([train_data[:i * num_val_samples],\n",
    "                                             train_data[(i + 1) * num_val_samples:]], axis=0)\n",
    "        \n",
    "        partial_train_targets = np.concatenate([train_targets[:i * num_val_samples],\n",
    "                                                train_targets[(i + 1) * num_val_samples:]], axis=0)\n",
    "\n",
    "        model.fit(partial_train_data, partial_train_targets)\n",
    "    \n",
    "        train_mse = mean_squared_error(partial_train_targets, model.predict(partial_train_data))\n",
    "        val_mse = mean_squared_error(val_targets, model.predict(val_data))\n",
    "    \n",
    "        all_train_scores.append(train_mse)\n",
    "        all_scores.append(val_mse)\n",
    "    \n",
    "    print('train rmse ', np.sqrt(np.mean(all_train_scores)))\n",
    "    print('validation rmse ', np.sqrt(np.mean(all_scores)))\n",
    "\n",
    "# create workloads for the given batch size\n",
    "def batch(Y, batch_size=10):\n",
    "    # generate integer values in range [0, number of records -1]\n",
    "    indices = np.linspace(0, Y.shape[0]-1, Y.shape[0], dtype=int)\n",
    "    #np.random.seed(42)\n",
    "    #np.random.shuffle(indices)\n",
    "    num_batches = int(np.floor(Y.shape[0] / batch_size))\n",
    "    \n",
    "    df_batches = pd.DataFrame(columns=Y.columns)\n",
    "    \n",
    "    for ibat in range(num_batches):\n",
    "        start = (ibat * batch_size)\n",
    "        end = (ibat * batch_size + batch_size) - 1\n",
    "        \n",
    "        ibat_Y = Y.loc[indices[start:end], :]\n",
    "        \n",
    "        df_batches = df_batches.append(ibat_Y.sum(), ignore_index=True)\n",
    "        \n",
    "    return df_batches\n",
    "\n",
    "# Review this\n",
    "def rmse(Y):\n",
    "    cols = Y.columns.values[1:]\n",
    "    rmse_dict = {}\n",
    "    \n",
    "    for col in cols:\n",
    "        rmse = np.round(np.sqrt(mean_squared_error(Y['actual'].values, Y[col].values)))\n",
    "        rmse_dict[col] = rmse\n",
    "    \n",
    "    return rmse_dict\n",
    "\n",
    "def calculate_residuals(Y):\n",
    "    first_col = Y.columns[0]\n",
    "    cols = Y.columns[1:]\n",
    "    df_residuals = pd.DataFrame(columns=cols)\n",
    "\n",
    "    for col in cols:\n",
    "        df_residuals[col] = Y[col] - Y[first_col]\n",
    "        \n",
    "    return df_residuals\n",
    "\n",
    "def box_plot(Y):\n",
    "    df_residuals = calculate_residuals(Y)\n",
    "    sns.set_style(\"whitegrid\", {'axes.grid' : False})\n",
    "    f = plt.figure(figsize=[10,3])\n",
    "    ax = f.add_subplot(111)\n",
    "    sns.boxplot(data=df_residuals, ax=ax, showfliers = True, orient=\"h\")\n",
    "    ax.set_xlabel(xlabel=box_plot_title,fontsize=13)\n",
    "    #plt.tick_params(axis='x',labeltop='on', labelbottom='on')\n",
    "    #ax.xaxis.set_ticks_position('both')\n",
    "    \n",
    "    f.tight_layout()\n",
    "    \n",
    "    plt.savefig('JOB_query_boxplot.png', dpi=150)"
   ]
  },
  {
   "cell_type": "code",
   "execution_count": 4,
   "id": "12f6d9b6",
   "metadata": {},
   "outputs": [
    {
     "name": "stdout",
     "output_type": "stream",
     "text": [
      "X.shape:  (1865, 6)\n",
      "y.shape:  (1865, 1)\n"
     ]
    }
   ],
   "source": [
    "X, y = load_data()"
   ]
  },
  {
   "cell_type": "code",
   "execution_count": 5,
   "id": "71fc008a",
   "metadata": {},
   "outputs": [
    {
     "name": "stdout",
     "output_type": "stream",
     "text": [
      "df_test shape:  (467, 8)\n"
     ]
    },
    {
     "data": {
      "text/plain": [
       "(           TQ  TQ COUNT    TBSCAN  TBSCAN COUNT   HS JOIN  HS JOIN COUNT\n",
       " 0    0.065215       0.0  1.008923      0.819236 -0.057920       0.819236\n",
       " 1    0.056780       0.0  1.008923      0.819236 -0.057922       0.819236\n",
       " 2   -0.162551       0.0 -1.208890     -1.220650 -0.065235      -1.220650\n",
       " 3   -0.145175       0.0  0.635903      0.819236 -0.057915       0.819236\n",
       " 4   -0.161825       0.0 -1.208888     -1.220650 -0.063914      -1.220650\n",
       " ..        ...       ...       ...           ...       ...            ...\n",
       " 462  0.056780       0.0  1.008923      0.819236 -0.057922       0.819236\n",
       " 463 -0.115518       0.0  0.685405      0.819236 -0.055388       0.819236\n",
       " 464 -0.120384       0.0  0.685404      0.819236 -0.055388       0.819236\n",
       " 465 -0.162551       0.0 -1.208890     -1.220650 -0.065234      -1.220650\n",
       " 466  0.065215       0.0  1.008923      0.819236 -0.057920       0.819236\n",
       " \n",
       " [467 rows x 6 columns],\n",
       "       actual      db2\n",
       " 0    251.248  251.248\n",
       " 1    251.252  251.248\n",
       " 2     57.124  526.412\n",
       " 3    251.248  251.248\n",
       " 4     39.804  526.412\n",
       " ..       ...      ...\n",
       " 462  251.252  251.248\n",
       " 463  170.960  171.500\n",
       " 464  169.808  171.500\n",
       " 465   88.168  526.412\n",
       " 466  251.256  251.256\n",
       " \n",
       " [467 rows x 2 columns])"
      ]
     },
     "execution_count": 5,
     "metadata": {},
     "output_type": "execute_result"
    }
   ],
   "source": [
    "load_test_data()"
   ]
  },
  {
   "cell_type": "markdown",
   "id": "0a613f57",
   "metadata": {},
   "source": [
    "# Ridge"
   ]
  },
  {
   "cell_type": "code",
   "execution_count": 6,
   "id": "f41fb0ce",
   "metadata": {},
   "outputs": [
    {
     "name": "stdout",
     "output_type": "stream",
     "text": [
      "X.shape:  (1865, 6)\n",
      "y.shape:  (1865, 1)\n",
      "X.shape:  (1865, 6)\n",
      "y.shape:  (1865, 1)\n",
      "Processing fold #0\n",
      "Processing fold #1\n",
      "Processing fold #2\n",
      "Processing fold #3\n",
      "Processing fold #4\n",
      "Processing fold #5\n",
      "Processing fold #6\n",
      "Processing fold #7\n",
      "Processing fold #8\n",
      "Processing fold #9\n",
      "train rmse  25.26601806007265\n",
      "validation rmse  25.450379462077834\n"
     ]
    },
    {
     "data": {
      "text/plain": [
       "Ridge(random_state=33)"
      ]
     },
     "execution_count": 6,
     "metadata": {},
     "output_type": "execute_result"
    }
   ],
   "source": [
    "# Load data\n",
    "X, y = load_data()\n",
    "\n",
    "ridge = Ridge(random_state=33)\n",
    "cross_validate(ridge)\n",
    "\n",
    "ridge.fit(X, y)"
   ]
  },
  {
   "cell_type": "markdown",
   "id": "3625d055",
   "metadata": {},
   "source": [
    "# Decision Tree"
   ]
  },
  {
   "cell_type": "code",
   "execution_count": 7,
   "id": "a03479a2",
   "metadata": {},
   "outputs": [
    {
     "name": "stdout",
     "output_type": "stream",
     "text": [
      "X.shape:  (1865, 6)\n",
      "y.shape:  (1865, 1)\n",
      "X.shape:  (1865, 6)\n",
      "y.shape:  (1865, 1)\n",
      "Processing fold #0\n",
      "Processing fold #1\n",
      "Processing fold #2\n",
      "Processing fold #3\n",
      "Processing fold #4\n",
      "Processing fold #5\n",
      "Processing fold #6\n",
      "Processing fold #7\n",
      "Processing fold #8\n",
      "Processing fold #9\n",
      "train rmse  9.756849720698373\n",
      "validation rmse  11.89621049254511\n"
     ]
    },
    {
     "data": {
      "text/plain": [
       "DecisionTreeRegressor(random_state=33)"
      ]
     },
     "execution_count": 7,
     "metadata": {},
     "output_type": "execute_result"
    }
   ],
   "source": [
    "# Load data\n",
    "X, y = load_data()\n",
    "\n",
    "tree = DecisionTreeRegressor(\n",
    "    max_features=None, random_state=33)\n",
    "\n",
    "cross_validate(tree)\n",
    "\n",
    "tree.fit(X, y)"
   ]
  },
  {
   "cell_type": "markdown",
   "id": "3a7b57d1",
   "metadata": {},
   "source": [
    "# Random Forest"
   ]
  },
  {
   "cell_type": "code",
   "execution_count": 8,
   "id": "48755bd3",
   "metadata": {},
   "outputs": [
    {
     "name": "stdout",
     "output_type": "stream",
     "text": [
      "X.shape:  (1865, 6)\n",
      "y.shape:  (1865, 1)\n",
      "X.shape:  (1865, 6)\n",
      "y.shape:  (1865, 1)\n",
      "Processing fold #0\n",
      "Processing fold #1\n",
      "Processing fold #2\n",
      "Processing fold #3\n",
      "Processing fold #4\n",
      "Processing fold #5\n",
      "Processing fold #6\n",
      "Processing fold #7\n",
      "Processing fold #8\n"
     ]
    },
    {
     "name": "stderr",
     "output_type": "stream",
     "text": [
      "/var/folders/1v/zdszy15n595bb2xxfx_p9bhw0000gn/T/ipykernel_23006/3056831869.py:53: DataConversionWarning: A column-vector y was passed when a 1d array was expected. Please change the shape of y to (n_samples,), for example using ravel().\n",
      "  model.fit(partial_train_data, partial_train_targets)\n",
      "/var/folders/1v/zdszy15n595bb2xxfx_p9bhw0000gn/T/ipykernel_23006/3056831869.py:53: DataConversionWarning: A column-vector y was passed when a 1d array was expected. Please change the shape of y to (n_samples,), for example using ravel().\n",
      "  model.fit(partial_train_data, partial_train_targets)\n",
      "/var/folders/1v/zdszy15n595bb2xxfx_p9bhw0000gn/T/ipykernel_23006/3056831869.py:53: DataConversionWarning: A column-vector y was passed when a 1d array was expected. Please change the shape of y to (n_samples,), for example using ravel().\n",
      "  model.fit(partial_train_data, partial_train_targets)\n",
      "/var/folders/1v/zdszy15n595bb2xxfx_p9bhw0000gn/T/ipykernel_23006/3056831869.py:53: DataConversionWarning: A column-vector y was passed when a 1d array was expected. Please change the shape of y to (n_samples,), for example using ravel().\n",
      "  model.fit(partial_train_data, partial_train_targets)\n",
      "/var/folders/1v/zdszy15n595bb2xxfx_p9bhw0000gn/T/ipykernel_23006/3056831869.py:53: DataConversionWarning: A column-vector y was passed when a 1d array was expected. Please change the shape of y to (n_samples,), for example using ravel().\n",
      "  model.fit(partial_train_data, partial_train_targets)\n",
      "/var/folders/1v/zdszy15n595bb2xxfx_p9bhw0000gn/T/ipykernel_23006/3056831869.py:53: DataConversionWarning: A column-vector y was passed when a 1d array was expected. Please change the shape of y to (n_samples,), for example using ravel().\n",
      "  model.fit(partial_train_data, partial_train_targets)\n",
      "/var/folders/1v/zdszy15n595bb2xxfx_p9bhw0000gn/T/ipykernel_23006/3056831869.py:53: DataConversionWarning: A column-vector y was passed when a 1d array was expected. Please change the shape of y to (n_samples,), for example using ravel().\n",
      "  model.fit(partial_train_data, partial_train_targets)\n",
      "/var/folders/1v/zdszy15n595bb2xxfx_p9bhw0000gn/T/ipykernel_23006/3056831869.py:53: DataConversionWarning: A column-vector y was passed when a 1d array was expected. Please change the shape of y to (n_samples,), for example using ravel().\n",
      "  model.fit(partial_train_data, partial_train_targets)\n",
      "/var/folders/1v/zdszy15n595bb2xxfx_p9bhw0000gn/T/ipykernel_23006/3056831869.py:53: DataConversionWarning: A column-vector y was passed when a 1d array was expected. Please change the shape of y to (n_samples,), for example using ravel().\n",
      "  model.fit(partial_train_data, partial_train_targets)\n"
     ]
    },
    {
     "name": "stdout",
     "output_type": "stream",
     "text": [
      "Processing fold #9\n",
      "train rmse  9.93466399010248\n",
      "validation rmse  11.596688164386748\n"
     ]
    },
    {
     "name": "stderr",
     "output_type": "stream",
     "text": [
      "/var/folders/1v/zdszy15n595bb2xxfx_p9bhw0000gn/T/ipykernel_23006/3056831869.py:53: DataConversionWarning: A column-vector y was passed when a 1d array was expected. Please change the shape of y to (n_samples,), for example using ravel().\n",
      "  model.fit(partial_train_data, partial_train_targets)\n",
      "/var/folders/1v/zdszy15n595bb2xxfx_p9bhw0000gn/T/ipykernel_23006/334396991.py:10: DataConversionWarning: A column-vector y was passed when a 1d array was expected. Please change the shape of y to (n_samples,), for example using ravel().\n",
      "  forest.fit(X, y)\n"
     ]
    },
    {
     "data": {
      "text/plain": [
       "RandomForestRegressor(n_estimators=10, random_state=33)"
      ]
     },
     "execution_count": 8,
     "metadata": {},
     "output_type": "execute_result"
    }
   ],
   "source": [
    "# Load data\n",
    "X, y = load_data()\n",
    "\n",
    "forest = RandomForestRegressor(\n",
    "    n_estimators=10, random_state=33\n",
    ")\n",
    "\n",
    "cross_validate(forest)\n",
    "\n",
    "forest.fit(X, y)"
   ]
  },
  {
   "cell_type": "markdown",
   "id": "aaf4df1a",
   "metadata": {},
   "source": [
    "# XGBoost"
   ]
  },
  {
   "cell_type": "code",
   "execution_count": 9,
   "id": "d8424778",
   "metadata": {},
   "outputs": [
    {
     "name": "stdout",
     "output_type": "stream",
     "text": [
      "X.shape:  (1865, 6)\n",
      "y.shape:  (1865, 1)\n",
      "X.shape:  (1865, 6)\n",
      "y.shape:  (1865, 1)\n",
      "Processing fold #0\n",
      "Processing fold #1\n",
      "Processing fold #2\n",
      "Processing fold #3\n",
      "Processing fold #4\n",
      "Processing fold #5\n",
      "Processing fold #6\n",
      "Processing fold #7\n",
      "Processing fold #8\n",
      "Processing fold #9\n",
      "train rmse  9.79286744167817\n",
      "validation rmse  11.610192092257813\n"
     ]
    },
    {
     "data": {
      "text/plain": [
       "XGBRegressor(base_score=0.5, booster='gbtree', colsample_bylevel=1,\n",
       "             colsample_bynode=1, colsample_bytree=1, gamma=0, gpu_id=-1,\n",
       "             importance_type='gain', interaction_constraints='',\n",
       "             learning_rate=0.300000012, max_delta_step=0, max_depth=3,\n",
       "             min_child_weight=1, missing=nan, monotone_constraints='()',\n",
       "             n_estimators=100, n_jobs=4, nthread=4, num_parallel_tree=1,\n",
       "             random_state=33, reg_alpha=0, reg_lambda=1, scale_pos_weight=1,\n",
       "             seed=33, silent=False, subsample=1, tree_method='exact',\n",
       "             validate_parameters=1, verbosity=0)"
      ]
     },
     "execution_count": 9,
     "metadata": {},
     "output_type": "execute_result"
    }
   ],
   "source": [
    "# Load data\n",
    "X, y = load_data()\n",
    "\n",
    "xgb_regressor = XGBRegressor(\n",
    "    base_score=0.5,\n",
    "    booster=\"gbtree\",\n",
    "    colsample_bylevel=1,\n",
    "    colsample_bynode=1,\n",
    "    colsample_bytree=1,\n",
    "    gamma=0,\n",
    "    gpu_id=-1,\n",
    "    interaction_constraints=\"\",\n",
    "    learning_rate=0.300000012,\n",
    "    max_delta_step=0,\n",
    "    max_depth=3,\n",
    "    min_child_weight=1,\n",
    "    missing=float(\"nan\"),\n",
    "    monotone_constraints=\"()\",\n",
    "    n_estimators=100,\n",
    "    num_parallel_tree=1,\n",
    "    random_state=33,\n",
    "    reg_alpha=0,\n",
    "    reg_lambda=1,\n",
    "    scale_pos_weight=1,\n",
    "    subsample=1,\n",
    "    tree_method=\"exact\",\n",
    "    validate_parameters=1,\n",
    "    verbosity=0,\n",
    "    silent=False,\n",
    "    nthread=4,\n",
    "    seed=33,\n",
    ")\n",
    "\n",
    "cross_validate(xgb_regressor)\n",
    "\n",
    "xgb_regressor.fit(X, y)"
   ]
  },
  {
   "cell_type": "code",
   "execution_count": 4,
   "id": "74822504",
   "metadata": {},
   "outputs": [
    {
     "name": "stdout",
     "output_type": "stream",
     "text": [
      "X.shape:  (1865, 6)\n",
      "y.shape:  (1865, 1)\n",
      "X.shape:  (1865, 6)\n",
      "y.shape:  (1865, 1)\n",
      "Processing fold #0\n",
      "Processing fold #1\n",
      "Processing fold #2\n",
      "Processing fold #3\n",
      "Processing fold #4\n",
      "Processing fold #5\n",
      "Processing fold #6\n",
      "Processing fold #7\n",
      "Processing fold #8\n",
      "Processing fold #9\n",
      "train rmse  9.680531722500321\n",
      "validation rmse  12.018410498024384\n"
     ]
    },
    {
     "data": {
      "text/plain": [
       "XGBRegressor(base_score=0.5, booster='gbtree', colsample_bylevel=1,\n",
       "             colsample_bynode=1, colsample_bytree=1, gamma=0, gpu_id=-1,\n",
       "             importance_type='gain', interaction_constraints='',\n",
       "             learning_rate=0.300000012, max_delta_step=0, max_depth=3,\n",
       "             min_child_weight=1, missing=nan, monotone_constraints='()',\n",
       "             n_estimators=879, n_jobs=4, nthread=4, num_parallel_tree=1,\n",
       "             random_state=33, reg_alpha=0, reg_lambda=1, scale_pos_weight=1,\n",
       "             seed=33, silent=False, subsample=1, tree_method='exact',\n",
       "             validate_parameters=1, verbosity=0)"
      ]
     },
     "execution_count": 4,
     "metadata": {},
     "output_type": "execute_result"
    }
   ],
   "source": [
    "# Load data\n",
    "X, y = load_data()\n",
    "\n",
    "xgb_regressor = XGBRegressor(\n",
    "    base_score=0.5,\n",
    "    booster=\"gbtree\",\n",
    "    colsample_bylevel=1,\n",
    "    colsample_bynode=1,\n",
    "    colsample_bytree=1,\n",
    "    gamma=0,\n",
    "    gpu_id=-1,\n",
    "    interaction_constraints=\"\",\n",
    "    learning_rate=0.300000012,\n",
    "    max_delta_step=0,\n",
    "    max_depth=3,\n",
    "    min_child_weight=1,\n",
    "    missing=float(\"nan\"),\n",
    "    monotone_constraints=\"()\",\n",
    "    n_estimators=879,\n",
    "    num_parallel_tree=1,\n",
    "    random_state=33,\n",
    "    reg_alpha=0,\n",
    "    reg_lambda=1,\n",
    "    scale_pos_weight=1,\n",
    "    subsample=1,\n",
    "    tree_method=\"exact\",\n",
    "    validate_parameters=1,\n",
    "    verbosity=0,\n",
    "    silent=False,\n",
    "    nthread=4,\n",
    "    seed=33,\n",
    ")\n",
    "\n",
    "cross_validate(xgb_regressor)\n",
    "\n",
    "xgb_regressor.fit(X, y)"
   ]
  },
  {
   "cell_type": "markdown",
   "id": "781af7c2",
   "metadata": {},
   "source": [
    "# DNN using Scikit-learn"
   ]
  },
  {
   "cell_type": "code",
   "execution_count": 10,
   "id": "389b0e8b",
   "metadata": {},
   "outputs": [
    {
     "name": "stdout",
     "output_type": "stream",
     "text": [
      "X.shape:  (1865, 6)\n",
      "y.shape:  (1865, 1)\n",
      "Processing fold #0\n"
     ]
    },
    {
     "name": "stderr",
     "output_type": "stream",
     "text": [
      "/Users/shaikhq/opt/anaconda3/lib/python3.8/site-packages/sklearn/utils/validation.py:63: DataConversionWarning: A column-vector y was passed when a 1d array was expected. Please change the shape of y to (n_samples, ), for example using ravel().\n",
      "  return f(*args, **kwargs)\n",
      "/Users/shaikhq/opt/anaconda3/lib/python3.8/site-packages/sklearn/neural_network/_multilayer_perceptron.py:614: ConvergenceWarning: Stochastic Optimizer: Maximum iterations (100) reached and the optimization hasn't converged yet.\n",
      "  warnings.warn(\n",
      "/Users/shaikhq/opt/anaconda3/lib/python3.8/site-packages/sklearn/utils/validation.py:63: DataConversionWarning: A column-vector y was passed when a 1d array was expected. Please change the shape of y to (n_samples, ), for example using ravel().\n",
      "  return f(*args, **kwargs)\n"
     ]
    },
    {
     "name": "stdout",
     "output_type": "stream",
     "text": [
      "Processing fold #1\n"
     ]
    },
    {
     "name": "stderr",
     "output_type": "stream",
     "text": [
      "/Users/shaikhq/opt/anaconda3/lib/python3.8/site-packages/sklearn/neural_network/_multilayer_perceptron.py:614: ConvergenceWarning: Stochastic Optimizer: Maximum iterations (100) reached and the optimization hasn't converged yet.\n",
      "  warnings.warn(\n",
      "/Users/shaikhq/opt/anaconda3/lib/python3.8/site-packages/sklearn/utils/validation.py:63: DataConversionWarning: A column-vector y was passed when a 1d array was expected. Please change the shape of y to (n_samples, ), for example using ravel().\n",
      "  return f(*args, **kwargs)\n"
     ]
    },
    {
     "name": "stdout",
     "output_type": "stream",
     "text": [
      "Processing fold #2\n"
     ]
    },
    {
     "name": "stderr",
     "output_type": "stream",
     "text": [
      "/Users/shaikhq/opt/anaconda3/lib/python3.8/site-packages/sklearn/neural_network/_multilayer_perceptron.py:614: ConvergenceWarning: Stochastic Optimizer: Maximum iterations (100) reached and the optimization hasn't converged yet.\n",
      "  warnings.warn(\n",
      "/Users/shaikhq/opt/anaconda3/lib/python3.8/site-packages/sklearn/utils/validation.py:63: DataConversionWarning: A column-vector y was passed when a 1d array was expected. Please change the shape of y to (n_samples, ), for example using ravel().\n",
      "  return f(*args, **kwargs)\n"
     ]
    },
    {
     "name": "stdout",
     "output_type": "stream",
     "text": [
      "Processing fold #3\n"
     ]
    },
    {
     "name": "stderr",
     "output_type": "stream",
     "text": [
      "/Users/shaikhq/opt/anaconda3/lib/python3.8/site-packages/sklearn/neural_network/_multilayer_perceptron.py:614: ConvergenceWarning: Stochastic Optimizer: Maximum iterations (100) reached and the optimization hasn't converged yet.\n",
      "  warnings.warn(\n",
      "/Users/shaikhq/opt/anaconda3/lib/python3.8/site-packages/sklearn/utils/validation.py:63: DataConversionWarning: A column-vector y was passed when a 1d array was expected. Please change the shape of y to (n_samples, ), for example using ravel().\n",
      "  return f(*args, **kwargs)\n"
     ]
    },
    {
     "name": "stdout",
     "output_type": "stream",
     "text": [
      "Processing fold #4\n"
     ]
    },
    {
     "name": "stderr",
     "output_type": "stream",
     "text": [
      "/Users/shaikhq/opt/anaconda3/lib/python3.8/site-packages/sklearn/neural_network/_multilayer_perceptron.py:614: ConvergenceWarning: Stochastic Optimizer: Maximum iterations (100) reached and the optimization hasn't converged yet.\n",
      "  warnings.warn(\n",
      "/Users/shaikhq/opt/anaconda3/lib/python3.8/site-packages/sklearn/utils/validation.py:63: DataConversionWarning: A column-vector y was passed when a 1d array was expected. Please change the shape of y to (n_samples, ), for example using ravel().\n",
      "  return f(*args, **kwargs)\n"
     ]
    },
    {
     "name": "stdout",
     "output_type": "stream",
     "text": [
      "Processing fold #5\n"
     ]
    },
    {
     "name": "stderr",
     "output_type": "stream",
     "text": [
      "/Users/shaikhq/opt/anaconda3/lib/python3.8/site-packages/sklearn/neural_network/_multilayer_perceptron.py:614: ConvergenceWarning: Stochastic Optimizer: Maximum iterations (100) reached and the optimization hasn't converged yet.\n",
      "  warnings.warn(\n",
      "/Users/shaikhq/opt/anaconda3/lib/python3.8/site-packages/sklearn/utils/validation.py:63: DataConversionWarning: A column-vector y was passed when a 1d array was expected. Please change the shape of y to (n_samples, ), for example using ravel().\n",
      "  return f(*args, **kwargs)\n"
     ]
    },
    {
     "name": "stdout",
     "output_type": "stream",
     "text": [
      "Processing fold #6\n"
     ]
    },
    {
     "name": "stderr",
     "output_type": "stream",
     "text": [
      "/Users/shaikhq/opt/anaconda3/lib/python3.8/site-packages/sklearn/neural_network/_multilayer_perceptron.py:614: ConvergenceWarning: Stochastic Optimizer: Maximum iterations (100) reached and the optimization hasn't converged yet.\n",
      "  warnings.warn(\n",
      "/Users/shaikhq/opt/anaconda3/lib/python3.8/site-packages/sklearn/utils/validation.py:63: DataConversionWarning: A column-vector y was passed when a 1d array was expected. Please change the shape of y to (n_samples, ), for example using ravel().\n",
      "  return f(*args, **kwargs)\n"
     ]
    },
    {
     "name": "stdout",
     "output_type": "stream",
     "text": [
      "Processing fold #7\n"
     ]
    },
    {
     "name": "stderr",
     "output_type": "stream",
     "text": [
      "/Users/shaikhq/opt/anaconda3/lib/python3.8/site-packages/sklearn/neural_network/_multilayer_perceptron.py:614: ConvergenceWarning: Stochastic Optimizer: Maximum iterations (100) reached and the optimization hasn't converged yet.\n",
      "  warnings.warn(\n",
      "/Users/shaikhq/opt/anaconda3/lib/python3.8/site-packages/sklearn/utils/validation.py:63: DataConversionWarning: A column-vector y was passed when a 1d array was expected. Please change the shape of y to (n_samples, ), for example using ravel().\n",
      "  return f(*args, **kwargs)\n"
     ]
    },
    {
     "name": "stdout",
     "output_type": "stream",
     "text": [
      "Processing fold #8\n"
     ]
    },
    {
     "name": "stderr",
     "output_type": "stream",
     "text": [
      "/Users/shaikhq/opt/anaconda3/lib/python3.8/site-packages/sklearn/neural_network/_multilayer_perceptron.py:614: ConvergenceWarning: Stochastic Optimizer: Maximum iterations (100) reached and the optimization hasn't converged yet.\n",
      "  warnings.warn(\n",
      "/Users/shaikhq/opt/anaconda3/lib/python3.8/site-packages/sklearn/utils/validation.py:63: DataConversionWarning: A column-vector y was passed when a 1d array was expected. Please change the shape of y to (n_samples, ), for example using ravel().\n",
      "  return f(*args, **kwargs)\n"
     ]
    },
    {
     "name": "stdout",
     "output_type": "stream",
     "text": [
      "Processing fold #9\n"
     ]
    },
    {
     "name": "stderr",
     "output_type": "stream",
     "text": [
      "/Users/shaikhq/opt/anaconda3/lib/python3.8/site-packages/sklearn/neural_network/_multilayer_perceptron.py:614: ConvergenceWarning: Stochastic Optimizer: Maximum iterations (100) reached and the optimization hasn't converged yet.\n",
      "  warnings.warn(\n",
      "/Users/shaikhq/opt/anaconda3/lib/python3.8/site-packages/sklearn/utils/validation.py:63: DataConversionWarning: A column-vector y was passed when a 1d array was expected. Please change the shape of y to (n_samples, ), for example using ravel().\n",
      "  return f(*args, **kwargs)\n"
     ]
    },
    {
     "name": "stdout",
     "output_type": "stream",
     "text": [
      "train rmse  24.090031109525846\n",
      "validation rmse  24.3921060668988\n"
     ]
    },
    {
     "name": "stderr",
     "output_type": "stream",
     "text": [
      "/Users/shaikhq/opt/anaconda3/lib/python3.8/site-packages/sklearn/neural_network/_multilayer_perceptron.py:614: ConvergenceWarning: Stochastic Optimizer: Maximum iterations (100) reached and the optimization hasn't converged yet.\n",
      "  warnings.warn(\n"
     ]
    },
    {
     "data": {
      "text/plain": [
       "MLPRegressor(hidden_layer_sizes=(64, 64, 32), max_iter=100)"
      ]
     },
     "execution_count": 10,
     "metadata": {},
     "output_type": "execute_result"
    }
   ],
   "source": [
    "dnn_model = MLPRegressor(hidden_layer_sizes=(64,64,32),\n",
    "                       max_iter = 100,activation = 'relu',\n",
    "                       solver = 'adam')\n",
    "cross_validate(dnn_model)\n",
    "\n",
    "dnn_model.fit(X, y)"
   ]
  },
  {
   "cell_type": "markdown",
   "id": "c4f3b3d4",
   "metadata": {},
   "source": [
    "# All Final Models"
   ]
  },
  {
   "cell_type": "code",
   "execution_count": 11,
   "id": "26a398e3",
   "metadata": {},
   "outputs": [
    {
     "name": "stdout",
     "output_type": "stream",
     "text": [
      "df_test shape:  (467, 8)\n"
     ]
    }
   ],
   "source": [
    "X_test, Y_test = load_test_data()"
   ]
  },
  {
   "cell_type": "markdown",
   "id": "b1c23147",
   "metadata": {},
   "source": [
    "## Computing Inference Latency"
   ]
  },
  {
   "cell_type": "code",
   "execution_count": 12,
   "id": "4a55c0cb",
   "metadata": {},
   "outputs": [
    {
     "name": "stdout",
     "output_type": "stream",
     "text": [
      "tree:  961.7  μs\n"
     ]
    }
   ],
   "source": [
    "latency_sum = 0\n",
    "\n",
    "for i in range(X_test.shape[0]):\n",
    "    test_row = X_test.loc[i].to_numpy().reshape(1, -1)\n",
    "    time_start = time.time()\n",
    "    tree.predict(test_row)\n",
    "    time_end = time.time()\n",
    "    latency_sum = latency_sum + (time_end - time_start)\n",
    "\n",
    "tree_time = np.round(latency_sum / X_test.shape[0] * batch_size * 1000000, 1)\n",
    "\n",
    "print('tree: ', tree_time, ' μs')"
   ]
  },
  {
   "cell_type": "code",
   "execution_count": 13,
   "id": "a6a46977",
   "metadata": {},
   "outputs": [
    {
     "name": "stdout",
     "output_type": "stream",
     "text": [
      "forest:  9695.8  μs\n"
     ]
    }
   ],
   "source": [
    "latency_sum = 0\n",
    "\n",
    "for i in range(X_test.shape[0]):\n",
    "    test_row = X_test.loc[i].to_numpy().reshape(1, -1)\n",
    "    time_start = time.time()\n",
    "    forest.predict(test_row)\n",
    "    time_end = time.time()\n",
    "    latency_sum = latency_sum + (time_end - time_start)\n",
    "\n",
    "forest_time = np.round(latency_sum / X_test.shape[0] * batch_size * 1000000, 1)\n",
    "\n",
    "print('forest: ', forest_time, ' μs')"
   ]
  },
  {
   "cell_type": "code",
   "execution_count": 14,
   "id": "2f16edf8",
   "metadata": {},
   "outputs": [
    {
     "name": "stdout",
     "output_type": "stream",
     "text": [
      "xgb:  857.7  μs\n"
     ]
    }
   ],
   "source": [
    "latency_sum = 0\n",
    "\n",
    "for i in range(X_test.shape[0]):\n",
    "    test_row = X_test.loc[i].to_numpy().reshape(1, -1)\n",
    "    time_start = time.time()\n",
    "    xgb_regressor.predict(test_row)\n",
    "    time_end = time.time()\n",
    "    latency_sum = latency_sum + (time_end - time_start)\n",
    "\n",
    "xgb_time = np.round(latency_sum / X_test.shape[0] * batch_size * 1000000, 1)\n",
    "\n",
    "print('xgb: ', xgb_time, ' μs')"
   ]
  },
  {
   "cell_type": "code",
   "execution_count": 15,
   "id": "7fbbe7b9",
   "metadata": {},
   "outputs": [
    {
     "name": "stdout",
     "output_type": "stream",
     "text": [
      "ridge:  572.1  μs\n"
     ]
    }
   ],
   "source": [
    "latency_sum = 0\n",
    "\n",
    "for i in range(X_test.shape[0]):\n",
    "    test_row = X_test.loc[i].to_numpy().reshape(1, -1)\n",
    "    time_start = time.time()\n",
    "    ridge.predict(test_row)\n",
    "    time_end = time.time()\n",
    "    latency_sum = latency_sum + (time_end - time_start)\n",
    "\n",
    "ridge_time = np.round(latency_sum / X_test.shape[0] * batch_size * 1000000, 1)\n",
    "\n",
    "print('ridge: ', ridge_time, ' μs')"
   ]
  },
  {
   "cell_type": "code",
   "execution_count": 16,
   "id": "254e8781",
   "metadata": {},
   "outputs": [
    {
     "name": "stdout",
     "output_type": "stream",
     "text": [
      "dnn:  942.9  μs\n"
     ]
    }
   ],
   "source": [
    "latency_sum = 0\n",
    "\n",
    "for i in range(X_test.shape[0]):\n",
    "    test_row = X_test.loc[i].to_numpy().reshape(1, -1)\n",
    "    time_start = time.time()\n",
    "    dnn_model.predict(test_row)\n",
    "    time_end = time.time()\n",
    "    latency_sum = latency_sum + (time_end - time_start)\n",
    "\n",
    "dnn_time = np.round(latency_sum / X_test.shape[0] * batch_size * 1000000, 1)\n",
    "\n",
    "print('dnn: ', dnn_time, ' μs')"
   ]
  },
  {
   "cell_type": "markdown",
   "id": "efe9ab2e",
   "metadata": {},
   "source": [
    "## Generating Predictions"
   ]
  },
  {
   "cell_type": "code",
   "execution_count": 17,
   "id": "bd5fea58",
   "metadata": {},
   "outputs": [],
   "source": [
    "Y_test['tree'] = tree.predict(X_test.values)\n",
    "Y_test['forest'] = forest.predict(X_test.values)\n",
    "Y_test['xgb'] = xgb_regressor.predict(X_test.values)\n",
    "Y_test['ridge'] = ridge.predict(X_test.values)\n",
    "Y_test['dnn'] = dnn_model.predict(X_test.values)"
   ]
  },
  {
   "cell_type": "markdown",
   "id": "efd84902",
   "metadata": {},
   "source": [
    "# Computing model sizes"
   ]
  },
  {
   "cell_type": "code",
   "execution_count": 6,
   "id": "897a7768",
   "metadata": {},
   "outputs": [],
   "source": [
    "import sys\n",
    "import pickle"
   ]
  },
  {
   "cell_type": "code",
   "execution_count": 19,
   "id": "d3209918",
   "metadata": {},
   "outputs": [
    {
     "name": "stdout",
     "output_type": "stream",
     "text": [
      "Ridge: 0.5\n",
      "Decision Tree: 25.69921875\n",
      "Random Forest: 220.205078125\n",
      "XGBoost: 111.44921875\n",
      "DNN: 163.9482421875\n"
     ]
    }
   ],
   "source": [
    "# size of the ridge model\n",
    "p = pickle.dumps(ridge)\n",
    "print('Ridge:', sys.getsizeof(p) / 1024)\n",
    "\n",
    "# size of the tree model\n",
    "p = pickle.dumps(tree)\n",
    "print('Decision Tree:', sys.getsizeof(p) / 1024)\n",
    "\n",
    "# size of the forest model\n",
    "p = pickle.dumps(forest)\n",
    "print('Random Forest:', sys.getsizeof(p) / 1024)\n",
    "\n",
    "# size of the xgboost model\n",
    "p = pickle.dumps(xgb_regressor)\n",
    "print('XGBoost:', sys.getsizeof(p) / 1024)\n",
    "\n",
    "# size of the dnn model\n",
    "p = pickle.dumps(dnn_model)\n",
    "print('DNN:', sys.getsizeof(p) / 1024)"
   ]
  },
  {
   "cell_type": "code",
   "execution_count": 7,
   "id": "9aeea1a3",
   "metadata": {},
   "outputs": [
    {
     "name": "stdout",
     "output_type": "stream",
     "text": [
      "XGBoost: 947.3212890625\n"
     ]
    }
   ],
   "source": [
    "# size of the xgboost model\n",
    "p = pickle.dumps(xgb_regressor)\n",
    "print('XGBoost:', sys.getsizeof(p) / 1024)\n"
   ]
  },
  {
   "cell_type": "markdown",
   "id": "52ad03c6",
   "metadata": {},
   "source": [
    "# Creating Batches"
   ]
  },
  {
   "cell_type": "code",
   "execution_count": 20,
   "id": "81454afd",
   "metadata": {},
   "outputs": [],
   "source": [
    "# creating batches\n",
    "Y_test_batch = batch(Y_test, batch_size)"
   ]
  },
  {
   "cell_type": "code",
   "execution_count": 21,
   "id": "dbd20093",
   "metadata": {},
   "outputs": [
    {
     "data": {
      "text/html": [
       "<div>\n",
       "<style scoped>\n",
       "    .dataframe tbody tr th:only-of-type {\n",
       "        vertical-align: middle;\n",
       "    }\n",
       "\n",
       "    .dataframe tbody tr th {\n",
       "        vertical-align: top;\n",
       "    }\n",
       "\n",
       "    .dataframe thead th {\n",
       "        text-align: right;\n",
       "    }\n",
       "</style>\n",
       "<table border=\"1\" class=\"dataframe\">\n",
       "  <thead>\n",
       "    <tr style=\"text-align: right;\">\n",
       "      <th></th>\n",
       "      <th>actual</th>\n",
       "      <th>db2</th>\n",
       "      <th>tree</th>\n",
       "      <th>forest</th>\n",
       "      <th>xgb</th>\n",
       "      <th>ridge</th>\n",
       "      <th>dnn</th>\n",
       "    </tr>\n",
       "  </thead>\n",
       "  <tbody>\n",
       "    <tr>\n",
       "      <th>0</th>\n",
       "      <td>1578.396</td>\n",
       "      <td>3006.988</td>\n",
       "      <td>1585.663703</td>\n",
       "      <td>1583.820729</td>\n",
       "      <td>1577.508911</td>\n",
       "      <td>1544.282099</td>\n",
       "      <td>1537.702780</td>\n",
       "    </tr>\n",
       "    <tr>\n",
       "      <th>1</th>\n",
       "      <td>1070.720</td>\n",
       "      <td>3829.064</td>\n",
       "      <td>1066.728834</td>\n",
       "      <td>1066.239446</td>\n",
       "      <td>1067.234863</td>\n",
       "      <td>1052.596066</td>\n",
       "      <td>1111.761479</td>\n",
       "    </tr>\n",
       "    <tr>\n",
       "      <th>2</th>\n",
       "      <td>1147.360</td>\n",
       "      <td>3477.612</td>\n",
       "      <td>1101.182858</td>\n",
       "      <td>1100.338928</td>\n",
       "      <td>1109.234131</td>\n",
       "      <td>1104.035575</td>\n",
       "      <td>1096.504103</td>\n",
       "    </tr>\n",
       "    <tr>\n",
       "      <th>3</th>\n",
       "      <td>1284.616</td>\n",
       "      <td>3649.988</td>\n",
       "      <td>1269.454354</td>\n",
       "      <td>1265.628531</td>\n",
       "      <td>1276.667603</td>\n",
       "      <td>1227.628750</td>\n",
       "      <td>1213.781077</td>\n",
       "    </tr>\n",
       "    <tr>\n",
       "      <th>4</th>\n",
       "      <td>911.604</td>\n",
       "      <td>4200.320</td>\n",
       "      <td>870.647962</td>\n",
       "      <td>866.810505</td>\n",
       "      <td>872.874573</td>\n",
       "      <td>899.355404</td>\n",
       "      <td>878.483250</td>\n",
       "    </tr>\n",
       "  </tbody>\n",
       "</table>\n",
       "</div>"
      ],
      "text/plain": [
       "     actual       db2         tree       forest          xgb        ridge  \\\n",
       "0  1578.396  3006.988  1585.663703  1583.820729  1577.508911  1544.282099   \n",
       "1  1070.720  3829.064  1066.728834  1066.239446  1067.234863  1052.596066   \n",
       "2  1147.360  3477.612  1101.182858  1100.338928  1109.234131  1104.035575   \n",
       "3  1284.616  3649.988  1269.454354  1265.628531  1276.667603  1227.628750   \n",
       "4   911.604  4200.320   870.647962   866.810505   872.874573   899.355404   \n",
       "\n",
       "           dnn  \n",
       "0  1537.702780  \n",
       "1  1111.761479  \n",
       "2  1096.504103  \n",
       "3  1213.781077  \n",
       "4   878.483250  "
      ]
     },
     "execution_count": 21,
     "metadata": {},
     "output_type": "execute_result"
    }
   ],
   "source": [
    "Y_test_batch.head()"
   ]
  },
  {
   "cell_type": "code",
   "execution_count": 22,
   "id": "c51c4484",
   "metadata": {},
   "outputs": [],
   "source": [
    "Y_test_batch = Y_test_batch[['actual', 'db2', 'tree', 'forest', 'xgb', 'ridge', 'dnn']]"
   ]
  },
  {
   "cell_type": "code",
   "execution_count": 23,
   "id": "388f3132",
   "metadata": {},
   "outputs": [
    {
     "name": "stdout",
     "output_type": "stream",
     "text": [
      "Test RMSE\n",
      "{'db2': 2034.0, 'tree': 30.0, 'forest': 30.0, 'xgb': 31.0, 'ridge': 74.0, 'dnn': 69.0}\n"
     ]
    }
   ],
   "source": [
    "print('Test RMSE')\n",
    "print(rmse(Y_test_batch))"
   ]
  },
  {
   "cell_type": "code",
   "execution_count": 24,
   "id": "c2dafd5a",
   "metadata": {},
   "outputs": [
    {
     "name": "stdout",
     "output_type": "stream",
     "text": [
      "BOX PLOT\n"
     ]
    },
    {
     "data": {
      "image/png": "[encoded data removed]",
      "text/plain": [
       "<Figure size 720x216 with 1 Axes>"
      ]
     },
     "metadata": {},
     "output_type": "display_data"
    }
   ],
   "source": [
    "print('BOX PLOT')\n",
    "box_plot(Y_test_batch)"
   ]
  },
  {
   "cell_type": "code",
   "execution_count": 25,
   "id": "66204962",
   "metadata": {},
   "outputs": [
    {
     "data": {
      "text/plain": [
       "(46, 7)"
      ]
     },
     "execution_count": 25,
     "metadata": {},
     "output_type": "execute_result"
    }
   ],
   "source": [
    "Y_test_batch.shape"
   ]
  },
  {
   "cell_type": "code",
   "execution_count": 26,
   "id": "0ee8c5b7",
   "metadata": {},
   "outputs": [
    {
     "data": {
      "text/html": [
       "<div>\n",
       "<style scoped>\n",
       "    .dataframe tbody tr th:only-of-type {\n",
       "        vertical-align: middle;\n",
       "    }\n",
       "\n",
       "    .dataframe tbody tr th {\n",
       "        vertical-align: top;\n",
       "    }\n",
       "\n",
       "    .dataframe thead th {\n",
       "        text-align: right;\n",
       "    }\n",
       "</style>\n",
       "<table border=\"1\" class=\"dataframe\">\n",
       "  <thead>\n",
       "    <tr style=\"text-align: right;\">\n",
       "      <th></th>\n",
       "      <th>actual</th>\n",
       "      <th>db2</th>\n",
       "      <th>tree</th>\n",
       "      <th>forest</th>\n",
       "      <th>xgb</th>\n",
       "      <th>ridge</th>\n",
       "      <th>dnn</th>\n",
       "    </tr>\n",
       "  </thead>\n",
       "  <tbody>\n",
       "    <tr>\n",
       "      <th>0</th>\n",
       "      <td>1578.396</td>\n",
       "      <td>3006.988</td>\n",
       "      <td>1585.663703</td>\n",
       "      <td>1583.820729</td>\n",
       "      <td>1577.508911</td>\n",
       "      <td>1544.282099</td>\n",
       "      <td>1537.702780</td>\n",
       "    </tr>\n",
       "    <tr>\n",
       "      <th>1</th>\n",
       "      <td>1070.720</td>\n",
       "      <td>3829.064</td>\n",
       "      <td>1066.728834</td>\n",
       "      <td>1066.239446</td>\n",
       "      <td>1067.234863</td>\n",
       "      <td>1052.596066</td>\n",
       "      <td>1111.761479</td>\n",
       "    </tr>\n",
       "    <tr>\n",
       "      <th>2</th>\n",
       "      <td>1147.360</td>\n",
       "      <td>3477.612</td>\n",
       "      <td>1101.182858</td>\n",
       "      <td>1100.338928</td>\n",
       "      <td>1109.234131</td>\n",
       "      <td>1104.035575</td>\n",
       "      <td>1096.504103</td>\n",
       "    </tr>\n",
       "    <tr>\n",
       "      <th>3</th>\n",
       "      <td>1284.616</td>\n",
       "      <td>3649.988</td>\n",
       "      <td>1269.454354</td>\n",
       "      <td>1265.628531</td>\n",
       "      <td>1276.667603</td>\n",
       "      <td>1227.628750</td>\n",
       "      <td>1213.781077</td>\n",
       "    </tr>\n",
       "    <tr>\n",
       "      <th>4</th>\n",
       "      <td>911.604</td>\n",
       "      <td>4200.320</td>\n",
       "      <td>870.647962</td>\n",
       "      <td>866.810505</td>\n",
       "      <td>872.874573</td>\n",
       "      <td>899.355404</td>\n",
       "      <td>878.483250</td>\n",
       "    </tr>\n",
       "  </tbody>\n",
       "</table>\n",
       "</div>"
      ],
      "text/plain": [
       "     actual       db2         tree       forest          xgb        ridge  \\\n",
       "0  1578.396  3006.988  1585.663703  1583.820729  1577.508911  1544.282099   \n",
       "1  1070.720  3829.064  1066.728834  1066.239446  1067.234863  1052.596066   \n",
       "2  1147.360  3477.612  1101.182858  1100.338928  1109.234131  1104.035575   \n",
       "3  1284.616  3649.988  1269.454354  1265.628531  1276.667603  1227.628750   \n",
       "4   911.604  4200.320   870.647962   866.810505   872.874573   899.355404   \n",
       "\n",
       "           dnn  \n",
       "0  1537.702780  \n",
       "1  1111.761479  \n",
       "2  1096.504103  \n",
       "3  1213.781077  \n",
       "4   878.483250  "
      ]
     },
     "execution_count": 26,
     "metadata": {},
     "output_type": "execute_result"
    }
   ],
   "source": [
    "Y_test_batch.head()"
   ]
  },
  {
   "cell_type": "markdown",
   "id": "ee447781",
   "metadata": {},
   "source": [
    "# Inter-Quartile Range (IQR)"
   ]
  },
  {
   "cell_type": "code",
   "execution_count": 27,
   "id": "e9b470b6",
   "metadata": {},
   "outputs": [],
   "source": [
    "residuals = calculate_residuals(Y_test_batch)"
   ]
  },
  {
   "cell_type": "code",
   "execution_count": 28,
   "id": "d4043558",
   "metadata": {},
   "outputs": [
    {
     "data": {
      "text/plain": [
       "array([1393.65 , 2366.734])"
      ]
     },
     "execution_count": 28,
     "metadata": {},
     "output_type": "execute_result"
    }
   ],
   "source": [
    "np.percentile(residuals['db2'], [25, 75])"
   ]
  },
  {
   "cell_type": "code",
   "execution_count": 29,
   "id": "3b154fd4",
   "metadata": {},
   "outputs": [
    {
     "data": {
      "text/plain": [
       "array([-52.0087458 ,  48.87434744])"
      ]
     },
     "execution_count": 29,
     "metadata": {},
     "output_type": "execute_result"
    }
   ],
   "source": [
    "np.percentile(residuals['ridge'], [25, 75])"
   ]
  },
  {
   "cell_type": "code",
   "execution_count": 30,
   "id": "bbd5d1c1",
   "metadata": {},
   "outputs": [
    {
     "data": {
      "text/plain": [
       "array([-17.48840457,   7.5888406 ])"
      ]
     },
     "execution_count": 30,
     "metadata": {},
     "output_type": "execute_result"
    }
   ],
   "source": [
    "np.percentile(residuals['tree'], [25, 75])"
   ]
  },
  {
   "cell_type": "code",
   "execution_count": 31,
   "id": "23e9f532",
   "metadata": {},
   "outputs": [
    {
     "data": {
      "text/plain": [
       "array([-17.47030057,   5.25924784])"
      ]
     },
     "execution_count": 31,
     "metadata": {},
     "output_type": "execute_result"
    }
   ],
   "source": [
    "np.percentile(residuals['forest'], [25, 75])"
   ]
  },
  {
   "cell_type": "code",
   "execution_count": 32,
   "id": "bedaf1be",
   "metadata": {},
   "outputs": [
    {
     "data": {
      "text/plain": [
       "array([-15.66519092,  10.59202576])"
      ]
     },
     "execution_count": 32,
     "metadata": {},
     "output_type": "execute_result"
    }
   ],
   "source": [
    "np.percentile(residuals['xgb'], [25, 75])"
   ]
  },
  {
   "cell_type": "code",
   "execution_count": 33,
   "id": "08dcbff4",
   "metadata": {},
   "outputs": [
    {
     "data": {
      "text/plain": [
       "array([-54.92350396,  51.37880566])"
      ]
     },
     "execution_count": 33,
     "metadata": {},
     "output_type": "execute_result"
    }
   ],
   "source": [
    "np.percentile(residuals['dnn'], [25, 75])"
   ]
  },
  {
   "cell_type": "code",
   "execution_count": null,
   "id": "82dca99b",
   "metadata": {},
   "outputs": [],
   "source": []
  }
 ],
 "metadata": {
  "kernelspec": {
   "display_name": "Python 3",
   "language": "python",
   "name": "python3"
  },
  "language_info": {
   "codemirror_mode": {
    "name": "ipython",
    "version": 3
   },
   "file_extension": ".py",
   "mimetype": "text/x-python",
   "name": "python",
   "nbconvert_exporter": "python",
   "pygments_lexer": "ipython3",
   "version": "3.8.8"
  }
 },
 "nbformat": 4,
 "nbformat_minor": 5
}
