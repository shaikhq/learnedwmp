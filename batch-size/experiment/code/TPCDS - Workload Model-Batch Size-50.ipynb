{
 "cells": [
  {
   "cell_type": "code",
   "execution_count": 20,
   "id": "784f94ad",
   "metadata": {},
   "outputs": [],
   "source": [
    "import pandas as pd\n",
    "import numpy as np\n",
    "from sklearn.model_selection import validation_curve\n",
    "import matplotlib.pyplot as plt\n",
    "from sklearn.ensemble import RandomForestRegressor\n",
    "from sklearn.tree import DecisionTreeRegressor\n",
    "from xgboost import XGBRegressor\n",
    "from sklearn.linear_model import Ridge\n",
    "\n",
    "from sklearn.neural_network import MLPRegressor\n",
    "\n",
    "from sklearn.metrics import mean_squared_error\n",
    "\n",
    "import time\n",
    "\n",
    "pd.set_option('display.max_rows', None)"
   ]
  },
  {
   "cell_type": "code",
   "execution_count": 21,
   "id": "31c3b3e5",
   "metadata": {},
   "outputs": [],
   "source": [
    "def load_data():\n",
    "    df = pd.read_csv('../data/train_workloads_final_110_clusters_50_batch.csv')\n",
    "    \n",
    "    feature_cols = ['cluster_0', 'cluster_1', 'cluster_2', 'cluster_3', 'cluster_4', 'cluster_5', 'cluster_6', 'cluster_7', 'cluster_8', 'cluster_9', 'cluster_10', 'cluster_11', 'cluster_12', 'cluster_13', 'cluster_14', 'cluster_15', 'cluster_16', 'cluster_17', 'cluster_18', 'cluster_19', 'cluster_20', 'cluster_21', 'cluster_22', 'cluster_23', 'cluster_24', 'cluster_25', 'cluster_26', 'cluster_27', 'cluster_28', 'cluster_29', 'cluster_30', 'cluster_31', 'cluster_32', 'cluster_33', 'cluster_34', 'cluster_35', 'cluster_36', 'cluster_37', 'cluster_38', 'cluster_39', 'cluster_40', 'cluster_41', 'cluster_42', 'cluster_43', 'cluster_44', 'cluster_45', 'cluster_46', 'cluster_47', 'cluster_48', 'cluster_49', 'cluster_50', 'cluster_51', 'cluster_52', 'cluster_53', 'cluster_54', 'cluster_55', 'cluster_56', 'cluster_57', 'cluster_58', 'cluster_59', 'cluster_60', 'cluster_61', 'cluster_62', 'cluster_63', 'cluster_64', 'cluster_65', 'cluster_66', 'cluster_67', 'cluster_68', 'cluster_69', 'cluster_70', 'cluster_71', 'cluster_72', 'cluster_73', 'cluster_74', 'cluster_75', 'cluster_76', 'cluster_77', 'cluster_78', 'cluster_79', 'cluster_80', 'cluster_81', 'cluster_82', 'cluster_83', 'cluster_84', 'cluster_85', 'cluster_86', 'cluster_87', 'cluster_88', 'cluster_89', 'cluster_90', 'cluster_91', 'cluster_92', 'cluster_93', 'cluster_94', 'cluster_95', 'cluster_96', 'cluster_97', 'cluster_98', 'cluster_99', 'cluster_100', 'cluster_101', 'cluster_102', 'cluster_103', 'cluster_104', 'cluster_105', 'cluster_106', 'cluster_107', 'cluster_108', 'cluster_109']\n",
    "    target_col = ['actual']\n",
    "    \n",
    "    X = df[feature_cols]\n",
    "    y = df[target_col]\n",
    "    \n",
    "    print('X.shape: ', X.shape)\n",
    "    print('y.shape: ', y.shape)\n",
    "    \n",
    "    return X.values, y.values\n",
    "\n",
    "def load_test_data():\n",
    "    df = pd.read_csv('../data/test_workloads_final_110_clusters_50_batch.csv')\n",
    "    \n",
    "    feature_cols = ['cluster_0', 'cluster_1', 'cluster_2', 'cluster_3', 'cluster_4', 'cluster_5', 'cluster_6', 'cluster_7', 'cluster_8', 'cluster_9', 'cluster_10', 'cluster_11', 'cluster_12', 'cluster_13', 'cluster_14', 'cluster_15', 'cluster_16', 'cluster_17', 'cluster_18', 'cluster_19', 'cluster_20', 'cluster_21', 'cluster_22', 'cluster_23', 'cluster_24', 'cluster_25', 'cluster_26', 'cluster_27', 'cluster_28', 'cluster_29', 'cluster_30', 'cluster_31', 'cluster_32', 'cluster_33', 'cluster_34', 'cluster_35', 'cluster_36', 'cluster_37', 'cluster_38', 'cluster_39', 'cluster_40', 'cluster_41', 'cluster_42', 'cluster_43', 'cluster_44', 'cluster_45', 'cluster_46', 'cluster_47', 'cluster_48', 'cluster_49', 'cluster_50', 'cluster_51', 'cluster_52', 'cluster_53', 'cluster_54', 'cluster_55', 'cluster_56', 'cluster_57', 'cluster_58', 'cluster_59', 'cluster_60', 'cluster_61', 'cluster_62', 'cluster_63', 'cluster_64', 'cluster_65', 'cluster_66', 'cluster_67', 'cluster_68', 'cluster_69', 'cluster_70', 'cluster_71', 'cluster_72', 'cluster_73', 'cluster_74', 'cluster_75', 'cluster_76', 'cluster_77', 'cluster_78', 'cluster_79', 'cluster_80', 'cluster_81', 'cluster_82', 'cluster_83', 'cluster_84', 'cluster_85', 'cluster_86', 'cluster_87', 'cluster_88', 'cluster_89', 'cluster_90', 'cluster_91', 'cluster_92', 'cluster_93', 'cluster_94', 'cluster_95', 'cluster_96', 'cluster_97', 'cluster_98', 'cluster_99', 'cluster_100', 'cluster_101', 'cluster_102', 'cluster_103', 'cluster_104', 'cluster_105', 'cluster_106', 'cluster_107', 'cluster_108', 'cluster_109']\n",
    "    target_cols = ['db2', 'actual']\n",
    "    \n",
    "    X = df[feature_cols]\n",
    "    Y = df[target_cols]\n",
    "    \n",
    "    return X, Y\n",
    "\n",
    "def my_validation_curve(estimator_name, estimator, param_name, param_range):\n",
    "    train_scores, valid_scores = validation_curve(estimator, X, y, param_name=param_name,\n",
    "        param_range=param_range, cv=10, scoring=\"neg_mean_squared_error\",\n",
    "    )\n",
    "\n",
    "    train_scores = np.sqrt(np.abs(train_scores))\n",
    "    valid_scores = np.sqrt(np.abs(valid_scores))\n",
    "    \n",
    "    print(len(train_scores))\n",
    "    print(len(valid_scores))\n",
    "\n",
    "    train_scores_mean = np.mean(train_scores, axis=1)\n",
    "    valid_scores_mean = np.mean(valid_scores, axis=1)\n",
    "    \n",
    "    title_str = \"Validation Curve with \" + estimator_name\n",
    "    plt.title(title_str)\n",
    "    plt.xlabel(param_name)\n",
    "    plt.ylabel(\"RMSE\")\n",
    "    plt.plot(param_range, train_scores_mean, label=\"train rmse\")\n",
    "    plt.plot(param_range, valid_scores_mean, label=\"validation rmse\")\n",
    "\n",
    "    plt.legend(loc='lower right')\n",
    "    plt.show()\n",
    "    \n",
    "    train_rmse = [round(elem, 2) for elem in train_scores_mean]\n",
    "    valid_rmse = [round(elem, 2) for elem in valid_scores_mean]\n",
    "    \n",
    "    df_scores = pd.DataFrame({param_name: param_range, 'training rmse': train_rmse, 'validation rmse': valid_rmse})\n",
    "    print(df_scores)\n",
    "    \n",
    "def cross_validate(model):\n",
    "    # Load data\n",
    "    X, y = load_data()\n",
    "    train_data = X.copy()\n",
    "    train_targets = y.copy()\n",
    "\n",
    "    k = 10\n",
    "    num_val_samples = len(train_data) // k\n",
    "    all_train_scores = []\n",
    "    all_scores = []\n",
    "    \n",
    "    for i in range(k):\n",
    "        print(f\"Processing fold #{i}\")\n",
    "        val_data = train_data[i * num_val_samples: (i + 1) * num_val_samples]\n",
    "        val_targets = train_targets[i * num_val_samples: (i + 1) * num_val_samples]\n",
    "        \n",
    "        partial_train_data = np.concatenate([train_data[:i * num_val_samples],\n",
    "                                             train_data[(i + 1) * num_val_samples:]], axis=0)\n",
    "        \n",
    "        partial_train_targets = np.concatenate([train_targets[:i * num_val_samples],\n",
    "                                                train_targets[(i + 1) * num_val_samples:]], axis=0)\n",
    "\n",
    "        model.fit(partial_train_data, partial_train_targets)\n",
    "    \n",
    "        train_mse = mean_squared_error(partial_train_targets, model.predict(partial_train_data))\n",
    "        val_mse = mean_squared_error(val_targets, model.predict(val_data))\n",
    "    \n",
    "        all_train_scores.append(train_mse)\n",
    "        all_scores.append(val_mse)\n",
    "    \n",
    "    print('train rmse ', np.sqrt(np.mean(all_train_scores)))\n",
    "    print('validation rmse ', np.sqrt(np.mean(all_scores)))"
   ]
  },
  {
   "cell_type": "markdown",
   "id": "552363a9",
   "metadata": {},
   "source": [
    "# XGB Regressor "
   ]
  },
  {
   "cell_type": "code",
   "execution_count": 22,
   "id": "90a9ed3e",
   "metadata": {},
   "outputs": [
    {
     "name": "stdout",
     "output_type": "stream",
     "text": [
      "X.shape:  (1370, 110)\n",
      "y.shape:  (1370, 1)\n",
      "Processing fold #0\n",
      "Processing fold #1\n",
      "Processing fold #2\n",
      "Processing fold #3\n",
      "Processing fold #4\n",
      "Processing fold #5\n",
      "Processing fold #6\n",
      "Processing fold #7\n",
      "Processing fold #8\n",
      "Processing fold #9\n",
      "train rmse  451.28076168214636\n",
      "validation rmse  587.803025679425\n"
     ]
    }
   ],
   "source": [
    "# final model\n",
    "xgb_regressor = XGBRegressor(\n",
    "    base_score=0.5,\n",
    "    booster=\"gbtree\",\n",
    "    colsample_bylevel=1,\n",
    "    colsample_bynode=1,\n",
    "    colsample_bytree=1,\n",
    "    gamma=0,\n",
    "    gpu_id=-1,\n",
    "    interaction_constraints=\"\",\n",
    "    n_estimators=200,\n",
    "    learning_rate=1.0,\n",
    "    max_delta_step=0,\n",
    "    max_depth=1,\n",
    "    min_child_weight=2,\n",
    "    missing=float(\"nan\"),\n",
    "    monotone_constraints=\"()\",\n",
    "    n_jobs=-1,\n",
    "    num_parallel_tree=1,\n",
    "    random_state=33,\n",
    "    reg_alpha=1,\n",
    "    reg_lambda=1.0,\n",
    "    scale_pos_weight=1,\n",
    "    subsample=0.9996300055522972,\n",
    "    tree_method=\"exact\",\n",
    "    validate_parameters=1,\n",
    "    verbosity=0,\n",
    "    silent=False,\n",
    "    nthread=4,\n",
    "    seed=33,\n",
    ")\n",
    "\n",
    "cross_validate(xgb_regressor)"
   ]
  },
  {
   "cell_type": "markdown",
   "id": "8c6306ad",
   "metadata": {},
   "source": [
    "\n",
    "\n",
    "\n",
    "\n",
    "\n",
    "\n",
    "\n",
    "# All final models"
   ]
  },
  {
   "cell_type": "code",
   "execution_count": 23,
   "id": "81ba7bad",
   "metadata": {},
   "outputs": [],
   "source": [
    "models = [xgb_regressor]"
   ]
  },
  {
   "cell_type": "code",
   "execution_count": 24,
   "id": "c06c7199",
   "metadata": {},
   "outputs": [],
   "source": [
    "X_test, Y_test = load_test_data()"
   ]
  },
  {
   "cell_type": "code",
   "execution_count": 25,
   "id": "7569e5aa",
   "metadata": {},
   "outputs": [
    {
     "data": {
      "text/plain": [
       "(342, 110)"
      ]
     },
     "execution_count": 25,
     "metadata": {},
     "output_type": "execute_result"
    }
   ],
   "source": [
    "X_test.shape"
   ]
  },
  {
   "cell_type": "code",
   "execution_count": 26,
   "id": "381b3d23",
   "metadata": {},
   "outputs": [
    {
     "data": {
      "text/plain": [
       "342"
      ]
     },
     "execution_count": 26,
     "metadata": {},
     "output_type": "execute_result"
    }
   ],
   "source": [
    "Y_test.shape[0]"
   ]
  },
  {
   "cell_type": "code",
   "execution_count": 27,
   "id": "104dc4ce",
   "metadata": {},
   "outputs": [],
   "source": [
    "num_test_workloads = Y_test.shape[0]"
   ]
  },
  {
   "cell_type": "code",
   "execution_count": 28,
   "id": "d1f12bc3",
   "metadata": {
    "scrolled": true
   },
   "outputs": [
    {
     "data": {
      "text/plain": [
       "342"
      ]
     },
     "execution_count": 28,
     "metadata": {},
     "output_type": "execute_result"
    }
   ],
   "source": [
    "X_test.shape[0]"
   ]
  },
  {
   "cell_type": "markdown",
   "id": "104eeee9",
   "metadata": {},
   "source": [
    "## Generating Predictions"
   ]
  },
  {
   "cell_type": "code",
   "execution_count": 29,
   "id": "ea08beec",
   "metadata": {},
   "outputs": [],
   "source": [
    "Y_test['xgb'] = xgb_regressor.predict(X_test.values)"
   ]
  },
  {
   "cell_type": "code",
   "execution_count": 30,
   "id": "6e38da02",
   "metadata": {},
   "outputs": [
    {
     "data": {
      "text/html": [
       "<div>\n",
       "<style scoped>\n",
       "    .dataframe tbody tr th:only-of-type {\n",
       "        vertical-align: middle;\n",
       "    }\n",
       "\n",
       "    .dataframe tbody tr th {\n",
       "        vertical-align: top;\n",
       "    }\n",
       "\n",
       "    .dataframe thead th {\n",
       "        text-align: right;\n",
       "    }\n",
       "</style>\n",
       "<table border=\"1\" class=\"dataframe\">\n",
       "  <thead>\n",
       "    <tr style=\"text-align: right;\">\n",
       "      <th></th>\n",
       "      <th>db2</th>\n",
       "      <th>actual</th>\n",
       "      <th>xgb</th>\n",
       "    </tr>\n",
       "  </thead>\n",
       "  <tbody>\n",
       "    <tr>\n",
       "      <th>0</th>\n",
       "      <td>15645.956</td>\n",
       "      <td>23842.064</td>\n",
       "      <td>23244.818359</td>\n",
       "    </tr>\n",
       "    <tr>\n",
       "      <th>1</th>\n",
       "      <td>13802.936</td>\n",
       "      <td>21645.340</td>\n",
       "      <td>20747.507812</td>\n",
       "    </tr>\n",
       "    <tr>\n",
       "      <th>2</th>\n",
       "      <td>16441.604</td>\n",
       "      <td>32478.996</td>\n",
       "      <td>31493.230469</td>\n",
       "    </tr>\n",
       "    <tr>\n",
       "      <th>3</th>\n",
       "      <td>19066.052</td>\n",
       "      <td>25228.696</td>\n",
       "      <td>24704.291016</td>\n",
       "    </tr>\n",
       "    <tr>\n",
       "      <th>4</th>\n",
       "      <td>11631.220</td>\n",
       "      <td>16488.256</td>\n",
       "      <td>16931.574219</td>\n",
       "    </tr>\n",
       "  </tbody>\n",
       "</table>\n",
       "</div>"
      ],
      "text/plain": [
       "         db2     actual           xgb\n",
       "0  15645.956  23842.064  23244.818359\n",
       "1  13802.936  21645.340  20747.507812\n",
       "2  16441.604  32478.996  31493.230469\n",
       "3  19066.052  25228.696  24704.291016\n",
       "4  11631.220  16488.256  16931.574219"
      ]
     },
     "execution_count": 30,
     "metadata": {},
     "output_type": "execute_result"
    }
   ],
   "source": [
    "Y_test.head()"
   ]
  },
  {
   "cell_type": "code",
   "execution_count": 31,
   "id": "47846ab9",
   "metadata": {},
   "outputs": [
    {
     "data": {
      "text/html": [
       "<div>\n",
       "<style scoped>\n",
       "    .dataframe tbody tr th:only-of-type {\n",
       "        vertical-align: middle;\n",
       "    }\n",
       "\n",
       "    .dataframe tbody tr th {\n",
       "        vertical-align: top;\n",
       "    }\n",
       "\n",
       "    .dataframe thead th {\n",
       "        text-align: right;\n",
       "    }\n",
       "</style>\n",
       "<table border=\"1\" class=\"dataframe\">\n",
       "  <thead>\n",
       "    <tr style=\"text-align: right;\">\n",
       "      <th></th>\n",
       "      <th>db2</th>\n",
       "      <th>actual</th>\n",
       "      <th>xgb</th>\n",
       "    </tr>\n",
       "  </thead>\n",
       "  <tbody>\n",
       "    <tr>\n",
       "      <th>0</th>\n",
       "      <td>15645.956</td>\n",
       "      <td>23842.064</td>\n",
       "      <td>23244.818359</td>\n",
       "    </tr>\n",
       "    <tr>\n",
       "      <th>1</th>\n",
       "      <td>13802.936</td>\n",
       "      <td>21645.340</td>\n",
       "      <td>20747.507812</td>\n",
       "    </tr>\n",
       "    <tr>\n",
       "      <th>2</th>\n",
       "      <td>16441.604</td>\n",
       "      <td>32478.996</td>\n",
       "      <td>31493.230469</td>\n",
       "    </tr>\n",
       "    <tr>\n",
       "      <th>3</th>\n",
       "      <td>19066.052</td>\n",
       "      <td>25228.696</td>\n",
       "      <td>24704.291016</td>\n",
       "    </tr>\n",
       "    <tr>\n",
       "      <th>4</th>\n",
       "      <td>11631.220</td>\n",
       "      <td>16488.256</td>\n",
       "      <td>16931.574219</td>\n",
       "    </tr>\n",
       "  </tbody>\n",
       "</table>\n",
       "</div>"
      ],
      "text/plain": [
       "         db2     actual           xgb\n",
       "0  15645.956  23842.064  23244.818359\n",
       "1  13802.936  21645.340  20747.507812\n",
       "2  16441.604  32478.996  31493.230469\n",
       "3  19066.052  25228.696  24704.291016\n",
       "4  11631.220  16488.256  16931.574219"
      ]
     },
     "execution_count": 31,
     "metadata": {},
     "output_type": "execute_result"
    }
   ],
   "source": [
    "Y_test.head()"
   ]
  },
  {
   "cell_type": "code",
   "execution_count": 32,
   "id": "1cefefd2",
   "metadata": {},
   "outputs": [],
   "source": [
    "Y_test = Y_test[['actual', 'db2', 'xgb']]"
   ]
  },
  {
   "cell_type": "code",
   "execution_count": 33,
   "id": "ce242246",
   "metadata": {},
   "outputs": [],
   "source": [
    "from sklearn.metrics import mean_squared_error\n",
    "\n",
    "def rmse(Y):\n",
    "    cols = Y.columns.values[1:]\n",
    "    rmse_dict = {}\n",
    "    \n",
    "    for col in cols:\n",
    "        rmse = np.round(np.sqrt(mean_squared_error(Y['actual'].values, Y[col].values)))\n",
    "        rmse_dict[col] = rmse\n",
    "    \n",
    "    return rmse_dict"
   ]
  },
  {
   "cell_type": "code",
   "execution_count": 34,
   "id": "323de5cd",
   "metadata": {},
   "outputs": [
    {
     "name": "stdout",
     "output_type": "stream",
     "text": [
      "TEST RMSE\n"
     ]
    },
    {
     "data": {
      "text/plain": [
       "{'db2': 8206.0, 'xgb': 593.0}"
      ]
     },
     "execution_count": 34,
     "metadata": {},
     "output_type": "execute_result"
    }
   ],
   "source": [
    "print('TEST RMSE')\n",
    "rmse(Y_test)"
   ]
  },
  {
   "cell_type": "markdown",
   "id": "87fb9e05",
   "metadata": {},
   "source": [
    "### calculating Mean Absolute Percent Error (MAPE)"
   ]
  },
  {
   "cell_type": "markdown",
   "id": "44e9b4e2",
   "metadata": {},
   "source": [
    "# loading the original test data again for using with the MAPE\n",
    "the re-loading is done as the RMSE function in the previous step had modified the test dataframe"
   ]
  },
  {
   "cell_type": "code",
   "execution_count": 35,
   "id": "66ba3f3a",
   "metadata": {},
   "outputs": [],
   "source": [
    "X_test, Y_test = load_test_data()"
   ]
  },
  {
   "cell_type": "code",
   "execution_count": 36,
   "id": "d63135da",
   "metadata": {},
   "outputs": [],
   "source": [
    "Y_test['xgb'] = xgb_regressor.predict(X_test.values)\n",
    "\n",
    "Y_test = Y_test[['actual', 'db2', 'xgb']]"
   ]
  },
  {
   "cell_type": "code",
   "execution_count": 37,
   "id": "015b883a",
   "metadata": {},
   "outputs": [],
   "source": [
    "from sklearn.metrics import mean_absolute_percentage_error\n",
    "\n",
    "def mape(Y):\n",
    "    cols = Y.columns.values[1:]\n",
    "    mape_dict = {}\n",
    "    \n",
    "    for col in cols:\n",
    "        mape = mean_absolute_percentage_error(Y['actual'].values, Y[col].values) * 100\n",
    "        mape_dict[col] = mape\n",
    "    \n",
    "    return mape_dict"
   ]
  },
  {
   "cell_type": "code",
   "execution_count": 38,
   "id": "ddd3f996",
   "metadata": {},
   "outputs": [
    {
     "name": "stdout",
     "output_type": "stream",
     "text": [
      "TEST MAPE\n"
     ]
    },
    {
     "data": {
      "text/plain": [
       "{'db2': 33.1393622386074, 'xgb': 2.2104347531579474}"
      ]
     },
     "execution_count": 38,
     "metadata": {},
     "output_type": "execute_result"
    }
   ],
   "source": [
    "print('TEST MAPE')\n",
    "mape(Y_test)"
   ]
  },
  {
   "cell_type": "code",
   "execution_count": null,
   "id": "bf9d7162",
   "metadata": {},
   "outputs": [],
   "source": []
  }
 ],
 "metadata": {
  "kernelspec": {
   "display_name": "Python 3 (ipykernel)",
   "language": "python",
   "name": "python3"
  },
  "language_info": {
   "codemirror_mode": {
    "name": "ipython",
    "version": 3
   },
   "file_extension": ".py",
   "mimetype": "text/x-python",
   "name": "python",
   "nbconvert_exporter": "python",
   "pygments_lexer": "ipython3",
   "version": "3.8.13"
  }
 },
 "nbformat": 4,
 "nbformat_minor": 5
}
