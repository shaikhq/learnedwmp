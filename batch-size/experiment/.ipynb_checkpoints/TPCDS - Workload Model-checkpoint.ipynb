{
 "cells": [
  {
   "cell_type": "code",
   "execution_count": 1,
   "id": "784f94ad",
   "metadata": {},
   "outputs": [],
   "source": [
    "import pandas as pd\n",
    "import numpy as np\n",
    "from sklearn.model_selection import validation_curve\n",
    "import matplotlib.pyplot as plt\n",
    "from sklearn.ensemble import RandomForestRegressor\n",
    "from sklearn.tree import DecisionTreeRegressor\n",
    "from xgboost import XGBRegressor\n",
    "from tensorflow.keras import models, layers\n",
    "from sklearn.linear_model import Ridge\n",
    "\n",
    "from sklearn.neural_network import MLPRegressor\n",
    "\n",
    "from sklearn.metrics import mean_squared_error\n",
    "\n",
    "pd.set_option('display.max_rows', None)"
   ]
  },
  {
   "cell_type": "code",
   "execution_count": 2,
   "id": "31c3b3e5",
   "metadata": {},
   "outputs": [],
   "source": [
    "def load_data():\n",
    "    df = pd.read_csv('tpcds_workload_train_110_clusters.csv')\n",
    "    \n",
    "    feature_cols = ['cluster_0.0', 'cluster_1.0', 'cluster_2.0', 'cluster_3.0', 'cluster_4.0', 'cluster_5.0', 'cluster_6.0', 'cluster_7.0', 'cluster_8.0', 'cluster_9.0', 'cluster_10.0', 'cluster_11.0', 'cluster_12.0', 'cluster_13.0', 'cluster_14.0', 'cluster_15.0', 'cluster_16.0', 'cluster_17.0', 'cluster_18.0', 'cluster_19.0', 'cluster_20.0', 'cluster_21.0', 'cluster_22.0', 'cluster_23.0', 'cluster_24.0', 'cluster_25.0', 'cluster_26.0', 'cluster_27.0', 'cluster_28.0', 'cluster_29.0', 'cluster_30.0', 'cluster_31.0', 'cluster_32.0', 'cluster_33.0', 'cluster_34.0', 'cluster_35.0', 'cluster_36.0', 'cluster_37.0', 'cluster_38.0', 'cluster_39.0', 'cluster_40.0', 'cluster_41.0', 'cluster_42.0', 'cluster_43.0', 'cluster_44.0', 'cluster_45.0', 'cluster_46.0', 'cluster_47.0', 'cluster_48.0', 'cluster_49.0', 'cluster_50.0', 'cluster_51.0', 'cluster_52.0', 'cluster_53.0', 'cluster_54.0', 'cluster_55.0', 'cluster_56.0', 'cluster_57.0', 'cluster_58.0', 'cluster_59.0', 'cluster_60.0', 'cluster_61.0', 'cluster_62.0', 'cluster_63.0', 'cluster_64.0', 'cluster_65.0', 'cluster_66.0', 'cluster_67.0', 'cluster_68.0', 'cluster_69.0', 'cluster_70.0', 'cluster_71.0', 'cluster_72.0', 'cluster_73.0', 'cluster_74.0', 'cluster_75.0', 'cluster_76.0', 'cluster_77.0', 'cluster_78.0', 'cluster_79.0', 'cluster_80.0', 'cluster_81.0', 'cluster_82.0', 'cluster_83.0', 'cluster_84.0', 'cluster_85.0', 'cluster_86.0', 'cluster_87.0', 'cluster_88.0', 'cluster_89.0', 'cluster_90.0', 'cluster_91.0', 'cluster_92.0', 'cluster_93.0', 'cluster_94.0', 'cluster_95.0', 'cluster_96.0', 'cluster_97.0', 'cluster_98.0', 'cluster_99.0', 'cluster_100.0', 'cluster_101.0', 'cluster_102.0', 'cluster_103.0', 'cluster_104.0', 'cluster_105.0', 'cluster_106.0', 'cluster_107.0', 'cluster_108.0', 'cluster_109.0']\n",
    "    target_col = ['actual']\n",
    "    \n",
    "    X = df[feature_cols]\n",
    "    y = df[target_col]\n",
    "    \n",
    "    print('X.shape: ', X.shape)\n",
    "    print('y.shape: ', y.shape)\n",
    "    \n",
    "    return X.values, y.values\n",
    "\n",
    "def load_test_data():\n",
    "    df = pd.read_csv('tpcds_workload_test_110_clusters.csv')\n",
    "    \n",
    "    feature_cols = ['cluster_0.0', 'cluster_1.0', 'cluster_2.0', 'cluster_3.0', 'cluster_4.0', 'cluster_5.0', 'cluster_6.0', 'cluster_7.0', 'cluster_8.0', 'cluster_9.0', 'cluster_10.0', 'cluster_11.0', 'cluster_12.0', 'cluster_13.0', 'cluster_14.0', 'cluster_15.0', 'cluster_16.0', 'cluster_17.0', 'cluster_18.0', 'cluster_19.0', 'cluster_20.0', 'cluster_21.0', 'cluster_22.0', 'cluster_23.0', 'cluster_24.0', 'cluster_25.0', 'cluster_26.0', 'cluster_27.0', 'cluster_28.0', 'cluster_29.0', 'cluster_30.0', 'cluster_31.0', 'cluster_32.0', 'cluster_33.0', 'cluster_34.0', 'cluster_35.0', 'cluster_36.0', 'cluster_37.0', 'cluster_38.0', 'cluster_39.0', 'cluster_40.0', 'cluster_41.0', 'cluster_42.0', 'cluster_43.0', 'cluster_44.0', 'cluster_45.0', 'cluster_46.0', 'cluster_47.0', 'cluster_48.0', 'cluster_49.0', 'cluster_50.0', 'cluster_51.0', 'cluster_52.0', 'cluster_53.0', 'cluster_54.0', 'cluster_55.0', 'cluster_56.0', 'cluster_57.0', 'cluster_58.0', 'cluster_59.0', 'cluster_60.0', 'cluster_61.0', 'cluster_62.0', 'cluster_63.0', 'cluster_64.0', 'cluster_65.0', 'cluster_66.0', 'cluster_67.0', 'cluster_68.0', 'cluster_69.0', 'cluster_70.0', 'cluster_71.0', 'cluster_72.0', 'cluster_73.0', 'cluster_74.0', 'cluster_75.0', 'cluster_76.0', 'cluster_77.0', 'cluster_78.0', 'cluster_79.0', 'cluster_80.0', 'cluster_81.0', 'cluster_82.0', 'cluster_83.0', 'cluster_84.0', 'cluster_85.0', 'cluster_86.0', 'cluster_87.0', 'cluster_88.0', 'cluster_89.0', 'cluster_90.0', 'cluster_91.0', 'cluster_92.0', 'cluster_93.0', 'cluster_94.0', 'cluster_95.0', 'cluster_96.0', 'cluster_97.0', 'cluster_98.0', 'cluster_99.0', 'cluster_100.0', 'cluster_101.0', 'cluster_102.0', 'cluster_103.0', 'cluster_104.0', 'cluster_105.0', 'cluster_106.0', 'cluster_107.0', 'cluster_108.0', 'cluster_109.0']\n",
    "    target_cols = ['db2', 'actual']\n",
    "    \n",
    "    X = df[feature_cols]\n",
    "    Y = df[target_cols]\n",
    "    \n",
    "    return X, Y\n",
    "\n",
    "def my_validation_curve(estimator_name, estimator, param_name, param_range):\n",
    "    train_scores, valid_scores = validation_curve(estimator, X, y, param_name=param_name,\n",
    "        param_range=param_range, cv=10, scoring=\"neg_mean_squared_error\",\n",
    "    )\n",
    "\n",
    "    train_scores = np.sqrt(np.abs(train_scores))\n",
    "    valid_scores = np.sqrt(np.abs(valid_scores))\n",
    "    \n",
    "    print(len(train_scores))\n",
    "    print(len(valid_scores))\n",
    "\n",
    "    train_scores_mean = np.mean(train_scores, axis=1)\n",
    "    valid_scores_mean = np.mean(valid_scores, axis=1)\n",
    "    \n",
    "    title_str = \"Validation Curve with \" + estimator_name\n",
    "    plt.title(title_str)\n",
    "    plt.xlabel(param_name)\n",
    "    plt.ylabel(\"RMSE\")\n",
    "    plt.plot(param_range, train_scores_mean, label=\"train rmse\")\n",
    "    plt.plot(param_range, valid_scores_mean, label=\"validation rmse\")\n",
    "\n",
    "    plt.legend(loc='lower right')\n",
    "    plt.show()\n",
    "    \n",
    "    train_rmse = [round(elem, 2) for elem in train_scores_mean]\n",
    "    valid_rmse = [round(elem, 2) for elem in valid_scores_mean]\n",
    "    \n",
    "    df_scores = pd.DataFrame({param_name: param_range, 'training rmse': train_rmse, 'validation rmse': valid_rmse})\n",
    "    print(df_scores)\n",
    "    \n",
    "def cross_validate(model):\n",
    "    # Load data\n",
    "    X, y = load_data()\n",
    "    train_data = X.copy()\n",
    "    train_targets = y.copy()\n",
    "\n",
    "    k = 10\n",
    "    num_val_samples = len(train_data) // k\n",
    "    all_train_scores = []\n",
    "    all_scores = []\n",
    "    \n",
    "    for i in range(k):\n",
    "        print(f\"Processing fold #{i}\")\n",
    "        val_data = train_data[i * num_val_samples: (i + 1) * num_val_samples]\n",
    "        val_targets = train_targets[i * num_val_samples: (i + 1) * num_val_samples]\n",
    "        \n",
    "        partial_train_data = np.concatenate([train_data[:i * num_val_samples],\n",
    "                                             train_data[(i + 1) * num_val_samples:]], axis=0)\n",
    "        \n",
    "        partial_train_targets = np.concatenate([train_targets[:i * num_val_samples],\n",
    "                                                train_targets[(i + 1) * num_val_samples:]], axis=0)\n",
    "\n",
    "        model.fit(partial_train_data, partial_train_targets)\n",
    "    \n",
    "        train_mse = mean_squared_error(partial_train_targets, model.predict(partial_train_data))\n",
    "        val_mse = mean_squared_error(val_targets, model.predict(val_data))\n",
    "    \n",
    "        all_train_scores.append(train_mse)\n",
    "        all_scores.append(val_mse)\n",
    "    \n",
    "    print('train rmse ', np.sqrt(np.mean(all_train_scores)))\n",
    "    print('validation rmse ', np.sqrt(np.mean(all_scores)))"
   ]
  },
  {
   "cell_type": "markdown",
   "id": "d1edd128",
   "metadata": {},
   "source": [
    "# Ridge"
   ]
  },
  {
   "cell_type": "code",
   "execution_count": 3,
   "id": "abde0806",
   "metadata": {},
   "outputs": [
    {
     "name": "stdout",
     "output_type": "stream",
     "text": [
      "X.shape:  (6850, 110)\n",
      "y.shape:  (6850, 1)\n",
      "X.shape:  (6850, 110)\n",
      "y.shape:  (6850, 1)\n",
      "Processing fold #0\n",
      "Processing fold #1\n",
      "Processing fold #2\n",
      "Processing fold #3\n",
      "Processing fold #4\n",
      "Processing fold #5\n",
      "Processing fold #6\n",
      "Processing fold #7\n",
      "Processing fold #8\n",
      "Processing fold #9\n",
      "train rmse  164.66337584022025\n",
      "validation rmse  167.71209648510293\n"
     ]
    },
    {
     "data": {
      "text/plain": [
       "Ridge(alpha=0.01, random_state=42, solver='lsqr')"
      ]
     },
     "execution_count": 3,
     "metadata": {},
     "output_type": "execute_result"
    }
   ],
   "source": [
    "# Load data\n",
    "X, y = load_data()\n",
    "\n",
    "ridge = Ridge(\n",
    "        fit_intercept=True, \n",
    "        solver='lsqr',\n",
    "        alpha = 0.01,\n",
    "        random_state=42)\n",
    "\n",
    "cross_validate(ridge)\n",
    "\n",
    "ridge.fit(X, y)"
   ]
  },
  {
   "cell_type": "markdown",
   "id": "b91a8e35",
   "metadata": {},
   "source": [
    "# Decision Tree Regressor"
   ]
  },
  {
   "cell_type": "code",
   "execution_count": 4,
   "id": "6d467a2b",
   "metadata": {},
   "outputs": [
    {
     "name": "stdout",
     "output_type": "stream",
     "text": [
      "X.shape:  (6850, 110)\n",
      "y.shape:  (6850, 1)\n",
      "Processing fold #0\n",
      "Processing fold #1\n",
      "Processing fold #2\n",
      "Processing fold #3\n",
      "Processing fold #4\n",
      "Processing fold #5\n",
      "Processing fold #6\n",
      "Processing fold #7\n",
      "Processing fold #8\n",
      "Processing fold #9\n",
      "train rmse  577.8166552563571\n",
      "validation rmse  673.0562330911188\n"
     ]
    },
    {
     "data": {
      "text/plain": [
       "DecisionTreeRegressor(max_depth=10, max_features=80)"
      ]
     },
     "execution_count": 4,
     "metadata": {},
     "output_type": "execute_result"
    }
   ],
   "source": [
    "# final model\n",
    "tree = DecisionTreeRegressor(max_depth=10, max_features=80)\n",
    "\n",
    "cross_validate(tree)\n",
    "\n",
    "tree.fit(X, y)"
   ]
  },
  {
   "cell_type": "markdown",
   "id": "04e8e0dc",
   "metadata": {},
   "source": [
    "# RandomForestRegressor"
   ]
  },
  {
   "cell_type": "code",
   "execution_count": 5,
   "id": "dd06cfac",
   "metadata": {},
   "outputs": [
    {
     "name": "stdout",
     "output_type": "stream",
     "text": [
      "X.shape:  (6850, 110)\n",
      "y.shape:  (6850, 1)\n",
      "Processing fold #0\n",
      "Processing fold #1\n"
     ]
    },
    {
     "name": "stderr",
     "output_type": "stream",
     "text": [
      "/var/folders/1v/zdszy15n595bb2xxfx_p9bhw0000gn/T/ipykernel_51721/428214877.py:78: DataConversionWarning: A column-vector y was passed when a 1d array was expected. Please change the shape of y to (n_samples,), for example using ravel().\n",
      "  model.fit(partial_train_data, partial_train_targets)\n",
      "/var/folders/1v/zdszy15n595bb2xxfx_p9bhw0000gn/T/ipykernel_51721/428214877.py:78: DataConversionWarning: A column-vector y was passed when a 1d array was expected. Please change the shape of y to (n_samples,), for example using ravel().\n",
      "  model.fit(partial_train_data, partial_train_targets)\n"
     ]
    },
    {
     "name": "stdout",
     "output_type": "stream",
     "text": [
      "Processing fold #2\n",
      "Processing fold #3\n",
      "Processing fold #4\n"
     ]
    },
    {
     "name": "stderr",
     "output_type": "stream",
     "text": [
      "/var/folders/1v/zdszy15n595bb2xxfx_p9bhw0000gn/T/ipykernel_51721/428214877.py:78: DataConversionWarning: A column-vector y was passed when a 1d array was expected. Please change the shape of y to (n_samples,), for example using ravel().\n",
      "  model.fit(partial_train_data, partial_train_targets)\n",
      "/var/folders/1v/zdszy15n595bb2xxfx_p9bhw0000gn/T/ipykernel_51721/428214877.py:78: DataConversionWarning: A column-vector y was passed when a 1d array was expected. Please change the shape of y to (n_samples,), for example using ravel().\n",
      "  model.fit(partial_train_data, partial_train_targets)\n",
      "/var/folders/1v/zdszy15n595bb2xxfx_p9bhw0000gn/T/ipykernel_51721/428214877.py:78: DataConversionWarning: A column-vector y was passed when a 1d array was expected. Please change the shape of y to (n_samples,), for example using ravel().\n",
      "  model.fit(partial_train_data, partial_train_targets)\n"
     ]
    },
    {
     "name": "stdout",
     "output_type": "stream",
     "text": [
      "Processing fold #5\n",
      "Processing fold #6\n"
     ]
    },
    {
     "name": "stderr",
     "output_type": "stream",
     "text": [
      "/var/folders/1v/zdszy15n595bb2xxfx_p9bhw0000gn/T/ipykernel_51721/428214877.py:78: DataConversionWarning: A column-vector y was passed when a 1d array was expected. Please change the shape of y to (n_samples,), for example using ravel().\n",
      "  model.fit(partial_train_data, partial_train_targets)\n",
      "/var/folders/1v/zdszy15n595bb2xxfx_p9bhw0000gn/T/ipykernel_51721/428214877.py:78: DataConversionWarning: A column-vector y was passed when a 1d array was expected. Please change the shape of y to (n_samples,), for example using ravel().\n",
      "  model.fit(partial_train_data, partial_train_targets)\n"
     ]
    },
    {
     "name": "stdout",
     "output_type": "stream",
     "text": [
      "Processing fold #7\n",
      "Processing fold #8\n"
     ]
    },
    {
     "name": "stderr",
     "output_type": "stream",
     "text": [
      "/var/folders/1v/zdszy15n595bb2xxfx_p9bhw0000gn/T/ipykernel_51721/428214877.py:78: DataConversionWarning: A column-vector y was passed when a 1d array was expected. Please change the shape of y to (n_samples,), for example using ravel().\n",
      "  model.fit(partial_train_data, partial_train_targets)\n",
      "/var/folders/1v/zdszy15n595bb2xxfx_p9bhw0000gn/T/ipykernel_51721/428214877.py:78: DataConversionWarning: A column-vector y was passed when a 1d array was expected. Please change the shape of y to (n_samples,), for example using ravel().\n",
      "  model.fit(partial_train_data, partial_train_targets)\n"
     ]
    },
    {
     "name": "stdout",
     "output_type": "stream",
     "text": [
      "Processing fold #9\n",
      "train rmse  220.55958314147068\n",
      "validation rmse  520.8488963063653\n"
     ]
    },
    {
     "name": "stderr",
     "output_type": "stream",
     "text": [
      "/var/folders/1v/zdszy15n595bb2xxfx_p9bhw0000gn/T/ipykernel_51721/428214877.py:78: DataConversionWarning: A column-vector y was passed when a 1d array was expected. Please change the shape of y to (n_samples,), for example using ravel().\n",
      "  model.fit(partial_train_data, partial_train_targets)\n",
      "/var/folders/1v/zdszy15n595bb2xxfx_p9bhw0000gn/T/ipykernel_51721/768724348.py:12: DataConversionWarning: A column-vector y was passed when a 1d array was expected. Please change the shape of y to (n_samples,), for example using ravel().\n",
      "  forest.fit(X, y)\n"
     ]
    },
    {
     "data": {
      "text/plain": [
       "RandomForestRegressor(max_depth=50, n_estimators=10, n_jobs=-1, random_state=1)"
      ]
     },
     "execution_count": 5,
     "metadata": {},
     "output_type": "execute_result"
    }
   ],
   "source": [
    "forest = RandomForestRegressor(min_samples_split=2, \n",
    "                              min_samples_leaf=1, \n",
    "                              max_features='auto', \n",
    "                              max_depth=50, \n",
    "                              bootstrap=True,\n",
    "                              criterion='mse', \n",
    "                              random_state=1, \n",
    "                              n_jobs=-1, \n",
    "                              n_estimators=10)\n",
    "\n",
    "cross_validate(forest)\n",
    "forest.fit(X, y)"
   ]
  },
  {
   "cell_type": "markdown",
   "id": "552363a9",
   "metadata": {},
   "source": [
    "# XGB Regressor "
   ]
  },
  {
   "cell_type": "code",
   "execution_count": 6,
   "id": "39eed489",
   "metadata": {},
   "outputs": [
    {
     "name": "stdout",
     "output_type": "stream",
     "text": [
      "X.shape:  (6850, 110)\n",
      "y.shape:  (6850, 1)\n",
      "Processing fold #0\n",
      "Processing fold #1\n",
      "Processing fold #2\n",
      "Processing fold #3\n",
      "Processing fold #4\n",
      "Processing fold #5\n",
      "Processing fold #6\n",
      "Processing fold #7\n",
      "Processing fold #8\n",
      "Processing fold #9\n",
      "train rmse  172.71174331788586\n",
      "validation rmse  184.06229405086287\n"
     ]
    },
    {
     "data": {
      "text/plain": [
       "XGBRegressor(base_score=0.5, booster='gbtree', colsample_bylevel=1,\n",
       "             colsample_bynode=1, colsample_bytree=1, gamma=0, gpu_id=-1,\n",
       "             importance_type='gain', interaction_constraints='',\n",
       "             learning_rate=1.0, max_delta_step=0, max_depth=1,\n",
       "             min_child_weight=2, missing=nan, monotone_constraints='()',\n",
       "             n_estimators=200, n_jobs=-1, nthread=4, num_parallel_tree=1,\n",
       "             random_state=33, reg_alpha=1, reg_lambda=1.0, scale_pos_weight=1,\n",
       "             seed=33, silent=False, subsample=0.9996300055522972,\n",
       "             tree_method='exact', validate_parameters=1, verbosity=0)"
      ]
     },
     "execution_count": 6,
     "metadata": {},
     "output_type": "execute_result"
    }
   ],
   "source": [
    "# final model\n",
    "xgb_regressor = XGBRegressor(\n",
    "    base_score=0.5,\n",
    "    booster=\"gbtree\",\n",
    "    colsample_bylevel=1,\n",
    "    colsample_bynode=1,\n",
    "    colsample_bytree=1,\n",
    "    gamma=0,\n",
    "    gpu_id=-1,\n",
    "    interaction_constraints=\"\",\n",
    "    n_estimators=200,\n",
    "    learning_rate=1.0,\n",
    "    max_delta_step=0,\n",
    "    max_depth=1,\n",
    "    min_child_weight=2,\n",
    "    missing=float(\"nan\"),\n",
    "    monotone_constraints=\"()\",\n",
    "    n_jobs=-1,\n",
    "    num_parallel_tree=1,\n",
    "    random_state=33,\n",
    "    reg_alpha=1,\n",
    "    reg_lambda=1.0,\n",
    "    scale_pos_weight=1,\n",
    "    subsample=0.9996300055522972,\n",
    "    tree_method=\"exact\",\n",
    "    validate_parameters=1,\n",
    "    verbosity=0,\n",
    "    silent=False,\n",
    "    nthread=4,\n",
    "    seed=33,\n",
    ")\n",
    "\n",
    "cross_validate(xgb_regressor)\n",
    "\n",
    "xgb_regressor.fit(X, y)"
   ]
  },
  {
   "cell_type": "markdown",
   "id": "8a3d6eb0",
   "metadata": {},
   "source": [
    "# Deep Neural Network (DNN)"
   ]
  },
  {
   "cell_type": "code",
   "execution_count": 7,
   "id": "dda54591",
   "metadata": {},
   "outputs": [
    {
     "name": "stdout",
     "output_type": "stream",
     "text": [
      "X.shape:  (6850, 110)\n",
      "y.shape:  (6850, 1)\n",
      "Processing fold #0\n"
     ]
    },
    {
     "name": "stderr",
     "output_type": "stream",
     "text": [
      "/Users/shaikhq/opt/anaconda3/lib/python3.8/site-packages/sklearn/utils/validation.py:63: DataConversionWarning: A column-vector y was passed when a 1d array was expected. Please change the shape of y to (n_samples, ), for example using ravel().\n",
      "  return f(*args, **kwargs)\n",
      "/Users/shaikhq/opt/anaconda3/lib/python3.8/site-packages/sklearn/neural_network/_multilayer_perceptron.py:500: ConvergenceWarning: lbfgs failed to converge (status=1):\n",
      "STOP: TOTAL NO. of ITERATIONS REACHED LIMIT.\n",
      "\n",
      "Increase the number of iterations (max_iter) or scale the data as shown in:\n",
      "    https://scikit-learn.org/stable/modules/preprocessing.html\n",
      "  self.n_iter_ = _check_optimize_result(\"lbfgs\", opt_res, self.max_iter)\n",
      "/Users/shaikhq/opt/anaconda3/lib/python3.8/site-packages/sklearn/utils/validation.py:63: DataConversionWarning: A column-vector y was passed when a 1d array was expected. Please change the shape of y to (n_samples, ), for example using ravel().\n",
      "  return f(*args, **kwargs)\n"
     ]
    },
    {
     "name": "stdout",
     "output_type": "stream",
     "text": [
      "Processing fold #1\n"
     ]
    },
    {
     "name": "stderr",
     "output_type": "stream",
     "text": [
      "/Users/shaikhq/opt/anaconda3/lib/python3.8/site-packages/sklearn/neural_network/_multilayer_perceptron.py:500: ConvergenceWarning: lbfgs failed to converge (status=1):\n",
      "STOP: TOTAL NO. of ITERATIONS REACHED LIMIT.\n",
      "\n",
      "Increase the number of iterations (max_iter) or scale the data as shown in:\n",
      "    https://scikit-learn.org/stable/modules/preprocessing.html\n",
      "  self.n_iter_ = _check_optimize_result(\"lbfgs\", opt_res, self.max_iter)\n",
      "/Users/shaikhq/opt/anaconda3/lib/python3.8/site-packages/sklearn/utils/validation.py:63: DataConversionWarning: A column-vector y was passed when a 1d array was expected. Please change the shape of y to (n_samples, ), for example using ravel().\n",
      "  return f(*args, **kwargs)\n"
     ]
    },
    {
     "name": "stdout",
     "output_type": "stream",
     "text": [
      "Processing fold #2\n"
     ]
    },
    {
     "name": "stderr",
     "output_type": "stream",
     "text": [
      "/Users/shaikhq/opt/anaconda3/lib/python3.8/site-packages/sklearn/neural_network/_multilayer_perceptron.py:500: ConvergenceWarning: lbfgs failed to converge (status=1):\n",
      "STOP: TOTAL NO. of ITERATIONS REACHED LIMIT.\n",
      "\n",
      "Increase the number of iterations (max_iter) or scale the data as shown in:\n",
      "    https://scikit-learn.org/stable/modules/preprocessing.html\n",
      "  self.n_iter_ = _check_optimize_result(\"lbfgs\", opt_res, self.max_iter)\n",
      "/Users/shaikhq/opt/anaconda3/lib/python3.8/site-packages/sklearn/utils/validation.py:63: DataConversionWarning: A column-vector y was passed when a 1d array was expected. Please change the shape of y to (n_samples, ), for example using ravel().\n",
      "  return f(*args, **kwargs)\n"
     ]
    },
    {
     "name": "stdout",
     "output_type": "stream",
     "text": [
      "Processing fold #3\n"
     ]
    },
    {
     "name": "stderr",
     "output_type": "stream",
     "text": [
      "/Users/shaikhq/opt/anaconda3/lib/python3.8/site-packages/sklearn/neural_network/_multilayer_perceptron.py:500: ConvergenceWarning: lbfgs failed to converge (status=1):\n",
      "STOP: TOTAL NO. of ITERATIONS REACHED LIMIT.\n",
      "\n",
      "Increase the number of iterations (max_iter) or scale the data as shown in:\n",
      "    https://scikit-learn.org/stable/modules/preprocessing.html\n",
      "  self.n_iter_ = _check_optimize_result(\"lbfgs\", opt_res, self.max_iter)\n",
      "/Users/shaikhq/opt/anaconda3/lib/python3.8/site-packages/sklearn/utils/validation.py:63: DataConversionWarning: A column-vector y was passed when a 1d array was expected. Please change the shape of y to (n_samples, ), for example using ravel().\n",
      "  return f(*args, **kwargs)\n"
     ]
    },
    {
     "name": "stdout",
     "output_type": "stream",
     "text": [
      "Processing fold #4\n"
     ]
    },
    {
     "name": "stderr",
     "output_type": "stream",
     "text": [
      "/Users/shaikhq/opt/anaconda3/lib/python3.8/site-packages/sklearn/neural_network/_multilayer_perceptron.py:500: ConvergenceWarning: lbfgs failed to converge (status=1):\n",
      "STOP: TOTAL NO. of ITERATIONS REACHED LIMIT.\n",
      "\n",
      "Increase the number of iterations (max_iter) or scale the data as shown in:\n",
      "    https://scikit-learn.org/stable/modules/preprocessing.html\n",
      "  self.n_iter_ = _check_optimize_result(\"lbfgs\", opt_res, self.max_iter)\n",
      "/Users/shaikhq/opt/anaconda3/lib/python3.8/site-packages/sklearn/utils/validation.py:63: DataConversionWarning: A column-vector y was passed when a 1d array was expected. Please change the shape of y to (n_samples, ), for example using ravel().\n",
      "  return f(*args, **kwargs)\n"
     ]
    },
    {
     "name": "stdout",
     "output_type": "stream",
     "text": [
      "Processing fold #5\n"
     ]
    },
    {
     "name": "stderr",
     "output_type": "stream",
     "text": [
      "/Users/shaikhq/opt/anaconda3/lib/python3.8/site-packages/sklearn/neural_network/_multilayer_perceptron.py:500: ConvergenceWarning: lbfgs failed to converge (status=1):\n",
      "STOP: TOTAL NO. of ITERATIONS REACHED LIMIT.\n",
      "\n",
      "Increase the number of iterations (max_iter) or scale the data as shown in:\n",
      "    https://scikit-learn.org/stable/modules/preprocessing.html\n",
      "  self.n_iter_ = _check_optimize_result(\"lbfgs\", opt_res, self.max_iter)\n",
      "/Users/shaikhq/opt/anaconda3/lib/python3.8/site-packages/sklearn/utils/validation.py:63: DataConversionWarning: A column-vector y was passed when a 1d array was expected. Please change the shape of y to (n_samples, ), for example using ravel().\n",
      "  return f(*args, **kwargs)\n"
     ]
    },
    {
     "name": "stdout",
     "output_type": "stream",
     "text": [
      "Processing fold #6\n"
     ]
    },
    {
     "name": "stderr",
     "output_type": "stream",
     "text": [
      "/Users/shaikhq/opt/anaconda3/lib/python3.8/site-packages/sklearn/neural_network/_multilayer_perceptron.py:500: ConvergenceWarning: lbfgs failed to converge (status=1):\n",
      "STOP: TOTAL NO. of ITERATIONS REACHED LIMIT.\n",
      "\n",
      "Increase the number of iterations (max_iter) or scale the data as shown in:\n",
      "    https://scikit-learn.org/stable/modules/preprocessing.html\n",
      "  self.n_iter_ = _check_optimize_result(\"lbfgs\", opt_res, self.max_iter)\n",
      "/Users/shaikhq/opt/anaconda3/lib/python3.8/site-packages/sklearn/utils/validation.py:63: DataConversionWarning: A column-vector y was passed when a 1d array was expected. Please change the shape of y to (n_samples, ), for example using ravel().\n",
      "  return f(*args, **kwargs)\n"
     ]
    },
    {
     "name": "stdout",
     "output_type": "stream",
     "text": [
      "Processing fold #7\n"
     ]
    },
    {
     "name": "stderr",
     "output_type": "stream",
     "text": [
      "/Users/shaikhq/opt/anaconda3/lib/python3.8/site-packages/sklearn/neural_network/_multilayer_perceptron.py:500: ConvergenceWarning: lbfgs failed to converge (status=1):\n",
      "STOP: TOTAL NO. of ITERATIONS REACHED LIMIT.\n",
      "\n",
      "Increase the number of iterations (max_iter) or scale the data as shown in:\n",
      "    https://scikit-learn.org/stable/modules/preprocessing.html\n",
      "  self.n_iter_ = _check_optimize_result(\"lbfgs\", opt_res, self.max_iter)\n",
      "/Users/shaikhq/opt/anaconda3/lib/python3.8/site-packages/sklearn/utils/validation.py:63: DataConversionWarning: A column-vector y was passed when a 1d array was expected. Please change the shape of y to (n_samples, ), for example using ravel().\n",
      "  return f(*args, **kwargs)\n"
     ]
    },
    {
     "name": "stdout",
     "output_type": "stream",
     "text": [
      "Processing fold #8\n"
     ]
    },
    {
     "name": "stderr",
     "output_type": "stream",
     "text": [
      "/Users/shaikhq/opt/anaconda3/lib/python3.8/site-packages/sklearn/neural_network/_multilayer_perceptron.py:500: ConvergenceWarning: lbfgs failed to converge (status=1):\n",
      "STOP: TOTAL NO. of ITERATIONS REACHED LIMIT.\n",
      "\n",
      "Increase the number of iterations (max_iter) or scale the data as shown in:\n",
      "    https://scikit-learn.org/stable/modules/preprocessing.html\n",
      "  self.n_iter_ = _check_optimize_result(\"lbfgs\", opt_res, self.max_iter)\n",
      "/Users/shaikhq/opt/anaconda3/lib/python3.8/site-packages/sklearn/utils/validation.py:63: DataConversionWarning: A column-vector y was passed when a 1d array was expected. Please change the shape of y to (n_samples, ), for example using ravel().\n",
      "  return f(*args, **kwargs)\n"
     ]
    },
    {
     "name": "stdout",
     "output_type": "stream",
     "text": [
      "Processing fold #9\n"
     ]
    },
    {
     "name": "stderr",
     "output_type": "stream",
     "text": [
      "/Users/shaikhq/opt/anaconda3/lib/python3.8/site-packages/sklearn/neural_network/_multilayer_perceptron.py:500: ConvergenceWarning: lbfgs failed to converge (status=1):\n",
      "STOP: TOTAL NO. of ITERATIONS REACHED LIMIT.\n",
      "\n",
      "Increase the number of iterations (max_iter) or scale the data as shown in:\n",
      "    https://scikit-learn.org/stable/modules/preprocessing.html\n",
      "  self.n_iter_ = _check_optimize_result(\"lbfgs\", opt_res, self.max_iter)\n",
      "/Users/shaikhq/opt/anaconda3/lib/python3.8/site-packages/sklearn/utils/validation.py:63: DataConversionWarning: A column-vector y was passed when a 1d array was expected. Please change the shape of y to (n_samples, ), for example using ravel().\n",
      "  return f(*args, **kwargs)\n"
     ]
    },
    {
     "name": "stdout",
     "output_type": "stream",
     "text": [
      "train rmse  164.77878250805998\n",
      "validation rmse  167.88507011709234\n"
     ]
    },
    {
     "name": "stderr",
     "output_type": "stream",
     "text": [
      "/Users/shaikhq/opt/anaconda3/lib/python3.8/site-packages/sklearn/neural_network/_multilayer_perceptron.py:500: ConvergenceWarning: lbfgs failed to converge (status=1):\n",
      "STOP: TOTAL NO. of ITERATIONS REACHED LIMIT.\n",
      "\n",
      "Increase the number of iterations (max_iter) or scale the data as shown in:\n",
      "    https://scikit-learn.org/stable/modules/preprocessing.html\n",
      "  self.n_iter_ = _check_optimize_result(\"lbfgs\", opt_res, self.max_iter)\n"
     ]
    },
    {
     "data": {
      "text/plain": [
       "MLPRegressor(activation='identity', alpha=0.001,\n",
       "             hidden_layer_sizes=(48, 39, 27, 16, 7, 5), max_iter=120,\n",
       "             random_state=6, solver='lbfgs')"
      ]
     },
     "execution_count": 7,
     "metadata": {},
     "output_type": "execute_result"
    }
   ],
   "source": [
    "dnn_model = MLPRegressor(max_iter=120,\n",
    "                     alpha=0.001,\n",
    "                     activation='identity',\n",
    "                     learning_rate= 'constant',\n",
    "                     random_state = 6,\n",
    "                     hidden_layer_sizes = (48, 39, 27, 16, 7, 5),\n",
    "                     solver = 'lbfgs'\n",
    "                    )\n",
    "cross_validate(dnn_model)\n",
    "\n",
    "dnn_model.fit(X, y)"
   ]
  },
  {
   "cell_type": "markdown",
   "id": "8c6306ad",
   "metadata": {},
   "source": [
    "\n",
    "\n",
    "\n",
    "\n",
    "\n",
    "\n",
    "\n",
    "# All final models"
   ]
  },
  {
   "cell_type": "code",
   "execution_count": 8,
   "id": "81ba7bad",
   "metadata": {},
   "outputs": [],
   "source": [
    "models = [dnn_model, tree, forest, xgb_regressor, ridge]"
   ]
  },
  {
   "cell_type": "code",
   "execution_count": 9,
   "id": "c06c7199",
   "metadata": {},
   "outputs": [],
   "source": [
    "X_test, Y_test = load_test_data()"
   ]
  },
  {
   "cell_type": "code",
   "execution_count": 10,
   "id": "7569e5aa",
   "metadata": {},
   "outputs": [
    {
     "data": {
      "text/plain": [
       "(1712, 110)"
      ]
     },
     "execution_count": 10,
     "metadata": {},
     "output_type": "execute_result"
    }
   ],
   "source": [
    "X_test.shape"
   ]
  },
  {
   "cell_type": "code",
   "execution_count": 11,
   "id": "cc9596f4",
   "metadata": {},
   "outputs": [],
   "source": [
    "import time"
   ]
  },
  {
   "cell_type": "code",
   "execution_count": 12,
   "id": "381b3d23",
   "metadata": {},
   "outputs": [
    {
     "data": {
      "text/plain": [
       "(1712, 2)"
      ]
     },
     "execution_count": 12,
     "metadata": {},
     "output_type": "execute_result"
    }
   ],
   "source": [
    "Y_test.shape"
   ]
  },
  {
   "cell_type": "code",
   "execution_count": 13,
   "id": "9cd31ca2",
   "metadata": {},
   "outputs": [
    {
     "name": "stdout",
     "output_type": "stream",
     "text": [
      "5.594730377197266\n"
     ]
    }
   ],
   "source": [
    "time1 = time.time()\n",
    "Y_test['dnn'] = dnn_model.predict(X_test.values)\n",
    "time2 = time.time()\n",
    "dnn_time = time2 - time1\n",
    "print(dnn_time * 1000)"
   ]
  },
  {
   "cell_type": "code",
   "execution_count": 14,
   "id": "43c2185b",
   "metadata": {},
   "outputs": [
    {
     "name": "stdout",
     "output_type": "stream",
     "text": [
      "2.344846725463867\n"
     ]
    }
   ],
   "source": [
    "time1 = time.time()\n",
    "Y_test['tree'] = tree.predict(X_test.values)\n",
    "time2 = time.time()\n",
    "tree_time = time2 - time1\n",
    "print(tree_time * 1000)"
   ]
  },
  {
   "cell_type": "code",
   "execution_count": 15,
   "id": "2220b0ae",
   "metadata": {},
   "outputs": [
    {
     "name": "stdout",
     "output_type": "stream",
     "text": [
      "11.847257614135742\n"
     ]
    }
   ],
   "source": [
    "time1 = time.time()\n",
    "Y_test['forest'] = forest.predict(X_test.values)\n",
    "time2 = time.time()\n",
    "forest_time = time2 - time1\n",
    "print(forest_time * 1000)"
   ]
  },
  {
   "cell_type": "code",
   "execution_count": 16,
   "id": "a0dd38da",
   "metadata": {},
   "outputs": [
    {
     "name": "stdout",
     "output_type": "stream",
     "text": [
      "3.7059783935546875\n"
     ]
    }
   ],
   "source": [
    "time1 = time.time()\n",
    "Y_test['xgb'] = xgb_regressor.predict(X_test.values)\n",
    "time2 = time.time()\n",
    "xgb_time = time2 - time1\n",
    "print(xgb_time * 1000)"
   ]
  },
  {
   "cell_type": "code",
   "execution_count": 17,
   "id": "9f3f64b8",
   "metadata": {},
   "outputs": [
    {
     "name": "stdout",
     "output_type": "stream",
     "text": [
      "2.002239227294922\n"
     ]
    }
   ],
   "source": [
    "time1 = time.time()\n",
    "Y_test['ridge'] = ridge.predict(X_test.values)\n",
    "time2 = time.time()\n",
    "ridge_time = time2 - time1\n",
    "print(ridge_time * 1000)"
   ]
  },
  {
   "cell_type": "code",
   "execution_count": 18,
   "id": "47846ab9",
   "metadata": {},
   "outputs": [
    {
     "data": {
      "text/html": [
       "<div>\n",
       "<style scoped>\n",
       "    .dataframe tbody tr th:only-of-type {\n",
       "        vertical-align: middle;\n",
       "    }\n",
       "\n",
       "    .dataframe tbody tr th {\n",
       "        vertical-align: top;\n",
       "    }\n",
       "\n",
       "    .dataframe thead th {\n",
       "        text-align: right;\n",
       "    }\n",
       "</style>\n",
       "<table border=\"1\" class=\"dataframe\">\n",
       "  <thead>\n",
       "    <tr style=\"text-align: right;\">\n",
       "      <th></th>\n",
       "      <th>db2</th>\n",
       "      <th>actual</th>\n",
       "      <th>dnn</th>\n",
       "      <th>tree</th>\n",
       "      <th>forest</th>\n",
       "      <th>xgb</th>\n",
       "      <th>ridge</th>\n",
       "    </tr>\n",
       "  </thead>\n",
       "  <tbody>\n",
       "    <tr>\n",
       "      <th>0</th>\n",
       "      <td>2026.580</td>\n",
       "      <td>4057.872</td>\n",
       "      <td>4353.020830</td>\n",
       "      <td>4816.128030</td>\n",
       "      <td>4352.826000</td>\n",
       "      <td>4373.262207</td>\n",
       "      <td>4352.236839</td>\n",
       "    </tr>\n",
       "    <tr>\n",
       "      <th>1</th>\n",
       "      <td>2835.860</td>\n",
       "      <td>5284.180</td>\n",
       "      <td>5386.716576</td>\n",
       "      <td>4921.140000</td>\n",
       "      <td>5125.304400</td>\n",
       "      <td>5380.753906</td>\n",
       "      <td>5386.058693</td>\n",
       "    </tr>\n",
       "    <tr>\n",
       "      <th>2</th>\n",
       "      <td>3561.968</td>\n",
       "      <td>4557.424</td>\n",
       "      <td>4528.819966</td>\n",
       "      <td>4007.298586</td>\n",
       "      <td>4303.146800</td>\n",
       "      <td>4536.212891</td>\n",
       "      <td>4528.395785</td>\n",
       "    </tr>\n",
       "    <tr>\n",
       "      <th>3</th>\n",
       "      <td>1270.668</td>\n",
       "      <td>2464.324</td>\n",
       "      <td>2495.611692</td>\n",
       "      <td>2402.086514</td>\n",
       "      <td>2211.950667</td>\n",
       "      <td>2471.803223</td>\n",
       "      <td>2496.162605</td>\n",
       "    </tr>\n",
       "    <tr>\n",
       "      <th>4</th>\n",
       "      <td>2133.128</td>\n",
       "      <td>2572.612</td>\n",
       "      <td>2877.081309</td>\n",
       "      <td>2402.086514</td>\n",
       "      <td>3357.377600</td>\n",
       "      <td>2821.706787</td>\n",
       "      <td>2877.401209</td>\n",
       "    </tr>\n",
       "  </tbody>\n",
       "</table>\n",
       "</div>"
      ],
      "text/plain": [
       "        db2    actual          dnn         tree       forest          xgb  \\\n",
       "0  2026.580  4057.872  4353.020830  4816.128030  4352.826000  4373.262207   \n",
       "1  2835.860  5284.180  5386.716576  4921.140000  5125.304400  5380.753906   \n",
       "2  3561.968  4557.424  4528.819966  4007.298586  4303.146800  4536.212891   \n",
       "3  1270.668  2464.324  2495.611692  2402.086514  2211.950667  2471.803223   \n",
       "4  2133.128  2572.612  2877.081309  2402.086514  3357.377600  2821.706787   \n",
       "\n",
       "         ridge  \n",
       "0  4352.236839  \n",
       "1  5386.058693  \n",
       "2  4528.395785  \n",
       "3  2496.162605  \n",
       "4  2877.401209  "
      ]
     },
     "execution_count": 18,
     "metadata": {},
     "output_type": "execute_result"
    }
   ],
   "source": [
    "Y_test.head()"
   ]
  },
  {
   "cell_type": "code",
   "execution_count": 19,
   "id": "1cefefd2",
   "metadata": {},
   "outputs": [],
   "source": [
    "Y_test = Y_test[['actual', 'db2', 'dnn', 'tree', 'forest', 'xgb', 'ridge']]"
   ]
  },
  {
   "cell_type": "code",
   "execution_count": 20,
   "id": "2ed11adf",
   "metadata": {},
   "outputs": [],
   "source": [
    "Y_test = Y_test[['actual', 'db2', 'tree', 'forest', 'xgb', 'ridge', 'dnn']]"
   ]
  },
  {
   "cell_type": "code",
   "execution_count": 21,
   "id": "ce242246",
   "metadata": {},
   "outputs": [],
   "source": [
    "from sklearn.metrics import mean_squared_error\n",
    "\n",
    "def rmse(Y):\n",
    "    cols = Y.columns.values[1:]\n",
    "    rmse_dict = {}\n",
    "    \n",
    "    for col in cols:\n",
    "        rmse = np.round(np.sqrt(mean_squared_error(Y['actual'].values, Y[col].values)))\n",
    "        rmse_dict[col] = rmse\n",
    "    \n",
    "    return rmse_dict"
   ]
  },
  {
   "cell_type": "code",
   "execution_count": 22,
   "id": "323de5cd",
   "metadata": {},
   "outputs": [
    {
     "name": "stdout",
     "output_type": "stream",
     "text": [
      "TEST RMSE\n"
     ]
    },
    {
     "data": {
      "text/plain": [
       "{'db2': 1868.0,\n",
       " 'tree': 669.0,\n",
       " 'forest': 520.0,\n",
       " 'xgb': 189.0,\n",
       " 'ridge': 169.0,\n",
       " 'dnn': 169.0}"
      ]
     },
     "execution_count": 22,
     "metadata": {},
     "output_type": "execute_result"
    }
   ],
   "source": [
    "print('TEST RMSE')\n",
    "rmse(Y_test)"
   ]
  },
  {
   "cell_type": "code",
   "execution_count": 23,
   "id": "78b6514c",
   "metadata": {},
   "outputs": [],
   "source": [
    "import seaborn as sns\n",
    "import matplotlib.pyplot as plt\n",
    "\n",
    "def calculate_residuals(Y):\n",
    "    first_col = Y.columns[0]\n",
    "    cols = Y.columns[1:]\n",
    "    df_residuals = pd.DataFrame(columns=cols)\n",
    "\n",
    "    for col in cols:\n",
    "        df_residuals[col] = Y[col] - Y[first_col]\n",
    "        \n",
    "    return df_residuals\n",
    "\n",
    "def box_plot(Y):\n",
    "    df_residuals = calculate_residuals(Y)\n",
    "    sns.set_style(\"whitegrid\", {'axes.grid' : False})\n",
    "    f = plt.figure(figsize=[10,3])\n",
    "    ax = f.add_subplot(111)\n",
    "    sns.boxplot(data=df_residuals, ax=ax, showfliers = True, orient=\"h\")\n",
    "    ax.set_xlabel(xlabel=box_plot_title,fontsize=13)\n",
    "    #plt.tick_params(axis='x',labeltop='on', labelbottom='on')\n",
    "    #ax.xaxis.set_ticks_position('both')\n",
    "    #ax.set_yticks(yticks_new)\n",
    "    #plt.setp(ax.get_yticklabels(), rotation=45)\n",
    "    font = {'family' : 'normal',\n",
    "        'weight' : 'bold',\n",
    "        'size'   : 12}\n",
    "\n",
    "    plt.rc('font', **font)\n",
    "    \n",
    "    f.tight_layout()\n",
    "    \n",
    "    plt.savefig('tpcds_workload_boxplot.png', dpi=150)"
   ]
  },
  {
   "cell_type": "code",
   "execution_count": 24,
   "id": "65bcbcc4",
   "metadata": {},
   "outputs": [],
   "source": [
    "box_plot_title = 'Memory Estimation Error (MB)'"
   ]
  },
  {
   "cell_type": "code",
   "execution_count": 25,
   "id": "b9ce6db7",
   "metadata": {},
   "outputs": [
    {
     "name": "stdout",
     "output_type": "stream",
     "text": [
      "BOX PLOT\n"
     ]
    },
    {
     "data": {
      "image/png": "[encoded data removed]",
      "text/plain": [
       "<Figure size 720x216 with 1 Axes>"
      ]
     },
     "metadata": {},
     "output_type": "display_data"
    }
   ],
   "source": [
    "print('BOX PLOT')\n",
    "box_plot(Y_test)"
   ]
  },
  {
   "cell_type": "code",
   "execution_count": 26,
   "id": "63d1f346",
   "metadata": {},
   "outputs": [
    {
     "data": {
      "text/plain": [
       "(1712, 7)"
      ]
     },
     "execution_count": 26,
     "metadata": {},
     "output_type": "execute_result"
    }
   ],
   "source": [
    "Y_test.shape"
   ]
  },
  {
   "cell_type": "code",
   "execution_count": 27,
   "id": "cbde59a2",
   "metadata": {},
   "outputs": [
    {
     "data": {
      "text/html": [
       "<div>\n",
       "<style scoped>\n",
       "    .dataframe tbody tr th:only-of-type {\n",
       "        vertical-align: middle;\n",
       "    }\n",
       "\n",
       "    .dataframe tbody tr th {\n",
       "        vertical-align: top;\n",
       "    }\n",
       "\n",
       "    .dataframe thead th {\n",
       "        text-align: right;\n",
       "    }\n",
       "</style>\n",
       "<table border=\"1\" class=\"dataframe\">\n",
       "  <thead>\n",
       "    <tr style=\"text-align: right;\">\n",
       "      <th></th>\n",
       "      <th>actual</th>\n",
       "      <th>db2</th>\n",
       "      <th>tree</th>\n",
       "      <th>forest</th>\n",
       "      <th>xgb</th>\n",
       "      <th>ridge</th>\n",
       "      <th>dnn</th>\n",
       "    </tr>\n",
       "  </thead>\n",
       "  <tbody>\n",
       "    <tr>\n",
       "      <th>0</th>\n",
       "      <td>4057.872</td>\n",
       "      <td>2026.580</td>\n",
       "      <td>4816.128030</td>\n",
       "      <td>4352.826000</td>\n",
       "      <td>4373.262207</td>\n",
       "      <td>4352.236839</td>\n",
       "      <td>4353.020830</td>\n",
       "    </tr>\n",
       "    <tr>\n",
       "      <th>1</th>\n",
       "      <td>5284.180</td>\n",
       "      <td>2835.860</td>\n",
       "      <td>4921.140000</td>\n",
       "      <td>5125.304400</td>\n",
       "      <td>5380.753906</td>\n",
       "      <td>5386.058693</td>\n",
       "      <td>5386.716576</td>\n",
       "    </tr>\n",
       "    <tr>\n",
       "      <th>2</th>\n",
       "      <td>4557.424</td>\n",
       "      <td>3561.968</td>\n",
       "      <td>4007.298586</td>\n",
       "      <td>4303.146800</td>\n",
       "      <td>4536.212891</td>\n",
       "      <td>4528.395785</td>\n",
       "      <td>4528.819966</td>\n",
       "    </tr>\n",
       "    <tr>\n",
       "      <th>3</th>\n",
       "      <td>2464.324</td>\n",
       "      <td>1270.668</td>\n",
       "      <td>2402.086514</td>\n",
       "      <td>2211.950667</td>\n",
       "      <td>2471.803223</td>\n",
       "      <td>2496.162605</td>\n",
       "      <td>2495.611692</td>\n",
       "    </tr>\n",
       "    <tr>\n",
       "      <th>4</th>\n",
       "      <td>2572.612</td>\n",
       "      <td>2133.128</td>\n",
       "      <td>2402.086514</td>\n",
       "      <td>3357.377600</td>\n",
       "      <td>2821.706787</td>\n",
       "      <td>2877.401209</td>\n",
       "      <td>2877.081309</td>\n",
       "    </tr>\n",
       "  </tbody>\n",
       "</table>\n",
       "</div>"
      ],
      "text/plain": [
       "     actual       db2         tree       forest          xgb        ridge  \\\n",
       "0  4057.872  2026.580  4816.128030  4352.826000  4373.262207  4352.236839   \n",
       "1  5284.180  2835.860  4921.140000  5125.304400  5380.753906  5386.058693   \n",
       "2  4557.424  3561.968  4007.298586  4303.146800  4536.212891  4528.395785   \n",
       "3  2464.324  1270.668  2402.086514  2211.950667  2471.803223  2496.162605   \n",
       "4  2572.612  2133.128  2402.086514  3357.377600  2821.706787  2877.401209   \n",
       "\n",
       "           dnn  \n",
       "0  4353.020830  \n",
       "1  5386.716576  \n",
       "2  4528.819966  \n",
       "3  2495.611692  \n",
       "4  2877.081309  "
      ]
     },
     "execution_count": 27,
     "metadata": {},
     "output_type": "execute_result"
    }
   ],
   "source": [
    "Y_test.head()"
   ]
  },
  {
   "cell_type": "code",
   "execution_count": 28,
   "id": "9cf7bb32",
   "metadata": {},
   "outputs": [
    {
     "data": {
      "text/plain": [
       "array([4948.54745032, 2685.9462861 ])"
      ]
     },
     "execution_count": 28,
     "metadata": {},
     "output_type": "execute_result"
    }
   ],
   "source": [
    "np.percentile(Y_test['dnn'].values, [75, 25])"
   ]
  },
  {
   "cell_type": "code",
   "execution_count": 29,
   "id": "65e2342e",
   "metadata": {},
   "outputs": [],
   "source": [
    "residuals = calculate_residuals(Y_test)"
   ]
  },
  {
   "cell_type": "code",
   "execution_count": 30,
   "id": "f025213e",
   "metadata": {},
   "outputs": [
    {
     "data": {
      "text/html": [
       "<div>\n",
       "<style scoped>\n",
       "    .dataframe tbody tr th:only-of-type {\n",
       "        vertical-align: middle;\n",
       "    }\n",
       "\n",
       "    .dataframe tbody tr th {\n",
       "        vertical-align: top;\n",
       "    }\n",
       "\n",
       "    .dataframe thead th {\n",
       "        text-align: right;\n",
       "    }\n",
       "</style>\n",
       "<table border=\"1\" class=\"dataframe\">\n",
       "  <thead>\n",
       "    <tr style=\"text-align: right;\">\n",
       "      <th></th>\n",
       "      <th>db2</th>\n",
       "      <th>tree</th>\n",
       "      <th>forest</th>\n",
       "      <th>xgb</th>\n",
       "      <th>ridge</th>\n",
       "      <th>dnn</th>\n",
       "    </tr>\n",
       "  </thead>\n",
       "  <tbody>\n",
       "    <tr>\n",
       "      <th>0</th>\n",
       "      <td>-2031.292</td>\n",
       "      <td>758.256030</td>\n",
       "      <td>294.954000</td>\n",
       "      <td>315.390207</td>\n",
       "      <td>294.364839</td>\n",
       "      <td>295.148830</td>\n",
       "    </tr>\n",
       "    <tr>\n",
       "      <th>1</th>\n",
       "      <td>-2448.320</td>\n",
       "      <td>-363.040000</td>\n",
       "      <td>-158.875600</td>\n",
       "      <td>96.573906</td>\n",
       "      <td>101.878693</td>\n",
       "      <td>102.536576</td>\n",
       "    </tr>\n",
       "    <tr>\n",
       "      <th>2</th>\n",
       "      <td>-995.456</td>\n",
       "      <td>-550.125414</td>\n",
       "      <td>-254.277200</td>\n",
       "      <td>-21.211109</td>\n",
       "      <td>-29.028215</td>\n",
       "      <td>-28.604034</td>\n",
       "    </tr>\n",
       "    <tr>\n",
       "      <th>3</th>\n",
       "      <td>-1193.656</td>\n",
       "      <td>-62.237486</td>\n",
       "      <td>-252.373333</td>\n",
       "      <td>7.479223</td>\n",
       "      <td>31.838605</td>\n",
       "      <td>31.287692</td>\n",
       "    </tr>\n",
       "    <tr>\n",
       "      <th>4</th>\n",
       "      <td>-439.484</td>\n",
       "      <td>-170.525486</td>\n",
       "      <td>784.765600</td>\n",
       "      <td>249.094787</td>\n",
       "      <td>304.789209</td>\n",
       "      <td>304.469309</td>\n",
       "    </tr>\n",
       "  </tbody>\n",
       "</table>\n",
       "</div>"
      ],
      "text/plain": [
       "        db2        tree      forest         xgb       ridge         dnn\n",
       "0 -2031.292  758.256030  294.954000  315.390207  294.364839  295.148830\n",
       "1 -2448.320 -363.040000 -158.875600   96.573906  101.878693  102.536576\n",
       "2  -995.456 -550.125414 -254.277200  -21.211109  -29.028215  -28.604034\n",
       "3 -1193.656  -62.237486 -252.373333    7.479223   31.838605   31.287692\n",
       "4  -439.484 -170.525486  784.765600  249.094787  304.789209  304.469309"
      ]
     },
     "execution_count": 30,
     "metadata": {},
     "output_type": "execute_result"
    }
   ],
   "source": [
    "residuals.head()"
   ]
  },
  {
   "cell_type": "code",
   "execution_count": 31,
   "id": "95f7baa6",
   "metadata": {},
   "outputs": [
    {
     "data": {
      "text/plain": [
       "array([ -461.006, -2063.821])"
      ]
     },
     "execution_count": 31,
     "metadata": {},
     "output_type": "execute_result"
    }
   ],
   "source": [
    "np.percentile(residuals['db2'], [75, 25])"
   ]
  },
  {
   "cell_type": "code",
   "execution_count": 32,
   "id": "ad3fa725",
   "metadata": {},
   "outputs": [
    {
     "data": {
      "text/plain": [
       "array([ 90.25293502, -80.1800147 ])"
      ]
     },
     "execution_count": 32,
     "metadata": {},
     "output_type": "execute_result"
    }
   ],
   "source": [
    "np.percentile(residuals['ridge'], [75, 25])"
   ]
  },
  {
   "cell_type": "code",
   "execution_count": 33,
   "id": "df63f755",
   "metadata": {},
   "outputs": [
    {
     "data": {
      "text/plain": [
       "array([ 431.49091638, -455.210911  ])"
      ]
     },
     "execution_count": 33,
     "metadata": {},
     "output_type": "execute_result"
    }
   ],
   "source": [
    "np.percentile(residuals['tree'], [75, 25])"
   ]
  },
  {
   "cell_type": "code",
   "execution_count": 34,
   "id": "dd55c346",
   "metadata": {},
   "outputs": [
    {
     "data": {
      "text/plain": [
       "array([-352.6258,  310.1158])"
      ]
     },
     "execution_count": 34,
     "metadata": {},
     "output_type": "execute_result"
    }
   ],
   "source": [
    "np.percentile(residuals['forest'], [25, 75])"
   ]
  },
  {
   "cell_type": "code",
   "execution_count": 35,
   "id": "b01fb787",
   "metadata": {},
   "outputs": [
    {
     "data": {
      "text/plain": [
       "array([101.56926416, -85.47036426])"
      ]
     },
     "execution_count": 35,
     "metadata": {},
     "output_type": "execute_result"
    }
   ],
   "source": [
    "np.percentile(residuals['xgb'], [75, 25])"
   ]
  },
  {
   "cell_type": "code",
   "execution_count": 36,
   "id": "df3d490e",
   "metadata": {},
   "outputs": [
    {
     "data": {
      "text/plain": [
       "array([ 91.81154439, -80.32525093])"
      ]
     },
     "execution_count": 36,
     "metadata": {},
     "output_type": "execute_result"
    }
   ],
   "source": [
    "np.percentile(residuals['dnn'], [75, 25])"
   ]
  },
  {
   "cell_type": "markdown",
   "id": "46f8f4d6",
   "metadata": {},
   "source": [
    "# Models size"
   ]
  },
  {
   "cell_type": "code",
   "execution_count": 37,
   "id": "77fe94c7",
   "metadata": {},
   "outputs": [],
   "source": [
    "import sys\n",
    "import pickle"
   ]
  },
  {
   "cell_type": "code",
   "execution_count": 38,
   "id": "b89157cb",
   "metadata": {},
   "outputs": [
    {
     "name": "stdout",
     "output_type": "stream",
     "text": [
      "Ridge: 1.380859375\n",
      "Decision Tree: 47.4501953125\n",
      "Random Forest: 5390.244140625\n",
      "XGBoost: 107.6416015625\n",
      "DNN: 73.9453125\n"
     ]
    }
   ],
   "source": [
    "# size of the ridge model\n",
    "p = pickle.dumps(ridge)\n",
    "print('Ridge:', sys.getsizeof(p) / 1024)\n",
    "\n",
    "# size of the tree model\n",
    "p = pickle.dumps(tree)\n",
    "print('Decision Tree:', sys.getsizeof(p) / 1024)\n",
    "\n",
    "# size of the forest model\n",
    "p = pickle.dumps(forest)\n",
    "print('Random Forest:', sys.getsizeof(p) / 1024)\n",
    "\n",
    "# size of the xgboost model\n",
    "p = pickle.dumps(xgb_regressor)\n",
    "print('XGBoost:', sys.getsizeof(p) / 1024)\n",
    "\n",
    "# size of the dnn model\n",
    "p = pickle.dumps(dnn_model)\n",
    "print('DNN:', sys.getsizeof(p) / 1024)"
   ]
  },
  {
   "cell_type": "code",
   "execution_count": null,
   "id": "fc360a92",
   "metadata": {},
   "outputs": [],
   "source": []
  }
 ],
 "metadata": {
  "kernelspec": {
   "display_name": "Python 3",
   "language": "python",
   "name": "python3"
  },
  "language_info": {
   "codemirror_mode": {
    "name": "ipython",
    "version": 3
   },
   "file_extension": ".py",
   "mimetype": "text/x-python",
   "name": "python",
   "nbconvert_exporter": "python",
   "pygments_lexer": "ipython3",
   "version": "3.8.8"
  }
 },
 "nbformat": 4,
 "nbformat_minor": 5
}
