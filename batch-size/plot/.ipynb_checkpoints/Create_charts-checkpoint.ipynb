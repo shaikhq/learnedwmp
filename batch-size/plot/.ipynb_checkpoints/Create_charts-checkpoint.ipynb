{
 "cells": [
  {
   "cell_type": "code",
   "execution_count": 1,
   "id": "03fd0bbd",
   "metadata": {},
   "outputs": [],
   "source": [
    "import matplotlib.pyplot as plt\n",
    "import numpy as np\n",
    "import pandas as pd"
   ]
  },
  {
   "cell_type": "code",
   "execution_count": 2,
   "id": "a62a61eb",
   "metadata": {},
   "outputs": [
    {
     "ename": "SyntaxError",
     "evalue": "invalid syntax (3885850314.py, line 1)",
     "output_type": "error",
     "traceback": [
      "\u001b[0;36m  File \u001b[0;32m\"/var/folders/1v/zdszy15n595bb2xxfx_p9bhw0000gn/T/ipykernel_13063/3885850314.py\"\u001b[0;36m, line \u001b[0;32m1\u001b[0m\n\u001b[0;31m    Non-ML        1868\u001b[0m\n\u001b[0m                  ^\u001b[0m\n\u001b[0;31mSyntaxError\u001b[0m\u001b[0;31m:\u001b[0m invalid syntax\n"
     ]
    }
   ],
   "source": [
    "        \n",
    "Non-ML        1868 \n",
    "Decision Tree 681 [-464.5, 437.95] 23.0    77.0   48.1\n",
    "Random Forest 520 [-352.6, 310.1]  96.1    2467.3 5930.2\n",
    "XGBoost       189 [-85.5, 101.6]   404.0   110.5  107.6\n",
    "Ridge         169 [-80.2, 90.3]    9.7     58.0   1.4\n",
    "DNN           169 [-80.3, 91.8]    1906.6  87.3   73.9\n",
    "Decision Tree 177 [-83.6, 94.5]    127.9   620.1  1319.8\n",
    "Random Forest 174 [-83.2, 90.7]    867.9   8517.5 9625.2\n",
    "QBML XGBoost  170 [-83.4, 93.6]    912.7   810.5  119.4\n",
    "Ridge         987 [-571.0, 665.2]  4.8     486.9  0.58\n",
    "DNN           175 [-121.1, 64.0]   46244.8 870.5  179\n",
    "\n"
   ]
  },
  {
   "cell_type": "code",
   "execution_count": 3,
   "id": "5a7ab70e",
   "metadata": {},
   "outputs": [],
   "source": [
    "names= ['DBMS-NonML',\n",
    "        'SQLRE-DT','SQLRE-RF','SQLRE-XGB','SQLRE-Ridge','SQLRE-DNN',\n",
    "        'QBML-DT','QBML-RF','QBML-XGB','QBML-Ridge','QBML-DNN']\n",
    "RMSE = [1868,681,520,189,169,169,177,174,170,987,175]\n",
    "\n",
    "test2= {'DBMS-NonML' :1868,\n",
    "        'SQLRE-DT'   :681,\n",
    "        'SQLRE-RF'   :520,\n",
    "        'SQLRE-XGB'  :189,\n",
    "        'SQLRE-Ridge':169,\n",
    "        'SQLRE-DNN'  :169,\n",
    "        'QBML-DT'    :177,\n",
    "        'QBML-RF'    :174,\n",
    "        'QBML-XGB'   :170,\n",
    "        'QBML-Ridge' :987,\n",
    "        'QBML-DNN'   :175\n",
    "       }\n",
    "\n",
    "\n",
    "bar_colors = np.random.rand(len(names),3)"
   ]
  },
  {
   "cell_type": "code",
   "execution_count": 4,
   "id": "261ac9d0",
   "metadata": {},
   "outputs": [
    {
     "data": {
      "image/png": "[encoded data removed]",
      "text/plain": [
       "<Figure size 432x288 with 1 Axes>"
      ]
     },
     "metadata": {
      "needs_background": "light"
     },
     "output_type": "display_data"
    }
   ],
   "source": [
    "import matplotlib.pyplot as plt\n",
    "import numpy as np\n",
    "import pandas as pd\n",
    "fig = plt.figure()\n",
    "ax = fig.add_axes([0,0,1,1])\n",
    "plt.xticks(rotation='vertical')\n",
    "ax.bar(names,RMSE, color=bar_colors)\n",
    "plt.legend(names, loc=0, frameon=True)\n",
    "plt.show()"
   ]
  },
  {
   "cell_type": "code",
   "execution_count": 5,
   "id": "da14db02",
   "metadata": {},
   "outputs": [
    {
     "ename": "NameError",
     "evalue": "name 'dataframe_var' is not defined",
     "output_type": "error",
     "traceback": [
      "\u001b[0;31m---------------------------------------------------------------------------\u001b[0m",
      "\u001b[0;31mNameError\u001b[0m                                 Traceback (most recent call last)",
      "\u001b[0;32m/var/folders/1v/zdszy15n595bb2xxfx_p9bhw0000gn/T/ipykernel_13063/3391631089.py\u001b[0m in \u001b[0;36m<module>\u001b[0;34m\u001b[0m\n\u001b[0;32m----> 1\u001b[0;31m \u001b[0mdataframe_var\u001b[0m\u001b[0;34m.\u001b[0m\u001b[0mplot\u001b[0m\u001b[0;34m.\u001b[0m\u001b[0mbar\u001b[0m\u001b[0;34m(\u001b[0m\u001b[0;34m)\u001b[0m\u001b[0;34m.\u001b[0m\u001b[0mlegend\u001b[0m\u001b[0;34m(\u001b[0m\u001b[0mloc\u001b[0m\u001b[0;34m=\u001b[0m\u001b[0;34m'center left'\u001b[0m\u001b[0;34m,\u001b[0m\u001b[0mbbox_to_anchor\u001b[0m\u001b[0;34m=\u001b[0m\u001b[0;34m(\u001b[0m\u001b[0;36m1.0\u001b[0m\u001b[0;34m,\u001b[0m \u001b[0;36m0.5\u001b[0m\u001b[0;34m)\u001b[0m\u001b[0;34m)\u001b[0m\u001b[0;34m;\u001b[0m\u001b[0;34m\u001b[0m\u001b[0;34m\u001b[0m\u001b[0m\n\u001b[0m",
      "\u001b[0;31mNameError\u001b[0m: name 'dataframe_var' is not defined"
     ]
    }
   ],
   "source": [
    "dataframe_var.plot.bar().legend(loc='center left',bbox_to_anchor=(1.0, 0.5));"
   ]
  },
  {
   "cell_type": "code",
   "execution_count": 6,
   "id": "000a5055",
   "metadata": {},
   "outputs": [
    {
     "name": "stdout",
     "output_type": "stream",
     "text": [
      "Requirement already satisfied: openpyxl in /Users/shaikhq/opt/anaconda3/lib/python3.8/site-packages (3.0.7)\r\n",
      "Requirement already satisfied: et-xmlfile in /Users/shaikhq/opt/anaconda3/lib/python3.8/site-packages (from openpyxl) (1.1.0)\r\n"
     ]
    }
   ],
   "source": [
    "!pip install openpyxl"
   ]
  },
  {
   "cell_type": "code",
   "execution_count": 7,
   "id": "6f930664",
   "metadata": {},
   "outputs": [
    {
     "data": {
      "image/png": "[encoded data removed]",
      "text/plain": [
       "<Figure size 432x288 with 1 Axes>"
      ]
     },
     "metadata": {
      "needs_background": "light"
     },
     "output_type": "display_data"
    }
   ],
   "source": [
    "data = pd.read_excel('data.xlsx')\n",
    "# data = data.set_index('models')\n",
    "data = data.pivot(columns='models', values='A' )\n",
    "data.plot.bar().legend(loc='center left',bbox_to_anchor=(1.0, 0.5));"
   ]
  },
  {
   "cell_type": "code",
   "execution_count": 8,
   "id": "3716463b",
   "metadata": {},
   "outputs": [
    {
     "data": {
      "text/html": [
       "<div>\n",
       "<style scoped>\n",
       "    .dataframe tbody tr th:only-of-type {\n",
       "        vertical-align: middle;\n",
       "    }\n",
       "\n",
       "    .dataframe tbody tr th {\n",
       "        vertical-align: top;\n",
       "    }\n",
       "\n",
       "    .dataframe thead th {\n",
       "        text-align: right;\n",
       "    }\n",
       "</style>\n",
       "<table border=\"1\" class=\"dataframe\">\n",
       "  <thead>\n",
       "    <tr style=\"text-align: right;\">\n",
       "      <th>models</th>\n",
       "      <th>DBMS-NonML</th>\n",
       "      <th>QBML-DNN</th>\n",
       "      <th>QBML-DT</th>\n",
       "      <th>QBML-RF</th>\n",
       "      <th>QBML-Ridge</th>\n",
       "      <th>QBML-XGB</th>\n",
       "      <th>SQLRE-DNN</th>\n",
       "      <th>SQLRE-DT</th>\n",
       "      <th>SQLRE-RF</th>\n",
       "      <th>SQLRE-Ridge</th>\n",
       "      <th>SQLRE-XGB</th>\n",
       "    </tr>\n",
       "  </thead>\n",
       "  <tbody>\n",
       "    <tr>\n",
       "      <th>0</th>\n",
       "      <td>1868.0</td>\n",
       "      <td>NaN</td>\n",
       "      <td>NaN</td>\n",
       "      <td>NaN</td>\n",
       "      <td>NaN</td>\n",
       "      <td>NaN</td>\n",
       "      <td>NaN</td>\n",
       "      <td>NaN</td>\n",
       "      <td>NaN</td>\n",
       "      <td>NaN</td>\n",
       "      <td>NaN</td>\n",
       "    </tr>\n",
       "    <tr>\n",
       "      <th>1</th>\n",
       "      <td>NaN</td>\n",
       "      <td>NaN</td>\n",
       "      <td>NaN</td>\n",
       "      <td>NaN</td>\n",
       "      <td>NaN</td>\n",
       "      <td>NaN</td>\n",
       "      <td>NaN</td>\n",
       "      <td>681.0</td>\n",
       "      <td>NaN</td>\n",
       "      <td>NaN</td>\n",
       "      <td>NaN</td>\n",
       "    </tr>\n",
       "    <tr>\n",
       "      <th>2</th>\n",
       "      <td>NaN</td>\n",
       "      <td>NaN</td>\n",
       "      <td>NaN</td>\n",
       "      <td>NaN</td>\n",
       "      <td>NaN</td>\n",
       "      <td>NaN</td>\n",
       "      <td>NaN</td>\n",
       "      <td>NaN</td>\n",
       "      <td>520.0</td>\n",
       "      <td>NaN</td>\n",
       "      <td>NaN</td>\n",
       "    </tr>\n",
       "    <tr>\n",
       "      <th>3</th>\n",
       "      <td>NaN</td>\n",
       "      <td>NaN</td>\n",
       "      <td>NaN</td>\n",
       "      <td>NaN</td>\n",
       "      <td>NaN</td>\n",
       "      <td>NaN</td>\n",
       "      <td>NaN</td>\n",
       "      <td>NaN</td>\n",
       "      <td>NaN</td>\n",
       "      <td>NaN</td>\n",
       "      <td>189.0</td>\n",
       "    </tr>\n",
       "    <tr>\n",
       "      <th>4</th>\n",
       "      <td>NaN</td>\n",
       "      <td>NaN</td>\n",
       "      <td>NaN</td>\n",
       "      <td>NaN</td>\n",
       "      <td>NaN</td>\n",
       "      <td>NaN</td>\n",
       "      <td>NaN</td>\n",
       "      <td>NaN</td>\n",
       "      <td>NaN</td>\n",
       "      <td>169.5</td>\n",
       "      <td>NaN</td>\n",
       "    </tr>\n",
       "    <tr>\n",
       "      <th>5</th>\n",
       "      <td>NaN</td>\n",
       "      <td>NaN</td>\n",
       "      <td>NaN</td>\n",
       "      <td>NaN</td>\n",
       "      <td>NaN</td>\n",
       "      <td>NaN</td>\n",
       "      <td>169.0</td>\n",
       "      <td>NaN</td>\n",
       "      <td>NaN</td>\n",
       "      <td>NaN</td>\n",
       "      <td>NaN</td>\n",
       "    </tr>\n",
       "    <tr>\n",
       "      <th>6</th>\n",
       "      <td>NaN</td>\n",
       "      <td>NaN</td>\n",
       "      <td>177.0</td>\n",
       "      <td>NaN</td>\n",
       "      <td>NaN</td>\n",
       "      <td>NaN</td>\n",
       "      <td>NaN</td>\n",
       "      <td>NaN</td>\n",
       "      <td>NaN</td>\n",
       "      <td>NaN</td>\n",
       "      <td>NaN</td>\n",
       "    </tr>\n",
       "    <tr>\n",
       "      <th>7</th>\n",
       "      <td>NaN</td>\n",
       "      <td>NaN</td>\n",
       "      <td>NaN</td>\n",
       "      <td>174.0</td>\n",
       "      <td>NaN</td>\n",
       "      <td>NaN</td>\n",
       "      <td>NaN</td>\n",
       "      <td>NaN</td>\n",
       "      <td>NaN</td>\n",
       "      <td>NaN</td>\n",
       "      <td>NaN</td>\n",
       "    </tr>\n",
       "    <tr>\n",
       "      <th>8</th>\n",
       "      <td>NaN</td>\n",
       "      <td>NaN</td>\n",
       "      <td>NaN</td>\n",
       "      <td>NaN</td>\n",
       "      <td>NaN</td>\n",
       "      <td>170.0</td>\n",
       "      <td>NaN</td>\n",
       "      <td>NaN</td>\n",
       "      <td>NaN</td>\n",
       "      <td>NaN</td>\n",
       "      <td>NaN</td>\n",
       "    </tr>\n",
       "    <tr>\n",
       "      <th>9</th>\n",
       "      <td>NaN</td>\n",
       "      <td>NaN</td>\n",
       "      <td>NaN</td>\n",
       "      <td>NaN</td>\n",
       "      <td>987.0</td>\n",
       "      <td>NaN</td>\n",
       "      <td>NaN</td>\n",
       "      <td>NaN</td>\n",
       "      <td>NaN</td>\n",
       "      <td>NaN</td>\n",
       "      <td>NaN</td>\n",
       "    </tr>\n",
       "    <tr>\n",
       "      <th>10</th>\n",
       "      <td>NaN</td>\n",
       "      <td>175.0</td>\n",
       "      <td>NaN</td>\n",
       "      <td>NaN</td>\n",
       "      <td>NaN</td>\n",
       "      <td>NaN</td>\n",
       "      <td>NaN</td>\n",
       "      <td>NaN</td>\n",
       "      <td>NaN</td>\n",
       "      <td>NaN</td>\n",
       "      <td>NaN</td>\n",
       "    </tr>\n",
       "  </tbody>\n",
       "</table>\n",
       "</div>"
      ],
      "text/plain": [
       "models  DBMS-NonML  QBML-DNN  QBML-DT  QBML-RF  QBML-Ridge  QBML-XGB  \\\n",
       "0           1868.0       NaN      NaN      NaN         NaN       NaN   \n",
       "1              NaN       NaN      NaN      NaN         NaN       NaN   \n",
       "2              NaN       NaN      NaN      NaN         NaN       NaN   \n",
       "3              NaN       NaN      NaN      NaN         NaN       NaN   \n",
       "4              NaN       NaN      NaN      NaN         NaN       NaN   \n",
       "5              NaN       NaN      NaN      NaN         NaN       NaN   \n",
       "6              NaN       NaN    177.0      NaN         NaN       NaN   \n",
       "7              NaN       NaN      NaN    174.0         NaN       NaN   \n",
       "8              NaN       NaN      NaN      NaN         NaN     170.0   \n",
       "9              NaN       NaN      NaN      NaN       987.0       NaN   \n",
       "10             NaN     175.0      NaN      NaN         NaN       NaN   \n",
       "\n",
       "models  SQLRE-DNN  SQLRE-DT  SQLRE-RF  SQLRE-Ridge  SQLRE-XGB  \n",
       "0             NaN       NaN       NaN          NaN        NaN  \n",
       "1             NaN     681.0       NaN          NaN        NaN  \n",
       "2             NaN       NaN     520.0          NaN        NaN  \n",
       "3             NaN       NaN       NaN          NaN      189.0  \n",
       "4             NaN       NaN       NaN        169.5        NaN  \n",
       "5           169.0       NaN       NaN          NaN        NaN  \n",
       "6             NaN       NaN       NaN          NaN        NaN  \n",
       "7             NaN       NaN       NaN          NaN        NaN  \n",
       "8             NaN       NaN       NaN          NaN        NaN  \n",
       "9             NaN       NaN       NaN          NaN        NaN  \n",
       "10            NaN       NaN       NaN          NaN        NaN  "
      ]
     },
     "execution_count": 8,
     "metadata": {},
     "output_type": "execute_result"
    }
   ],
   "source": [
    "data.head(20)"
   ]
  },
  {
   "cell_type": "code",
   "execution_count": 9,
   "id": "702627aa",
   "metadata": {},
   "outputs": [
    {
     "ename": "NameError",
     "evalue": "name 'df' is not defined",
     "output_type": "error",
     "traceback": [
      "\u001b[0;31m---------------------------------------------------------------------------\u001b[0m",
      "\u001b[0;31mNameError\u001b[0m                                 Traceback (most recent call last)",
      "\u001b[0;32m/var/folders/1v/zdszy15n595bb2xxfx_p9bhw0000gn/T/ipykernel_13063/2351531694.py\u001b[0m in \u001b[0;36m<module>\u001b[0;34m\u001b[0m\n\u001b[1;32m      2\u001b[0m \u001b[0mdata_plot\u001b[0m\u001b[0;34m.\u001b[0m\u001b[0mloc\u001b[0m\u001b[0;34m[\u001b[0m\u001b[0;36m0\u001b[0m\u001b[0;34m]\u001b[0m \u001b[0;34m=\u001b[0m \u001b[0mtest2\u001b[0m\u001b[0;34m\u001b[0m\u001b[0;34m\u001b[0m\u001b[0m\n\u001b[1;32m      3\u001b[0m \u001b[0mdata_plot\u001b[0m\u001b[0;34m.\u001b[0m\u001b[0mplot\u001b[0m\u001b[0;34m.\u001b[0m\u001b[0mbar\u001b[0m\u001b[0;34m(\u001b[0m\u001b[0;34m)\u001b[0m\u001b[0;34m.\u001b[0m\u001b[0mlegend\u001b[0m\u001b[0;34m(\u001b[0m\u001b[0mloc\u001b[0m\u001b[0;34m=\u001b[0m\u001b[0;34m'center left'\u001b[0m\u001b[0;34m,\u001b[0m\u001b[0mbbox_to_anchor\u001b[0m\u001b[0;34m=\u001b[0m\u001b[0;34m(\u001b[0m\u001b[0;36m1.0\u001b[0m\u001b[0;34m,\u001b[0m \u001b[0;36m0.5\u001b[0m\u001b[0;34m)\u001b[0m\u001b[0;34m)\u001b[0m\u001b[0;34m;\u001b[0m\u001b[0;34m\u001b[0m\u001b[0;34m\u001b[0m\u001b[0m\n\u001b[0;32m----> 4\u001b[0;31m \u001b[0max\u001b[0m \u001b[0;34m=\u001b[0m \u001b[0mdf\u001b[0m\u001b[0;34m.\u001b[0m\u001b[0mset_index\u001b[0m\u001b[0;34m(\u001b[0m\u001b[0;34m[\u001b[0m\u001b[0;34m'person'\u001b[0m\u001b[0;34m]\u001b[0m\u001b[0;34m)\u001b[0m\u001b[0;34m.\u001b[0m\u001b[0mplot\u001b[0m\u001b[0;34m(\u001b[0m\u001b[0mkind\u001b[0m\u001b[0;34m=\u001b[0m\u001b[0;34m'barh'\u001b[0m\u001b[0;34m,\u001b[0m \u001b[0mwidth\u001b[0m\u001b[0;34m=\u001b[0m\u001b[0;36m1.0\u001b[0m\u001b[0;34m)\u001b[0m\u001b[0;34m\u001b[0m\u001b[0;34m\u001b[0m\u001b[0m\n\u001b[0m\u001b[1;32m      5\u001b[0m \u001b[0mdata_plot\u001b[0m\u001b[0;34m.\u001b[0m\u001b[0mhead\u001b[0m\u001b[0;34m(\u001b[0m\u001b[0;34m)\u001b[0m\u001b[0;34m\u001b[0m\u001b[0;34m\u001b[0m\u001b[0m\n\u001b[1;32m      6\u001b[0m \u001b[0mdata_plot\u001b[0m\u001b[0;34m.\u001b[0m\u001b[0mplot\u001b[0m\u001b[0;34m(\u001b[0m\u001b[0mkind\u001b[0m\u001b[0;34m=\u001b[0m\u001b[0;34m\"bar\"\u001b[0m\u001b[0;34m,\u001b[0m\u001b[0mlinewidth\u001b[0m\u001b[0;34m=\u001b[0m\u001b[0;36m3\u001b[0m\u001b[0;34m)\u001b[0m\u001b[0;34m\u001b[0m\u001b[0;34m\u001b[0m\u001b[0m\n",
      "\u001b[0;31mNameError\u001b[0m: name 'df' is not defined"
     ]
    },
    {
     "data": {
      "image/png": "[encoded data removed]",
      "text/plain": [
       "<Figure size 432x288 with 1 Axes>"
      ]
     },
     "metadata": {
      "needs_background": "light"
     },
     "output_type": "display_data"
    }
   ],
   "source": [
    "data_plot = pd.DataFrame(columns=names, index=['RSME'])\n",
    "data_plot.loc[0] = test2\n",
    "data_plot.plot.bar().legend(loc='center left',bbox_to_anchor=(1.0, 0.5));\n",
    "ax = df.set_index(['person']).plot(kind='barh', width=1.0)\n",
    "data_plot.head()\n",
    "data_plot.plot(kind=\"bar\",linewidth=3)"
   ]
  },
  {
   "cell_type": "code",
   "execution_count": 10,
   "id": "8450541f",
   "metadata": {},
   "outputs": [],
   "source": [
    "df = pd.read_excel('book2.xlsx')"
   ]
  },
  {
   "cell_type": "code",
   "execution_count": 11,
   "id": "5307c98e",
   "metadata": {},
   "outputs": [
    {
     "data": {
      "image/png": "[encoded data removed]",
      "text/plain": [
       "<Figure size 432x288 with 1 Axes>"
      ]
     },
     "metadata": {
      "needs_background": "light"
     },
     "output_type": "display_data"
    }
   ],
   "source": [
    "df.plot.bar().legend(loc='center left',bbox_to_anchor=(1.0, 0.5));"
   ]
  },
  {
   "cell_type": "code",
   "execution_count": 12,
   "id": "f70d903a",
   "metadata": {},
   "outputs": [],
   "source": [
    "bar_colors = np.random.rand(len(names),3)"
   ]
  },
  {
   "cell_type": "code",
   "execution_count": 13,
   "id": "375b4207",
   "metadata": {},
   "outputs": [
    {
     "data": {
      "text/html": [
       "<div>\n",
       "<style scoped>\n",
       "    .dataframe tbody tr th:only-of-type {\n",
       "        vertical-align: middle;\n",
       "    }\n",
       "\n",
       "    .dataframe tbody tr th {\n",
       "        vertical-align: top;\n",
       "    }\n",
       "\n",
       "    .dataframe thead th {\n",
       "        text-align: right;\n",
       "    }\n",
       "</style>\n",
       "<table border=\"1\" class=\"dataframe\">\n",
       "  <thead>\n",
       "    <tr style=\"text-align: right;\">\n",
       "      <th></th>\n",
       "      <th>models</th>\n",
       "      <th>A</th>\n",
       "    </tr>\n",
       "  </thead>\n",
       "  <tbody>\n",
       "    <tr>\n",
       "      <th>0</th>\n",
       "      <td>DBMS-NonML</td>\n",
       "      <td>1868.0</td>\n",
       "    </tr>\n",
       "    <tr>\n",
       "      <th>1</th>\n",
       "      <td>SQLRE-DT</td>\n",
       "      <td>681.0</td>\n",
       "    </tr>\n",
       "    <tr>\n",
       "      <th>2</th>\n",
       "      <td>SQLRE-RF</td>\n",
       "      <td>520.0</td>\n",
       "    </tr>\n",
       "    <tr>\n",
       "      <th>3</th>\n",
       "      <td>SQLRE-XGB</td>\n",
       "      <td>189.0</td>\n",
       "    </tr>\n",
       "    <tr>\n",
       "      <th>4</th>\n",
       "      <td>SQLRE-Ridge</td>\n",
       "      <td>169.5</td>\n",
       "    </tr>\n",
       "  </tbody>\n",
       "</table>\n",
       "</div>"
      ],
      "text/plain": [
       "        models       A\n",
       "0   DBMS-NonML  1868.0\n",
       "1     SQLRE-DT   681.0\n",
       "2     SQLRE-RF   520.0\n",
       "3    SQLRE-XGB   189.0\n",
       "4  SQLRE-Ridge   169.5"
      ]
     },
     "execution_count": 13,
     "metadata": {},
     "output_type": "execute_result"
    }
   ],
   "source": [
    "data = pd.read_excel('data.xlsx')\n",
    "data.head()"
   ]
  },
  {
   "cell_type": "code",
   "execution_count": 14,
   "id": "c1daaa4b",
   "metadata": {},
   "outputs": [
    {
     "data": {
      "text/html": [
       "<div>\n",
       "<style scoped>\n",
       "    .dataframe tbody tr th:only-of-type {\n",
       "        vertical-align: middle;\n",
       "    }\n",
       "\n",
       "    .dataframe tbody tr th {\n",
       "        vertical-align: top;\n",
       "    }\n",
       "\n",
       "    .dataframe thead th {\n",
       "        text-align: right;\n",
       "    }\n",
       "</style>\n",
       "<table border=\"1\" class=\"dataframe\">\n",
       "  <thead>\n",
       "    <tr style=\"text-align: right;\">\n",
       "      <th></th>\n",
       "      <th>models</th>\n",
       "      <th>A</th>\n",
       "    </tr>\n",
       "  </thead>\n",
       "  <tbody>\n",
       "    <tr>\n",
       "      <th>0</th>\n",
       "      <td>DBMS-NonML</td>\n",
       "      <td>1868.0</td>\n",
       "    </tr>\n",
       "    <tr>\n",
       "      <th>1</th>\n",
       "      <td>SQLRE-DT</td>\n",
       "      <td>681.0</td>\n",
       "    </tr>\n",
       "    <tr>\n",
       "      <th>2</th>\n",
       "      <td>SQLRE-RF</td>\n",
       "      <td>520.0</td>\n",
       "    </tr>\n",
       "    <tr>\n",
       "      <th>3</th>\n",
       "      <td>SQLRE-XGB</td>\n",
       "      <td>189.0</td>\n",
       "    </tr>\n",
       "    <tr>\n",
       "      <th>4</th>\n",
       "      <td>SQLRE-Ridge</td>\n",
       "      <td>169.5</td>\n",
       "    </tr>\n",
       "  </tbody>\n",
       "</table>\n",
       "</div>"
      ],
      "text/plain": [
       "        models       A\n",
       "0   DBMS-NonML  1868.0\n",
       "1     SQLRE-DT   681.0\n",
       "2     SQLRE-RF   520.0\n",
       "3    SQLRE-XGB   189.0\n",
       "4  SQLRE-Ridge   169.5"
      ]
     },
     "execution_count": 14,
     "metadata": {},
     "output_type": "execute_result"
    }
   ],
   "source": [
    "data2 = pd.read_excel('book2.xlsx')\n",
    "data.head()"
   ]
  },
  {
   "cell_type": "code",
   "execution_count": null,
   "id": "cbffed85",
   "metadata": {},
   "outputs": [],
   "source": [
    "# data = data.sort_values('A').reset_index(drop=True)\n"
   ]
  },
  {
   "cell_type": "code",
   "execution_count": null,
   "id": "040bbd16",
   "metadata": {},
   "outputs": [],
   "source": [
    "\n",
    "names = data['models']\n",
    "RMSE = data['A']\n",
    "plt.xticks(rotation='vertical')\n",
    "for i in range(0, len(names) - 1):\n",
    "    plt.barh(names[i], RMSE[i], color=bar_colors[i])\n",
    "plt.title(\"TPCDS RMSE Error\")\n",
    "plt.ylabel(\"Models\")\n",
    "plt.xlabel(\"RMSE Error (MB)\")\n",
    "# fig.subplots_adjust(bottom=.5)\n",
    "plt.legend(names, loc=0, frameon=True)\n",
    "\n",
    "plt.savefig('tpcds-rmse.jpg')\n",
    "plt.show()"
   ]
  },
  {
   "cell_type": "code",
   "execution_count": null,
   "id": "ed255695",
   "metadata": {},
   "outputs": [],
   "source": [
    "column = 'B'\n",
    "# data2 = data2.sort_values(column).reset_index(drop=True)\n",
    "names = data2['models']\n",
    "values = data2[column]\n",
    "\n",
    "fig = plt.figure()\n",
    "ax = fig.add_axes([0,0,1,1])\n",
    "plt.xticks(rotation='vertical')\n",
    "\n",
    "for i in range(0, len(names) - 1):\n",
    "    plt.barh(names[i], values[i], color=bar_colors[i])\n",
    "plt.title(\"TPCDS Training Time\")\n",
    "plt.ylabel(\"Models\")\n",
    "plt.xlabel(\"Training Time(ms)\")\n",
    "# fig.subplots_adjust(bottom=.5)\n",
    "plt.legend(names, loc=0, frameon=True)\n",
    "fig.savefig('tpcds-time.jpg')\n",
    "plt.show()"
   ]
  },
  {
   "cell_type": "code",
   "execution_count": null,
   "id": "a54f971f",
   "metadata": {},
   "outputs": [],
   "source": [
    "column = 'C'\n",
    "# data2 = data2.sort_values(column).reset_index(drop=True)\n",
    "names = data2['models']\n",
    "values = data2[column]\n",
    "\n",
    "fig = plt.figure()\n",
    "ax = fig.add_axes([0,0,1,1])\n",
    "plt.xticks(rotation='vertical')\n",
    "\n",
    "for i in range(0, len(names) - 1):\n",
    "    plt.barh(names[i], values[i], color=bar_colors[i])\n",
    "plt.title(\"TPCDS Inference Time\")\n",
    "plt.ylabel(\"Models\")\n",
    "plt.xlabel(\"Inference Time (μs)\")\n",
    "# fig.subplots_adjust(bottom=.5)\n",
    "plt.legend(names, loc=0, frameon=True)\n",
    "fig.savefig('tpcds-inference.jpg')\n",
    "plt.show()"
   ]
  },
  {
   "cell_type": "code",
   "execution_count": null,
   "id": "2d5024d6",
   "metadata": {},
   "outputs": [],
   "source": [
    "column = 'D'\n",
    "# data2 = data2.sort_values(column).reset_index(drop=True)\n",
    "names = data2['models']\n",
    "values = data2[column]\n",
    "\n",
    "fig = plt.figure()\n",
    "ax = fig.add_axes([0,0,1,1])\n",
    "plt.xticks(rotation='vertical')\n",
    "\n",
    "for i in range(0, len(names) - 1):\n",
    "    plt.barh(names[i], values[i], color=bar_colors[i])\n",
    "plt.title(\"TPCDS Model Size\")\n",
    "plt.ylabel(\"Models\")\n",
    "plt.xlabel(\"Model Size(KB)\")\n",
    "# fig.subplots_adjust(bottom=.5)\n",
    "plt.legend(names, loc=0, frameon=True)\n",
    "fig.savefig('tpcds-Inference.jpg')\n",
    "plt.show()"
   ]
  },
  {
   "cell_type": "markdown",
   "id": "d1f28d33",
   "metadata": {},
   "source": [
    "# JOB"
   ]
  },
  {
   "cell_type": "code",
   "execution_count": null,
   "id": "60d10a3a",
   "metadata": {},
   "outputs": [],
   "source": [
    "data = pd.read_excel('data_job.xlsx')"
   ]
  },
  {
   "cell_type": "code",
   "execution_count": null,
   "id": "36abef6e",
   "metadata": {},
   "outputs": [],
   "source": [
    "data2 = pd.read_excel('data_job2.xlsx')"
   ]
  },
  {
   "cell_type": "code",
   "execution_count": null,
   "id": "c237fc29",
   "metadata": {},
   "outputs": [],
   "source": [
    "column = 'A'\n",
    "# data = data.sort_values(column).reset_index(drop=True)\n",
    "names = data['models']\n",
    "values = data[column]\n",
    "\n",
    "fig = plt.figure()\n",
    "ax = fig.add_axes([0,0,1,1])\n",
    "plt.xticks(rotation='vertical')\n",
    "\n",
    "for i in range(0, len(names) - 1):\n",
    "    plt.barh(names[i], RMSE[i], color=bar_colors[i])\n",
    "plt.title(\"JOB RMSE Error\")\n",
    "plt.ylabel(\"Models\")\n",
    "plt.xlabel(\"RMSE Error (MB)\")\n",
    "# fig.subplots_adjust(bottom=.5)\n",
    "plt.legend(names, loc=0, frameon=True)\n",
    "fig.savefig('job-rmse.jpg')\n",
    "plt.show()"
   ]
  },
  {
   "cell_type": "code",
   "execution_count": null,
   "id": "a5308911",
   "metadata": {},
   "outputs": [],
   "source": [
    "column = 'B'\n",
    "# data2 = data2.sort_values(column).reset_index(drop=True)\n",
    "names = data2['models']\n",
    "values = data2[column]\n",
    "\n",
    "fig = plt.figure()\n",
    "ax = fig.add_axes([0,0,1,1])\n",
    "plt.xticks(rotation='vertical')\n",
    "\n",
    "for i in range(0, len(names) - 1):\n",
    "    plt.barh(names[i], values[i], color=bar_colors[i])\n",
    "plt.title(\"JOB Training Time\")\n",
    "plt.ylabel(\"Models\")\n",
    "plt.xlabel(\"Training Time(ms)\")\n",
    "# fig.subplots_adjust(bottom=.5)\n",
    "plt.legend(names, loc=0, frameon=True)\n",
    "fig.savefig('job-training.jpg')\n",
    "plt.show()"
   ]
  },
  {
   "cell_type": "code",
   "execution_count": null,
   "id": "a4be98e2",
   "metadata": {},
   "outputs": [],
   "source": [
    "column = 'C'\n",
    "# data2 = data2.sort_values(column).reset_index(drop=True)\n",
    "names = data2['models']\n",
    "values = data2[column]\n",
    "\n",
    "fig = plt.figure()\n",
    "ax = fig.add_axes([0,0,1,1])\n",
    "plt.xticks(rotation='vertical')\n",
    "\n",
    "for i in range(0, len(names) - 1):\n",
    "    plt.barh(names[i], values[i], color=bar_colors[i])\n",
    "plt.title(\"JOB Inference Time\")\n",
    "plt.ylabel(\"Models\")\n",
    "plt.xlabel(\"Inference Time (μs)\")\n",
    "# fig.subplots_adjust(bottom=.5)\n",
    "plt.legend(names, loc=0, frameon=True)\n",
    "fig.savefig('job-inference.jpg')\n",
    "plt.show()"
   ]
  },
  {
   "cell_type": "code",
   "execution_count": null,
   "id": "700247b5",
   "metadata": {},
   "outputs": [],
   "source": [
    "column = 'D'\n",
    "# data2 = data2.sort_values(column).reset_index(drop=True)\n",
    "names = data2['models']\n",
    "values = data2[column]\n",
    "\n",
    "fig = plt.figure()\n",
    "ax = fig.add_axes([0,0,1,1])\n",
    "plt.xticks(rotation='vertical')\n",
    "\n",
    "for i in range(0, len(names) - 1):\n",
    "    plt.barh(names[i], values[i], color=bar_colors[i])\n",
    "plt.title(\"JOB Model Size\")\n",
    "plt.ylabel(\"Models\")\n",
    "plt.xlabel(\"Model Size(KB)\")\n",
    "# fig.subplots_adjust(bottom=.5)\n",
    "plt.legend(names, loc=0, frameon=True)\n",
    "fig.savefig('job-size.jpg')\n",
    "plt.show()"
   ]
  },
  {
   "cell_type": "code",
   "execution_count": null,
   "id": "0d064701",
   "metadata": {},
   "outputs": [],
   "source": [
    "other"
   ]
  }
 ],
 "metadata": {
  "kernelspec": {
   "display_name": "Python 3",
   "language": "python",
   "name": "python3"
  },
  "language_info": {
   "codemirror_mode": {
    "name": "ipython",
    "version": 3
   },
   "file_extension": ".py",
   "mimetype": "text/x-python",
   "name": "python",
   "nbconvert_exporter": "python",
   "pygments_lexer": "ipython3",
   "version": "3.8.8"
  }
 },
 "nbformat": 4,
 "nbformat_minor": 5
}
