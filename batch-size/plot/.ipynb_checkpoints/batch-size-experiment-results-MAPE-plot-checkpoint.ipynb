{
 "cells": [
  {
   "cell_type": "code",
   "execution_count": 1,
   "id": "03fd0bbd",
   "metadata": {},
   "outputs": [],
   "source": [
    "import matplotlib.pyplot as plt\n",
    "import numpy as np\n",
    "import pandas as pd"
   ]
  },
  {
   "cell_type": "code",
   "execution_count": 27,
   "id": "740eecff",
   "metadata": {},
   "outputs": [],
   "source": [
    "names= ['LearnedWMP-DT','LearnedWMP-RF','LearnedWMP-XGB','LearnedWMP-Ridge','LearnedWMP-DNN',\n",
    "        'SingleWMP-DT','SingleWMP-RF','SingleWMP-XGB','SingleWMP-Ridge','SingleWMP-DNN',\n",
    "        'SingleWMP-DBMS']"
   ]
  },
  {
   "cell_type": "code",
   "execution_count": 28,
   "id": "bd6f5941",
   "metadata": {},
   "outputs": [],
   "source": [
    "bar_colors = ['green', 'green', 'green', 'green', 'green',\n",
    "         'blue', 'blue', 'blue', 'blue', 'blue',\n",
    "             'blue']"
   ]
  },
  {
   "cell_type": "code",
   "execution_count": 29,
   "id": "cff501de",
   "metadata": {},
   "outputs": [],
   "source": [
    "#bar_colors = np.random.rand(len(names),3)"
   ]
  },
  {
   "cell_type": "code",
   "execution_count": 30,
   "id": "2ee14b47",
   "metadata": {},
   "outputs": [
    {
     "data": {
      "text/plain": [
       "['green',\n",
       " 'green',\n",
       " 'green',\n",
       " 'green',\n",
       " 'green',\n",
       " 'blue',\n",
       " 'blue',\n",
       " 'blue',\n",
       " 'blue',\n",
       " 'blue',\n",
       " 'blue']"
      ]
     },
     "execution_count": 30,
     "metadata": {},
     "output_type": "execute_result"
    }
   ],
   "source": [
    "bar_colors"
   ]
  },
  {
   "cell_type": "markdown",
   "id": "25df9dea",
   "metadata": {},
   "source": [
    "# RMSE"
   ]
  },
  {
   "cell_type": "markdown",
   "id": "1bc3c799",
   "metadata": {},
   "source": [
    "## TPC-DS"
   ]
  },
  {
   "cell_type": "code",
   "execution_count": 31,
   "id": "c1daaa4b",
   "metadata": {},
   "outputs": [],
   "source": [
    "data = pd.read_excel('data.xlsx')"
   ]
  },
  {
   "cell_type": "markdown",
   "id": "5eb70438",
   "metadata": {},
   "source": [
    "I was earlier getting an error from running the above line of code: \"ImportError: Missing optional dependency 'openpyxl'\"\n",
    "\n",
    "I first tried to solve this issue by installing this package with conda install openpyxl. It didn't solve the issue. Then tried this installation using the following command, which solved the problem:\n",
    "\n",
    "conda install -c anaconda openpyxl\n",
    "\n",
    "ref: https://stackoverflow.com/questions/34509198/no-module-named-openpyxl-python-3-4-ubuntu"
   ]
  },
  {
   "cell_type": "code",
   "execution_count": 32,
   "id": "a7033fce",
   "metadata": {},
   "outputs": [
    {
     "data": {
      "image/png": "[encoded data removed]",
      "text/plain": [
       "<Figure size 432x288 with 1 Axes>"
      ]
     },
     "metadata": {
      "needs_background": "light"
     },
     "output_type": "display_data"
    }
   ],
   "source": [
    "column = 'A'\n",
    "# data = data.sort_values(column).reset_index(drop=True)\n",
    "names = data['models']\n",
    "values = data[column]\n",
    "\n",
    "fig, ax = plt.subplots()\n",
    "fig.set_tight_layout(True)\n",
    "\n",
    "bars = ax.barh(names, values, color=bar_colors)\n",
    "\n",
    "ax.spines.right.set_visible(False)\n",
    "ax.spines.top.set_visible(False)\n",
    "\n",
    "for bar in bars:\n",
    "  width = bar.get_width() #Previously we got the height\n",
    "  label_y_pos = bar.get_y() + bar.get_height() / 2\n",
    "  ax.text(width, label_y_pos, s=f'{width}', va='center')\n",
    "\n",
    "plt.ylabel(\"Model\")\n",
    "plt.xlabel(\"RMSE (mb)\")\n",
    "fig.savefig('TPCDS-RMSE Error.png', bbox_inches='tight', dpi=300)\n",
    "plt.show()"
   ]
  },
  {
   "cell_type": "markdown",
   "id": "5f7de60b",
   "metadata": {},
   "source": [
    "## JOB"
   ]
  },
  {
   "cell_type": "code",
   "execution_count": null,
   "id": "f3768426",
   "metadata": {},
   "outputs": [],
   "source": [
    "data = pd.read_excel('data_job.xlsx')"
   ]
  },
  {
   "cell_type": "code",
   "execution_count": null,
   "id": "394089f6",
   "metadata": {},
   "outputs": [],
   "source": [
    "column = 'A'\n",
    "# data = data.sort_values(column).reset_index(drop=True)\n",
    "names = data['models']\n",
    "values = data[column]\n",
    "\n",
    "fig, ax = plt.subplots()\n",
    "fig.set_tight_layout(True)\n",
    "bars = ax.barh(names, values, color=bar_colors)\n",
    "\n",
    "ax.spines.right.set_visible(False)\n",
    "ax.spines.top.set_visible(False)\n",
    "\n",
    "for bar in bars:\n",
    "  width = bar.get_width() #Previously we got the height\n",
    "  label_y_pos = bar.get_y() + bar.get_height() / 2\n",
    "  ax.text(width, label_y_pos, s=f'{width}', va='center')\n",
    "\n",
    "plt.ylabel(\"Model\")\n",
    "plt.xlabel(\"RMSE (mb)\")\n",
    "fig.savefig('JOB-RMSE Error.png', bbox_inches='tight', dpi=300)\n",
    "plt.show()"
   ]
  },
  {
   "cell_type": "markdown",
   "id": "1c394f1b",
   "metadata": {},
   "source": [
    "# Training Latency"
   ]
  },
  {
   "cell_type": "markdown",
   "id": "9bf0433a",
   "metadata": {},
   "source": [
    "## TPC-DS"
   ]
  },
  {
   "cell_type": "code",
   "execution_count": null,
   "id": "cfa8ad97",
   "metadata": {},
   "outputs": [],
   "source": [
    "data2 = pd.read_excel('book2.xlsx')"
   ]
  },
  {
   "cell_type": "code",
   "execution_count": null,
   "id": "9cc3a458",
   "metadata": {},
   "outputs": [],
   "source": [
    "column = 'B'\n",
    "# data = data.sort_values(column).reset_index(drop=True)\n",
    "names = data2['models']\n",
    "values = data2[column]\n",
    "\n",
    "fig, ax = plt.subplots()\n",
    "fig.set_tight_layout(True)\n",
    "bars = ax.barh(names, values, color=bar_colors)\n",
    "\n",
    "ax.spines.right.set_visible(False)\n",
    "ax.spines.top.set_visible(False)\n",
    "\n",
    "for bar in bars:\n",
    "  width = bar.get_width() #Previously we got the height\n",
    "  label_y_pos = bar.get_y() + bar.get_height() / 2\n",
    "  ax.text(width, label_y_pos, s=f'{width}', va='center')\n",
    "\n",
    "plt.ylabel(\"Model\")\n",
    "plt.xlabel(\"Time (ms)\")\n",
    "fig.savefig('TPCDS-Training Time.png', bbox_inches='tight', dpi=300)\n",
    "plt.show()"
   ]
  },
  {
   "cell_type": "markdown",
   "id": "f348b773",
   "metadata": {},
   "source": [
    "## JOB"
   ]
  },
  {
   "cell_type": "code",
   "execution_count": null,
   "id": "71fb27de",
   "metadata": {},
   "outputs": [],
   "source": [
    "data2 = pd.read_excel('data_job2.xlsx')"
   ]
  },
  {
   "cell_type": "code",
   "execution_count": null,
   "id": "45b4c2f9",
   "metadata": {},
   "outputs": [],
   "source": [
    "column = 'B'\n",
    "# data = data.sort_values(column).reset_index(drop=True)\n",
    "names = data2['models']\n",
    "values = data2[column]\n",
    "\n",
    "fig, ax = plt.subplots()\n",
    "fig.set_tight_layout(True)\n",
    "bars = ax.barh(names, values, color=bar_colors)\n",
    "\n",
    "ax.spines.right.set_visible(False)\n",
    "ax.spines.top.set_visible(False)\n",
    "\n",
    "for bar in bars:\n",
    "  width = bar.get_width() #Previously we got the height\n",
    "  label_y_pos = bar.get_y() + bar.get_height() / 2\n",
    "  ax.text(width, label_y_pos, s=f'{width}', va='center')\n",
    "\n",
    "\n",
    "plt.ylabel(\"Model\")\n",
    "plt.xlabel(\"Time (ms)\")\n",
    "\n",
    "fig.savefig('JOB-Training Time.png', bbox_inches='tight', dpi=300)\n",
    "plt.show()"
   ]
  },
  {
   "cell_type": "markdown",
   "id": "e1c36cce",
   "metadata": {},
   "source": [
    "# Inference Latency"
   ]
  },
  {
   "cell_type": "markdown",
   "id": "abfa493c",
   "metadata": {},
   "source": [
    "## TPC-DS"
   ]
  },
  {
   "cell_type": "code",
   "execution_count": null,
   "id": "0bac7b12",
   "metadata": {},
   "outputs": [],
   "source": [
    "data2 = pd.read_excel('book2.xlsx')"
   ]
  },
  {
   "cell_type": "code",
   "execution_count": null,
   "id": "f87bea2e",
   "metadata": {},
   "outputs": [],
   "source": [
    "column = 'C'\n",
    "# data2 = data2.sort_values(column).reset_index(drop=True)\n",
    "names = data2['models']\n",
    "values = data2[column]\n",
    "\n",
    "fig, ax = plt.subplots()\n",
    "fig.set_tight_layout(True)\n",
    "bars = ax.barh(names, values, color=bar_colors)\n",
    "\n",
    "ax.spines.right.set_visible(False)\n",
    "ax.spines.top.set_visible(False)\n",
    "\n",
    "for bar in bars:\n",
    "  width = bar.get_width() #Previously we got the height\n",
    "  label_y_pos = bar.get_y() + bar.get_height() / 2\n",
    "  ax.text(width, label_y_pos, s=f'{width}', va='center')\n",
    "\n",
    "plt.ylabel(\"Model\")\n",
    "plt.xlabel(\"Time (μs)\")\n",
    "\n",
    "fig.savefig('TPCDS-Inference Time.png', bbox_inches='tight', dpi=300)\n",
    "plt.show()"
   ]
  },
  {
   "cell_type": "markdown",
   "id": "d82f5eed",
   "metadata": {},
   "source": [
    "# JOB"
   ]
  },
  {
   "cell_type": "code",
   "execution_count": null,
   "id": "853890a9",
   "metadata": {},
   "outputs": [],
   "source": [
    "data2 = pd.read_excel('data_job2.xlsx')"
   ]
  },
  {
   "cell_type": "code",
   "execution_count": null,
   "id": "4ad28885",
   "metadata": {},
   "outputs": [],
   "source": [
    "column = 'C'\n",
    "# data2 = data2.sort_values(column).reset_index(drop=True)\n",
    "names = data2['models']\n",
    "values = data2[column]\n",
    "\n",
    "fig, ax = plt.subplots()\n",
    "fig.set_tight_layout(True)\n",
    "bars = ax.barh(names, values, color=bar_colors)\n",
    "\n",
    "ax.spines.right.set_visible(False)\n",
    "ax.spines.top.set_visible(False)\n",
    "\n",
    "for bar in bars:\n",
    "  width = bar.get_width() #Previously we got the height\n",
    "  label_y_pos = bar.get_y() + bar.get_height() / 2\n",
    "  ax.text(width, label_y_pos, s=f'{width}', va='center')\n",
    "\n",
    "\n",
    "plt.ylabel(\"Model\")\n",
    "plt.xlabel(\"Time (μs)\")\n",
    "\n",
    "fig.savefig('JOB-Inference Time.png', bbox_inches='tight', dpi=300)\n",
    "plt.show()"
   ]
  },
  {
   "cell_type": "markdown",
   "id": "bc9e1004",
   "metadata": {},
   "source": [
    "# Model Size"
   ]
  },
  {
   "cell_type": "markdown",
   "id": "b9e28d05",
   "metadata": {},
   "source": [
    "## TPC-DS"
   ]
  },
  {
   "cell_type": "code",
   "execution_count": null,
   "id": "888422f7",
   "metadata": {},
   "outputs": [],
   "source": [
    "data2 = pd.read_excel('book2.xlsx')"
   ]
  },
  {
   "cell_type": "code",
   "execution_count": null,
   "id": "19f57097",
   "metadata": {},
   "outputs": [],
   "source": [
    "column = 'D'\n",
    "# data2 = data2.sort_values(column).reset_index(drop=True)\n",
    "names = data2['models']\n",
    "values = data2[column]\n",
    "\n",
    "fig, ax = plt.subplots()\n",
    "fig.set_tight_layout(True)\n",
    "bars = ax.barh(names, values, color=bar_colors)\n",
    "\n",
    "ax.spines.right.set_visible(False)\n",
    "ax.spines.top.set_visible(False)\n",
    "\n",
    "for bar in bars:\n",
    "  width = bar.get_width() #Previously we got the height\n",
    "  label_y_pos = bar.get_y() + bar.get_height() / 2\n",
    "  ax.text(width, label_y_pos, s=f'{width}', va='center')\n",
    "\n",
    "plt.ylabel(\"Modes\")\n",
    "plt.xlabel(\"Size (kb)\")\n",
    "\n",
    "fig.savefig('TPCDS-Model Size.png', bbox_inches='tight', dpi=300)\n",
    "plt.show()"
   ]
  },
  {
   "cell_type": "markdown",
   "id": "cef07462",
   "metadata": {},
   "source": [
    "## JOB"
   ]
  },
  {
   "cell_type": "code",
   "execution_count": null,
   "id": "66d728ec",
   "metadata": {},
   "outputs": [],
   "source": [
    "data2 = pd.read_excel('data_job2.xlsx')"
   ]
  },
  {
   "cell_type": "code",
   "execution_count": null,
   "id": "94ba3682",
   "metadata": {},
   "outputs": [],
   "source": [
    "column = 'D'\n",
    "names = data2['models']\n",
    "values = data2[column]\n",
    "\n",
    "fig, ax = plt.subplots()\n",
    "fig.set_tight_layout(True)\n",
    "bars = ax.barh(names, values, color=bar_colors)\n",
    "\n",
    "ax.spines.right.set_visible(False)\n",
    "ax.spines.top.set_visible(False)\n",
    "\n",
    "for bar in bars:\n",
    "  width = bar.get_width() #Previously we got the height\n",
    "  label_y_pos = bar.get_y() + bar.get_height() / 2\n",
    "  ax.text(width, label_y_pos, s=f'{width}', va='center')\n",
    "\n",
    "plt.ylabel(\"Model\")\n",
    "plt.xlabel(\"Size (kb)\")\n",
    "\n",
    "fig.savefig('JOB-Model Size.png', bbox_inches='tight', dpi=300)\n",
    "plt.show()"
   ]
  },
  {
   "cell_type": "code",
   "execution_count": null,
   "id": "d1e7f315",
   "metadata": {},
   "outputs": [],
   "source": [
    "data2"
   ]
  },
  {
   "cell_type": "markdown",
   "id": "e4c80c3c",
   "metadata": {},
   "source": [
    "# Batch sizes"
   ]
  },
  {
   "cell_type": "code",
   "execution_count": 42,
   "id": "7c3885ec",
   "metadata": {},
   "outputs": [],
   "source": [
    "df_batches = pd.read_excel('batchsize.xlsx')"
   ]
  },
  {
   "cell_type": "code",
   "execution_count": 16,
   "id": "9bb8f4db",
   "metadata": {},
   "outputs": [
    {
     "data": {
      "image/png": "[encoded data removed]",
      "text/plain": [
       "<Figure size 432x288 with 1 Axes>"
      ]
     },
     "metadata": {
      "needs_background": "light"
     },
     "output_type": "display_data"
    }
   ],
   "source": [
    "import matplotlib.pyplot as plt\n",
    "\n",
    "batch_sizes = df_batches['Batch_Size']\n",
    "mapes = df_batches['MAPE']\n",
    "\n",
    "#plt.figure(figsize=(12,12))\n",
    "\n",
    "fig, ax = plt.subplots()\n",
    "fig.set_tight_layout(True)\n",
    "\n",
    "bars = ax.bar(batch_sizes, mapes)\n",
    "#plt.xticks(batch_sizes)\n",
    "\n",
    "#fig, ax = plt.subplots()\n",
    "#fig.set_tight_layout(True)\n",
    "#bars = ax.bar(names, values, color=bar_colors)\n",
    "\n",
    "#ax.spines.right.set_visible(False)\n",
    "#ax.spines.top.set_visible(False)\n",
    "\n",
    "#for bar in bars:\n",
    " # width = bar.get_width() #Previously we got the height\n",
    " # label_y_pos = bar.get_y() + bar.get_height() / 2\n",
    " # ax.text(width, label_y_pos, s=f'{width}', va='center')\n",
    "\n",
    "#plt.ylabel(\"Batch Size\")\n",
    "#plt.xlabel(\"MAPE\")\n",
    "\n",
    "#fig.savefig('Batch Size MAPE.png', bbox_inches='tight', dpi=300)\n",
    "plt.show()"
   ]
  },
  {
   "cell_type": "code",
   "execution_count": null,
   "id": "6b4716ef",
   "metadata": {},
   "outputs": [],
   "source": [
    "values"
   ]
  },
  {
   "cell_type": "code",
   "execution_count": 23,
   "id": "2c0e26cf",
   "metadata": {},
   "outputs": [
    {
     "data": {
      "image/png": "[encoded data removed]",
      "text/plain": [
       "<Figure size 432x288 with 1 Axes>"
      ]
     },
     "metadata": {
      "needs_background": "light"
     },
     "output_type": "display_data"
    }
   ],
   "source": [
    "# ref: https://www.python-graph-gallery.com/5-control-width-and-space-in-barplots\n",
    "mapes = df_batches['MAPE']\n",
    "batch_sizes = df_batches['Batch_Size']\n",
    "\n",
    "x_pos = [0, 1, 2, 3, 4, 5, 6, 7, 8, 9, 10]\n",
    "\n",
    "plt.bar(x_pos, mapes)\n",
    "\n",
    "plt.xticks(x_pos, batch_sizes)\n",
    "\n",
    "plt.xlabel(\"Batch Size\")\n",
    "plt.ylabel(\"MAPE\")\n",
    "\n",
    "plt.show()"
   ]
  },
  {
   "cell_type": "code",
   "execution_count": 71,
   "id": "40f494e6",
   "metadata": {},
   "outputs": [],
   "source": [
    "df_batches = pd.read_excel('batchsize_3.xlsx')"
   ]
  },
  {
   "cell_type": "code",
   "execution_count": 74,
   "id": "503fa6fd",
   "metadata": {},
   "outputs": [
    {
     "data": {
      "image/png": "[encoded data removed]",
      "text/plain": [
       "<Figure size 432x288 with 1 Axes>"
      ]
     },
     "metadata": {
      "needs_background": "light"
     },
     "output_type": "display_data"
    }
   ],
   "source": [
    "# ref: https://www.python-graph-gallery.com/5-control-width-and-space-in-barplots\n",
    "mapes = df_batches['MAPE']\n",
    "batch_sizes = df_batches['Batch_Size']\n",
    "#labels = df_batches['Label']\n",
    "\n",
    "x_pos = [0, 1, 2, 3, 4, 5, 6, 7, 8, 9, 10, 11, 12, 13]\n",
    "\n",
    "fig, ax = plt.subplots()\n",
    "fig.set_tight_layout(True)\n",
    "\n",
    "bars = ax.bar(x_pos, mapes)\n",
    "\n",
    "ax.spines.right.set_visible(False)\n",
    "ax.spines.top.set_visible(False)\n",
    "\n",
    "plt.xticks(x_pos, batch_sizes)\n",
    "\n",
    "# https://stackoverflow.com/questions/72970649/how-to-label-bars-with-multiple-custom-values\n",
    "for c in ax.containers:\n",
    "    #print(c)\n",
    "    ax.bar_label(c, label_type='edge', padding=1)\n",
    "\n",
    "plt.xlabel(\"Batch Size\", labelpad=10)\n",
    "#rotation: https://stackoverflow.com/questions/42100114/rotating-title-of-y-axis-to-be-horizontal-in-matplotlib\n",
    "# labelpad: https://stackoverflow.com/questions/21539018/how-to-change-separation-between-tick-labels-and-axis-labels-in-matplotlib\n",
    "plt.ylabel(\"MAPE (%)\", rotation=0, labelpad=25)\n",
    "\n",
    "fig.savefig('Batch Sizes.png', bbox_inches='tight', dpi=300)\n",
    "\n",
    "plt.show()"
   ]
  },
  {
   "cell_type": "code",
   "execution_count": null,
   "id": "ecffe642",
   "metadata": {},
   "outputs": [],
   "source": []
  }
 ],
 "metadata": {
  "kernelspec": {
   "display_name": "Python 3 (ipykernel)",
   "language": "python",
   "name": "python3"
  },
  "language_info": {
   "codemirror_mode": {
    "name": "ipython",
    "version": 3
   },
   "file_extension": ".py",
   "mimetype": "text/x-python",
   "name": "python",
   "nbconvert_exporter": "python",
   "pygments_lexer": "ipython3",
   "version": "3.9.7"
  }
 },
 "nbformat": 4,
 "nbformat_minor": 5
}
