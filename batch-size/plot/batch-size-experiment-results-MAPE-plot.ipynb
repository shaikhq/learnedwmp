{
 "cells": [
  {
   "cell_type": "code",
   "execution_count": 1,
   "id": "03fd0bbd",
   "metadata": {},
   "outputs": [],
   "source": [
    "import matplotlib.pyplot as plt\n",
    "import numpy as np\n",
    "import pandas as pd"
   ]
  },
  {
   "cell_type": "code",
   "execution_count": 2,
   "id": "40f494e6",
   "metadata": {},
   "outputs": [],
   "source": [
    "df_batches = pd.read_excel('batchsize_4.xlsx')"
   ]
  },
  {
   "cell_type": "code",
   "execution_count": 3,
   "id": "503fa6fd",
   "metadata": {},
   "outputs": [
    {
     "data": {
      "image/png": "[encoded data removed]",
      "text/plain": [
       "<Figure size 504x180 with 1 Axes>"
      ]
     },
     "metadata": {
      "needs_background": "light"
     },
     "output_type": "display_data"
    }
   ],
   "source": [
    "# ref: https://www.python-graph-gallery.com/5-control-width-and-space-in-barplots\n",
    "mapes = df_batches['MAPE']\n",
    "batch_sizes = df_batches['Batch_Size']\n",
    "#labels = df_batches['Label']\n",
    "\n",
    "x_pos = [0, 1, 2, 3, 4, 5, 6, 7, 8, 9, 10, 11, 12]\n",
    "\n",
    "fig, ax = plt.subplots()\n",
    "fig.set_tight_layout(True)\n",
    "\n",
    "width = 7\n",
    "height = 2.5\n",
    "fig.set_size_inches(width, height)\n",
    "\n",
    "bars = ax.bar(x_pos, mapes, fill=False, hatch='ooo')\n",
    "\n",
    "ax.spines.right.set_visible(False)\n",
    "ax.spines.top.set_visible(False)\n",
    "\n",
    "plt.xticks(x_pos, batch_sizes)\n",
    "\n",
    "# https://stackoverflow.com/questions/72970649/how-to-label-bars-with-multiple-custom-values\n",
    "for c in ax.containers:\n",
    "    #print(c)\n",
    "    ax.bar_label(c, label_type='edge', padding=1, fontsize=11, fontstyle='italic')\n",
    "\n",
    "ax.tick_params(axis='both', which='major', labelsize=12)\n",
    "\n",
    "plt.xlabel(\"Batch Size\", labelpad=5, fontsize=15)\n",
    "#rotation: https://stackoverflow.com/questions/42100114/rotating-title-of-y-axis-to-be-horizontal-in-matplotlib\n",
    "# labelpad: https://stackoverflow.com/questions/21539018/how-to-change-separation-between-tick-labels-and-axis-labels-in-matplotlib\n",
    "plt.ylabel(\"MAPE (%)\", labelpad=5, fontsize=15)\n",
    "\n",
    "fig.savefig('Batch Sizes.png', bbox_inches='tight', dpi=300)\n",
    "\n",
    "plt.show()"
   ]
  },
  {
   "cell_type": "code",
   "execution_count": null,
   "id": "73a6e7bb",
   "metadata": {},
   "outputs": [],
   "source": []
  }
 ],
 "metadata": {
  "kernelspec": {
   "display_name": "Python 3 (ipykernel)",
   "language": "python",
   "name": "python3"
  },
  "language_info": {
   "codemirror_mode": {
    "name": "ipython",
    "version": 3
   },
   "file_extension": ".py",
   "mimetype": "text/x-python",
   "name": "python",
   "nbconvert_exporter": "python",
   "pygments_lexer": "ipython3",
   "version": "3.8.13"
  }
 },
 "nbformat": 4,
 "nbformat_minor": 5
}
